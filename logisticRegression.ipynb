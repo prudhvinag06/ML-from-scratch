{
 "cells": [
  {
   "cell_type": "code",
   "execution_count": 349,
   "id": "f922c3b0",
   "metadata": {},
   "outputs": [],
   "source": [
    "import pandas as pd\n",
    "import numpy as np\n",
    "import seaborn as sns\n",
    "import matplotlib.pyplot as plt"
   ]
  },
  {
   "cell_type": "code",
   "execution_count": 350,
   "id": "a664793f",
   "metadata": {},
   "outputs": [],
   "source": [
    "def model(x, y, theta, learning_rate, iterations):\n",
    "    cost_list = []\n",
    "    for _ in range(iterations):\n",
    "        pred=(x@theta)\n",
    "        pred=1/(1 + np.exp(-pred))\n",
    "        error=pred-y\n",
    "        #print(error.values)\n",
    "        grads=(1/x.shape[0])*(x.T@error)\n",
    "        theta = np.subtract(theta,learning_rate * grads)\n",
    "    return theta\n",
    "\n",
    "def compute_cost(X, y, theta):\n",
    "    x_dot_theta = X.dot(theta)\n",
    "    J = 1.0 / len(X) * (-y.T.dot(np.log(sigmoid(x_dot_theta))) - (1 - y).T.dot(np.log(1 - sigmoid(x_dot_theta))))\n",
    "    return J\n",
    "\n",
    "def sigmoid(z):\n",
    "    g = 1 / (1 + np.exp(-z))\n",
    "    return g\n",
    "\n",
    "def compute_cost(X, y, theta):\n",
    "    x_dot_theta = X.dot(theta)\n",
    "    J = 1.0 / m * (-y.T.dot(np.log(sigmoid(x_dot_theta))) - (1 - y).T.dot(np.log(1 - sigmoid(x_dot_theta))))\n",
    "\n",
    "    return J\n"
   ]
  },
  {
   "cell_type": "code",
   "execution_count": 351,
   "id": "be79103d",
   "metadata": {},
   "outputs": [],
   "source": [
    "                                    #Data preprocessing stage"
   ]
  },
  {
   "cell_type": "code",
   "execution_count": 352,
   "id": "ee42c5a1",
   "metadata": {},
   "outputs": [],
   "source": [
    "main_df = pd.read_csv(\"census_income.csv\")\n",
    "main_df\n",
    "num_col = main_df.select_dtypes(exclude=[\"object_\"])\n",
    "cat_col = main_df.select_dtypes(exclude=[\"number\"])"
   ]
  },
  {
   "cell_type": "code",
   "execution_count": 353,
   "id": "f644668e",
   "metadata": {},
   "outputs": [
    {
     "name": "stdout",
     "output_type": "stream",
     "text": [
      "(17841, 5)\n",
      "(17841, 9)\n"
     ]
    }
   ],
   "source": [
    "print(num_col.shape)\n",
    "print(cat_col.shape)"
   ]
  },
  {
   "cell_type": "code",
   "execution_count": 354,
   "id": "511a050b",
   "metadata": {},
   "outputs": [
    {
     "name": "stdout",
     "output_type": "stream",
     "text": [
      "(17841, 14)\n",
      "age                int64\n",
      "workclass         object\n",
      "education         object\n",
      "education-num      int64\n",
      "marital-status    object\n",
      "occupation        object\n",
      "relationship      object\n",
      "race              object\n",
      "sex               object\n",
      "capital-gain       int64\n",
      "capital-loss       int64\n",
      "hours-per-week     int64\n",
      "native-country    object\n",
      "income            object\n",
      "dtype: object\n"
     ]
    }
   ],
   "source": [
    "print(main_df.shape)\n",
    "print(main_df.dtypes)"
   ]
  },
  {
   "cell_type": "code",
   "execution_count": 355,
   "id": "aa3ac4a7",
   "metadata": {},
   "outputs": [
    {
     "data": {
      "text/plain": [
       "age               0\n",
       "workclass         0\n",
       "education         0\n",
       "education-num     0\n",
       "marital-status    0\n",
       "occupation        0\n",
       "relationship      0\n",
       "race              0\n",
       "sex               0\n",
       "capital-gain      0\n",
       "capital-loss      0\n",
       "hours-per-week    0\n",
       "native-country    0\n",
       "income            0\n",
       "dtype: int64"
      ]
     },
     "execution_count": 355,
     "metadata": {},
     "output_type": "execute_result"
    }
   ],
   "source": [
    "main_df.isnull().sum()  #we have no null values "
   ]
  },
  {
   "cell_type": "code",
   "execution_count": 356,
   "id": "9dc2265d",
   "metadata": {},
   "outputs": [
    {
     "name": "stdout",
     "output_type": "stream",
     "text": [
      "Categorial Data :  Index(['workclass', 'education', 'marital-status', 'occupation',\n",
      "       'relationship', 'race', 'sex', 'native-country', 'income'],\n",
      "      dtype='object')\n",
      "Numeric Data :  Index(['age', 'education-num', 'capital-gain', 'capital-loss',\n",
      "       'hours-per-week'],\n",
      "      dtype='object')\n"
     ]
    }
   ],
   "source": [
    "print(\"Categorial Data : \", cat_col.columns)\n",
    "print(\"Numeric Data : \", num_col.columns)"
   ]
  },
  {
   "cell_type": "code",
   "execution_count": 357,
   "id": "2c890895",
   "metadata": {},
   "outputs": [
    {
     "data": {
      "text/plain": [
       "age                70\n",
       "workclass           9\n",
       "education          16\n",
       "education-num      16\n",
       "marital-status      7\n",
       "occupation         15\n",
       "relationship        6\n",
       "race                5\n",
       "sex                 2\n",
       "capital-gain      105\n",
       "capital-loss       82\n",
       "hours-per-week     91\n",
       "native-country     40\n",
       "income              2\n",
       "dtype: int64"
      ]
     },
     "execution_count": 357,
     "metadata": {},
     "output_type": "execute_result"
    }
   ],
   "source": [
    "main_df.nunique()"
   ]
  },
  {
   "cell_type": "code",
   "execution_count": 358,
   "id": "b96ba41a",
   "metadata": {},
   "outputs": [
    {
     "data": {
      "text/html": [
       "<div>\n",
       "<style scoped>\n",
       "    .dataframe tbody tr th:only-of-type {\n",
       "        vertical-align: middle;\n",
       "    }\n",
       "\n",
       "    .dataframe tbody tr th {\n",
       "        vertical-align: top;\n",
       "    }\n",
       "\n",
       "    .dataframe thead th {\n",
       "        text-align: right;\n",
       "    }\n",
       "</style>\n",
       "<table border=\"1\" class=\"dataframe\">\n",
       "  <thead>\n",
       "    <tr style=\"text-align: right;\">\n",
       "      <th></th>\n",
       "      <th>age</th>\n",
       "      <th>education-num</th>\n",
       "      <th>capital-gain</th>\n",
       "      <th>capital-loss</th>\n",
       "      <th>hours-per-week</th>\n",
       "    </tr>\n",
       "  </thead>\n",
       "  <tbody>\n",
       "    <tr>\n",
       "      <th>count</th>\n",
       "      <td>17841.000000</td>\n",
       "      <td>17841.000000</td>\n",
       "      <td>17841.000000</td>\n",
       "      <td>17841.000000</td>\n",
       "      <td>17841.000000</td>\n",
       "    </tr>\n",
       "    <tr>\n",
       "      <th>mean</th>\n",
       "      <td>40.016759</td>\n",
       "      <td>10.484054</td>\n",
       "      <td>1841.885825</td>\n",
       "      <td>116.625357</td>\n",
       "      <td>41.802926</td>\n",
       "    </tr>\n",
       "    <tr>\n",
       "      <th>std</th>\n",
       "      <td>13.033215</td>\n",
       "      <td>2.599928</td>\n",
       "      <td>9867.217768</td>\n",
       "      <td>465.333031</td>\n",
       "      <td>12.184754</td>\n",
       "    </tr>\n",
       "    <tr>\n",
       "      <th>min</th>\n",
       "      <td>17.000000</td>\n",
       "      <td>1.000000</td>\n",
       "      <td>0.000000</td>\n",
       "      <td>0.000000</td>\n",
       "      <td>1.000000</td>\n",
       "    </tr>\n",
       "    <tr>\n",
       "      <th>25%</th>\n",
       "      <td>30.000000</td>\n",
       "      <td>9.000000</td>\n",
       "      <td>0.000000</td>\n",
       "      <td>0.000000</td>\n",
       "      <td>40.000000</td>\n",
       "    </tr>\n",
       "    <tr>\n",
       "      <th>50%</th>\n",
       "      <td>39.000000</td>\n",
       "      <td>10.000000</td>\n",
       "      <td>0.000000</td>\n",
       "      <td>0.000000</td>\n",
       "      <td>40.000000</td>\n",
       "    </tr>\n",
       "    <tr>\n",
       "      <th>75%</th>\n",
       "      <td>49.000000</td>\n",
       "      <td>13.000000</td>\n",
       "      <td>0.000000</td>\n",
       "      <td>0.000000</td>\n",
       "      <td>48.000000</td>\n",
       "    </tr>\n",
       "    <tr>\n",
       "      <th>max</th>\n",
       "      <td>90.000000</td>\n",
       "      <td>16.000000</td>\n",
       "      <td>99999.000000</td>\n",
       "      <td>4356.000000</td>\n",
       "      <td>99.000000</td>\n",
       "    </tr>\n",
       "  </tbody>\n",
       "</table>\n",
       "</div>"
      ],
      "text/plain": [
       "                age  education-num  capital-gain  capital-loss  hours-per-week\n",
       "count  17841.000000   17841.000000  17841.000000  17841.000000    17841.000000\n",
       "mean      40.016759      10.484054   1841.885825    116.625357       41.802926\n",
       "std       13.033215       2.599928   9867.217768    465.333031       12.184754\n",
       "min       17.000000       1.000000      0.000000      0.000000        1.000000\n",
       "25%       30.000000       9.000000      0.000000      0.000000       40.000000\n",
       "50%       39.000000      10.000000      0.000000      0.000000       40.000000\n",
       "75%       49.000000      13.000000      0.000000      0.000000       48.000000\n",
       "max       90.000000      16.000000  99999.000000   4356.000000       99.000000"
      ]
     },
     "execution_count": 358,
     "metadata": {},
     "output_type": "execute_result"
    }
   ],
   "source": [
    "main_df.describe()"
   ]
  },
  {
   "cell_type": "code",
   "execution_count": 359,
   "id": "cb315a69",
   "metadata": {},
   "outputs": [
    {
     "data": {
      "text/plain": [
       "Private             12161\n",
       "Self-emp-not-inc     1455\n",
       "Local-gov            1243\n",
       "?                     820\n",
       "Self-emp-inc          817\n",
       "State-gov             741\n",
       "Federal-gov           597\n",
       "Without-pay             4\n",
       "Never-worked            3\n",
       "Name: workclass, dtype: int64"
      ]
     },
     "execution_count": 359,
     "metadata": {},
     "output_type": "execute_result"
    }
   ],
   "source": [
    "main_df['workclass'].value_counts()   #we have ? as data"
   ]
  },
  {
   "cell_type": "code",
   "execution_count": 360,
   "id": "e3b28d33",
   "metadata": {},
   "outputs": [
    {
     "data": {
      "text/plain": [
       "Exec-managerial      2834\n",
       "Prof-specialty       2750\n",
       "Craft-repair         2222\n",
       "Sales                2069\n",
       "Adm-clerical         1795\n",
       "Other-service        1480\n",
       "Machine-op-inspct     950\n",
       "Transport-moving      865\n",
       "?                     823\n",
       "Handlers-cleaners     604\n",
       "Tech-support          534\n",
       "Farming-fishing       453\n",
       "Protective-serv       395\n",
       "Priv-house-serv        65\n",
       "Armed-Forces            2\n",
       "Name: occupation, dtype: int64"
      ]
     },
     "execution_count": 360,
     "metadata": {},
     "output_type": "execute_result"
    }
   ],
   "source": [
    "main_df['occupation'].value_counts()  "
   ]
  },
  {
   "cell_type": "code",
   "execution_count": 361,
   "id": "ac586d0a",
   "metadata": {},
   "outputs": [
    {
     "data": {
      "text/plain": [
       "United-States         16085\n",
       "?                       318\n",
       "Mexico                  260\n",
       "Philippines             115\n",
       "Germany                  89\n",
       "Canada                   66\n",
       "India                    59\n",
       "Puerto-Rico              56\n",
       "Cuba                     53\n",
       "England                  51\n",
       "Italy                    46\n",
       "China                    46\n",
       "El-Salvador              46\n",
       "South                    39\n",
       "Jamaica                  38\n",
       "Japan                    38\n",
       "Poland                   37\n",
       "Vietnam                  37\n",
       "Dominican-Republic       36\n",
       "Columbia                 31\n",
       "Guatemala                29\n",
       "Taiwan                   29\n",
       "Iran                     27\n",
       "Haiti                    27\n",
       "France                   22\n",
       "Portugal                 15\n",
       "Ecuador                  14\n",
       "Peru                     14\n",
       "Greece                   13\n",
       "Cambodia                 13\n",
       "Hong                     12\n",
       "Nicaragua                12\n",
       "Ireland                  11\n",
       "Yugoslavia               11\n",
       "Trinadad&Tobago          10\n",
       "Hungary                   9\n",
       "Laos                      9\n",
       "Thailand                  7\n",
       "Honduras                  6\n",
       "Scotland                  5\n",
       "Name: native-country, dtype: int64"
      ]
     },
     "execution_count": 361,
     "metadata": {},
     "output_type": "execute_result"
    }
   ],
   "source": [
    "main_df['native-country'].value_counts()  "
   ]
  },
  {
   "cell_type": "code",
   "execution_count": 362,
   "id": "9dd7a2cd",
   "metadata": {},
   "outputs": [],
   "source": [
    "                                #Filling missing data"
   ]
  },
  {
   "cell_type": "code",
   "execution_count": 363,
   "id": "72d8427f",
   "metadata": {},
   "outputs": [
    {
     "data": {
      "text/plain": [
       "Index(['age', 'workclass', 'education', 'education-num', 'marital-status',\n",
       "       'occupation', 'relationship', 'race', 'sex', 'capital-gain',\n",
       "       'capital-loss', 'hours-per-week', 'native-country', 'income'],\n",
       "      dtype='object')"
      ]
     },
     "execution_count": 363,
     "metadata": {},
     "output_type": "execute_result"
    }
   ],
   "source": [
    "main_df.columns"
   ]
  },
  {
   "cell_type": "code",
   "execution_count": 364,
   "id": "d14e6693",
   "metadata": {},
   "outputs": [],
   "source": [
    "main_df['workclass'] = main_df['workclass'].replace('?', 'Private') #replacing with mode\n",
    "main_df['occupation'] = main_df['occupation'].replace('?', 'Exec-managerial')\n",
    "main_df['native-country'] = main_df['native-country'].replace('?', 'United-States')"
   ]
  },
  {
   "cell_type": "code",
   "execution_count": 365,
   "id": "c703dafe",
   "metadata": {},
   "outputs": [
    {
     "data": {
      "text/plain": [
       "United-States         16403\n",
       "Mexico                  260\n",
       "Philippines             115\n",
       "Germany                  89\n",
       "Canada                   66\n",
       "India                    59\n",
       "Puerto-Rico              56\n",
       "Cuba                     53\n",
       "England                  51\n",
       "El-Salvador              46\n",
       "Italy                    46\n",
       "China                    46\n",
       "South                    39\n",
       "Jamaica                  38\n",
       "Japan                    38\n",
       "Vietnam                  37\n",
       "Poland                   37\n",
       "Dominican-Republic       36\n",
       "Columbia                 31\n",
       "Taiwan                   29\n",
       "Guatemala                29\n",
       "Haiti                    27\n",
       "Iran                     27\n",
       "France                   22\n",
       "Portugal                 15\n",
       "Ecuador                  14\n",
       "Peru                     14\n",
       "Greece                   13\n",
       "Cambodia                 13\n",
       "Hong                     12\n",
       "Nicaragua                12\n",
       "Ireland                  11\n",
       "Yugoslavia               11\n",
       "Trinadad&Tobago          10\n",
       "Hungary                   9\n",
       "Laos                      9\n",
       "Thailand                  7\n",
       "Honduras                  6\n",
       "Scotland                  5\n",
       "Name: native-country, dtype: int64"
      ]
     },
     "execution_count": 365,
     "metadata": {},
     "output_type": "execute_result"
    }
   ],
   "source": [
    "main_df[\"native-country\"].value_counts()"
   ]
  },
  {
   "cell_type": "code",
   "execution_count": 366,
   "id": "f6d33507",
   "metadata": {},
   "outputs": [
    {
     "data": {
      "text/html": [
       "<div>\n",
       "<style scoped>\n",
       "    .dataframe tbody tr th:only-of-type {\n",
       "        vertical-align: middle;\n",
       "    }\n",
       "\n",
       "    .dataframe tbody tr th {\n",
       "        vertical-align: top;\n",
       "    }\n",
       "\n",
       "    .dataframe thead th {\n",
       "        text-align: right;\n",
       "    }\n",
       "</style>\n",
       "<table border=\"1\" class=\"dataframe\">\n",
       "  <thead>\n",
       "    <tr style=\"text-align: right;\">\n",
       "      <th></th>\n",
       "      <th>age</th>\n",
       "      <th>workclass</th>\n",
       "      <th>education</th>\n",
       "      <th>education-num</th>\n",
       "      <th>marital-status</th>\n",
       "      <th>occupation</th>\n",
       "      <th>relationship</th>\n",
       "      <th>race</th>\n",
       "      <th>sex</th>\n",
       "      <th>capital-gain</th>\n",
       "      <th>capital-loss</th>\n",
       "      <th>hours-per-week</th>\n",
       "      <th>native-country</th>\n",
       "      <th>income</th>\n",
       "    </tr>\n",
       "  </thead>\n",
       "  <tbody>\n",
       "    <tr>\n",
       "      <th>0</th>\n",
       "      <td>52</td>\n",
       "      <td>Self-emp-not-inc</td>\n",
       "      <td>HS-grad</td>\n",
       "      <td>9</td>\n",
       "      <td>Married-civ-spouse</td>\n",
       "      <td>Exec-managerial</td>\n",
       "      <td>Husband</td>\n",
       "      <td>White</td>\n",
       "      <td>Male</td>\n",
       "      <td>0</td>\n",
       "      <td>0</td>\n",
       "      <td>45</td>\n",
       "      <td>United-States</td>\n",
       "      <td>&gt;50K</td>\n",
       "    </tr>\n",
       "    <tr>\n",
       "      <th>1</th>\n",
       "      <td>31</td>\n",
       "      <td>Private</td>\n",
       "      <td>Masters</td>\n",
       "      <td>14</td>\n",
       "      <td>Never-married</td>\n",
       "      <td>Prof-specialty</td>\n",
       "      <td>Not-in-family</td>\n",
       "      <td>White</td>\n",
       "      <td>Female</td>\n",
       "      <td>14084</td>\n",
       "      <td>0</td>\n",
       "      <td>50</td>\n",
       "      <td>United-States</td>\n",
       "      <td>&gt;50K</td>\n",
       "    </tr>\n",
       "    <tr>\n",
       "      <th>2</th>\n",
       "      <td>42</td>\n",
       "      <td>Private</td>\n",
       "      <td>Bachelors</td>\n",
       "      <td>13</td>\n",
       "      <td>Married-civ-spouse</td>\n",
       "      <td>Exec-managerial</td>\n",
       "      <td>Husband</td>\n",
       "      <td>White</td>\n",
       "      <td>Male</td>\n",
       "      <td>5178</td>\n",
       "      <td>0</td>\n",
       "      <td>40</td>\n",
       "      <td>United-States</td>\n",
       "      <td>&gt;50K</td>\n",
       "    </tr>\n",
       "    <tr>\n",
       "      <th>3</th>\n",
       "      <td>37</td>\n",
       "      <td>Private</td>\n",
       "      <td>Some-college</td>\n",
       "      <td>10</td>\n",
       "      <td>Married-civ-spouse</td>\n",
       "      <td>Exec-managerial</td>\n",
       "      <td>Husband</td>\n",
       "      <td>Black</td>\n",
       "      <td>Male</td>\n",
       "      <td>0</td>\n",
       "      <td>0</td>\n",
       "      <td>80</td>\n",
       "      <td>United-States</td>\n",
       "      <td>&gt;50K</td>\n",
       "    </tr>\n",
       "    <tr>\n",
       "      <th>4</th>\n",
       "      <td>30</td>\n",
       "      <td>State-gov</td>\n",
       "      <td>Bachelors</td>\n",
       "      <td>13</td>\n",
       "      <td>Married-civ-spouse</td>\n",
       "      <td>Prof-specialty</td>\n",
       "      <td>Husband</td>\n",
       "      <td>Asian-Pac-Islander</td>\n",
       "      <td>Male</td>\n",
       "      <td>0</td>\n",
       "      <td>0</td>\n",
       "      <td>40</td>\n",
       "      <td>India</td>\n",
       "      <td>&gt;50K</td>\n",
       "    </tr>\n",
       "    <tr>\n",
       "      <th>5</th>\n",
       "      <td>40</td>\n",
       "      <td>Private</td>\n",
       "      <td>Assoc-voc</td>\n",
       "      <td>11</td>\n",
       "      <td>Married-civ-spouse</td>\n",
       "      <td>Craft-repair</td>\n",
       "      <td>Husband</td>\n",
       "      <td>Asian-Pac-Islander</td>\n",
       "      <td>Male</td>\n",
       "      <td>0</td>\n",
       "      <td>0</td>\n",
       "      <td>40</td>\n",
       "      <td>United-States</td>\n",
       "      <td>&gt;50K</td>\n",
       "    </tr>\n",
       "    <tr>\n",
       "      <th>6</th>\n",
       "      <td>43</td>\n",
       "      <td>Self-emp-not-inc</td>\n",
       "      <td>Masters</td>\n",
       "      <td>14</td>\n",
       "      <td>Divorced</td>\n",
       "      <td>Exec-managerial</td>\n",
       "      <td>Unmarried</td>\n",
       "      <td>White</td>\n",
       "      <td>Female</td>\n",
       "      <td>0</td>\n",
       "      <td>0</td>\n",
       "      <td>45</td>\n",
       "      <td>United-States</td>\n",
       "      <td>&gt;50K</td>\n",
       "    </tr>\n",
       "    <tr>\n",
       "      <th>7</th>\n",
       "      <td>40</td>\n",
       "      <td>Private</td>\n",
       "      <td>Doctorate</td>\n",
       "      <td>16</td>\n",
       "      <td>Married-civ-spouse</td>\n",
       "      <td>Prof-specialty</td>\n",
       "      <td>Husband</td>\n",
       "      <td>White</td>\n",
       "      <td>Male</td>\n",
       "      <td>0</td>\n",
       "      <td>0</td>\n",
       "      <td>60</td>\n",
       "      <td>United-States</td>\n",
       "      <td>&gt;50K</td>\n",
       "    </tr>\n",
       "  </tbody>\n",
       "</table>\n",
       "</div>"
      ],
      "text/plain": [
       "   age         workclass     education  education-num      marital-status  \\\n",
       "0   52  Self-emp-not-inc       HS-grad              9  Married-civ-spouse   \n",
       "1   31           Private       Masters             14       Never-married   \n",
       "2   42           Private     Bachelors             13  Married-civ-spouse   \n",
       "3   37           Private  Some-college             10  Married-civ-spouse   \n",
       "4   30         State-gov     Bachelors             13  Married-civ-spouse   \n",
       "5   40           Private     Assoc-voc             11  Married-civ-spouse   \n",
       "6   43  Self-emp-not-inc       Masters             14            Divorced   \n",
       "7   40           Private     Doctorate             16  Married-civ-spouse   \n",
       "\n",
       "        occupation   relationship                race     sex  capital-gain  \\\n",
       "0  Exec-managerial        Husband               White    Male             0   \n",
       "1   Prof-specialty  Not-in-family               White  Female         14084   \n",
       "2  Exec-managerial        Husband               White    Male          5178   \n",
       "3  Exec-managerial        Husband               Black    Male             0   \n",
       "4   Prof-specialty        Husband  Asian-Pac-Islander    Male             0   \n",
       "5     Craft-repair        Husband  Asian-Pac-Islander    Male             0   \n",
       "6  Exec-managerial      Unmarried               White  Female             0   \n",
       "7   Prof-specialty        Husband               White    Male             0   \n",
       "\n",
       "   capital-loss  hours-per-week native-country income  \n",
       "0             0              45  United-States   >50K  \n",
       "1             0              50  United-States   >50K  \n",
       "2             0              40  United-States   >50K  \n",
       "3             0              80  United-States   >50K  \n",
       "4             0              40          India   >50K  \n",
       "5             0              40  United-States   >50K  \n",
       "6             0              45  United-States   >50K  \n",
       "7             0              60  United-States   >50K  "
      ]
     },
     "execution_count": 366,
     "metadata": {},
     "output_type": "execute_result"
    }
   ],
   "source": [
    "main_df.head(8)"
   ]
  },
  {
   "cell_type": "code",
   "execution_count": 367,
   "id": "61021d61",
   "metadata": {},
   "outputs": [],
   "source": [
    "                                        #handle categroical data"
   ]
  },
  {
   "cell_type": "code",
   "execution_count": 368,
   "id": "a313c523",
   "metadata": {},
   "outputs": [],
   "source": [
    "#since there are many categorical features try to reduce the number of categorical features"
   ]
  },
  {
   "cell_type": "code",
   "execution_count": 369,
   "id": "1ac9cd02",
   "metadata": {},
   "outputs": [],
   "source": [
    "#education can be replaced made into 3 categories as school, high school, higher, undergrad, grad, doc"
   ]
  },
  {
   "cell_type": "code",
   "execution_count": 370,
   "id": "d1255861",
   "metadata": {},
   "outputs": [],
   "source": [
    "main_df.education= main_df.education.replace(['Preschool', '1st-4th', '5th-6th', '7th-8th', '9th','10th', '11th', '12th'], 'school')\n",
    "main_df.education = main_df.education.replace('HS-grad', 'high school')\n",
    "main_df.education = main_df.education.replace(['Assoc-voc', 'Assoc-acdm', 'Prof-school', 'Some-college'], 'higher')\n",
    "main_df.education = main_df.education.replace('Bachelors', 'undergrad')\n",
    "main_df.education = main_df.education.replace('Masters', 'grad')\n",
    "main_df.education = main_df.education.replace('Doctorate', 'doc')"
   ]
  },
  {
   "cell_type": "code",
   "execution_count": 371,
   "id": "9a520bdd",
   "metadata": {},
   "outputs": [],
   "source": [
    "#martial status\n",
    "main_df['marital-status']= main_df['marital-status'].replace(['Married-civ-spouse', 'Married-AF-spouse'], 'married')\n",
    "main_df['marital-status']= main_df['marital-status'].replace(['Never-married'], 'not-married')\n",
    "main_df['marital-status']= main_df['marital-status'].replace(['Divorced', 'Separated','Widowed',\n",
    "                                                   'Married-spouse-absent'], 'other')"
   ]
  },
  {
   "cell_type": "code",
   "execution_count": 372,
   "id": "13b55e26",
   "metadata": {},
   "outputs": [],
   "source": [
    "# income  ##here categorical feature is converted to numerical data\n",
    "main_df.income = main_df.income.replace('<=50K', 0)\n",
    "main_df.income = main_df.income.replace('>50K', 1)"
   ]
  },
  {
   "cell_type": "code",
   "execution_count": 373,
   "id": "f6484cb9",
   "metadata": {},
   "outputs": [
    {
     "data": {
      "text/plain": [
       "<bound method Series.unique of 0        1\n",
       "1        1\n",
       "2        1\n",
       "3        1\n",
       "4        1\n",
       "        ..\n",
       "17836    0\n",
       "17837    0\n",
       "17838    0\n",
       "17839    0\n",
       "17840    0\n",
       "Name: income, Length: 17841, dtype: int64>"
      ]
     },
     "execution_count": 373,
     "metadata": {},
     "output_type": "execute_result"
    }
   ],
   "source": [
    "main_df['income'].unique "
   ]
  },
  {
   "cell_type": "code",
   "execution_count": 374,
   "id": "aee6bcbb",
   "metadata": {},
   "outputs": [],
   "source": [
    "                                                #check corr"
   ]
  },
  {
   "cell_type": "code",
   "execution_count": 375,
   "id": "f5d509ba",
   "metadata": {},
   "outputs": [
    {
     "data": {
      "text/html": [
       "<div>\n",
       "<style scoped>\n",
       "    .dataframe tbody tr th:only-of-type {\n",
       "        vertical-align: middle;\n",
       "    }\n",
       "\n",
       "    .dataframe tbody tr th {\n",
       "        vertical-align: top;\n",
       "    }\n",
       "\n",
       "    .dataframe thead th {\n",
       "        text-align: right;\n",
       "    }\n",
       "</style>\n",
       "<table border=\"1\" class=\"dataframe\">\n",
       "  <thead>\n",
       "    <tr style=\"text-align: right;\">\n",
       "      <th></th>\n",
       "      <th>age</th>\n",
       "      <th>education-num</th>\n",
       "      <th>capital-gain</th>\n",
       "      <th>capital-loss</th>\n",
       "      <th>hours-per-week</th>\n",
       "      <th>income</th>\n",
       "    </tr>\n",
       "  </thead>\n",
       "  <tbody>\n",
       "    <tr>\n",
       "      <th>age</th>\n",
       "      <td>1.000000</td>\n",
       "      <td>0.075006</td>\n",
       "      <td>0.088224</td>\n",
       "      <td>0.063668</td>\n",
       "      <td>0.078374</td>\n",
       "      <td>0.287609</td>\n",
       "    </tr>\n",
       "    <tr>\n",
       "      <th>education-num</th>\n",
       "      <td>0.075006</td>\n",
       "      <td>1.000000</td>\n",
       "      <td>0.138364</td>\n",
       "      <td>0.095234</td>\n",
       "      <td>0.178297</td>\n",
       "      <td>0.384054</td>\n",
       "    </tr>\n",
       "    <tr>\n",
       "      <th>capital-gain</th>\n",
       "      <td>0.088224</td>\n",
       "      <td>0.138364</td>\n",
       "      <td>1.000000</td>\n",
       "      <td>-0.046787</td>\n",
       "      <td>0.088020</td>\n",
       "      <td>0.194228</td>\n",
       "    </tr>\n",
       "    <tr>\n",
       "      <th>capital-loss</th>\n",
       "      <td>0.063668</td>\n",
       "      <td>0.095234</td>\n",
       "      <td>-0.046787</td>\n",
       "      <td>1.000000</td>\n",
       "      <td>0.070141</td>\n",
       "      <td>0.149148</td>\n",
       "    </tr>\n",
       "    <tr>\n",
       "      <th>hours-per-week</th>\n",
       "      <td>0.078374</td>\n",
       "      <td>0.178297</td>\n",
       "      <td>0.088020</td>\n",
       "      <td>0.070141</td>\n",
       "      <td>1.000000</td>\n",
       "      <td>0.266722</td>\n",
       "    </tr>\n",
       "    <tr>\n",
       "      <th>income</th>\n",
       "      <td>0.287609</td>\n",
       "      <td>0.384054</td>\n",
       "      <td>0.194228</td>\n",
       "      <td>0.149148</td>\n",
       "      <td>0.266722</td>\n",
       "      <td>1.000000</td>\n",
       "    </tr>\n",
       "  </tbody>\n",
       "</table>\n",
       "</div>"
      ],
      "text/plain": [
       "                     age  education-num  capital-gain  capital-loss  \\\n",
       "age             1.000000       0.075006      0.088224      0.063668   \n",
       "education-num   0.075006       1.000000      0.138364      0.095234   \n",
       "capital-gain    0.088224       0.138364      1.000000     -0.046787   \n",
       "capital-loss    0.063668       0.095234     -0.046787      1.000000   \n",
       "hours-per-week  0.078374       0.178297      0.088020      0.070141   \n",
       "income          0.287609       0.384054      0.194228      0.149148   \n",
       "\n",
       "                hours-per-week    income  \n",
       "age                   0.078374  0.287609  \n",
       "education-num         0.178297  0.384054  \n",
       "capital-gain          0.088020  0.194228  \n",
       "capital-loss          0.070141  0.149148  \n",
       "hours-per-week        1.000000  0.266722  \n",
       "income                0.266722  1.000000  "
      ]
     },
     "execution_count": 375,
     "metadata": {},
     "output_type": "execute_result"
    }
   ],
   "source": [
    "main_df.corr()"
   ]
  },
  {
   "cell_type": "code",
   "execution_count": 376,
   "id": "2d830d98",
   "metadata": {
    "scrolled": true
   },
   "outputs": [
    {
     "data": {
      "text/plain": [
       "array([[<AxesSubplot:title={'center':'age'}>,\n",
       "        <AxesSubplot:title={'center':'education-num'}>,\n",
       "        <AxesSubplot:title={'center':'capital-gain'}>],\n",
       "       [<AxesSubplot:title={'center':'capital-loss'}>,\n",
       "        <AxesSubplot:title={'center':'hours-per-week'}>,\n",
       "        <AxesSubplot:title={'center':'income'}>],\n",
       "       [<AxesSubplot:>, <AxesSubplot:>, <AxesSubplot:>]], dtype=object)"
      ]
     },
     "execution_count": 376,
     "metadata": {},
     "output_type": "execute_result"
    },
    {
     "data": {
      "image/png": "[encoded data removed]",
      "text/plain": [
       "<Figure size 864x864 with 9 Axes>"
      ]
     },
     "metadata": {
      "needs_background": "light"
     },
     "output_type": "display_data"
    }
   ],
   "source": [
    "main_df.hist(figsize = (12, 12), layout = (3, 3), sharex = False)"
   ]
  },
  {
   "cell_type": "code",
   "execution_count": 377,
   "id": "0e13c1ce",
   "metadata": {},
   "outputs": [],
   "source": [
    "                                                #check outliers"
   ]
  },
  {
   "cell_type": "code",
   "execution_count": 378,
   "id": "15d4089c",
   "metadata": {},
   "outputs": [
    {
     "data": {
      "image/png": "[encoded data removed]",
      "text/plain": [
       "<Figure size 864x864 with 9 Axes>"
      ]
     },
     "metadata": {
      "needs_background": "light"
     },
     "output_type": "display_data"
    }
   ],
   "source": [
    "main_df.plot(kind='box', figsize=(12,12), layout=(3,3), sharex=False, subplots=True);"
   ]
  },
  {
   "cell_type": "code",
   "execution_count": 379,
   "id": "e5177efc",
   "metadata": {},
   "outputs": [],
   "source": [
    "#we can seperate input and output variables\n",
    "X = main_df.drop(['income'], axis = 1)\n",
    "y = main_df['income']"
   ]
  },
  {
   "cell_type": "code",
   "execution_count": 380,
   "id": "96992cc2",
   "metadata": {},
   "outputs": [
    {
     "data": {
      "text/html": [
       "<div>\n",
       "<style scoped>\n",
       "    .dataframe tbody tr th:only-of-type {\n",
       "        vertical-align: middle;\n",
       "    }\n",
       "\n",
       "    .dataframe tbody tr th {\n",
       "        vertical-align: top;\n",
       "    }\n",
       "\n",
       "    .dataframe thead th {\n",
       "        text-align: right;\n",
       "    }\n",
       "</style>\n",
       "<table border=\"1\" class=\"dataframe\">\n",
       "  <thead>\n",
       "    <tr style=\"text-align: right;\">\n",
       "      <th></th>\n",
       "      <th>age</th>\n",
       "      <th>workclass</th>\n",
       "      <th>education</th>\n",
       "      <th>education-num</th>\n",
       "      <th>marital-status</th>\n",
       "      <th>occupation</th>\n",
       "      <th>relationship</th>\n",
       "      <th>race</th>\n",
       "      <th>sex</th>\n",
       "      <th>capital-gain</th>\n",
       "      <th>capital-loss</th>\n",
       "      <th>hours-per-week</th>\n",
       "      <th>native-country</th>\n",
       "    </tr>\n",
       "  </thead>\n",
       "  <tbody>\n",
       "    <tr>\n",
       "      <th>0</th>\n",
       "      <td>52</td>\n",
       "      <td>Self-emp-not-inc</td>\n",
       "      <td>high school</td>\n",
       "      <td>9</td>\n",
       "      <td>married</td>\n",
       "      <td>Exec-managerial</td>\n",
       "      <td>Husband</td>\n",
       "      <td>White</td>\n",
       "      <td>Male</td>\n",
       "      <td>0</td>\n",
       "      <td>0</td>\n",
       "      <td>45</td>\n",
       "      <td>United-States</td>\n",
       "    </tr>\n",
       "    <tr>\n",
       "      <th>1</th>\n",
       "      <td>31</td>\n",
       "      <td>Private</td>\n",
       "      <td>grad</td>\n",
       "      <td>14</td>\n",
       "      <td>not-married</td>\n",
       "      <td>Prof-specialty</td>\n",
       "      <td>Not-in-family</td>\n",
       "      <td>White</td>\n",
       "      <td>Female</td>\n",
       "      <td>14084</td>\n",
       "      <td>0</td>\n",
       "      <td>50</td>\n",
       "      <td>United-States</td>\n",
       "    </tr>\n",
       "    <tr>\n",
       "      <th>2</th>\n",
       "      <td>42</td>\n",
       "      <td>Private</td>\n",
       "      <td>undergrad</td>\n",
       "      <td>13</td>\n",
       "      <td>married</td>\n",
       "      <td>Exec-managerial</td>\n",
       "      <td>Husband</td>\n",
       "      <td>White</td>\n",
       "      <td>Male</td>\n",
       "      <td>5178</td>\n",
       "      <td>0</td>\n",
       "      <td>40</td>\n",
       "      <td>United-States</td>\n",
       "    </tr>\n",
       "    <tr>\n",
       "      <th>3</th>\n",
       "      <td>37</td>\n",
       "      <td>Private</td>\n",
       "      <td>higher</td>\n",
       "      <td>10</td>\n",
       "      <td>married</td>\n",
       "      <td>Exec-managerial</td>\n",
       "      <td>Husband</td>\n",
       "      <td>Black</td>\n",
       "      <td>Male</td>\n",
       "      <td>0</td>\n",
       "      <td>0</td>\n",
       "      <td>80</td>\n",
       "      <td>United-States</td>\n",
       "    </tr>\n",
       "    <tr>\n",
       "      <th>4</th>\n",
       "      <td>30</td>\n",
       "      <td>State-gov</td>\n",
       "      <td>undergrad</td>\n",
       "      <td>13</td>\n",
       "      <td>married</td>\n",
       "      <td>Prof-specialty</td>\n",
       "      <td>Husband</td>\n",
       "      <td>Asian-Pac-Islander</td>\n",
       "      <td>Male</td>\n",
       "      <td>0</td>\n",
       "      <td>0</td>\n",
       "      <td>40</td>\n",
       "      <td>India</td>\n",
       "    </tr>\n",
       "    <tr>\n",
       "      <th>...</th>\n",
       "      <td>...</td>\n",
       "      <td>...</td>\n",
       "      <td>...</td>\n",
       "      <td>...</td>\n",
       "      <td>...</td>\n",
       "      <td>...</td>\n",
       "      <td>...</td>\n",
       "      <td>...</td>\n",
       "      <td>...</td>\n",
       "      <td>...</td>\n",
       "      <td>...</td>\n",
       "      <td>...</td>\n",
       "      <td>...</td>\n",
       "    </tr>\n",
       "    <tr>\n",
       "      <th>17836</th>\n",
       "      <td>18</td>\n",
       "      <td>Private</td>\n",
       "      <td>school</td>\n",
       "      <td>7</td>\n",
       "      <td>not-married</td>\n",
       "      <td>Exec-managerial</td>\n",
       "      <td>Own-child</td>\n",
       "      <td>Black</td>\n",
       "      <td>Male</td>\n",
       "      <td>0</td>\n",
       "      <td>1602</td>\n",
       "      <td>48</td>\n",
       "      <td>United-States</td>\n",
       "    </tr>\n",
       "    <tr>\n",
       "      <th>17837</th>\n",
       "      <td>20</td>\n",
       "      <td>Private</td>\n",
       "      <td>high school</td>\n",
       "      <td>9</td>\n",
       "      <td>not-married</td>\n",
       "      <td>Handlers-cleaners</td>\n",
       "      <td>Own-child</td>\n",
       "      <td>White</td>\n",
       "      <td>Male</td>\n",
       "      <td>0</td>\n",
       "      <td>0</td>\n",
       "      <td>40</td>\n",
       "      <td>United-States</td>\n",
       "    </tr>\n",
       "    <tr>\n",
       "      <th>17838</th>\n",
       "      <td>24</td>\n",
       "      <td>Private</td>\n",
       "      <td>high school</td>\n",
       "      <td>9</td>\n",
       "      <td>not-married</td>\n",
       "      <td>Other-service</td>\n",
       "      <td>Other-relative</td>\n",
       "      <td>White</td>\n",
       "      <td>Male</td>\n",
       "      <td>0</td>\n",
       "      <td>0</td>\n",
       "      <td>25</td>\n",
       "      <td>United-States</td>\n",
       "    </tr>\n",
       "    <tr>\n",
       "      <th>17839</th>\n",
       "      <td>75</td>\n",
       "      <td>Private</td>\n",
       "      <td>school</td>\n",
       "      <td>1</td>\n",
       "      <td>not-married</td>\n",
       "      <td>Priv-house-serv</td>\n",
       "      <td>Not-in-family</td>\n",
       "      <td>Asian-Pac-Islander</td>\n",
       "      <td>Female</td>\n",
       "      <td>0</td>\n",
       "      <td>0</td>\n",
       "      <td>48</td>\n",
       "      <td>Philippines</td>\n",
       "    </tr>\n",
       "    <tr>\n",
       "      <th>17840</th>\n",
       "      <td>21</td>\n",
       "      <td>Private</td>\n",
       "      <td>higher</td>\n",
       "      <td>11</td>\n",
       "      <td>not-married</td>\n",
       "      <td>Other-service</td>\n",
       "      <td>Not-in-family</td>\n",
       "      <td>White</td>\n",
       "      <td>Female</td>\n",
       "      <td>0</td>\n",
       "      <td>0</td>\n",
       "      <td>50</td>\n",
       "      <td>United-States</td>\n",
       "    </tr>\n",
       "  </tbody>\n",
       "</table>\n",
       "<p>17841 rows × 13 columns</p>\n",
       "</div>"
      ],
      "text/plain": [
       "       age         workclass    education  education-num marital-status  \\\n",
       "0       52  Self-emp-not-inc  high school              9        married   \n",
       "1       31           Private         grad             14    not-married   \n",
       "2       42           Private    undergrad             13        married   \n",
       "3       37           Private       higher             10        married   \n",
       "4       30         State-gov    undergrad             13        married   \n",
       "...    ...               ...          ...            ...            ...   \n",
       "17836   18           Private       school              7    not-married   \n",
       "17837   20           Private  high school              9    not-married   \n",
       "17838   24           Private  high school              9    not-married   \n",
       "17839   75           Private       school              1    not-married   \n",
       "17840   21           Private       higher             11    not-married   \n",
       "\n",
       "              occupation    relationship                race     sex  \\\n",
       "0        Exec-managerial         Husband               White    Male   \n",
       "1         Prof-specialty   Not-in-family               White  Female   \n",
       "2        Exec-managerial         Husband               White    Male   \n",
       "3        Exec-managerial         Husband               Black    Male   \n",
       "4         Prof-specialty         Husband  Asian-Pac-Islander    Male   \n",
       "...                  ...             ...                 ...     ...   \n",
       "17836    Exec-managerial       Own-child               Black    Male   \n",
       "17837  Handlers-cleaners       Own-child               White    Male   \n",
       "17838      Other-service  Other-relative               White    Male   \n",
       "17839    Priv-house-serv   Not-in-family  Asian-Pac-Islander  Female   \n",
       "17840      Other-service   Not-in-family               White  Female   \n",
       "\n",
       "       capital-gain  capital-loss  hours-per-week native-country  \n",
       "0                 0             0              45  United-States  \n",
       "1             14084             0              50  United-States  \n",
       "2              5178             0              40  United-States  \n",
       "3                 0             0              80  United-States  \n",
       "4                 0             0              40          India  \n",
       "...             ...           ...             ...            ...  \n",
       "17836             0          1602              48  United-States  \n",
       "17837             0             0              40  United-States  \n",
       "17838             0             0              25  United-States  \n",
       "17839             0             0              48    Philippines  \n",
       "17840             0             0              50  United-States  \n",
       "\n",
       "[17841 rows x 13 columns]"
      ]
     },
     "execution_count": 380,
     "metadata": {},
     "output_type": "execute_result"
    }
   ],
   "source": [
    "X"
   ]
  },
  {
   "cell_type": "code",
   "execution_count": 381,
   "id": "b20cbaee",
   "metadata": {},
   "outputs": [
    {
     "data": {
      "text/plain": [
       "0        1\n",
       "1        1\n",
       "2        1\n",
       "3        1\n",
       "4        1\n",
       "        ..\n",
       "17836    0\n",
       "17837    0\n",
       "17838    0\n",
       "17839    0\n",
       "17840    0\n",
       "Name: income, Length: 17841, dtype: int64"
      ]
     },
     "execution_count": 381,
     "metadata": {},
     "output_type": "execute_result"
    }
   ],
   "source": [
    "y"
   ]
  },
  {
   "cell_type": "code",
   "execution_count": 382,
   "id": "857b1932",
   "metadata": {},
   "outputs": [],
   "source": [
    "                                        #univariate"
   ]
  },
  {
   "cell_type": "code",
   "execution_count": 383,
   "id": "c9c6f65b",
   "metadata": {},
   "outputs": [
    {
     "name": "stdout",
     "output_type": "stream",
     "text": [
      "       age         workclass    education  education-num marital-status  \\\n",
      "0       52  Self-emp-not-inc  high school              9        married   \n",
      "1       31           Private         grad             14    not-married   \n",
      "2       42           Private    undergrad             13        married   \n",
      "3       37           Private       higher             10        married   \n",
      "4       30         State-gov    undergrad             13        married   \n",
      "...    ...               ...          ...            ...            ...   \n",
      "17836   18           Private       school              7    not-married   \n",
      "17837   20           Private  high school              9    not-married   \n",
      "17838   24           Private  high school              9    not-married   \n",
      "17839   75           Private       school              1    not-married   \n",
      "17840   21           Private       higher             11    not-married   \n",
      "\n",
      "              occupation    relationship                race     sex  \\\n",
      "0        Exec-managerial         Husband               White    Male   \n",
      "1         Prof-specialty   Not-in-family               White  Female   \n",
      "2        Exec-managerial         Husband               White    Male   \n",
      "3        Exec-managerial         Husband               Black    Male   \n",
      "4         Prof-specialty         Husband  Asian-Pac-Islander    Male   \n",
      "...                  ...             ...                 ...     ...   \n",
      "17836    Exec-managerial       Own-child               Black    Male   \n",
      "17837  Handlers-cleaners       Own-child               White    Male   \n",
      "17838      Other-service  Other-relative               White    Male   \n",
      "17839    Priv-house-serv   Not-in-family  Asian-Pac-Islander  Female   \n",
      "17840      Other-service   Not-in-family               White  Female   \n",
      "\n",
      "       capital-gain  capital-loss  hours-per-week native-country  income  \n",
      "0                 0             0              45  United-States       1  \n",
      "1             14084             0              50  United-States       1  \n",
      "2              5178             0              40  United-States       1  \n",
      "3                 0             0              80  United-States       1  \n",
      "4                 0             0              40          India       1  \n",
      "...             ...           ...             ...            ...     ...  \n",
      "17836             0          1602              48  United-States       0  \n",
      "17837             0             0              40  United-States       0  \n",
      "17838             0             0              25  United-States       0  \n",
      "17839             0             0              48    Philippines       0  \n",
      "17840             0             0              50  United-States       0  \n",
      "\n",
      "[17841 rows x 14 columns]\n"
     ]
    }
   ],
   "source": [
    "uni_df = main_df\n",
    "print(uni_df)"
   ]
  },
  {
   "cell_type": "code",
   "execution_count": 384,
   "id": "0d1937a6",
   "metadata": {},
   "outputs": [
    {
     "data": {
      "text/html": [
       "<div>\n",
       "<style scoped>\n",
       "    .dataframe tbody tr th:only-of-type {\n",
       "        vertical-align: middle;\n",
       "    }\n",
       "\n",
       "    .dataframe tbody tr th {\n",
       "        vertical-align: top;\n",
       "    }\n",
       "\n",
       "    .dataframe thead th {\n",
       "        text-align: right;\n",
       "    }\n",
       "</style>\n",
       "<table border=\"1\" class=\"dataframe\">\n",
       "  <thead>\n",
       "    <tr style=\"text-align: right;\">\n",
       "      <th></th>\n",
       "      <th>age</th>\n",
       "      <th>education-num</th>\n",
       "      <th>capital-gain</th>\n",
       "      <th>capital-loss</th>\n",
       "      <th>hours-per-week</th>\n",
       "      <th>income</th>\n",
       "    </tr>\n",
       "  </thead>\n",
       "  <tbody>\n",
       "    <tr>\n",
       "      <th>age</th>\n",
       "      <td>1.000000</td>\n",
       "      <td>0.075006</td>\n",
       "      <td>0.088224</td>\n",
       "      <td>0.063668</td>\n",
       "      <td>0.078374</td>\n",
       "      <td>0.287609</td>\n",
       "    </tr>\n",
       "    <tr>\n",
       "      <th>education-num</th>\n",
       "      <td>0.075006</td>\n",
       "      <td>1.000000</td>\n",
       "      <td>0.138364</td>\n",
       "      <td>0.095234</td>\n",
       "      <td>0.178297</td>\n",
       "      <td>0.384054</td>\n",
       "    </tr>\n",
       "    <tr>\n",
       "      <th>capital-gain</th>\n",
       "      <td>0.088224</td>\n",
       "      <td>0.138364</td>\n",
       "      <td>1.000000</td>\n",
       "      <td>-0.046787</td>\n",
       "      <td>0.088020</td>\n",
       "      <td>0.194228</td>\n",
       "    </tr>\n",
       "    <tr>\n",
       "      <th>capital-loss</th>\n",
       "      <td>0.063668</td>\n",
       "      <td>0.095234</td>\n",
       "      <td>-0.046787</td>\n",
       "      <td>1.000000</td>\n",
       "      <td>0.070141</td>\n",
       "      <td>0.149148</td>\n",
       "    </tr>\n",
       "    <tr>\n",
       "      <th>hours-per-week</th>\n",
       "      <td>0.078374</td>\n",
       "      <td>0.178297</td>\n",
       "      <td>0.088020</td>\n",
       "      <td>0.070141</td>\n",
       "      <td>1.000000</td>\n",
       "      <td>0.266722</td>\n",
       "    </tr>\n",
       "    <tr>\n",
       "      <th>income</th>\n",
       "      <td>0.287609</td>\n",
       "      <td>0.384054</td>\n",
       "      <td>0.194228</td>\n",
       "      <td>0.149148</td>\n",
       "      <td>0.266722</td>\n",
       "      <td>1.000000</td>\n",
       "    </tr>\n",
       "  </tbody>\n",
       "</table>\n",
       "</div>"
      ],
      "text/plain": [
       "                     age  education-num  capital-gain  capital-loss  \\\n",
       "age             1.000000       0.075006      0.088224      0.063668   \n",
       "education-num   0.075006       1.000000      0.138364      0.095234   \n",
       "capital-gain    0.088224       0.138364      1.000000     -0.046787   \n",
       "capital-loss    0.063668       0.095234     -0.046787      1.000000   \n",
       "hours-per-week  0.078374       0.178297      0.088020      0.070141   \n",
       "income          0.287609       0.384054      0.194228      0.149148   \n",
       "\n",
       "                hours-per-week    income  \n",
       "age                   0.078374  0.287609  \n",
       "education-num         0.178297  0.384054  \n",
       "capital-gain          0.088020  0.194228  \n",
       "capital-loss          0.070141  0.149148  \n",
       "hours-per-week        1.000000  0.266722  \n",
       "income                0.266722  1.000000  "
      ]
     },
     "execution_count": 384,
     "metadata": {},
     "output_type": "execute_result"
    }
   ],
   "source": [
    "main_df.corr()  ##we will take education-num as our only feature to predict income"
   ]
  },
  {
   "cell_type": "code",
   "execution_count": 385,
   "id": "e35756f4",
   "metadata": {},
   "outputs": [],
   "source": [
    "X_u = uni_df['age'].values\n",
    "y_u = uni_df['income'].values"
   ]
  },
  {
   "cell_type": "code",
   "execution_count": 386,
   "id": "12420124",
   "metadata": {},
   "outputs": [
    {
     "name": "stdout",
     "output_type": "stream",
     "text": [
      "(17841,)\n",
      "(17841,)\n"
     ]
    }
   ],
   "source": [
    "print(X_u.shape)\n",
    "print(y_u.shape)"
   ]
  },
  {
   "cell_type": "code",
   "execution_count": 387,
   "id": "7f631fab",
   "metadata": {},
   "outputs": [
    {
     "data": {
      "text/plain": [
       "Text(0.5, 1.0, 'Scatter plot of data')"
      ]
     },
     "execution_count": 387,
     "metadata": {},
     "output_type": "execute_result"
    },
    {
     "data": {
      "image/png": "[encoded data removed]",
      "text/plain": [
       "<Figure size 720x432 with 1 Axes>"
      ]
     },
     "metadata": {
      "needs_background": "light"
     },
     "output_type": "display_data"
    }
   ],
   "source": [
    "plt.scatter(y_u,X_u, color='red',marker= '+')\n",
    "plt.grid()\n",
    "plt.rcParams[\"figure.figsize\"] = (10,6)\n",
    "plt.xlabel('edu')\n",
    "plt.ylabel('income')\n",
    "plt.title('Scatter plot of data')"
   ]
  },
  {
   "cell_type": "code",
   "execution_count": 388,
   "id": "d6c759fe",
   "metadata": {},
   "outputs": [
    {
     "name": "stdout",
     "output_type": "stream",
     "text": [
      "(12488, 1)\n",
      "(5353, 1)\n",
      "(12488,)\n",
      "(5353,)\n"
     ]
    }
   ],
   "source": [
    "uni_df = uni_df.sample(frac=1)\n",
    "\n",
    "# Define a size for your train set \n",
    "train_size = int(0.7 * len(uni_df))\n",
    "# Split your dataset \n",
    "X_train_u = X_u[:train_size]\n",
    "X_test_u = X_u[train_size:]\n",
    "\n",
    "y_train_u = y[:train_size]\n",
    "y_test_u = y[train_size:]\n",
    "\n",
    "#Lets create a matrix with single column of ones\n",
    "\n",
    "\n",
    "m = X_train_u.shape[0]\n",
    "n = X_test_u.shape[0]\n",
    "X_u0 = np.ones((m, 1))\n",
    "X_u0[:5]\n",
    "X_train_u = X_train_u.reshape((m, 1))\n",
    "X_test_u = X_test_u.reshape((n, 1))\n",
    "print(X_train_u.shape)\n",
    "print(X_test_u.shape)\n",
    "print(y_train_u.shape)\n",
    "print(y_test_u.shape)"
   ]
  },
  {
   "cell_type": "code",
   "execution_count": 389,
   "id": "f1798fd0",
   "metadata": {},
   "outputs": [],
   "source": [
    "X_train_u = np.hstack((X_train_u, X_u0))"
   ]
  },
  {
   "cell_type": "code",
   "execution_count": 390,
   "id": "1aafac03",
   "metadata": {},
   "outputs": [
    {
     "name": "stdout",
     "output_type": "stream",
     "text": [
      "[[52.  1.]\n",
      " [31.  1.]\n",
      " [42.  1.]\n",
      " ...\n",
      " [57.  1.]\n",
      " [47.  1.]\n",
      " [45.  1.]]\n"
     ]
    }
   ],
   "source": [
    "print(X_train_u)"
   ]
  },
  {
   "cell_type": "code",
   "execution_count": 391,
   "id": "acdab813",
   "metadata": {},
   "outputs": [
    {
     "data": {
      "text/plain": [
       "(2,)"
      ]
     },
     "execution_count": 391,
     "metadata": {},
     "output_type": "execute_result"
    }
   ],
   "source": [
    "theta_u = np.zeros(2)\n",
    "theta_u.shape\n",
    "\n"
   ]
  },
  {
   "cell_type": "code",
   "execution_count": 392,
   "id": "2c3e811f",
   "metadata": {},
   "outputs": [],
   "source": [
    "def compute_cost(X, y, theta):\n",
    "    x_dot_theta = X.dot(theta)\n",
    "    J = 1.0 / len(X) * (-y.T.dot(np.log(sigmoid(x_dot_theta))) - (1 - y).T.dot(np.log(1 - sigmoid(x_dot_theta))))\n",
    "    return J\n",
    "\n",
    "def sigmoid(z):\n",
    "    g = 1 / (1 + np.exp(-z))\n",
    "    return g"
   ]
  },
  {
   "cell_type": "code",
   "execution_count": 393,
   "id": "60dd4bb5",
   "metadata": {
    "scrolled": true
   },
   "outputs": [],
   "source": [
    "# plt.plot(np.arange(iterations), cost_history_u)\n",
    "# plt.xlabel(\"Iterations\")\n",
    "# plt.ylabel(\"Cost\")\n",
    "# plt.show()"
   ]
  },
  {
   "cell_type": "code",
   "execution_count": 394,
   "id": "f3584bc3",
   "metadata": {},
   "outputs": [
    {
     "data": {
      "text/plain": [
       "(5353, 1)"
      ]
     },
     "execution_count": 394,
     "metadata": {},
     "output_type": "execute_result"
    }
   ],
   "source": [
    "X_u0 = np.ones((n, 1))\n",
    "X_u0.shape"
   ]
  },
  {
   "cell_type": "code",
   "execution_count": 395,
   "id": "80c8e237",
   "metadata": {},
   "outputs": [],
   "source": [
    "X_test_u = np.hstack((X_test_u, X_u0))"
   ]
  },
  {
   "cell_type": "code",
   "execution_count": 396,
   "id": "c2f3601c",
   "metadata": {
    "scrolled": true
   },
   "outputs": [
    {
     "name": "stdout",
     "output_type": "stream",
     "text": [
      "(5353, 2)\n"
     ]
    }
   ],
   "source": [
    "print(X_test_u.shape)"
   ]
  },
  {
   "cell_type": "code",
   "execution_count": 397,
   "id": "217fd354",
   "metadata": {},
   "outputs": [
    {
     "name": "stdout",
     "output_type": "stream",
     "text": [
      "(12488, 2)\n",
      "(5353, 2)\n",
      "(12488,)\n",
      "(5353,)\n"
     ]
    }
   ],
   "source": [
    "print(X_train_u.shape)\n",
    "print(X_test_u.shape)\n",
    "y_train = y_train_u.values.reshape(X_train_u.shape[0], 1)\n",
    "y_test = y_test_u.values.reshape(X_test_u.shape[0], 1)\n",
    "\n",
    "print(y_train_u.shape)\n",
    "print(y_test_u.shape)"
   ]
  },
  {
   "cell_type": "code",
   "execution_count": 398,
   "id": "010c7f86",
   "metadata": {},
   "outputs": [
    {
     "name": "stdout",
     "output_type": "stream",
     "text": [
      "[ 0.01639146 -0.02805488]\n"
     ]
    }
   ],
   "source": [
    "iterations = 1000\n",
    "learning_rate = 0.001\n",
    "\n",
    "theta_u[0] = 0\n",
    "theta_u[1] = 0\n",
    "W = model(X_train_u, y_train_u, theta_u, learning_rate = learning_rate, iterations = iterations)\n",
    "print(W)"
   ]
  },
  {
   "cell_type": "code",
   "execution_count": 399,
   "id": "9a3677e0",
   "metadata": {},
   "outputs": [
    {
     "name": "stdout",
     "output_type": "stream",
     "text": [
      "[0.69514859 0.61776687 0.65934721 ... 0.71223392 0.67750818 0.67030413]\n"
     ]
    }
   ],
   "source": [
    "y_pred_u = X_train_u@W\n",
    "y_pred_u = sigmoid(y_pred_u)\n",
    "print(y_pred_u)\n",
    "y_pred_u_list = y_pred_u.tolist()"
   ]
  },
  {
   "cell_type": "code",
   "execution_count": 400,
   "id": "d92fa6b9",
   "metadata": {},
   "outputs": [],
   "source": [
    "y_pred_u_01 = [] \n",
    "for i in range(len(y_pred_u_list)):\n",
    "    if(y_pred_u_list[i] >= 0.65):\n",
    "        y_pred_u_01.append(1)\n",
    "    else:\n",
    "        y_pred_u_01.append(0)\n"
   ]
  },
  {
   "cell_type": "code",
   "execution_count": 401,
   "id": "f26eb1eb",
   "metadata": {},
   "outputs": [],
   "source": [
    "# print(y_pred_u_01)"
   ]
  },
  {
   "cell_type": "code",
   "execution_count": 402,
   "id": "18b77443",
   "metadata": {},
   "outputs": [],
   "source": [
    "def accuracy(X, Y, W):\n",
    "    Z = np.dot(X, W) \n",
    "    y_pred = sigmoid(Z)\n",
    "    y_pred = y_pred >= 0.65\n",
    "    y_pred = np.array(y_pred, dtype = 'int64')\n",
    "    acc = (1 - np.sum(np.absolute(y_pred - Y))/Y.shape[0])*100\n",
    "    print(\"Accuracy of the model is : \", round(acc, 2), \"%\")"
   ]
  },
  {
   "cell_type": "code",
   "execution_count": 403,
   "id": "5e8e7463",
   "metadata": {},
   "outputs": [
    {
     "name": "stdout",
     "output_type": "stream",
     "text": [
      "Accuracy of the model is :  63.03 %\n"
     ]
    }
   ],
   "source": [
    "acc = accuracy(X_test_u, y_test_u, W)"
   ]
  },
  {
   "cell_type": "code",
   "execution_count": null,
   "id": "e1868a07",
   "metadata": {},
   "outputs": [],
   "source": []
  },
  {
   "cell_type": "code",
   "execution_count": null,
   "id": "ebcaa558",
   "metadata": {},
   "outputs": [],
   "source": []
  },
  {
   "cell_type": "code",
   "execution_count": 404,
   "id": "3363f884",
   "metadata": {},
   "outputs": [],
   "source": [
    "                                #multivariate (using a combination of features)"
   ]
  },
  {
   "cell_type": "code",
   "execution_count": 405,
   "id": "81c7235d",
   "metadata": {},
   "outputs": [
    {
     "name": "stdout",
     "output_type": "stream",
     "text": [
      "Index(['age', 'workclass', 'education', 'education-num', 'marital-status',\n",
      "       'occupation', 'relationship', 'race', 'sex', 'capital-gain',\n",
      "       'capital-loss', 'hours-per-week', 'native-country', 'income'],\n",
      "      dtype='object')\n"
     ]
    }
   ],
   "source": [
    "multi_df = main_df\n",
    "multi_df.head\n",
    "print(multi_df.columns)"
   ]
  },
  {
   "cell_type": "code",
   "execution_count": 406,
   "id": "c8352634",
   "metadata": {},
   "outputs": [
    {
     "name": "stdout",
     "output_type": "stream",
     "text": [
      "                     age  education-num  capital-gain  capital-loss  \\\n",
      "age             1.000000       0.075006      0.088224      0.063668   \n",
      "education-num   0.075006       1.000000      0.138364      0.095234   \n",
      "capital-gain    0.088224       0.138364      1.000000     -0.046787   \n",
      "capital-loss    0.063668       0.095234     -0.046787      1.000000   \n",
      "hours-per-week  0.078374       0.178297      0.088020      0.070141   \n",
      "income          0.287609       0.384054      0.194228      0.149148   \n",
      "\n",
      "                hours-per-week    income  \n",
      "age                   0.078374  0.287609  \n",
      "education-num         0.178297  0.384054  \n",
      "capital-gain          0.088020  0.194228  \n",
      "capital-loss          0.070141  0.149148  \n",
      "hours-per-week        1.000000  0.266722  \n",
      "income                0.266722  1.000000  \n"
     ]
    }
   ],
   "source": [
    "print(multi_df.corr())"
   ]
  },
  {
   "cell_type": "code",
   "execution_count": 407,
   "id": "5f58938e",
   "metadata": {},
   "outputs": [],
   "source": [
    "#convert categorical data into integers"
   ]
  },
  {
   "cell_type": "code",
   "execution_count": 408,
   "id": "969f1218",
   "metadata": {},
   "outputs": [
    {
     "name": "stdout",
     "output_type": "stream",
     "text": [
      "Index(['age', 'workclass', 'education', 'education-num', 'marital-status',\n",
      "       'occupation', 'relationship', 'race', 'sex', 'capital-gain',\n",
      "       'capital-loss', 'hours-per-week', 'native-country', 'income'],\n",
      "      dtype='object')\n"
     ]
    }
   ],
   "source": [
    "print(multi_df.columns)"
   ]
  },
  {
   "cell_type": "code",
   "execution_count": 409,
   "id": "44566aeb",
   "metadata": {},
   "outputs": [
    {
     "data": {
      "text/html": [
       "<div>\n",
       "<style scoped>\n",
       "    .dataframe tbody tr th:only-of-type {\n",
       "        vertical-align: middle;\n",
       "    }\n",
       "\n",
       "    .dataframe tbody tr th {\n",
       "        vertical-align: top;\n",
       "    }\n",
       "\n",
       "    .dataframe thead th {\n",
       "        text-align: right;\n",
       "    }\n",
       "</style>\n",
       "<table border=\"1\" class=\"dataframe\">\n",
       "  <thead>\n",
       "    <tr style=\"text-align: right;\">\n",
       "      <th></th>\n",
       "      <th>workclass</th>\n",
       "      <th>education</th>\n",
       "      <th>marital-status</th>\n",
       "      <th>occupation</th>\n",
       "      <th>relationship</th>\n",
       "      <th>race</th>\n",
       "      <th>sex</th>\n",
       "      <th>native-country</th>\n",
       "    </tr>\n",
       "  </thead>\n",
       "  <tbody>\n",
       "    <tr>\n",
       "      <th>0</th>\n",
       "      <td>Self-emp-not-inc</td>\n",
       "      <td>high school</td>\n",
       "      <td>married</td>\n",
       "      <td>Exec-managerial</td>\n",
       "      <td>Husband</td>\n",
       "      <td>White</td>\n",
       "      <td>Male</td>\n",
       "      <td>United-States</td>\n",
       "    </tr>\n",
       "    <tr>\n",
       "      <th>1</th>\n",
       "      <td>Private</td>\n",
       "      <td>grad</td>\n",
       "      <td>not-married</td>\n",
       "      <td>Prof-specialty</td>\n",
       "      <td>Not-in-family</td>\n",
       "      <td>White</td>\n",
       "      <td>Female</td>\n",
       "      <td>United-States</td>\n",
       "    </tr>\n",
       "    <tr>\n",
       "      <th>2</th>\n",
       "      <td>Private</td>\n",
       "      <td>undergrad</td>\n",
       "      <td>married</td>\n",
       "      <td>Exec-managerial</td>\n",
       "      <td>Husband</td>\n",
       "      <td>White</td>\n",
       "      <td>Male</td>\n",
       "      <td>United-States</td>\n",
       "    </tr>\n",
       "    <tr>\n",
       "      <th>3</th>\n",
       "      <td>Private</td>\n",
       "      <td>higher</td>\n",
       "      <td>married</td>\n",
       "      <td>Exec-managerial</td>\n",
       "      <td>Husband</td>\n",
       "      <td>Black</td>\n",
       "      <td>Male</td>\n",
       "      <td>United-States</td>\n",
       "    </tr>\n",
       "    <tr>\n",
       "      <th>4</th>\n",
       "      <td>State-gov</td>\n",
       "      <td>undergrad</td>\n",
       "      <td>married</td>\n",
       "      <td>Prof-specialty</td>\n",
       "      <td>Husband</td>\n",
       "      <td>Asian-Pac-Islander</td>\n",
       "      <td>Male</td>\n",
       "      <td>India</td>\n",
       "    </tr>\n",
       "    <tr>\n",
       "      <th>...</th>\n",
       "      <td>...</td>\n",
       "      <td>...</td>\n",
       "      <td>...</td>\n",
       "      <td>...</td>\n",
       "      <td>...</td>\n",
       "      <td>...</td>\n",
       "      <td>...</td>\n",
       "      <td>...</td>\n",
       "    </tr>\n",
       "    <tr>\n",
       "      <th>17836</th>\n",
       "      <td>Private</td>\n",
       "      <td>school</td>\n",
       "      <td>not-married</td>\n",
       "      <td>Exec-managerial</td>\n",
       "      <td>Own-child</td>\n",
       "      <td>Black</td>\n",
       "      <td>Male</td>\n",
       "      <td>United-States</td>\n",
       "    </tr>\n",
       "    <tr>\n",
       "      <th>17837</th>\n",
       "      <td>Private</td>\n",
       "      <td>high school</td>\n",
       "      <td>not-married</td>\n",
       "      <td>Handlers-cleaners</td>\n",
       "      <td>Own-child</td>\n",
       "      <td>White</td>\n",
       "      <td>Male</td>\n",
       "      <td>United-States</td>\n",
       "    </tr>\n",
       "    <tr>\n",
       "      <th>17838</th>\n",
       "      <td>Private</td>\n",
       "      <td>high school</td>\n",
       "      <td>not-married</td>\n",
       "      <td>Other-service</td>\n",
       "      <td>Other-relative</td>\n",
       "      <td>White</td>\n",
       "      <td>Male</td>\n",
       "      <td>United-States</td>\n",
       "    </tr>\n",
       "    <tr>\n",
       "      <th>17839</th>\n",
       "      <td>Private</td>\n",
       "      <td>school</td>\n",
       "      <td>not-married</td>\n",
       "      <td>Priv-house-serv</td>\n",
       "      <td>Not-in-family</td>\n",
       "      <td>Asian-Pac-Islander</td>\n",
       "      <td>Female</td>\n",
       "      <td>Philippines</td>\n",
       "    </tr>\n",
       "    <tr>\n",
       "      <th>17840</th>\n",
       "      <td>Private</td>\n",
       "      <td>higher</td>\n",
       "      <td>not-married</td>\n",
       "      <td>Other-service</td>\n",
       "      <td>Not-in-family</td>\n",
       "      <td>White</td>\n",
       "      <td>Female</td>\n",
       "      <td>United-States</td>\n",
       "    </tr>\n",
       "  </tbody>\n",
       "</table>\n",
       "<p>17841 rows × 8 columns</p>\n",
       "</div>"
      ],
      "text/plain": [
       "              workclass    education marital-status         occupation  \\\n",
       "0      Self-emp-not-inc  high school        married    Exec-managerial   \n",
       "1               Private         grad    not-married     Prof-specialty   \n",
       "2               Private    undergrad        married    Exec-managerial   \n",
       "3               Private       higher        married    Exec-managerial   \n",
       "4             State-gov    undergrad        married     Prof-specialty   \n",
       "...                 ...          ...            ...                ...   \n",
       "17836           Private       school    not-married    Exec-managerial   \n",
       "17837           Private  high school    not-married  Handlers-cleaners   \n",
       "17838           Private  high school    not-married      Other-service   \n",
       "17839           Private       school    not-married    Priv-house-serv   \n",
       "17840           Private       higher    not-married      Other-service   \n",
       "\n",
       "         relationship                race     sex native-country  \n",
       "0             Husband               White    Male  United-States  \n",
       "1       Not-in-family               White  Female  United-States  \n",
       "2             Husband               White    Male  United-States  \n",
       "3             Husband               Black    Male  United-States  \n",
       "4             Husband  Asian-Pac-Islander    Male          India  \n",
       "...               ...                 ...     ...            ...  \n",
       "17836       Own-child               Black    Male  United-States  \n",
       "17837       Own-child               White    Male  United-States  \n",
       "17838  Other-relative               White    Male  United-States  \n",
       "17839   Not-in-family  Asian-Pac-Islander  Female    Philippines  \n",
       "17840   Not-in-family               White  Female  United-States  \n",
       "\n",
       "[17841 rows x 8 columns]"
      ]
     },
     "execution_count": 409,
     "metadata": {},
     "output_type": "execute_result"
    }
   ],
   "source": [
    "multi_df.select_dtypes(exclude=[\"number\",\"bool_\"])"
   ]
  },
  {
   "cell_type": "code",
   "execution_count": 410,
   "id": "ddcabd62",
   "metadata": {},
   "outputs": [
    {
     "data": {
      "text/plain": [
       "United-States         16403\n",
       "Mexico                  260\n",
       "Philippines             115\n",
       "Germany                  89\n",
       "Canada                   66\n",
       "India                    59\n",
       "Puerto-Rico              56\n",
       "Cuba                     53\n",
       "England                  51\n",
       "El-Salvador              46\n",
       "Italy                    46\n",
       "China                    46\n",
       "South                    39\n",
       "Jamaica                  38\n",
       "Japan                    38\n",
       "Vietnam                  37\n",
       "Poland                   37\n",
       "Dominican-Republic       36\n",
       "Columbia                 31\n",
       "Taiwan                   29\n",
       "Guatemala                29\n",
       "Haiti                    27\n",
       "Iran                     27\n",
       "France                   22\n",
       "Portugal                 15\n",
       "Ecuador                  14\n",
       "Peru                     14\n",
       "Greece                   13\n",
       "Cambodia                 13\n",
       "Hong                     12\n",
       "Nicaragua                12\n",
       "Ireland                  11\n",
       "Yugoslavia               11\n",
       "Trinadad&Tobago          10\n",
       "Hungary                   9\n",
       "Laos                      9\n",
       "Thailand                  7\n",
       "Honduras                  6\n",
       "Scotland                  5\n",
       "Name: native-country, dtype: int64"
      ]
     },
     "execution_count": 410,
     "metadata": {},
     "output_type": "execute_result"
    }
   ],
   "source": [
    "multi_df[\"native-country\"].value_counts()"
   ]
  },
  {
   "cell_type": "code",
   "execution_count": 411,
   "id": "feabe26f",
   "metadata": {},
   "outputs": [],
   "source": [
    "dummies_country = pd.get_dummies(multi_df[\"native-country\"])\n"
   ]
  },
  {
   "cell_type": "code",
   "execution_count": 412,
   "id": "e991c656",
   "metadata": {
    "scrolled": true
   },
   "outputs": [
    {
     "name": "stdout",
     "output_type": "stream",
     "text": [
      "       Cambodia  Canada  China  Columbia  Cuba  Dominican-Republic  Ecuador  \\\n",
      "0             0       0      0         0     0                   0        0   \n",
      "1             0       0      0         0     0                   0        0   \n",
      "2             0       0      0         0     0                   0        0   \n",
      "3             0       0      0         0     0                   0        0   \n",
      "4             0       0      0         0     0                   0        0   \n",
      "...         ...     ...    ...       ...   ...                 ...      ...   \n",
      "17836         0       0      0         0     0                   0        0   \n",
      "17837         0       0      0         0     0                   0        0   \n",
      "17838         0       0      0         0     0                   0        0   \n",
      "17839         0       0      0         0     0                   0        0   \n",
      "17840         0       0      0         0     0                   0        0   \n",
      "\n",
      "       El-Salvador  England  France  ...  Portugal  Puerto-Rico  Scotland  \\\n",
      "0                0        0       0  ...         0            0         0   \n",
      "1                0        0       0  ...         0            0         0   \n",
      "2                0        0       0  ...         0            0         0   \n",
      "3                0        0       0  ...         0            0         0   \n",
      "4                0        0       0  ...         0            0         0   \n",
      "...            ...      ...     ...  ...       ...          ...       ...   \n",
      "17836            0        0       0  ...         0            0         0   \n",
      "17837            0        0       0  ...         0            0         0   \n",
      "17838            0        0       0  ...         0            0         0   \n",
      "17839            0        0       0  ...         0            0         0   \n",
      "17840            0        0       0  ...         0            0         0   \n",
      "\n",
      "       South  Taiwan  Thailand  Trinadad&Tobago  United-States  Vietnam  \\\n",
      "0          0       0         0                0              1        0   \n",
      "1          0       0         0                0              1        0   \n",
      "2          0       0         0                0              1        0   \n",
      "3          0       0         0                0              1        0   \n",
      "4          0       0         0                0              0        0   \n",
      "...      ...     ...       ...              ...            ...      ...   \n",
      "17836      0       0         0                0              1        0   \n",
      "17837      0       0         0                0              1        0   \n",
      "17838      0       0         0                0              1        0   \n",
      "17839      0       0         0                0              0        0   \n",
      "17840      0       0         0                0              1        0   \n",
      "\n",
      "       Yugoslavia  \n",
      "0               0  \n",
      "1               0  \n",
      "2               0  \n",
      "3               0  \n",
      "4               0  \n",
      "...           ...  \n",
      "17836           0  \n",
      "17837           0  \n",
      "17838           0  \n",
      "17839           0  \n",
      "17840           0  \n",
      "\n",
      "[17841 rows x 39 columns]\n"
     ]
    }
   ],
   "source": [
    "print(dummies_country)"
   ]
  },
  {
   "cell_type": "code",
   "execution_count": 413,
   "id": "9f08fe48",
   "metadata": {},
   "outputs": [],
   "source": [
    "new_df = pd.concat([multi_df, dummies_country], axis = 'columns')\n",
    "multi_df = new_df"
   ]
  },
  {
   "cell_type": "code",
   "execution_count": 414,
   "id": "680d903a",
   "metadata": {},
   "outputs": [
    {
     "name": "stdout",
     "output_type": "stream",
     "text": [
      "(17841, 53)\n"
     ]
    }
   ],
   "source": [
    "print(multi_df.shape)"
   ]
  },
  {
   "cell_type": "code",
   "execution_count": 415,
   "id": "90e33eda",
   "metadata": {},
   "outputs": [
    {
     "name": "stdout",
     "output_type": "stream",
     "text": [
      "(17841, 51)\n"
     ]
    }
   ],
   "source": [
    "multi_df.drop(['native-country', 'Yugoslavia'], axis=1, inplace=True)\n",
    "print(multi_df.shape)"
   ]
  },
  {
   "cell_type": "code",
   "execution_count": 416,
   "id": "c3bbf139",
   "metadata": {},
   "outputs": [
    {
     "data": {
      "text/html": [
       "<div>\n",
       "<style scoped>\n",
       "    .dataframe tbody tr th:only-of-type {\n",
       "        vertical-align: middle;\n",
       "    }\n",
       "\n",
       "    .dataframe tbody tr th {\n",
       "        vertical-align: top;\n",
       "    }\n",
       "\n",
       "    .dataframe thead th {\n",
       "        text-align: right;\n",
       "    }\n",
       "</style>\n",
       "<table border=\"1\" class=\"dataframe\">\n",
       "  <thead>\n",
       "    <tr style=\"text-align: right;\">\n",
       "      <th></th>\n",
       "      <th>workclass</th>\n",
       "      <th>education</th>\n",
       "      <th>marital-status</th>\n",
       "      <th>occupation</th>\n",
       "      <th>relationship</th>\n",
       "      <th>race</th>\n",
       "      <th>sex</th>\n",
       "    </tr>\n",
       "  </thead>\n",
       "  <tbody>\n",
       "    <tr>\n",
       "      <th>0</th>\n",
       "      <td>Self-emp-not-inc</td>\n",
       "      <td>high school</td>\n",
       "      <td>married</td>\n",
       "      <td>Exec-managerial</td>\n",
       "      <td>Husband</td>\n",
       "      <td>White</td>\n",
       "      <td>Male</td>\n",
       "    </tr>\n",
       "    <tr>\n",
       "      <th>1</th>\n",
       "      <td>Private</td>\n",
       "      <td>grad</td>\n",
       "      <td>not-married</td>\n",
       "      <td>Prof-specialty</td>\n",
       "      <td>Not-in-family</td>\n",
       "      <td>White</td>\n",
       "      <td>Female</td>\n",
       "    </tr>\n",
       "    <tr>\n",
       "      <th>2</th>\n",
       "      <td>Private</td>\n",
       "      <td>undergrad</td>\n",
       "      <td>married</td>\n",
       "      <td>Exec-managerial</td>\n",
       "      <td>Husband</td>\n",
       "      <td>White</td>\n",
       "      <td>Male</td>\n",
       "    </tr>\n",
       "    <tr>\n",
       "      <th>3</th>\n",
       "      <td>Private</td>\n",
       "      <td>higher</td>\n",
       "      <td>married</td>\n",
       "      <td>Exec-managerial</td>\n",
       "      <td>Husband</td>\n",
       "      <td>Black</td>\n",
       "      <td>Male</td>\n",
       "    </tr>\n",
       "    <tr>\n",
       "      <th>4</th>\n",
       "      <td>State-gov</td>\n",
       "      <td>undergrad</td>\n",
       "      <td>married</td>\n",
       "      <td>Prof-specialty</td>\n",
       "      <td>Husband</td>\n",
       "      <td>Asian-Pac-Islander</td>\n",
       "      <td>Male</td>\n",
       "    </tr>\n",
       "    <tr>\n",
       "      <th>...</th>\n",
       "      <td>...</td>\n",
       "      <td>...</td>\n",
       "      <td>...</td>\n",
       "      <td>...</td>\n",
       "      <td>...</td>\n",
       "      <td>...</td>\n",
       "      <td>...</td>\n",
       "    </tr>\n",
       "    <tr>\n",
       "      <th>17836</th>\n",
       "      <td>Private</td>\n",
       "      <td>school</td>\n",
       "      <td>not-married</td>\n",
       "      <td>Exec-managerial</td>\n",
       "      <td>Own-child</td>\n",
       "      <td>Black</td>\n",
       "      <td>Male</td>\n",
       "    </tr>\n",
       "    <tr>\n",
       "      <th>17837</th>\n",
       "      <td>Private</td>\n",
       "      <td>high school</td>\n",
       "      <td>not-married</td>\n",
       "      <td>Handlers-cleaners</td>\n",
       "      <td>Own-child</td>\n",
       "      <td>White</td>\n",
       "      <td>Male</td>\n",
       "    </tr>\n",
       "    <tr>\n",
       "      <th>17838</th>\n",
       "      <td>Private</td>\n",
       "      <td>high school</td>\n",
       "      <td>not-married</td>\n",
       "      <td>Other-service</td>\n",
       "      <td>Other-relative</td>\n",
       "      <td>White</td>\n",
       "      <td>Male</td>\n",
       "    </tr>\n",
       "    <tr>\n",
       "      <th>17839</th>\n",
       "      <td>Private</td>\n",
       "      <td>school</td>\n",
       "      <td>not-married</td>\n",
       "      <td>Priv-house-serv</td>\n",
       "      <td>Not-in-family</td>\n",
       "      <td>Asian-Pac-Islander</td>\n",
       "      <td>Female</td>\n",
       "    </tr>\n",
       "    <tr>\n",
       "      <th>17840</th>\n",
       "      <td>Private</td>\n",
       "      <td>higher</td>\n",
       "      <td>not-married</td>\n",
       "      <td>Other-service</td>\n",
       "      <td>Not-in-family</td>\n",
       "      <td>White</td>\n",
       "      <td>Female</td>\n",
       "    </tr>\n",
       "  </tbody>\n",
       "</table>\n",
       "<p>17841 rows × 7 columns</p>\n",
       "</div>"
      ],
      "text/plain": [
       "              workclass    education marital-status         occupation  \\\n",
       "0      Self-emp-not-inc  high school        married    Exec-managerial   \n",
       "1               Private         grad    not-married     Prof-specialty   \n",
       "2               Private    undergrad        married    Exec-managerial   \n",
       "3               Private       higher        married    Exec-managerial   \n",
       "4             State-gov    undergrad        married     Prof-specialty   \n",
       "...                 ...          ...            ...                ...   \n",
       "17836           Private       school    not-married    Exec-managerial   \n",
       "17837           Private  high school    not-married  Handlers-cleaners   \n",
       "17838           Private  high school    not-married      Other-service   \n",
       "17839           Private       school    not-married    Priv-house-serv   \n",
       "17840           Private       higher    not-married      Other-service   \n",
       "\n",
       "         relationship                race     sex  \n",
       "0             Husband               White    Male  \n",
       "1       Not-in-family               White  Female  \n",
       "2             Husband               White    Male  \n",
       "3             Husband               Black    Male  \n",
       "4             Husband  Asian-Pac-Islander    Male  \n",
       "...               ...                 ...     ...  \n",
       "17836       Own-child               Black    Male  \n",
       "17837       Own-child               White    Male  \n",
       "17838  Other-relative               White    Male  \n",
       "17839   Not-in-family  Asian-Pac-Islander  Female  \n",
       "17840   Not-in-family               White  Female  \n",
       "\n",
       "[17841 rows x 7 columns]"
      ]
     },
     "execution_count": 416,
     "metadata": {},
     "output_type": "execute_result"
    }
   ],
   "source": [
    "multi_df.select_dtypes(exclude=[\"number\",\"bool_\"])"
   ]
  },
  {
   "cell_type": "code",
   "execution_count": 417,
   "id": "d52934af",
   "metadata": {},
   "outputs": [
    {
     "data": {
      "text/plain": [
       "array(['high school', 'grad', 'undergrad', 'higher', 'doc', 'school'],\n",
       "      dtype=object)"
      ]
     },
     "execution_count": 417,
     "metadata": {},
     "output_type": "execute_result"
    }
   ],
   "source": [
    "multi_df[\"education\"].unique()  "
   ]
  },
  {
   "cell_type": "code",
   "execution_count": 418,
   "id": "4e4bf300",
   "metadata": {},
   "outputs": [
    {
     "data": {
      "text/plain": [
       "array([3, 5, 4, 2, 6, 1])"
      ]
     },
     "execution_count": 418,
     "metadata": {},
     "output_type": "execute_result"
    }
   ],
   "source": [
    "multi_df.education = multi_df['education'].replace('school', 1)\n",
    "multi_df['education'] = multi_df['education'].replace('higher', 2)\n",
    "multi_df['education'] = multi_df['education'].replace('high school', 3)\n",
    "multi_df['education'] = multi_df['education'].replace('undergrad', 4)\n",
    "multi_df['education'] = multi_df['education'].replace('grad', 5)\n",
    "multi_df['education'] = multi_df['education'].replace('doc', 6)\n",
    "\n",
    "\n",
    "multi_df[\"education\"].unique()\n",
    "\n",
    "##replaced with ranking because assuming higher rank gives more income\n"
   ]
  },
  {
   "cell_type": "code",
   "execution_count": 419,
   "id": "81bc2317",
   "metadata": {},
   "outputs": [
    {
     "data": {
      "text/html": [
       "<div>\n",
       "<style scoped>\n",
       "    .dataframe tbody tr th:only-of-type {\n",
       "        vertical-align: middle;\n",
       "    }\n",
       "\n",
       "    .dataframe tbody tr th {\n",
       "        vertical-align: top;\n",
       "    }\n",
       "\n",
       "    .dataframe thead th {\n",
       "        text-align: right;\n",
       "    }\n",
       "</style>\n",
       "<table border=\"1\" class=\"dataframe\">\n",
       "  <thead>\n",
       "    <tr style=\"text-align: right;\">\n",
       "      <th></th>\n",
       "      <th>workclass</th>\n",
       "      <th>marital-status</th>\n",
       "      <th>occupation</th>\n",
       "      <th>relationship</th>\n",
       "      <th>race</th>\n",
       "      <th>sex</th>\n",
       "    </tr>\n",
       "  </thead>\n",
       "  <tbody>\n",
       "    <tr>\n",
       "      <th>0</th>\n",
       "      <td>Self-emp-not-inc</td>\n",
       "      <td>married</td>\n",
       "      <td>Exec-managerial</td>\n",
       "      <td>Husband</td>\n",
       "      <td>White</td>\n",
       "      <td>Male</td>\n",
       "    </tr>\n",
       "    <tr>\n",
       "      <th>1</th>\n",
       "      <td>Private</td>\n",
       "      <td>not-married</td>\n",
       "      <td>Prof-specialty</td>\n",
       "      <td>Not-in-family</td>\n",
       "      <td>White</td>\n",
       "      <td>Female</td>\n",
       "    </tr>\n",
       "    <tr>\n",
       "      <th>2</th>\n",
       "      <td>Private</td>\n",
       "      <td>married</td>\n",
       "      <td>Exec-managerial</td>\n",
       "      <td>Husband</td>\n",
       "      <td>White</td>\n",
       "      <td>Male</td>\n",
       "    </tr>\n",
       "    <tr>\n",
       "      <th>3</th>\n",
       "      <td>Private</td>\n",
       "      <td>married</td>\n",
       "      <td>Exec-managerial</td>\n",
       "      <td>Husband</td>\n",
       "      <td>Black</td>\n",
       "      <td>Male</td>\n",
       "    </tr>\n",
       "    <tr>\n",
       "      <th>4</th>\n",
       "      <td>State-gov</td>\n",
       "      <td>married</td>\n",
       "      <td>Prof-specialty</td>\n",
       "      <td>Husband</td>\n",
       "      <td>Asian-Pac-Islander</td>\n",
       "      <td>Male</td>\n",
       "    </tr>\n",
       "    <tr>\n",
       "      <th>...</th>\n",
       "      <td>...</td>\n",
       "      <td>...</td>\n",
       "      <td>...</td>\n",
       "      <td>...</td>\n",
       "      <td>...</td>\n",
       "      <td>...</td>\n",
       "    </tr>\n",
       "    <tr>\n",
       "      <th>17836</th>\n",
       "      <td>Private</td>\n",
       "      <td>not-married</td>\n",
       "      <td>Exec-managerial</td>\n",
       "      <td>Own-child</td>\n",
       "      <td>Black</td>\n",
       "      <td>Male</td>\n",
       "    </tr>\n",
       "    <tr>\n",
       "      <th>17837</th>\n",
       "      <td>Private</td>\n",
       "      <td>not-married</td>\n",
       "      <td>Handlers-cleaners</td>\n",
       "      <td>Own-child</td>\n",
       "      <td>White</td>\n",
       "      <td>Male</td>\n",
       "    </tr>\n",
       "    <tr>\n",
       "      <th>17838</th>\n",
       "      <td>Private</td>\n",
       "      <td>not-married</td>\n",
       "      <td>Other-service</td>\n",
       "      <td>Other-relative</td>\n",
       "      <td>White</td>\n",
       "      <td>Male</td>\n",
       "    </tr>\n",
       "    <tr>\n",
       "      <th>17839</th>\n",
       "      <td>Private</td>\n",
       "      <td>not-married</td>\n",
       "      <td>Priv-house-serv</td>\n",
       "      <td>Not-in-family</td>\n",
       "      <td>Asian-Pac-Islander</td>\n",
       "      <td>Female</td>\n",
       "    </tr>\n",
       "    <tr>\n",
       "      <th>17840</th>\n",
       "      <td>Private</td>\n",
       "      <td>not-married</td>\n",
       "      <td>Other-service</td>\n",
       "      <td>Not-in-family</td>\n",
       "      <td>White</td>\n",
       "      <td>Female</td>\n",
       "    </tr>\n",
       "  </tbody>\n",
       "</table>\n",
       "<p>17841 rows × 6 columns</p>\n",
       "</div>"
      ],
      "text/plain": [
       "              workclass marital-status         occupation    relationship  \\\n",
       "0      Self-emp-not-inc        married    Exec-managerial         Husband   \n",
       "1               Private    not-married     Prof-specialty   Not-in-family   \n",
       "2               Private        married    Exec-managerial         Husband   \n",
       "3               Private        married    Exec-managerial         Husband   \n",
       "4             State-gov        married     Prof-specialty         Husband   \n",
       "...                 ...            ...                ...             ...   \n",
       "17836           Private    not-married    Exec-managerial       Own-child   \n",
       "17837           Private    not-married  Handlers-cleaners       Own-child   \n",
       "17838           Private    not-married      Other-service  Other-relative   \n",
       "17839           Private    not-married    Priv-house-serv   Not-in-family   \n",
       "17840           Private    not-married      Other-service   Not-in-family   \n",
       "\n",
       "                     race     sex  \n",
       "0                   White    Male  \n",
       "1                   White  Female  \n",
       "2                   White    Male  \n",
       "3                   Black    Male  \n",
       "4      Asian-Pac-Islander    Male  \n",
       "...                   ...     ...  \n",
       "17836               Black    Male  \n",
       "17837               White    Male  \n",
       "17838               White    Male  \n",
       "17839  Asian-Pac-Islander  Female  \n",
       "17840               White  Female  \n",
       "\n",
       "[17841 rows x 6 columns]"
      ]
     },
     "execution_count": 419,
     "metadata": {},
     "output_type": "execute_result"
    }
   ],
   "source": [
    "multi_df.select_dtypes(exclude=[\"number\",\"bool_\"])"
   ]
  },
  {
   "cell_type": "code",
   "execution_count": 420,
   "id": "e34ba59b",
   "metadata": {},
   "outputs": [
    {
     "data": {
      "text/plain": [
       "array(['Self-emp-not-inc', 'Private', 'State-gov', 'Local-gov',\n",
       "       'Federal-gov', 'Self-emp-inc', 'Never-worked', 'Without-pay'],\n",
       "      dtype=object)"
      ]
     },
     "execution_count": 420,
     "metadata": {},
     "output_type": "execute_result"
    }
   ],
   "source": [
    "multi_df[\"workclass\"].unique()"
   ]
  },
  {
   "cell_type": "code",
   "execution_count": 421,
   "id": "df4fa154",
   "metadata": {},
   "outputs": [],
   "source": [
    "dummies_workclass = pd.get_dummies(multi_df[\"workclass\"])\n",
    "new_df = pd.concat([multi_df, dummies_workclass], axis = 'columns')\n",
    "multi_df = new_df"
   ]
  },
  {
   "cell_type": "code",
   "execution_count": 422,
   "id": "760c59b0",
   "metadata": {},
   "outputs": [
    {
     "name": "stdout",
     "output_type": "stream",
     "text": [
      "(17841, 57)\n"
     ]
    }
   ],
   "source": [
    "multi_df.drop(['workclass', 'Private'], axis=1, inplace=True)  #dropping dummy variables\n",
    "print(multi_df.shape)"
   ]
  },
  {
   "cell_type": "code",
   "execution_count": 423,
   "id": "1499f903",
   "metadata": {},
   "outputs": [
    {
     "data": {
      "text/html": [
       "<div>\n",
       "<style scoped>\n",
       "    .dataframe tbody tr th:only-of-type {\n",
       "        vertical-align: middle;\n",
       "    }\n",
       "\n",
       "    .dataframe tbody tr th {\n",
       "        vertical-align: top;\n",
       "    }\n",
       "\n",
       "    .dataframe thead th {\n",
       "        text-align: right;\n",
       "    }\n",
       "</style>\n",
       "<table border=\"1\" class=\"dataframe\">\n",
       "  <thead>\n",
       "    <tr style=\"text-align: right;\">\n",
       "      <th></th>\n",
       "      <th>marital-status</th>\n",
       "      <th>occupation</th>\n",
       "      <th>relationship</th>\n",
       "      <th>race</th>\n",
       "      <th>sex</th>\n",
       "    </tr>\n",
       "  </thead>\n",
       "  <tbody>\n",
       "    <tr>\n",
       "      <th>0</th>\n",
       "      <td>married</td>\n",
       "      <td>Exec-managerial</td>\n",
       "      <td>Husband</td>\n",
       "      <td>White</td>\n",
       "      <td>Male</td>\n",
       "    </tr>\n",
       "    <tr>\n",
       "      <th>1</th>\n",
       "      <td>not-married</td>\n",
       "      <td>Prof-specialty</td>\n",
       "      <td>Not-in-family</td>\n",
       "      <td>White</td>\n",
       "      <td>Female</td>\n",
       "    </tr>\n",
       "    <tr>\n",
       "      <th>2</th>\n",
       "      <td>married</td>\n",
       "      <td>Exec-managerial</td>\n",
       "      <td>Husband</td>\n",
       "      <td>White</td>\n",
       "      <td>Male</td>\n",
       "    </tr>\n",
       "    <tr>\n",
       "      <th>3</th>\n",
       "      <td>married</td>\n",
       "      <td>Exec-managerial</td>\n",
       "      <td>Husband</td>\n",
       "      <td>Black</td>\n",
       "      <td>Male</td>\n",
       "    </tr>\n",
       "    <tr>\n",
       "      <th>4</th>\n",
       "      <td>married</td>\n",
       "      <td>Prof-specialty</td>\n",
       "      <td>Husband</td>\n",
       "      <td>Asian-Pac-Islander</td>\n",
       "      <td>Male</td>\n",
       "    </tr>\n",
       "    <tr>\n",
       "      <th>...</th>\n",
       "      <td>...</td>\n",
       "      <td>...</td>\n",
       "      <td>...</td>\n",
       "      <td>...</td>\n",
       "      <td>...</td>\n",
       "    </tr>\n",
       "    <tr>\n",
       "      <th>17836</th>\n",
       "      <td>not-married</td>\n",
       "      <td>Exec-managerial</td>\n",
       "      <td>Own-child</td>\n",
       "      <td>Black</td>\n",
       "      <td>Male</td>\n",
       "    </tr>\n",
       "    <tr>\n",
       "      <th>17837</th>\n",
       "      <td>not-married</td>\n",
       "      <td>Handlers-cleaners</td>\n",
       "      <td>Own-child</td>\n",
       "      <td>White</td>\n",
       "      <td>Male</td>\n",
       "    </tr>\n",
       "    <tr>\n",
       "      <th>17838</th>\n",
       "      <td>not-married</td>\n",
       "      <td>Other-service</td>\n",
       "      <td>Other-relative</td>\n",
       "      <td>White</td>\n",
       "      <td>Male</td>\n",
       "    </tr>\n",
       "    <tr>\n",
       "      <th>17839</th>\n",
       "      <td>not-married</td>\n",
       "      <td>Priv-house-serv</td>\n",
       "      <td>Not-in-family</td>\n",
       "      <td>Asian-Pac-Islander</td>\n",
       "      <td>Female</td>\n",
       "    </tr>\n",
       "    <tr>\n",
       "      <th>17840</th>\n",
       "      <td>not-married</td>\n",
       "      <td>Other-service</td>\n",
       "      <td>Not-in-family</td>\n",
       "      <td>White</td>\n",
       "      <td>Female</td>\n",
       "    </tr>\n",
       "  </tbody>\n",
       "</table>\n",
       "<p>17841 rows × 5 columns</p>\n",
       "</div>"
      ],
      "text/plain": [
       "      marital-status         occupation    relationship                race  \\\n",
       "0            married    Exec-managerial         Husband               White   \n",
       "1        not-married     Prof-specialty   Not-in-family               White   \n",
       "2            married    Exec-managerial         Husband               White   \n",
       "3            married    Exec-managerial         Husband               Black   \n",
       "4            married     Prof-specialty         Husband  Asian-Pac-Islander   \n",
       "...              ...                ...             ...                 ...   \n",
       "17836    not-married    Exec-managerial       Own-child               Black   \n",
       "17837    not-married  Handlers-cleaners       Own-child               White   \n",
       "17838    not-married      Other-service  Other-relative               White   \n",
       "17839    not-married    Priv-house-serv   Not-in-family  Asian-Pac-Islander   \n",
       "17840    not-married      Other-service   Not-in-family               White   \n",
       "\n",
       "          sex  \n",
       "0        Male  \n",
       "1      Female  \n",
       "2        Male  \n",
       "3        Male  \n",
       "4        Male  \n",
       "...       ...  \n",
       "17836    Male  \n",
       "17837    Male  \n",
       "17838    Male  \n",
       "17839  Female  \n",
       "17840  Female  \n",
       "\n",
       "[17841 rows x 5 columns]"
      ]
     },
     "execution_count": 423,
     "metadata": {},
     "output_type": "execute_result"
    }
   ],
   "source": [
    "multi_df.select_dtypes(exclude=[\"number\",\"bool_\"])"
   ]
  },
  {
   "cell_type": "code",
   "execution_count": 424,
   "id": "20d2ce75",
   "metadata": {},
   "outputs": [],
   "source": [
    "dummies_occupation = pd.get_dummies(multi_df[\"occupation\"])\n",
    "new_df = pd.concat([multi_df, dummies_occupation], axis = 'columns')\n",
    "multi_df = new_df"
   ]
  },
  {
   "cell_type": "code",
   "execution_count": 425,
   "id": "bf06280c",
   "metadata": {},
   "outputs": [],
   "source": [
    "multi_df.drop(['occupation', 'State-gov'], axis=1, inplace=True)"
   ]
  },
  {
   "cell_type": "code",
   "execution_count": 426,
   "id": "cfbb9a0c",
   "metadata": {},
   "outputs": [
    {
     "data": {
      "text/html": [
       "<div>\n",
       "<style scoped>\n",
       "    .dataframe tbody tr th:only-of-type {\n",
       "        vertical-align: middle;\n",
       "    }\n",
       "\n",
       "    .dataframe tbody tr th {\n",
       "        vertical-align: top;\n",
       "    }\n",
       "\n",
       "    .dataframe thead th {\n",
       "        text-align: right;\n",
       "    }\n",
       "</style>\n",
       "<table border=\"1\" class=\"dataframe\">\n",
       "  <thead>\n",
       "    <tr style=\"text-align: right;\">\n",
       "      <th></th>\n",
       "      <th>marital-status</th>\n",
       "      <th>relationship</th>\n",
       "      <th>race</th>\n",
       "      <th>sex</th>\n",
       "    </tr>\n",
       "  </thead>\n",
       "  <tbody>\n",
       "    <tr>\n",
       "      <th>0</th>\n",
       "      <td>married</td>\n",
       "      <td>Husband</td>\n",
       "      <td>White</td>\n",
       "      <td>Male</td>\n",
       "    </tr>\n",
       "    <tr>\n",
       "      <th>1</th>\n",
       "      <td>not-married</td>\n",
       "      <td>Not-in-family</td>\n",
       "      <td>White</td>\n",
       "      <td>Female</td>\n",
       "    </tr>\n",
       "    <tr>\n",
       "      <th>2</th>\n",
       "      <td>married</td>\n",
       "      <td>Husband</td>\n",
       "      <td>White</td>\n",
       "      <td>Male</td>\n",
       "    </tr>\n",
       "    <tr>\n",
       "      <th>3</th>\n",
       "      <td>married</td>\n",
       "      <td>Husband</td>\n",
       "      <td>Black</td>\n",
       "      <td>Male</td>\n",
       "    </tr>\n",
       "    <tr>\n",
       "      <th>4</th>\n",
       "      <td>married</td>\n",
       "      <td>Husband</td>\n",
       "      <td>Asian-Pac-Islander</td>\n",
       "      <td>Male</td>\n",
       "    </tr>\n",
       "    <tr>\n",
       "      <th>...</th>\n",
       "      <td>...</td>\n",
       "      <td>...</td>\n",
       "      <td>...</td>\n",
       "      <td>...</td>\n",
       "    </tr>\n",
       "    <tr>\n",
       "      <th>17836</th>\n",
       "      <td>not-married</td>\n",
       "      <td>Own-child</td>\n",
       "      <td>Black</td>\n",
       "      <td>Male</td>\n",
       "    </tr>\n",
       "    <tr>\n",
       "      <th>17837</th>\n",
       "      <td>not-married</td>\n",
       "      <td>Own-child</td>\n",
       "      <td>White</td>\n",
       "      <td>Male</td>\n",
       "    </tr>\n",
       "    <tr>\n",
       "      <th>17838</th>\n",
       "      <td>not-married</td>\n",
       "      <td>Other-relative</td>\n",
       "      <td>White</td>\n",
       "      <td>Male</td>\n",
       "    </tr>\n",
       "    <tr>\n",
       "      <th>17839</th>\n",
       "      <td>not-married</td>\n",
       "      <td>Not-in-family</td>\n",
       "      <td>Asian-Pac-Islander</td>\n",
       "      <td>Female</td>\n",
       "    </tr>\n",
       "    <tr>\n",
       "      <th>17840</th>\n",
       "      <td>not-married</td>\n",
       "      <td>Not-in-family</td>\n",
       "      <td>White</td>\n",
       "      <td>Female</td>\n",
       "    </tr>\n",
       "  </tbody>\n",
       "</table>\n",
       "<p>17841 rows × 4 columns</p>\n",
       "</div>"
      ],
      "text/plain": [
       "      marital-status    relationship                race     sex\n",
       "0            married         Husband               White    Male\n",
       "1        not-married   Not-in-family               White  Female\n",
       "2            married         Husband               White    Male\n",
       "3            married         Husband               Black    Male\n",
       "4            married         Husband  Asian-Pac-Islander    Male\n",
       "...              ...             ...                 ...     ...\n",
       "17836    not-married       Own-child               Black    Male\n",
       "17837    not-married       Own-child               White    Male\n",
       "17838    not-married  Other-relative               White    Male\n",
       "17839    not-married   Not-in-family  Asian-Pac-Islander  Female\n",
       "17840    not-married   Not-in-family               White  Female\n",
       "\n",
       "[17841 rows x 4 columns]"
      ]
     },
     "execution_count": 426,
     "metadata": {},
     "output_type": "execute_result"
    }
   ],
   "source": [
    "multi_df.select_dtypes(exclude=[\"number\",\"bool_\"])"
   ]
  },
  {
   "cell_type": "code",
   "execution_count": 427,
   "id": "12d3aa8d",
   "metadata": {},
   "outputs": [
    {
     "name": "stdout",
     "output_type": "stream",
     "text": [
      "['Male' 'Female']\n"
     ]
    }
   ],
   "source": [
    "print(multi_df[\"sex\"].unique())\n",
    "multi_df['sex'] = multi_df['sex'].replace('Male', 1)\n",
    "multi_df['sex'] = multi_df['sex'].replace('Female', 2)"
   ]
  },
  {
   "cell_type": "code",
   "execution_count": 428,
   "id": "a4e7c00f",
   "metadata": {},
   "outputs": [
    {
     "data": {
      "text/plain": [
       "array(['White', 'Black', 'Asian-Pac-Islander', 'Other',\n",
       "       'Amer-Indian-Eskimo'], dtype=object)"
      ]
     },
     "execution_count": 428,
     "metadata": {},
     "output_type": "execute_result"
    }
   ],
   "source": [
    "multi_df[\"race\"].unique()"
   ]
  },
  {
   "cell_type": "code",
   "execution_count": 429,
   "id": "137ed55d",
   "metadata": {},
   "outputs": [],
   "source": [
    "dummies_race = pd.get_dummies(multi_df[\"race\"])\n",
    "new_df = pd.concat([multi_df, dummies_race], axis = 'columns')\n",
    "multi_df = new_df"
   ]
  },
  {
   "cell_type": "code",
   "execution_count": 430,
   "id": "7271eb7e",
   "metadata": {},
   "outputs": [],
   "source": [
    "multi_df.drop(['race', 'White'], axis=1, inplace=True)"
   ]
  },
  {
   "cell_type": "code",
   "execution_count": 431,
   "id": "a8bb7e20",
   "metadata": {},
   "outputs": [
    {
     "data": {
      "text/html": [
       "<div>\n",
       "<style scoped>\n",
       "    .dataframe tbody tr th:only-of-type {\n",
       "        vertical-align: middle;\n",
       "    }\n",
       "\n",
       "    .dataframe tbody tr th {\n",
       "        vertical-align: top;\n",
       "    }\n",
       "\n",
       "    .dataframe thead th {\n",
       "        text-align: right;\n",
       "    }\n",
       "</style>\n",
       "<table border=\"1\" class=\"dataframe\">\n",
       "  <thead>\n",
       "    <tr style=\"text-align: right;\">\n",
       "      <th></th>\n",
       "      <th>marital-status</th>\n",
       "      <th>relationship</th>\n",
       "    </tr>\n",
       "  </thead>\n",
       "  <tbody>\n",
       "    <tr>\n",
       "      <th>0</th>\n",
       "      <td>married</td>\n",
       "      <td>Husband</td>\n",
       "    </tr>\n",
       "    <tr>\n",
       "      <th>1</th>\n",
       "      <td>not-married</td>\n",
       "      <td>Not-in-family</td>\n",
       "    </tr>\n",
       "    <tr>\n",
       "      <th>2</th>\n",
       "      <td>married</td>\n",
       "      <td>Husband</td>\n",
       "    </tr>\n",
       "    <tr>\n",
       "      <th>3</th>\n",
       "      <td>married</td>\n",
       "      <td>Husband</td>\n",
       "    </tr>\n",
       "    <tr>\n",
       "      <th>4</th>\n",
       "      <td>married</td>\n",
       "      <td>Husband</td>\n",
       "    </tr>\n",
       "    <tr>\n",
       "      <th>...</th>\n",
       "      <td>...</td>\n",
       "      <td>...</td>\n",
       "    </tr>\n",
       "    <tr>\n",
       "      <th>17836</th>\n",
       "      <td>not-married</td>\n",
       "      <td>Own-child</td>\n",
       "    </tr>\n",
       "    <tr>\n",
       "      <th>17837</th>\n",
       "      <td>not-married</td>\n",
       "      <td>Own-child</td>\n",
       "    </tr>\n",
       "    <tr>\n",
       "      <th>17838</th>\n",
       "      <td>not-married</td>\n",
       "      <td>Other-relative</td>\n",
       "    </tr>\n",
       "    <tr>\n",
       "      <th>17839</th>\n",
       "      <td>not-married</td>\n",
       "      <td>Not-in-family</td>\n",
       "    </tr>\n",
       "    <tr>\n",
       "      <th>17840</th>\n",
       "      <td>not-married</td>\n",
       "      <td>Not-in-family</td>\n",
       "    </tr>\n",
       "  </tbody>\n",
       "</table>\n",
       "<p>17841 rows × 2 columns</p>\n",
       "</div>"
      ],
      "text/plain": [
       "      marital-status    relationship\n",
       "0            married         Husband\n",
       "1        not-married   Not-in-family\n",
       "2            married         Husband\n",
       "3            married         Husband\n",
       "4            married         Husband\n",
       "...              ...             ...\n",
       "17836    not-married       Own-child\n",
       "17837    not-married       Own-child\n",
       "17838    not-married  Other-relative\n",
       "17839    not-married   Not-in-family\n",
       "17840    not-married   Not-in-family\n",
       "\n",
       "[17841 rows x 2 columns]"
      ]
     },
     "execution_count": 431,
     "metadata": {},
     "output_type": "execute_result"
    }
   ],
   "source": [
    "multi_df.select_dtypes(exclude=[\"number\",\"bool_\"])"
   ]
  },
  {
   "cell_type": "code",
   "execution_count": 432,
   "id": "5d9cea3e",
   "metadata": {},
   "outputs": [
    {
     "data": {
      "text/plain": [
       "array(['married', 'not-married', 'other'], dtype=object)"
      ]
     },
     "execution_count": 432,
     "metadata": {},
     "output_type": "execute_result"
    }
   ],
   "source": [
    "multi_df[\"marital-status\"].unique()"
   ]
  },
  {
   "cell_type": "code",
   "execution_count": 433,
   "id": "190ab2e2",
   "metadata": {},
   "outputs": [],
   "source": [
    "dummies_martial = pd.get_dummies(multi_df[\"marital-status\"])\n",
    "new_df = pd.concat([multi_df, dummies_martial], axis = 'columns')\n",
    "multi_df = new_df"
   ]
  },
  {
   "cell_type": "code",
   "execution_count": 434,
   "id": "9321ef85",
   "metadata": {},
   "outputs": [
    {
     "data": {
      "text/plain": [
       "Index(['age', 'education', 'education-num', 'marital-status', 'relationship',\n",
       "       'sex', 'capital-gain', 'capital-loss', 'hours-per-week', 'income',\n",
       "       'Cambodia', 'Canada', 'China', 'Columbia', 'Cuba', 'Dominican-Republic',\n",
       "       'Ecuador', 'El-Salvador', 'England', 'France', 'Germany', 'Greece',\n",
       "       'Guatemala', 'Haiti', 'Honduras', 'Hong', 'Hungary', 'India', 'Iran',\n",
       "       'Ireland', 'Italy', 'Jamaica', 'Japan', 'Laos', 'Mexico', 'Nicaragua',\n",
       "       'Peru', 'Philippines', 'Poland', 'Portugal', 'Puerto-Rico', 'Scotland',\n",
       "       'South', 'Taiwan', 'Thailand', 'Trinadad&Tobago', 'United-States',\n",
       "       'Vietnam', 'Federal-gov', 'Local-gov', 'Never-worked', 'Self-emp-inc',\n",
       "       'Self-emp-not-inc', 'Without-pay', 'Adm-clerical', 'Armed-Forces',\n",
       "       'Craft-repair', 'Exec-managerial', 'Farming-fishing',\n",
       "       'Handlers-cleaners', 'Machine-op-inspct', 'Other-service',\n",
       "       'Priv-house-serv', 'Prof-specialty', 'Protective-serv', 'Sales',\n",
       "       'Tech-support', 'Transport-moving', 'Amer-Indian-Eskimo',\n",
       "       'Asian-Pac-Islander', 'Black', 'Other', 'married', 'not-married',\n",
       "       'other'],\n",
       "      dtype='object')"
      ]
     },
     "execution_count": 434,
     "metadata": {},
     "output_type": "execute_result"
    }
   ],
   "source": [
    "multi_df.columns"
   ]
  },
  {
   "cell_type": "code",
   "execution_count": 435,
   "id": "bcefa30c",
   "metadata": {},
   "outputs": [],
   "source": [
    "multi_df.drop(['marital-status', 'married'], axis=1, inplace=True)"
   ]
  },
  {
   "cell_type": "code",
   "execution_count": 436,
   "id": "7aba67e2",
   "metadata": {},
   "outputs": [],
   "source": [
    "multi_df.drop(['relationship'], axis=1, inplace=True)"
   ]
  },
  {
   "cell_type": "code",
   "execution_count": 437,
   "id": "77fa0b72",
   "metadata": {},
   "outputs": [
    {
     "name": "stdout",
     "output_type": "stream",
     "text": [
      "(17841, 72)\n"
     ]
    }
   ],
   "source": [
    "print(multi_df.shape)"
   ]
  },
  {
   "cell_type": "code",
   "execution_count": 438,
   "id": "b45850bb",
   "metadata": {},
   "outputs": [
    {
     "name": "stdout",
     "output_type": "stream",
     "text": [
      "                         age  education  education-num       sex  \\\n",
      "age                 1.000000   0.119346       0.075006 -0.122290   \n",
      "education           0.119346   1.000000       0.732212 -0.053289   \n",
      "education-num       0.075006   0.732212       1.000000 -0.053460   \n",
      "sex                -0.122290  -0.053289      -0.053460  1.000000   \n",
      "capital-gain        0.088224   0.069667       0.138364 -0.048916   \n",
      "...                      ...        ...            ...       ...   \n",
      "Asian-Pac-Islander -0.007820   0.045704       0.058991 -0.012317   \n",
      "Black              -0.036329  -0.067119      -0.081218  0.115287   \n",
      "Other              -0.036633  -0.039282      -0.054144  0.018841   \n",
      "not-married        -0.511451  -0.102184      -0.090308  0.202776   \n",
      "other               0.171829  -0.057700      -0.084250  0.332846   \n",
      "\n",
      "                    capital-gain  capital-loss  hours-per-week    income  \\\n",
      "age                     0.088224      0.063668        0.078374  0.287609   \n",
      "education               0.069667      0.077340        0.161644  0.299074   \n",
      "education-num           0.138364      0.095234        0.178297  0.384054   \n",
      "sex                    -0.048916     -0.052879       -0.246749 -0.260733   \n",
      "capital-gain            1.000000     -0.046787        0.088020  0.194228   \n",
      "...                          ...           ...             ...       ...   \n",
      "Asian-Pac-Islander      0.012677      0.000356       -0.003757  0.010832   \n",
      "Black                  -0.020492     -0.021275       -0.060231 -0.109333   \n",
      "Other                   0.000237     -0.006030       -0.013319 -0.043088   \n",
      "not-married            -0.065928     -0.064591       -0.203652 -0.396785   \n",
      "other                  -0.025858     -0.040183       -0.045619 -0.220265   \n",
      "\n",
      "                    Cambodia    Canada  ...  Protective-serv     Sales  \\\n",
      "age                -0.002266  0.009485  ...         0.006032 -0.018720   \n",
      "education          -0.009607  0.011927  ...        -0.021687  0.000428   \n",
      "education-num      -0.017012  0.012803  ...        -0.007063  0.011951   \n",
      "sex                -0.012354  0.010908  ...        -0.063243 -0.002925   \n",
      "capital-gain       -0.002188  0.004806  ...        -0.013622  0.014427   \n",
      "...                      ...       ...  ...              ...       ...   \n",
      "Asian-Pac-Islander  0.146144 -0.006092  ...        -0.012879 -0.011077   \n",
      "Black              -0.008152 -0.018395  ...         0.030308 -0.029609   \n",
      "Other              -0.002322 -0.005241  ...         0.004907 -0.008595   \n",
      "not-married        -0.001734 -0.006507  ...        -0.032408  0.012924   \n",
      "other              -0.007121 -0.004180  ...        -0.010170 -0.020486   \n",
      "\n",
      "                    Tech-support  Transport-moving  Amer-Indian-Eskimo  \\\n",
      "age                    -0.012896          0.016569           -0.021994   \n",
      "education              -0.007735         -0.087724           -0.025830   \n",
      "education-num           0.039540         -0.137283           -0.032762   \n",
      "sex                    -0.003010         -0.116325            0.029679   \n",
      "capital-gain           -0.014543         -0.023824           -0.008123   \n",
      "...                          ...               ...                 ...   \n",
      "Asian-Pac-Islander      0.017252         -0.022722           -0.017298   \n",
      "Black                  -0.007844          0.004489           -0.028260   \n",
      "Other                  -0.003548         -0.001074           -0.008052   \n",
      "not-married             0.001313         -0.042267            0.014989   \n",
      "other                  -0.005947         -0.023716            0.018091   \n",
      "\n",
      "                    Asian-Pac-Islander     Black     Other  not-married  \\\n",
      "age                          -0.007820 -0.036329 -0.036633    -0.511451   \n",
      "education                     0.045704 -0.067119 -0.039282    -0.102184   \n",
      "education-num                 0.058991 -0.081218 -0.054144    -0.090308   \n",
      "sex                          -0.012317  0.115287  0.018841     0.202776   \n",
      "capital-gain                  0.012677 -0.020492  0.000237    -0.065928   \n",
      "...                                ...       ...       ...          ...   \n",
      "Asian-Pac-Islander            1.000000 -0.055777 -0.015891     0.002513   \n",
      "Black                        -0.055777  1.000000 -0.025963     0.081053   \n",
      "Other                        -0.015891 -0.025963  1.000000     0.019611   \n",
      "not-married                   0.002513  0.081053  0.019611     1.000000   \n",
      "other                        -0.026002  0.078525  0.011535    -0.274795   \n",
      "\n",
      "                       other  \n",
      "age                 0.171829  \n",
      "education          -0.057700  \n",
      "education-num      -0.084250  \n",
      "sex                 0.332846  \n",
      "capital-gain       -0.025858  \n",
      "...                      ...  \n",
      "Asian-Pac-Islander -0.026002  \n",
      "Black               0.078525  \n",
      "Other               0.011535  \n",
      "not-married        -0.274795  \n",
      "other               1.000000  \n",
      "\n",
      "[72 rows x 72 columns]\n"
     ]
    }
   ],
   "source": [
    "print(multi_df.corr())"
   ]
  },
  {
   "cell_type": "code",
   "execution_count": 439,
   "id": "d13ced6b",
   "metadata": {},
   "outputs": [],
   "source": [
    "#### Removing Categorical data part is done"
   ]
  },
  {
   "cell_type": "code",
   "execution_count": 440,
   "id": "a81149fe",
   "metadata": {},
   "outputs": [
    {
     "data": {
      "text/html": [
       "<div>\n",
       "<style scoped>\n",
       "    .dataframe tbody tr th:only-of-type {\n",
       "        vertical-align: middle;\n",
       "    }\n",
       "\n",
       "    .dataframe tbody tr th {\n",
       "        vertical-align: top;\n",
       "    }\n",
       "\n",
       "    .dataframe thead th {\n",
       "        text-align: right;\n",
       "    }\n",
       "</style>\n",
       "<table border=\"1\" class=\"dataframe\">\n",
       "  <thead>\n",
       "    <tr style=\"text-align: right;\">\n",
       "      <th></th>\n",
       "      <th>age</th>\n",
       "      <th>education</th>\n",
       "      <th>education-num</th>\n",
       "      <th>sex</th>\n",
       "      <th>capital-gain</th>\n",
       "      <th>capital-loss</th>\n",
       "      <th>hours-per-week</th>\n",
       "      <th>income</th>\n",
       "      <th>Cambodia</th>\n",
       "      <th>Canada</th>\n",
       "      <th>...</th>\n",
       "      <th>Protective-serv</th>\n",
       "      <th>Sales</th>\n",
       "      <th>Tech-support</th>\n",
       "      <th>Transport-moving</th>\n",
       "      <th>Amer-Indian-Eskimo</th>\n",
       "      <th>Asian-Pac-Islander</th>\n",
       "      <th>Black</th>\n",
       "      <th>Other</th>\n",
       "      <th>not-married</th>\n",
       "      <th>other</th>\n",
       "    </tr>\n",
       "  </thead>\n",
       "  <tbody>\n",
       "    <tr>\n",
       "      <th>age</th>\n",
       "      <td>1.000000</td>\n",
       "      <td>0.119346</td>\n",
       "      <td>0.075006</td>\n",
       "      <td>-0.122290</td>\n",
       "      <td>0.088224</td>\n",
       "      <td>0.063668</td>\n",
       "      <td>0.078374</td>\n",
       "      <td>0.287609</td>\n",
       "      <td>-0.002266</td>\n",
       "      <td>0.009485</td>\n",
       "      <td>...</td>\n",
       "      <td>0.006032</td>\n",
       "      <td>-0.018720</td>\n",
       "      <td>-0.012896</td>\n",
       "      <td>0.016569</td>\n",
       "      <td>-0.021994</td>\n",
       "      <td>-0.007820</td>\n",
       "      <td>-0.036329</td>\n",
       "      <td>-0.036633</td>\n",
       "      <td>-0.511451</td>\n",
       "      <td>0.171829</td>\n",
       "    </tr>\n",
       "    <tr>\n",
       "      <th>education</th>\n",
       "      <td>0.119346</td>\n",
       "      <td>1.000000</td>\n",
       "      <td>0.732212</td>\n",
       "      <td>-0.053289</td>\n",
       "      <td>0.069667</td>\n",
       "      <td>0.077340</td>\n",
       "      <td>0.161644</td>\n",
       "      <td>0.299074</td>\n",
       "      <td>-0.009607</td>\n",
       "      <td>0.011927</td>\n",
       "      <td>...</td>\n",
       "      <td>-0.021687</td>\n",
       "      <td>0.000428</td>\n",
       "      <td>-0.007735</td>\n",
       "      <td>-0.087724</td>\n",
       "      <td>-0.025830</td>\n",
       "      <td>0.045704</td>\n",
       "      <td>-0.067119</td>\n",
       "      <td>-0.039282</td>\n",
       "      <td>-0.102184</td>\n",
       "      <td>-0.057700</td>\n",
       "    </tr>\n",
       "    <tr>\n",
       "      <th>education-num</th>\n",
       "      <td>0.075006</td>\n",
       "      <td>0.732212</td>\n",
       "      <td>1.000000</td>\n",
       "      <td>-0.053460</td>\n",
       "      <td>0.138364</td>\n",
       "      <td>0.095234</td>\n",
       "      <td>0.178297</td>\n",
       "      <td>0.384054</td>\n",
       "      <td>-0.017012</td>\n",
       "      <td>0.012803</td>\n",
       "      <td>...</td>\n",
       "      <td>-0.007063</td>\n",
       "      <td>0.011951</td>\n",
       "      <td>0.039540</td>\n",
       "      <td>-0.137283</td>\n",
       "      <td>-0.032762</td>\n",
       "      <td>0.058991</td>\n",
       "      <td>-0.081218</td>\n",
       "      <td>-0.054144</td>\n",
       "      <td>-0.090308</td>\n",
       "      <td>-0.084250</td>\n",
       "    </tr>\n",
       "    <tr>\n",
       "      <th>sex</th>\n",
       "      <td>-0.122290</td>\n",
       "      <td>-0.053289</td>\n",
       "      <td>-0.053460</td>\n",
       "      <td>1.000000</td>\n",
       "      <td>-0.048916</td>\n",
       "      <td>-0.052879</td>\n",
       "      <td>-0.246749</td>\n",
       "      <td>-0.260733</td>\n",
       "      <td>-0.012354</td>\n",
       "      <td>0.010908</td>\n",
       "      <td>...</td>\n",
       "      <td>-0.063243</td>\n",
       "      <td>-0.002925</td>\n",
       "      <td>-0.003010</td>\n",
       "      <td>-0.116325</td>\n",
       "      <td>0.029679</td>\n",
       "      <td>-0.012317</td>\n",
       "      <td>0.115287</td>\n",
       "      <td>0.018841</td>\n",
       "      <td>0.202776</td>\n",
       "      <td>0.332846</td>\n",
       "    </tr>\n",
       "    <tr>\n",
       "      <th>capital-gain</th>\n",
       "      <td>0.088224</td>\n",
       "      <td>0.069667</td>\n",
       "      <td>0.138364</td>\n",
       "      <td>-0.048916</td>\n",
       "      <td>1.000000</td>\n",
       "      <td>-0.046787</td>\n",
       "      <td>0.088020</td>\n",
       "      <td>0.194228</td>\n",
       "      <td>-0.002188</td>\n",
       "      <td>0.004806</td>\n",
       "      <td>...</td>\n",
       "      <td>-0.013622</td>\n",
       "      <td>0.014427</td>\n",
       "      <td>-0.014543</td>\n",
       "      <td>-0.023824</td>\n",
       "      <td>-0.008123</td>\n",
       "      <td>0.012677</td>\n",
       "      <td>-0.020492</td>\n",
       "      <td>0.000237</td>\n",
       "      <td>-0.065928</td>\n",
       "      <td>-0.025858</td>\n",
       "    </tr>\n",
       "    <tr>\n",
       "      <th>...</th>\n",
       "      <td>...</td>\n",
       "      <td>...</td>\n",
       "      <td>...</td>\n",
       "      <td>...</td>\n",
       "      <td>...</td>\n",
       "      <td>...</td>\n",
       "      <td>...</td>\n",
       "      <td>...</td>\n",
       "      <td>...</td>\n",
       "      <td>...</td>\n",
       "      <td>...</td>\n",
       "      <td>...</td>\n",
       "      <td>...</td>\n",
       "      <td>...</td>\n",
       "      <td>...</td>\n",
       "      <td>...</td>\n",
       "      <td>...</td>\n",
       "      <td>...</td>\n",
       "      <td>...</td>\n",
       "      <td>...</td>\n",
       "      <td>...</td>\n",
       "    </tr>\n",
       "    <tr>\n",
       "      <th>Asian-Pac-Islander</th>\n",
       "      <td>-0.007820</td>\n",
       "      <td>0.045704</td>\n",
       "      <td>0.058991</td>\n",
       "      <td>-0.012317</td>\n",
       "      <td>0.012677</td>\n",
       "      <td>0.000356</td>\n",
       "      <td>-0.003757</td>\n",
       "      <td>0.010832</td>\n",
       "      <td>0.146144</td>\n",
       "      <td>-0.006092</td>\n",
       "      <td>...</td>\n",
       "      <td>-0.012879</td>\n",
       "      <td>-0.011077</td>\n",
       "      <td>0.017252</td>\n",
       "      <td>-0.022722</td>\n",
       "      <td>-0.017298</td>\n",
       "      <td>1.000000</td>\n",
       "      <td>-0.055777</td>\n",
       "      <td>-0.015891</td>\n",
       "      <td>0.002513</td>\n",
       "      <td>-0.026002</td>\n",
       "    </tr>\n",
       "    <tr>\n",
       "      <th>Black</th>\n",
       "      <td>-0.036329</td>\n",
       "      <td>-0.067119</td>\n",
       "      <td>-0.081218</td>\n",
       "      <td>0.115287</td>\n",
       "      <td>-0.020492</td>\n",
       "      <td>-0.021275</td>\n",
       "      <td>-0.060231</td>\n",
       "      <td>-0.109333</td>\n",
       "      <td>-0.008152</td>\n",
       "      <td>-0.018395</td>\n",
       "      <td>...</td>\n",
       "      <td>0.030308</td>\n",
       "      <td>-0.029609</td>\n",
       "      <td>-0.007844</td>\n",
       "      <td>0.004489</td>\n",
       "      <td>-0.028260</td>\n",
       "      <td>-0.055777</td>\n",
       "      <td>1.000000</td>\n",
       "      <td>-0.025963</td>\n",
       "      <td>0.081053</td>\n",
       "      <td>0.078525</td>\n",
       "    </tr>\n",
       "    <tr>\n",
       "      <th>Other</th>\n",
       "      <td>-0.036633</td>\n",
       "      <td>-0.039282</td>\n",
       "      <td>-0.054144</td>\n",
       "      <td>0.018841</td>\n",
       "      <td>0.000237</td>\n",
       "      <td>-0.006030</td>\n",
       "      <td>-0.013319</td>\n",
       "      <td>-0.043088</td>\n",
       "      <td>-0.002322</td>\n",
       "      <td>-0.005241</td>\n",
       "      <td>...</td>\n",
       "      <td>0.004907</td>\n",
       "      <td>-0.008595</td>\n",
       "      <td>-0.003548</td>\n",
       "      <td>-0.001074</td>\n",
       "      <td>-0.008052</td>\n",
       "      <td>-0.015891</td>\n",
       "      <td>-0.025963</td>\n",
       "      <td>1.000000</td>\n",
       "      <td>0.019611</td>\n",
       "      <td>0.011535</td>\n",
       "    </tr>\n",
       "    <tr>\n",
       "      <th>not-married</th>\n",
       "      <td>-0.511451</td>\n",
       "      <td>-0.102184</td>\n",
       "      <td>-0.090308</td>\n",
       "      <td>0.202776</td>\n",
       "      <td>-0.065928</td>\n",
       "      <td>-0.064591</td>\n",
       "      <td>-0.203652</td>\n",
       "      <td>-0.396785</td>\n",
       "      <td>-0.001734</td>\n",
       "      <td>-0.006507</td>\n",
       "      <td>...</td>\n",
       "      <td>-0.032408</td>\n",
       "      <td>0.012924</td>\n",
       "      <td>0.001313</td>\n",
       "      <td>-0.042267</td>\n",
       "      <td>0.014989</td>\n",
       "      <td>0.002513</td>\n",
       "      <td>0.081053</td>\n",
       "      <td>0.019611</td>\n",
       "      <td>1.000000</td>\n",
       "      <td>-0.274795</td>\n",
       "    </tr>\n",
       "    <tr>\n",
       "      <th>other</th>\n",
       "      <td>0.171829</td>\n",
       "      <td>-0.057700</td>\n",
       "      <td>-0.084250</td>\n",
       "      <td>0.332846</td>\n",
       "      <td>-0.025858</td>\n",
       "      <td>-0.040183</td>\n",
       "      <td>-0.045619</td>\n",
       "      <td>-0.220265</td>\n",
       "      <td>-0.007121</td>\n",
       "      <td>-0.004180</td>\n",
       "      <td>...</td>\n",
       "      <td>-0.010170</td>\n",
       "      <td>-0.020486</td>\n",
       "      <td>-0.005947</td>\n",
       "      <td>-0.023716</td>\n",
       "      <td>0.018091</td>\n",
       "      <td>-0.026002</td>\n",
       "      <td>0.078525</td>\n",
       "      <td>0.011535</td>\n",
       "      <td>-0.274795</td>\n",
       "      <td>1.000000</td>\n",
       "    </tr>\n",
       "  </tbody>\n",
       "</table>\n",
       "<p>72 rows × 72 columns</p>\n",
       "</div>"
      ],
      "text/plain": [
       "                         age  education  education-num       sex  \\\n",
       "age                 1.000000   0.119346       0.075006 -0.122290   \n",
       "education           0.119346   1.000000       0.732212 -0.053289   \n",
       "education-num       0.075006   0.732212       1.000000 -0.053460   \n",
       "sex                -0.122290  -0.053289      -0.053460  1.000000   \n",
       "capital-gain        0.088224   0.069667       0.138364 -0.048916   \n",
       "...                      ...        ...            ...       ...   \n",
       "Asian-Pac-Islander -0.007820   0.045704       0.058991 -0.012317   \n",
       "Black              -0.036329  -0.067119      -0.081218  0.115287   \n",
       "Other              -0.036633  -0.039282      -0.054144  0.018841   \n",
       "not-married        -0.511451  -0.102184      -0.090308  0.202776   \n",
       "other               0.171829  -0.057700      -0.084250  0.332846   \n",
       "\n",
       "                    capital-gain  capital-loss  hours-per-week    income  \\\n",
       "age                     0.088224      0.063668        0.078374  0.287609   \n",
       "education               0.069667      0.077340        0.161644  0.299074   \n",
       "education-num           0.138364      0.095234        0.178297  0.384054   \n",
       "sex                    -0.048916     -0.052879       -0.246749 -0.260733   \n",
       "capital-gain            1.000000     -0.046787        0.088020  0.194228   \n",
       "...                          ...           ...             ...       ...   \n",
       "Asian-Pac-Islander      0.012677      0.000356       -0.003757  0.010832   \n",
       "Black                  -0.020492     -0.021275       -0.060231 -0.109333   \n",
       "Other                   0.000237     -0.006030       -0.013319 -0.043088   \n",
       "not-married            -0.065928     -0.064591       -0.203652 -0.396785   \n",
       "other                  -0.025858     -0.040183       -0.045619 -0.220265   \n",
       "\n",
       "                    Cambodia    Canada  ...  Protective-serv     Sales  \\\n",
       "age                -0.002266  0.009485  ...         0.006032 -0.018720   \n",
       "education          -0.009607  0.011927  ...        -0.021687  0.000428   \n",
       "education-num      -0.017012  0.012803  ...        -0.007063  0.011951   \n",
       "sex                -0.012354  0.010908  ...        -0.063243 -0.002925   \n",
       "capital-gain       -0.002188  0.004806  ...        -0.013622  0.014427   \n",
       "...                      ...       ...  ...              ...       ...   \n",
       "Asian-Pac-Islander  0.146144 -0.006092  ...        -0.012879 -0.011077   \n",
       "Black              -0.008152 -0.018395  ...         0.030308 -0.029609   \n",
       "Other              -0.002322 -0.005241  ...         0.004907 -0.008595   \n",
       "not-married        -0.001734 -0.006507  ...        -0.032408  0.012924   \n",
       "other              -0.007121 -0.004180  ...        -0.010170 -0.020486   \n",
       "\n",
       "                    Tech-support  Transport-moving  Amer-Indian-Eskimo  \\\n",
       "age                    -0.012896          0.016569           -0.021994   \n",
       "education              -0.007735         -0.087724           -0.025830   \n",
       "education-num           0.039540         -0.137283           -0.032762   \n",
       "sex                    -0.003010         -0.116325            0.029679   \n",
       "capital-gain           -0.014543         -0.023824           -0.008123   \n",
       "...                          ...               ...                 ...   \n",
       "Asian-Pac-Islander      0.017252         -0.022722           -0.017298   \n",
       "Black                  -0.007844          0.004489           -0.028260   \n",
       "Other                  -0.003548         -0.001074           -0.008052   \n",
       "not-married             0.001313         -0.042267            0.014989   \n",
       "other                  -0.005947         -0.023716            0.018091   \n",
       "\n",
       "                    Asian-Pac-Islander     Black     Other  not-married  \\\n",
       "age                          -0.007820 -0.036329 -0.036633    -0.511451   \n",
       "education                     0.045704 -0.067119 -0.039282    -0.102184   \n",
       "education-num                 0.058991 -0.081218 -0.054144    -0.090308   \n",
       "sex                          -0.012317  0.115287  0.018841     0.202776   \n",
       "capital-gain                  0.012677 -0.020492  0.000237    -0.065928   \n",
       "...                                ...       ...       ...          ...   \n",
       "Asian-Pac-Islander            1.000000 -0.055777 -0.015891     0.002513   \n",
       "Black                        -0.055777  1.000000 -0.025963     0.081053   \n",
       "Other                        -0.015891 -0.025963  1.000000     0.019611   \n",
       "not-married                   0.002513  0.081053  0.019611     1.000000   \n",
       "other                        -0.026002  0.078525  0.011535    -0.274795   \n",
       "\n",
       "                       other  \n",
       "age                 0.171829  \n",
       "education          -0.057700  \n",
       "education-num      -0.084250  \n",
       "sex                 0.332846  \n",
       "capital-gain       -0.025858  \n",
       "...                      ...  \n",
       "Asian-Pac-Islander -0.026002  \n",
       "Black               0.078525  \n",
       "Other               0.011535  \n",
       "not-married        -0.274795  \n",
       "other               1.000000  \n",
       "\n",
       "[72 rows x 72 columns]"
      ]
     },
     "execution_count": 440,
     "metadata": {},
     "output_type": "execute_result"
    }
   ],
   "source": [
    "multi_df.corr()"
   ]
  },
  {
   "cell_type": "code",
   "execution_count": 441,
   "id": "ba02a4e9",
   "metadata": {},
   "outputs": [],
   "source": [
    "X_m = multi_df.drop('income', 1)\n",
    "y_m = multi_df[\"income\"]"
   ]
  },
  {
   "cell_type": "code",
   "execution_count": 442,
   "id": "5d6c5352",
   "metadata": {},
   "outputs": [
    {
     "name": "stdout",
     "output_type": "stream",
     "text": [
      "(17841, 71)\n",
      "(17841,)\n"
     ]
    }
   ],
   "source": [
    "print(X_m.shape)\n",
    "print(y_m.shape)"
   ]
  },
  {
   "cell_type": "code",
   "execution_count": 443,
   "id": "ea452234",
   "metadata": {},
   "outputs": [
    {
     "name": "stdout",
     "output_type": "stream",
     "text": [
      "(12488, 71)\n",
      "(5353, 71)\n",
      "(12488,)\n",
      "(5353,)\n"
     ]
    }
   ],
   "source": [
    "multi_df = multi_df.sample(frac=1)\n",
    "\n",
    "# Define a size for your train set \n",
    "train_size = int(0.7 * len(uni_df))\n",
    "# Split your dataset \n",
    "X_train_m = X_m[:train_size]\n",
    "X_test_m = X_m[train_size:]\n",
    "\n",
    "y_train_m = y_m[:train_size]\n",
    "y_test_m = y_m[train_size:]\n",
    "\n",
    "#Lets create a matrix with single column of ones\n",
    "\n",
    "m = X_train_m.shape[0]\n",
    "n = X_test_m.shape[0]\n",
    "col = X_train_m.shape[1]\n",
    "X_m0 = np.ones((m, 1))\n",
    "X_m0[:5]\n",
    "X_train_m = X_train_m.values.reshape((m, col))\n",
    "X_test_m = X_test_m.values.reshape((n, col))\n",
    "print(X_train_m.shape)\n",
    "print(X_test_m.shape)\n",
    "print(y_train_m.shape)\n",
    "print(y_test_m.shape)"
   ]
  },
  {
   "cell_type": "code",
   "execution_count": 444,
   "id": "7478ba5b",
   "metadata": {},
   "outputs": [],
   "source": [
    "X_train_m = np.hstack((X_train_m, X_m0)) "
   ]
  },
  {
   "cell_type": "code",
   "execution_count": 445,
   "id": "d544b19a",
   "metadata": {},
   "outputs": [
    {
     "data": {
      "text/plain": [
       "(12488, 72)"
      ]
     },
     "execution_count": 445,
     "metadata": {},
     "output_type": "execute_result"
    }
   ],
   "source": [
    "X_train_m.shape"
   ]
  },
  {
   "cell_type": "code",
   "execution_count": 446,
   "id": "da5252fa",
   "metadata": {},
   "outputs": [
    {
     "name": "stdout",
     "output_type": "stream",
     "text": [
      "[0. 0. 0. 0. 0. 0. 0. 0. 0. 0. 0. 0. 0. 0. 0. 0. 0. 0. 0. 0. 0. 0. 0. 0.\n",
      " 0. 0. 0. 0. 0. 0. 0. 0. 0. 0. 0. 0. 0. 0. 0. 0. 0. 0. 0. 0. 0. 0. 0. 0.\n",
      " 0. 0. 0. 0. 0. 0. 0. 0. 0. 0. 0. 0. 0. 0. 0. 0. 0. 0. 0. 0. 0. 0. 0. 0.]\n"
     ]
    },
    {
     "data": {
      "text/plain": [
       "(72,)"
      ]
     },
     "execution_count": 446,
     "metadata": {},
     "output_type": "execute_result"
    }
   ],
   "source": [
    "theta_m = np.zeros(X_train_m.shape[1])\n",
    "print(theta_m)\n",
    "theta_m.shape"
   ]
  },
  {
   "cell_type": "code",
   "execution_count": null,
   "id": "253bd58f",
   "metadata": {},
   "outputs": [],
   "source": []
  },
  {
   "cell_type": "code",
   "execution_count": 447,
   "id": "9454d216",
   "metadata": {
    "scrolled": false
   },
   "outputs": [
    {
     "name": "stdout",
     "output_type": "stream",
     "text": [
      "(12488, 72)\n",
      "Gradient at initial theta (zeros): [ 5.37321758e-03  5.21457688e-03  6.91328061e-03 -8.54821026e-03\n",
      "  6.94163580e-02  1.40996358e-03  3.72779786e-04  6.68448660e-06\n",
      "  3.77794464e-05 -7.51498291e-06 -7.13879177e-05 -9.45650026e-07\n",
      " -6.12690762e-05 -7.98389561e-06 -3.19608899e-05  3.08038088e-05\n",
      "  1.05930814e-05 -3.52829226e-06 -9.52078839e-06 -7.10884404e-05\n",
      " -4.17305435e-05 -1.22438938e-05  4.98227830e-06 -1.14775595e-05\n",
      "  5.28338920e-05  1.25595310e-05  5.95068297e-07  1.90210725e-05\n",
      " -3.50991392e-05  1.40179850e-05 -1.56990901e-05 -4.06211409e-04\n",
      " -1.68435418e-05 -1.82432261e-05  3.12334925e-05 -1.42970980e-05\n",
      " -4.90830212e-06 -1.00616251e-04  2.20187100e-06 -1.70256732e-05\n",
      "  4.00643982e-05  7.45877160e-07 -9.26336969e-06 -2.25067019e-03\n",
      " -6.08336165e-05  4.49995169e-04  1.13868581e-04 -8.67013483e-06\n",
      "  9.27480248e-04 -2.31851320e-05 -1.39285689e-05 -1.55463356e-03\n",
      "  1.13264509e-06 -4.05958739e-04  1.61122907e-03 -5.18255445e-04\n",
      " -8.63219316e-04 -9.18746371e-04 -2.52316917e-03 -1.24486441e-04\n",
      "  2.31368599e-03  2.10114409e-04  5.15886244e-05  1.51514993e-04\n",
      " -4.39074115e-04 -1.64501382e-04 -4.53212436e-05 -1.45168193e-03\n",
      " -1.44251524e-04 -7.73537885e-03 -4.18118504e-03 -3.00827741e-03]\n"
     ]
    }
   ],
   "source": [
    "iterations = 1000\n",
    "print(X_train_m.shape)\n",
    "theta_m = [0]*(X_train_m.shape[1])\n",
    "theta_m = model(X_train_m, y_train_m, theta_m, 0.0001, iterations)\n",
    "print ('Gradient at initial theta (zeros):', theta_m)"
   ]
  },
  {
   "cell_type": "code",
   "execution_count": 448,
   "id": "73d6e15a",
   "metadata": {},
   "outputs": [],
   "source": [
    "y_pred_m = X_train_m.dot(theta_m)\n",
    "y_pred_m = sigmoid(y_pred_m)\n",
    "y_pred_m_list = y_pred_m.tolist()\n"
   ]
  },
  {
   "cell_type": "code",
   "execution_count": 449,
   "id": "9553946e",
   "metadata": {},
   "outputs": [],
   "source": [
    "y_pred_m_01 = [] \n",
    "for i in range(len(y_pred_m_list)):\n",
    "    if(y_pred_m_list[i] >= 0.65):\n",
    "        y_pred_m_01.append(1)\n",
    "    else:\n",
    "        y_pred_m_01.append(0)"
   ]
  },
  {
   "cell_type": "code",
   "execution_count": 450,
   "id": "ff51196c",
   "metadata": {},
   "outputs": [
    {
     "name": "stdout",
     "output_type": "stream",
     "text": [
      "[0, 1, 1, 0, 0, 0, 0, 0, 0, 0, 0, 0, 1, 0, 0, 0, 0, 0, 0, 1, 0, 0, 0, 1, 0, 0, 1, 1, 0, 1, 0, 0, 0, 0, 0, 0, 1, 0, 0, 1, 0, 0, 0, 0, 0, 1, 1, 0, 1, 1, 0, 0, 0, 0, 0, 0, 0, 0, 1, 0, 0, 0, 0, 0, 0, 1, 1, 1, 1, 0, 1, 0, 1, 0, 0, 1, 0, 1, 1, 1, 0, 0, 0, 0, 0, 0, 1, 0, 0, 1, 0, 1, 0, 0, 0, 1, 1, 1, 0, 0, 0, 0, 0, 0, 0, 0, 0, 0, 0, 1, 0, 0, 1, 0, 0, 1, 1, 0, 0, 0, 0, 1, 0, 0, 0, 0, 1, 0, 0, 0, 1, 0, 1, 1, 0, 1, 0, 0, 0, 1, 0, 1, 0, 1, 0, 0, 0, 0, 0, 1, 0, 0, 0, 0, 0, 0, 1, 1, 0, 0, 0, 1, 0, 1, 0, 1, 0, 1, 1, 0, 0, 0, 0, 0, 0, 0, 0, 0, 0, 0, 0, 1, 1, 1, 0, 0, 0, 1, 1, 0, 0, 1, 0, 0, 0, 0, 0, 0, 0, 1, 1, 0, 0, 0, 0, 1, 0, 0, 1, 0, 0, 1, 0, 1, 0, 0, 1, 0, 0, 0, 0, 0, 0, 0, 0, 1, 0, 0, 0, 0, 0, 1, 1, 0, 0, 1, 1, 0, 0, 0, 0, 1, 1, 0, 1, 0, 1, 0, 0, 1, 1, 0, 1, 0, 0, 1, 0, 0, 1, 0, 0, 1, 0, 0, 1, 0, 0, 0, 0, 0, 1, 0, 1, 0, 0, 0, 0, 1, 1, 0, 0, 0, 0, 0, 0, 0, 0, 0, 0, 0, 1, 1, 0, 1, 0, 0, 0, 0, 1, 0, 0, 1, 1, 0, 0, 0, 1, 0, 1, 1, 0, 0, 1, 1, 0, 0, 0, 0, 1, 0, 0, 0, 0, 0, 0, 0, 0, 0, 0, 0, 1, 1, 0, 1, 1, 1, 1, 0, 0, 0, 0, 0, 0, 0, 0, 1, 1, 0, 0, 0, 0, 1, 0, 0, 0, 0, 0, 1, 0, 0, 1, 0, 0, 1, 0, 0, 0, 1, 0, 0, 0, 0, 1, 1, 0, 0, 0, 1, 0, 0, 0, 1, 1, 1, 1, 0, 1, 0, 1, 0, 0, 0, 0, 0, 0, 1, 0, 1, 0, 1, 0, 0, 0, 1, 0, 1, 1, 0, 0, 0, 1, 0, 0, 0, 1, 0, 0, 1, 1, 1, 0, 1, 1, 0, 1, 0, 0, 0, 0, 0, 0, 0, 1, 0, 0, 0, 0, 1, 1, 1, 1, 1, 0, 1, 1, 0, 1, 0, 1, 1, 0, 0, 1, 0, 0, 0, 0, 0, 1, 1, 0, 1, 0, 0, 0, 0, 0, 0, 0, 0, 0, 0, 0, 0, 1, 0, 0, 0, 0, 0, 1, 1, 0, 0, 0, 1, 0, 0, 1, 1, 0, 0, 1, 1, 0, 0, 0, 0, 0, 0, 0, 0, 1, 1, 0, 0, 1, 0, 1, 1, 0, 0, 0, 0, 0, 0, 0, 0, 0, 0, 0, 1, 0, 0, 1, 1, 1, 0, 1, 0, 0, 1, 0, 1, 0, 1, 0, 0, 0, 0, 0, 0, 0, 0, 0, 0, 0, 0, 0, 0, 0, 0, 0, 0, 0, 1, 0, 0, 0, 1, 0, 0, 0, 0, 0, 0, 1, 0, 0, 0, 0, 0, 1, 0, 1, 0, 0, 0, 1, 0, 0, 1, 1, 1, 1, 0, 1, 0, 0, 1, 1, 0, 1, 1, 1, 0, 1, 0, 0, 1, 0, 0, 1, 0, 1, 0, 1, 1, 0, 0, 1, 1, 1, 0, 0, 0, 1, 1, 0, 1, 0, 0, 0, 0, 0, 0, 0, 1, 0, 0, 0, 0, 0, 0, 0, 1, 0, 1, 0, 0, 0, 1, 0, 0, 1, 1, 0, 0, 0, 1, 0, 0, 0, 0, 1, 1, 0, 0, 0, 1, 0, 0, 0, 1, 0, 0, 1, 0, 1, 1, 1, 0, 1, 0, 0, 0, 1, 0, 0, 0, 0, 0, 1, 1, 1, 1, 0, 1, 0, 0, 0, 0, 1, 0, 0, 1, 0, 0, 0, 0, 0, 1, 1, 1, 1, 0, 0, 1, 0, 0, 1, 0, 1, 0, 0, 0, 1, 0, 0, 0, 1, 0, 0, 0, 0, 0, 0, 0, 0, 1, 0, 0, 0, 0, 0, 0, 1, 0, 0, 0, 1, 0, 1, 0, 0, 0, 0, 1, 1, 0, 0, 0, 1, 0, 0, 0, 1, 1, 0, 0, 1, 1, 0, 1, 0, 1, 0, 1, 0, 1, 0, 1, 0, 1, 0, 0, 0, 0, 1, 0, 0, 0, 0, 0, 0, 0, 1, 0, 0, 0, 0, 0, 0, 0, 0, 1, 1, 0, 0, 0, 0, 1, 1, 0, 1, 1, 1, 0, 0, 0, 1, 0, 0, 0, 0, 0, 0, 1, 0, 0, 0, 0, 0, 1, 0, 0, 0, 0, 0, 0, 1, 0, 0, 0, 0, 1, 0, 0, 1, 0, 0, 1, 1, 0, 0, 0, 0, 0, 0, 1, 1, 0, 0, 0, 0, 0, 1, 1, 0, 1, 0, 0, 0, 1, 0, 1, 0, 0, 0, 0, 0, 1, 0, 0, 0, 0, 1, 0, 0, 0, 0, 0, 1, 1, 1, 1, 0, 1, 1, 1, 0, 0, 1, 0, 1, 0, 0, 1, 1, 1, 1, 1, 0, 1, 1, 0, 0, 0, 0, 0, 1, 0, 0, 0, 0, 0, 1, 0, 0, 0, 0, 0, 1, 0, 0, 1, 0, 0, 0, 0, 1, 1, 0, 1, 0, 1, 0, 0, 0, 0, 0, 0, 0, 0, 1, 1, 0, 0, 0, 1, 1, 1, 0, 0, 1, 0, 0, 0, 0, 0, 0, 0, 0, 1, 0, 0, 1, 0, 0, 0, 0, 0, 0, 0, 0, 0, 0, 0, 0, 1, 0, 0, 0, 0, 0, 0, 0, 0, 1, 0, 1, 0, 0, 0, 0, 1, 0, 0, 0, 1, 0, 0, 0, 1, 0, 1, 0, 1, 1, 0, 1, 0, 0, 0, 0, 0, 1, 0, 1, 0, 1, 0, 0, 1, 0, 0, 0, 0, 0, 0, 1, 0, 1, 1, 1, 0, 1, 0, 0, 0, 0, 0, 1, 0, 0, 0, 1, 0, 0, 1, 1, 1, 0, 1, 1, 0, 0, 0, 1, 0, 1, 0, 1, 0, 1, 0, 0, 1, 0, 0, 1, 0, 0, 0, 0, 0, 0, 0, 1, 0, 0, 1, 0, 0, 0, 1, 0, 0, 0, 1, 0, 0, 0, 1, 0, 0, 1, 0, 0, 0, 1, 1, 1, 1, 0, 1, 1, 0, 0, 1, 0, 0, 1, 0, 1, 0, 0, 0, 1, 0, 1, 0, 1, 1, 1, 0, 1, 0, 1, 0, 0, 1, 0, 1, 0, 0, 1, 0, 0, 1, 0, 0, 1, 0, 1, 1, 0, 0, 0, 1, 0, 0, 0, 1, 1, 0, 1, 1, 1, 0, 0, 1, 1, 1, 0, 1, 0, 0, 0, 0, 0, 0, 0, 0, 0, 0, 1, 1, 0, 0, 0, 1, 0, 0, 0, 0, 0, 0, 1, 1, 0, 1, 0, 1, 0, 1, 0, 0, 0, 0, 0, 0, 0, 1, 0, 0, 0, 0, 0, 1, 0, 1, 0, 1, 0, 0, 1, 0, 0, 0, 0, 1, 1, 0, 0, 0, 0, 0, 1, 1, 0, 0, 1, 1, 0, 0, 0, 0, 0, 1, 0, 1, 1, 0, 0, 0, 1, 1, 0, 1, 1, 0, 0, 0, 1, 1, 1, 0, 0, 0, 0, 0, 1, 1, 0, 0, 0, 0, 0, 1, 0, 0, 0, 0, 0, 0, 0, 1, 0, 0, 1, 0, 0, 0, 0, 0, 0, 0, 0, 0, 1, 0, 0, 0, 0, 0, 0, 0, 0, 0, 1, 0, 0, 0, 0, 1, 1, 1, 0, 0, 0, 0, 0, 0, 1, 1, 0, 0, 1, 0, 0, 0, 1, 1, 0, 1, 1, 0, 0, 0, 1, 0, 0, 0, 0, 0, 0, 0, 1, 0, 1, 0, 0, 1, 0, 0, 0, 1, 1, 0, 0, 0, 0, 0, 1, 0, 0, 0, 0, 0, 0, 1, 0, 0, 0, 0, 0, 0, 0, 0, 0, 0, 0, 0, 0, 1, 0, 1, 0, 0, 0, 0, 1, 0, 0, 0, 1, 0, 0, 1, 0, 1, 0, 0, 0, 0, 0, 1, 0, 1, 0, 1, 0, 0, 0, 0, 1, 0, 1, 0, 0, 0, 1, 0, 0, 0, 0, 0, 0, 0, 1, 0, 0, 0, 0, 0, 0, 0, 1, 1, 1, 0, 0, 1, 0, 0, 0, 0, 0, 1, 0, 0, 0, 0, 0, 0, 0, 1, 1, 0, 0, 1, 0, 0, 0, 1, 1, 0, 0, 1, 0, 1, 1, 0, 0, 0, 0, 0, 1, 1, 0, 0, 0, 1, 1, 0, 1, 0, 0, 0, 0, 0, 1, 1, 0, 0, 0, 0, 0, 0, 0, 1, 0, 0, 0, 0, 0, 0, 0, 0, 0, 0, 0, 1, 0, 1, 0, 1, 1, 0, 1, 0, 1, 1, 0, 0, 1, 0, 0, 1, 1, 1, 0, 1, 1, 0, 0, 0, 0, 0, 0, 0, 1, 1, 0, 1, 0, 0, 0, 1, 0, 0, 0, 1, 0, 0, 1, 0, 0, 0, 1, 0, 1, 0, 1, 0, 1, 0, 1, 1, 0, 1, 1, 0, 0, 0, 0, 0, 0, 0, 1, 0, 0, 1, 1, 0, 0, 1, 1, 0, 0, 0, 0, 0, 1, 0, 0, 0, 0, 0, 0, 1, 1, 0, 1, 1, 1, 0, 0, 0, 0, 0, 1, 0, 0, 1, 1, 0, 0, 0, 0, 1, 0, 1, 1, 1, 1, 0, 0, 0, 0, 0, 0, 0, 0, 1, 0, 1, 0, 0, 0, 1, 0, 0, 0, 0, 1, 0, 0, 0, 0, 0, 1, 0, 0, 0, 0, 0, 0, 0, 0, 0, 0, 1, 0, 0, 0, 1, 0, 1, 0, 1, 0, 1, 0, 0, 0, 1, 0, 0, 0, 0, 0, 1, 0, 0, 0, 1, 0, 1, 1, 1, 1, 0, 1, 0, 0, 1, 0, 1, 0, 0, 1, 1, 0, 1, 1, 0, 0, 0, 0, 0, 0, 0, 1, 0, 1, 0, 1, 0, 0, 0, 0, 0, 1, 0, 0, 0, 0, 0, 0, 1, 0, 1, 0, 1, 1, 0, 1, 0, 1, 0, 0, 0, 0, 0, 0, 0, 0, 0, 0, 0, 0, 0, 0, 0, 0, 1, 0, 0, 0, 0, 0, 0, 1, 0, 0, 0, 0, 0, 0, 0, 0, 0, 0, 1, 1, 0, 0, 0, 1, 0, 1, 0, 0, 0, 0, 1, 1, 0, 1, 1, 0, 1, 1, 0, 1, 1, 1, 1, 0, 0, 1, 0, 0, 0, 0, 0, 0, 0, 1, 0, 1, 1, 0, 1, 0, 0, 0, 0, 1, 0, 1, 0, 0, 0, 0, 0, 1, 1, 0, 0, 0, 0, 0, 0, 1, 1, 1, 0, 1, 0, 0, 0, 0, 0, 0, 0, 0, 0, 1, 0, 0, 1, 0, 1, 1, 0, 0, 1, 1, 1, 0, 0, 0, 0, 0, 1, 0, 0, 0, 0, 1, 0, 0, 0, 0, 0, 0, 0, 0, 0, 0, 0, 1, 0, 0, 0, 0, 0, 1, 1, 0, 1, 0, 1, 0, 0, 0, 0, 1, 1, 0, 0, 0, 0, 0, 0, 1, 1, 1, 0, 1, 1, 0, 0, 1, 1, 0, 1, 0, 0, 0, 1, 0, 0, 0, 0, 0, 0, 0, 0, 1, 0, 1, 0, 0, 1, 0, 0, 0, 1, 0, 0, 0, 1, 1, 1, 0, 1, 0, 0, 0, 0, 0, 0, 1, 0, 0, 0, 0, 1, 1, 1, 1, 1, 0, 0, 1, 0, 0, 0, 0, 0, 1, 1, 0, 0, 0, 0, 0, 0, 0, 1, 0, 0, 1, 0, 0, 0, 1, 0, 0, 1, 0, 0, 0, 0, 0, 0, 1, 0, 0, 0, 1, 1, 1, 0, 0, 1, 1, 1, 0, 1, 0, 1, 0, 0, 0, 1, 0, 1, 0, 0, 1, 1, 0, 0, 0, 0, 0, 0, 0, 1, 1, 0, 1, 0, 1, 0, 0, 0, 0, 0, 1, 0, 0, 1, 0, 0, 0, 0, 0, 0, 1, 0, 1, 0, 1, 1, 1, 0, 0, 0, 1, 1, 0, 0, 0, 0, 0, 0, 1, 0, 0, 0, 0, 0, 0, 0, 0, 1, 0, 0, 1, 1, 1, 0, 0, 0, 1, 1, 1, 1, 0, 0, 0, 0, 0, 0, 0, 0, 1, 0, 1, 0, 0, 1, 0, 1, 0, 0, 1, 0, 0, 1, 0, 0, 1, 0, 0, 1, 0, 1, 1, 0, 0, 0, 0, 0, 1, 1, 0, 0, 1, 0, 0, 0, 0, 0, 1, 0, 0, 0, 0, 0, 0, 0, 0, 0, 0, 1, 1, 0, 0, 1, 0, 0, 0, 0, 0, 1, 0, 0, 0, 0, 0, 1, 0, 1, 0, 0, 0, 0, 0, 0, 0, 0, 0, 0, 1, 0, 1, 1, 1, 0, 0, 0, 1, 0, 0, 0, 0, 0, 0, 1, 0, 0, 1, 1, 0, 0, 0, 1, 1, 1, 0, 0, 0, 1, 0, 1, 0, 0, 0, 0, 1, 0, 0, 0, 0, 1, 0, 0, 0, 0, 0, 1, 0, 0, 1, 1, 1, 0, 1, 1, 0, 1, 1, 1, 1, 0, 0, 0, 0, 0, 0, 1, 1, 1, 0, 0, 0, 0, 0, 0, 0, 0, 1, 0, 0, 0, 1, 0, 0, 0, 0, 0, 0, 0, 0, 1, 0, 1, 0, 0, 1, 0, 0, 0, 0, 0, 1, 0, 0, 0, 0, 0, 0, 0, 1, 0, 0, 0, 0, 0, 1, 1, 0, 1, 0, 0, 1, 0, 0, 1, 1, 0, 0, 1, 1, 1, 0, 0, 0, 1, 0, 1, 0, 0, 1, 0, 1, 0, 0, 0, 1, 0, 1, 1, 0, 1, 1, 0, 0, 0, 0, 0, 0, 1, 0, 0, 0, 0, 0, 0, 0, 0, 0, 0, 0, 0, 0, 1, 0, 0, 0, 1, 0, 0, 1, 0, 1, 0, 1, 0, 1, 0, 0, 0, 0, 0, 1, 0, 1, 0, 0, 0, 0, 0, 1, 0, 0, 0, 0, 0, 0, 1, 0, 0, 0, 0, 0, 0, 1, 1, 0, 0, 0, 0, 0, 1, 0, 0, 1, 0, 0, 0, 1, 0, 0, 0, 1, 0, 0, 0, 1, 0, 0, 1, 0, 0, 1, 0, 0, 0, 0, 1, 1, 0, 0, 0, 0, 0, 0, 0, 0, 0, 0, 0, 1, 0, 0, 1, 1, 0, 0, 0, 1, 1, 0, 1, 0, 0, 1, 0, 0, 0, 0, 0, 1, 0, 0, 1, 0, 0, 0, 0, 0, 0, 0, 1, 0, 0, 0, 0, 0, 0, 0, 0, 0, 0, 0, 0, 0, 0, 0, 0, 0, 0, 1, 0, 0, 1, 1, 0, 0, 1, 0, 1, 0, 0, 1, 1, 1, 0, 1, 0, 0, 0, 0, 0, 1, 0, 0, 0, 1, 0, 0, 0, 0, 1, 0, 0, 0, 0, 0, 0, 0, 0, 0, 1, 0, 1, 0, 0, 0, 1, 1, 0, 0, 0, 0, 1, 1, 1, 0, 0, 0, 1, 0, 0, 0, 1, 0, 0, 1, 1, 0, 0, 0, 0, 0, 0, 0, 0, 0, 0, 1, 1, 0, 0, 0, 1, 1, 1, 1, 0, 1, 1, 0, 1, 0, 1, 0, 0, 0, 1, 0, 0, 0, 0, 0, 0, 0, 1, 1, 0, 1, 1, 1, 1, 0, 0, 0, 0, 1, 0, 0, 0, 0, 0, 0, 0, 1, 1, 1, 1, 0, 1, 0, 1, 1, 0, 0, 1, 1, 0, 0, 1, 0, 1, 1, 0, 0, 0, 0, 1, 0, 0, 1, 1, 0, 0, 0, 1, 1, 0, 1, 0, 0, 0, 1, 0, 1, 0, 0, 0, 0, 1, 1, 0, 1, 0, 1, 1, 0, 0, 1, 0, 0, 0, 0, 0, 0, 1, 0, 1, 0, 0, 0, 1, 0, 1, 1, 0, 0, 0, 1, 0, 1, 1, 0, 1, 0, 1, 1, 0, 0, 1, 0, 0, 1, 0, 0, 0, 1, 0, 1, 1, 0, 1, 1, 0, 0, 0, 0, 0, 1, 0, 1, 0, 1, 1, 1, 1, 0, 0, 0, 0, 1, 0, 0, 0, 0, 0, 0, 0, 0, 0, 0, 0, 0, 0, 0, 0, 0, 0, 0, 1, 0, 0, 0, 1, 1, 1, 0, 1, 0, 0, 1, 0, 0, 0, 0, 0, 0, 1, 1, 1, 1, 0, 0, 0, 1, 0, 1, 0, 0, 0, 0, 0, 0, 0, 0, 0, 1, 0, 0, 0, 0, 0, 0, 1, 1, 0, 0, 0, 1, 0, 1, 0, 0, 1, 0, 1, 0, 0, 1, 1, 1, 0, 0, 0, 0, 0, 0, 1, 1, 1, 1, 0, 0, 0, 0, 0, 0, 0, 1, 0, 0, 1, 0, 0, 0, 0, 0, 0, 0, 0, 0, 0, 1, 0, 0, 0, 0, 0, 0, 1, 0, 0, 0, 0, 0, 1, 0, 0, 0, 1, 1, 0, 1, 0, 0, 0, 0, 1, 1, 1, 1, 0, 1, 0, 0, 0, 0, 1, 0, 0, 1, 0, 1, 0, 1, 0, 0, 1, 0, 1, 0, 0, 1, 0, 0, 0, 1, 1, 0, 0, 0, 0, 1, 1, 0, 0, 1, 0, 1, 1, 0, 0, 0, 1, 1, 1, 1, 1, 0, 0, 0, 1, 0, 0, 0, 0, 1, 0, 0, 0, 0, 0, 0, 1, 0, 1, 0, 0, 0, 1, 0, 1, 0, 0, 0, 0, 0, 0, 0, 1, 0, 0, 0, 1, 1, 0, 1, 0, 0, 0, 0, 0, 0, 0, 0, 0, 1, 0, 0, 1, 1, 0, 1, 1, 1, 1, 0, 0, 0, 1, 0, 0, 0, 0, 1, 1, 0, 1, 0, 0, 0, 0, 0, 1, 0, 0, 0, 0, 0, 0, 1, 1, 0, 1, 0, 0, 1, 1, 0, 0, 0, 0, 0, 0, 0, 0, 0, 1, 0, 1, 1, 1, 0, 1, 1, 1, 1, 1, 1, 0, 0, 1, 1, 0, 0, 1, 0, 1, 1, 1, 0, 0, 0, 1, 0, 1, 0, 0, 0, 0, 0, 1, 0, 0, 0, 0, 1, 0, 0, 0, 1, 1, 1, 0, 1, 0, 0, 0, 0, 1, 0, 0, 0, 0, 0, 0, 0, 1, 0, 0, 0, 0, 0, 0, 0, 1, 1, 0, 0, 0, 1, 1, 0, 0, 1, 0, 0, 1, 1, 0, 0, 0, 0, 0, 1, 0, 1, 0, 0, 0, 0, 1, 0, 0, 1, 1, 0, 0, 0, 0, 1, 0, 0, 0, 0, 0, 0, 0, 0, 1, 0, 0, 1, 0, 0, 0, 0, 0, 1, 0, 0, 1, 0, 0, 0, 0, 1, 1, 0, 1, 0, 1, 0, 0, 0, 1, 0, 0, 1, 0, 1, 0, 0, 0, 0, 0, 0, 0, 1, 0, 0, 1, 0, 0, 0, 0, 0, 1, 0, 0, 0, 1, 0, 1, 0, 0, 1, 0, 0, 0, 0, 0, 1, 0, 0, 0, 0, 0, 0, 0, 0, 0, 1, 0, 0, 0, 0, 0, 1, 0, 0, 0, 0, 1, 1, 1, 0, 0, 1, 0, 0, 0, 1, 0, 0, 0, 1, 0, 0, 1, 0, 1, 0, 1, 0, 0, 1, 1, 0, 1, 0, 0, 0, 1, 1, 0, 1, 1, 0, 0, 0, 1, 0, 1, 1, 1, 0, 1, 0, 1, 1, 0, 1, 0, 0, 0, 0, 0, 0, 0, 0, 0, 0, 0, 1, 1, 0, 0, 0, 0, 1, 0, 1, 1, 0, 0, 0, 0, 0, 1, 1, 0, 0, 1, 1, 0, 1, 1, 0, 1, 1, 0, 0, 1, 0, 0, 0, 0, 0, 0, 0, 0, 0, 1, 1, 1, 1, 0, 0, 0, 0, 1, 0, 0, 0, 0, 1, 1, 0, 1, 0, 0, 1, 0, 0, 0, 0, 1, 0, 0, 0, 0, 1, 0, 1, 0, 0, 1, 0, 0, 1, 0, 0, 1, 1, 1, 0, 1, 0, 1, 0, 0, 0, 0, 1, 0, 0, 0, 0, 0, 0, 0, 0, 0, 1, 1, 1, 0, 1, 0, 1, 0, 0, 0, 0, 0, 0, 1, 0, 0, 1, 0, 0, 0, 0, 1, 0, 0, 0, 0, 0, 0, 1, 1, 0, 0, 0, 0, 0, 1, 0, 1, 1, 0, 1, 0, 0, 0, 1, 0, 0, 1, 0, 1, 0, 1, 1, 0, 0, 0, 1, 0, 0, 1, 0, 0, 0, 0, 0, 1, 1, 0, 0, 1, 1, 1, 1, 0, 0, 0, 1, 0, 0, 0, 1, 0, 0, 1, 0, 1, 0, 0, 0, 0, 0, 1, 0, 0, 1, 0, 0, 1, 0, 0, 0, 1, 1, 0, 0, 0, 0, 1, 0, 0, 1, 1, 1, 0, 0, 1, 1, 0, 0, 0, 0, 1, 1, 1, 0, 0, 0, 0, 0, 0, 0, 0, 0, 0, 0, 0, 0, 0, 0, 0, 0, 0, 0, 0, 1, 0, 0, 0, 0, 1, 1, 0, 0, 1, 0, 0, 0, 1, 1, 0, 0, 0, 0, 0, 1, 1, 0, 0, 0, 1, 0, 0, 1, 0, 0, 1, 1, 0, 1, 1, 0, 0, 1, 0, 0, 0, 0, 1, 0, 1, 0, 0, 0, 0, 0, 0, 0, 1, 0, 0, 0, 1, 0, 0, 0, 0, 0, 0, 0, 0, 1, 0, 0, 0, 0, 0, 0, 1, 1, 1, 0, 0, 1, 0, 0, 0, 1, 0, 0, 0, 0, 1, 0, 0, 0, 0, 1, 1, 1, 1, 0, 1, 0, 0, 0, 1, 1, 0, 0, 0, 1, 0, 1, 1, 0, 1, 1, 0, 0, 0, 0, 0, 0, 0, 1, 0, 0, 0, 0, 0, 0, 0, 0, 0, 0, 0, 1, 0, 1, 0, 0, 1, 0, 0, 0, 1, 1, 1, 1, 0, 0, 0, 1, 1, 1, 0, 1, 0, 0, 0, 0, 0, 0, 1, 0, 0, 0, 0, 0, 0, 0, 0, 1, 0, 0, 0, 1, 0, 0, 0, 0, 0, 0, 0, 0, 1, 0, 1, 0, 0, 0, 0, 1, 0, 1, 0, 0, 1, 0, 1, 0, 1, 1, 0, 0, 0, 0, 1, 0, 0, 0, 0, 1, 0, 0, 0, 0, 0, 1, 0, 1, 0, 0, 1, 0, 0, 0, 1, 0, 1, 0, 0, 0, 1, 1, 0, 0, 0, 0, 0, 0, 1, 0, 0, 0, 0, 0, 0, 0, 0, 1, 0, 1, 0, 0, 1, 0, 0, 0, 1, 1, 0, 0, 0, 0, 1, 0, 1, 1, 0, 1, 0, 1, 0, 0, 0, 0, 0, 0, 1, 0, 1, 1, 1, 0, 0, 1, 1, 0, 0, 0, 1, 0, 0, 0, 0, 1, 1, 0, 0, 0, 1, 0, 0, 0, 0, 1, 0, 1, 0, 0, 1, 1, 0, 0, 0, 0, 0, 0, 0, 0, 0, 0, 0, 0, 0, 0, 1, 0, 0, 0, 1, 1, 0, 0, 0, 1, 1, 0, 0, 0, 0, 0, 0, 1, 0, 0, 0, 1, 1, 0, 0, 0, 0, 0, 0, 0, 0, 0, 1, 0, 0, 0, 1, 1, 0, 0, 0, 1, 1, 0, 0, 0, 0, 0, 1, 1, 0, 0, 1, 0, 0, 0, 0, 1, 0, 1, 0, 0, 0, 0, 0, 0, 0, 0, 0, 0, 0, 0, 1, 0, 1, 0, 1, 0, 0, 0, 0, 0, 1, 1, 0, 0, 1, 1, 0, 0, 0, 0, 1, 0, 0, 0, 0, 1, 0, 1, 0, 0, 0, 0, 0, 0, 0, 1, 0, 0, 1, 0, 0, 0, 0, 0, 0, 0, 0, 0, 1, 1, 1, 0, 0, 0, 1, 0, 1, 1, 0, 0, 0, 1, 0, 0, 0, 1, 0, 0, 0, 0, 0, 0, 0, 1, 0, 0, 1, 0, 0, 0, 0, 0, 0, 0, 0, 0, 0, 0, 0, 1, 0, 1, 0, 1, 0, 0, 1, 0, 1, 0, 0, 0, 0, 0, 0, 1, 0, 0, 0, 1, 1, 0, 1, 0, 1, 0, 1, 0, 0, 0, 0, 1, 0, 1, 0, 1, 0, 0, 0, 1, 1, 0, 0, 0, 0, 0, 0, 0, 0, 0, 1, 1, 1, 0, 1, 0, 1, 1, 1, 1, 1, 0, 0, 0, 0, 0, 0, 1, 0, 0, 1, 1, 1, 0, 0, 0, 0, 0, 1, 0, 0, 1, 0, 0, 1, 1, 1, 1, 0, 0, 0, 0, 0, 0, 0, 0, 1, 0, 1, 0, 0, 0, 0, 1, 0, 1, 0, 0, 0, 0, 0, 0, 0, 0, 1, 0, 0, 0, 0, 0, 0, 1, 0, 0, 0, 0, 0, 0, 0, 0, 0, 1, 1, 1, 0, 1, 0, 0, 0, 0, 1, 0, 0, 0, 0, 1, 1, 0, 0, 0, 0, 0, 1, 1, 0, 0, 0, 0, 0, 1, 0, 0, 1, 1, 0, 1, 1, 0, 0, 0, 0, 0, 0, 1, 1, 0, 1, 0, 0, 1, 0, 1, 0, 0, 0, 1, 0, 0, 0, 0, 0, 0, 1, 0, 1, 0, 1, 0, 0, 1, 0, 0, 0, 0, 1, 0, 0, 0, 0, 1, 1, 0, 0, 0, 0, 0, 1, 1, 0, 1, 0, 0, 1, 0, 0, 0, 1, 0, 0, 1, 1, 1, 0, 0, 0, 0, 0, 0, 0, 0, 0, 0, 0, 0, 0, 0, 0, 1, 0, 1, 1, 0, 1, 0, 1, 1, 0, 0, 0, 0, 1, 1, 0, 1, 0, 1, 0, 0, 0, 1, 0, 1, 1, 0, 1, 0, 1, 0, 0, 0, 0, 1, 0, 0, 0, 0, 0, 0, 0, 0, 1, 0, 0, 0, 1, 1, 0, 1, 0, 1, 0, 1, 1, 0, 1, 1, 1, 0, 1, 0, 0, 0, 0, 0, 0, 0, 0, 0, 0, 0, 0, 1, 1, 0, 1, 1, 0, 0, 0, 0, 0, 0, 0, 0, 0, 0, 0, 1, 1, 0, 0, 0, 0, 0, 1, 1, 1, 0, 0, 0, 0, 1, 1, 0, 0, 0, 0, 1, 0, 1, 1, 1, 0, 1, 0, 1, 0, 0, 1, 1, 0, 0, 0, 0, 0, 0, 1, 0, 0, 0, 0, 0, 0, 1, 0, 1, 1, 0, 0, 1, 0, 0, 0, 0, 0, 1, 1, 1, 0, 0, 0, 0, 0, 0, 0, 0, 1, 1, 1, 0, 1, 1, 0, 0, 0, 0, 0, 0, 1, 0, 0, 0, 0, 0, 1, 1, 1, 0, 0, 0, 0, 0, 0, 0, 0, 0, 1, 1, 0, 0, 0, 0, 1, 0, 0, 1, 1, 0, 1, 1, 0, 0, 0, 0, 1, 1, 0, 0, 1, 0, 1, 1, 1, 0, 0, 0, 0, 1, 0, 1, 0, 1, 1, 0, 0, 1, 0, 1, 1, 1, 1, 1, 0, 0, 0, 1, 0, 0, 0, 1, 0, 0, 0, 1, 1, 0, 0, 1, 0, 0, 1, 0, 0, 1, 1, 0, 1, 0, 1, 0, 0, 0, 1, 0, 0, 1, 0, 0, 0, 0, 1, 0, 1, 1, 1, 0, 0, 0, 0, 1, 0, 0, 0, 0, 0, 0, 0, 0, 1, 0, 1, 0, 0, 1, 1, 1, 1, 0, 0, 0, 1, 0, 1, 0, 0, 0, 1, 0, 0, 0, 0, 0, 0, 0, 0, 0, 0, 0, 0, 0, 1, 1, 1, 0, 0, 1, 1, 1, 1, 1, 1, 0, 1, 1, 0, 0, 1, 0, 0, 0, 0, 0, 1, 0, 0, 0, 0, 0, 0, 0, 1, 0, 1, 0, 1, 0, 0, 0, 1, 0, 0, 1, 1, 1, 1, 1, 1, 0, 1, 0, 0, 1, 1, 0, 1, 1, 0, 1, 0, 0, 1, 1, 0, 0, 0, 1, 0, 0, 0, 0, 0, 0, 0, 1, 1, 0, 1, 0, 0, 1, 0, 1, 0, 0, 0, 0, 0, 1, 0, 1, 0, 0, 0, 0, 0, 0, 0, 0, 0, 1, 1, 0, 0, 1, 1, 1, 1, 0, 0, 0, 0, 1, 1, 0, 1, 0, 1, 0, 0, 0, 0, 0, 0, 1, 0, 0, 1, 0, 0, 0, 0, 1, 0, 0, 1, 1, 0, 1, 0, 0, 0, 1, 1, 1, 0, 0, 0, 0, 0, 0, 0, 1, 1, 0, 1, 0, 1, 0, 0, 1, 0, 1, 0, 0, 0, 0, 1, 0, 0, 0, 1, 0, 1, 1, 0, 0, 0, 0, 1, 0, 1, 1, 0, 0, 0, 1, 1, 0, 0, 0, 1, 0, 0, 1, 0, 0, 0, 0, 0, 0, 0, 0, 0, 1, 0, 0, 0, 0, 0, 0, 1, 0, 0, 0, 0, 1, 0, 0, 0, 0, 0, 1, 0, 0, 0, 0, 0, 0, 1, 0, 0, 1, 1, 0, 0, 0, 1, 0, 1, 1, 0, 0, 0, 0, 0, 0, 0, 0, 1, 1, 0, 1, 0, 0, 0, 0, 0, 0, 0, 1, 0, 1, 1, 0, 1, 0, 0, 0, 0, 0, 0, 0, 0, 0, 1, 0, 0, 1, 1, 1, 1, 0, 0, 0, 0, 0, 1, 0, 0, 0, 0, 0, 0, 0, 1, 1, 1, 0, 0, 0, 0, 1, 0, 0, 0, 0, 0, 1, 0, 1, 0, 1, 0, 0, 1, 1, 1, 1, 0, 0, 0, 0, 0, 0, 0, 1, 0, 0, 0, 1, 0, 1, 1, 0, 0, 0, 0, 0, 1, 0, 0, 0, 0, 0, 0, 0, 1, 0, 1, 0, 1, 0, 1, 1, 0, 1, 0, 1, 0, 0, 0, 0, 0, 1, 1, 0, 0, 0, 0, 0, 0, 0, 0, 1, 0, 0, 1, 0, 0, 0, 1, 0, 0, 1, 1, 0, 1, 0, 1, 0, 1, 0, 0, 0, 0, 0, 1, 1, 0, 0, 1, 0, 0, 0, 0, 1, 0, 0, 1, 1, 1, 0, 0, 0, 0, 0, 1, 0, 1, 0, 0, 1, 1, 0, 0, 0, 0, 0, 0, 0, 1, 0, 0, 0, 0, 0, 0, 1, 1, 0, 1, 1, 1, 0, 0, 0, 1, 0, 0, 0, 0, 0, 0, 0, 1, 0, 0, 1, 0, 0, 0, 0, 1, 0, 0, 0, 0, 1, 0, 0, 0, 0, 0, 0, 0, 1, 0, 0, 1, 0, 1, 0, 0, 0, 1, 0, 0, 0, 0, 1, 0, 0, 0, 0, 0, 0, 1, 0, 0, 0, 0, 1, 0, 0, 0, 0, 0, 0, 0, 0, 0, 0, 0, 1, 0, 1, 0, 0, 0, 0, 1, 0, 1, 0, 0, 0, 0, 0, 0, 0, 0, 0, 0, 0, 0, 0, 1, 1, 1, 0, 0, 0, 1, 0, 0, 0, 0, 0, 1, 0, 0, 0, 0, 0, 0, 0, 0, 0, 0, 0, 1, 0, 1, 1, 0, 0, 1, 0, 1, 0, 1, 0, 1, 0, 0, 1, 0, 0, 0, 1, 0, 0, 0, 1, 1, 0, 0, 1, 0, 1, 0, 0, 0, 1, 1, 1, 0, 1, 0, 0, 0, 0, 0, 0, 0, 0, 0, 1, 0, 0, 1, 1, 1, 0, 0, 0, 0, 1, 0, 0, 0, 0, 0, 0, 0, 0, 0, 0, 0, 1, 0, 0, 1, 1, 0, 1, 0, 0, 0, 0, 0, 0, 0, 0, 0, 0, 1, 1, 0, 1, 0, 1, 0, 1, 0, 0, 1, 1, 0, 0, 1, 0, 0, 0, 0, 0, 1, 0, 0, 0, 0, 0, 0, 0, 1, 0, 1, 1, 0, 0, 1, 0, 1, 0, 0, 0, 1, 1, 0, 1, 1, 0, 0, 0, 0, 0, 0, 0, 0, 0, 1, 0, 0, 0, 0, 0, 0, 0, 0, 0, 0, 0, 0, 0, 0, 0, 0, 0, 0, 0, 0, 0, 1, 0, 0, 0, 0, 1, 0, 0, 1, 0, 1, 0, 0, 0, 1, 1, 0, 0, 0, 0, 0, 1, 0, 0, 1, 0, 0, 0, 1, 0, 0, 0, 0, 0, 0, 1, 0, 0, 1, 0, 0, 0, 1, 0, 1, 1, 0, 1, 0, 0, 1, 0, 1, 0, 0, 0, 0, 1, 0, 1, 0, 1, 0, 1, 0, 0, 1, 0, 1, 0, 0, 1, 0, 0, 0, 0, 0, 0, 0, 0, 0, 1, 0, 0, 0, 0, 0, 1, 0, 0, 1, 0, 0, 0, 0, 0, 1, 0, 1, 0, 0, 1, 0, 0, 1, 0, 1, 0, 0, 0, 0, 0, 0, 0, 0, 0, 1, 0, 0, 0, 0, 1, 1, 0, 0, 1, 1, 0, 0, 0, 1, 0, 0, 0, 0, 1, 0, 1, 0, 0, 0, 0, 0, 0, 1, 1, 0, 0, 0, 0, 0, 0, 1, 0, 0, 1, 0, 0, 0, 0, 0, 0, 1, 0, 1, 0, 0, 0, 1, 0, 0, 0, 0, 0, 0, 1, 0, 0, 0, 0, 0, 0, 0, 0, 1, 1, 1, 0, 0, 0, 1, 1, 0, 0, 1, 1, 0, 0, 0, 0, 1, 0, 0, 0, 1, 0, 0, 0, 0, 0, 0, 1, 0, 0, 0, 0, 1, 0, 1, 0, 0, 0, 0, 0, 0, 0, 0, 0, 0, 0, 1, 0, 0, 0, 1, 0, 1, 0, 1, 0, 1, 0, 0, 1, 1, 1, 1, 1, 0, 0, 0, 0, 0, 0, 0, 1, 0, 1, 0, 1, 1, 0, 1, 0, 0, 0, 0, 1, 0, 0, 1, 1, 1, 0, 0, 0, 1, 0, 0, 0, 0, 1, 1, 0, 0, 0, 0, 0, 0, 1, 0, 0, 0, 1, 0, 0, 1, 0, 0, 0, 0, 0, 1, 0, 1, 1, 0, 0, 0, 0, 0, 0, 0, 1, 1, 1, 1, 1, 1, 0, 0, 0, 0, 0, 0, 0, 0, 0, 1, 0, 0, 0, 0, 0, 0, 0, 0, 0, 0, 0, 0, 0, 0, 0, 0, 0, 0, 0, 0, 0, 0, 1, 1, 0, 1, 0, 0, 1, 1, 1, 1, 0, 0, 0, 1, 0, 0, 1, 0, 0, 1, 0, 0, 0, 0, 0, 0, 0, 0, 1, 1, 0, 1, 0, 1, 0, 1, 1, 1, 0, 0, 1, 0, 0, 1, 1, 0, 0, 0, 1, 0, 0, 0, 0, 0, 0, 1, 0, 0, 0, 0, 1, 1, 0, 0, 0, 0, 0, 0, 0, 0, 1, 0, 1, 0, 0, 0, 0, 0, 1, 0, 0, 1, 0, 0, 0, 0, 0, 1, 1, 0, 0, 1, 1, 0, 1, 1, 1, 0, 0, 1, 0, 0, 1, 0, 1, 0, 0, 1, 0, 1, 0, 0, 0, 0, 0, 0, 0, 0, 1, 0, 0, 1, 1, 0, 0, 1, 1, 0, 1, 0, 1, 1, 0, 0, 1, 0, 1, 0, 0, 1, 0, 0, 1, 0, 1, 1, 0, 0, 1, 0, 0, 0, 0, 0, 1, 0, 1, 0, 1, 1, 1, 1, 1, 0, 0, 0, 0, 0, 0, 0, 1, 1, 1, 0, 0, 1, 0, 1, 1, 0, 0, 1, 0, 0, 0, 1, 1, 0, 1, 1, 1, 0, 1, 0, 0, 0, 0, 0, 0, 0, 0, 0, 1, 0, 0, 0, 0, 1, 1, 1, 1, 0, 0, 0, 0, 0, 0, 0, 0, 0, 0, 1, 1, 0, 0, 0, 0, 1, 0, 1, 0, 0, 0, 0, 1, 1, 0, 0, 1, 0, 1, 0, 1, 1, 1, 1, 1, 0, 0, 0, 0, 0, 0, 0, 0, 0, 0, 0, 0, 0, 0, 0, 0, 1, 0, 1, 0, 1, 0, 0, 0, 0, 0, 0, 1, 0, 0, 1, 0, 0, 0, 0, 0, 1, 0, 0, 0, 1, 0, 0, 0, 0, 0, 0, 1, 1, 0, 0, 0, 0, 0, 0, 1, 0, 1, 0, 0, 0, 0, 1, 1, 1, 1, 0, 0, 0, 0, 0, 1, 1, 0, 1, 1, 0, 0, 0, 0, 0, 0, 0, 1, 0, 0, 0, 0, 1, 1, 1, 0, 1, 1, 0, 0, 1, 0, 1, 1, 0, 1, 0, 0, 0, 0, 0, 0, 1, 0, 1, 0, 1, 0, 1, 0, 0, 0, 0, 0, 1, 0, 1, 1, 0, 1, 0, 0, 1, 0, 0, 0, 0, 0, 1, 0, 0, 0, 1, 0, 0, 1, 0, 0, 1, 0, 0, 1, 1, 0, 1, 0, 0, 1, 1, 1, 1, 1, 0, 1, 1, 0, 0, 0, 1, 1, 0, 0, 0, 1, 0, 0, 0, 0, 0, 0, 0, 0, 0, 1, 0, 1, 1, 0, 1, 0, 1, 1, 0, 0, 1, 1, 0, 1, 0, 0, 0, 0, 0, 0, 1, 1, 0, 1, 1, 0, 1, 1, 0, 1, 0, 0, 1, 0, 1, 0, 0, 0, 0, 0, 0, 1, 0, 0, 1, 0, 0, 1, 0, 0, 0, 1, 0, 0, 0, 1, 0, 0, 0, 1, 1, 0, 0, 1, 1, 1, 1, 0, 0, 0, 0, 0, 0, 1, 0, 0, 0, 1, 1, 1, 1, 0, 0, 0, 0, 0, 0, 0, 0, 0, 0, 1, 0, 0, 0, 0, 1, 1, 0, 0, 0, 0, 0, 0, 0, 1, 1, 0, 1, 1, 1, 0, 0, 0, 0, 0, 1, 1, 0, 1, 0, 1, 1, 0, 1, 0, 0, 1, 0, 0, 1, 1, 0, 0, 0, 0, 0, 0, 0, 0, 1, 0, 0, 0, 1, 1, 0, 0, 0, 0, 0, 0, 1, 0, 0, 0, 0, 0, 0, 0, 1, 0, 1, 0, 0, 0, 0, 0, 1, 0, 0, 0, 1, 1, 1, 0, 1, 0, 0, 0, 0, 1, 0, 0, 0, 0, 1, 0, 0, 0, 0, 0, 0, 1, 0, 1, 0, 0, 0, 0, 0, 0, 0, 0, 0, 1, 0, 0, 0, 0, 0, 0, 1, 1, 1, 0, 0, 1, 0, 0, 0, 0, 0, 0, 0, 0, 0, 0, 0, 0, 0, 1, 0, 0, 1, 0, 1, 0, 0, 1, 0, 0, 0, 0, 0, 0, 0, 0, 1, 1, 0, 0, 0, 1, 1, 0, 0, 1, 0, 0, 1, 0, 0, 0, 0, 0, 0, 0, 1, 0, 1, 1, 1, 0, 0, 0, 0, 0, 1, 0, 1, 1, 0, 0, 0, 0, 0, 0, 1, 0, 0, 0, 0, 1, 0, 1, 1, 0, 0, 0, 0, 0, 0, 0, 0, 0, 0, 0, 0, 0, 0, 0, 1, 0, 1, 0, 0, 1, 0, 0, 0, 1, 1, 0, 1, 0, 0, 0, 1, 0, 1, 0, 0, 0, 0, 0, 1, 0, 1, 1, 1, 0, 1, 0, 1, 0, 0, 0, 0, 0, 0, 1, 0, 1, 0, 0, 0, 0, 0, 1, 0, 1, 0, 0, 0, 0, 1, 0, 1, 0, 0, 1, 1, 0, 1, 1, 1, 0, 1, 1, 0, 0, 0, 0, 0, 1, 0, 0, 0, 0, 0, 1, 0, 0, 1, 0, 0, 0, 0, 0, 1, 1, 0, 1, 0, 0, 1, 0, 1, 1, 1, 1, 0, 1, 0, 0, 0, 0, 0, 0, 0, 1, 1, 1, 0, 0, 0, 1, 0, 0, 0, 0, 0, 0, 0, 0, 1, 1, 0, 0, 0, 0, 0, 0, 1, 0, 0, 0, 1, 0, 1, 0, 0, 0, 0, 0, 1, 1, 0, 0, 0, 0, 1, 0, 1, 1, 0, 1, 0, 0, 1, 1, 1, 1, 1, 1, 1, 0, 1, 1, 0, 0, 0, 1, 1, 0, 0, 1, 0, 0, 0, 0, 0, 0, 0, 0, 0, 0, 1, 1, 0, 0, 0, 0, 0, 1, 0, 0, 1, 1, 0, 1, 0, 0, 0, 0, 0, 1, 0, 0, 0, 1, 0, 0, 1, 0, 0, 0, 0, 1, 0, 0, 0, 0, 1, 0, 1, 0, 1, 1, 0, 0, 0, 0, 0, 0, 0, 0, 0, 0, 0, 0, 0, 0, 1, 1, 1, 0, 0, 1, 0, 0, 1, 0, 0, 1, 0, 1, 1, 1, 0, 0, 0, 0, 1, 0, 0, 0, 1, 0, 0, 0, 0, 1, 0, 1, 0, 0, 0, 1, 0, 0, 1, 0, 0, 0, 0, 1, 0, 0, 1, 1, 0, 0, 0, 0, 1, 1, 0, 0, 1, 0, 0, 0, 0, 1, 0, 0, 0, 0, 0, 0, 1, 1, 1, 1, 1, 0, 0, 1, 1, 0, 0, 0, 0, 1, 0, 1, 0, 1, 0, 1, 0, 0, 0, 0, 0, 0, 0, 1, 1, 0, 0, 1, 1, 0, 1, 0, 0, 0, 0, 0, 1, 0, 0, 0, 0, 0, 0, 0, 1, 0, 0, 0, 1, 0, 1, 1, 0, 0, 0, 1, 1, 1, 1, 0, 0, 0, 1, 0, 1, 0, 0, 0, 1, 0, 0, 0, 0, 0, 1, 1, 0, 0, 0, 1, 0, 1, 1, 0, 0, 0, 1, 0, 1, 1, 0, 0, 0, 0, 0, 0, 0, 1, 0, 0, 1, 0, 1, 0, 0, 0, 1, 1, 0, 0, 0, 0, 0, 0, 0, 1, 0, 0, 0, 1, 0, 0, 1, 1, 0, 1, 0, 1, 0, 1, 1, 0, 0, 0, 1, 0, 0, 0, 1, 0, 0, 0, 0, 0, 0, 0, 0, 0, 1, 0, 0, 0, 0, 0, 0, 0, 0, 0, 0, 1, 0, 1, 0, 1, 0, 1, 0, 0, 1, 1, 0, 1, 0, 1, 0, 1, 0, 0, 0, 1, 0, 0, 0, 0, 0, 0, 0, 0, 0, 0, 0, 0, 1, 0, 1, 0, 0, 1, 0, 1, 1, 1, 0, 0, 0, 0, 0, 0, 0, 1, 0, 0, 0, 1, 0, 1, 0, 0, 0, 1, 0, 0, 0, 1, 1, 0, 1, 0, 0, 0, 0, 0, 1, 0, 0, 1, 0, 1, 0, 0, 0, 0, 0, 1, 0, 0, 0, 0, 0, 1, 1, 0, 0, 0, 1, 0, 0, 1, 0, 0, 0, 0, 0, 1, 0, 0, 0, 1, 0, 0, 0, 0, 0, 0, 0, 1, 0, 0, 0, 0, 0, 0, 0, 0, 0, 0, 0, 1, 0, 1, 0, 0, 1, 0, 0, 0, 0, 1, 0, 0, 1, 0, 0, 0, 0, 0, 1, 0, 0, 0, 0, 0, 0, 1, 0, 0, 1, 0, 0, 0, 0, 1, 0, 0, 0, 1, 1, 0, 1, 1, 1, 0, 0, 0, 1, 0, 1, 0, 0, 0, 0, 0, 1, 1, 0, 1, 1, 0, 0, 0, 1, 0, 0, 1, 1, 0, 1, 0, 0, 0, 1, 0, 0, 1, 0, 0, 1, 0, 0, 1, 1, 0, 1, 0, 0, 0, 0, 1, 0, 1, 0, 1, 0, 0, 0, 0, 0, 1, 0, 0, 0, 1, 0, 0, 1, 0, 0, 0, 0, 1, 1, 1, 0, 0, 1, 0, 1, 0, 0, 0, 1, 1, 0, 1, 0, 0, 0, 1, 1, 1, 0, 0, 0, 0, 0, 1, 1, 1, 0, 0, 1, 1, 0, 0, 0, 0, 0, 0, 1, 0, 1, 1, 0, 1, 1, 1, 1, 0, 0, 0, 0, 1, 1, 1, 0, 1, 0, 0, 0, 1, 0, 1, 0, 1, 1, 0, 0, 1, 0, 1, 0, 0, 1, 1, 0, 0, 0, 0, 0, 0, 1, 0, 0, 0, 0, 0, 1, 0, 0, 0, 1, 0, 0, 1, 0, 0, 0, 1, 0, 0, 0, 0, 1, 1, 0, 0, 1, 0, 1, 0, 1, 1, 0, 0, 0, 1, 0, 0, 1, 1, 0, 0, 0, 0, 0, 1, 1, 1, 1, 0, 1, 0, 0, 0, 0, 1, 0, 0, 0, 1, 1, 1, 1, 0, 0, 0, 0, 0, 0, 1, 0, 0, 0, 1, 1, 1, 0, 1, 0, 0, 1, 0, 0, 1, 1, 1, 0, 1, 1, 1, 0, 1, 1, 1, 1, 0, 0, 0, 0, 0, 0, 0, 0, 1, 0, 0, 0, 0, 0, 0, 1, 0, 1, 0, 0, 1, 0, 0, 0, 0, 0, 0, 0, 0, 0, 0, 1, 0, 0, 1, 1, 0, 0, 1, 0, 0, 1, 0, 1, 0, 0, 0, 1, 1, 0, 1, 0, 0, 0, 0, 1, 1, 0, 0, 0, 0, 0, 0, 0, 0, 0, 0, 0, 0, 0, 0, 0, 0, 0, 0, 1, 1, 1, 1, 1, 0, 0, 0, 1, 1, 0, 0, 1, 0, 1, 1, 0, 0, 1, 0, 0, 0, 0, 0, 1, 0, 1, 1, 0, 1, 1, 0, 0, 0, 1, 1, 0, 0, 0, 0, 1, 0, 1, 0, 0, 0, 0, 1, 0, 0, 1, 0, 1, 0, 0, 0, 0, 0, 0, 0, 0, 0, 0, 0, 0, 0, 0, 1, 0, 1, 1, 0, 0, 0, 0, 0, 0, 0, 1, 0, 1, 1, 1, 0, 1, 0, 0, 0, 0, 0, 1, 1, 0, 0, 0, 0, 0, 1, 1, 0, 0, 0, 0, 0, 1, 0, 0, 0, 1, 0, 0, 0, 0, 0, 0, 1, 0, 0, 0, 0, 0, 1, 1, 1, 0, 1, 0, 0, 0, 0, 0, 1, 1, 1, 1, 0, 0, 0, 1, 0, 0, 0, 0, 0, 1, 0, 0, 0, 1, 0, 0, 1, 1, 0, 1, 0, 1, 0, 0, 0, 1, 0, 0, 0, 1, 1, 1, 0, 0, 0, 1, 1, 1, 0, 0, 1, 0, 0, 1, 1, 0, 0, 1, 1, 0, 1, 0, 0, 0, 0, 1, 0, 0, 0, 0, 0, 1, 0, 1, 1, 1, 0, 0, 0, 0, 1, 0, 0, 0, 1, 0, 0, 0, 0, 1, 1, 1, 0, 1, 0, 0, 0, 1, 0, 1, 0, 0, 0, 1, 0, 0, 0, 0, 1, 0, 1, 0, 0, 1, 0, 0, 0, 0, 0, 1, 0, 0, 0, 0, 0, 1, 0, 0, 0, 1, 1, 0, 0, 0, 1, 0, 0, 0, 0, 0, 0, 0, 1, 0, 1, 1, 0, 0, 0, 1, 0, 1, 0, 0, 1, 0, 0, 0, 0, 1, 0, 1, 0, 0, 1, 0, 1, 0, 0, 0, 1, 0, 0, 0, 0, 1, 1, 0, 0, 0, 0, 0, 0, 0, 0, 0, 1, 0, 0, 1, 0, 1, 0, 0, 1, 0, 1, 0, 1, 0, 0, 1, 0, 0, 1, 0, 1, 0, 1, 1, 0, 1, 0, 1, 0, 0, 0, 0, 0, 1, 1, 0, 0, 0, 0, 0, 0, 1, 0, 0, 1, 1, 0, 1, 0, 1, 1, 0, 0, 1, 0, 0, 0, 0, 0, 0, 1, 1, 0, 0, 0, 1, 0, 0, 0, 0, 0, 0, 1, 0, 0, 0, 0, 0, 0, 1, 1, 1, 0, 0, 0, 0, 0, 0, 1, 0, 0, 0, 1, 0, 1, 1, 1, 1, 0, 1, 0, 1, 0, 0, 0, 0, 1, 0, 1, 0, 1, 1, 0, 1, 1, 0, 0, 1, 0, 0, 0, 1, 1, 1, 0, 0, 0, 0, 1, 1, 0, 0, 0, 0, 0, 0, 0, 0, 1, 1, 1, 0, 0, 0, 1, 0, 0, 1, 1, 0, 0, 0, 0, 0, 1, 1, 0, 0, 1, 0, 0, 0, 0, 0, 1, 0, 0, 0, 0, 1, 1, 0, 1, 0, 0, 0, 0, 0, 0, 1, 0, 0, 0, 0, 0, 1, 0, 0, 0, 0, 1, 0, 0, 0, 0, 0, 0, 0, 0, 0, 0, 0, 0, 0, 0, 0, 0, 0, 0, 0, 0, 0, 0, 1, 0, 0, 0, 0, 1, 0, 0, 0, 0, 0, 0, 0, 0, 0, 0, 0, 0, 0, 0, 0, 0, 0, 0, 0, 0, 0, 0, 1, 0, 0, 0, 0, 0, 0, 1, 0, 0, 0, 0, 0, 0, 0, 0, 0, 0, 0, 0, 0, 0, 1, 0, 0, 0, 0, 1, 1, 0, 0, 0, 0, 1, 0, 0, 0, 0, 0, 0, 0, 0, 0, 0, 0, 1, 0, 0, 0, 0, 0, 0, 0, 0, 0, 0, 1, 0, 0, 0, 0, 0, 0, 0, 0, 0, 0, 0, 0, 0, 1, 0, 0, 0, 0, 1, 0, 0, 0, 0, 0, 0, 0, 0, 0, 0, 0, 0, 0, 0, 0, 0, 0, 0, 0, 1, 0, 0, 0, 0, 0, 0, 0, 0, 0, 0, 0, 0, 0, 0, 0, 0, 0, 0, 0, 0, 0, 1, 0, 0, 0, 0, 0, 1, 0, 0, 0, 0, 0, 0, 0, 0, 0, 0, 0, 1, 0, 0, 0, 0, 0, 0, 0, 0, 0, 0, 0, 0, 0, 0, 0, 0, 0, 0, 0, 0, 0, 0, 0, 0, 0, 0, 0, 0, 0, 0, 0, 0, 0, 0, 0, 0, 0, 0, 0, 0, 0, 0, 0, 0, 0, 0, 0, 1, 0, 0, 0, 0, 0, 0, 0, 0, 0, 0, 0, 0, 0, 0, 0, 0, 0, 0, 0, 0, 0, 0, 0, 0, 0, 0, 0, 0, 0, 0, 0, 0, 0, 0, 0, 0, 0, 0, 0, 0, 0, 0, 0, 1, 0, 0, 0, 0, 0, 0, 0, 0, 0, 0, 0, 0, 0, 0, 0, 1, 0, 0, 0, 0, 0, 0, 0, 0, 0, 0, 0, 0, 0, 0, 0, 0, 0, 0, 0, 0, 0, 0, 0, 0, 0, 0, 0, 0, 0, 0, 0, 0, 0, 0, 0, 0, 0, 0, 0, 0, 0, 0, 0, 0, 0, 0, 0, 0, 0, 0, 0, 0, 0, 0, 0, 0, 0, 0, 0, 0, 0, 0, 0, 0, 0, 0, 0, 0, 0, 1, 0, 0, 0, 0, 0, 0, 0, 0, 0, 0, 0, 0, 0, 1, 0, 0, 0, 0, 0, 0, 0, 0, 0, 0, 0, 0, 0, 0, 0, 0, 0, 0, 1, 0, 0, 0, 0, 0, 0, 0, 0, 0, 0, 0, 0, 0, 0, 0, 0, 0, 0, 0, 1, 0, 0, 0, 0, 0, 0, 0, 0, 0, 0, 0, 0, 0, 0, 0, 0, 0, 1, 0, 0, 0, 0, 0, 0, 1, 0, 0, 0, 0, 0, 0, 1, 0, 0, 0, 0, 0, 0, 1, 0, 0, 0, 1, 0, 0, 1, 0, 0, 0, 0, 0, 0, 0, 0, 0, 0, 0, 0, 0, 0, 0, 0, 0, 0, 0, 0, 0, 0, 0, 0, 0, 0, 0, 0, 0, 0, 0, 0, 0, 0, 0, 1, 0, 0, 0, 0, 0, 0, 0, 0, 0, 0, 0, 0, 0, 0, 0, 0, 0, 0, 0, 0, 0, 0, 0, 0, 0, 0, 0, 0, 0, 0, 0, 1, 0, 0, 0, 0, 1, 0, 0, 0, 0, 0, 0, 0, 0, 0, 0, 0, 1, 0, 0, 0, 0, 0, 1, 0, 0, 1, 0, 0, 0, 0, 0, 0, 0, 1, 0, 0, 0, 1, 1, 0, 1, 0, 1, 0, 0, 1, 0, 0, 0, 0, 0, 0, 0, 0, 0, 0, 0, 0, 0, 0, 1, 0, 0, 0, 0, 0, 0, 1, 0, 0, 0, 0, 0, 0, 0, 0, 0, 0, 0, 0, 0, 0, 0, 0, 0, 0, 0, 0, 0, 0, 1, 0, 0, 0, 0, 0, 0, 0, 0, 0, 0, 0, 0, 0, 0, 0, 0, 0, 0, 0, 0, 0, 0, 0, 0, 0, 0, 0, 0, 0, 0, 0, 0, 0, 0, 0, 0, 0, 0, 0, 0, 0, 0, 0, 0, 0, 0, 1, 0, 0, 0, 0, 0, 0, 0, 0, 0, 0, 0, 0, 0, 0, 0, 0, 0, 0, 0, 0, 0, 0, 0, 0, 0, 0, 0, 1, 0, 0, 0, 0, 0, 0, 0, 0, 0, 0, 0, 0, 0, 0, 0, 1, 0, 0, 1, 0, 0, 0, 0, 0, 0, 0, 0, 1, 0, 0, 0, 0, 0, 0, 0, 0, 0, 0, 0, 1, 0, 0, 0, 1, 0, 0, 0, 0, 0, 0, 0, 0, 0, 0, 0, 0, 1, 0, 0, 0, 0, 0, 0, 0, 0, 0, 0, 0, 0, 0, 0, 0, 0, 0, 0, 0, 0, 0, 0, 0, 0, 1, 0, 0, 0, 0, 0, 0, 0, 0, 0, 0, 0, 0, 0, 0, 0, 0, 0, 0, 0, 0, 0, 0, 0, 1, 0, 0, 0, 0, 0, 0, 0, 1, 0, 0, 0, 0, 0, 0, 0, 0, 0, 0, 0, 0, 0, 0, 0, 0, 0, 0, 0, 0, 0, 0, 0, 0, 0, 0, 1, 0, 0, 0, 0, 0, 0, 0, 0, 0, 0, 0, 0, 0, 0, 0, 0, 0, 1, 0, 0, 0, 0, 0, 0, 0, 0, 0, 0, 0, 0, 0, 0, 0, 0, 0, 0, 0, 0, 0, 0, 0, 0, 0, 1, 1, 0, 0, 0, 0, 0, 0, 0, 1, 0, 0, 0, 0, 0, 0, 0, 0, 0, 0, 0, 1, 0, 0, 0, 0, 0, 0, 0, 0, 0, 0, 0, 0, 0, 0, 0, 0, 0, 0, 0, 1, 0, 0, 0, 0, 0, 0, 0, 0, 0, 0, 0, 0, 0, 0, 0, 0, 0, 0, 0, 0, 0, 0, 0, 0, 0, 0, 0, 0, 0, 1, 0, 1, 0, 0, 0, 0, 0, 0, 0, 0, 0, 0, 0, 0, 0, 0, 0, 0, 0, 0, 0, 0, 0, 0, 0, 0, 0, 0, 0, 0, 0, 0, 0, 0, 0, 0, 0, 0, 0, 0, 0, 0, 1, 0, 0, 0, 0, 0, 0, 0, 0, 1, 0, 0, 1, 0, 0, 0, 0, 0, 0, 0, 0, 0, 0, 0, 0, 0, 0, 0, 0, 0, 0, 0, 1, 0, 0, 0, 0, 0, 0, 1, 0, 1, 0, 0, 0, 0, 0, 0, 0, 0, 0, 0, 0, 0, 0, 0, 0, 0, 0, 0, 0, 0, 0, 1, 1, 0, 1, 1, 0, 0, 0, 0, 0, 0, 0, 1, 0, 0, 0, 0, 0, 0, 0, 0, 0, 0, 0, 0, 0, 1, 0, 0, 1, 0, 0, 0, 0, 0, 0, 0, 0, 0, 0, 0, 0, 0, 1, 0, 0, 0, 0, 0, 0, 0, 0, 0, 0, 0, 0, 1, 0, 0, 0, 0, 0, 0, 0, 0, 0, 0, 0, 0, 0, 0, 0, 0, 0, 0, 0, 0, 0, 0, 0, 0, 0, 0, 0, 0, 0, 0, 0, 0, 1, 0, 0, 0, 0, 0, 0, 0, 0, 1, 0, 0, 0, 0, 0, 1, 0, 0, 0, 0, 0, 0, 0, 0, 0, 0, 0, 0, 0, 0, 1, 0, 0, 0, 0, 0, 0, 0, 0, 0, 0, 0, 0, 0, 0, 0, 0, 0, 0, 0, 0, 0, 0, 0, 0, 0, 0, 0, 0, 0, 0, 0, 0, 0, 0, 0, 0, 0, 0, 0, 0, 0, 0, 0, 1, 0, 0, 0, 0, 0, 0, 0, 0, 0, 0, 0, 0, 0, 0, 0, 0, 0, 0, 0, 0, 0, 0, 0, 0, 0, 1, 0, 0, 0, 0, 0, 0, 0, 0, 0, 0, 0, 0, 0, 0, 0, 0, 1, 0, 0, 0, 0, 0, 0, 0, 0, 0, 0, 0, 0, 0, 0, 0, 0, 0, 0, 0, 0, 0, 0, 0, 0, 0, 0, 0, 0, 0, 0, 0, 0, 0, 0, 0, 0, 0, 0, 0, 0, 0, 0, 0, 0, 0, 0, 0, 0, 0, 0, 0, 0, 0, 0, 0, 0, 0, 0, 1, 0, 0, 0, 0, 0, 0, 0, 0, 0, 0, 0, 0, 0, 1, 0, 0, 0, 1, 0, 0, 0, 0, 0, 0, 0, 0, 0, 0, 0, 0, 0, 0, 0, 0, 0, 0, 0, 0, 0, 0, 0, 0, 0, 0, 0, 0, 1, 0, 0, 0, 0, 0, 0, 0, 0, 0, 0, 0, 0, 0, 0, 0, 0, 0, 0, 0, 0, 0, 0, 0, 0, 0, 0, 0, 0, 0, 0, 0, 0, 0, 0, 0, 0, 0, 0, 1, 0, 0, 0, 0, 1, 0, 0, 0, 0, 0, 0, 0, 0, 0, 0, 0, 0, 0, 0, 1, 0, 0, 1, 0, 0, 0, 0, 0, 0, 0, 0, 0, 0, 0, 1, 0, 1, 0, 0, 0, 0, 0, 0, 0, 0, 0, 0, 0, 0, 0, 0, 0, 0, 0, 0, 0, 0, 0, 0, 0, 0, 0, 0, 0, 0, 0, 0, 0, 0, 0, 0, 0, 0, 0, 1, 0, 0, 0, 0, 1, 0, 0, 0, 0, 0, 1, 0, 0, 0, 0, 0, 0, 0, 0, 0, 0, 0, 0, 0, 0, 0, 0, 0, 0, 0, 0, 0, 0, 0, 0, 0, 0, 1, 0, 0, 0, 0, 0, 0, 1, 0, 0, 0, 0, 0, 0, 0, 0, 0, 0, 0, 0, 0, 0, 0, 0, 0, 0, 0, 0, 0, 0, 0, 0, 0, 0, 0, 0, 0, 0, 0, 0, 0, 0, 1, 0, 0, 0, 0, 0, 0, 0, 0, 0, 0, 0, 0, 0, 0, 0, 0, 0, 0, 0, 0, 0, 0, 0, 0, 0, 1, 0, 0, 0, 1, 0, 0, 0, 0, 0, 0, 0, 0, 0, 0, 0, 0, 1, 1, 0, 0, 0, 0, 0, 0, 0, 0, 0, 0, 0, 0, 0, 0, 0, 0, 0, 0, 0, 0, 0, 0, 0, 0, 0, 0, 0, 0, 0, 0, 1, 0, 0, 0, 0, 0, 1, 1, 1, 0, 0, 0, 0, 0, 1, 0, 0, 0, 0, 0, 1, 0, 0, 0, 0, 0, 0, 1, 0, 0, 0, 0, 0, 0, 0, 0, 0, 0, 0, 0, 0, 0, 0, 0, 0, 0, 0, 0, 0, 0, 0, 0, 0, 0, 0, 1, 1, 0, 0, 0, 0, 0, 0, 0, 0, 0, 0, 0, 0, 0, 0, 0, 0, 0, 0, 0, 0, 0, 0, 0, 0, 0, 1, 0, 0, 1, 0, 0, 0, 0, 0, 0, 0, 0, 0, 0, 0, 1, 0, 0, 0, 0, 1, 1, 1, 1, 0, 0, 0, 0, 0, 0, 0, 0, 0, 0, 0, 0, 1, 0, 0, 0, 0, 0, 0, 1, 0, 0, 0, 0, 0, 0, 0, 0, 1, 0, 0, 0, 0, 0, 0, 0, 1, 0, 0, 0, 0, 0, 0, 0, 0, 0, 0, 0, 0, 0, 1, 0, 0, 0, 0, 0, 0, 1, 0, 0, 0, 0, 0, 0, 0, 0, 0, 0, 0, 0, 0, 0, 0, 0, 0, 0, 0, 0, 0, 0, 0, 0, 0, 0, 0, 0, 0, 0, 0, 0, 0, 0, 0, 0, 0, 0, 1, 0, 0, 0, 0, 0, 0, 0, 0, 0, 0, 0, 0, 0, 0, 0, 0, 0, 0, 1, 0, 0, 0, 0, 1, 0, 0, 0, 0, 0, 0, 0, 0, 0, 0, 0, 0, 0, 0, 0, 0, 0, 0, 0, 0, 0, 0, 0, 0, 1, 0, 0, 0, 0, 0, 0, 0, 0, 0, 0, 0, 0, 0, 0, 0, 0, 0, 0, 0, 0, 0, 0, 1, 0, 0, 0, 0, 0, 0, 0, 1, 0, 0, 0, 0, 0, 0, 0, 0, 0, 0, 0, 0, 0, 0, 0, 0, 1, 0, 0, 0, 0, 0, 0, 0, 0, 0, 0, 0, 0, 0, 0, 0, 0, 0, 0, 0, 0, 0, 0, 0, 0, 0, 0, 0, 1, 0, 1, 0, 0, 0, 0, 0, 0, 0, 0, 0, 0, 0, 0, 0, 0, 0, 0, 0, 0, 0, 0, 0, 0, 0, 0, 0, 0, 0, 0, 0, 1, 1, 0, 0, 0, 0, 1, 0, 0, 0, 0, 1, 0, 0, 0, 0, 0, 0, 0, 0, 0, 0, 1, 0, 0, 0, 1, 0, 0, 0, 0, 0, 0, 0, 0, 1, 0, 0, 0, 0, 0, 0, 0, 1, 0, 0, 0, 0, 0, 1, 0, 0, 0, 0, 0, 0, 0, 0, 0, 1, 0, 0, 0, 0, 0, 0, 1, 0, 0, 0, 0, 0, 0, 0, 0, 0, 0, 0, 0, 0, 0, 0, 0, 0, 0, 0, 0, 0, 0, 0, 0, 0, 0, 0, 0, 0, 0, 0, 0, 0, 0, 0, 0, 0, 1, 0, 0, 0, 0, 0, 0, 0, 1, 0, 0, 0, 0, 0, 0, 0, 0, 0, 0, 0, 0, 0, 1, 0, 0, 0, 0, 0, 0, 0, 0, 0, 0, 0, 1, 0, 0, 0, 0, 0, 0, 0, 0, 0, 0, 0, 0, 0, 0, 0, 0, 0, 0, 0, 0, 0, 0, 0, 0, 0, 0, 1, 1, 0, 1, 0, 1, 0, 0, 0, 1, 1, 0, 1, 0, 0, 0, 0, 0, 0, 0, 0, 0, 0, 0, 0, 0, 0, 0, 1, 0, 0, 0, 0, 0, 0, 0, 1, 0, 0, 0, 0, 0, 0, 1, 0, 0, 0, 0, 0, 0, 0, 0, 0, 0, 0, 0, 0, 0, 0, 0, 1, 0, 0, 0, 0, 0, 0, 0, 0, 0, 0, 0, 0, 0, 1, 0, 0, 0, 0, 0, 0, 0, 0, 0, 0, 1, 0, 0, 0, 0, 0, 0, 0, 0, 0, 1, 0, 0, 0, 0, 0, 0, 0, 0, 0, 0, 0, 0, 0, 0, 0, 0, 0, 0, 0, 0, 0, 0, 0, 0, 0, 0, 0, 0, 0, 0, 1, 0, 0, 0, 0, 0, 0, 0, 0, 0, 0, 0, 0, 0, 0, 0, 0, 0, 0, 0, 0, 0, 0, 0, 0, 0, 0, 0, 0, 0, 0, 0, 0, 0, 0, 0, 0, 0, 0, 0, 0, 0, 0, 0, 0, 0, 0, 0, 0, 0, 0, 0, 0, 0, 0, 0, 0, 0, 0, 0, 0, 0, 0, 0, 0, 0, 0, 0, 0, 0, 0, 0, 0, 0, 0, 1, 0, 0, 0, 0, 0, 0, 0, 0, 0, 0, 0, 0, 0, 0, 0, 0, 0, 0, 0, 0, 0, 0, 0, 0, 0, 1, 0, 0, 0, 0, 0, 0, 0, 0, 0, 0, 0, 0, 0, 0, 0, 0, 0, 0, 0, 0, 0, 0, 0, 0, 0, 0, 0, 0, 0, 0, 0, 0, 0, 0, 0, 0, 0, 0, 0, 0, 0, 0, 0, 0, 0, 0, 0, 0, 0, 1, 0, 0, 0, 0, 0, 0, 0, 0, 0, 0, 0, 0, 0, 0, 0, 0, 0, 0, 0, 0, 0, 0, 0, 0, 0, 0, 0, 0, 0, 0, 0, 0, 0, 0, 0, 0, 0, 0, 0, 0, 0, 0, 0, 0, 0, 0, 1, 0, 0, 0, 0, 0, 1, 0, 0, 0, 0, 0, 0, 0, 0, 0, 0, 0, 0, 0, 0, 0, 0, 0, 0, 0, 0, 0, 0, 0, 0, 0, 0, 0, 0, 1, 0, 0, 0, 0, 0, 0, 0, 0, 0, 0, 0, 0, 0, 0, 0, 0, 0, 0, 0, 0, 0, 0, 0, 1, 0, 0, 0, 0, 0, 0, 0, 0, 0, 0, 0, 0, 0, 0, 0, 0, 0, 0, 0, 0, 0, 0, 0, 0, 0, 0, 0, 0, 0, 0, 0, 0, 0, 0, 0, 0, 0, 0, 0, 0, 0, 0, 0, 0, 0, 0, 1, 0, 0, 0, 0, 0, 0, 0, 0, 0, 0, 0, 0, 0, 0, 0, 0, 0, 0, 0, 0, 0, 0, 0, 0, 0, 0, 0, 0, 0, 0, 0, 0, 0, 0, 0, 0, 0, 1, 0, 1, 0, 0, 0, 0, 0, 0, 0, 0, 0, 0, 0, 0, 0, 0, 0, 0, 0, 0, 0, 0, 0, 0, 0, 0, 0, 0, 0, 0, 0, 1, 0, 0, 0, 0, 0, 0, 0, 0, 0, 0, 0, 0, 0, 0, 0, 0, 0, 0, 0, 0, 1, 0, 0, 0, 0, 0, 0, 0, 0, 0, 0, 0, 0, 0, 0, 0, 0, 0, 0, 0, 0, 0, 0, 0, 0, 0, 0, 0, 0, 0, 0, 0, 0, 0, 0, 0, 0, 0, 0, 1, 0, 1, 0, 0, 0, 0, 0, 0, 0, 0, 0, 0, 1, 0, 0, 0, 0, 0, 0, 0, 0, 0, 0, 0, 1, 0, 1, 0, 0, 1, 0, 0, 0, 1, 0, 1, 0, 0, 0, 0, 0, 0, 0, 0, 0, 0, 0, 0, 0, 0, 0, 0, 0, 0, 0, 0, 0, 0, 0, 0, 0, 0, 0, 0, 0, 0, 0, 0, 0, 0, 0, 0, 0, 0, 0, 0, 0, 0, 0, 0, 1, 0, 0, 0, 0, 0, 0, 0, 0, 0, 0, 0, 0, 0, 0, 0, 0, 0, 0, 0, 0, 0, 0, 0, 0, 0, 0, 0, 0, 0, 0, 0, 0, 0, 0, 0, 0, 0, 0, 0, 0, 0, 0, 0, 0, 0, 0, 0, 0, 0, 0, 0, 0, 0, 0, 0, 0, 0, 0, 0, 0, 0, 0, 0, 0, 1, 0, 0, 0, 0, 0, 0, 0, 0, 0, 0, 0, 0, 0, 0, 0, 0, 0, 1, 0, 0, 1, 0, 0, 0, 0, 0, 0, 0, 1, 0, 0, 0, 0, 0, 0, 0, 0, 0, 0, 0, 0, 1, 0, 0, 0, 0, 0, 0, 0, 0, 0, 0, 0, 0, 0, 1, 0, 0, 0, 0, 0, 0, 1, 0, 0, 0, 0, 0, 0, 0, 0, 0, 0, 0, 0, 0, 0, 0, 1, 0, 1, 1, 1, 0, 1, 0, 1, 0, 1, 0, 0, 0, 1, 0, 0, 0, 0, 0, 0, 0, 0, 0, 0, 0, 0, 0, 0, 1, 0, 0, 0, 0, 0, 0, 0, 0, 0, 0, 0, 0, 0, 0, 0, 0, 0, 0, 0, 0, 1, 0, 0, 0, 0, 0, 0, 0, 0, 0, 0, 0, 0, 0, 0, 0, 0, 0, 0, 0, 0, 0, 0, 0, 0, 0, 0, 0, 0, 0, 0, 1, 0, 0, 0, 0, 0, 0, 0, 0, 0, 0, 0, 0, 0, 0, 0, 0, 1, 0, 0, 0, 1, 0, 0, 0, 0, 0, 0, 0, 0, 0, 0, 0, 0, 0, 0, 0, 0, 0, 1, 0, 0, 0, 0, 0, 0, 1, 0, 0, 0, 0, 0, 0, 0, 0, 0, 0, 0, 0, 0, 0, 0, 0, 0, 0, 1, 1, 0, 0, 0, 0, 0, 0, 0, 0, 1, 0, 0, 0, 0, 0, 0, 0, 0, 0, 1, 0, 0, 0, 0, 0, 1, 0, 0, 0, 0, 0, 0, 0, 0, 0, 0, 0, 0, 0, 0, 0, 0, 1, 0, 1, 0, 0, 0, 0, 0, 0, 0, 0, 0, 0, 0, 0, 0, 0, 0, 0, 0, 0, 0, 0, 0, 0, 0, 0, 0, 0, 0, 0, 0, 0, 0, 0, 0, 0, 0, 0, 0, 0, 0, 0, 0, 0, 0, 0, 0, 0, 0, 0, 0, 0, 0, 0, 0, 0, 0, 0, 0, 0, 0, 0, 0, 0, 1, 1, 0, 0, 0, 0, 0, 0, 0, 0, 0, 0, 0, 0, 0, 0, 0, 0, 0, 0, 0, 0, 0, 0, 0, 0, 0, 0, 0, 0, 0, 0, 0, 1, 0, 0, 0, 0, 0, 0, 0, 0, 0, 0, 0, 0, 0, 0, 0, 1, 0, 0, 0, 0, 0, 0, 0, 0, 0, 0, 0, 0, 0, 0, 0, 0, 0, 0, 0, 0, 1, 0, 0, 0, 0, 0, 0, 0, 0, 0, 0, 0, 0, 0, 0, 0, 0, 0, 0, 0, 0, 0, 1, 0, 0, 0, 0, 0, 0, 0, 0, 0, 0, 0, 0, 0, 0, 0, 0, 0, 0, 1, 1, 0, 0, 0, 0, 0, 0, 0, 1, 0, 0, 0, 0, 0, 0, 0, 0, 1, 0, 1, 0, 1, 0, 0, 0, 0, 1, 1, 0, 0, 0, 0, 0, 0, 0, 0, 0, 0, 0, 0, 0, 0, 1, 0, 0, 0, 0, 0, 0, 0, 0, 0, 0, 0, 0, 0, 0, 0, 0, 0, 0, 0, 0, 1, 0, 0, 0, 0, 0, 0, 0, 0, 0, 0, 0, 0, 0, 0, 0, 1, 0, 0, 0, 0, 0, 0, 0, 0, 0, 0, 0, 0, 0, 0, 0, 0, 0, 0, 0, 0, 0, 0, 0, 1, 0, 0, 0, 0, 0, 0, 0, 0, 1, 0, 0, 0, 0, 0, 0, 0, 0, 0, 0, 0, 0, 0, 0, 0, 0, 0, 0, 0, 0, 0, 0, 0, 0, 0, 0, 0, 0, 0, 0, 0, 0, 0, 0, 0, 0, 0, 0, 0, 0, 0, 0, 0, 0, 0, 0, 0, 0, 0, 0, 0, 0, 0, 0, 0, 0, 1, 0, 0, 0, 0, 0, 0, 0, 0, 0, 0, 1, 0, 0, 0, 0, 0, 0, 0, 0, 0, 0, 1, 0, 0, 0, 0, 0, 0, 0, 0, 0, 0, 0, 0, 0, 0, 0, 0, 0, 0, 0, 0, 0, 0, 0, 0, 0, 0, 0, 0, 0, 0, 0, 0, 0, 0, 0, 0, 0, 0, 0, 1, 0, 0, 0, 0, 0, 0, 0, 0, 0, 0, 0, 1, 0, 0, 0, 0, 0, 0, 0, 0, 0, 0, 0, 1, 1, 0, 0, 0, 0, 0, 0, 1, 0, 1, 1, 0, 0, 0, 0, 0, 1, 1, 0, 0, 1, 0, 0, 1, 0, 0, 0, 0, 0, 0, 0, 0, 0, 0, 0, 0, 0, 0, 0, 0, 0, 0, 0, 0, 0, 0, 1, 0, 0, 0, 0, 0, 0, 0, 0, 1, 0, 1, 0, 0, 0, 0, 0, 1, 0, 0, 0, 0, 0, 0, 0, 0, 0, 0, 0, 0, 0, 0, 0, 1, 0, 1, 0, 0, 0, 0, 0, 0, 0, 0, 0, 0, 0, 0, 0, 0, 0, 0, 0, 0, 0, 0, 0, 0, 0, 0, 0, 0, 0, 0, 0, 0, 1, 0, 0, 0, 0, 1, 0, 0, 0, 0, 0, 0, 0, 0, 0, 0, 1, 0, 0, 1, 0, 0, 0, 0, 0, 0, 0, 0, 0, 0, 0, 0, 0, 0, 0, 0, 0, 0, 1, 0, 1, 0, 0, 0, 0, 0, 0, 0, 0, 0, 0, 0, 0, 0, 0, 0, 0, 0, 0, 0, 0, 0, 0, 0, 0, 0, 0, 0, 0, 0, 0, 0, 0, 0, 0, 0, 0, 0, 0, 0, 0, 0, 0, 0, 0, 0, 0, 0, 0, 0, 0, 0, 0, 0, 0, 0, 0, 0, 0, 0, 0, 0, 0, 0, 0, 0, 0, 0, 0, 0, 1, 0, 0, 0, 0, 0, 0, 0, 0, 0, 0, 0, 0, 0, 0, 1, 0, 0, 0, 0, 0, 0, 0, 0, 0, 0, 0, 0, 0, 0, 0, 0, 0, 0, 0, 0, 0, 0, 0, 0, 0, 0, 0, 0, 1, 0, 0, 0, 0, 0, 0, 0, 0, 0, 0, 1, 0, 0, 0, 0, 0, 0, 0, 0, 0, 0, 0, 0, 0, 0, 0, 0, 0, 0, 1, 0, 0, 1, 1, 0, 0, 0, 0, 0, 0, 0, 0, 0, 0, 0, 0, 0, 0, 0, 0, 0, 1, 0, 0, 0, 0, 0, 0, 0, 0, 0, 0, 0, 0, 0, 0, 0, 0, 0, 0, 0, 0, 0, 0, 0, 0, 0, 0, 0, 0, 0, 0, 0, 0, 1, 0, 0, 0, 0, 0, 0, 0, 0, 0, 0, 0, 0, 0, 0, 0, 0, 0, 0, 0, 0, 1, 0, 1, 0, 0, 0, 1, 0, 0, 0, 0, 0, 0, 0, 0, 0, 0, 0, 0, 0, 0, 0, 0, 0, 0, 0, 0, 0, 0, 0, 0, 0, 0, 0, 0, 1, 0, 0, 0, 0, 1, 0, 0, 0, 1, 0, 0, 0, 0, 0, 0, 0, 0, 0, 0, 0, 0, 0, 0, 0, 0, 0, 1, 0, 0, 0, 0, 0, 0, 0, 0, 0, 0, 0, 0, 1, 0, 0, 0, 0, 0, 0, 1, 0, 0, 0, 0, 1, 1, 0, 0, 0, 0, 0, 0, 0, 0, 1, 0, 0, 0, 0, 0, 0, 0, 0, 0, 0, 0, 0, 0, 0, 0, 0, 0, 0, 1, 1, 0, 0, 0, 0, 0, 0, 0, 0, 0, 0, 0, 0, 0, 0, 0, 0, 1, 0, 0, 0, 0, 0, 0, 0, 0, 0, 0, 0, 0, 0, 0, 0, 1, 0, 0, 0, 0, 0, 0, 0, 0, 0, 0, 0, 0, 0, 0, 0, 0, 0, 0, 0, 0, 0, 0, 0, 0, 0, 0, 0, 0, 0, 0, 0, 0, 0, 0, 0, 0, 0, 0, 1, 0, 0, 0, 1, 0, 0, 0, 0, 0, 1, 0, 0, 0, 0, 0, 0, 0, 0, 0, 0, 0, 0, 0, 0, 0, 0, 0, 0, 1, 0, 0, 0, 0, 0, 0, 0, 0, 0, 0, 0, 1, 0, 0, 1, 0, 0, 0, 0, 0, 0, 0, 0, 0, 0, 0, 0, 0, 0, 0, 0, 0, 0, 0, 0, 0, 1, 1, 0, 1, 0, 0, 0, 0, 0, 0, 0, 0, 0, 0, 0, 0, 0, 0, 0, 0, 0, 0, 0, 0, 0, 1, 0, 0, 0, 0, 0, 0, 0, 0, 0, 0, 0, 0, 0, 1, 0, 0, 0, 0, 0, 0, 0, 1, 0, 0, 0, 0, 0, 0, 0, 0, 0, 0, 0, 0, 0, 0, 0, 0, 0, 0, 0, 0, 0, 0, 0, 0, 1, 0, 0, 0, 0, 0, 0, 0, 0, 0, 0, 0, 0, 0, 0, 0, 0, 0, 0, 1, 1, 1, 0, 0, 0, 1, 0, 0, 1, 0, 0, 0, 0, 1, 1, 0, 0, 0, 0, 0, 0, 0, 0, 0, 0, 0, 0, 0, 0, 0, 0, 0, 0, 0, 0, 0, 0, 0, 0, 0, 0, 1, 1, 0, 0, 0, 0, 0, 0, 0, 0, 0, 0, 0, 0, 0, 0, 1, 0, 0, 0, 0, 0, 0, 0, 0, 0, 0, 1, 0, 0, 0, 0, 0, 0, 1, 1, 0, 0, 0, 0, 0, 0, 0, 0, 0, 0, 0, 0, 0, 0, 0, 1, 0, 0, 0, 0, 0, 0, 0, 0, 0, 0, 0, 0, 0, 0, 0, 0, 0, 0, 0, 0, 0, 0, 0, 0, 0, 1, 0, 0, 0, 0, 0, 0, 0, 0, 0, 0, 0, 1, 0, 0, 0, 0, 0, 0, 0, 0, 0, 0, 0, 0, 0, 0, 0, 0, 0, 0, 0, 0, 0, 1, 0, 0, 0, 0, 0, 0, 0, 0, 0, 0, 0, 0, 0, 0, 1, 0, 0, 0, 0, 0, 0, 0, 1, 0, 0, 0, 0, 0, 0, 0, 0, 0, 0, 0, 0, 0, 0, 0, 0, 0, 1, 0, 0, 1, 0, 0, 0, 0, 0, 0, 0, 0, 0, 0, 0, 0, 0, 0, 0, 0, 0, 0, 0, 0, 0, 0, 0, 0, 0, 1, 0, 0, 0, 0, 0, 0, 0, 0, 1, 0, 0, 0, 0, 1, 0, 0, 0, 0, 0, 0, 1, 0, 0, 0, 0, 1, 0, 0, 0, 0, 0, 0, 0, 0, 0, 0, 0, 0, 0, 0, 0, 0, 0, 0, 0, 0, 0, 0, 0, 0, 0, 0, 0, 1, 1, 0, 0, 0, 1, 0, 0, 0, 0, 0, 0, 0, 0, 0, 0, 0, 0, 0, 0, 0, 1, 1, 0, 0, 0, 0, 0, 0, 0, 0, 0, 0, 0, 0, 0, 0, 1, 0, 0, 0, 0, 0, 0, 0, 1, 0, 0, 0, 1, 0, 0, 0, 0, 0, 0, 0, 0, 0, 0, 0, 0, 0, 0, 0, 1, 0, 1, 0, 0, 0, 0, 0, 0, 0, 0, 1, 0, 0, 1, 0, 0]\n"
     ]
    }
   ],
   "source": [
    "print(y_pred_m_01)"
   ]
  },
  {
   "cell_type": "code",
   "execution_count": 451,
   "id": "b30521a8",
   "metadata": {},
   "outputs": [],
   "source": [
    "def accuracy(X, Y, W):\n",
    "    Z = np.dot(X, W) \n",
    "    y_pred = sigmoid(Z)\n",
    "    y_pred = y_pred >= 0.65\n",
    "    y_pred = np.array(y_pred, dtype = 'int64')\n",
    "    acc = (1 - np.sum(np.absolute(y_pred - Y))/Y.shape[0])*100\n",
    "    print(\"Accuracy of the model is : \", round(acc, 2), \"%\")"
   ]
  },
  {
   "cell_type": "code",
   "execution_count": 452,
   "id": "452f2220",
   "metadata": {},
   "outputs": [],
   "source": [
    "X_m0 = np.ones((X_test_m.shape[0], 1))\n"
   ]
  },
  {
   "cell_type": "code",
   "execution_count": 453,
   "id": "2362c66d",
   "metadata": {},
   "outputs": [],
   "source": [
    "X_test_m = np.hstack((X_test_m, X_m0)) "
   ]
  },
  {
   "cell_type": "code",
   "execution_count": 454,
   "id": "6009c53d",
   "metadata": {},
   "outputs": [
    {
     "name": "stdout",
     "output_type": "stream",
     "text": [
      "Accuracy of the model is :  92.49 %\n"
     ]
    }
   ],
   "source": [
    "acc = accuracy(X_test_m, y_test_m, theta_m)"
   ]
  },
  {
   "cell_type": "code",
   "execution_count": 455,
   "id": "435b885d",
   "metadata": {},
   "outputs": [],
   "source": [
    "                                    #Newtons Method"
   ]
  },
  {
   "cell_type": "code",
   "execution_count": 476,
   "id": "e8c989e6",
   "metadata": {},
   "outputs": [],
   "source": [
    "def newton_step(curr, y, X, reg=None):\n",
    "    p = np.array(sigmoid(X.dot(curr[:,0])), ndmin=2).T  \n",
    "    W = np.diag((p*(1-p))[:,0]) \n",
    "    hessian = X.T.dot(W).dot(X) \n",
    "    grad = X.T.dot(y-p)  \n",
    "    if reg:\n",
    "        step = np.dot(np.linalg.inv(hessian + reg*np.eye(curr.shape[0])), grad)\n",
    "    else:\n",
    "        step = np.dot(np.linalg.inv(hessian), grad)\n",
    "        \n",
    "    beta = curr + step\n",
    "    return beta"
   ]
  },
  {
   "cell_type": "code",
   "execution_count": 477,
   "id": "bf43b8cf",
   "metadata": {},
   "outputs": [],
   "source": [
    "def check_convergence(beta_old, beta_new, tol, iters):\n",
    "    coef_change = np.abs(beta_old - beta_new)\n",
    "    return not (np.any(coef_change>tol) and iters < max_iters)\n",
    "def test_model(X, y, beta):\n",
    "    prob = np.array(sigmoid(X.dot(beta)))\n",
    "    \n",
    "    prob = np.greater(prob, 0.5*np.ones((prob.shape[1],1)))\n",
    "    accuracy = np.count_nonzero(np.equal(prob, y))/prob.shape[0] * 100\n",
    "    return accuracy\n",
    "def newtons(train_X, train_y, iterations, learning_rate):\n",
    "    tol=learning_rate \n",
    "    print(train_X.shape)\n",
    "    reg_term = 1\n",
    "    beta_old, beta = np.ones((train_X.shape[1],1)), np.zeros((train_X.shape[1],1))\n",
    "    iter_count = 0\n",
    "    for i in range(iterations):\n",
    "        print('Iteration: {}'.format(iter_count))\n",
    "        print('Validation Accuracy: {}%'.format(\n",
    "        test_model(val_X, val_Y.to_frame(), beta_old)))\n",
    "        beta_old = beta\n",
    "        beta = newton_step(beta, train_Y.to_frame(), train_X, reg_term)\n",
    "        iter_count += 1\n",
    "    return beta_old"
   ]
  },
  {
   "cell_type": "code",
   "execution_count": 478,
   "id": "8654c6b3",
   "metadata": {},
   "outputs": [],
   "source": [
    "test_split = int(multi_df.shape[0]*0.9) \n",
    "val_split = int(multi_df.shape[0]*0.8)"
   ]
  },
  {
   "cell_type": "code",
   "execution_count": 479,
   "id": "5b5d6e05",
   "metadata": {},
   "outputs": [],
   "source": [
    "test_data = multi_df[test_split:]\n",
    "val_data = multi_df[val_split:test_split]\n",
    "data = multi_df[:val_split]\n",
    "\n",
    "y_train_newton, X_train_newton = multi_df['income'], multi_df.drop('income', axis=1)\n",
    "y_val, X_val = val_data['income'], val_data.drop('income', axis=1)\n",
    "y_test_newton, X_test_newton = test_data['income'], test_data.drop('income', axis=1)"
   ]
  },
  {
   "cell_type": "code",
   "execution_count": 480,
   "id": "4be4934c",
   "metadata": {},
   "outputs": [],
   "source": [
    "                                    #newtons method(multi)"
   ]
  },
  {
   "cell_type": "code",
   "execution_count": 481,
   "id": "ba560aff",
   "metadata": {
    "scrolled": true
   },
   "outputs": [
    {
     "name": "stdout",
     "output_type": "stream",
     "text": [
      "(17841, 71)\n",
      "Iteration: 0\n",
      "Validation Accuracy: 43.04932735426009%\n",
      "Iteration: 1\n",
      "Validation Accuracy: 56.95067264573991%\n"
     ]
    },
    {
     "name": "stderr",
     "output_type": "stream",
     "text": [
      "/home/prudhvi/anaconda3/lib/python3.8/site-packages/pandas/core/arraylike.py:358: RuntimeWarning: overflow encountered in exp\n",
      "  result = getattr(ufunc, method)(*inputs, **kwargs)\n"
     ]
    },
    {
     "name": "stdout",
     "output_type": "stream",
     "text": [
      "Iteration: 2\n",
      "Validation Accuracy: 54.147982062780265%\n"
     ]
    },
    {
     "name": "stderr",
     "output_type": "stream",
     "text": [
      "/home/prudhvi/anaconda3/lib/python3.8/site-packages/pandas/core/arraylike.py:358: RuntimeWarning: overflow encountered in exp\n",
      "  result = getattr(ufunc, method)(*inputs, **kwargs)\n"
     ]
    },
    {
     "name": "stdout",
     "output_type": "stream",
     "text": [
      "Iteration: 3\n",
      "Validation Accuracy: 63.62107623318386%\n"
     ]
    },
    {
     "name": "stderr",
     "output_type": "stream",
     "text": [
      "/home/prudhvi/anaconda3/lib/python3.8/site-packages/pandas/core/arraylike.py:358: RuntimeWarning: overflow encountered in exp\n",
      "  result = getattr(ufunc, method)(*inputs, **kwargs)\n"
     ]
    },
    {
     "name": "stdout",
     "output_type": "stream",
     "text": [
      "Iteration: 4\n",
      "Validation Accuracy: 50.11210762331838%\n"
     ]
    },
    {
     "name": "stderr",
     "output_type": "stream",
     "text": [
      "/home/prudhvi/anaconda3/lib/python3.8/site-packages/pandas/core/arraylike.py:358: RuntimeWarning: overflow encountered in exp\n",
      "  result = getattr(ufunc, method)(*inputs, **kwargs)\n"
     ]
    }
   ],
   "source": [
    "theta = newtons(X_train_newton, y_train_newton, 5, 0.00001)"
   ]
  },
  {
   "cell_type": "code",
   "execution_count": 482,
   "id": "ed5ae315",
   "metadata": {},
   "outputs": [
    {
     "name": "stdout",
     "output_type": "stream",
     "text": [
      "[[-8.58444195e+07]\n",
      " [-4.49899718e+07]\n",
      " [ 9.49780334e+08]\n",
      " [ 1.40925825e+08]\n",
      " [-2.77676084e+05]]\n"
     ]
    }
   ],
   "source": [
    "print(theta[:5])"
   ]
  },
  {
   "cell_type": "code",
   "execution_count": 483,
   "id": "2c3fa531",
   "metadata": {},
   "outputs": [
    {
     "name": "stdout",
     "output_type": "stream",
     "text": [
      "Test Accuracy: 45.7703081232493%\n"
     ]
    }
   ],
   "source": [
    "print('Test Accuracy: {}%'.format(\n",
    "        test_model(test_X, test_Y.to_frame(), theta)))"
   ]
  },
  {
   "cell_type": "code",
   "execution_count": 464,
   "id": "91b955d2",
   "metadata": {},
   "outputs": [],
   "source": [
    "                            #newtons method Univariate"
   ]
  },
  {
   "cell_type": "code",
   "execution_count": 465,
   "id": "141fb211",
   "metadata": {},
   "outputs": [
    {
     "name": "stdout",
     "output_type": "stream",
     "text": [
      "                         age  education  education-num       sex  \\\n",
      "age                 1.000000   0.119346       0.075006 -0.122290   \n",
      "education           0.119346   1.000000       0.732212 -0.053289   \n",
      "education-num       0.075006   0.732212       1.000000 -0.053460   \n",
      "sex                -0.122290  -0.053289      -0.053460  1.000000   \n",
      "capital-gain        0.088224   0.069667       0.138364 -0.048916   \n",
      "...                      ...        ...            ...       ...   \n",
      "Asian-Pac-Islander -0.007820   0.045704       0.058991 -0.012317   \n",
      "Black              -0.036329  -0.067119      -0.081218  0.115287   \n",
      "Other              -0.036633  -0.039282      -0.054144  0.018841   \n",
      "not-married        -0.511451  -0.102184      -0.090308  0.202776   \n",
      "other               0.171829  -0.057700      -0.084250  0.332846   \n",
      "\n",
      "                    capital-gain  capital-loss  hours-per-week    income  \\\n",
      "age                     0.088224      0.063668        0.078374  0.287609   \n",
      "education               0.069667      0.077340        0.161644  0.299074   \n",
      "education-num           0.138364      0.095234        0.178297  0.384054   \n",
      "sex                    -0.048916     -0.052879       -0.246749 -0.260733   \n",
      "capital-gain            1.000000     -0.046787        0.088020  0.194228   \n",
      "...                          ...           ...             ...       ...   \n",
      "Asian-Pac-Islander      0.012677      0.000356       -0.003757  0.010832   \n",
      "Black                  -0.020492     -0.021275       -0.060231 -0.109333   \n",
      "Other                   0.000237     -0.006030       -0.013319 -0.043088   \n",
      "not-married            -0.065928     -0.064591       -0.203652 -0.396785   \n",
      "other                  -0.025858     -0.040183       -0.045619 -0.220265   \n",
      "\n",
      "                    Cambodia    Canada  ...  Protective-serv     Sales  \\\n",
      "age                -0.002266  0.009485  ...         0.006032 -0.018720   \n",
      "education          -0.009607  0.011927  ...        -0.021687  0.000428   \n",
      "education-num      -0.017012  0.012803  ...        -0.007063  0.011951   \n",
      "sex                -0.012354  0.010908  ...        -0.063243 -0.002925   \n",
      "capital-gain       -0.002188  0.004806  ...        -0.013622  0.014427   \n",
      "...                      ...       ...  ...              ...       ...   \n",
      "Asian-Pac-Islander  0.146144 -0.006092  ...        -0.012879 -0.011077   \n",
      "Black              -0.008152 -0.018395  ...         0.030308 -0.029609   \n",
      "Other              -0.002322 -0.005241  ...         0.004907 -0.008595   \n",
      "not-married        -0.001734 -0.006507  ...        -0.032408  0.012924   \n",
      "other              -0.007121 -0.004180  ...        -0.010170 -0.020486   \n",
      "\n",
      "                    Tech-support  Transport-moving  Amer-Indian-Eskimo  \\\n",
      "age                    -0.012896          0.016569           -0.021994   \n",
      "education              -0.007735         -0.087724           -0.025830   \n",
      "education-num           0.039540         -0.137283           -0.032762   \n",
      "sex                    -0.003010         -0.116325            0.029679   \n",
      "capital-gain           -0.014543         -0.023824           -0.008123   \n",
      "...                          ...               ...                 ...   \n",
      "Asian-Pac-Islander      0.017252         -0.022722           -0.017298   \n",
      "Black                  -0.007844          0.004489           -0.028260   \n",
      "Other                  -0.003548         -0.001074           -0.008052   \n",
      "not-married             0.001313         -0.042267            0.014989   \n",
      "other                  -0.005947         -0.023716            0.018091   \n",
      "\n",
      "                    Asian-Pac-Islander     Black     Other  not-married  \\\n",
      "age                          -0.007820 -0.036329 -0.036633    -0.511451   \n",
      "education                     0.045704 -0.067119 -0.039282    -0.102184   \n",
      "education-num                 0.058991 -0.081218 -0.054144    -0.090308   \n",
      "sex                          -0.012317  0.115287  0.018841     0.202776   \n",
      "capital-gain                  0.012677 -0.020492  0.000237    -0.065928   \n",
      "...                                ...       ...       ...          ...   \n",
      "Asian-Pac-Islander            1.000000 -0.055777 -0.015891     0.002513   \n",
      "Black                        -0.055777  1.000000 -0.025963     0.081053   \n",
      "Other                        -0.015891 -0.025963  1.000000     0.019611   \n",
      "not-married                   0.002513  0.081053  0.019611     1.000000   \n",
      "other                        -0.026002  0.078525  0.011535    -0.274795   \n",
      "\n",
      "                       other  \n",
      "age                 0.171829  \n",
      "education          -0.057700  \n",
      "education-num      -0.084250  \n",
      "sex                 0.332846  \n",
      "capital-gain       -0.025858  \n",
      "...                      ...  \n",
      "Asian-Pac-Islander -0.026002  \n",
      "Black               0.078525  \n",
      "Other               0.011535  \n",
      "not-married        -0.274795  \n",
      "other               1.000000  \n",
      "\n",
      "[72 rows x 72 columns]\n"
     ]
    }
   ],
   "source": [
    "print(multi_df.corr())"
   ]
  },
  {
   "cell_type": "code",
   "execution_count": 466,
   "id": "fae1a33e",
   "metadata": {},
   "outputs": [],
   "source": [
    "test_data = multi_df[test_split:]\n",
    "val_data = multi_df[val_split:test_split]\n",
    "data = multi_df[:val_split]\n",
    "\n",
    "y_train_newton, X_train_newton = multi_df['income'], multi_df['education-num']\n",
    "y_val, X_val = val_data['income'], val_data['education-num']\n",
    "y_test_newton, X_test_newton = test_data['income'], test_data['education-num']\n",
    "m = X_train_newton.shape[0]\n",
    "n = X_test_newton.shape[0]\n",
    "X_train_newton = X_train_newton.values.reshape(m, 1)\n",
    "X_test_newton = X_test_newton.values.reshape(n, 1)"
   ]
  },
  {
   "cell_type": "code",
   "execution_count": 467,
   "id": "d74ba42d",
   "metadata": {},
   "outputs": [],
   "source": [
    "def newtons_uni(train_X, train_y, iterations, learning_rate):\n",
    "    tol=learning_rate \n",
    "    reg_term = 1\n",
    "    beta_old, beta = np.ones((2,1)), np.zeros((2,1))\n",
    "    iter_count = 0\n",
    "    for i in range(iterations):\n",
    "        print('Iteration: {}'.format(i))\n",
    "        beta_old = beta\n",
    "        beta = newton_step(beta, train_Y.to_frame(), train_X, reg_term)\n",
    "    return beta_old"
   ]
  },
  {
   "cell_type": "code",
   "execution_count": 468,
   "id": "8d39643a",
   "metadata": {},
   "outputs": [],
   "source": [
    "m = X_train_newton.shape[0]\n",
    "X_m0 = np.ones((m, 1))\n",
    "X_train_newton = np.hstack((X_train_newton, X_m0)) \n",
    "\n"
   ]
  },
  {
   "cell_type": "code",
   "execution_count": 469,
   "id": "6083b827",
   "metadata": {},
   "outputs": [],
   "source": [
    "X_m0 = np.ones((n, 1))\n",
    "X_test_newton = np.hstack((X_test_newton, X_m0))"
   ]
  },
  {
   "cell_type": "code",
   "execution_count": 470,
   "id": "119612e6",
   "metadata": {},
   "outputs": [
    {
     "data": {
      "text/plain": [
       "(1785, 2)"
      ]
     },
     "execution_count": 470,
     "metadata": {},
     "output_type": "execute_result"
    }
   ],
   "source": [
    "X_test_newton.shape"
   ]
  },
  {
   "cell_type": "code",
   "execution_count": 471,
   "id": "00b63cb0",
   "metadata": {},
   "outputs": [
    {
     "name": "stdout",
     "output_type": "stream",
     "text": [
      "(17841, 2)\n",
      "Iteration: 0\n",
      "Iteration: 1\n",
      "Iteration: 2\n",
      "Iteration: 3\n",
      "Iteration: 4\n"
     ]
    }
   ],
   "source": [
    "print(X_train_newton.shape)\n",
    "theta = newtons_uni(X_train_newton, y_train_newton, 5, 0.00001)"
   ]
  },
  {
   "cell_type": "code",
   "execution_count": 472,
   "id": "7852de24",
   "metadata": {},
   "outputs": [
    {
     "name": "stdout",
     "output_type": "stream",
     "text": [
      "[[-0.00361701]\n",
      " [-0.20530312]]\n"
     ]
    }
   ],
   "source": [
    "print(theta)"
   ]
  },
  {
   "cell_type": "code",
   "execution_count": 473,
   "id": "97d67b8b",
   "metadata": {},
   "outputs": [
    {
     "name": "stdout",
     "output_type": "stream",
     "text": [
      "Test Accuracy: 56.63865546218487%\n"
     ]
    }
   ],
   "source": [
    "print('Test Accuracy: {}%'.format(\n",
    "        test_model(X_test_newton, y_test_newton.to_frame(), theta)))"
   ]
  },
  {
   "cell_type": "code",
   "execution_count": null,
   "id": "5f4bae7a",
   "metadata": {},
   "outputs": [],
   "source": []
  },
  {
   "cell_type": "code",
   "execution_count": null,
   "id": "cb6ee559",
   "metadata": {},
   "outputs": [],
   "source": []
  },
  {
   "cell_type": "code",
   "execution_count": null,
   "id": "c0bc2119",
   "metadata": {},
   "outputs": [],
   "source": []
  },
  {
   "cell_type": "code",
   "execution_count": null,
   "id": "b387c392",
   "metadata": {},
   "outputs": [],
   "source": []
  }
 ],
 "metadata": {
  "kernelspec": {
   "display_name": "Python 3",
   "language": "python",
   "name": "python3"
  },
  "language_info": {
   "codemirror_mode": {
    "name": "ipython",
    "version": 3
   },
   "file_extension": ".py",
   "mimetype": "text/x-python",
   "name": "python",
   "nbconvert_exporter": "python",
   "pygments_lexer": "ipython3",
   "version": "3.8.8"
  }
 },
 "nbformat": 4,
 "nbformat_minor": 5
}
