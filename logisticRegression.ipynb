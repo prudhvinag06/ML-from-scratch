{
 "cells": [
  {
   "cell_type": "code",
   "execution_count": null,
   "id": "f922c3b0",
   "metadata": {},
   "outputs": [],
   "source": [
    "import pandas as pd\n",
    "import numpy as np\n",
    "import seaborn as sns\n",
    "import matplotlib.pyplot as plt"
   ]
  },
  {
   "cell_type": "code",
   "execution_count": null,
   "id": "a664793f",
   "metadata": {},
   "outputs": [],
   "source": [
    "def model(x, y, theta, learning_rate, iterations):\n",
    "    cost_list = []\n",
    "    for _ in range(iterations):\n",
    "        pred=(x@theta)\n",
    "        pred=1/(1 + np.exp(-pred))\n",
    "        error=pred-y\n",
    "        #print(error.values)\n",
    "        grads=(1/x.shape[0])*(x.T@error)\n",
    "        theta = np.subtract(theta,learning_rate * grads)\n",
    "    return theta\n",
    "\n",
    "def compute_cost(X, y, theta):\n",
    "    x_dot_theta = X.dot(theta)\n",
    "    J = 1.0 / len(X) * (-y.T.dot(np.log(sigmoid(x_dot_theta))) - (1 - y).T.dot(np.log(1 - sigmoid(x_dot_theta))))\n",
    "    return J\n",
    "\n",
    "def sigmoid(z):\n",
    "    g = 1 / (1 + np.exp(-z))\n",
    "    return g\n",
    "\n",
    "def compute_cost(X, y, theta):\n",
    "    x_dot_theta = X.dot(theta)\n",
    "    J = 1.0 / m * (-y.T.dot(np.log(sigmoid(x_dot_theta))) - (1 - y).T.dot(np.log(1 - sigmoid(x_dot_theta))))\n",
    "\n",
    "    return J\n"
   ]
  },
  {
   "cell_type": "code",
   "execution_count": null,
   "id": "be79103d",
   "metadata": {},
   "outputs": [],
   "source": [
    "                                    #Data preprocessing stage"
   ]
  },
  {
   "cell_type": "code",
   "execution_count": null,
   "id": "ee42c5a1",
   "metadata": {},
   "outputs": [],
   "source": [
    "main_df = pd.read_csv(\"census_income.csv\")\n",
    "main_df\n",
    "num_col = main_df.select_dtypes(exclude=[\"object_\"])\n",
    "cat_col = main_df.select_dtypes(exclude=[\"number\"])"
   ]
  },
  {
   "cell_type": "code",
   "execution_count": null,
   "id": "f644668e",
   "metadata": {},
   "outputs": [],
   "source": [
    "print(num_col.shape)\n",
    "print(cat_col.shape)"
   ]
  },
  {
   "cell_type": "code",
   "execution_count": null,
   "id": "511a050b",
   "metadata": {},
   "outputs": [],
   "source": [
    "print(main_df.shape)\n",
    "print(main_df.dtypes)"
   ]
  },
  {
   "cell_type": "code",
   "execution_count": null,
   "id": "aa3ac4a7",
   "metadata": {},
   "outputs": [],
   "source": [
    "main_df.isnull().sum()  #we have no null values "
   ]
  },
  {
   "cell_type": "code",
   "execution_count": null,
   "id": "9dc2265d",
   "metadata": {},
   "outputs": [],
   "source": [
    "print(\"Categorial Data : \", cat_col.columns)\n",
    "print(\"Numeric Data : \", num_col.columns)"
   ]
  },
  {
   "cell_type": "code",
   "execution_count": null,
   "id": "2c890895",
   "metadata": {},
   "outputs": [],
   "source": [
    "main_df.nunique()"
   ]
  },
  {
   "cell_type": "code",
   "execution_count": null,
   "id": "b96ba41a",
   "metadata": {},
   "outputs": [],
   "source": [
    "main_df.describe()"
   ]
  },
  {
   "cell_type": "code",
   "execution_count": null,
   "id": "cb315a69",
   "metadata": {},
   "outputs": [],
   "source": [
    "main_df['workclass'].value_counts()   #we have ? as data"
   ]
  },
  {
   "cell_type": "code",
   "execution_count": null,
   "id": "e3b28d33",
   "metadata": {},
   "outputs": [],
   "source": [
    "main_df['occupation'].value_counts()  "
   ]
  },
  {
   "cell_type": "code",
   "execution_count": null,
   "id": "ac586d0a",
   "metadata": {},
   "outputs": [],
   "source": [
    "main_df['native-country'].value_counts()  "
   ]
  },
  {
   "cell_type": "code",
   "execution_count": null,
   "id": "9dd7a2cd",
   "metadata": {},
   "outputs": [],
   "source": [
    "                                #Filling missing data"
   ]
  },
  {
   "cell_type": "code",
   "execution_count": null,
   "id": "72d8427f",
   "metadata": {},
   "outputs": [],
   "source": [
    "main_df.columns"
   ]
  },
  {
   "cell_type": "code",
   "execution_count": null,
   "id": "d14e6693",
   "metadata": {},
   "outputs": [],
   "source": [
    "main_df['workclass'] = main_df['workclass'].replace('?', 'Private') #replacing with mode\n",
    "main_df['occupation'] = main_df['occupation'].replace('?', 'Exec-managerial')\n",
    "main_df['native-country'] = main_df['native-country'].replace('?', 'United-States')"
   ]
  },
  {
   "cell_type": "code",
   "execution_count": null,
   "id": "c703dafe",
   "metadata": {},
   "outputs": [],
   "source": [
    "main_df[\"native-country\"].value_counts()"
   ]
  },
  {
   "cell_type": "code",
   "execution_count": null,
   "id": "f6d33507",
   "metadata": {},
   "outputs": [],
   "source": [
    "main_df.head(8)"
   ]
  },
  {
   "cell_type": "code",
   "execution_count": null,
   "id": "61021d61",
   "metadata": {},
   "outputs": [],
   "source": [
    "                                        #handle categroical data"
   ]
  },
  {
   "cell_type": "code",
   "execution_count": null,
   "id": "a313c523",
   "metadata": {},
   "outputs": [],
   "source": [
    "#since there are many categorical features try to reduce the number of categorical features"
   ]
  },
  {
   "cell_type": "code",
   "execution_count": null,
   "id": "1ac9cd02",
   "metadata": {},
   "outputs": [],
   "source": [
    "#education can be replaced made into 3 categories as school, high school, higher, undergrad, grad, doc"
   ]
  },
  {
   "cell_type": "code",
   "execution_count": null,
   "id": "d1255861",
   "metadata": {},
   "outputs": [],
   "source": [
    "main_df.education= main_df.education.replace(['Preschool', '1st-4th', '5th-6th', '7th-8th', '9th','10th', '11th', '12th'], 'school')\n",
    "main_df.education = main_df.education.replace('HS-grad', 'high school')\n",
    "main_df.education = main_df.education.replace(['Assoc-voc', 'Assoc-acdm', 'Prof-school', 'Some-college'], 'higher')\n",
    "main_df.education = main_df.education.replace('Bachelors', 'undergrad')\n",
    "main_df.education = main_df.education.replace('Masters', 'grad')\n",
    "main_df.education = main_df.education.replace('Doctorate', 'doc')"
   ]
  },
  {
   "cell_type": "code",
   "execution_count": null,
   "id": "9a520bdd",
   "metadata": {},
   "outputs": [],
   "source": [
    "#martial status\n",
    "main_df['marital-status']= main_df['marital-status'].replace(['Married-civ-spouse', 'Married-AF-spouse'], 'married')\n",
    "main_df['marital-status']= main_df['marital-status'].replace(['Never-married'], 'not-married')\n",
    "main_df['marital-status']= main_df['marital-status'].replace(['Divorced', 'Separated','Widowed',\n",
    "                                                   'Married-spouse-absent'], 'other')"
   ]
  },
  {
   "cell_type": "code",
   "execution_count": null,
   "id": "13b55e26",
   "metadata": {},
   "outputs": [],
   "source": [
    "# income  ##here categorical feature is converted to numerical data\n",
    "main_df.income = main_df.income.replace('<=50K', 0)\n",
    "main_df.income = main_df.income.replace('>50K', 1)"
   ]
  },
  {
   "cell_type": "code",
   "execution_count": null,
   "id": "f6484cb9",
   "metadata": {},
   "outputs": [],
   "source": [
    "main_df['income'].unique "
   ]
  },
  {
   "cell_type": "code",
   "execution_count": null,
   "id": "aee6bcbb",
   "metadata": {},
   "outputs": [],
   "source": [
    "                                                #check corr"
   ]
  },
  {
   "cell_type": "code",
   "execution_count": null,
   "id": "f5d509ba",
   "metadata": {},
   "outputs": [],
   "source": [
    "main_df.corr()"
   ]
  },
  {
   "cell_type": "code",
   "execution_count": null,
   "id": "2d830d98",
   "metadata": {
    "scrolled": true
   },
   "outputs": [],
   "source": [
    "main_df.hist(figsize = (12, 12), layout = (3, 3), sharex = False)"
   ]
  },
  {
   "cell_type": "code",
   "execution_count": null,
   "id": "0e13c1ce",
   "metadata": {},
   "outputs": [],
   "source": [
    "                                                #check outliers"
   ]
  },
  {
   "cell_type": "code",
   "execution_count": null,
   "id": "15d4089c",
   "metadata": {},
   "outputs": [],
   "source": [
    "main_df.plot(kind='box', figsize=(12,12), layout=(3,3), sharex=False, subplots=True);"
   ]
  },
  {
   "cell_type": "code",
   "execution_count": null,
   "id": "e5177efc",
   "metadata": {},
   "outputs": [],
   "source": [
    "#we can seperate input and output variables\n",
    "X = main_df.drop(['income'], axis = 1)\n",
    "y = main_df['income']"
   ]
  },
  {
   "cell_type": "code",
   "execution_count": null,
   "id": "96992cc2",
   "metadata": {},
   "outputs": [],
   "source": [
    "X"
   ]
  },
  {
   "cell_type": "code",
   "execution_count": null,
   "id": "b20cbaee",
   "metadata": {},
   "outputs": [],
   "source": [
    "y"
   ]
  },
  {
   "cell_type": "code",
   "execution_count": null,
   "id": "857b1932",
   "metadata": {},
   "outputs": [],
   "source": [
    "                                        #univariate"
   ]
  },
  {
   "cell_type": "code",
   "execution_count": null,
   "id": "c9c6f65b",
   "metadata": {},
   "outputs": [],
   "source": [
    "uni_df = main_df\n",
    "print(uni_df)"
   ]
  },
  {
   "cell_type": "code",
   "execution_count": null,
   "id": "0d1937a6",
   "metadata": {},
   "outputs": [],
   "source": [
    "main_df.corr()  ##we will take education-num as our only feature to predict income"
   ]
  },
  {
   "cell_type": "code",
   "execution_count": null,
   "id": "e35756f4",
   "metadata": {},
   "outputs": [],
   "source": [
    "X_u = uni_df['age'].values\n",
    "y_u = uni_df['income'].values"
   ]
  },
  {
   "cell_type": "code",
   "execution_count": null,
   "id": "12420124",
   "metadata": {},
   "outputs": [],
   "source": [
    "print(X_u.shape)\n",
    "print(y_u.shape)"
   ]
  },
  {
   "cell_type": "code",
   "execution_count": null,
   "id": "7f631fab",
   "metadata": {},
   "outputs": [],
   "source": [
    "plt.scatter(y_u,X_u, color='red',marker= '+')\n",
    "plt.grid()\n",
    "plt.rcParams[\"figure.figsize\"] = (10,6)\n",
    "plt.xlabel('edu')\n",
    "plt.ylabel('income')\n",
    "plt.title('Scatter plot of data')"
   ]
  },
  {
   "cell_type": "code",
   "execution_count": null,
   "id": "d6c759fe",
   "metadata": {},
   "outputs": [],
   "source": [
    "uni_df = uni_df.sample(frac=1)\n",
    "\n",
    "# Define a size for your train set \n",
    "train_size = int(0.7 * len(uni_df))\n",
    "# Split your dataset \n",
    "X_train_u = X_u[:train_size]\n",
    "X_test_u = X_u[train_size:]\n",
    "\n",
    "y_train_u = y[:train_size]\n",
    "y_test_u = y[train_size:]\n",
    "\n",
    "#Lets create a matrix with single column of ones\n",
    "\n",
    "\n",
    "m = X_train_u.shape[0]\n",
    "n = X_test_u.shape[0]\n",
    "X_u0 = np.ones((m, 1))\n",
    "X_u0[:5]\n",
    "X_train_u = X_train_u.reshape((m, 1))\n",
    "X_test_u = X_test_u.reshape((n, 1))\n",
    "print(X_train_u.shape)\n",
    "print(X_test_u.shape)\n",
    "print(y_train_u.shape)\n",
    "print(y_test_u.shape)"
   ]
  },
  {
   "cell_type": "code",
   "execution_count": null,
   "id": "f1798fd0",
   "metadata": {},
   "outputs": [],
   "source": [
    "X_train_u = np.hstack((X_train_u, X_u0))"
   ]
  },
  {
   "cell_type": "code",
   "execution_count": null,
   "id": "1aafac03",
   "metadata": {},
   "outputs": [],
   "source": [
    "print(X_train_u)"
   ]
  },
  {
   "cell_type": "code",
   "execution_count": null,
   "id": "acdab813",
   "metadata": {},
   "outputs": [],
   "source": [
    "theta_u = np.zeros(2)\n",
    "theta_u.shape\n",
    "\n"
   ]
  },
  {
   "cell_type": "code",
   "execution_count": null,
   "id": "2c3e811f",
   "metadata": {},
   "outputs": [],
   "source": [
    "def compute_cost(X, y, theta):\n",
    "    x_dot_theta = X.dot(theta)\n",
    "    J = 1.0 / len(X) * (-y.T.dot(np.log(sigmoid(x_dot_theta))) - (1 - y).T.dot(np.log(1 - sigmoid(x_dot_theta))))\n",
    "    return J\n",
    "\n",
    "def sigmoid(z):\n",
    "    g = 1 / (1 + np.exp(-z))\n",
    "    return g"
   ]
  },
  {
   "cell_type": "code",
   "execution_count": null,
   "id": "60dd4bb5",
   "metadata": {
    "scrolled": true
   },
   "outputs": [],
   "source": [
    "# plt.plot(np.arange(iterations), cost_history_u)\n",
    "# plt.xlabel(\"Iterations\")\n",
    "# plt.ylabel(\"Cost\")\n",
    "# plt.show()"
   ]
  },
  {
   "cell_type": "code",
   "execution_count": null,
   "id": "f3584bc3",
   "metadata": {},
   "outputs": [],
   "source": [
    "X_u0 = np.ones((n, 1))\n",
    "X_u0.shape"
   ]
  },
  {
   "cell_type": "code",
   "execution_count": null,
   "id": "80c8e237",
   "metadata": {},
   "outputs": [],
   "source": [
    "X_test_u = np.hstack((X_test_u, X_u0))"
   ]
  },
  {
   "cell_type": "code",
   "execution_count": null,
   "id": "c2f3601c",
   "metadata": {
    "scrolled": true
   },
   "outputs": [],
   "source": [
    "print(X_test_u.shape)"
   ]
  },
  {
   "cell_type": "code",
   "execution_count": null,
   "id": "217fd354",
   "metadata": {},
   "outputs": [],
   "source": [
    "print(X_train_u.shape)\n",
    "print(X_test_u.shape)\n",
    "y_train = y_train_u.values.reshape(X_train_u.shape[0], 1)\n",
    "y_test = y_test_u.values.reshape(X_test_u.shape[0], 1)\n",
    "\n",
    "print(y_train_u.shape)\n",
    "print(y_test_u.shape)"
   ]
  },
  {
   "cell_type": "code",
   "execution_count": null,
   "id": "010c7f86",
   "metadata": {},
   "outputs": [],
   "source": [
    "iterations = 1000\n",
    "learning_rate = 0.001\n",
    "\n",
    "theta_u[0] = 0\n",
    "theta_u[1] = 0\n",
    "W = model(X_train_u, y_train_u, theta_u, learning_rate = learning_rate, iterations = iterations)\n",
    "print(W)"
   ]
  },
  {
   "cell_type": "code",
   "execution_count": null,
   "id": "9a3677e0",
   "metadata": {},
   "outputs": [],
   "source": [
    "y_pred_u = X_train_u@W\n",
    "y_pred_u = sigmoid(y_pred_u)\n",
    "print(y_pred_u)\n",
    "y_pred_u_list = y_pred_u.tolist()"
   ]
  },
  {
   "cell_type": "code",
   "execution_count": null,
   "id": "d92fa6b9",
   "metadata": {},
   "outputs": [],
   "source": [
    "y_pred_u_01 = [] \n",
    "for i in range(len(y_pred_u_list)):\n",
    "    if(y_pred_u_list[i] >= 0.65):\n",
    "        y_pred_u_01.append(1)\n",
    "    else:\n",
    "        y_pred_u_01.append(0)\n"
   ]
  },
  {
   "cell_type": "code",
   "execution_count": null,
   "id": "f26eb1eb",
   "metadata": {},
   "outputs": [],
   "source": [
    "# print(y_pred_u_01)"
   ]
  },
  {
   "cell_type": "code",
   "execution_count": null,
   "id": "18b77443",
   "metadata": {},
   "outputs": [],
   "source": [
    "def accuracy(X, Y, W):\n",
    "    Z = np.dot(X, W) \n",
    "    y_pred = sigmoid(Z)\n",
    "    y_pred = y_pred >= 0.65\n",
    "    y_pred = np.array(y_pred, dtype = 'int64')\n",
    "    acc = (1 - np.sum(np.absolute(y_pred - Y))/Y.shape[0])*100\n",
    "    print(\"Accuracy of the model is : \", round(acc, 2), \"%\")"
   ]
  },
  {
   "cell_type": "code",
   "execution_count": null,
   "id": "5e8e7463",
   "metadata": {},
   "outputs": [],
   "source": [
    "acc = accuracy(X_test_u, y_test_u, W)"
   ]
  },
  {
   "cell_type": "code",
   "execution_count": null,
   "id": "e1868a07",
   "metadata": {},
   "outputs": [],
   "source": []
  },
  {
   "cell_type": "code",
   "execution_count": null,
   "id": "ebcaa558",
   "metadata": {},
   "outputs": [],
   "source": []
  },
  {
   "cell_type": "code",
   "execution_count": null,
   "id": "3363f884",
   "metadata": {},
   "outputs": [],
   "source": [
    "                                #multivariate (using a combination of features)"
   ]
  },
  {
   "cell_type": "code",
   "execution_count": null,
   "id": "81c7235d",
   "metadata": {},
   "outputs": [],
   "source": [
    "multi_df = main_df\n",
    "multi_df.head\n",
    "print(multi_df.columns)"
   ]
  },
  {
   "cell_type": "code",
   "execution_count": null,
   "id": "c8352634",
   "metadata": {},
   "outputs": [],
   "source": [
    "print(multi_df.corr())"
   ]
  },
  {
   "cell_type": "code",
   "execution_count": null,
   "id": "5f58938e",
   "metadata": {},
   "outputs": [],
   "source": [
    "#convert categorical data into integers"
   ]
  },
  {
   "cell_type": "code",
   "execution_count": null,
   "id": "969f1218",
   "metadata": {},
   "outputs": [],
   "source": [
    "print(multi_df.columns)"
   ]
  },
  {
   "cell_type": "code",
   "execution_count": null,
   "id": "44566aeb",
   "metadata": {},
   "outputs": [],
   "source": [
    "multi_df.select_dtypes(exclude=[\"number\",\"bool_\"])"
   ]
  },
  {
   "cell_type": "code",
   "execution_count": null,
   "id": "ddcabd62",
   "metadata": {},
   "outputs": [],
   "source": [
    "multi_df[\"native-country\"].value_counts()"
   ]
  },
  {
   "cell_type": "code",
   "execution_count": null,
   "id": "feabe26f",
   "metadata": {},
   "outputs": [],
   "source": [
    "dummies_country = pd.get_dummies(multi_df[\"native-country\"])\n"
   ]
  },
  {
   "cell_type": "code",
   "execution_count": null,
   "id": "e991c656",
   "metadata": {
    "scrolled": true
   },
   "outputs": [],
   "source": [
    "print(dummies_country)"
   ]
  },
  {
   "cell_type": "code",
   "execution_count": null,
   "id": "9f08fe48",
   "metadata": {},
   "outputs": [],
   "source": [
    "new_df = pd.concat([multi_df, dummies_country], axis = 'columns')\n",
    "multi_df = new_df"
   ]
  },
  {
   "cell_type": "code",
   "execution_count": null,
   "id": "680d903a",
   "metadata": {},
   "outputs": [],
   "source": [
    "print(multi_df.shape)"
   ]
  },
  {
   "cell_type": "code",
   "execution_count": null,
   "id": "90e33eda",
   "metadata": {},
   "outputs": [],
   "source": [
    "multi_df.drop(['native-country', 'Yugoslavia'], axis=1, inplace=True)\n",
    "print(multi_df.shape)"
   ]
  },
  {
   "cell_type": "code",
   "execution_count": null,
   "id": "c3bbf139",
   "metadata": {},
   "outputs": [],
   "source": [
    "multi_df.select_dtypes(exclude=[\"number\",\"bool_\"])"
   ]
  },
  {
   "cell_type": "code",
   "execution_count": null,
   "id": "d52934af",
   "metadata": {},
   "outputs": [],
   "source": [
    "multi_df[\"education\"].unique()  "
   ]
  },
  {
   "cell_type": "code",
   "execution_count": null,
   "id": "4e4bf300",
   "metadata": {},
   "outputs": [],
   "source": [
    "multi_df.education = multi_df['education'].replace('school', 1)\n",
    "multi_df['education'] = multi_df['education'].replace('higher', 2)\n",
    "multi_df['education'] = multi_df['education'].replace('high school', 3)\n",
    "multi_df['education'] = multi_df['education'].replace('undergrad', 4)\n",
    "multi_df['education'] = multi_df['education'].replace('grad', 5)\n",
    "multi_df['education'] = multi_df['education'].replace('doc', 6)\n",
    "\n",
    "\n",
    "multi_df[\"education\"].unique()\n",
    "\n",
    "##replaced with ranking because assuming higher rank gives more income\n"
   ]
  },
  {
   "cell_type": "code",
   "execution_count": null,
   "id": "81bc2317",
   "metadata": {},
   "outputs": [],
   "source": [
    "multi_df.select_dtypes(exclude=[\"number\",\"bool_\"])"
   ]
  },
  {
   "cell_type": "code",
   "execution_count": null,
   "id": "e34ba59b",
   "metadata": {},
   "outputs": [],
   "source": [
    "multi_df[\"workclass\"].unique()"
   ]
  },
  {
   "cell_type": "code",
   "execution_count": null,
   "id": "df4fa154",
   "metadata": {},
   "outputs": [],
   "source": [
    "dummies_workclass = pd.get_dummies(multi_df[\"workclass\"])\n",
    "new_df = pd.concat([multi_df, dummies_workclass], axis = 'columns')\n",
    "multi_df = new_df"
   ]
  },
  {
   "cell_type": "code",
   "execution_count": null,
   "id": "760c59b0",
   "metadata": {},
   "outputs": [],
   "source": [
    "multi_df.drop(['workclass', 'Private'], axis=1, inplace=True)  #dropping dummy variables\n",
    "print(multi_df.shape)"
   ]
  },
  {
   "cell_type": "code",
   "execution_count": null,
   "id": "1499f903",
   "metadata": {},
   "outputs": [],
   "source": [
    "multi_df.select_dtypes(exclude=[\"number\",\"bool_\"])"
   ]
  },
  {
   "cell_type": "code",
   "execution_count": null,
   "id": "20d2ce75",
   "metadata": {},
   "outputs": [],
   "source": [
    "dummies_occupation = pd.get_dummies(multi_df[\"occupation\"])\n",
    "new_df = pd.concat([multi_df, dummies_occupation], axis = 'columns')\n",
    "multi_df = new_df"
   ]
  },
  {
   "cell_type": "code",
   "execution_count": null,
   "id": "bf06280c",
   "metadata": {},
   "outputs": [],
   "source": [
    "multi_df.drop(['occupation', 'State-gov'], axis=1, inplace=True)"
   ]
  },
  {
   "cell_type": "code",
   "execution_count": null,
   "id": "cfbb9a0c",
   "metadata": {},
   "outputs": [],
   "source": [
    "multi_df.select_dtypes(exclude=[\"number\",\"bool_\"])"
   ]
  },
  {
   "cell_type": "code",
   "execution_count": null,
   "id": "12d3aa8d",
   "metadata": {},
   "outputs": [],
   "source": [
    "print(multi_df[\"sex\"].unique())\n",
    "multi_df['sex'] = multi_df['sex'].replace('Male', 1)\n",
    "multi_df['sex'] = multi_df['sex'].replace('Female', 2)"
   ]
  },
  {
   "cell_type": "code",
   "execution_count": null,
   "id": "a4e7c00f",
   "metadata": {},
   "outputs": [],
   "source": [
    "multi_df[\"race\"].unique()"
   ]
  },
  {
   "cell_type": "code",
   "execution_count": null,
   "id": "137ed55d",
   "metadata": {},
   "outputs": [],
   "source": [
    "dummies_race = pd.get_dummies(multi_df[\"race\"])\n",
    "new_df = pd.concat([multi_df, dummies_race], axis = 'columns')\n",
    "multi_df = new_df"
   ]
  },
  {
   "cell_type": "code",
   "execution_count": null,
   "id": "7271eb7e",
   "metadata": {},
   "outputs": [],
   "source": [
    "multi_df.drop(['race', 'White'], axis=1, inplace=True)"
   ]
  },
  {
   "cell_type": "code",
   "execution_count": null,
   "id": "a8bb7e20",
   "metadata": {},
   "outputs": [],
   "source": [
    "multi_df.select_dtypes(exclude=[\"number\",\"bool_\"])"
   ]
  },
  {
   "cell_type": "code",
   "execution_count": null,
   "id": "5d9cea3e",
   "metadata": {},
   "outputs": [],
   "source": [
    "multi_df[\"marital-status\"].unique()"
   ]
  },
  {
   "cell_type": "code",
   "execution_count": null,
   "id": "190ab2e2",
   "metadata": {},
   "outputs": [],
   "source": [
    "dummies_martial = pd.get_dummies(multi_df[\"marital-status\"])\n",
    "new_df = pd.concat([multi_df, dummies_martial], axis = 'columns')\n",
    "multi_df = new_df"
   ]
  },
  {
   "cell_type": "code",
   "execution_count": null,
   "id": "9321ef85",
   "metadata": {},
   "outputs": [],
   "source": [
    "multi_df.columns"
   ]
  },
  {
   "cell_type": "code",
   "execution_count": null,
   "id": "bcefa30c",
   "metadata": {},
   "outputs": [],
   "source": [
    "multi_df.drop(['marital-status', 'married'], axis=1, inplace=True)"
   ]
  },
  {
   "cell_type": "code",
   "execution_count": null,
   "id": "7aba67e2",
   "metadata": {},
   "outputs": [],
   "source": [
    "multi_df.drop(['relationship'], axis=1, inplace=True)"
   ]
  },
  {
   "cell_type": "code",
   "execution_count": null,
   "id": "77fa0b72",
   "metadata": {},
   "outputs": [],
   "source": [
    "print(multi_df.shape)"
   ]
  },
  {
   "cell_type": "code",
   "execution_count": null,
   "id": "b45850bb",
   "metadata": {},
   "outputs": [],
   "source": [
    "print(multi_df.corr())"
   ]
  },
  {
   "cell_type": "code",
   "execution_count": null,
   "id": "d13ced6b",
   "metadata": {},
   "outputs": [],
   "source": [
    "#### Removing Categorical data part is done"
   ]
  },
  {
   "cell_type": "code",
   "execution_count": null,
   "id": "a81149fe",
   "metadata": {},
   "outputs": [],
   "source": [
    "multi_df.corr()"
   ]
  },
  {
   "cell_type": "code",
   "execution_count": null,
   "id": "ba02a4e9",
   "metadata": {},
   "outputs": [],
   "source": [
    "X_m = multi_df.drop('income', 1)\n",
    "y_m = multi_df[\"income\"]"
   ]
  },
  {
   "cell_type": "code",
   "execution_count": null,
   "id": "5d6c5352",
   "metadata": {},
   "outputs": [],
   "source": [
    "print(X_m.shape)\n",
    "print(y_m.shape)"
   ]
  },
  {
   "cell_type": "code",
   "execution_count": null,
   "id": "ea452234",
   "metadata": {},
   "outputs": [],
   "source": [
    "multi_df = multi_df.sample(frac=1)\n",
    "\n",
    "# Define a size for your train set \n",
    "train_size = int(0.7 * len(uni_df))\n",
    "# Split your dataset \n",
    "X_train_m = X_m[:train_size]\n",
    "X_test_m = X_m[train_size:]\n",
    "\n",
    "y_train_m = y_m[:train_size]\n",
    "y_test_m = y_m[train_size:]\n",
    "\n",
    "#Lets create a matrix with single column of ones\n",
    "\n",
    "m = X_train_m.shape[0]\n",
    "n = X_test_m.shape[0]\n",
    "col = X_train_m.shape[1]\n",
    "X_m0 = np.ones((m, 1))\n",
    "X_m0[:5]\n",
    "X_train_m = X_train_m.values.reshape((m, col))\n",
    "X_test_m = X_test_m.values.reshape((n, col))\n",
    "print(X_train_m.shape)\n",
    "print(X_test_m.shape)\n",
    "print(y_train_m.shape)\n",
    "print(y_test_m.shape)"
   ]
  },
  {
   "cell_type": "code",
   "execution_count": null,
   "id": "7478ba5b",
   "metadata": {},
   "outputs": [],
   "source": [
    "X_train_m = np.hstack((X_train_m, X_m0)) "
   ]
  },
  {
   "cell_type": "code",
   "execution_count": null,
   "id": "d544b19a",
   "metadata": {},
   "outputs": [],
   "source": [
    "X_train_m.shape"
   ]
  },
  {
   "cell_type": "code",
   "execution_count": null,
   "id": "da5252fa",
   "metadata": {},
   "outputs": [],
   "source": [
    "theta_m = np.zeros(X_train_m.shape[1])\n",
    "print(theta_m)\n",
    "theta_m.shape"
   ]
  },
  {
   "cell_type": "code",
   "execution_count": null,
   "id": "253bd58f",
   "metadata": {},
   "outputs": [],
   "source": []
  },
  {
   "cell_type": "code",
   "execution_count": null,
   "id": "9454d216",
   "metadata": {
    "scrolled": false
   },
   "outputs": [],
   "source": [
    "iterations = 1000\n",
    "print(X_train_m.shape)\n",
    "theta_m = [0]*(X_train_m.shape[1])\n",
    "theta_m = model(X_train_m, y_train_m, theta_m, 0.0001, iterations)\n",
    "print ('Gradient at initial theta (zeros):', theta_m)"
   ]
  },
  {
   "cell_type": "code",
   "execution_count": null,
   "id": "73d6e15a",
   "metadata": {},
   "outputs": [],
   "source": [
    "y_pred_m = X_train_m.dot(theta_m)\n",
    "y_pred_m = sigmoid(y_pred_m)\n",
    "y_pred_m_list = y_pred_m.tolist()\n"
   ]
  },
  {
   "cell_type": "code",
   "execution_count": null,
   "id": "9553946e",
   "metadata": {},
   "outputs": [],
   "source": [
    "y_pred_m_01 = [] \n",
    "for i in range(len(y_pred_m_list)):\n",
    "    if(y_pred_m_list[i] >= 0.65):\n",
    "        y_pred_m_01.append(1)\n",
    "    else:\n",
    "        y_pred_m_01.append(0)"
   ]
  },
  {
   "cell_type": "code",
   "execution_count": null,
   "id": "ff51196c",
   "metadata": {},
   "outputs": [],
   "source": [
    "print(y_pred_m_01)"
   ]
  },
  {
   "cell_type": "code",
   "execution_count": null,
   "id": "b30521a8",
   "metadata": {},
   "outputs": [],
   "source": [
    "def accuracy(X, Y, W):\n",
    "    Z = np.dot(X, W) \n",
    "    y_pred = sigmoid(Z)\n",
    "    y_pred = y_pred >= 0.65\n",
    "    y_pred = np.array(y_pred, dtype = 'int64')\n",
    "    acc = (1 - np.sum(np.absolute(y_pred - Y))/Y.shape[0])*100\n",
    "    print(\"Accuracy of the model is : \", round(acc, 2), \"%\")"
   ]
  },
  {
   "cell_type": "code",
   "execution_count": null,
   "id": "452f2220",
   "metadata": {},
   "outputs": [],
   "source": [
    "X_m0 = np.ones((X_test_m.shape[0], 1))\n"
   ]
  },
  {
   "cell_type": "code",
   "execution_count": null,
   "id": "2362c66d",
   "metadata": {},
   "outputs": [],
   "source": [
    "X_test_m = np.hstack((X_test_m, X_m0)) "
   ]
  },
  {
   "cell_type": "code",
   "execution_count": null,
   "id": "6009c53d",
   "metadata": {},
   "outputs": [],
   "source": [
    "acc = accuracy(X_test_m, y_test_m, theta_m)"
   ]
  },
  {
   "cell_type": "code",
   "execution_count": 403,
   "id": "435b885d",
   "metadata": {},
   "outputs": [],
   "source": [
    "                                    #Newtons Univariate"
   ]
  },
  {
   "cell_type": "code",
   "execution_count": 404,
   "id": "f47b87ff",
   "metadata": {},
   "outputs": [
    {
     "data": {
      "text/plain": [
       "Index(['age', 'education', 'education-num', 'sex', 'capital-gain',\n",
       "       'capital-loss', 'hours-per-week', 'income', 'Cambodia', 'Canada',\n",
       "       'China', 'Columbia', 'Cuba', 'Dominican-Republic', 'Ecuador',\n",
       "       'El-Salvador', 'England', 'France', 'Germany', 'Greece', 'Guatemala',\n",
       "       'Haiti', 'Honduras', 'Hong', 'Hungary', 'India', 'Iran', 'Ireland',\n",
       "       'Italy', 'Jamaica', 'Japan', 'Laos', 'Mexico', 'Nicaragua', 'Peru',\n",
       "       'Philippines', 'Poland', 'Portugal', 'Puerto-Rico', 'Scotland', 'South',\n",
       "       'Taiwan', 'Thailand', 'Trinadad&Tobago', 'United-States', 'Vietnam',\n",
       "       'Federal-gov', 'Local-gov', 'Never-worked', 'Self-emp-inc',\n",
       "       'Self-emp-not-inc', 'Without-pay', 'Adm-clerical', 'Armed-Forces',\n",
       "       'Craft-repair', 'Exec-managerial', 'Farming-fishing',\n",
       "       'Handlers-cleaners', 'Machine-op-inspct', 'Other-service',\n",
       "       'Priv-house-serv', 'Prof-specialty', 'Protective-serv', 'Sales',\n",
       "       'Tech-support', 'Transport-moving', 'Amer-Indian-Eskimo',\n",
       "       'Asian-Pac-Islander', 'Black', 'Other', 'not-married', 'other'],\n",
       "      dtype='object')"
      ]
     },
     "execution_count": 404,
     "metadata": {},
     "output_type": "execute_result"
    }
   ],
   "source": [
    "multi_df.columns"
   ]
  },
  {
   "cell_type": "code",
   "execution_count": 405,
   "id": "7409439e",
   "metadata": {},
   "outputs": [],
   "source": [
    "def sigmoid_n(z):                                                                                                      \n",
    "    z = 1.0 / (1.0 + np.exp(-z)) \n",
    "    return z"
   ]
  },
  {
   "cell_type": "code",
   "execution_count": 406,
   "id": "3b40205f",
   "metadata": {},
   "outputs": [],
   "source": [
    "def log_likelihood(x, y, Θ_1, Θ_2):                                                                \n",
    "    sigmoid_probs = sigmoid_n(x, Θ_1, Θ_2)                                        \n",
    "    return np.sum(y * np.log(sigmoid_probs)\n",
    "                  + (1 - y) * np.log(1 - sigmoid_probs)) "
   ]
  },
  {
   "cell_type": "code",
   "execution_count": 407,
   "id": "8296683e",
   "metadata": {},
   "outputs": [],
   "source": [
    "def gradient(X, y, theta):                                                         \n",
    "    sigmoid_probs = sigmoid_n(X.dot(theta))                                        \n",
    "    return (sigmoid_probs - y)"
   ]
  },
  {
   "cell_type": "code",
   "execution_count": null,
   "id": "f2c4d018",
   "metadata": {},
   "outputs": [],
   "source": []
  },
  {
   "cell_type": "code",
   "execution_count": 408,
   "id": "b8b039dc",
   "metadata": {},
   "outputs": [],
   "source": [
    "def newtons_method(X, y, theta, reg = None): \n",
    "    y_pred = sigmoid_n(X.dot(theta))\n",
    "    W = np.diag(y_pred *(1 - y_pred))\n",
    "    hessian = (X.T).dot(W).dot(X)    \n",
    "    grad = gradient(X, y, theta)\n",
    "    grad = grad.dot(X)\n",
    "    \n",
    "    if reg:\n",
    "        step = np.dot(np.linalg.inv(hessian + reg*np.eye(theta.shape[0])), grad)\n",
    "    else:\n",
    "        step = np.dot(np.linalg.inv(hessian), grad)\n",
    "        \n",
    "    theta = theta + step\n",
    "    \n",
    "    return theta\n"
   ]
  },
  {
   "cell_type": "code",
   "execution_count": 409,
   "id": "ebe9f8d1",
   "metadata": {},
   "outputs": [],
   "source": [
    "X_newton = multi_df[\"education\"].values\n",
    "X_newton = X_newton.reshape(X_newton.shape[0], 1)\n",
    "y_newton = multi_df[\"income\"].values\n",
    "X_newton0 = np.ones((X_newton.shape[0], 1))\n"
   ]
  },
  {
   "cell_type": "code",
   "execution_count": 410,
   "id": "c223eee7",
   "metadata": {},
   "outputs": [
    {
     "name": "stdout",
     "output_type": "stream",
     "text": [
      "(17841, 1)\n"
     ]
    }
   ],
   "source": [
    "print(X_newton0.shape)\n",
    "X_newton = np.hstack((X_newton, X_newton0)) "
   ]
  },
  {
   "cell_type": "code",
   "execution_count": 411,
   "id": "f2a02180",
   "metadata": {},
   "outputs": [
    {
     "name": "stdout",
     "output_type": "stream",
     "text": [
      "(17841, 2)\n",
      "[0.5, 0.5]\n"
     ]
    }
   ],
   "source": [
    "print(X_newton.shape)\n",
    "theta_newton = [0.5] * 2\n",
    "print(theta_newton)"
   ]
  },
  {
   "cell_type": "code",
   "execution_count": 412,
   "id": "d1923721",
   "metadata": {},
   "outputs": [
    {
     "name": "stdout",
     "output_type": "stream",
     "text": [
      "[1.19699353 2.44630262]\n"
     ]
    }
   ],
   "source": [
    "theta_newton = newtons_method(X_newton, y_newton, theta_newton, None)\n",
    "print(theta_newton)"
   ]
  },
  {
   "cell_type": "code",
   "execution_count": 413,
   "id": "d7b4cab6",
   "metadata": {},
   "outputs": [
    {
     "name": "stdout",
     "output_type": "stream",
     "text": [
      "Iteration: 0\n",
      "[0.5, 0.5]\n",
      "Iteration: 1\n",
      "[ 124.88948969 -116.96998954]\n"
     ]
    }
   ],
   "source": [
    "## Hyperparameters\n",
    "max_iters = 20\n",
    "tol=0.1 # convergence tolerance\n",
    "reg_term = 1\n",
    "\n",
    "theta_old = [0.5] * 2\n",
    "theta_new = [0.5] * 2\n",
    "iter_count = 0\n",
    "coefs_converged = False\n",
    "\n",
    "while not coefs_converged:\n",
    "    print('Iteration: {}'.format(iter_count))\n",
    "    #print('Validation Accuracy: {}%'.format(test_model(X_newton, y_newton, theta_old)))\n",
    "    theta_old = theta_new\n",
    "    theta_new = newtons_method(X_newton, y_newton, theta_newton, reg_term)\n",
    "    iter_count += 1\n",
    "    coefs_converged = check_convergence(theta_old, theta_new, tol, iter_count)\n",
    "    print(theta_old)"
   ]
  },
  {
   "cell_type": "code",
   "execution_count": 414,
   "id": "f3c00c8a",
   "metadata": {},
   "outputs": [],
   "source": [
    "def test_model(X, y, beta):\n",
    "    prob = np.array(sigmoid(X.dot(beta)))\n",
    "    prob = np.greater(prob, 0.5*np.ones((prob.shape[1],1)))\n",
    "    accuracy = np.count_nonzero(np.equal(prob, y))/prob.shape[0] * 100\n",
    "    return accuracy"
   ]
  },
  {
   "cell_type": "code",
   "execution_count": 415,
   "id": "fc929c83",
   "metadata": {},
   "outputs": [],
   "source": [
    "def check_convergence(beta_old, beta_new, tol, iters):\n",
    "    coef_change = np.abs(beta_old - beta_new)\n",
    "    return not (np.any(coef_change>tol) and iters < max_iters)"
   ]
  },
  {
   "cell_type": "code",
   "execution_count": null,
   "id": "e8c989e6",
   "metadata": {},
   "outputs": [],
   "source": []
  }
 ],
 "metadata": {
  "kernelspec": {
   "display_name": "Python 3",
   "language": "python",
   "name": "python3"
  },
  "language_info": {
   "codemirror_mode": {
    "name": "ipython",
    "version": 3
   },
   "file_extension": ".py",
   "mimetype": "text/x-python",
   "name": "python",
   "nbconvert_exporter": "python",
   "pygments_lexer": "ipython3",
   "version": "3.8.8"
  }
 },
 "nbformat": 4,
 "nbformat_minor": 5
}
