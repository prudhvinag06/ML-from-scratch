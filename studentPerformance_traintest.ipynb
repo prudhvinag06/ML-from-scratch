{
 "cells": [
  {
   "cell_type": "code",
   "execution_count": 1,
   "id": "9ce2e404",
   "metadata": {},
   "outputs": [],
   "source": [
    "# DATA PREPROCESSING STAGE "
   ]
  },
  {
   "cell_type": "code",
   "execution_count": 591,
   "id": "7cb23eae",
   "metadata": {},
   "outputs": [],
   "source": [
    "import numpy as np\n",
    "import pandas as pd\n",
    "import matplotlib.pyplot as plt\n",
    "main_df = pd.read_csv(\"student.csv\")"
   ]
  },
  {
   "cell_type": "code",
   "execution_count": 592,
   "id": "b7e52bec",
   "metadata": {},
   "outputs": [
    {
     "data": {
      "text/plain": [
       "(395, 18)"
      ]
     },
     "execution_count": 592,
     "metadata": {},
     "output_type": "execute_result"
    }
   ],
   "source": [
    "main_df.shape\n"
   ]
  },
  {
   "cell_type": "code",
   "execution_count": 593,
   "id": "7d53fc3a",
   "metadata": {
    "scrolled": true
   },
   "outputs": [
    {
     "data": {
      "text/plain": [
       "school         0\n",
       "sex            0\n",
       "age           15\n",
       "address        0\n",
       "Medu           0\n",
       "Fedu           0\n",
       "studytime      0\n",
       "failures       0\n",
       "activities     0\n",
       "nursery        0\n",
       "higher         0\n",
       "freetime       0\n",
       "goout          0\n",
       "health         0\n",
       "absences       0\n",
       "G1             0\n",
       "G2             0\n",
       "G3             0\n",
       "dtype: int64"
      ]
     },
     "execution_count": 593,
     "metadata": {},
     "output_type": "execute_result"
    }
   ],
   "source": [
    "main_df.isna().sum()"
   ]
  },
  {
   "cell_type": "code",
   "execution_count": 594,
   "id": "f4fa95c2",
   "metadata": {},
   "outputs": [
    {
     "data": {
      "text/plain": [
       "16.0    97\n",
       "17.0    97\n",
       "15.0    79\n",
       "18.0    79\n",
       "19.0    23\n",
       "20.0     3\n",
       "21.0     1\n",
       "22.0     1\n",
       "Name: age, dtype: int64"
      ]
     },
     "execution_count": 594,
     "metadata": {},
     "output_type": "execute_result"
    }
   ],
   "source": [
    "main_df[\"age\"].value_counts() ##here according to data there are two students with outlier values. (21, 22). \n",
    "## So that can deviate the mean by some amount. So we can consider median over mean for this feature to fill the na \n",
    "## values"
   ]
  },
  {
   "cell_type": "code",
   "execution_count": 595,
   "id": "08aa52bc",
   "metadata": {},
   "outputs": [
    {
     "name": "stdout",
     "output_type": "stream",
     "text": [
      "mean :  16.705263157894738\n",
      "median :  17.0\n"
     ]
    }
   ],
   "source": [
    "age_mean = main_df['age'].mean()\n",
    "age_median = main_df['age'].median()\n",
    "\n",
    "print(\"mean : \", age_mean)\n",
    "print(\"median : \", age_median)\n",
    "\n",
    "## mean value is less here than median. So there is very little deviation of mean due to outliers. So we use mean to fill the data."
   ]
  },
  {
   "cell_type": "code",
   "execution_count": 596,
   "id": "3b64b1ee",
   "metadata": {},
   "outputs": [],
   "source": [
    "main_df[\"age\"].fillna(age_mean, inplace = True) ##now we have removed all the na values."
   ]
  },
  {
   "cell_type": "code",
   "execution_count": 597,
   "id": "bfab565c",
   "metadata": {},
   "outputs": [
    {
     "data": {
      "text/plain": [
       "school        0\n",
       "sex           0\n",
       "age           0\n",
       "address       0\n",
       "Medu          0\n",
       "Fedu          0\n",
       "studytime     0\n",
       "failures      0\n",
       "activities    0\n",
       "nursery       0\n",
       "higher        0\n",
       "freetime      0\n",
       "goout         0\n",
       "health        0\n",
       "absences      0\n",
       "G1            0\n",
       "G2            0\n",
       "G3            0\n",
       "dtype: int64"
      ]
     },
     "execution_count": 597,
     "metadata": {},
     "output_type": "execute_result"
    }
   ],
   "source": [
    "main_df.isna().sum()"
   ]
  },
  {
   "cell_type": "code",
   "execution_count": 598,
   "id": "70dff988",
   "metadata": {},
   "outputs": [
    {
     "name": "stdout",
     "output_type": "stream",
     "text": [
      "Categorial Data :  Index(['school', 'sex', 'address', 'activities', 'nursery', 'higher'], dtype='object')\n"
     ]
    }
   ],
   "source": [
    "cat_columns = main_df.select_dtypes(exclude=[\"number\",\"bool_\"])\n",
    "print(\"Categorial Data : \", cat_columns.columns)\n"
   ]
  },
  {
   "cell_type": "code",
   "execution_count": 599,
   "id": "3000bc43",
   "metadata": {},
   "outputs": [
    {
     "name": "stdout",
     "output_type": "stream",
     "text": [
      "['GP' 'MS']\n",
      "['F' 'M']\n",
      "['U' 'R']\n",
      "['no' 'yes']\n",
      "['yes' 'no']\n",
      "['yes' 'no']\n"
     ]
    }
   ],
   "source": [
    "print(main_df[\"school\"].unique())\n",
    "print(main_df[\"sex\"].unique())\n",
    "print(main_df[\"address\"].unique())\n",
    "print(main_df[\"activities\"].unique())\n",
    "print(main_df[\"nursery\"].unique())\n",
    "print(main_df[\"higher\"].unique())"
   ]
  },
  {
   "cell_type": "code",
   "execution_count": 600,
   "id": "c3c91d7d",
   "metadata": {},
   "outputs": [
    {
     "name": "stdout",
     "output_type": "stream",
     "text": [
      "GP    349\n",
      "MS     46\n",
      "Name: school, dtype: int64\n",
      "F    208\n",
      "M    187\n",
      "Name: sex, dtype: int64\n",
      "U    307\n",
      "R     88\n",
      "Name: address, dtype: int64\n",
      "yes    201\n",
      "no     194\n",
      "Name: activities, dtype: int64\n",
      "yes    314\n",
      "no      81\n",
      "Name: nursery, dtype: int64\n",
      "yes    375\n",
      "no      20\n",
      "Name: higher, dtype: int64\n"
     ]
    }
   ],
   "source": [
    "print(main_df[\"school\"].value_counts())\n",
    "print(main_df[\"sex\"].value_counts())\n",
    "print(main_df[\"address\"].value_counts())\n",
    "print(main_df[\"activities\"].value_counts())\n",
    "print(main_df[\"nursery\"].value_counts())\n",
    "print(main_df[\"higher\"].value_counts())"
   ]
  },
  {
   "cell_type": "code",
   "execution_count": 601,
   "id": "5cf4a0ac",
   "metadata": {},
   "outputs": [],
   "source": [
    "school_encode = pd.get_dummies(main_df.school)\n",
    "sex_encode = pd.get_dummies(main_df.sex)\n",
    "address_encode = pd.get_dummies(main_df.address)\n",
    "activities_encode = pd.get_dummies(main_df.activities)\n",
    "nursery_encode = pd.get_dummies(main_df.nursery)\n",
    "higher_encode = pd.get_dummies(main_df.higher)"
   ]
  },
  {
   "cell_type": "code",
   "execution_count": 602,
   "id": "10411a06",
   "metadata": {},
   "outputs": [],
   "source": [
    "merged_df = pd.concat([main_df, school_encode, sex_encode, address_encode, activities_encode, nursery_encode, higher_encode], axis = 'columns')"
   ]
  },
  {
   "cell_type": "code",
   "execution_count": 603,
   "id": "d25d79f1",
   "metadata": {},
   "outputs": [
    {
     "name": "stdout",
     "output_type": "stream",
     "text": [
      "   school sex        age address  Medu  Fedu  studytime  failures activities  \\\n",
      "0      GP   F  18.000000       U     4     4          2         0         no   \n",
      "1      GP   F  17.000000       U     1     1          2         0         no   \n",
      "2      GP   F  15.000000       U     1     1          2         3         no   \n",
      "3      GP   F  15.000000       U     4     2          3         0        yes   \n",
      "4      GP   F  16.000000       U     3     3          2         0         no   \n",
      "..    ...  ..        ...     ...   ...   ...        ...       ...        ...   \n",
      "95     GP   F  15.000000       R     1     1          4         1        yes   \n",
      "96     GP   M  16.000000       R     4     3          1         0        yes   \n",
      "97     GP   F  16.000000       U     2     1          2         0         no   \n",
      "98     GP   F  16.705263       U     4     4          1         0        yes   \n",
      "99     GP   F  16.000000       U     4     3          3         0         no   \n",
      "\n",
      "   nursery  ...  F  M  R  U  no  yes  no  yes  no  yes  \n",
      "0      yes  ...  1  0  0  1   1    0   0    1   0    1  \n",
      "1       no  ...  1  0  0  1   1    0   1    0   0    1  \n",
      "2      yes  ...  1  0  0  1   1    0   0    1   0    1  \n",
      "3      yes  ...  1  0  0  1   0    1   0    1   0    1  \n",
      "4      yes  ...  1  0  0  1   1    0   0    1   0    1  \n",
      "..     ...  ... .. .. .. ..  ..  ...  ..  ...  ..  ...  \n",
      "95     yes  ...  1  0  1  0   0    1   0    1   0    1  \n",
      "96      no  ...  0  1  1  0   0    1   1    0   0    1  \n",
      "97     yes  ...  1  0  0  1   1    0   0    1   0    1  \n",
      "98      no  ...  1  0  0  1   0    1   1    0   0    1  \n",
      "99     yes  ...  1  0  0  1   1    0   0    1   0    1  \n",
      "\n",
      "[100 rows x 30 columns]\n"
     ]
    }
   ],
   "source": [
    "print(merged_df.head(100))"
   ]
  },
  {
   "cell_type": "code",
   "execution_count": 604,
   "id": "6d365a11",
   "metadata": {},
   "outputs": [
    {
     "data": {
      "text/plain": [
       "Index(['school', 'sex', 'age', 'address', 'Medu', 'Fedu', 'studytime',\n",
       "       'failures', 'activities', 'nursery', 'higher', 'freetime', 'goout',\n",
       "       'health', 'absences', 'G1', 'G2', 'G3', 'GP', 'MS', 'F', 'M', 'R', 'U',\n",
       "       'no', 'yes', 'no', 'yes', 'no', 'yes'],\n",
       "      dtype='object')"
      ]
     },
     "execution_count": 604,
     "metadata": {},
     "output_type": "execute_result"
    }
   ],
   "source": [
    "merged_df.columns"
   ]
  },
  {
   "cell_type": "code",
   "execution_count": 605,
   "id": "c01657b9",
   "metadata": {},
   "outputs": [],
   "source": [
    "merged_df.drop(['school', 'sex', 'address', 'nursery', 'higher', 'activities', 'F', 'R', 'no', 'no', 'no', 'GP'], axis = 'columns', inplace = True)"
   ]
  },
  {
   "cell_type": "code",
   "execution_count": 606,
   "id": "1ca9858d",
   "metadata": {},
   "outputs": [
    {
     "name": "stdout",
     "output_type": "stream",
     "text": [
      "Categorial Data :  Index([], dtype='object')\n"
     ]
    }
   ],
   "source": [
    "cat_columns = merged_df.select_dtypes(exclude=[\"number\",\"bool_\"])\n",
    "print(\"Categorial Data : \", cat_columns.columns)"
   ]
  },
  {
   "cell_type": "code",
   "execution_count": 607,
   "id": "b23105bc",
   "metadata": {},
   "outputs": [
    {
     "data": {
      "text/plain": [
       "Int64Index([], dtype='int64')"
      ]
     },
     "execution_count": 607,
     "metadata": {},
     "output_type": "execute_result"
    }
   ],
   "source": [
    "merged_df.index[merged_df.duplicated()]    #no duplicate rows"
   ]
  },
  {
   "cell_type": "code",
   "execution_count": 608,
   "id": "99c18f46",
   "metadata": {},
   "outputs": [
    {
     "data": {
      "text/plain": [
       "age          395\n",
       "Medu         395\n",
       "Fedu         395\n",
       "studytime    395\n",
       "failures     395\n",
       "freetime     395\n",
       "goout        395\n",
       "health       395\n",
       "absences     395\n",
       "G1           395\n",
       "G2           395\n",
       "MS           395\n",
       "M            395\n",
       "U            395\n",
       "yes          395\n",
       "yes          395\n",
       "yes          395\n",
       "dtype: int64"
      ]
     },
     "execution_count": 608,
     "metadata": {},
     "output_type": "execute_result"
    }
   ],
   "source": [
    "main_df = merged_df\n",
    "X = main_df.drop(\"G3\", axis = \"columns\")\n",
    "y = main_df[\"G3\"]\n",
    "X.count()"
   ]
  },
  {
   "cell_type": "code",
   "execution_count": 609,
   "id": "6a939366",
   "metadata": {},
   "outputs": [
    {
     "data": {
      "text/plain": [
       "<AxesSubplot:>"
      ]
     },
     "execution_count": 609,
     "metadata": {},
     "output_type": "execute_result"
    },
    {
     "data": {
      "image/png": "[encoded data removed]",
      "text/plain": [
       "<Figure size 1080x432 with 1 Axes>"
      ]
     },
     "metadata": {
      "needs_background": "light"
     },
     "output_type": "display_data"
    }
   ],
   "source": [
    "plt.figure(figsize=(15, 6))\n",
    "plt.subplot(1,2,1)\n",
    "merged_df['absences'].hist()"
   ]
  },
  {
   "cell_type": "code",
   "execution_count": 610,
   "id": "d4c76813",
   "metadata": {},
   "outputs": [
    {
     "data": {
      "text/html": [
       "<div>\n",
       "<style scoped>\n",
       "    .dataframe tbody tr th:only-of-type {\n",
       "        vertical-align: middle;\n",
       "    }\n",
       "\n",
       "    .dataframe tbody tr th {\n",
       "        vertical-align: top;\n",
       "    }\n",
       "\n",
       "    .dataframe thead th {\n",
       "        text-align: right;\n",
       "    }\n",
       "</style>\n",
       "<table border=\"1\" class=\"dataframe\">\n",
       "  <thead>\n",
       "    <tr style=\"text-align: right;\">\n",
       "      <th></th>\n",
       "      <th>age</th>\n",
       "      <th>Medu</th>\n",
       "      <th>Fedu</th>\n",
       "      <th>studytime</th>\n",
       "      <th>failures</th>\n",
       "      <th>freetime</th>\n",
       "      <th>goout</th>\n",
       "      <th>health</th>\n",
       "      <th>G1</th>\n",
       "      <th>G2</th>\n",
       "      <th>G3</th>\n",
       "      <th>MS</th>\n",
       "      <th>M</th>\n",
       "      <th>U</th>\n",
       "      <th>yes</th>\n",
       "      <th>yes</th>\n",
       "      <th>yes</th>\n",
       "      <th>log_absences</th>\n",
       "    </tr>\n",
       "  </thead>\n",
       "  <tbody>\n",
       "    <tr>\n",
       "      <th>0</th>\n",
       "      <td>18.0</td>\n",
       "      <td>4</td>\n",
       "      <td>4</td>\n",
       "      <td>2</td>\n",
       "      <td>0</td>\n",
       "      <td>3</td>\n",
       "      <td>4</td>\n",
       "      <td>3</td>\n",
       "      <td>5</td>\n",
       "      <td>6</td>\n",
       "      <td>6</td>\n",
       "      <td>0</td>\n",
       "      <td>0</td>\n",
       "      <td>1</td>\n",
       "      <td>0</td>\n",
       "      <td>1</td>\n",
       "      <td>1</td>\n",
       "      <td>1.945910</td>\n",
       "    </tr>\n",
       "    <tr>\n",
       "      <th>1</th>\n",
       "      <td>17.0</td>\n",
       "      <td>1</td>\n",
       "      <td>1</td>\n",
       "      <td>2</td>\n",
       "      <td>0</td>\n",
       "      <td>3</td>\n",
       "      <td>3</td>\n",
       "      <td>3</td>\n",
       "      <td>5</td>\n",
       "      <td>5</td>\n",
       "      <td>6</td>\n",
       "      <td>0</td>\n",
       "      <td>0</td>\n",
       "      <td>1</td>\n",
       "      <td>0</td>\n",
       "      <td>0</td>\n",
       "      <td>1</td>\n",
       "      <td>1.609438</td>\n",
       "    </tr>\n",
       "    <tr>\n",
       "      <th>2</th>\n",
       "      <td>15.0</td>\n",
       "      <td>1</td>\n",
       "      <td>1</td>\n",
       "      <td>2</td>\n",
       "      <td>3</td>\n",
       "      <td>3</td>\n",
       "      <td>2</td>\n",
       "      <td>3</td>\n",
       "      <td>7</td>\n",
       "      <td>8</td>\n",
       "      <td>10</td>\n",
       "      <td>0</td>\n",
       "      <td>0</td>\n",
       "      <td>1</td>\n",
       "      <td>0</td>\n",
       "      <td>1</td>\n",
       "      <td>1</td>\n",
       "      <td>2.397895</td>\n",
       "    </tr>\n",
       "    <tr>\n",
       "      <th>3</th>\n",
       "      <td>15.0</td>\n",
       "      <td>4</td>\n",
       "      <td>2</td>\n",
       "      <td>3</td>\n",
       "      <td>0</td>\n",
       "      <td>2</td>\n",
       "      <td>2</td>\n",
       "      <td>5</td>\n",
       "      <td>15</td>\n",
       "      <td>14</td>\n",
       "      <td>15</td>\n",
       "      <td>0</td>\n",
       "      <td>0</td>\n",
       "      <td>1</td>\n",
       "      <td>1</td>\n",
       "      <td>1</td>\n",
       "      <td>1</td>\n",
       "      <td>1.098612</td>\n",
       "    </tr>\n",
       "    <tr>\n",
       "      <th>4</th>\n",
       "      <td>16.0</td>\n",
       "      <td>3</td>\n",
       "      <td>3</td>\n",
       "      <td>2</td>\n",
       "      <td>0</td>\n",
       "      <td>3</td>\n",
       "      <td>2</td>\n",
       "      <td>5</td>\n",
       "      <td>6</td>\n",
       "      <td>10</td>\n",
       "      <td>10</td>\n",
       "      <td>0</td>\n",
       "      <td>0</td>\n",
       "      <td>1</td>\n",
       "      <td>0</td>\n",
       "      <td>1</td>\n",
       "      <td>1</td>\n",
       "      <td>1.609438</td>\n",
       "    </tr>\n",
       "    <tr>\n",
       "      <th>...</th>\n",
       "      <td>...</td>\n",
       "      <td>...</td>\n",
       "      <td>...</td>\n",
       "      <td>...</td>\n",
       "      <td>...</td>\n",
       "      <td>...</td>\n",
       "      <td>...</td>\n",
       "      <td>...</td>\n",
       "      <td>...</td>\n",
       "      <td>...</td>\n",
       "      <td>...</td>\n",
       "      <td>...</td>\n",
       "      <td>...</td>\n",
       "      <td>...</td>\n",
       "      <td>...</td>\n",
       "      <td>...</td>\n",
       "      <td>...</td>\n",
       "      <td>...</td>\n",
       "    </tr>\n",
       "    <tr>\n",
       "      <th>390</th>\n",
       "      <td>20.0</td>\n",
       "      <td>2</td>\n",
       "      <td>2</td>\n",
       "      <td>2</td>\n",
       "      <td>2</td>\n",
       "      <td>5</td>\n",
       "      <td>4</td>\n",
       "      <td>4</td>\n",
       "      <td>9</td>\n",
       "      <td>9</td>\n",
       "      <td>9</td>\n",
       "      <td>1</td>\n",
       "      <td>1</td>\n",
       "      <td>1</td>\n",
       "      <td>0</td>\n",
       "      <td>1</td>\n",
       "      <td>1</td>\n",
       "      <td>2.484907</td>\n",
       "    </tr>\n",
       "    <tr>\n",
       "      <th>391</th>\n",
       "      <td>17.0</td>\n",
       "      <td>3</td>\n",
       "      <td>1</td>\n",
       "      <td>1</td>\n",
       "      <td>0</td>\n",
       "      <td>4</td>\n",
       "      <td>5</td>\n",
       "      <td>2</td>\n",
       "      <td>14</td>\n",
       "      <td>16</td>\n",
       "      <td>16</td>\n",
       "      <td>1</td>\n",
       "      <td>1</td>\n",
       "      <td>1</td>\n",
       "      <td>0</td>\n",
       "      <td>0</td>\n",
       "      <td>1</td>\n",
       "      <td>1.386294</td>\n",
       "    </tr>\n",
       "    <tr>\n",
       "      <th>392</th>\n",
       "      <td>21.0</td>\n",
       "      <td>1</td>\n",
       "      <td>1</td>\n",
       "      <td>1</td>\n",
       "      <td>3</td>\n",
       "      <td>5</td>\n",
       "      <td>3</td>\n",
       "      <td>3</td>\n",
       "      <td>10</td>\n",
       "      <td>8</td>\n",
       "      <td>7</td>\n",
       "      <td>1</td>\n",
       "      <td>1</td>\n",
       "      <td>0</td>\n",
       "      <td>0</td>\n",
       "      <td>0</td>\n",
       "      <td>1</td>\n",
       "      <td>1.386294</td>\n",
       "    </tr>\n",
       "    <tr>\n",
       "      <th>393</th>\n",
       "      <td>18.0</td>\n",
       "      <td>3</td>\n",
       "      <td>2</td>\n",
       "      <td>1</td>\n",
       "      <td>0</td>\n",
       "      <td>4</td>\n",
       "      <td>1</td>\n",
       "      <td>5</td>\n",
       "      <td>11</td>\n",
       "      <td>12</td>\n",
       "      <td>10</td>\n",
       "      <td>1</td>\n",
       "      <td>1</td>\n",
       "      <td>0</td>\n",
       "      <td>0</td>\n",
       "      <td>0</td>\n",
       "      <td>1</td>\n",
       "      <td>0.000000</td>\n",
       "    </tr>\n",
       "    <tr>\n",
       "      <th>394</th>\n",
       "      <td>19.0</td>\n",
       "      <td>1</td>\n",
       "      <td>1</td>\n",
       "      <td>1</td>\n",
       "      <td>0</td>\n",
       "      <td>2</td>\n",
       "      <td>3</td>\n",
       "      <td>5</td>\n",
       "      <td>8</td>\n",
       "      <td>9</td>\n",
       "      <td>9</td>\n",
       "      <td>1</td>\n",
       "      <td>1</td>\n",
       "      <td>1</td>\n",
       "      <td>0</td>\n",
       "      <td>1</td>\n",
       "      <td>1</td>\n",
       "      <td>1.791759</td>\n",
       "    </tr>\n",
       "  </tbody>\n",
       "</table>\n",
       "<p>395 rows × 18 columns</p>\n",
       "</div>"
      ],
      "text/plain": [
       "      age  Medu  Fedu  studytime  failures  freetime  goout  health  G1  G2  \\\n",
       "0    18.0     4     4          2         0         3      4       3   5   6   \n",
       "1    17.0     1     1          2         0         3      3       3   5   5   \n",
       "2    15.0     1     1          2         3         3      2       3   7   8   \n",
       "3    15.0     4     2          3         0         2      2       5  15  14   \n",
       "4    16.0     3     3          2         0         3      2       5   6  10   \n",
       "..    ...   ...   ...        ...       ...       ...    ...     ...  ..  ..   \n",
       "390  20.0     2     2          2         2         5      4       4   9   9   \n",
       "391  17.0     3     1          1         0         4      5       2  14  16   \n",
       "392  21.0     1     1          1         3         5      3       3  10   8   \n",
       "393  18.0     3     2          1         0         4      1       5  11  12   \n",
       "394  19.0     1     1          1         0         2      3       5   8   9   \n",
       "\n",
       "     G3  MS  M  U  yes  yes  yes  log_absences  \n",
       "0     6   0  0  1    0    1    1      1.945910  \n",
       "1     6   0  0  1    0    0    1      1.609438  \n",
       "2    10   0  0  1    0    1    1      2.397895  \n",
       "3    15   0  0  1    1    1    1      1.098612  \n",
       "4    10   0  0  1    0    1    1      1.609438  \n",
       "..   ..  .. .. ..  ...  ...  ...           ...  \n",
       "390   9   1  1  1    0    1    1      2.484907  \n",
       "391  16   1  1  1    0    0    1      1.386294  \n",
       "392   7   1  1  0    0    0    1      1.386294  \n",
       "393  10   1  1  0    0    0    1      0.000000  \n",
       "394   9   1  1  1    0    1    1      1.791759  \n",
       "\n",
       "[395 rows x 18 columns]"
      ]
     },
     "execution_count": 610,
     "metadata": {},
     "output_type": "execute_result"
    }
   ],
   "source": [
    "merged_df['log_absences'] = np.log(merged_df['absences'] + 1)\n",
    "merged_df.drop(\"absences\", 1)"
   ]
  },
  {
   "cell_type": "code",
   "execution_count": 611,
   "id": "c96858f4",
   "metadata": {},
   "outputs": [
    {
     "data": {
      "text/plain": [
       "<AxesSubplot:>"
      ]
     },
     "execution_count": 611,
     "metadata": {},
     "output_type": "execute_result"
    },
    {
     "data": {
      "image/png": "[encoded data removed]",
      "text/plain": [
       "<Figure size 1080x432 with 1 Axes>"
      ]
     },
     "metadata": {
      "needs_background": "light"
     },
     "output_type": "display_data"
    }
   ],
   "source": [
    "plt.figure(figsize=(15, 6))   ##After applying log function\n",
    "plt.subplot(1,2,1)\n",
    "merged_df['log_absences'].hist()"
   ]
  },
  {
   "cell_type": "code",
   "execution_count": null,
   "id": "54083485",
   "metadata": {},
   "outputs": [],
   "source": []
  },
  {
   "cell_type": "code",
   "execution_count": null,
   "id": "db2620e4",
   "metadata": {},
   "outputs": [],
   "source": []
  },
  {
   "cell_type": "code",
   "execution_count": 612,
   "id": "a6ff8854",
   "metadata": {},
   "outputs": [],
   "source": [
    "                                    # using sklearn"
   ]
  },
  {
   "cell_type": "code",
   "execution_count": 613,
   "id": "069a909e",
   "metadata": {},
   "outputs": [],
   "source": [
    "# from sklearn.model_selection import train_test_split\n",
    "# X_train, X_test, y_train, y_test = train_test_split(X, y, train_size = 0.8)"
   ]
  },
  {
   "cell_type": "code",
   "execution_count": 614,
   "id": "6dab6365",
   "metadata": {},
   "outputs": [],
   "source": [
    "# from sklearn.linear_model import LinearRegression\n",
    "# clf = LinearRegression()\n",
    "# clf.fit(X_train, y_train)"
   ]
  },
  {
   "cell_type": "code",
   "execution_count": 615,
   "id": "696e435a",
   "metadata": {},
   "outputs": [],
   "source": [
    "# clf.predict(X_test)"
   ]
  },
  {
   "cell_type": "code",
   "execution_count": 616,
   "id": "07b19eb2",
   "metadata": {},
   "outputs": [],
   "source": [
    "# clf.score(X_test, y_test)"
   ]
  },
  {
   "cell_type": "code",
   "execution_count": 617,
   "id": "85aabc6f",
   "metadata": {},
   "outputs": [],
   "source": [
    "                                    #  a.univariate Regression"
   ]
  },
  {
   "cell_type": "code",
   "execution_count": 618,
   "id": "90aaa4ce",
   "metadata": {},
   "outputs": [
    {
     "data": {
      "text/html": [
       "<div>\n",
       "<style scoped>\n",
       "    .dataframe tbody tr th:only-of-type {\n",
       "        vertical-align: middle;\n",
       "    }\n",
       "\n",
       "    .dataframe tbody tr th {\n",
       "        vertical-align: top;\n",
       "    }\n",
       "\n",
       "    .dataframe thead th {\n",
       "        text-align: right;\n",
       "    }\n",
       "</style>\n",
       "<table border=\"1\" class=\"dataframe\">\n",
       "  <thead>\n",
       "    <tr style=\"text-align: right;\">\n",
       "      <th></th>\n",
       "      <th>school</th>\n",
       "      <th>sex</th>\n",
       "      <th>age</th>\n",
       "      <th>address</th>\n",
       "      <th>Medu</th>\n",
       "      <th>Fedu</th>\n",
       "      <th>studytime</th>\n",
       "      <th>failures</th>\n",
       "      <th>activities</th>\n",
       "      <th>nursery</th>\n",
       "      <th>higher</th>\n",
       "      <th>freetime</th>\n",
       "      <th>goout</th>\n",
       "      <th>health</th>\n",
       "      <th>absences</th>\n",
       "      <th>G1</th>\n",
       "      <th>G2</th>\n",
       "      <th>G3</th>\n",
       "    </tr>\n",
       "  </thead>\n",
       "  <tbody>\n",
       "    <tr>\n",
       "      <th>0</th>\n",
       "      <td>GP</td>\n",
       "      <td>F</td>\n",
       "      <td>18.0</td>\n",
       "      <td>U</td>\n",
       "      <td>4</td>\n",
       "      <td>4</td>\n",
       "      <td>2</td>\n",
       "      <td>0</td>\n",
       "      <td>no</td>\n",
       "      <td>yes</td>\n",
       "      <td>yes</td>\n",
       "      <td>3</td>\n",
       "      <td>4</td>\n",
       "      <td>3</td>\n",
       "      <td>6</td>\n",
       "      <td>5</td>\n",
       "      <td>6</td>\n",
       "      <td>6</td>\n",
       "    </tr>\n",
       "    <tr>\n",
       "      <th>1</th>\n",
       "      <td>GP</td>\n",
       "      <td>F</td>\n",
       "      <td>17.0</td>\n",
       "      <td>U</td>\n",
       "      <td>1</td>\n",
       "      <td>1</td>\n",
       "      <td>2</td>\n",
       "      <td>0</td>\n",
       "      <td>no</td>\n",
       "      <td>no</td>\n",
       "      <td>yes</td>\n",
       "      <td>3</td>\n",
       "      <td>3</td>\n",
       "      <td>3</td>\n",
       "      <td>4</td>\n",
       "      <td>5</td>\n",
       "      <td>5</td>\n",
       "      <td>6</td>\n",
       "    </tr>\n",
       "    <tr>\n",
       "      <th>2</th>\n",
       "      <td>GP</td>\n",
       "      <td>F</td>\n",
       "      <td>15.0</td>\n",
       "      <td>U</td>\n",
       "      <td>1</td>\n",
       "      <td>1</td>\n",
       "      <td>2</td>\n",
       "      <td>3</td>\n",
       "      <td>no</td>\n",
       "      <td>yes</td>\n",
       "      <td>yes</td>\n",
       "      <td>3</td>\n",
       "      <td>2</td>\n",
       "      <td>3</td>\n",
       "      <td>10</td>\n",
       "      <td>7</td>\n",
       "      <td>8</td>\n",
       "      <td>10</td>\n",
       "    </tr>\n",
       "    <tr>\n",
       "      <th>3</th>\n",
       "      <td>GP</td>\n",
       "      <td>F</td>\n",
       "      <td>15.0</td>\n",
       "      <td>U</td>\n",
       "      <td>4</td>\n",
       "      <td>2</td>\n",
       "      <td>3</td>\n",
       "      <td>0</td>\n",
       "      <td>yes</td>\n",
       "      <td>yes</td>\n",
       "      <td>yes</td>\n",
       "      <td>2</td>\n",
       "      <td>2</td>\n",
       "      <td>5</td>\n",
       "      <td>2</td>\n",
       "      <td>15</td>\n",
       "      <td>14</td>\n",
       "      <td>15</td>\n",
       "    </tr>\n",
       "    <tr>\n",
       "      <th>4</th>\n",
       "      <td>GP</td>\n",
       "      <td>F</td>\n",
       "      <td>16.0</td>\n",
       "      <td>U</td>\n",
       "      <td>3</td>\n",
       "      <td>3</td>\n",
       "      <td>2</td>\n",
       "      <td>0</td>\n",
       "      <td>no</td>\n",
       "      <td>yes</td>\n",
       "      <td>yes</td>\n",
       "      <td>3</td>\n",
       "      <td>2</td>\n",
       "      <td>5</td>\n",
       "      <td>4</td>\n",
       "      <td>6</td>\n",
       "      <td>10</td>\n",
       "      <td>10</td>\n",
       "    </tr>\n",
       "  </tbody>\n",
       "</table>\n",
       "</div>"
      ],
      "text/plain": [
       "  school sex   age address  Medu  Fedu  studytime  failures activities  \\\n",
       "0     GP   F  18.0       U     4     4          2         0         no   \n",
       "1     GP   F  17.0       U     1     1          2         0         no   \n",
       "2     GP   F  15.0       U     1     1          2         3         no   \n",
       "3     GP   F  15.0       U     4     2          3         0        yes   \n",
       "4     GP   F  16.0       U     3     3          2         0         no   \n",
       "\n",
       "  nursery higher  freetime  goout  health  absences  G1  G2  G3  \n",
       "0     yes    yes         3      4       3         6   5   6   6  \n",
       "1      no    yes         3      3       3         4   5   5   6  \n",
       "2     yes    yes         3      2       3        10   7   8  10  \n",
       "3     yes    yes         2      2       5         2  15  14  15  \n",
       "4     yes    yes         3      2       5         4   6  10  10  "
      ]
     },
     "execution_count": 618,
     "metadata": {},
     "output_type": "execute_result"
    }
   ],
   "source": [
    "import numpy as np\n",
    "import pandas as pd\n",
    "import matplotlib.pyplot as plt\n",
    "main_df = pd.read_csv('student.csv')\n",
    "main_df.head()"
   ]
  },
  {
   "cell_type": "code",
   "execution_count": 619,
   "id": "4de09fbb",
   "metadata": {
    "scrolled": false
   },
   "outputs": [
    {
     "name": "stdout",
     "output_type": "stream",
     "text": [
      "                age      Medu      Fedu  studytime  failures  freetime  \\\n",
      "age        1.000000 -0.157654 -0.170833  -0.001696  0.239690  0.027574   \n",
      "Medu      -0.157654  1.000000  0.623455   0.064944 -0.236680  0.030891   \n",
      "Fedu      -0.170833  0.623455  1.000000  -0.009175 -0.250408 -0.012846   \n",
      "studytime -0.001696  0.064944 -0.009175   1.000000 -0.173563 -0.143198   \n",
      "failures   0.239690 -0.236680 -0.250408  -0.173563  1.000000  0.091987   \n",
      "freetime   0.027574  0.030891 -0.012846  -0.143198  0.091987  1.000000   \n",
      "goout      0.117736  0.064094  0.043105  -0.063904  0.124561  0.285019   \n",
      "health    -0.085577 -0.046878  0.014742  -0.075616  0.065827  0.075733   \n",
      "absences   0.175388  0.100285  0.024473  -0.062700  0.063726 -0.058078   \n",
      "G1        -0.043231  0.205341  0.190270   0.160612 -0.354718  0.012613   \n",
      "G2        -0.125728  0.215527  0.164893   0.135880 -0.355896 -0.013777   \n",
      "G3        -0.148143  0.217147  0.152457   0.097820 -0.360415  0.011307   \n",
      "\n",
      "              goout    health  absences        G1        G2        G3  \n",
      "age        0.117736 -0.085577  0.175388 -0.043231 -0.125728 -0.148143  \n",
      "Medu       0.064094 -0.046878  0.100285  0.205341  0.215527  0.217147  \n",
      "Fedu       0.043105  0.014742  0.024473  0.190270  0.164893  0.152457  \n",
      "studytime -0.063904 -0.075616 -0.062700  0.160612  0.135880  0.097820  \n",
      "failures   0.124561  0.065827  0.063726 -0.354718 -0.355896 -0.360415  \n",
      "freetime   0.285019  0.075733 -0.058078  0.012613 -0.013777  0.011307  \n",
      "goout      1.000000 -0.009577  0.044302 -0.149104 -0.162250 -0.132791  \n",
      "health    -0.009577  1.000000 -0.029937 -0.073172 -0.097720 -0.061335  \n",
      "absences   0.044302 -0.029937  1.000000 -0.031003 -0.031777  0.034247  \n",
      "G1        -0.149104 -0.073172 -0.031003  1.000000  0.852118  0.801468  \n",
      "G2        -0.162250 -0.097720 -0.031777  0.852118  1.000000  0.904868  \n",
      "G3        -0.132791 -0.061335  0.034247  0.801468  0.904868  1.000000  \n"
     ]
    }
   ],
   "source": [
    "corr_matrix = main_df.corr()   #we are checking the correlation matrix to find the relationship between variables. Here G2 has the highest correlation among others so we will pick G2 for now as our independent variable to predict G3\n",
    "print(corr_matrix)\n"
   ]
  },
  {
   "cell_type": "code",
   "execution_count": 620,
   "id": "b1a362d5",
   "metadata": {
    "scrolled": true
   },
   "outputs": [
    {
     "data": {
      "text/plain": [
       "<AxesSubplot:title={'center':'G2 grade VS G3 grade'}, xlabel='G3'>"
      ]
     },
     "execution_count": 620,
     "metadata": {},
     "output_type": "execute_result"
    },
    {
     "data": {
      "image/png": "[encoded data removed]",
      "text/plain": [
       "<Figure size 720x432 with 1 Axes>"
      ]
     },
     "metadata": {
      "needs_background": "light"
     },
     "output_type": "display_data"
    }
   ],
   "source": [
    "main_df.plot(x='G3', y='G2', kind = 'line', title = 'G2 grade VS G3 grade')"
   ]
  },
  {
   "cell_type": "code",
   "execution_count": 621,
   "id": "f4e3cca8",
   "metadata": {
    "scrolled": true
   },
   "outputs": [
    {
     "data": {
      "text/plain": [
       "Text(0.5, 1.0, 'Scatter plot of data')"
      ]
     },
     "execution_count": 621,
     "metadata": {},
     "output_type": "execute_result"
    },
    {
     "data": {
      "image/png": "[encoded data removed]",
      "text/plain": [
       "<Figure size 720x432 with 1 Axes>"
      ]
     },
     "metadata": {
      "needs_background": "light"
     },
     "output_type": "display_data"
    }
   ],
   "source": [
    "X_u = main_df['G2'].values\n",
    "y_u = main_df['G3'].values\n",
    "m = X_u.shape[0]\n",
    "\n",
    "plt.scatter(X_u,y_u, color='red',marker= '+')\n",
    "plt.grid()\n",
    "plt.rcParams[\"figure.figsize\"] = (10,6)\n",
    "plt.xlabel('X values')\n",
    "plt.ylabel('Y values')\n",
    "plt.title('Scatter plot of data')"
   ]
  },
  {
   "cell_type": "code",
   "execution_count": 622,
   "id": "90cdc66d",
   "metadata": {},
   "outputs": [
    {
     "name": "stdout",
     "output_type": "stream",
     "text": [
      "(276, 1)\n",
      "(119, 1)\n",
      "(276,)\n",
      "(119,)\n"
     ]
    }
   ],
   "source": [
    "\n",
    "main_df = main_df.sample(frac=1)\n",
    "\n",
    "# Define a size for your train set \n",
    "train_size = int(0.7 * len(main_df))\n",
    "# Split your dataset \n",
    "X_train_u = X_u[:train_size]\n",
    "X_test_u = X_u[train_size:]\n",
    "\n",
    "y_train_u = y[:train_size]\n",
    "y_test_u = y[train_size:]\n",
    "\n",
    "#Lets create a matrix with single column of ones\n",
    "\n",
    "\n",
    "m = X_train_u.shape[0]\n",
    "n = X_test_u.shape[0]\n",
    "X_u0 = np.ones((m, 1))\n",
    "X_u0[:5]\n",
    "X_train_u = X_train_u.reshape((m, 1))\n",
    "X_test_u = X_test_u.reshape((n, 1))\n",
    "print(X_train_u.shape)\n",
    "print(X_test_u.shape)\n",
    "print(y_train_u.shape)\n",
    "print(y_test_u.shape)"
   ]
  },
  {
   "cell_type": "code",
   "execution_count": 623,
   "id": "39700e3d",
   "metadata": {
    "scrolled": true
   },
   "outputs": [],
   "source": [
    "X_train_u = np.hstack((X_train_u, X_u0))"
   ]
  },
  {
   "cell_type": "code",
   "execution_count": 624,
   "id": "c347c025",
   "metadata": {
    "scrolled": false
   },
   "outputs": [
    {
     "data": {
      "text/plain": [
       "array([[ 6.,  1.],\n",
       "       [ 5.,  1.],\n",
       "       [ 8.,  1.],\n",
       "       [14.,  1.],\n",
       "       [10.,  1.],\n",
       "       [15.,  1.],\n",
       "       [12.,  1.],\n",
       "       [ 5.,  1.],\n",
       "       [18.,  1.],\n",
       "       [15.,  1.],\n",
       "       [ 8.,  1.],\n",
       "       [12.,  1.],\n",
       "       [14.,  1.],\n",
       "       [10.,  1.],\n",
       "       [16.,  1.],\n",
       "       [14.,  1.],\n",
       "       [14.,  1.],\n",
       "       [10.,  1.],\n",
       "       [ 5.,  1.],\n",
       "       [10.,  1.],\n",
       "       [14.,  1.],\n",
       "       [15.,  1.],\n",
       "       [15.,  1.],\n",
       "       [13.,  1.],\n",
       "       [ 9.,  1.],\n",
       "       [ 9.,  1.],\n",
       "       [12.,  1.],\n",
       "       [16.,  1.],\n",
       "       [11.,  1.],\n",
       "       [12.,  1.],\n",
       "       [11.,  1.],\n",
       "       [16.,  1.],\n",
       "       [16.,  1.],\n",
       "       [10.,  1.],\n",
       "       [14.,  1.],\n",
       "       [ 7.,  1.],\n",
       "       [16.,  1.],\n",
       "       [16.,  1.],\n",
       "       [12.,  1.],\n",
       "       [13.,  1.],\n",
       "       [10.,  1.],\n",
       "       [12.,  1.],\n",
       "       [18.,  1.],\n",
       "       [ 8.,  1.],\n",
       "       [10.,  1.],\n",
       "       [ 8.,  1.],\n",
       "       [12.,  1.],\n",
       "       [19.,  1.],\n",
       "       [15.,  1.],\n",
       "       [ 7.,  1.],\n",
       "       [13.,  1.],\n",
       "       [13.,  1.],\n",
       "       [11.,  1.],\n",
       "       [10.,  1.],\n",
       "       [13.,  1.],\n",
       "       [ 9.,  1.],\n",
       "       [15.,  1.],\n",
       "       [15.,  1.],\n",
       "       [10.,  1.],\n",
       "       [16.,  1.],\n",
       "       [11.,  1.],\n",
       "       [ 8.,  1.],\n",
       "       [10.,  1.],\n",
       "       [ 9.,  1.],\n",
       "       [10.,  1.],\n",
       "       [15.,  1.],\n",
       "       [13.,  1.],\n",
       "       [ 7.,  1.],\n",
       "       [ 9.,  1.],\n",
       "       [16.,  1.],\n",
       "       [15.,  1.],\n",
       "       [10.,  1.],\n",
       "       [ 6.,  1.],\n",
       "       [12.,  1.],\n",
       "       [12.,  1.],\n",
       "       [ 9.,  1.],\n",
       "       [11.,  1.],\n",
       "       [11.,  1.],\n",
       "       [ 8.,  1.],\n",
       "       [ 5.,  1.],\n",
       "       [12.,  1.],\n",
       "       [10.,  1.],\n",
       "       [ 6.,  1.],\n",
       "       [15.,  1.],\n",
       "       [10.,  1.],\n",
       "       [ 9.,  1.],\n",
       "       [ 7.,  1.],\n",
       "       [14.,  1.],\n",
       "       [10.,  1.],\n",
       "       [ 6.,  1.],\n",
       "       [ 7.,  1.],\n",
       "       [17.,  1.],\n",
       "       [ 6.,  1.],\n",
       "       [10.,  1.],\n",
       "       [13.,  1.],\n",
       "       [10.,  1.],\n",
       "       [15.,  1.],\n",
       "       [ 9.,  1.],\n",
       "       [14.,  1.],\n",
       "       [ 9.,  1.],\n",
       "       [ 7.,  1.],\n",
       "       [17.,  1.],\n",
       "       [13.,  1.],\n",
       "       [ 6.,  1.],\n",
       "       [18.,  1.],\n",
       "       [11.,  1.],\n",
       "       [ 8.,  1.],\n",
       "       [18.,  1.],\n",
       "       [13.,  1.],\n",
       "       [15.,  1.],\n",
       "       [19.,  1.],\n",
       "       [10.,  1.],\n",
       "       [13.,  1.],\n",
       "       [19.,  1.],\n",
       "       [ 9.,  1.],\n",
       "       [15.,  1.],\n",
       "       [13.,  1.],\n",
       "       [14.,  1.],\n",
       "       [ 7.,  1.],\n",
       "       [13.,  1.],\n",
       "       [15.,  1.],\n",
       "       [14.,  1.],\n",
       "       [13.,  1.],\n",
       "       [11.,  1.],\n",
       "       [ 7.,  1.],\n",
       "       [13.,  1.],\n",
       "       [10.,  1.],\n",
       "       [ 8.,  1.],\n",
       "       [ 4.,  1.],\n",
       "       [18.,  1.],\n",
       "       [ 0.,  1.],\n",
       "       [ 0.,  1.],\n",
       "       [13.,  1.],\n",
       "       [11.,  1.],\n",
       "       [ 0.,  1.],\n",
       "       [ 0.,  1.],\n",
       "       [ 0.,  1.],\n",
       "       [ 0.,  1.],\n",
       "       [12.,  1.],\n",
       "       [16.,  1.],\n",
       "       [ 9.,  1.],\n",
       "       [ 9.,  1.],\n",
       "       [11.,  1.],\n",
       "       [14.,  1.],\n",
       "       [ 0.,  1.],\n",
       "       [11.,  1.],\n",
       "       [ 7.,  1.],\n",
       "       [11.,  1.],\n",
       "       [ 6.,  1.],\n",
       "       [ 9.,  1.],\n",
       "       [ 5.,  1.],\n",
       "       [13.,  1.],\n",
       "       [10.,  1.],\n",
       "       [ 0.,  1.],\n",
       "       [11.,  1.],\n",
       "       [ 8.,  1.],\n",
       "       [12.,  1.],\n",
       "       [ 8.,  1.],\n",
       "       [15.,  1.],\n",
       "       [12.,  1.],\n",
       "       [ 6.,  1.],\n",
       "       [ 9.,  1.],\n",
       "       [ 0.,  1.],\n",
       "       [10.,  1.],\n",
       "       [ 8.,  1.],\n",
       "       [11.,  1.],\n",
       "       [10.,  1.],\n",
       "       [15.,  1.],\n",
       "       [ 7.,  1.],\n",
       "       [14.,  1.],\n",
       "       [ 5.,  1.],\n",
       "       [15.,  1.],\n",
       "       [11.,  1.],\n",
       "       [ 7.,  1.],\n",
       "       [11.,  1.],\n",
       "       [ 9.,  1.],\n",
       "       [13.,  1.],\n",
       "       [ 5.,  1.],\n",
       "       [ 8.,  1.],\n",
       "       [10.,  1.],\n",
       "       [ 8.,  1.],\n",
       "       [13.,  1.],\n",
       "       [17.,  1.],\n",
       "       [ 9.,  1.],\n",
       "       [13.,  1.],\n",
       "       [12.,  1.],\n",
       "       [12.,  1.],\n",
       "       [15.,  1.],\n",
       "       [ 7.,  1.],\n",
       "       [ 9.,  1.],\n",
       "       [12.,  1.],\n",
       "       [ 8.,  1.],\n",
       "       [ 8.,  1.],\n",
       "       [ 9.,  1.],\n",
       "       [14.,  1.],\n",
       "       [15.,  1.],\n",
       "       [15.,  1.],\n",
       "       [ 9.,  1.],\n",
       "       [18.,  1.],\n",
       "       [ 9.,  1.],\n",
       "       [16.,  1.],\n",
       "       [10.,  1.],\n",
       "       [ 9.,  1.],\n",
       "       [ 6.,  1.],\n",
       "       [10.,  1.],\n",
       "       [ 9.,  1.],\n",
       "       [ 7.,  1.],\n",
       "       [12.,  1.],\n",
       "       [ 9.,  1.],\n",
       "       [ 7.,  1.],\n",
       "       [ 8.,  1.],\n",
       "       [12.,  1.],\n",
       "       [13.,  1.],\n",
       "       [ 7.,  1.],\n",
       "       [10.,  1.],\n",
       "       [15.,  1.],\n",
       "       [ 6.,  1.],\n",
       "       [ 6.,  1.],\n",
       "       [ 7.,  1.],\n",
       "       [10.,  1.],\n",
       "       [ 6.,  1.],\n",
       "       [ 5.,  1.],\n",
       "       [16.,  1.],\n",
       "       [13.,  1.],\n",
       "       [13.,  1.],\n",
       "       [ 8.,  1.],\n",
       "       [15.,  1.],\n",
       "       [11.,  1.],\n",
       "       [ 8.,  1.],\n",
       "       [10.,  1.],\n",
       "       [13.,  1.],\n",
       "       [11.,  1.],\n",
       "       [ 9.,  1.],\n",
       "       [13.,  1.],\n",
       "       [ 7.,  1.],\n",
       "       [ 9.,  1.],\n",
       "       [13.,  1.],\n",
       "       [12.,  1.],\n",
       "       [11.,  1.],\n",
       "       [ 7.,  1.],\n",
       "       [12.,  1.],\n",
       "       [11.,  1.],\n",
       "       [ 0.,  1.],\n",
       "       [12.,  1.],\n",
       "       [ 0.,  1.],\n",
       "       [18.,  1.],\n",
       "       [12.,  1.],\n",
       "       [ 8.,  1.],\n",
       "       [ 5.,  1.],\n",
       "       [15.,  1.],\n",
       "       [ 8.,  1.],\n",
       "       [10.,  1.],\n",
       "       [ 9.,  1.],\n",
       "       [ 9.,  1.],\n",
       "       [12.,  1.],\n",
       "       [ 9.,  1.],\n",
       "       [12.,  1.],\n",
       "       [11.,  1.],\n",
       "       [14.,  1.],\n",
       "       [ 9.,  1.],\n",
       "       [18.,  1.],\n",
       "       [ 8.,  1.],\n",
       "       [12.,  1.],\n",
       "       [ 9.,  1.],\n",
       "       [10.,  1.],\n",
       "       [17.,  1.],\n",
       "       [ 9.,  1.],\n",
       "       [10.,  1.],\n",
       "       [ 9.,  1.],\n",
       "       [ 0.,  1.],\n",
       "       [ 9.,  1.],\n",
       "       [14.,  1.],\n",
       "       [11.,  1.],\n",
       "       [14.,  1.],\n",
       "       [10.,  1.],\n",
       "       [12.,  1.]])"
      ]
     },
     "execution_count": 624,
     "metadata": {},
     "output_type": "execute_result"
    }
   ],
   "source": [
    "X_train_u"
   ]
  },
  {
   "cell_type": "code",
   "execution_count": 625,
   "id": "a63a4e35",
   "metadata": {},
   "outputs": [
    {
     "data": {
      "text/plain": [
       "(2,)"
      ]
     },
     "execution_count": 625,
     "metadata": {},
     "output_type": "execute_result"
    }
   ],
   "source": [
    "theta_u = np.zeros(2)\n",
    "theta_u.shape"
   ]
  },
  {
   "cell_type": "code",
   "execution_count": 626,
   "id": "708f9f28",
   "metadata": {
    "scrolled": true
   },
   "outputs": [],
   "source": [
    "def compute_cost(X, y, theta):\n",
    "    predictions = X.dot(theta)\n",
    "    #y = y.values.reshape(X.shape[0], 1)\n",
    "    errors = np.subtract(predictions, y)\n",
    "    sqrErrors = np.square(errors)\n",
    "    J = 1 / (2 * m) * np.sum(sqrErrors)\n",
    "\n",
    "    return J"
   ]
  },
  {
   "cell_type": "code",
   "execution_count": 627,
   "id": "f09f6c68",
   "metadata": {
    "scrolled": true
   },
   "outputs": [
    {
     "name": "stdout",
     "output_type": "stream",
     "text": [
      "The cost for given values of theta_0 and theta_1 = 64.78985507246377\n"
     ]
    }
   ],
   "source": [
    "X_train_u.shape\n",
    "cost_u = compute_cost(X_train_u, y_train_u, theta_u)\n",
    "print('The cost for given values of theta_0 and theta_1 =', cost_u)"
   ]
  },
  {
   "cell_type": "code",
   "execution_count": 628,
   "id": "c1858ad5",
   "metadata": {},
   "outputs": [],
   "source": [
    "def gradient_descent(X, y, theta, alpha, iterations):\n",
    "    cost_history = []\n",
    "    for i in range(iterations):\n",
    "        predictions = X.dot(theta)\n",
    "        errors = np.subtract(predictions, y)\n",
    "        sum_delta = (alpha / m) * X.transpose().dot(errors);\n",
    "        theta = theta - sum_delta;\n",
    "        cost_history.append(compute_cost(X, y, theta)) \n",
    "    return theta, cost_history"
   ]
  },
  {
   "cell_type": "code",
   "execution_count": 629,
   "id": "05a0ffab",
   "metadata": {},
   "outputs": [],
   "source": [
    "theta = [5., 5.]\n",
    "iterations = 1500;\n",
    "alpha = 0.01;"
   ]
  },
  {
   "cell_type": "code",
   "execution_count": 630,
   "id": "0b1c8073",
   "metadata": {},
   "outputs": [
    {
     "name": "stdout",
     "output_type": "stream",
     "text": [
      "Final value of theta = [ 1.05449825 -0.72907416]\n"
     ]
    }
   ],
   "source": [
    "theta_train_u, cost_history = gradient_descent(X_train_u, y_train_u, theta_u, alpha, iterations)\n",
    "print('Final value of theta =', theta_train_u)\n"
   ]
  },
  {
   "cell_type": "code",
   "execution_count": 631,
   "id": "56540dd0",
   "metadata": {},
   "outputs": [
    {
     "data": {
      "text/plain": [
       "Text(0.5, 1.0, 'Convergence of gradient descent Univariate')"
      ]
     },
     "execution_count": 631,
     "metadata": {},
     "output_type": "execute_result"
    },
    {
     "data": {
      "image/png": "[encoded data removed]",
      "text/plain": [
       "<Figure size 720x432 with 1 Axes>"
      ]
     },
     "metadata": {
      "needs_background": "light"
     },
     "output_type": "display_data"
    }
   ],
   "source": [
    "import matplotlib.pyplot as plt\n",
    "plt.plot(range(1, iterations +1), cost_history, color ='blue')\n",
    "plt.rcParams[\"figure.figsize\"] = (10,6)\n",
    "plt.grid()\n",
    "plt.xlabel(\"Iteration #\")\n",
    "plt.ylabel(\"Cost\")\n",
    "plt.title(\"Convergence of gradient descent Univariate\")"
   ]
  },
  {
   "cell_type": "code",
   "execution_count": 632,
   "id": "ba620a91",
   "metadata": {},
   "outputs": [],
   "source": [
    "X_u0 = np.ones((n, 1))\n",
    "X_test_u = np.hstack((X_test_u, X_u0))\n"
   ]
  },
  {
   "cell_type": "code",
   "execution_count": 633,
   "id": "159f9879",
   "metadata": {},
   "outputs": [
    {
     "name": "stdout",
     "output_type": "stream",
     "text": [
      "The cost for given values of theta_0 and theta_1 = 1.33056271583254\n"
     ]
    }
   ],
   "source": [
    "cost_test_u = compute_cost(X_test_u, y_test_u, theta_train_u)\n",
    "print('The cost for given values of theta_0 and theta_1 =', cost_test_u)\n",
    "\n",
    "\n",
    "\n"
   ]
  },
  {
   "cell_type": "code",
   "execution_count": 634,
   "id": "28fbde47",
   "metadata": {},
   "outputs": [],
   "source": [
    "def mean_squared_error(predictions, targets):\n",
    "    differences = predictions - targets                       \n",
    "    differences_squared = differences ** 2                    \n",
    "    mean_of_differences_squared = differences_squared.mean()  \n",
    "    rmse_val = np.sqrt(mean_of_differences_squared)           \n",
    "    return rmse_val "
   ]
  },
  {
   "cell_type": "code",
   "execution_count": 635,
   "id": "6a6861f3",
   "metadata": {},
   "outputs": [
    {
     "name": "stdout",
     "output_type": "stream",
     "text": [
      "2.484355451535901\n",
      "(119,)\n"
     ]
    }
   ],
   "source": [
    "from math import sqrt\n",
    "y_predicted_u = X_test_u.dot(theta_train_u)\n",
    "rms_n = (mean_squared_error(y_test_u, y_predicted_u))\n",
    "print(rms_n)\n",
    "\n",
    "import matplotlib.pyplot as plt\n",
    "print(y_predicted_u.shape)\n",
    "# plt.scatter(X_test_u , y_predicted_u)\n",
    "# plt.show()"
   ]
  },
  {
   "cell_type": "code",
   "execution_count": 636,
   "id": "f2997dae",
   "metadata": {},
   "outputs": [
    {
     "data": {
      "text/plain": [
       "0.7081053879784662"
      ]
     },
     "execution_count": 636,
     "metadata": {},
     "output_type": "execute_result"
    }
   ],
   "source": [
    "from sklearn.metrics import r2_score   \n",
    "r2_score(y_test_u, y_predicted_u)"
   ]
  },
  {
   "cell_type": "code",
   "execution_count": null,
   "id": "88141a42",
   "metadata": {},
   "outputs": [],
   "source": []
  },
  {
   "cell_type": "code",
   "execution_count": 637,
   "id": "4dabbb60",
   "metadata": {},
   "outputs": [],
   "source": [
    "                            #multi-variate with G1, G2 to predict G3"
   ]
  },
  {
   "cell_type": "code",
   "execution_count": 638,
   "id": "7d1f3ab5",
   "metadata": {},
   "outputs": [
    {
     "name": "stdout",
     "output_type": "stream",
     "text": [
      "Index(['G1', 'G2'], dtype='object')\n",
      "Index(['G3'], dtype='object')\n"
     ]
    }
   ],
   "source": [
    "import numpy as np\n",
    "import pandas as pd\n",
    "import matplotlib.pyplot as plt\n",
    "main_df = pd.read_csv(\"student.csv\")\n",
    "\n",
    "num_columns = len(main_df.columns)\n",
    "X_col = main_df[['G1','G2']]    #Taking G1, G2 because they have high correlation value with G3\n",
    "y_col = main_df[[\"G3\"]]\n",
    "print(X_col.columns)\n",
    "print(y_col.columns)\n",
    "\n"
   ]
  },
  {
   "cell_type": "code",
   "execution_count": 639,
   "id": "8d530a2b",
   "metadata": {},
   "outputs": [
    {
     "name": "stdout",
     "output_type": "stream",
     "text": [
      "(276, 2)\n",
      "(119, 2)\n",
      "(276,)\n",
      "(119,)\n"
     ]
    }
   ],
   "source": [
    "main_df = main_df.sample(frac=1)\n",
    "\n",
    "# Define a size for your train set \n",
    "train_size = int(0.7 * len(main_df))\n",
    "# Split your dataset\n",
    "X_m = X_col\n",
    "y_m = y_col\n",
    "X_train_m = X_m[:train_size]\n",
    "X_test_m = X_m[train_size:]\n",
    "\n",
    "y_train_m = y[:train_size]\n",
    "y_test_m = y[train_size:]\n",
    "\n",
    "#Lets create a matrix with single column of ones\n",
    "\n",
    "\n",
    "m = X_train_m.shape[0]\n",
    "n = X_test_m.shape[0]\n",
    "X_u0 = np.ones((m, 1))\n",
    "X_u0[:5]\n",
    "# X_train_m = X_train_m.reshape((m, 1))\n",
    "# X_test_m = X_test_m.reshape((n, 1))\n",
    "print(X_train_m.shape)\n",
    "print(X_test_m.shape)\n",
    "print(y_train_m.shape)\n",
    "print(y_test_m.shape)"
   ]
  },
  {
   "cell_type": "code",
   "execution_count": 640,
   "id": "7c199405",
   "metadata": {},
   "outputs": [
    {
     "name": "stdout",
     "output_type": "stream",
     "text": [
      "[[ 5  6]\n",
      " [ 5  5]\n",
      " [ 7  8]\n",
      " [15 14]\n",
      " [ 6 10]\n",
      " [15 15]\n",
      " [12 12]\n",
      " [ 6  5]\n",
      " [16 18]\n",
      " [14 15]\n",
      " [10  8]\n",
      " [10 12]\n",
      " [14 14]\n",
      " [10 10]\n",
      " [14 16]\n",
      " [14 14]\n",
      " [13 14]\n",
      " [ 8 10]\n",
      " [ 6  5]\n",
      " [ 8 10]\n",
      " [13 14]\n",
      " [12 15]\n",
      " [15 15]\n",
      " [13 13]\n",
      " [10  9]\n",
      " [ 6  9]\n",
      " [12 12]\n",
      " [15 16]\n",
      " [11 11]\n",
      " [10 12]\n",
      " [ 9 11]\n",
      " [17 16]\n",
      " [17 16]\n",
      " [ 8 10]\n",
      " [12 14]\n",
      " [ 8  7]\n",
      " [15 16]\n",
      " [15 16]\n",
      " [12 12]\n",
      " [14 13]\n",
      " [ 7 10]\n",
      " [12 12]\n",
      " [19 18]\n",
      " [ 8  8]\n",
      " [10 10]\n",
      " [ 8  8]\n",
      " [11 12]\n",
      " [19 19]\n",
      " [15 15]\n",
      " [ 7  7]\n",
      " [12 13]\n",
      " [11 13]\n",
      " [11 11]\n",
      " [ 8 10]\n",
      " [10 13]\n",
      " [ 8  9]\n",
      " [14 15]\n",
      " [14 15]\n",
      " [ 9 10]\n",
      " [15 16]\n",
      " [10 11]\n",
      " [10  8]\n",
      " [ 8 10]\n",
      " [10  9]\n",
      " [10 10]\n",
      " [16 15]\n",
      " [13 13]\n",
      " [ 7  7]\n",
      " [ 8  9]\n",
      " [16 16]\n",
      " [13 15]\n",
      " [10 10]\n",
      " [ 8  6]\n",
      " [12 12]\n",
      " [11 12]\n",
      " [ 9  9]\n",
      " [11 11]\n",
      " [11 11]\n",
      " [ 8  8]\n",
      " [ 5  5]\n",
      " [10 12]\n",
      " [11 10]\n",
      " [ 7  6]\n",
      " [15 15]\n",
      " [ 9 10]\n",
      " [ 7  9]\n",
      " [ 8  7]\n",
      " [13 14]\n",
      " [11 10]\n",
      " [ 8  6]\n",
      " [ 7  7]\n",
      " [16 17]\n",
      " [ 7  6]\n",
      " [11 10]\n",
      " [11 13]\n",
      " [ 7 10]\n",
      " [11 15]\n",
      " [ 8  9]\n",
      " [11 14]\n",
      " [ 7  9]\n",
      " [ 7  7]\n",
      " [16 17]\n",
      " [10 13]\n",
      " [ 7  6]\n",
      " [16 18]\n",
      " [10 11]\n",
      " [ 7  8]\n",
      " [16 18]\n",
      " [10 13]\n",
      " [14 15]\n",
      " [18 19]\n",
      " [ 7 10]\n",
      " [10 13]\n",
      " [18 19]\n",
      " [ 9  9]\n",
      " [15 15]\n",
      " [11 13]\n",
      " [13 14]\n",
      " [ 9  7]\n",
      " [14 13]\n",
      " [16 15]\n",
      " [16 14]\n",
      " [13 13]\n",
      " [14 11]\n",
      " [ 8  7]\n",
      " [13 13]\n",
      " [ 7 10]\n",
      " [ 7  8]\n",
      " [ 7  4]\n",
      " [18 18]\n",
      " [12  0]\n",
      " [ 8  0]\n",
      " [10 13]\n",
      " [12 11]\n",
      " [ 9  0]\n",
      " [11  0]\n",
      " [10  0]\n",
      " [ 4  0]\n",
      " [14 12]\n",
      " [16 16]\n",
      " [ 7  9]\n",
      " [ 9  9]\n",
      " [ 9 11]\n",
      " [14 14]\n",
      " [ 5  0]\n",
      " [ 8 11]\n",
      " [ 6  7]\n",
      " [10 11]\n",
      " [ 7  6]\n",
      " [ 8  9]\n",
      " [ 6  5]\n",
      " [12 13]\n",
      " [10 10]\n",
      " [ 5  0]\n",
      " [11 11]\n",
      " [11  8]\n",
      " [16 12]\n",
      " [ 9  8]\n",
      " [17 15]\n",
      " [10 12]\n",
      " [ 7  6]\n",
      " [ 5  9]\n",
      " [ 7  0]\n",
      " [10 10]\n",
      " [ 5  8]\n",
      " [12 11]\n",
      " [10 10]\n",
      " [14 15]\n",
      " [ 6  7]\n",
      " [14 14]\n",
      " [ 6  5]\n",
      " [13 15]\n",
      " [13 11]\n",
      " [ 8  7]\n",
      " [10 11]\n",
      " [10  9]\n",
      " [13 13]\n",
      " [ 6  5]\n",
      " [10  8]\n",
      " [10 10]\n",
      " [ 9  8]\n",
      " [12 13]\n",
      " [16 17]\n",
      " [ 9  9]\n",
      " [12 13]\n",
      " [12 12]\n",
      " [11 12]\n",
      " [15 15]\n",
      " [ 8  7]\n",
      " [ 8  9]\n",
      " [11 12]\n",
      " [ 8  8]\n",
      " [ 7  8]\n",
      " [ 8  9]\n",
      " [13 14]\n",
      " [14 15]\n",
      " [17 15]\n",
      " [ 9  9]\n",
      " [18 18]\n",
      " [ 9  9]\n",
      " [16 16]\n",
      " [ 8 10]\n",
      " [ 9  9]\n",
      " [ 7  6]\n",
      " [10 10]\n",
      " [10  9]\n",
      " [ 7  7]\n",
      " [11 12]\n",
      " [ 9  9]\n",
      " [ 7  7]\n",
      " [ 8  8]\n",
      " [12 12]\n",
      " [12 13]\n",
      " [ 6  7]\n",
      " [ 8 10]\n",
      " [14 15]\n",
      " [ 6  6]\n",
      " [ 6  6]\n",
      " [ 7  7]\n",
      " [ 9 10]\n",
      " [ 6  6]\n",
      " [ 6  5]\n",
      " [16 16]\n",
      " [12 13]\n",
      " [13 13]\n",
      " [ 9  8]\n",
      " [16 15]\n",
      " [12 11]\n",
      " [10  8]\n",
      " [12 10]\n",
      " [13 13]\n",
      " [11 11]\n",
      " [11  9]\n",
      " [14 13]\n",
      " [ 9  7]\n",
      " [11  9]\n",
      " [14 13]\n",
      " [13 12]\n",
      " [13 11]\n",
      " [ 7  7]\n",
      " [12 12]\n",
      " [10 11]\n",
      " [ 6  0]\n",
      " [13 12]\n",
      " [ 7  0]\n",
      " [18 18]\n",
      " [12 12]\n",
      " [ 6  8]\n",
      " [ 3  5]\n",
      " [13 15]\n",
      " [ 6  8]\n",
      " [ 7 10]\n",
      " [ 6  9]\n",
      " [ 8  9]\n",
      " [ 8 12]\n",
      " [ 7  9]\n",
      " [14 12]\n",
      " [11 11]\n",
      " [15 14]\n",
      " [10  9]\n",
      " [17 18]\n",
      " [ 8  8]\n",
      " [13 12]\n",
      " [10  9]\n",
      " [ 9 10]\n",
      " [17 17]\n",
      " [ 9  9]\n",
      " [12 10]\n",
      " [10  9]\n",
      " [ 6  0]\n",
      " [ 9  9]\n",
      " [15 14]\n",
      " [11 11]\n",
      " [15 14]\n",
      " [10 10]\n",
      " [12 12]]\n"
     ]
    }
   ],
   "source": [
    "print(X_train_m.values)"
   ]
  },
  {
   "cell_type": "code",
   "execution_count": 641,
   "id": "13d32d72",
   "metadata": {
    "scrolled": true
   },
   "outputs": [
    {
     "name": "stdout",
     "output_type": "stream",
     "text": [
      "[[ 5.  6.  1.]\n",
      " [ 5.  5.  1.]\n",
      " [ 7.  8.  1.]\n",
      " [15. 14.  1.]\n",
      " [ 6. 10.  1.]\n",
      " [15. 15.  1.]\n",
      " [12. 12.  1.]\n",
      " [ 6.  5.  1.]\n",
      " [16. 18.  1.]\n",
      " [14. 15.  1.]\n",
      " [10.  8.  1.]\n",
      " [10. 12.  1.]\n",
      " [14. 14.  1.]\n",
      " [10. 10.  1.]\n",
      " [14. 16.  1.]\n",
      " [14. 14.  1.]\n",
      " [13. 14.  1.]\n",
      " [ 8. 10.  1.]\n",
      " [ 6.  5.  1.]\n",
      " [ 8. 10.  1.]\n",
      " [13. 14.  1.]\n",
      " [12. 15.  1.]\n",
      " [15. 15.  1.]\n",
      " [13. 13.  1.]\n",
      " [10.  9.  1.]\n",
      " [ 6.  9.  1.]\n",
      " [12. 12.  1.]\n",
      " [15. 16.  1.]\n",
      " [11. 11.  1.]\n",
      " [10. 12.  1.]\n",
      " [ 9. 11.  1.]\n",
      " [17. 16.  1.]\n",
      " [17. 16.  1.]\n",
      " [ 8. 10.  1.]\n",
      " [12. 14.  1.]\n",
      " [ 8.  7.  1.]\n",
      " [15. 16.  1.]\n",
      " [15. 16.  1.]\n",
      " [12. 12.  1.]\n",
      " [14. 13.  1.]\n",
      " [ 7. 10.  1.]\n",
      " [12. 12.  1.]\n",
      " [19. 18.  1.]\n",
      " [ 8.  8.  1.]\n",
      " [10. 10.  1.]\n",
      " [ 8.  8.  1.]\n",
      " [11. 12.  1.]\n",
      " [19. 19.  1.]\n",
      " [15. 15.  1.]\n",
      " [ 7.  7.  1.]\n",
      " [12. 13.  1.]\n",
      " [11. 13.  1.]\n",
      " [11. 11.  1.]\n",
      " [ 8. 10.  1.]\n",
      " [10. 13.  1.]\n",
      " [ 8.  9.  1.]\n",
      " [14. 15.  1.]\n",
      " [14. 15.  1.]\n",
      " [ 9. 10.  1.]\n",
      " [15. 16.  1.]\n",
      " [10. 11.  1.]\n",
      " [10.  8.  1.]\n",
      " [ 8. 10.  1.]\n",
      " [10.  9.  1.]\n",
      " [10. 10.  1.]\n",
      " [16. 15.  1.]\n",
      " [13. 13.  1.]\n",
      " [ 7.  7.  1.]\n",
      " [ 8.  9.  1.]\n",
      " [16. 16.  1.]\n",
      " [13. 15.  1.]\n",
      " [10. 10.  1.]\n",
      " [ 8.  6.  1.]\n",
      " [12. 12.  1.]\n",
      " [11. 12.  1.]\n",
      " [ 9.  9.  1.]\n",
      " [11. 11.  1.]\n",
      " [11. 11.  1.]\n",
      " [ 8.  8.  1.]\n",
      " [ 5.  5.  1.]\n",
      " [10. 12.  1.]\n",
      " [11. 10.  1.]\n",
      " [ 7.  6.  1.]\n",
      " [15. 15.  1.]\n",
      " [ 9. 10.  1.]\n",
      " [ 7.  9.  1.]\n",
      " [ 8.  7.  1.]\n",
      " [13. 14.  1.]\n",
      " [11. 10.  1.]\n",
      " [ 8.  6.  1.]\n",
      " [ 7.  7.  1.]\n",
      " [16. 17.  1.]\n",
      " [ 7.  6.  1.]\n",
      " [11. 10.  1.]\n",
      " [11. 13.  1.]\n",
      " [ 7. 10.  1.]\n",
      " [11. 15.  1.]\n",
      " [ 8.  9.  1.]\n",
      " [11. 14.  1.]\n",
      " [ 7.  9.  1.]\n",
      " [ 7.  7.  1.]\n",
      " [16. 17.  1.]\n",
      " [10. 13.  1.]\n",
      " [ 7.  6.  1.]\n",
      " [16. 18.  1.]\n",
      " [10. 11.  1.]\n",
      " [ 7.  8.  1.]\n",
      " [16. 18.  1.]\n",
      " [10. 13.  1.]\n",
      " [14. 15.  1.]\n",
      " [18. 19.  1.]\n",
      " [ 7. 10.  1.]\n",
      " [10. 13.  1.]\n",
      " [18. 19.  1.]\n",
      " [ 9.  9.  1.]\n",
      " [15. 15.  1.]\n",
      " [11. 13.  1.]\n",
      " [13. 14.  1.]\n",
      " [ 9.  7.  1.]\n",
      " [14. 13.  1.]\n",
      " [16. 15.  1.]\n",
      " [16. 14.  1.]\n",
      " [13. 13.  1.]\n",
      " [14. 11.  1.]\n",
      " [ 8.  7.  1.]\n",
      " [13. 13.  1.]\n",
      " [ 7. 10.  1.]\n",
      " [ 7.  8.  1.]\n",
      " [ 7.  4.  1.]\n",
      " [18. 18.  1.]\n",
      " [12.  0.  1.]\n",
      " [ 8.  0.  1.]\n",
      " [10. 13.  1.]\n",
      " [12. 11.  1.]\n",
      " [ 9.  0.  1.]\n",
      " [11.  0.  1.]\n",
      " [10.  0.  1.]\n",
      " [ 4.  0.  1.]\n",
      " [14. 12.  1.]\n",
      " [16. 16.  1.]\n",
      " [ 7.  9.  1.]\n",
      " [ 9.  9.  1.]\n",
      " [ 9. 11.  1.]\n",
      " [14. 14.  1.]\n",
      " [ 5.  0.  1.]\n",
      " [ 8. 11.  1.]\n",
      " [ 6.  7.  1.]\n",
      " [10. 11.  1.]\n",
      " [ 7.  6.  1.]\n",
      " [ 8.  9.  1.]\n",
      " [ 6.  5.  1.]\n",
      " [12. 13.  1.]\n",
      " [10. 10.  1.]\n",
      " [ 5.  0.  1.]\n",
      " [11. 11.  1.]\n",
      " [11.  8.  1.]\n",
      " [16. 12.  1.]\n",
      " [ 9.  8.  1.]\n",
      " [17. 15.  1.]\n",
      " [10. 12.  1.]\n",
      " [ 7.  6.  1.]\n",
      " [ 5.  9.  1.]\n",
      " [ 7.  0.  1.]\n",
      " [10. 10.  1.]\n",
      " [ 5.  8.  1.]\n",
      " [12. 11.  1.]\n",
      " [10. 10.  1.]\n",
      " [14. 15.  1.]\n",
      " [ 6.  7.  1.]\n",
      " [14. 14.  1.]\n",
      " [ 6.  5.  1.]\n",
      " [13. 15.  1.]\n",
      " [13. 11.  1.]\n",
      " [ 8.  7.  1.]\n",
      " [10. 11.  1.]\n",
      " [10.  9.  1.]\n",
      " [13. 13.  1.]\n",
      " [ 6.  5.  1.]\n",
      " [10.  8.  1.]\n",
      " [10. 10.  1.]\n",
      " [ 9.  8.  1.]\n",
      " [12. 13.  1.]\n",
      " [16. 17.  1.]\n",
      " [ 9.  9.  1.]\n",
      " [12. 13.  1.]\n",
      " [12. 12.  1.]\n",
      " [11. 12.  1.]\n",
      " [15. 15.  1.]\n",
      " [ 8.  7.  1.]\n",
      " [ 8.  9.  1.]\n",
      " [11. 12.  1.]\n",
      " [ 8.  8.  1.]\n",
      " [ 7.  8.  1.]\n",
      " [ 8.  9.  1.]\n",
      " [13. 14.  1.]\n",
      " [14. 15.  1.]\n",
      " [17. 15.  1.]\n",
      " [ 9.  9.  1.]\n",
      " [18. 18.  1.]\n",
      " [ 9.  9.  1.]\n",
      " [16. 16.  1.]\n",
      " [ 8. 10.  1.]\n",
      " [ 9.  9.  1.]\n",
      " [ 7.  6.  1.]\n",
      " [10. 10.  1.]\n",
      " [10.  9.  1.]\n",
      " [ 7.  7.  1.]\n",
      " [11. 12.  1.]\n",
      " [ 9.  9.  1.]\n",
      " [ 7.  7.  1.]\n",
      " [ 8.  8.  1.]\n",
      " [12. 12.  1.]\n",
      " [12. 13.  1.]\n",
      " [ 6.  7.  1.]\n",
      " [ 8. 10.  1.]\n",
      " [14. 15.  1.]\n",
      " [ 6.  6.  1.]\n",
      " [ 6.  6.  1.]\n",
      " [ 7.  7.  1.]\n",
      " [ 9. 10.  1.]\n",
      " [ 6.  6.  1.]\n",
      " [ 6.  5.  1.]\n",
      " [16. 16.  1.]\n",
      " [12. 13.  1.]\n",
      " [13. 13.  1.]\n",
      " [ 9.  8.  1.]\n",
      " [16. 15.  1.]\n",
      " [12. 11.  1.]\n",
      " [10.  8.  1.]\n",
      " [12. 10.  1.]\n",
      " [13. 13.  1.]\n",
      " [11. 11.  1.]\n",
      " [11.  9.  1.]\n",
      " [14. 13.  1.]\n",
      " [ 9.  7.  1.]\n",
      " [11.  9.  1.]\n",
      " [14. 13.  1.]\n",
      " [13. 12.  1.]\n",
      " [13. 11.  1.]\n",
      " [ 7.  7.  1.]\n",
      " [12. 12.  1.]\n",
      " [10. 11.  1.]\n",
      " [ 6.  0.  1.]\n",
      " [13. 12.  1.]\n",
      " [ 7.  0.  1.]\n",
      " [18. 18.  1.]\n",
      " [12. 12.  1.]\n",
      " [ 6.  8.  1.]\n",
      " [ 3.  5.  1.]\n",
      " [13. 15.  1.]\n",
      " [ 6.  8.  1.]\n",
      " [ 7. 10.  1.]\n",
      " [ 6.  9.  1.]\n",
      " [ 8.  9.  1.]\n",
      " [ 8. 12.  1.]\n",
      " [ 7.  9.  1.]\n",
      " [14. 12.  1.]\n",
      " [11. 11.  1.]\n",
      " [15. 14.  1.]\n",
      " [10.  9.  1.]\n",
      " [17. 18.  1.]\n",
      " [ 8.  8.  1.]\n",
      " [13. 12.  1.]\n",
      " [10.  9.  1.]\n",
      " [ 9. 10.  1.]\n",
      " [17. 17.  1.]\n",
      " [ 9.  9.  1.]\n",
      " [12. 10.  1.]\n",
      " [10.  9.  1.]\n",
      " [ 6.  0.  1.]\n",
      " [ 9.  9.  1.]\n",
      " [15. 14.  1.]\n",
      " [11. 11.  1.]\n",
      " [15. 14.  1.]\n",
      " [10. 10.  1.]\n",
      " [12. 12.  1.]]\n",
      "theta:  (3,)\n",
      "X:  (276, 3)\n"
     ]
    }
   ],
   "source": [
    "X_0 = np.ones((m, 1))\n",
    "X_train_m = np.hstack((X_train_m, X_0))\n",
    "print(X_train_m)\n",
    "              \n",
    "theta_m = np.zeros(3)\n",
    "print(\"theta: \", theta_m.shape)\n",
    "print(\"X: \", X_train_m.shape)\n",
    "\n"
   ]
  },
  {
   "cell_type": "code",
   "execution_count": 642,
   "id": "03d2592a",
   "metadata": {},
   "outputs": [
    {
     "name": "stdout",
     "output_type": "stream",
     "text": [
      "(276,)\n",
      "[ 6  6 10 15 10 15 11  6 19 15  9 12 14 11 16 14 14 10  5 10 15 15 16 12\n",
      "  8  8 11 15 11 11 12 17 16 12 15  6 18 15 11 13 11 12 18 11  9  6 11 20\n",
      " 14  7 13 13 10 11 13 10 15 15  9 16 11 11  9  9 10 15 12  6  8 16 15 10\n",
      "  5 14 11 10 10 11 10  5 12 11  6 15 10  8  6 14 10  7  8 18  6 10 14 10\n",
      " 15 10 14  8  5 17 14  6 18 11  8 18 13 16 19 10 13 19  9 16 14 13  8 13\n",
      " 15 15 13 13  8 12 11  9  0 18  0  0 12 11  0  0  0  0 12 15  0  9 11 13\n",
      "  0 11  0 11  0 10  0 14 10  0 12  8 13 10 15 12  0  7  0 10  7 12 10 16\n",
      "  0 14  0 16 10  0  9  9 11  6  9 11  8 12 17  8 12 11 11 15  9 10 13  9\n",
      "  8 10 14 15 16 10 18 10 16 10 10  6 11  9  7 13 10  7  8 13 14  8 10 15\n",
      "  4  8  8 10  6  0 17 13 14  7 15 12  9 12 14 11  9 13  6 10 13 12 11  0\n",
      " 12 12  0 12  0 18 13  8  5 15  8 10  8  8 12  8 13 11 14  0 18  8 12  9\n",
      "  0 17 10 11 10  0  9 14 11 14 10 12]\n"
     ]
    }
   ],
   "source": [
    "print(y_train_m.shape)\n",
    "print(y_train_m.values)\n"
   ]
  },
  {
   "cell_type": "code",
   "execution_count": 643,
   "id": "51331216",
   "metadata": {},
   "outputs": [],
   "source": [
    "def mse(X, y, theta_m):\n",
    "    predictions = X.dot(theta_m)\n",
    "    errors = np.subtract(predictions, y)\n",
    "    sqrErrors = np.square(errors)     \n",
    "    J = 1 / (2 * m) * np.sum(sqrErrors)\n",
    "    return J"
   ]
  },
  {
   "cell_type": "code",
   "execution_count": 644,
   "id": "8dcf5450",
   "metadata": {
    "scrolled": true
   },
   "outputs": [
    {
     "name": "stdout",
     "output_type": "stream",
     "text": [
      "The cost for given values of theta_0 and theta_1 = 64.78985507246377\n"
     ]
    }
   ],
   "source": [
    "cost = mse(X_train_m, y_train_m, theta_m)\n",
    "print('The cost for given values of theta_0 and theta_1 =', cost)"
   ]
  },
  {
   "cell_type": "code",
   "execution_count": 645,
   "id": "1fd67896",
   "metadata": {},
   "outputs": [],
   "source": [
    "def gradient_descent(X, y, theta_m, alpha, iterations):\n",
    "    cost_history = []\n",
    "    for i in range(iterations):\n",
    "        predictions = X.dot(theta_m)\n",
    "        errors = np.subtract(predictions, y)\n",
    "        sum_delta = (alpha / m) * X.transpose().dot(errors);\n",
    "        theta_m = theta_m - sum_delta;\n",
    "        cost_history.append(mse(X, y, theta_m)) \n",
    "    return theta_m, cost_history"
   ]
  },
  {
   "cell_type": "code",
   "execution_count": 646,
   "id": "ec77d96b",
   "metadata": {},
   "outputs": [
    {
     "name": "stdout",
     "output_type": "stream",
     "text": [
      "Final value of theta =\n",
      "[0.31601261 0.68286553 0.0044449 ]\n",
      "cost_history = [61.67823012005337, 58.72081972828169, 55.90998028020558, 53.238447013672136, 50.69931524343447, 48.286022513990844, 45.99233163701575, 43.81231456953827, 41.740337091196366, 39.77104424096073, 37.89934647568547, 36.12040651470832, 34.42962683649625, 32.82263779501808, 31.295286325127577, 29.843625207762415, 28.46390286721217, 27.152553674083258, 25.90618872889603, 24.721587102491565, 23.595687510606485, 22.52558040109628, 21.50850043335431, 20.541819330487286, 19.623039085771747, 18.74978550583146, 17.91980207384642, 17.130944116930966, 16.38117326260498, 15.668552170029331, 14.99123952238687, 14.347485267465363, 13.735626094140262, 13.154081133064938, 12.601347870455637, 12.075998264409089, 11.576675053714265, 11.102088249617392, 10.651011801472114, 10.222280427656246, 9.814786603563679, 9.427477698886053, 9.059353256784647, 8.709462407919734, 8.376901412653215, 8.060811325071612, 7.760375772791451, 7.474818846808267, 7.203403095934932, 6.945427620645411, 6.700226261396808, 6.467165876747056, 6.245644706817385, 6.035090817869596, 5.8349606239776195, 5.6447374819722045, 5.463930356027011, 5.292072548434256, 5.128720493289329, 4.973452609966225, 4.825868213420338, 4.685586478501905, 4.552245455603141, 4.425501135094667, 4.305026558133016, 4.190510971540847, 4.081659024575395, 3.9781900055089734, 3.8798371160482716, 3.78634678171695, 3.6974779964190057, 3.6130016994888043, 3.5327001836174943, 3.456366532125499, 3.383804084126489, 3.3148259262004593, 3.249254409261923, 3.1869206893744915, 3.127664291324905, 3.071332693828453, 3.0177809352936364, 2.9668712391270358, 2.9184726576099034, 2.8724607334259598, 2.828717177965512, 2.7871295655743804, 2.747591042957348, 2.710000052984967, 2.6742600721898646, 2.640279361273987, 2.607970727981925, 2.5772513017273924, 2.548042319390312, 2.5202689217308207, 2.4938599598940208, 2.468747811505255, 2.4448682058806277, 2.4221600579009186, 2.400565310119528, 2.380028782696308, 2.360498030769405, 2.3419232088964588, 2.3242569422147303, 2.307454203987186, 2.2914721992179716, 2.27627025403648, 2.261809710564081, 2.2480538269917667, 2.2349676826104283, 2.2225180875482997, 2.210673496982253, 2.1994039296011954, 2.188680890110818, 2.1784772955793827, 2.1687674054341732, 2.159526754927668, 2.150732091901434, 2.14236131668433, 2.1343934249696352, 2.12680845352347, 2.1195874285841656, 2.112712316819219, 2.1061659787130496, 2.0999321242651003, 2.0939952708837377, 2.088340703367149, 2.0829544358677756, 2.0778231757419694, 2.072934289191446, 2.068275768607706, 2.0638362015350262, 2.0596047411718015, 2.055571078333977, 2.051725414808111, 2.0480584380251945, 2.0445612969897486, 2.041225579402003, 2.038043289914006, 2.035006829463465, 2.03210897563191, 2.0293428639763933, 2.0267019702864846, 2.024180093720699, 2.021771340778758, 2.0194701100682697, 2.0172710778264418, 2.015169184159416, 2.0131596199636363, 2.0112378144954692, 2.0093994235569266, 2.007640318266964, 2.0059565743893315, 2.0043444621893785, 2.0028004367936174, 2.001321129027101, 1.9999033367049566, 1.998544016355543, 1.9972402753538543, 1.995989364444831, 1.9947886706372469, 1.9936357104498152, 1.9925281234920453, 1.99146366636327, 1.9904402068540594, 1.9894557184350448, 1.988508275018903, 1.9875960459819613, 1.9867172914325595, 1.985870357713925, 1.9850536731299615, 1.9842657438828757, 1.9835051502121621, 1.9827705427249571, 1.9820606389082769, 1.9813742198141258, 1.980710126908912, 1.9800672590790123, 1.979444569784765, 1.978841064355516, 1.9782557974187451, 1.9776878704566077, 1.9771364294835936, 1.9766006628392876, 1.976079799090535, 1.9755731050375818, 1.9750798838190455, 1.9745994731108094, 1.9741312434141867, 1.9736745964289384, 1.9732289635069227, 1.9727938041823985, 1.972368604775169, 1.9719528770629584, 1.9715461570195985, 1.9711480036157492, 1.9707579976790714, 1.9703757408108817, 1.9700008543565164, 1.9696329784267192, 1.9692717709675396, 1.968916906876329, 1.9685680771615517, 1.9682249881442464, 1.967887360699054, 1.9675549295328771, 1.967227442499286, 1.9669046599469058, 1.9665863541001027, 1.9662723084703675, 1.9659623172968685, 1.965656185014741, 1.9653537257497218, 1.9650547628378439, 1.9647591283689239, 1.964466662752686, 1.9641772143063905, 1.9638906388628943, 1.9636067993981459, 1.9633255656771402, 1.9630468139174202, 1.9627704264692591, 1.9624962915116946, 1.9622243027636255, 1.9619543592092334, 1.9616863648370102, 1.9614202283917204, 1.9611558631386572, 1.9608931866395887, 1.9606321205398007, 1.9603725903656999, 1.960114525332449, 1.9598578581611348, 1.9596025249049978, 1.959348464784277, 1.959095620029237, 1.958843935730982, 1.9585933596996554, 1.958343842329673, 1.9580953364716391, 1.9578477973106005, 1.9576011822503476, 1.9573554508034394, 1.9571105644866873, 1.956866486721812, 1.956623182741031, 1.9563806194973226, 1.956138765579137, 1.9558975911293344, 1.9556570677681462, 1.955417168519944, 1.955177867743651, 1.9549391410665935, 1.9547009653216327, 1.954463318487417, 1.9542261796315887, 1.9539895288568117, 1.9537533472494726, 1.9535176168309214, 1.9532823205111318, 1.9530474420446609, 1.9528129659887838, 1.9525788776637139, 1.9523451631147826, 1.952111809076506, 1.9518788029384226, 1.9516461327126313, 1.951413787002934, 1.9511817549755082, 1.950950026331037, 1.950718591278214, 1.9504874405085668, 1.9502565651725279, 1.9500259568566882, 1.9497956075621792, 1.9495655096841327, 1.9493356559921458, 1.949106039611728, 1.9488766540066573, 1.9486474929622206, 1.948418550569273, 1.9481898212090967, 1.9479612995390077, 1.9477329804786732, 1.947504859197112, 1.9472769311003357, 1.9470491918196011, 1.9468216372002491, 1.946594263291097, 1.9463670663343489, 1.946140042756017, 1.9459131891568082, 1.9456865023034706, 1.9454599791205613, 1.945233616682627, 1.945007412206771, 1.9447813630455901, 1.9445554666804565, 1.9443297207151409, 1.9441041228697402, 1.9438786709749223, 1.9436533629664372, 1.9434281968799172, 1.943203170845922, 1.9429782830852398, 1.9427535319044114, 1.9425289156914844, 1.942304432911972, 1.9420800821050186, 1.9418558618797475, 1.9416317709117925, 1.941407807940008, 1.9411839717633321, 1.9409602612378107, 1.9407366752737691, 1.9405132128331224, 1.9402898729268172, 1.9400666546124063, 1.939843556991739, 1.9396205792087633, 1.9393977204474446, 1.939174979929781, 1.9389523569139206, 1.9387298506923702, 1.9385074605902932, 1.9382851859638917, 1.9380630261988718, 1.9378409807089798, 1.937619048934614, 1.937397230341504, 1.93717552441946, 1.9369539306811756, 1.9367324486610982, 1.93651107791435, 1.9362898180157047, 1.936068668558615, 1.9358476291542888, 1.9356266994308082, 1.9354058790322952, 1.9351851676181187, 1.93496456486214, 1.9347440704519923, 1.934523684088403, 1.9343034054845465, 1.9340832343654226, 1.9338631704672793, 1.9336432135370487, 1.9334233633318247, 1.933203619618358, 1.9329839821725774, 1.9327644507791373, 1.9325450252309884, 1.9323257053289637, 1.932106490881391, 1.931887381703721, 1.9316683776181802, 1.9314494784534288, 1.93123068404425, 1.931011994231241, 1.9307934088605319, 1.9305749277835096, 1.9303565508565586, 1.9301382779408138, 1.9299201089019284, 1.9297020436098484, 1.9294840819386025, 1.929266223766102, 1.9290484689739447, 1.9288308174472393, 1.9286132690744293, 1.9283958237471295, 1.928178481359969, 1.9279612418104426, 1.9277441049987745, 1.9275270708277767, 1.9273101392027274, 1.9270933100312482, 1.926876583223189, 1.926659958690519, 1.9264434363472207, 1.9262270161091954, 1.9260106978941647, 1.9257944816215846, 1.925578367212559, 1.9253623545897605, 1.9251464436773515, 1.9249306344009132, 1.9247149266873766, 1.9244993204649556, 1.924283815663086, 1.924068412212363, 1.9238531100444887, 1.9236379090922162, 1.9234228092892973, 1.9232078105704384, 1.9229929128712502, 1.922778116128205, 1.9225634202785962, 1.9223488252604972, 1.9221343310127252, 1.9219199374748055, 1.9217056445869358, 1.921491452289955, 1.9212773605253135, 1.9210633692350412, 1.9208494783617238, 1.920635687848473, 1.9204219976389028, 1.9202084076771058, 1.9199949179076305, 1.9197815282754604, 1.9195682387259914, 1.9193550492050144, 1.9191419596586967, 1.9189289700335639, 1.9187160802764822, 1.9185032903346462, 1.9182906001555593, 1.9180780096870216, 1.9178655188771174, 1.9176531276741995, 1.9174408360268789, 1.9172286438840123, 1.917016551194693, 1.9168045579082358, 1.9165926639741726, 1.916380869342237, 1.916169173962361, 1.915957577784663, 1.9157460807594389, 1.915534682837158, 1.9153233839684507, 1.9151121841041063, 1.9149010831950626, 1.9146900811924015, 1.914479178047343, 1.914268373711238, 1.9140576681355643, 1.9138470612719207, 1.9136365530720225, 1.9134261434876971, 1.9132158324708768, 1.9130056199735999, 1.9127955059480015, 1.9125854903463115, 1.9123755731208525, 1.912165754224035, 1.9119560336083525, 1.9117464112263813, 1.9115368870307774, 1.9113274609742685, 1.9111181330096612, 1.9109089030898276, 1.9106997711677098, 1.910490737196316, 1.9102818011287173, 1.9100729629180466, 1.9098642225174962, 1.9096555798803159, 1.9094470349598125, 1.9092385877093443, 1.9090302380823256, 1.9088219860322182, 1.908613831512536, 1.9084057744768395, 1.9081978148787369, 1.907989952671881, 1.9077821878099712, 1.9075745202467467, 1.9073669499359907, 1.9071594768315288, 1.9069521008872234, 1.9067448220569803, 1.9065376402947396, 1.9063305555544805, 1.9061235677902204, 1.9059166769560096, 1.9057098830059362, 1.905503185894121, 1.90529658557472, 1.9050900820019214, 1.9048836751299478, 1.9046773649130504, 1.9044711513055155, 1.9042650342616585, 1.9040590137358255, 1.9038530896823938, 1.9036472620557692, 1.9034415308103863, 1.9032358959007112, 1.9030303572812337, 1.9028249149064775, 1.9026195687309886, 1.902414318709345, 1.9022091647961474, 1.9020041069460278, 1.9017991451136413, 1.9015942792536706, 1.9013895093208237, 1.9011848352698364, 1.9009802570554672, 1.900775774632502, 1.9005713879557509, 1.9003670969800488, 1.9001629016602568, 1.899958801951257, 1.89975479780796, 1.8995508891852992, 1.89934707603823, 1.8991433583217339, 1.8989397359908156, 1.8987362090005035, 1.8985327773058494, 1.8983294408619276, 1.898126199623836, 1.8979230535466982, 1.8977200025856564, 1.8975170466958784, 1.897314185832555, 1.8971114199508983, 1.896908749006144, 1.8967061729535497, 1.8965036917483966, 1.8963013053459865, 1.8960990137016451, 1.8958968167707193, 1.8956947145085792, 1.8954927068706164, 1.8952907938122434, 1.8950889752888964, 1.8948872512560329, 1.8946856216691323, 1.8944840864836963, 1.8942826456552464, 1.8940812991393279, 1.8938800468915065, 1.8936788888673715, 1.8934778250225306, 1.8932768553126156, 1.8930759796932788, 1.892875198120194, 1.8926745105490559, 1.892473916935582, 1.8922734172355096, 1.892073011404598, 1.8918726993986283, 1.8916724811734018, 1.891472356684741, 1.8912723258884907, 1.8910723887405159, 1.8908725451967037, 1.8906727952129605, 1.8904731387452158, 1.8902735757494182, 1.8900741061815398, 1.8898747299975711, 1.8896754471535244, 1.8894762576054345, 1.889277161309355, 1.8890781582213623, 1.888879248297551, 1.8886804314940397, 1.8884817077669669, 1.8882830770724894, 1.8880845393667893, 1.887886094606065, 1.8876877427465395, 1.887489483744454, 1.8872913175560706, 1.8870932441376733, 1.886895263445567, 1.886697375436076, 1.886499580065547, 1.886301877290344, 1.8861042670668557, 1.8859067493514887, 1.8857093241006726, 1.8855119912708551, 1.8853147508185055, 1.8851176027001144, 1.8849205468721915, 1.884723583291269, 1.8845267119138975, 1.88432993269665, 1.884133245596119, 1.8839366505689175, 1.8837401475716788, 1.883543736561058, 1.8833474174937286, 1.8831511903263867, 1.8829550550157474, 1.8827590115185473, 1.8825630597915415, 1.8823671997915086, 1.8821714314752442, 1.8819757547995666, 1.8817801697213132, 1.8815846761973432, 1.8813892741845346, 1.881193963639787, 1.8809987445200194, 1.8808036167821711, 1.8806085803832027, 1.8804136352800944, 1.8802187814298463, 1.8800240187894801, 1.8798293473160363, 1.8796347669665763, 1.8794402776981813, 1.879245879467954, 1.879051572233016, 1.8788573559505095, 1.8786632305775979, 1.8784691960714628, 1.8782752523893076, 1.8780813994883543, 1.877887637325848, 1.8776939658590504, 1.877500385045246, 1.8773068948417377, 1.8771134952058501, 1.8769201860949265, 1.876726967466331, 1.8765338392774473, 1.8763408014856808, 1.8761478540484544, 1.875954996923213, 1.875762230067421, 1.8755695534385621, 1.8753769669941411, 1.8751844706916836, 1.8749920644887323, 1.8747997483428531, 1.8746075222116292, 1.874415386052666, 1.8742233398235884, 1.8740313834820386, 1.8738395169856832, 1.8736477402922054, 1.8734560533593099, 1.8732644561447205, 1.8730729486061826, 1.8728815307014577, 1.8726902023883318, 1.872498963624608, 1.87230781436811, 1.8721167545766815, 1.871925784208186, 1.8717349032205055, 1.8715441115715454, 1.8713534092192265, 1.871162796121493, 1.8709722722363071, 1.8707818375216507, 1.8705914919355255, 1.8704012354359556, 1.8702110679809805, 1.870020989528663, 1.8698310000370846, 1.8696410994643446, 1.8694512877685656, 1.8692615649078876, 1.8690719308404704, 1.8688823855244938, 1.868692928918158, 1.868503560979682, 1.868314281667305, 1.8681250909392852, 1.867935988753902, 1.8677469750694522, 1.8675580498442537, 1.8673692130366442, 1.8671804646049805, 1.866991804507639, 1.8668032327030162, 1.8666147491495275, 1.8664263538056078, 1.8662380466297126, 1.8660498275803168, 1.8658616966159134, 1.865673653695017, 1.8654856987761597, 1.865297831817895, 1.8651100527787943, 1.8649223616174504, 1.8647347582924745, 1.8645472427624958, 1.8643598149861662, 1.8641724749221542, 1.8639852225291504, 1.8637980577658613, 1.8636109805910173, 1.863423990963364, 1.8632370888416703, 1.86305027418472, 1.8628635469513215, 1.8626769071002984, 1.862490354590496, 1.8623038893807784, 1.8621175114300277, 1.8619312206971488, 1.8617450171410619, 1.861558900720709, 1.8613728713950517, 1.8611869291230694, 1.8610010738637615, 1.8608153055761465, 1.8606296242192637, 1.8604440297521692, 1.8602585221339403, 1.8600731013236724, 1.8598877672804819, 1.859702519963502, 1.8595173593318868, 1.85933228534481, 1.8591472979614625, 1.858962397141057, 1.8587775828428228, 1.8585928550260111, 1.8584082136498903, 1.8582236586737484, 1.858039190056893, 1.8578548077586512, 1.857670511738368, 1.8574863019554084, 1.8573021783691575, 1.857118140939017, 1.8569341896244096, 1.856750324384777, 1.8565665451795799, 1.8563828519682974, 1.8561992447104285, 1.856015723365492, 1.8558322878930225, 1.8556489382525776, 1.855465674403732, 1.8552824963060792, 1.8550994039192326, 1.8549163972028242, 1.8547334761165057, 1.8545506406199466, 1.8543678906728358, 1.8541852262348821, 1.8540026472658118, 1.8538201537253718, 1.8536377455733262, 1.853455422769459, 1.8532731852735742, 1.8530910330454928, 1.8529089660450557, 1.8527269842321223, 1.8525450875665717, 1.8523632760083013, 1.852181549517228, 1.8519999080532858, 1.8518183515764306, 1.8516368800466336, 1.8514554934238878, 1.8512741916682032, 1.8510929747396103, 1.8509118425981568, 1.8507307952039098, 1.8505498325169558, 1.8503689544973996, 1.8501881611053652, 1.8500074523009937, 1.849826828044448, 1.8496462882959066, 1.8494658330155684, 1.849285462163652, 1.8491051757003925, 1.8489249735860454, 1.8487448557808837, 1.8485648222452014, 1.848384872939307, 1.8482050078235326, 1.8480252268582251, 1.8478455300037533, 1.8476659172205014, 1.8474863884688746, 1.8473069437092962, 1.847127582902208, 1.8469483060080696, 1.8467691129873613, 1.8465900038005794, 1.8464109784082414, 1.8462320367708815, 1.8460531788490537, 1.845874404603329, 1.8456957139942995, 1.8455171069825733, 1.8453385835287783, 1.8451601435935607, 1.844981787137586, 1.8448035141215375, 1.8446253245061155, 1.8444472182520422, 1.8442691953200563, 1.8440912556709144, 1.8439133992653927, 1.8437356260642859, 1.843557936028407, 1.8433803291185866, 1.8432028052956744, 1.8430253645205388, 1.8428480067540678, 1.842670731957164, 1.8424935400907525, 1.8423164311157751, 1.8421394049931916, 1.8419624616839805, 1.8417856011491394, 1.841608823349684, 1.841432128246647, 1.8412555158010808, 1.841078985974057, 1.8409025387266635, 1.8407261740200076, 1.8405498918152148, 1.8403736920734295, 1.8401975747558124, 1.8400215398235455, 1.8398455872378259, 1.8396697169598726, 1.8394939289509191, 1.8393182231722196, 1.839142599585046, 1.8389670581506876, 1.838791598830453, 1.838616221585669, 1.83844092637768, 1.8382657131678493, 1.8380905819175573, 1.837915532588204, 1.8377405651412067, 1.8375656795380007, 1.8373908757400397, 1.837216153708796, 1.8370415134057596, 1.8368669547924397, 1.8366924778303608, 1.8365180824810694, 1.8363437687061266, 1.8361695364671144, 1.8359953857256306, 1.835821316443293, 1.835647328581736, 1.835473422102613, 1.8352995969675954, 1.8351258531383718, 1.83495219057665, 1.8347786092441551, 1.8346051091026307, 1.834431690113837, 1.834258352239555, 1.8340850954415817, 1.8339119196817315, 1.833738824921839, 1.8335658111237547, 1.833392878249348, 1.8332200262605065, 1.8330472551191357, 1.832874564787158, 1.832701955226515, 1.8325294263991656, 1.8323569782670874, 1.832184610792274, 1.8320123239367394, 1.8318401176625139, 1.8316679919316454, 1.8314959467062013, 1.831323981948266, 1.8311520976199411, 1.8309802936833466, 1.8308085701006205, 1.8306369268339189, 1.8304653638454147, 1.8302938810972997, 1.830122478551783, 1.8299511561710915, 1.82977991391747, 1.8296087517531814, 1.8294376696405055, 1.8292666675417408, 1.829095745419203, 1.828924903235226, 1.8287541409521608, 1.8285834585323766, 1.82841285593826, 1.8282423331322155, 1.8280718900766668, 1.827901526734052, 1.8277312430668293, 1.827561039037475, 1.8273909146084812, 1.8272208697423582, 1.8270509044016356, 1.8268810185488586, 1.8267112121465912, 1.8265414851574138, 1.8263718375439268, 1.826202269268746, 1.8260327802945044, 1.8258633705838563, 1.8256940400994683, 1.8255247888040294, 1.8253556166602432, 1.8251865236308313, 1.8250175096785346, 1.8248485747661096, 1.824679718856331, 1.8245109419119916, 1.8243422438959005, 1.8241736247708846, 1.8240050844997902, 1.8238366230454783, 1.82366824037083, 1.8234999364387412, 1.8233317112121277, 1.823163564653922, 1.8229954967270727, 1.8228275073945481, 1.8226595966193324, 1.822491764364427, 1.8223240105928524, 1.822156335267645, 1.8219887383518598, 1.8218212198085675, 1.8216537796008583, 1.8214864176918375, 1.8213191340446306, 1.8211519286223778, 1.8209848013882377, 1.8208177523053863, 1.8206507813370176, 1.8204838884463415, 1.820317073596587, 1.8201503367509984, 1.8199836778728387, 1.8198170969253884, 1.819650593871944, 1.8194841686758205, 1.8193178213003496, 1.8191515517088803, 1.8189853598647792, 1.81881924573143, 1.818653209272233, 1.818487250450607, 1.8183213692299873, 1.8181555655738257, 1.8179898394455931, 1.817824190808776, 1.8176586196268785, 1.8174931258634222, 1.8173277094819456, 1.8171623704460045, 1.8169971087191716, 1.8168319242650373, 1.816666817047209, 1.81650178702931, 1.8163368341749841, 1.8161719584478875, 1.8160071598116971, 1.815842438230106, 1.8156777936668238, 1.8155132260855773, 1.8153487354501119, 1.8151843217241874, 1.815019984871583, 1.8148557248560937, 1.814691541641532, 1.8145274351917282, 1.8143634054705275, 1.8141994524417948, 1.814035576069409, 1.8138717763172696, 1.8137080531492897, 1.8135444065294017, 1.8133808364215542, 1.813217342789713, 1.8130539255978604, 1.8128905848099952, 1.812727320390135, 1.812564132302312, 1.8124010205105787, 1.8122379849790002, 1.8120750256716622, 1.8119121425526652, 1.8117493355861272, 1.8115866047361837, 1.811423949966986, 1.8112613712427037, 1.8110988685275216, 1.8109364417856424, 1.8107740909812866, 1.8106118160786882, 1.8104496170421025, 1.8102874938357985, 1.8101254464240626, 1.809963474771199, 1.809801578841528, 1.8096397585993869, 1.809478014009129, 1.8093163450351257, 1.809154751641765, 1.8089932337934505, 1.808831791454604, 1.8086704245896628, 1.808509133163082, 1.8083479171393324, 1.8081867764829032, 1.8080257111582976, 1.8078647211300394, 1.8077038063626647, 1.8075429668207301, 1.8073822024688064, 1.8072215132714828, 1.8070608991933639, 1.806900360199071, 1.806739896253243, 1.8065795073205353, 1.8064191933656188, 1.8062589543531826, 1.806098790247932, 1.8059387010145873, 1.8057786866178878, 1.8056187470225884, 1.80545888219346, 1.805299092095291, 1.8051393766928856, 1.8049797359510666, 1.8048201698346695, 1.80466067830855, 1.8045012613375793, 1.8043419188866443, 1.804182650920649, 1.8040234574045138, 1.8038643383031765, 1.80370529358159, 1.8035463232047249, 1.8033874271375676, 1.8032286053451212, 1.8030698577924051, 1.8029111844444559, 1.802752585266325, 1.8025940602230834, 1.8024356092798148, 1.8022772324016219, 1.802118929553622, 1.8019607007009517, 1.8018025458087605, 1.8016444648422172, 1.8014864577665053, 1.8013285245468256, 1.8011706651483939, 1.8010128795364442, 1.8008551676762268, 1.8006975295330065, 1.8005399650720662, 1.8003824742587045, 1.8002250570582357, 1.8000677134359921, 1.7999104433573214, 1.7997532467875874, 1.79959612369217, 1.7994390740364667, 1.7992820977858899, 1.7991251949058686, 1.7989683653618496, 1.798811609119293, 1.798654926143678, 1.7984983164004986, 1.7983417798552654, 1.798185316473505, 1.7980289262207614, 1.7978726090625934, 1.797716364964576, 1.7975601938923018, 1.797404095811378, 1.7972480706874292, 1.7970921184860957, 1.7969362391730344, 1.7967804327139176, 1.7966246990744346, 1.79646903822029, 1.7963134501172056, 1.7961579347309184, 1.796002492027182, 1.7958471219717655, 1.7956918245304554, 1.7955365996690535, 1.7953814473533778, 1.7952263675492621, 1.7950713602225574, 1.7949164253391285, 1.7947615628648592, 1.7946067727656472, 1.7944520550074077, 1.7942974095560704, 1.7941428363775824, 1.7939883354379065, 1.7938339067030211, 1.793679550138921, 1.793525265711617, 1.7933710533871352, 1.79321691313152, 1.7930628449108286, 1.7929088486911366, 1.7927549244385337, 1.792601072119128, 1.7924472916990413, 1.792293583144412, 1.7921399464213956, 1.7919863814961623, 1.7918328883348975, 1.7916794669038052, 1.7915261171691026, 1.7913728390970247, 1.7912196326538208, 1.7910664978057578, 1.7909134345191167, 1.7907604427601964, 1.7906075224953097, 1.790454673690787, 1.7903018963129729, 1.790149190328229, 1.7899965557029323, 1.7898439924034755, 1.7896915003962681, 1.7895390796477342, 1.789386730124315, 1.7892344517924652, 1.7890822446186587, 1.7889301085693818, 1.788778043611139, 1.7886260497104496, 1.7884741268338487, 1.7883222749478866, 1.7881704940191316, 1.7880187840141646, 1.7878671448995842, 1.787715576642005, 1.7875640792080558, 1.7874126525643828, 1.7872612966776462, 1.7871100115145235, 1.7869587970417067, 1.7868076532259043, 1.7866565800338403, 1.786505577432254, 1.7863546453879011, 1.7862037838675509, 1.786052992837992, 1.7859022722660256, 1.78575162211847, 1.785601042362158, 1.7854505329639383, 1.785300093890677, 1.7851497251092538, 1.7849994265865643, 1.7848491982895198, 1.784699040185048, 1.7845489522400915, 1.784398934421608, 1.7842489866965718, 1.7840991090319722, 1.7839493013948138, 1.7837995637521173, 1.7836498960709195, 1.7835002983182708, 1.7833507704612388, 1.7832013124669053, 1.7830519243023695, 1.7829026059347441, 1.782753357331159, 1.782604178458758, 1.782455069284701, 1.7823060297761644, 1.7821570599003382, 1.7820081596244302, 1.7818593289156601, 1.7817105677412675, 1.7815618760685041, 1.7814132538646377, 1.7812647010969518, 1.7811162177327462, 1.7809678037393353, 1.780819459084049, 1.7806711837342315, 1.7805229776572435, 1.7803748408204627, 1.7802267731912786, 1.780078774737098, 1.7799308454253437, 1.779782985223453, 1.7796351940988786, 1.7794874720190879, 1.7793398189515646, 1.7791922348638083, 1.7790447197233323, 1.7788972734976654, 1.7787498961543533, 1.7786025876609548, 1.7784553479850458, 1.7783081770942164, 1.7781610749560732, 1.7780140415382364, 1.7778670768083424, 1.7777201807340428, 1.7775733532830045, 1.7774265944229082, 1.7772799041214529, 1.7771332823463502, 1.7769867290653278, 1.776840244246128, 1.77669382785651, 1.7765474798642462, 1.7764012002371248, 1.7762549889429498, 1.7761088459495395, 1.7759627712247283, 1.7758167647363656, 1.7756708264523144, 1.775524956340455, 1.7753791543686814, 1.7752334205049032, 1.7750877547170456, 1.7749421569730475, 1.774796627240865, 1.7746511654884676, 1.77450577168384, 1.7743604457949826, 1.7742151877899108, 1.7740699976366554, 1.773924875303261, 1.773779820757788, 1.7736348339683126, 1.7734899149029253, 1.7733450635297305, 1.7732002798168498, 1.7730555637324192, 1.7729109152445879, 1.7727663343215236, 1.772621820931405, 1.7724773750424283, 1.7723329966228043, 1.7721886856407587, 1.7720444420645318, 1.7719002658623793, 1.7717561570025713, 1.7716121154533933, 1.7714681411831457, 1.7713242341601438, 1.7711803943527185, 1.771036621729213, 1.7708929162579892, 1.7707492779074216, 1.7706057066458998, 1.7704622024418284, 1.7703187652636274, 1.7701753950797312, 1.7700320918585888, 1.769888855568665, 1.7697456861784382, 1.7696025836564029, 1.769459547971068, 1.7693165790909564, 1.7691736769846065, 1.769030841620573, 1.7688880729674223, 1.7687453709937377, 1.768602735668118, 1.7684601669591742, 1.7683176648355345, 1.7681752292658406, 1.768032860218749, 1.7678905576629316, 1.7677483215670753, 1.7676061518998802, 1.7674640486300628, 1.767322011726353, 1.7671800411574974, 1.7670381368922545, 1.7668962988994004, 1.7667545271477234, 1.766612821606028, 1.7664711822431334, 1.7663296090278733, 1.766188101929095, 1.7660466609156622, 1.7659052859564528, 1.765763977020358, 1.7656227340762847, 1.7654815570931557, 1.765340446039906, 1.7651994008854863, 1.7650584215988636, 1.7649175081490165, 1.76477666050494, 1.7646358786356433, 1.7644951625101508, 1.7643545120975002, 1.7642139273667448, 1.7640734082869525, 1.7639329548272058, 1.7637925669566006, 1.7636522446442484, 1.7635119878592762, 1.7633717965708233, 1.763231670748045, 1.7630916103601109, 1.7629516153762046, 1.7628116857655247, 1.7626718214972847, 1.762532022540712, 1.7623922888650487, 1.7622526204395506, 1.7621130172334898, 1.7619734792161514, 1.7618340063568352, 1.7616945986248553, 1.761555255989541, 1.7614159784202361, 1.7612767658862982, 1.7611376183570986, 1.7609985358020246, 1.7608595181904774, 1.7607205654918723, 1.760581677675639, 1.7604428547112223, 1.7603040965680794, 1.7601654032156864, 1.7600267746235279, 1.7598882107611065, 1.7597497115979392, 1.759611277103555, 1.7594729072475004, 1.7593346019993341, 1.7591963613286297, 1.7590581852049745, 1.7589200735979718, 1.7587820264772371, 1.7586440438124025, 1.758506125573112, 1.7583682717290259, 1.7582304822498178, 1.7580927571051754, 1.7579550962648016, 1.7578174996984128, 1.7576799673757402, 1.757542499266528, 1.757405095340537, 1.7572677555675391, 1.7571304799173237, 1.756993268359693, 1.756856120864462, 1.7567190374014623, 1.756582017940539, 1.7564450624515497, 1.7563081709043689, 1.756171343268883, 1.7560345795149943, 1.7558978796126186, 1.7557612435316856, 1.7556246712421388, 1.7554881627139374, 1.755351717917053, 1.7552153368214731, 1.755079019397197, 1.754942765614241, 1.7548065754426334, 1.7546704488524172, 1.7545343858136493, 1.7543983862964012, 1.754262450270758, 1.7541265777068205, 1.7539907685747, 1.7538550228445262, 1.7537193404864402, 1.7535837214705974, 1.7534481657671679, 1.7533126733463351, 1.7531772441782978, 1.7530418782332673, 1.7529065754814699, 1.7527713358931454, 1.7526361594385482, 1.7525010460879462, 1.7523659958116216, 1.7522310085798705, 1.7520960843630018, 1.7519612231313415, 1.751826424855226, 1.751691689505009, 1.7515570170510548, 1.7514224074637437, 1.7512878607134705, 1.7511533767706418, 1.7510189556056805, 1.7508845971890221, 1.7507503014911152, 1.7506160684824243, 1.750481898133427, 1.7503477904146143, 1.7502137452964914, 1.7500797627495777, 1.749945842744406, 1.7498119852515237, 1.7496781902414913, 1.7495444576848838, 1.7494107875522886, 1.7492771798143099, 1.7491436344415627, 1.7490101514046776, 1.7488767306742985, 1.748743372221083, 1.7486100760157026, 1.748476842028843, 1.7483436702312034, 1.7482105605934963, 1.748077513086449, 1.7479445276808023, 1.7478116043473098, 1.7476787430567409, 1.7475459437798764, 1.747413206487513, 1.747280531150459, 1.7471479177395384, 1.7470153662255878, 1.7468828765794584, 1.7467504487720142, 1.746618082774133, 1.7464857785567074, 1.7463535360906433, 1.7462213553468589, 1.7460892362962874, 1.745957178909876, 1.745825183158585, 1.7456932490133883, 1.7455613764452735, 1.7454295654252423, 1.745297815924309, 1.7451661279135038, 1.7450345013638675, 1.744902936246457, 1.7447714325323413, 1.7446399901926046, 1.7445086091983428, 1.7443772895206673, 1.7442460311307015, 1.7441148339995833, 1.743983698098464, 1.743852623398509, 1.743721609870896, 1.7435906574868179, 1.7434597662174793, 1.7433289360341004, 1.743198166907913, 1.7430674588101651, 1.7429368117121145, 1.7428062255850354, 1.7426757004002154, 1.742545236128954, 1.7424148327425661, 1.7422844902123782, 1.7421542085097315, 1.7420239876059813, 1.7418938274724949, 1.741763728080654, 1.7416336894018531, 1.741503711407502, 1.741373794069021, 1.741243937357846, 1.7411141412454259, 1.7409844057032242, 1.7408547307027142, 1.7407251162153865, 1.740595562212744, 1.740466068666302, 1.7403366355475904, 1.7402072628281515, 1.740077950479542, 1.7399486984733312, 1.7398195067811029, 1.7396903753744526, 1.739561304224991, 1.7394322933043405, 1.7393033425841382, 1.7391744520360335, 1.73904562163169, 1.7389168513427846, 1.738788141141007, 1.7386594909980602, 1.7385309008856615, 1.73840237077554, 1.7382739006394399, 1.7381454904491174, 1.7380171401763418, 1.737888849792897, 1.7377606192705803, 1.7376324485811994, 1.7375043376965789, 1.7373762865885547, 1.737248295228976, 1.7371203635897061, 1.7369924916426212, 1.736864679359611, 1.7367369267125765, 1.7366092336734351, 1.7364816002141161, 1.7363540263065609, 1.7362265119227247, 1.7360990570345773, 1.7359716616140992, 1.7358443256332874, 1.7357170490641485, 1.7355898318787057, 1.7354626740489916, 1.735335575547056, 1.7352085363449588, 1.7350815564147748, 1.734954635728591, 1.7348277742585072, 1.7347009719766389, 1.7345742288551114, 1.7344475448660648, 1.7343209199816527, 1.7341943541740408, 1.7340678474154083, 1.733941399677948, 1.7338150109338648, 1.7336886811553778, 1.7335624103147182, 1.7334361983841309, 1.7333100453358743, 1.7331839511422185, 1.7330579157754473, 1.7329319392078584, 1.7328060214117618, 1.73268016235948, 1.7325543620233497, 1.7324286203757198, 1.7323029373889522, 1.7321773130354228, 1.7320517472875194, 1.7319262401176432, 1.7318007914982088, 1.7316754014016429, 1.731550069800386, 1.7314247966668912, 1.7312995819736252, 1.7311744256930661, 1.7310493277977077, 1.730924288260053, 1.7307993070526213, 1.7306743841479437, 1.7305495195185636, 1.7304247131370374, 1.7302999649759363, 1.7301752750078419, 1.7300506432053495, 1.7299260695410688, 1.7298015539876206, 1.7296770965176393, 1.729552697103772, 1.7294283557186787, 1.7293040723350328, 1.7291798469255202, 1.729055679462839, 1.7289315699197014, 1.7288075182688314, 1.7286835244829664, 1.728559588534857, 1.7284357103972656, 1.7283118900429686, 1.728188127444754, 1.728064422575423, 1.7279407754077907, 1.727817185914684, 1.7276936540689425, 1.727570179843419, 1.7274467632109791, 1.7273234041445011, 1.7272001026168755, 1.727076858601006, 1.7269536720698093, 1.7268305429962156, 1.7267074713531658, 1.7265844571136155, 1.7264615002505321, 1.7263386007368953, 1.7262157585456988, 1.726092973649948, 1.7259702460226614, 1.7258475756368699, 1.7257249624656184, 1.7256024064819622, 1.7254799076589713, 1.725357465969727, 1.725235081387325, 1.7251127538848714, 1.7249904834354872, 1.7248682700123044, 1.7247461135884687, 1.7246240141371378, 1.724501971631482, 1.7243799860446856, 1.7242580573499429, 1.7241361855204633, 1.7240143705294677, 1.7238926123501905, 1.7237709109558772, 1.7236492663197867, 1.7235276784151914, 1.7234061472153746, 1.7232846726936326, 1.7231632548232763, 1.7230418935776262, 1.722920588930017, 1.7227993408537967, 1.7226781493223235, 1.72255701430897, 1.7224359357871206, 1.722314913730173, 1.722193948111537, 1.7220730389046344, 1.7219521860828997, 1.7218313896197812, 1.7217106494887378, 1.721589965663242, 1.7214693381167783, 1.7213487668228447, 1.7212282517549509, 1.721107792886618, 1.7209873901913821, 1.7208670436427902, 1.720746753214401, 1.7206265188797876, 1.7205063406125338, 1.7203862183862373, 1.720266152174507, 1.720146141950965, 1.7200261876892453, 1.719906289362995, 1.7197864469458732, 1.7196666604115516, 1.7195469297337138, 1.7194272548860559, 1.7193076358422872, 1.7191880725761282, 1.7190685650613131, 1.7189491132715875, 1.7188297171807099, 1.71871037676245, 1.7185910919905918, 1.7184718628389297, 1.7183526892812722, 1.7182335712914392, 1.7181145088432617, 1.7179955019105864, 1.7178765504672682, 1.7177576544871789, 1.7176388139441978, 1.7175200288122197, 1.7174012990651506, 1.7172826246769097, 1.717164005621427, 1.7170454418726457, 1.7169269334045216, 1.7168084801910215, 1.7166900822061262, 1.716571739423827, 1.716453451818129, 1.7163352193630481, 1.716217042032614, 1.7160989198008672, 1.7159808526418614, 1.7158628405296616, 1.7157448834383466, 1.7156269813420053, 1.7155091342147402, 1.7153913420306657, 1.7152736047639088, 1.715155922388608, 1.715038294878914, 1.7149207222089904, 1.7148032043530121, 1.7146857412851668, 1.7145683329796544, 1.7144509794106866, 1.7143336805524865, 1.7142164363792909, 1.7140992468653484, 1.7139821119849181, 1.7138650317122741, 1.7137480060216999, 1.7136310348874926, 1.7135141182839606, 1.7133972561854256, 1.7132804485662194, 1.7131636954006881, 1.7130469966631883, 1.7129303523280905, 1.7128137623697748, 1.712697226762635, 1.7125807454810766, 1.7124643184995172, 1.7123479457923858, 1.7122316273341247, 1.712115363099188, 1.7119991530620406, 1.71188299719716, 1.7117668954790373, 1.7116508478821724, 1.7115348543810813, 1.7114189149502876, 1.7113030295643308, 1.7111871981977598, 1.711071420825137, 1.7109556974210351, 1.7108400279600415, 1.710724412416752, 1.7106088507657777, 1.7104933429817397, 1.710377889039272, 1.7102624889130196, 1.7101471425776407, 1.7100318500078038, 1.7099166111781907, 1.7098014260634953, 1.7096862946384221, 1.7095712168776884, 1.7094561927560235, 1.709341222248168, 1.7092263053288752, 1.709111441972909, 1.7089966321550472, 1.7088818758500774, 1.7087671730328002, 1.7086525236780281, 1.7085379277605852, 1.7084233852553072, 1.7083088961370423, 1.7081944603806498, 1.708080077961002, 1.7079657488529816, 1.7078514730314835, 1.7077372504714157, 1.7076230811476962, 1.7075089650352562, 1.7073949021090382, 1.7072808923439957, 1.7071669357150963, 1.7070530321973167, 1.7069391817656467, 1.7068253843950874, 1.7067116400606535, 1.7065979487373684, 1.7064843104002696, 1.7063707250244053, 1.7062571925848362, 1.7061437130566333, 1.7060302864148824, 1.705916912634677, 1.7058035916911256, 1.7056903235593466, 1.705577108214471, 1.7054639456316405, 1.7053508357860097, 1.7052377786527446, 1.7051247742070224, 1.7050118224240325, 1.7048989232789757, 1.704786076747065, 1.704673282803524, 1.7045605414235891, 1.7044478525825075, 1.7043352162555387, 1.7042226324179537, 1.7041101010450352, 1.7039976221120767, 1.703885195594385, 1.7037728214672765, 1.7036604997060814, 1.7035482302861396, 1.703436013182804, 1.7033238483714384, 1.7032117358274181, 1.7030996755261305, 1.7029876674429743, 1.70287571155336, 1.7027638078327094, 1.7026519562564564, 1.702540156800045, 1.7024284094389328, 1.702316714148588, 1.70220507090449, 1.7020934796821303, 1.701981940457012, 1.701870453204649, 1.701759017900567, 1.7016476345203047, 1.70153630303941, 1.7014250234334443, 1.7013137956779787, 1.7012026197485974, 1.7010914956208951, 1.7009804232704784, 1.7008694026729656, 1.7007584338039854, 1.70064751663918, 1.700536651154201, 1.7004258373247125, 1.70031507512639, 1.7002043645349205, 1.700093705526002, 1.6999830980753443, 1.6998725421586691, 1.699762037751709, 1.6996515848302076, 1.6995411833699208, 1.6994308333466144, 1.6993205347360685, 1.699210287514072, 1.6991000916564258, 1.6989899471389425, 1.6988798539374468, 1.6987698120277732, 1.6986598213857693, 1.698549881987292, 1.6984399938082124, 1.69833015682441, 1.698220371011777, 1.6981106363462177, 1.6980009528036466, 1.6978913203599904, 1.6977817389911862, 1.6976722086731832, 1.6975627293819417, 1.6974533010934327, 1.6973439237836403, 1.6972345974285576, 1.6971253220041904, 1.697016097486556, 1.6969069238516825, 1.6967978010756088, 1.6966887291343857, 1.6965797080040759, 1.696470737660752, 1.696361818080499, 1.696252949239412, 1.6961441311135994, 1.6960353636791778, 1.6959266469122782, 1.695817980789041, 1.6957093652856179, 1.6956008003781726, 1.6954922860428796, 1.6953838222559248, 1.6952754089935045, 1.6951670462318282, 1.695058733947114, 1.6949504721155926, 1.6948422607135065, 1.6947340997171083, 1.6946259891026627, 1.6945179288464443, 1.6944099189247397, 1.6943019593138475, 1.6941940499900756, 1.6940861909297444, 1.6939783821091847, 1.6938706235047403, 1.6937629150927627, 1.6936552568496173, 1.693547648751681, 1.6934400907753389, 1.69333258289699, 1.6932251250930435, 1.6931177173399192, 1.6930103596140487, 1.692903051891874, 1.6927957941498497, 1.6926885863644394, 1.6925814285121195, 1.6924743205693764, 1.6923672625127084, 1.6922602543186243, 1.692153295963644, 1.6920463874242986, 1.6919395286771302, 1.6918327196986924, 1.691725960465549, 1.6916192509542753, 1.6915125911414584, 1.6914059810036943, 1.6912994205175929, 1.691192909659772, 1.6910864484068633, 1.6909800367355075, 1.6908736746223572, 1.6907673620440766, 1.690661098977339, 1.69055488539883, 1.6904487212852466, 1.6903426066132958, 1.6902365413596954, 1.6901305255011763, 1.6900245590144767, 1.6899186418763494, 1.689812774063556, 1.6897069555528694, 1.6896011863210738, 1.6894954663449646, 1.6893897956013477, 1.6892841740670395, 1.6891786017188681, 1.6890730785336718, 1.6889676044883009, 1.6888621795596153, 1.6887568037244873, 1.6886514769597982, 1.688546199242442, 1.6884409705493217, 1.6883357908573533, 1.6882306601434627, 1.6881255783845859, 1.6880205455576711, 1.6879155616396762, 1.687810626607571, 1.6877057404383355, 1.6876009031089607, 1.6874961145964484, 1.6873913748778107, 1.6872866839300722, 1.6871820417302663, 1.687077448255439, 1.6869729034826457, 1.6868684073889528, 1.6867639599514384, 1.6866595611471908, 1.6865552109533088, 1.6864509093469031, 1.686346656305094, 1.686242451805013, 1.6861382958238023, 1.6860341883386145, 1.6859301293266145, 1.6858261187649761, 1.685722156630885, 1.6856182429015372, 1.6855143775541392, 1.6854105605659089, 1.6853067919140745, 1.6852030715758746, 1.68509939952856, 1.6849957757493899, 1.684892200215636, 1.68478867290458, 1.6846851937935148, 1.684581762859744, 1.6844783800805807, 1.68437504543335, 1.6842717588953873, 1.6841685204440384, 1.68406533005666, 1.6839621877106197, 1.6838590933832958, 1.6837560470520758, 1.68365304869436, 1.6835500982875575, 1.6834471958090904, 1.6833443412363887, 1.6832415345468945, 1.683138775718061, 1.68303606472735, 1.6829334015522364, 1.6828307861702043, 1.682728218558748, 1.682625698695374, 1.6825232265575982, 1.6824208021229472, 1.6823184253689583, 1.6822160962731791, 1.6821138148131696, 1.6820115809664968, 1.6819093947107417, 1.681807256023494, 1.6817051648823544, 1.6816031212649345, 1.6815011251488565, 1.6813991765117517, 1.681297275331264, 1.6811954215850466, 1.6810936152507634, 1.6809918563060888, 1.680890144728708, 1.680788480496317, 1.6806868635866206, 1.680585293977337, 1.680483771646192]\n"
     ]
    }
   ],
   "source": [
    "iterations = 2000;\n",
    "alpha = 0.0001;\n",
    "theta_m = np.zeros(3)\n",
    "theta_m, cost_history = gradient_descent(X_train_m, y_train_m, theta_m, alpha, iterations)\n",
    "print('Final value of theta =')\n",
    "print(theta_m)\n",
    "print('cost_history =', cost_history)"
   ]
  },
  {
   "cell_type": "code",
   "execution_count": 647,
   "id": "ff9f9ba1",
   "metadata": {},
   "outputs": [
    {
     "data": {
      "text/plain": [
       "Text(0.5, 1.0, 'Convergence of gradient descent')"
      ]
     },
     "execution_count": 647,
     "metadata": {},
     "output_type": "execute_result"
    },
    {
     "data": {
      "image/png": "[encoded data removed]",
      "text/plain": [
       "<Figure size 720x432 with 1 Axes>"
      ]
     },
     "metadata": {
      "needs_background": "light"
     },
     "output_type": "display_data"
    }
   ],
   "source": [
    "import matplotlib.pyplot as plt\n",
    "plt.plot(range(1, iterations +1), cost_history, color ='blue')\n",
    "plt.rcParams[\"figure.figsize\"] = (10,6)\n",
    "plt.grid()\n",
    "plt.xlabel(\"Iteration #\")\n",
    "plt.ylabel(\"Cost\")\n",
    "plt.title(\"Convergence of gradient descent\")\n",
    "\n"
   ]
  },
  {
   "cell_type": "code",
   "execution_count": 648,
   "id": "1edcb1d8",
   "metadata": {},
   "outputs": [
    {
     "name": "stdout",
     "output_type": "stream",
     "text": [
      "[[10.  9.  1.]\n",
      " [ 9.  9.  1.]\n",
      " [ 9.  8.  1.]\n",
      " [10. 11.  1.]\n",
      " [ 8.  8.  1.]\n",
      " [11.  9.  1.]\n",
      " [12. 12.  1.]\n",
      " [ 8.  9.  1.]\n",
      " [10.  9.  1.]\n",
      " [12. 10.  1.]\n",
      " [18. 18.  1.]\n",
      " [13. 12.  1.]\n",
      " [15. 14.  1.]\n",
      " [15. 13.  1.]\n",
      " [12. 11.  1.]\n",
      " [15. 15.  1.]\n",
      " [12. 12.  1.]\n",
      " [18. 18.  1.]\n",
      " [14. 13.  1.]\n",
      " [14. 12.  1.]\n",
      " [10.  9.  1.]\n",
      " [10.  8.  1.]\n",
      " [14. 13.  1.]\n",
      " [16. 15.  1.]\n",
      " [12. 10.  1.]\n",
      " [11. 11.  1.]\n",
      " [15. 12.  1.]\n",
      " [17. 17.  1.]\n",
      " [15. 14.  1.]\n",
      " [14. 12.  1.]\n",
      " [17. 18.  1.]\n",
      " [ 8.  9.  1.]\n",
      " [15. 12.  1.]\n",
      " [12. 10.  1.]\n",
      " [ 9.  9.  1.]\n",
      " [14. 12.  1.]\n",
      " [13. 11.  1.]\n",
      " [13. 10.  1.]\n",
      " [15. 13.  1.]\n",
      " [13. 11.  1.]\n",
      " [ 8.  8.  1.]\n",
      " [ 9. 10.  1.]\n",
      " [11. 11.  1.]\n",
      " [11. 11.  1.]\n",
      " [13. 13.  1.]\n",
      " [11.  9.  1.]\n",
      " [11. 11.  1.]\n",
      " [12. 14.  1.]\n",
      " [16. 15.  1.]\n",
      " [ 9. 12.  1.]\n",
      " [14. 15.  1.]\n",
      " [11. 10.  1.]\n",
      " [10.  9.  1.]\n",
      " [14. 14.  1.]\n",
      " [ 9.  8.  1.]\n",
      " [12. 14.  1.]\n",
      " [ 7.  0.  1.]\n",
      " [ 8.  8.  1.]\n",
      " [10.  9.  1.]\n",
      " [16. 15.  1.]\n",
      " [14. 13.  1.]\n",
      " [ 7.  8.  1.]\n",
      " [16. 15.  1.]\n",
      " [ 9. 10.  1.]\n",
      " [11. 12.  1.]\n",
      " [10. 10.  1.]\n",
      " [16. 15.  1.]\n",
      " [ 9.  8.  1.]\n",
      " [11. 10.  1.]\n",
      " [13. 13.  1.]\n",
      " [16. 15.  1.]\n",
      " [10. 10.  1.]\n",
      " [13. 15.  1.]\n",
      " [11. 13.  1.]\n",
      " [ 8.  7.  1.]\n",
      " [13. 13.  1.]\n",
      " [ 8.  7.  1.]\n",
      " [ 8.  8.  1.]\n",
      " [13. 11.  1.]\n",
      " [10.  9.  1.]\n",
      " [12. 13.  1.]\n",
      " [12. 12.  1.]\n",
      " [10. 10.  1.]\n",
      " [18. 16.  1.]\n",
      " [13. 13.  1.]\n",
      " [13. 12.  1.]\n",
      " [11. 11.  1.]\n",
      " [16. 15.  1.]\n",
      " [12. 11.  1.]\n",
      " [10. 10.  1.]\n",
      " [13. 13.  1.]\n",
      " [ 7.  6.  1.]\n",
      " [11. 10.  1.]\n",
      " [14. 12.  1.]\n",
      " [ 7.  7.  1.]\n",
      " [14. 12.  1.]\n",
      " [13. 11.  1.]\n",
      " [ 6.  5.  1.]\n",
      " [19. 18.  1.]\n",
      " [ 8.  8.  1.]\n",
      " [15. 14.  1.]\n",
      " [ 8.  9.  1.]\n",
      " [15. 15.  1.]\n",
      " [10. 10.  1.]\n",
      " [15. 14.  1.]\n",
      " [ 7.  6.  1.]\n",
      " [11. 11.  1.]\n",
      " [ 6.  5.  1.]\n",
      " [ 6.  5.  1.]\n",
      " [10.  9.  1.]\n",
      " [ 6.  5.  1.]\n",
      " [ 7.  5.  1.]\n",
      " [ 7.  9.  1.]\n",
      " [ 6.  5.  1.]\n",
      " [ 9.  9.  1.]\n",
      " [14. 16.  1.]\n",
      " [10.  8.  1.]\n",
      " [11. 12.  1.]\n",
      " [ 8.  9.  1.]]\n"
     ]
    }
   ],
   "source": [
    "X_u0 = np.ones((n, 1))\n",
    "X_test_m = np.hstack((X_test_m, X_u0))\n",
    "print(X_test_m)"
   ]
  },
  {
   "cell_type": "code",
   "execution_count": null,
   "id": "9379c384",
   "metadata": {},
   "outputs": [],
   "source": [
    "  "
   ]
  },
  {
   "cell_type": "code",
   "execution_count": 649,
   "id": "e84a67ed",
   "metadata": {},
   "outputs": [
    {
     "name": "stdout",
     "output_type": "stream",
     "text": [
      "2.6051295674454784\n"
     ]
    }
   ],
   "source": [
    "from math import sqrt\n",
    "y_predicted_m = X_test_m.dot(theta_m)\n",
    "rms_m = (mean_squared_error(y_predicted_m, y_test_m))\n",
    "print(rms_m)\n"
   ]
  },
  {
   "cell_type": "code",
   "execution_count": 650,
   "id": "863c3e5a",
   "metadata": {},
   "outputs": [
    {
     "data": {
      "text/plain": [
       "0.679035301757763"
      ]
     },
     "execution_count": 650,
     "metadata": {},
     "output_type": "execute_result"
    }
   ],
   "source": [
    "from sklearn.metrics import r2_score   \n",
    "r2_score(y_test_m, y_predicted_m)"
   ]
  },
  {
   "cell_type": "code",
   "execution_count": 651,
   "id": "c164c9eb",
   "metadata": {},
   "outputs": [],
   "source": [
    "                                #multi - variate using all features"
   ]
  },
  {
   "cell_type": "code",
   "execution_count": 652,
   "id": "d34a5e42",
   "metadata": {},
   "outputs": [
    {
     "name": "stdout",
     "output_type": "stream",
     "text": [
      "(395, 18)\n",
      "(395,)\n"
     ]
    }
   ],
   "source": [
    "X_m_all = merged_df.drop(['G3'], axis=1)\n",
    "y_m_all = merged_df['G3']\n",
    "print(X_m_all.shape)\n",
    "print(y_m_all.shape)"
   ]
  },
  {
   "cell_type": "code",
   "execution_count": 653,
   "id": "6274bd78",
   "metadata": {},
   "outputs": [
    {
     "name": "stdout",
     "output_type": "stream",
     "text": [
      "(276, 18)\n",
      "(119, 18)\n",
      "(276,)\n",
      "(119,)\n"
     ]
    }
   ],
   "source": [
    "main_df = main_df.sample(frac=1)\n",
    "\n",
    "train_size = int(0.7 * len(main_df))\n",
    "X_m = X_m_all\n",
    "y_m = y_m_all\n",
    "X_train_m = X_m[:train_size]\n",
    "X_test_m = X_m[train_size:]\n",
    "\n",
    "y_train_m = y[:train_size]\n",
    "y_test_m = y[train_size:]\n",
    "\n",
    "\n",
    "\n",
    "m = X_train_m.shape[0]\n",
    "n = X_test_m.shape[0]\n",
    "X_u0 = np.ones((m, 1))\n",
    "X_u0[:5]\n",
    "# X_train_m = X_train_m.reshape((m, 1))\n",
    "# X_test_m = X_test_m.reshape((n, 1))\n",
    "print(X_train_m.shape)\n",
    "print(X_test_m.shape)\n",
    "print(y_train_m.shape)\n",
    "print(y_test_m.shape)"
   ]
  },
  {
   "cell_type": "code",
   "execution_count": 654,
   "id": "56eb2028",
   "metadata": {},
   "outputs": [
    {
     "name": "stdout",
     "output_type": "stream",
     "text": [
      "[[18.          4.          4.         ...  1.          1.94591015\n",
      "   1.        ]\n",
      " [17.          1.          1.         ...  1.          1.60943791\n",
      "   1.        ]\n",
      " [15.          1.          1.         ...  1.          2.39789527\n",
      "   1.        ]\n",
      " ...\n",
      " [17.          1.          2.         ...  1.          1.09861229\n",
      "   1.        ]\n",
      " [17.          2.          4.         ...  1.          1.09861229\n",
      "   1.        ]\n",
      " [17.          2.          2.         ...  1.          1.94591015\n",
      "   1.        ]]\n",
      "theta:  [1, 1, 1, 1, 1, 1, 1, 1, 1, 1, 1, 1, 1, 1, 1, 1, 1, 1, 1]\n",
      "X:  (276, 19)\n"
     ]
    }
   ],
   "source": [
    "X_0 = np.ones((m, 1))\n",
    "X_train_m = np.hstack((X_train_m, X_0))\n",
    "print(X_train_m)\n",
    "              \n",
    "theta_m = [1] * X_train_m.shape[1]\n",
    "print(\"theta: \", theta_m)\n",
    "print(\"X: \", X_train_m.shape)"
   ]
  },
  {
   "cell_type": "code",
   "execution_count": 655,
   "id": "cd27eee4",
   "metadata": {},
   "outputs": [
    {
     "name": "stdout",
     "output_type": "stream",
     "text": [
      "(276,)\n",
      "[ 6  6 10 15 10 15 11  6 19 15  9 12 14 11 16 14 14 10  5 10 15 15 16 12\n",
      "  8  8 11 15 11 11 12 17 16 12 15  6 18 15 11 13 11 12 18 11  9  6 11 20\n",
      " 14  7 13 13 10 11 13 10 15 15  9 16 11 11  9  9 10 15 12  6  8 16 15 10\n",
      "  5 14 11 10 10 11 10  5 12 11  6 15 10  8  6 14 10  7  8 18  6 10 14 10\n",
      " 15 10 14  8  5 17 14  6 18 11  8 18 13 16 19 10 13 19  9 16 14 13  8 13\n",
      " 15 15 13 13  8 12 11  9  0 18  0  0 12 11  0  0  0  0 12 15  0  9 11 13\n",
      "  0 11  0 11  0 10  0 14 10  0 12  8 13 10 15 12  0  7  0 10  7 12 10 16\n",
      "  0 14  0 16 10  0  9  9 11  6  9 11  8 12 17  8 12 11 11 15  9 10 13  9\n",
      "  8 10 14 15 16 10 18 10 16 10 10  6 11  9  7 13 10  7  8 13 14  8 10 15\n",
      "  4  8  8 10  6  0 17 13 14  7 15 12  9 12 14 11  9 13  6 10 13 12 11  0\n",
      " 12 12  0 12  0 18 13  8  5 15  8 10  8  8 12  8 13 11 14  0 18  8 12  9\n",
      "  0 17 10 11 10  0  9 14 11 14 10 12]\n"
     ]
    }
   ],
   "source": [
    "print(y_train_m.shape)\n",
    "print(y_train_m.values)"
   ]
  },
  {
   "cell_type": "code",
   "execution_count": 656,
   "id": "d55c42ba",
   "metadata": {},
   "outputs": [
    {
     "name": "stdout",
     "output_type": "stream",
     "text": [
      "The cost for given values of theta_0 and theta_1 = 64.78985507246377\n"
     ]
    }
   ],
   "source": [
    "theta_m = np.zeros(X_train_m.shape[1])\n",
    "cost = mse(X_train_m, y_train_m, theta_m)\n",
    "print('The cost for given values of theta_0 and theta_1 =', cost)"
   ]
  },
  {
   "cell_type": "code",
   "execution_count": 657,
   "id": "d72b6e13",
   "metadata": {},
   "outputs": [
    {
     "name": "stdout",
     "output_type": "stream",
     "text": [
      "Final value of theta =\n",
      "[-7.41766112e-02  3.11259062e-02  6.70592170e-03 -2.15849579e-02\n",
      " -7.28434997e-02 -9.64533304e-03 -5.80265907e-02 -2.64611239e-02\n",
      "  2.20368891e-02  3.63541869e-01  7.37546001e-01  0.00000000e+00\n",
      "  1.00233346e-02  9.73322914e-03  6.96698803e-04 -3.97911364e-03\n",
      "  1.50355868e-02  6.92605722e-02 -1.36861196e-03]\n",
      "cost_history = [58.08726132651151, 52.145155383047786, 46.87703843526864, 42.206251266148826, 38.064854947438874, 34.39263886463942, 31.136241583998103, 28.2483717251951, 25.687117463579334, 23.41533457990905, 21.400104122432584, 19.612251762564068, 18.02592182620473, 16.618199781086926, 15.368777668030441, 14.25965759103031, 13.274888936797343, 12.400335486860529, 11.623469021805812, 10.933186404040661, 10.319647468286991, 9.774131352821186, 9.288909173735824, 8.857131183124215, 8.472726763570401, 8.130315798752038, 7.825130126067406, 7.552943924406958, 7.310012020652804, 7.093015214112131, 6.899011820559999, 6.725394728380647, 6.569853339778971, 6.430339841361478, 6.305039311599914, 6.192343228713093, 6.090825992152996, 5.999224114882663, 5.916417782630419, 5.841414510865159, 5.7733346608668, 5.711398603410596, 5.654915342641321, 5.603272434033518, 5.555927049229223, 5.512398057290268, 5.472259006743065, 5.435131905946308, 5.400681710968528, 5.368611440492758, 5.3386578464209995, 5.310587576964894, 5.2841937761999285, 5.259293070433356, 5.2357228973839, 5.21333913917672, 5.1920140245932656, 5.171634269946906, 5.152099431439588, 5.133320444942508, 5.115218331880434, 5.097723052324618, 5.080772488548624, 5.064311544206313, 5.0482913459794165, 5.032668536038307, 5.01740464498559, 5.002465536127183, 4.987820912957073, 4.973443882664948, 4.959310569293821, 4.9453997708997415, 4.931692655708208, 4.918172492831214, 4.904824413613521, 4.891635200123958, 4.878593097703919, 4.865687648836427, 4.852909545910499, 4.840250500731401, 4.827703128871887, 4.81526084717621, 4.802917782920766, 4.790668693305358, 4.7785088940999865, 4.766434196405672, 4.754440850606352, 4.7425254966938555, 4.730685120240968, 4.718917013380189, 4.707218740218725, 4.695588106185111, 4.684023130860267, 4.672522023896617, 4.661083163674005, 4.64970507838116, 4.638386429246733, 4.627125995675484, 4.615922662072867, 4.604775406166002, 4.593683288650818, 4.582645444014551, 4.571661072399883, 4.560729432392296, 4.5498498346256, 4.53902163611262, 4.528244235218547, 4.517517067203871, 4.506839600272153, 4.496211332065199, 4.485631786554739, 4.475100511285614, 4.4646170749304055, 4.454181065120151, 4.443792086519771, 4.433449759120339, 4.423153716723605, 4.412903605596875, 4.402699083278919, 4.392539817519724, 4.382425485338891, 4.372355772189218, 4.362330371213486, 4.352348982583892, 4.342411312914728, 4.332517074740013, 4.322665986048675, 4.312857769870793, 4.303092153909063, 4.2933688702103945, 4.283687654873098, 4.274048247785577, 4.264450392393017, 4.254893835488872, 4.245378327028352, 4.235903619961424, 4.226469470083114, 4.217075635899182, 4.207721878505404, 4.198407961478958, 4.189133650780528, 4.1798987146659465, 4.170702923606279, 4.1615460502154376, 4.152427869184433, 4.143348157221592, 4.134306692998003, 4.1253032570976735, 4.116337631971823, 4.107409601896911, 4.098518952935925, 4.089665472902639, 4.0808489513284565, 4.072069179431605, 4.063325950088398, 4.054619057806362, 4.045948298699007, 4.037313470462103, 4.028714372351248, 4.020150805160661, 4.01162257120302, 4.003129474290263, 3.9946713197152377, 3.9862479142341494, 3.9778590660496964, 3.9695045847948145, 3.9611842815170464, 3.9528979686633656, 3.9446454600655287, 3.936426570925815, 3.9282411178031813, 3.920088918599764, 3.9119697925477217, 3.903883560196367, 3.895830043399585, 3.887809065303511, 3.8798204503344467, 3.871864024186999, 3.863939613812429, 3.8560470474071993, 3.8481861544016884, 3.84035676544911, 3.8325587124145635, 3.8247918283642597, 3.817055947554879, 3.8093509054230967, 3.801676538575206, 3.7940326847769033, 3.7864191829431726, 3.7788358731283074, 3.7712825965160413, 3.7637591954097855, 3.7562655132229827, 3.7488013944695604, 3.7413666847544835, 3.7339612307644265, 3.7265848802585095, 3.7192374820591625, 3.7119188860430636, 3.704628943132164, 3.6973675052848316, 3.6901344254870425, 3.6829295577436896, 3.6757527570699637, 3.668603879482814, 3.6614827819925093, 3.654389322594246, 3.647323360259886, 3.6402847549297155, 3.6332733675043287, 3.626289059836565, 3.619331694723531, 3.6124011358986854, 3.6054972480240135, 3.598619896682262, 3.5917689483692548, 3.5849442704862757, 3.57814573133252, 3.5713732000976233, 3.5646265468542517, 3.557905642550763, 3.551210359003936, 3.544540568891772, 3.5378961457463474, 3.5312769639467483, 3.5246828987120637, 3.51811382609444, 3.5115696229722038, 3.505050167043044, 3.498555336817258, 3.4920850116110644, 3.485639071539962, 3.479217397512167, 3.472819871222104, 3.4664463751439487, 3.460096792525241, 3.4537710073805465, 3.447468904485183, 3.441190369369001, 3.434935288310221, 3.428703548329323, 3.422495037183004, 3.4163096433581703, 3.4101472560660078, 3.404007765236084, 3.397891061510519, 3.3917970362382013, 3.3857255814690608, 3.3796765899483923, 3.3736499551112247, 3.3676455710767526, 3.3616633326428045, 3.355703135280373, 3.349764875128191, 3.343848448987351, 3.3379537543159823, 3.332080689223966, 3.3262291524677066, 3.3203990434449486, 3.3145902621896393, 3.308802709366828, 3.303036286267633, 3.2972908948042328, 3.2915664375049145, 3.2858628175091624, 3.2801799385627852, 3.2745177050131087, 3.268876021804181, 3.2632547944720374, 3.2576539291400173, 3.2520733325141036, 3.246512911878309, 3.240972575090116, 3.235452230575948, 3.229951787326672, 3.224471154893161, 3.219010243381885, 3.2135689634505376, 3.2081472263037147, 3.202744943688619, 3.197362027890805, 3.191998391729978, 3.1866539485557985, 3.181328612243761, 3.176022297191078, 3.1707349183126223, 3.1654663910368956, 3.160216631302031, 3.1549855555518405, 3.1497730807318893, 3.144579124285606, 3.139403604150431, 3.1342464387539968, 3.129107547010342, 3.12398684831616, 3.1188842625470787, 3.1137997100539785, 3.1087331116593333, 3.103684388653594, 3.098653462791601, 3.0936402562890213, 3.0886446918188306, 3.0836666925078102, 3.0787061819330908, 3.0737630841187156, 3.068837323532239, 3.063928825081354, 3.059037514110546, 3.054163316397785, 3.0493061581512335, 3.0444659660059976, 3.0396426670208987, 3.034836188675271, 3.030046458865793, 3.0252734059033477, 3.020516958509904, 3.0157770458154305, 3.0110535973548296, 3.006346543064914, 3.0016558132813893, 2.9969813387358766, 2.992323050552957, 2.987680880247243, 2.9830547597204755, 2.9784446212586384, 2.973850397529119, 2.969272021577863, 2.9647094268265843, 2.960162547069978, 2.9556313164729686, 2.9511156695679723, 2.9466155412522013, 2.9421308667849666, 2.937661581785028, 2.933207622227946, 2.928768924443479, 2.924345425112978, 2.919937061266827, 2.915543770281887, 2.911165489878983, 2.9068021581203802, 2.902453713407325, 2.8981200944775662, 2.8938012404029245, 2.88949709058687, 2.8852075847621257, 2.8809326629882896, 2.8766722656494843, 2.8724263334520095, 2.8681948074220323, 2.8639776289032906, 2.8597747395548163, 2.8555860813486738, 2.85141159656773, 2.847251227803427, 2.8431049179535854, 2.8389726102202255, 2.8348542481074013, 2.830749775419062, 2.8266591362569167, 2.8225822750183345, 2.8185191363942566, 2.8144696653671164, 2.8104338072087875, 2.8064115074785545, 2.8024027120210837, 2.798407366964421, 2.79442541871802, 2.790456813970753, 2.786501499688973, 2.782559423114577, 2.778630531763081, 2.7747147734217186, 2.7708120961475595, 2.7669224482656367, 2.7630457783670814, 2.7591820353072993, 2.7553311682041337, 2.751493126436063, 2.7476678596404063, 2.7438553177115432, 2.74005545079915, 2.736268209306454, 2.732493543888498, 2.728731405450413, 2.7249817451457288, 2.721244514374666, 2.717519664782471, 2.7138071482577444, 2.7101069169308007, 2.706418923172024, 2.7027431195902505, 2.699079459031163, 2.6954278945756887, 2.6917883795384236, 2.6881608674660593, 2.6845453121358287, 2.6809416675539692, 2.677349887954184, 2.6737699277961244, 2.6702017417638944, 2.666645284764547, 2.6631005119266105, 2.659567378598624, 2.6560458403476686, 2.6525358529579366, 2.6490373724292917, 2.6455503549758497, 2.642074757024575, 2.638610535213875, 2.635157646392219, 2.631716047616765, 2.628285696151996, 2.6248665494683587, 2.6214585652409386, 2.618061701348118, 2.614675915870257, 2.611301167088393, 2.607937413482933, 2.604584613732369, 2.6012427267120084, 2.597911711492694, 2.594591527339559, 2.591282133710772, 2.58798349025631, 2.584695556816721, 2.581418293421918, 2.5781516602899655, 2.5748956178258817, 2.5716501266204594, 2.5684151474490773, 2.5651906412705427, 2.5619765692259224, 2.5587728926373976, 2.5555795730071256, 2.5523965720161024, 2.5492238515230454, 2.546061373563278, 2.5429091003476256, 2.5397669942613152, 2.5366350178628956, 2.5335131338831576, 2.5304013052240544, 2.527299494957651, 2.524207666325072, 2.5211257827354423, 2.5180538077648698, 2.5149917051554036, 2.511939438814015, 2.508896972811592, 2.50586427138193, 2.5028412989207363, 2.4998280199846374, 2.4968243992902095, 2.493830401712989, 2.490845992286524, 2.4878711362014014, 2.4849057988043075, 2.481949945597079, 2.4790035422357657, 2.4760665545297074, 2.4731389484406074, 2.470220690081624, 2.4673117457164544, 2.4644120817584456, 2.4615216647696925, 2.4586404614601527, 2.455768438686775, 2.4529055634526142, 2.450051802905977, 2.447207124339552, 2.4443714951895683, 2.441544883034939, 2.438727255596427, 2.435918580735808, 2.4331188264550523, 2.4303279608954917, 2.4275459523370144, 2.4247727691972534, 2.4220083800307846, 2.4192527535283292, 2.416505858515969, 2.4137676639543573, 2.411038138937943, 2.408317252694198, 2.40560497458285, 2.402901274095124, 2.4002061208529906, 2.397519484608405, 2.394841335242576, 2.392171642765223, 2.3895103773138446, 2.3868575091529896, 2.3842130086735356, 2.381576846391977, 2.378948992949711, 2.3763294191123308, 2.3737180957689286, 2.3711149939313985, 2.3685200847337473, 2.365933339431407, 2.3633547294005637, 2.3607842261374685, 2.358221801257783, 2.3556674264959043, 2.3531210737043082, 2.3505827148528944, 2.3480523220283365, 2.3455298674334335, 2.343015323386476, 2.340508662320603, 2.3380098567831706, 2.3355188794351314, 2.333035703050407, 2.3305603005152684, 2.3280926448277315, 2.3256327090969373, 2.3231804665425573, 2.320735890494183, 2.318298954390741, 2.315869631779893, 2.313447896317453, 2.311033721766805, 2.3086270819983197, 2.306227950988785, 2.3038363028208297, 2.301452111682364, 2.2990753518660103, 2.2967059977685484, 2.2943440238903654, 2.2919894048348906, 2.2896421153080677, 2.287302130117798, 2.284969424173405, 2.2826439724851055, 2.2803257501634713, 2.2780147324189013, 2.2757108945611013, 2.273414211998566, 2.2711246602380544, 2.268842214884084, 2.2665668516384168, 2.2642985462995573, 2.2620372747622484, 2.2597830130169725, 2.257535737149455, 2.2552954233401756, 2.2530620478638776, 2.2508355870890835, 2.248616017477613, 2.246403315584103, 2.244197458055537, 2.241998421630768, 2.2398061831400544, 2.237620719504589, 2.235442007736045, 2.233270024936108, 2.2311047482960262, 2.2289461550961556, 2.2267942227055104, 2.2246489285813156, 2.2225102502685643, 2.220378165399575, 2.218252651693562, 2.216133686956184, 2.2140212490791336, 2.21191531603969, 2.2098158659003015, 2.2077228768081647, 2.2056363269947985, 2.2035561947756297, 2.201482458549575, 2.199415096798637, 2.1973540880874833, 2.195299411063053, 2.19325104445414, 2.1912089670709998, 2.1891731578049525, 2.187143595627981, 2.185120259592341, 2.1831031288301705, 2.1810921825531016, 2.179087400051873, 2.1770887606959493, 2.1750962439331403, 2.173109829289224, 2.171129496367566, 2.1691552248487516, 2.1671869944902125, 2.165224785125864, 2.1632685766657276, 2.16131834909558, 2.1593740824765835, 2.1574357569449316, 2.1555033527114906, 2.1535768500614436, 2.151656229353944, 2.1497414710217595, 2.147832555570928, 2.145929463580413, 2.1440321757017586, 2.142140672658747, 2.140254935247065, 2.1383749443339637, 2.136500680857924, 2.1346321258283267, 2.1327692603251163, 2.1309120654984812, 2.1290605225685213, 2.127214612824929, 2.1253743176266586, 2.123539618401618, 2.121710496646339, 2.119886933925671, 2.1180689118724616, 2.1162564121872443, 2.1144494166379273, 2.1126479070594946, 2.1108518653536836, 2.1090612734886993, 2.1072761134988904, 2.1054963674844704, 2.1037220176111995, 2.1019530461101037, 2.100189435277167, 2.0984311674730454, 2.0966782251227722, 2.094930590715467, 2.0931882468040506, 2.0914511760049583, 2.0897193609978544, 2.087992784525345, 2.086271429392704, 2.0845552784675907, 2.0828443146797686, 2.081138521020835, 2.079437880543943, 2.0777423763635268, 2.0760519916550337, 2.0743667096546554, 2.0726865136590553, 2.071011387025106, 2.069341313169624, 2.0676762755691014, 2.066016257759453, 2.0643612433357488, 2.062711215951956, 2.061066159320686, 2.059426057212934, 2.057790893457831, 2.0561606519423816, 2.054535316611221, 2.052914871466362, 2.0512993005669475, 2.0496885880290026, 2.04808271802519, 2.0464816747845638, 2.0448854425923337, 2.043294005789613, 2.0417073487731883, 2.0401254559952755, 2.0385483119632832, 2.0369759012395825, 2.0354082084412646, 2.0338452182399114, 2.032286915361366, 2.0307332845854993, 2.0291843107459804, 2.02763997873005, 2.0261002734782942, 2.0245651799844198, 2.0230346832950272, 2.0215087685093933, 2.0199874207792408, 2.0184706253085287, 2.0169583673532263, 2.0154506322210963, 2.01394740527148, 2.0124486719150827, 2.0109544176137533, 2.00946462788028, 2.0079792882781726, 2.006498384421454, 2.0050219019744486, 2.0035498266515765, 2.002082144217147, 2.0006188404851475, 1.9991599013190442, 1.9977053126315747, 1.9962550603845466, 1.994809130588635, 1.9933675093031855, 1.9919301826360076, 1.990497136743183, 1.9890683578288673, 1.9876438321450884, 1.9862235459915598, 1.9848074857154767, 1.9833956377113329, 1.9819879884207228, 1.9805845243321498, 1.979185231980838, 1.9777900979485457, 1.976399108863371, 1.9750122513995723, 1.9736295122773775, 1.9722508782627992, 1.970876336167451, 1.9695058728483668, 1.9681394752078154, 1.9667771301931205, 1.9654188247964826, 1.9640645460547947, 1.9627142810494693, 1.9613680169062564, 1.9600257407950727, 1.9586874399298198, 1.9573531015682122, 1.9560227130116041, 1.954696261604818, 1.953373734735967, 1.9520551198362899, 1.9507404043799785, 1.949429575884007, 1.9481226219079644, 1.9468195300538884, 1.9455202879660978, 1.944224883331025, 1.9429333038770518, 1.9416455373743464, 1.9403615716346982, 1.9390813945113554, 1.937804993898868, 1.9365323577329174, 1.9352634739901629, 1.9339983306880832, 1.9327369158848127, 1.9314792176789897, 1.9302252242095934, 1.9289749236557931, 1.927728304236789, 1.926485354211659, 1.9252460618792049, 1.9240104155778006, 1.9227784036852364, 1.9215500146185691, 1.9203252368339743, 1.9191040588265893, 1.9178864691303705, 1.9166724563179418, 1.915462009000446, 1.9142551158273977, 1.913051765486541, 1.9118519467036963, 1.9106556482426205, 1.9094628589048628, 1.9082735675296187, 1.9070877629935876, 1.9059054342108301, 1.9047265701326301, 1.903551159747349, 1.9023791920802853, 1.9012106561935407, 1.9000455411858772, 1.8988838361925764, 1.8977255303853093, 1.8965706129719904, 1.8954190731966476, 1.8942709003392866, 1.8931260837157535, 1.891984612677599, 1.8908464766119482, 1.8897116649413663, 1.8885801671237272, 1.8874519726520778, 1.8863270710545117, 1.885205451894035, 1.8840871047684387, 1.882972019310166, 1.881860185186189, 1.8807515920978748, 1.8796462297808612, 1.8785440880049284, 1.8774451565738748, 1.8763494253253856, 1.8752568841309158, 1.8741675228955577, 1.8730813315579216, 1.8719983000900113, 1.8709184184970993, 1.869841676817606, 1.8687680651229794, 1.8676975735175678, 1.86663019213851, 1.8655659111556013, 1.8645047207711847, 1.863446611220027, 1.8623915727692015, 1.8613395957179701, 1.8602906703976638, 1.8592447871715705, 1.8582019364348106, 1.8571621086142318, 1.8561252941682813, 1.8550914835869028, 1.854060667391413, 1.8530328361343937, 1.8520079803995735, 1.850986090801722, 1.8499671579865284, 1.8489511726304972, 1.8479381254408322, 1.8469280071553293, 1.8459208085422614, 1.8449165204002729, 1.8439151335582704, 1.8429166388753084, 1.8419210272404871, 1.8409282895728398, 1.8399384168212303, 1.8389513999642393, 1.837967230010064, 1.8369858979964093, 1.8360073949903803, 1.8350317120883812, 1.8340588404160094, 1.833088771127947, 1.8321214954078606, 1.8311570044683025, 1.830195289550597, 1.8292363419247462, 1.8282801528893253, 1.827326713771382, 1.8263760159263327, 1.8254280507378648, 1.8244828096178356, 1.8235402840061703, 1.8226004653707648, 1.8216633452073874, 1.8207289150395767, 1.819797166418547, 1.8188680909230883, 1.8179416801594688, 1.817017925761341, 1.8160968193896398, 1.8151783527324932, 1.8142625175051197, 1.8133493054497372, 1.8124387083354663, 1.8115307179582376, 1.8106253261406953, 1.8097225247321054, 1.8088223056082584, 1.8079246606713837, 1.8070295818500501, 1.806137061099075, 1.8052470903994373, 1.8043596617581774, 1.8034747672083151, 1.8025923988087533, 1.8017125486441892, 1.800835208825024, 1.7999603714872752, 1.7990880287924833, 1.7982181729276276, 1.7973507961050357, 1.7964858905622954, 1.7956234485621634, 1.7947634623924866, 1.7939059243661055, 1.793050826820776, 1.7921981621190748, 1.7913479226483202, 1.7905001008204817, 1.7896546890720992, 1.7888116798641946, 1.7879710656821868, 1.7871328390358099, 1.7862969924590297, 1.785463518509957, 1.7846324097707653, 1.7838036588476114, 1.7829772583705465, 1.7821532009934393, 1.781331479393894, 1.7805120862731625, 1.7796950143560715, 1.7788802563909356, 1.77806780514948, 1.777257653426757, 1.7764497940410695, 1.775644219833889, 1.7748409236697782, 1.7740398984363077, 1.7732411370439838, 1.7724446324261647, 1.7716503775389834, 1.7708583653612737, 1.7700685888944863, 1.7692810411626188, 1.7684957152121308, 1.7677126041118756, 1.766931700953017, 1.7661529988489575, 1.765376490935262, 1.7646021703695791, 1.7638300303315735, 1.7630600640228395, 1.7622922646668404, 1.761526625508821, 1.760763139815745, 1.7600018008762124, 1.759242602000392, 1.758485536519945, 1.7577305977879527, 1.7569777791788477, 1.7562270740883354, 1.7554784759333282, 1.7547319781518673, 1.7539875742030588, 1.7532452575669948, 1.7525050217446887, 1.751766860258002, 1.7510307666495737, 1.750296734482751, 1.7495647573415187, 1.7488348288304325, 1.7481069425745428, 1.7473810922193358, 1.7466572714306552, 1.7459354738946402, 1.745215693317654, 1.7444979234262172, 1.7437821579669381, 1.7430683907064508, 1.7423566154313397, 1.7416468259480786, 1.740939016082963, 1.740233179682042, 1.7395293106110545, 1.7388274027553599, 1.7381274500198756, 1.7374294463290103, 1.7367333856265992, 1.7360392618758376, 1.7353470690592188, 1.7346568011784662, 1.733968452254473, 1.7332820163272356, 1.7325974874557895, 1.731914859718148, 1.7312341272112375, 1.730555284050834, 1.7298783243715017, 1.7292032423265293, 1.7285300320878683, 1.7278586878460704, 1.7271892038102252, 1.726521574207901, 1.7258557932850804, 1.7251918553060992, 1.7245297545535894, 1.7238694853284129, 1.7232110419496045, 1.7225544187543118, 1.7218996100977324, 1.7212466103530566, 1.7205954139114072, 1.7199460151817794, 1.7192984085909804, 1.7186525885835753, 1.7180085496218214, 1.7173662861856154, 1.716725792772433, 1.7160870638972694, 1.7154500940925836, 1.714814877908239, 1.714181409911447, 1.7135496846867098, 1.7129196968357618, 1.7122914409775143, 1.7116649117479985, 1.7110401038003082, 1.7104170118045463, 1.709795630447763, 1.7091759544339065, 1.7085579784837621, 1.7079416973349022, 1.707327105741625, 1.706714198474904, 1.7061029703223298, 1.705493416088059, 1.7048855305927568, 1.7042793086735448, 1.7036747451839447, 1.7030718349938254, 1.7024705729893508, 1.7018709540729253, 1.7012729731631386, 1.7006766251947159, 1.7000819051184615, 1.6994888079012107, 1.6988973285257714, 1.6983074619908758, 1.697719203311129, 1.6971325475169523, 1.6965474896545365, 1.6959640247857868, 1.6953821479882738, 1.6948018543551802, 1.6942231389952507, 1.693645997032743, 1.6930704236073708, 1.6924964138742613, 1.6919239630039011, 1.6913530661820837, 1.6907837186098635, 1.6902159155035041, 1.6896496520944297, 1.6890849236291738, 1.6885217253693292, 1.687960052591505, 1.687399900587269, 1.6868412646631061, 1.6862841401403652, 1.685728522355213, 1.6851744066585839, 1.6846217884161352, 1.6840706630081956, 1.6835210258297184, 1.6829728722902355, 1.6824261978138082, 1.6818809978389802, 1.6813372678187322, 1.6807950032204333, 1.6802541995257922, 1.6797148522308176, 1.6791769568457613, 1.6786405088950827, 1.6781055039173953, 1.6775719374654232, 1.6770398051059565, 1.6765091024198033, 1.6759798250017437, 1.6754519684604914, 1.674925528418636, 1.6744005005126112, 1.67387688039264, 1.6733546637226964, 1.6728338461804568, 1.6723144234572576, 1.6717963912580514, 1.671279745301361, 1.670764481319235, 1.6702505950572104, 1.6697380822742574, 1.6692269387427496, 1.6687171602484063, 1.6682087425902639, 1.6677016815806192, 1.6671959730449963, 1.6666916128221017, 1.666188596763777, 1.6656869207349627, 1.6651865806136505, 1.6646875722908465, 1.664189891670524, 1.6636935346695862, 1.6631984972178215, 1.6627047752578608, 1.6622123647451414, 1.6617212616478598, 1.6612314619469333, 1.66074296163596, 1.660255756721175, 1.6597698432214127, 1.6592852171680639, 1.658801874605035, 1.658319811588712, 1.6578390241879142, 1.6573595084838577, 1.6568812605701166, 1.6564042765525793, 1.655928552549413, 1.65545408469102, 1.654980869120003, 1.654508901991121, 1.6540381794712544, 1.6535686977393638, 1.6531004529864504, 1.6526334414155202, 1.6521676592415422, 1.6517031026914128, 1.6512397680039144, 1.65077765142968, 1.6503167492311532, 1.6498570576825524, 1.6493985730698302, 1.6489412916906374, 1.6484852098542866, 1.6480303238817111, 1.6475766301054309, 1.6471241248695156, 1.6466728045295451, 1.646222665452573, 1.6457737040170919, 1.645325916612995, 1.6448792996415393, 1.6444338495153121, 1.6439895626581884, 1.6435464355053024, 1.6431044645030057, 1.6426636461088342, 1.6422239767914701, 1.64178545303071, 1.6413480713174247, 1.6409118281535267, 1.640476720051933, 1.6400427435365321, 1.6396098951421485, 1.6391781714145044, 1.638747568910188, 1.6383180841966194, 1.6378897138520132, 1.6374624544653456, 1.6370363026363193, 1.6366112549753313, 1.6361873081034348, 1.6357644586523077, 1.63534270326422, 1.6349220385919967, 1.6345024612989854, 1.6340839680590233, 1.6336665555564025, 1.6332502204858392, 1.632834959552436, 1.6324207694716544, 1.6320076469692744, 1.6315955887813691, 1.6311845916542669, 1.630774652344521, 1.630365767618875, 1.6299579342542334, 1.6295511490376249, 1.629145408766174, 1.628740710247066, 1.6283370502975174, 1.6279344257447423, 1.627532833425919, 1.627132270188163, 1.6267327328884893, 1.6263342183937868, 1.625936723580782, 1.62554024533601, 1.6251447805557828, 1.6247503261461582, 1.6243568790229093, 1.623964436111491, 1.6235729943470136, 1.6231825506742077, 1.6227931020473962, 1.6224046454304617, 1.6220171777968195, 1.6216306961293834, 1.621245197420537, 1.620860678672104, 1.6204771368953192, 1.6200945691107949, 1.6197129723484942, 1.6193323436477007, 1.6189526800569882, 1.618573978634191, 1.6181962364463751, 1.6178194505698096, 1.6174436180899352, 1.617068736101336, 1.6166948017077127, 1.6163218120218492, 1.615949764165588, 1.6155786552697977, 1.6152084824743482, 1.6148392429280787, 1.6144709337887704, 1.6141035522231186, 1.6137370954067045, 1.6133715605239658, 1.6130069447681692, 1.6126432453413828, 1.6122804594544478, 1.6119185843269488, 1.6115576171871906, 1.6111975552721662, 1.61083839582753, 1.6104801361075725, 1.6101227733751897, 1.609766304901859, 1.6094107279676109, 1.6090560398609988, 1.608702237879077, 1.6083493193273706, 1.6079972815198478, 1.6076461217788975, 1.6072958374352961, 1.6069464258281887, 1.6065978843050546, 1.6062502102216865, 1.6059034009421618, 1.6055574538388162, 1.6052123662922202, 1.6048681356911474, 1.6045247594325551, 1.604182234921554, 1.6038405595713827, 1.6034997308033851, 1.603159746046979, 1.6028206027396381, 1.6024822983268583, 1.60214483026214, 1.6018081960069546, 1.601472393030728, 1.6011374188108096, 1.600803270832447, 1.600469946588765, 1.600137443580737, 1.599805759317162, 1.5994748913146382, 1.599144837097541, 1.5988155941979951, 1.5984871601558537, 1.5981595325186693, 1.5978327088416742, 1.597506686687753, 1.597181463627419, 1.596857037238791, 1.5965334051075681, 1.5962105648270075, 1.595888513997897, 1.5955672502285365, 1.595246771134708, 1.5949270743396575, 1.5946081574740678, 1.5942900181760367, 1.593972654091054, 1.5936560628719745, 1.5933402421790002, 1.5930251896796526, 1.5927109030487523, 1.5923973799683935, 1.592084618127923, 1.5917726152239167, 1.591461368960157, 1.5911508770476086, 1.5908411372043976, 1.590532147155788, 1.5902239046341595, 1.5899164073789829, 1.5896096531368034, 1.5893036396612097, 1.5889983647128212, 1.5886938260592571, 1.5883900214751197, 1.5880869487419706, 1.5877846056483105, 1.587482989989553, 1.5871820995680077, 1.5868819321928551, 1.5865824856801265, 1.5862837578526818, 1.5859857465401876, 1.5856884495790964, 1.585391864812625, 1.5850959900907324, 1.5848008232701012, 1.5845063622141102, 1.584212604792822, 1.583919548882954, 1.583627192367863, 1.5833355331375192, 1.5830445690884907, 1.582754298123918, 1.5824647181534959, 1.582175827093453, 1.5818876228665288, 1.5816001034019562, 1.5813132666354386, 1.581027110509129, 1.5807416329716124, 1.5804568319778851, 1.5801727054893309, 1.5798892514737048, 1.5796064679051123, 1.5793243527639864, 1.5790429040370728, 1.5787621197174042, 1.5784819978042857, 1.5782025363032706, 1.5779237332261453, 1.5776455865909034, 1.5773680944217334, 1.577091254748994, 1.5768150656091966, 1.576539525044985, 1.5762646311051158, 1.575990381844443, 1.5757167753238925, 1.5754438096104477, 1.5751714827771284, 1.5748997929029729, 1.5746287380730164, 1.574358316378277, 1.5740885259157325, 1.5738193647883014, 1.5735508311048285, 1.5732829229800624, 1.5730156385346372, 1.572748975895056, 1.5724829331936707, 1.5722175085686636, 1.5719527001640312, 1.5716885061295613, 1.5714249246208205, 1.5711619537991317, 1.5708995918315574, 1.5706378368908813, 1.570376687155591, 1.5701161408098603, 1.5698561960435298, 1.569596851052089, 1.5693381040366619, 1.5690799532039843, 1.5688223967663895, 1.5685654329417893, 1.5683090599536578, 1.5680532760310124, 1.567798079408396, 1.5675434683258627, 1.567289441028955, 1.5670359957686932, 1.5667831308015525, 1.5665308443894486, 1.56627913479972, 1.5660280003051106, 1.5657774391837542, 1.5655274497191554, 1.5652780302001734, 1.5650291789210062, 1.5647808941811723, 1.5645331742854955, 1.564286017544086, 1.564039422272327, 1.563793386790854, 1.5635479094255424, 1.5633029885074878, 1.5630586223729923, 1.562814809363545, 1.5625715478258084, 1.5623288361116008, 1.5620866725778813, 1.5618450555867307, 1.5616039835053397, 1.5613634547059878, 1.5611234675660337, 1.560884020467892, 1.5606451117990234, 1.5604067399519146, 1.560168903324065, 1.5599316003179717, 1.559694829341109, 1.5594585888059187, 1.5592228771297905, 1.5589876927350481, 1.5587530340489344, 1.5585188995035921, 1.5582852875360544, 1.5580521965882235, 1.5578196251068601, 1.557587571543566, 1.5573560343547672, 1.5571250120017033, 1.5568945029504082, 1.5566645056716952, 1.556435018641145, 1.5562060403390894, 1.555977569250594, 1.5557496038654473, 1.5555221426781418, 1.5552951841878624, 1.55506872689847, 1.5548427693184874, 1.5546173099610845, 1.5543923473440635, 1.5541678799898457, 1.553943906425454, 1.5537204251825014, 1.5534974347971742, 1.5532749338102214, 1.5530529207669344, 1.5528313942171386, 1.5526103527151764, 1.552389794819892, 1.55216971909462, 1.5519501241071691, 1.5517310084298088, 1.5515123706392562, 1.5512942093166595, 1.5510765230475871, 1.5508593104220119, 1.5506425700342976, 1.5504263004831873, 1.5502105003717845, 1.5499951683075441, 1.5497803029022585, 1.5495659027720403, 1.549351966537313, 1.549138492822794, 1.548925480257485, 1.5487129274746534, 1.548500833111824, 1.5482891958107619, 1.548078014217462, 1.5478672869821317, 1.5476570127591844, 1.5474471902072193, 1.5472378179890118, 1.5470288947714996, 1.5468204192257702, 1.5466123900270474, 1.5464048058546784, 1.5461976653921201, 1.545990967326928, 1.5457847103507416, 1.545578893159272, 1.5453735144522902, 1.5451685729336126, 1.5449640673110898, 1.5447599962965926, 1.5445563586060007, 1.5443531529591894, 1.5441503780800174, 1.543948032696313, 1.5437461155398637, 1.5435446253464034, 1.5433435608555972, 1.5431429208110337, 1.5429427039602077, 1.5427429090545128, 1.5425435348492254, 1.542344580103494, 1.542146043580328, 1.5419479240465837, 1.5417502202729523, 1.5415529310339509, 1.5413560551079057, 1.541159591276945, 1.540963538326982, 1.540767895047709, 1.54057266023258, 1.5403778326788011, 1.5401834111873214, 1.5399893945628154, 1.539795781613676, 1.5396025711520023, 1.5394097619935865, 1.539217352957902, 1.539025342868093, 1.5388337305509636, 1.5386425148369658, 1.5384516945601852, 1.538261268558335, 1.5380712356727402, 1.5378815947483282, 1.5376923446336161, 1.5375034841807025, 1.5373150122452517, 1.537126927686487, 1.5369392293671769, 1.536751916153623, 1.5365649869156541, 1.5363784405266072, 1.5361922758633246, 1.5360064918061371, 1.5358210872388554, 1.5356360610487587, 1.535451412126586, 1.53526713936652, 1.5350832416661813, 1.5348997179266164, 1.534716567052286, 1.534533787951053, 1.5343513795341766, 1.5341693407162964, 1.533987670415424, 1.5338063675529348, 1.5336254310535513, 1.5334448598453387, 1.5332646528596925, 1.533084809031326, 1.5329053272982633, 1.5327262066018252, 1.5325474458866224, 1.5323690441005426, 1.5321910001947416, 1.5320133131236329, 1.5318359818448766, 1.531659005319371, 1.5314823825112398, 1.531306112387824, 1.5311301939196726, 1.5309546260805296, 1.5307794078473256, 1.53060453820017, 1.5304300161223354, 1.530255840600255, 1.5300820106235062, 1.5299085251848028, 1.529735383279989, 1.529562583908023, 1.5293901260709721, 1.5292180087740024, 1.5290462310253656, 1.5288747918363936, 1.5287036902214872, 1.5285329251981048, 1.528362495786756, 1.52819240101099, 1.5280226398973857, 1.5278532114755439, 1.527684114778076, 1.5275153488405966, 1.5273469127017119, 1.5271788054030124, 1.5270110259890617, 1.5268435735073878, 1.526676447008474, 1.5265096455457512, 1.526343168175586, 1.5261770139572712, 1.5260111819530209, 1.5258456712279558, 1.525680480850098, 1.5255156098903617, 1.5253510574225415, 1.525186822523304, 1.525022904272183, 1.5248593017515648, 1.524696014046683, 1.524533040245607, 1.5243703794392354, 1.5242080307212862, 1.5240459931882877, 1.5238842659395697, 1.5237228480772549, 1.5235617387062512, 1.523400936934241, 1.5232404418716734, 1.5230802526317564, 1.5229203683304464, 1.5227607880864413, 1.5226015110211717, 1.5224425362587903, 1.5222838629261672, 1.5221254901528765, 1.5219674170711937, 1.5218096428160799, 1.521652166525182, 1.5214949873388162, 1.5213381043999654, 1.5211815168542668, 1.5210252238500077, 1.5208692245381126, 1.5207135180721385, 1.520558103608266, 1.52040298030529, 1.5202481473246103, 1.5200936038302277, 1.5199393489887325, 1.519785381969297, 1.5196317019436665, 1.5194783080861543, 1.5193251995736297, 1.5191723755855158, 1.5190198353037705, 1.5188675779128944, 1.5187156025999078, 1.5185639085543525, 1.5184124949682785, 1.5182613610362403, 1.5181105059552844, 1.5179599289249464, 1.5178096291472405, 1.5176596058266507, 1.5175098581701263, 1.5173603853870712, 1.517211186689337, 1.517062261291218, 1.516913608409438, 1.5167652272631487, 1.516617117073917, 1.5164692770657224, 1.5163217064649437, 1.5161744045003585, 1.5160273704031284, 1.5158806034067962, 1.5157341027472764, 1.515587867662851, 1.5154418973941561, 1.515296191184181, 1.5151507482782556, 1.5150055679240473, 1.5148606493715506, 1.514715991873081, 1.5145715946832683, 1.514427457059048, 1.514283578259655, 1.5141399575466166, 1.5139965941837437, 1.5138534874371277, 1.5137106365751274, 1.5135680408683656, 1.5134256995897237, 1.5132836120143291, 1.5131417774195544, 1.513000195085006, 1.5128588642925176, 1.5127177843261466, 1.512576954472162, 1.5124363740190419, 1.5122960422574638, 1.5121559584803002, 1.512016121982609, 1.5118765320616274, 1.5117371880167676, 1.5115980891496061, 1.5114592347638807, 1.5113206241654784, 1.5111822566624373, 1.5110441315649301, 1.510906248185264, 1.510768605837872, 1.5106312038393055, 1.5104940415082295, 1.5103571181654147, 1.5102204331337297, 1.5100839857381374, 1.5099477753056871, 1.5098118011655064, 1.5096760626487973, 1.5095405590888273, 1.5094052898209251, 1.5092702541824732, 1.5091354515129, 1.5090008811536777, 1.5088665424483092, 1.5087324347423283, 1.5085985573832896, 1.5084649097207643, 1.5083314911063308, 1.508198300893571, 1.5080653384380653, 1.5079326030973825, 1.5078000942310756, 1.5076678112006765, 1.507535753369688, 1.5074039201035783, 1.5072723107697765, 1.5071409247376628, 1.5070097613785671, 1.5068788200657572, 1.5067481001744387, 1.5066176010817451, 1.5064873221667323, 1.5063572628103732, 1.506227422395553, 1.5060978003070598, 1.505968395931581, 1.505839208657699, 1.5057102378758807, 1.505581482978476, 1.5054529433597088, 1.5053246184156726, 1.5051965075443254, 1.5050686101454818, 1.5049409256208097, 1.5048134533738209, 1.5046861928098698, 1.5045591433361434, 1.5044323043616603, 1.5043056752972586, 1.5041792555555968, 1.5040530445511435, 1.5039270417001742, 1.503801246420764, 1.503675658132783, 1.5035502762578918, 1.503425100219532, 1.5033001294429251, 1.503175363355065, 1.503050801384712, 1.502926442962386, 1.5028022875203662, 1.5026783344926788, 1.5025545833150982, 1.502431033425134, 1.5023076842620346, 1.502184535266773, 1.5020615858820463, 1.501938835552271, 1.5018162837235742, 1.5016939298437897, 1.5015717733624545, 1.5014498137308006, 1.5013280504017534, 1.501206482829919, 1.5010851104715903, 1.50096393278473, 1.5008429492289745, 1.5007221592656228, 1.5006015623576339, 1.500481157969622, 1.5003609455678493, 1.5002409246202222, 1.5001210945962862, 1.5000014549672211, 1.4998820052058346, 1.4997627447865574, 1.49964367318544, 1.4995247898801454, 1.4994060943499457, 1.4992875860757144, 1.4991692645399257, 1.4990511292266462, 1.49893317962153, 1.4988154152118147, 1.4986978354863179, 1.498580439935428, 1.4984632280511054, 1.498346199326871, 1.4982293532578044, 1.4981126893405425, 1.4979962070732673, 1.4978799059557064, 1.497763785489128, 1.497647845176333, 1.4975320845216529, 1.4974165030309432, 1.497301100211581, 1.4971858755724579, 1.4970708286239756, 1.4969559588780434, 1.4968412658480699, 1.4967267490489615, 1.4966124079971166, 1.4964982422104198, 1.4963842512082388, 1.4962704345114182, 1.4961567916422787, 1.4960433221246057, 1.4959300254836523, 1.4958169012461282, 1.4957039489402004, 1.4955911680954839, 1.495478558243042, 1.495366118915378, 1.4952538496464316, 1.495141749971576, 1.4950298194276117, 1.4949180575527616, 1.4948064638866687, 1.494695037970391, 1.4945837793463952, 1.494472687558554, 1.4943617621521426, 1.494251002673831, 1.4941404086716832, 1.4940299796951508, 1.4939197152950696, 1.4938096150236548, 1.4936996784344965, 1.493589905082555, 1.4934802945241596, 1.4933708463169986, 1.4932615600201216, 1.4931524351939298, 1.4930434714001748, 1.4929346682019529, 1.4928260251637027, 1.4927175418511993, 1.4926092178315498, 1.49250105267319, 1.4923930459458836, 1.4922851972207085, 1.4921775060700635, 1.4920699720676578, 1.4919625947885087, 1.491855373808938, 1.491748308706566, 1.4916413990603101, 1.491534644450378, 1.4914280444582666, 1.491321598666756, 1.4912153066599052, 1.4911091680230497, 1.4910031823427958, 1.4908973492070174, 1.490791668204853, 1.490686138926701, 1.4905807609642145, 1.4904755339102984, 1.4903704573591074, 1.4902655309060384, 1.4901607541477286, 1.4900561266820533, 1.4899516481081176, 1.4898473180262577, 1.4897431360380327, 1.4896391017462234, 1.489535214754828, 1.4894314746690578, 1.4893278810953323, 1.489224433641279, 1.4891211319157263, 1.4890179755286994, 1.488914964091421, 1.4888120972163017, 1.4887093745169404, 1.4886067956081195, 1.4885043601058003, 1.4884020676271201, 1.48829991779039, 1.4881979102150866, 1.4880960445218545, 1.4879943203324961, 1.4878927372699766, 1.4877912949584104, 1.4876899930230643, 1.4875888310903522, 1.4874878087878305, 1.487386925744196, 1.4872861815892802, 1.48718557595405, 1.4870851084705972, 1.486984778772144, 1.4868845864930293, 1.4867845312687153, 1.4866846127357765, 1.4865848305318994, 1.4864851842958777, 1.4863856736676115, 1.4862862982881004, 1.4861870577994438, 1.486087951844832, 1.485988980068549, 1.4858901421159647, 1.4857914376335344, 1.4856928662687914, 1.4855944276703508, 1.4854961214878954, 1.4853979473721848, 1.4852999049750417, 1.485201993949353, 1.4851042139490689, 1.4850065646291937, 1.4849090456457865, 1.4848116566559584, 1.484714397317866, 1.4846172672907112, 1.4845202662347363, 1.484423393811221, 1.4843266496824796, 1.4842300335118566, 1.4841335449637252, 1.484037183703485, 1.483940949397553, 1.4838448417133672, 1.4837488603193807, 1.4836530048850576, 1.4835572750808712, 1.4834616705783001, 1.483366191049826, 1.483270836168929, 1.4831756056100862, 1.4830804990487674, 1.482985516161432, 1.482890656625528, 1.4827959201194847, 1.4827013063227144, 1.482606814915606, 1.4825124455795218, 1.4824181979967985, 1.4823240718507396, 1.4822300668256145, 1.482136182606655, 1.4820424188800523, 1.4819487753329537, 1.481855251653461, 1.481761847530627, 1.4816685626544501, 1.4815753967158747, 1.481482349406786, 1.4813894204200095, 1.4812966094493052, 1.481203916189366, 1.4811113403358152, 1.4810188815852028, 1.480926539635003, 1.4808343141836122, 1.4807422049303434, 1.4806502115754265, 1.4805583338200043, 1.4804665713661282, 1.4803749239167574, 1.480283391175755, 1.4801919728478852, 1.4801006686388116, 1.4800094782550923, 1.4799184014041802, 1.4798274377944152, 1.4797365871350276, 1.479645849136132, 1.4795552235087213, 1.479464709964672, 1.4793743082167343, 1.479284017978533, 1.479193838964563, 1.4791037708901877, 1.4790138134716369, 1.4789239664260005, 1.4788342294712318, 1.4787446023261384, 1.4786550847103848, 1.478565676344486, 1.4784763769498077, 1.478387186248561, 1.478298103963802, 1.478209129819427, 1.4781202635401727, 1.4780315048516102, 1.4779428534801462, 1.4778543091530172, 1.477765871598288, 1.4776775405448486, 1.4775893157224147, 1.4775011968615177, 1.4774131836935132, 1.4773252759505682, 1.4772374733656637, 1.4771497756725909, 1.4770621826059511, 1.4769746939011468, 1.476887309294387, 1.4768000285226788, 1.4767128513238292, 1.4766257774364395, 1.476538806599903, 1.4764519385544048, 1.4763651730409177, 1.476278509801199, 1.4761919485777912, 1.4761054891140144, 1.4760191311539694, 1.4759328744425315, 1.4758467187253501, 1.4757606637488445, 1.4756747092602036, 1.4755888550073812, 1.4755031007390957, 1.4754174462048266, 1.4753318911548123, 1.4752464353400476, 1.4751610785122824, 1.4750758204240166, 1.4749906608285022, 1.474905599479736, 1.474820636132461, 1.4747357705421629, 1.474651002465066, 1.4745663316581346, 1.4744817578790672, 1.474397280886296, 1.474312900438984, 1.4742286162970237, 1.4741444282210339, 1.4740603359723554, 1.4739763393130552, 1.4738924380059162, 1.4738086318144403, 1.4737249205028442, 1.4736413038360585, 1.4735577815797234, 1.4734743535001884, 1.4733910193645088, 1.4733077789404438, 1.4732246319964553, 1.473141578301706, 1.4730586176260523, 1.47297574974005, 1.472892974414946, 1.4728102914226795, 1.4727277005358774, 1.4726452015278535]\n"
     ]
    }
   ],
   "source": [
    "iterations = 2000;\n",
    "alpha = 0.0001;\n",
    "theta_m = np.zeros(X_train_m.shape[1])\n",
    "theta_m, cost_history = gradient_descent(X_train_m, y_train_m, theta_m, alpha, iterations)\n",
    "print('Final value of theta =')\n",
    "print(theta_m)\n",
    "print('cost_history =', cost_history)"
   ]
  },
  {
   "cell_type": "code",
   "execution_count": 658,
   "id": "8728caeb",
   "metadata": {},
   "outputs": [
    {
     "data": {
      "text/plain": [
       "Text(0.5, 1.0, 'Convergence of gradient descent (Multi-variate regression)')"
      ]
     },
     "execution_count": 658,
     "metadata": {},
     "output_type": "execute_result"
    },
    {
     "data": {
      "image/png": "[encoded data removed]",
      "text/plain": [
       "<Figure size 720x432 with 1 Axes>"
      ]
     },
     "metadata": {
      "needs_background": "light"
     },
     "output_type": "display_data"
    }
   ],
   "source": [
    "import matplotlib.pyplot as plt\n",
    "plt.plot(range(1, iterations +1), cost_history, color ='blue')\n",
    "plt.rcParams[\"figure.figsize\"] = (10,6)\n",
    "plt.grid()\n",
    "plt.xlabel(\"Iteration #\")\n",
    "plt.ylabel(\"Cost\")\n",
    "plt.title(\"Convergence of gradient descent (Multi-variate regression)\")\n"
   ]
  },
  {
   "cell_type": "code",
   "execution_count": 659,
   "id": "3f870930",
   "metadata": {},
   "outputs": [
    {
     "name": "stdout",
     "output_type": "stream",
     "text": [
      "[[18.          3.          2.         ...  0.          4.33073334\n",
      "   1.        ]\n",
      " [18.          4.          4.         ...  1.          3.13549422\n",
      "   1.        ]\n",
      " [18.          4.          4.         ...  1.          2.77258872\n",
      "   1.        ]\n",
      " ...\n",
      " [21.          1.          1.         ...  1.          1.38629436\n",
      "   1.        ]\n",
      " [18.          3.          2.         ...  1.          0.\n",
      "   1.        ]\n",
      " [19.          1.          1.         ...  1.          1.79175947\n",
      "   1.        ]]\n"
     ]
    }
   ],
   "source": [
    "X_u0 = np.ones((n, 1))\n",
    "X_test_m = np.hstack((X_test_m, X_u0))\n",
    "print(X_test_m)"
   ]
  },
  {
   "cell_type": "code",
   "execution_count": 660,
   "id": "4919e5c5",
   "metadata": {},
   "outputs": [
    {
     "name": "stdout",
     "output_type": "stream",
     "text": [
      "2.410111268138231\n"
     ]
    }
   ],
   "source": [
    "from math import sqrt\n",
    "y_predicted_m = X_test_m.dot(theta_m)\n",
    "rms_m = (mean_squared_error(y_predicted_m, y_test_m))\n",
    "print(rms_m)\n"
   ]
  },
  {
   "cell_type": "code",
   "execution_count": 661,
   "id": "6bd738b1",
   "metadata": {},
   "outputs": [
    {
     "data": {
      "text/plain": [
       "0.7252910563551078"
      ]
     },
     "execution_count": 661,
     "metadata": {},
     "output_type": "execute_result"
    }
   ],
   "source": [
    "from sklearn.metrics import r2_score   \n",
    "r2_score(y_test_m, y_predicted_m)"
   ]
  },
  {
   "cell_type": "code",
   "execution_count": null,
   "id": "8267c861",
   "metadata": {},
   "outputs": [],
   "source": []
  },
  {
   "cell_type": "code",
   "execution_count": 662,
   "id": "22939909",
   "metadata": {},
   "outputs": [],
   "source": [
    "                                #Newtons method(univariate)"
   ]
  },
  {
   "cell_type": "code",
   "execution_count": 663,
   "id": "fb86fb08",
   "metadata": {},
   "outputs": [],
   "source": [
    "def newton_step(curr, y, X, reg=None):\n",
    "    p = np.array(X.dot(curr[:,0]), ndmin=2).T  \n",
    "    W = np.diag((p*(1-p))[:,0]) \n",
    "    hessian = X.T.dot(W).dot(X) \n",
    "    grad = X.T.dot(y-p)  \n",
    "    if reg:\n",
    "        step = np.dot(np.linalg.inv(hessian + reg*np.eye(curr.shape[0])), grad)\n",
    "    else:\n",
    "        step = np.dot(np.linalg.inv(hessian), grad)  \n",
    "    beta = curr + step\n",
    "    return beta"
   ]
  },
  {
   "cell_type": "code",
   "execution_count": 664,
   "id": "0ab76855",
   "metadata": {},
   "outputs": [],
   "source": [
    "def check_convergence(beta_old, beta_new, tol, iters):\n",
    "    coef_change = np.abs(beta_old - beta_new)\n",
    "    return not (np.any(coef_change>tol) and iters < max_iters)\n",
    "def test_model(X, y, beta):\n",
    "    prob = np.array(X.dot(beta))\n",
    "    prob = np.greater(prob, 0.5*np.ones((prob.shape[1],1)))\n",
    "    accuracy = np.count_nonzero(np.equal(prob, y))/prob.shape[0] * 100\n",
    "    return accuracy"
   ]
  },
  {
   "cell_type": "code",
   "execution_count": 665,
   "id": "dda4a144",
   "metadata": {},
   "outputs": [],
   "source": [
    "test_split = int(merged_df.shape[0]*0.9) \n",
    "val_split = int(merged_df.shape[0]*0.8)"
   ]
  },
  {
   "cell_type": "code",
   "execution_count": 666,
   "id": "964fa853",
   "metadata": {},
   "outputs": [],
   "source": [
    "test_data = merged_df[test_split:]\n",
    "val_data = merged_df[val_split:test_split]\n",
    "data = merged_df[:val_split]\n",
    "\n",
    "y_train_newton, X_train_newton = merged_df['G3'], merged_df.drop('G3', axis=1)\n",
    "y_val, X_val = val_data['G3'], val_data.drop('G3', axis=1)\n",
    "y_test_newton, X_test_newton = test_data['G3'], test_data.drop('G3', axis=1)"
   ]
  },
  {
   "cell_type": "code",
   "execution_count": 667,
   "id": "d32c4410",
   "metadata": {},
   "outputs": [
    {
     "name": "stdout",
     "output_type": "stream",
     "text": [
      "Iteration: 0\n",
      "Validation Accuracy: 0.0%\n",
      "[[68395.93684211]\n",
      " [11740.        ]\n",
      " [10673.        ]\n",
      " [ 8522.        ]\n",
      " [  891.        ]\n",
      " [13331.        ]\n",
      " [12523.        ]\n",
      " [14469.        ]\n",
      " [23981.        ]\n",
      " [49681.        ]\n",
      " [50221.        ]\n",
      " [  453.        ]\n",
      " [ 2041.        ]\n",
      " [ 3277.        ]\n",
      " [ 2108.        ]\n",
      " [ 3308.        ]\n",
      " [ 3978.        ]\n",
      " [ 5954.08337688]]\n",
      "Iteration: 0\n",
      "Validation Accuracy: 17.94871794871795%\n",
      "[[68395.93684213]\n",
      " [11740.        ]\n",
      " [10673.        ]\n",
      " [ 8522.        ]\n",
      " [  891.        ]\n",
      " [13331.        ]\n",
      " [12523.        ]\n",
      " [14469.00000001]\n",
      " [23981.        ]\n",
      " [49680.99999999]\n",
      " [50221.        ]\n",
      " [  452.99999997]\n",
      " [ 2041.        ]\n",
      " [ 3277.00000001]\n",
      " [ 2108.        ]\n",
      " [ 3308.00000001]\n",
      " [ 3978.00000007]\n",
      " [ 5954.08337687]]\n",
      "Iteration: 0\n",
      "Validation Accuracy: 0.0%\n",
      "[[68395.93684216]\n",
      " [11740.        ]\n",
      " [10673.        ]\n",
      " [ 8522.        ]\n",
      " [  891.        ]\n",
      " [13331.00000001]\n",
      " [12523.        ]\n",
      " [14469.00000001]\n",
      " [23981.        ]\n",
      " [49680.99999998]\n",
      " [50220.99999999]\n",
      " [  452.99999993]\n",
      " [ 2041.00000001]\n",
      " [ 3277.00000002]\n",
      " [ 2108.00000001]\n",
      " [ 3308.00000002]\n",
      " [ 3978.00000014]\n",
      " [ 5954.08337686]]\n",
      "Iteration: 0\n",
      "Validation Accuracy: 0.0%\n",
      "[[68395.93684218]\n",
      " [11740.        ]\n",
      " [10673.00000001]\n",
      " [ 8522.00000001]\n",
      " [  891.        ]\n",
      " [13331.00000001]\n",
      " [12523.        ]\n",
      " [14469.00000002]\n",
      " [23980.99999999]\n",
      " [49680.99999998]\n",
      " [50220.99999999]\n",
      " [  452.9999999 ]\n",
      " [ 2041.00000001]\n",
      " [ 3277.00000003]\n",
      " [ 2108.00000001]\n",
      " [ 3308.00000003]\n",
      " [ 3978.00000021]\n",
      " [ 5954.08337684]]\n",
      "Iteration: 0\n",
      "Validation Accuracy: 0.0%\n",
      "[[68395.93684221]\n",
      " [11740.00000001]\n",
      " [10673.00000001]\n",
      " [ 8522.00000001]\n",
      " [  890.99999999]\n",
      " [13331.00000001]\n",
      " [12523.        ]\n",
      " [14469.00000002]\n",
      " [23980.99999999]\n",
      " [49680.99999997]\n",
      " [50220.99999998]\n",
      " [  452.99999987]\n",
      " [ 2041.00000001]\n",
      " [ 3277.00000004]\n",
      " [ 2108.00000001]\n",
      " [ 3308.00000004]\n",
      " [ 3978.00000028]\n",
      " [ 5954.08337683]]\n",
      "Iteration: 0\n",
      "Validation Accuracy: 0.0%\n",
      "[[68395.93684223]\n",
      " [11740.00000001]\n",
      " [10673.00000001]\n",
      " [ 8522.00000001]\n",
      " [  890.99999999]\n",
      " [13331.00000002]\n",
      " [12523.        ]\n",
      " [14469.00000003]\n",
      " [23980.99999999]\n",
      " [49680.99999996]\n",
      " [50220.99999998]\n",
      " [  452.99999983]\n",
      " [ 2041.00000002]\n",
      " [ 3277.00000005]\n",
      " [ 2108.00000001]\n",
      " [ 3308.00000005]\n",
      " [ 3978.00000035]\n",
      " [ 5954.08337682]]\n",
      "Iteration: 0\n",
      "Validation Accuracy: 0.0%\n",
      "[[68395.93684226]\n",
      " [11740.00000001]\n",
      " [10673.00000001]\n",
      " [ 8522.00000001]\n",
      " [  890.99999999]\n",
      " [13331.00000002]\n",
      " [12523.        ]\n",
      " [14469.00000003]\n",
      " [23980.99999999]\n",
      " [49680.99999995]\n",
      " [50220.99999997]\n",
      " [  452.9999998 ]\n",
      " [ 2041.00000002]\n",
      " [ 3277.00000006]\n",
      " [ 2108.00000002]\n",
      " [ 3308.00000006]\n",
      " [ 3978.00000042]\n",
      " [ 5954.08337681]]\n",
      "Iteration: 0\n",
      "Validation Accuracy: 0.0%\n",
      "[[68395.93684228]\n",
      " [11740.00000001]\n",
      " [10673.00000002]\n",
      " [ 8522.00000001]\n",
      " [  890.99999999]\n",
      " [13331.00000003]\n",
      " [12523.        ]\n",
      " [14469.00000004]\n",
      " [23980.99999998]\n",
      " [49680.99999994]\n",
      " [50220.99999997]\n",
      " [  452.99999977]\n",
      " [ 2041.00000003]\n",
      " [ 3277.00000007]\n",
      " [ 2108.00000002]\n",
      " [ 3308.00000007]\n",
      " [ 3978.00000049]\n",
      " [ 5954.0833768 ]]\n",
      "Iteration: 0\n",
      "Validation Accuracy: 0.0%\n",
      "[[68395.93684231]\n",
      " [11740.00000001]\n",
      " [10673.00000002]\n",
      " [ 8522.00000002]\n",
      " [  890.99999999]\n",
      " [13331.00000003]\n",
      " [12523.        ]\n",
      " [14469.00000004]\n",
      " [23980.99999998]\n",
      " [49680.99999993]\n",
      " [50220.99999997]\n",
      " [  452.99999973]\n",
      " [ 2041.00000003]\n",
      " [ 3277.00000008]\n",
      " [ 2108.00000002]\n",
      " [ 3308.00000008]\n",
      " [ 3978.00000056]\n",
      " [ 5954.08337679]]\n",
      "Iteration: 0\n",
      "Validation Accuracy: 0.0%\n",
      "[[68395.93684234]\n",
      " [11740.00000001]\n",
      " [10673.00000002]\n",
      " [ 8522.00000002]\n",
      " [  890.99999999]\n",
      " [13331.00000003]\n",
      " [12523.        ]\n",
      " [14469.00000005]\n",
      " [23980.99999998]\n",
      " [49680.99999993]\n",
      " [50220.99999996]\n",
      " [  452.9999997 ]\n",
      " [ 2041.00000003]\n",
      " [ 3277.00000008]\n",
      " [ 2108.00000002]\n",
      " [ 3308.00000009]\n",
      " [ 3978.00000063]\n",
      " [ 5954.08337678]]\n",
      "Iteration: 0\n",
      "Validation Accuracy: 0.0%\n",
      "[[68395.93684236]\n",
      " [11740.00000002]\n",
      " [10673.00000002]\n",
      " [ 8522.00000002]\n",
      " [  890.99999999]\n",
      " [13331.00000004]\n",
      " [12523.        ]\n",
      " [14469.00000005]\n",
      " [23980.99999998]\n",
      " [49680.99999992]\n",
      " [50220.99999996]\n",
      " [  452.99999967]\n",
      " [ 2041.00000004]\n",
      " [ 3277.00000009]\n",
      " [ 2108.00000003]\n",
      " [ 3308.0000001 ]\n",
      " [ 3978.0000007 ]\n",
      " [ 5954.08337676]]\n",
      "Iteration: 0\n",
      "Validation Accuracy: 0.0%\n",
      "[[68395.93684239]\n",
      " [11740.00000002]\n",
      " [10673.00000003]\n",
      " [ 8522.00000002]\n",
      " [  890.99999998]\n",
      " [13331.00000004]\n",
      " [12523.        ]\n",
      " [14469.00000006]\n",
      " [23980.99999997]\n",
      " [49680.99999991]\n",
      " [50220.99999995]\n",
      " [  452.99999963]\n",
      " [ 2041.00000004]\n",
      " [ 3277.0000001 ]\n",
      " [ 2108.00000003]\n",
      " [ 3308.00000011]\n",
      " [ 3978.00000077]\n",
      " [ 5954.08337675]]\n",
      "Iteration: 0\n",
      "Validation Accuracy: 0.0%\n",
      "[[68395.93684241]\n",
      " [11740.00000002]\n",
      " [10673.00000003]\n",
      " [ 8522.00000002]\n",
      " [  890.99999998]\n",
      " [13331.00000004]\n",
      " [12523.        ]\n",
      " [14469.00000006]\n",
      " [23980.99999997]\n",
      " [49680.9999999 ]\n",
      " [50220.99999995]\n",
      " [  452.9999996 ]\n",
      " [ 2041.00000004]\n",
      " [ 3277.00000011]\n",
      " [ 2108.00000003]\n",
      " [ 3308.00000012]\n",
      " [ 3978.00000084]\n",
      " [ 5954.08337674]]\n",
      "Iteration: 0\n",
      "Validation Accuracy: 0.0%\n",
      "[[68395.93684244]\n",
      " [11740.00000002]\n",
      " [10673.00000003]\n",
      " [ 8522.00000003]\n",
      " [  890.99999998]\n",
      " [13331.00000005]\n",
      " [12523.        ]\n",
      " [14469.00000007]\n",
      " [23980.99999997]\n",
      " [49680.99999989]\n",
      " [50220.99999994]\n",
      " [  452.99999957]\n",
      " [ 2041.00000005]\n",
      " [ 3277.00000012]\n",
      " [ 2108.00000003]\n",
      " [ 3308.00000013]\n",
      " [ 3978.00000091]\n",
      " [ 5954.08337673]]\n",
      "Iteration: 0\n",
      "Validation Accuracy: 0.0%\n",
      "[[68395.93684246]\n",
      " [11740.00000002]\n",
      " [10673.00000003]\n",
      " [ 8522.00000003]\n",
      " [  890.99999998]\n",
      " [13331.00000005]\n",
      " [12523.        ]\n",
      " [14469.00000007]\n",
      " [23980.99999997]\n",
      " [49680.99999988]\n",
      " [50220.99999994]\n",
      " [  452.99999954]\n",
      " [ 2041.00000005]\n",
      " [ 3277.00000013]\n",
      " [ 2108.00000004]\n",
      " [ 3308.00000014]\n",
      " [ 3978.00000098]\n",
      " [ 5954.08337672]]\n",
      "Iteration: 0\n",
      "Validation Accuracy: 0.0%\n",
      "[[68395.93684249]\n",
      " [11740.00000002]\n",
      " [10673.00000004]\n",
      " [ 8522.00000003]\n",
      " [  890.99999998]\n",
      " [13331.00000006]\n",
      " [12523.        ]\n",
      " [14469.00000008]\n",
      " [23980.99999997]\n",
      " [49680.99999988]\n",
      " [50220.99999993]\n",
      " [  452.9999995 ]\n",
      " [ 2041.00000006]\n",
      " [ 3277.00000014]\n",
      " [ 2108.00000004]\n",
      " [ 3308.00000015]\n",
      " [ 3978.00000105]\n",
      " [ 5954.08337671]]\n",
      "Iteration: 0\n",
      "Validation Accuracy: 0.0%\n",
      "[[68395.93684252]\n",
      " [11740.00000003]\n",
      " [10673.00000004]\n",
      " [ 8522.00000003]\n",
      " [  890.99999998]\n",
      " [13331.00000006]\n",
      " [12523.        ]\n",
      " [14469.00000008]\n",
      " [23980.99999996]\n",
      " [49680.99999987]\n",
      " [50220.99999993]\n",
      " [  452.99999947]\n",
      " [ 2041.00000006]\n",
      " [ 3277.00000015]\n",
      " [ 2108.00000004]\n",
      " [ 3308.00000016]\n",
      " [ 3978.00000112]\n",
      " [ 5954.0833767 ]]\n",
      "Iteration: 0\n",
      "Validation Accuracy: 0.0%\n",
      "[[68395.93684254]\n",
      " [11740.00000003]\n",
      " [10673.00000004]\n",
      " [ 8522.00000003]\n",
      " [  890.99999998]\n",
      " [13331.00000006]\n",
      " [12523.        ]\n",
      " [14469.00000009]\n",
      " [23980.99999996]\n",
      " [49680.99999986]\n",
      " [50220.99999993]\n",
      " [  452.99999944]\n",
      " [ 2041.00000006]\n",
      " [ 3277.00000016]\n",
      " [ 2108.00000004]\n",
      " [ 3308.00000017]\n",
      " [ 3978.00000119]\n",
      " [ 5954.08337668]]\n",
      "Iteration: 0\n",
      "Validation Accuracy: 0.0%\n",
      "[[68395.93684257]\n",
      " [11740.00000003]\n",
      " [10673.00000004]\n",
      " [ 8522.00000003]\n",
      " [  890.99999997]\n",
      " [13331.00000007]\n",
      " [12523.        ]\n",
      " [14469.00000009]\n",
      " [23980.99999996]\n",
      " [49680.99999985]\n",
      " [50220.99999992]\n",
      " [  452.9999994 ]\n",
      " [ 2041.00000007]\n",
      " [ 3277.00000017]\n",
      " [ 2108.00000005]\n",
      " [ 3308.00000018]\n",
      " [ 3978.00000126]\n",
      " [ 5954.08337667]]\n",
      "Iteration: 0\n",
      "Validation Accuracy: 0.0%\n",
      "[[68395.93684259]\n",
      " [11740.00000003]\n",
      " [10673.00000005]\n",
      " [ 8522.00000004]\n",
      " [  890.99999997]\n",
      " [13331.00000007]\n",
      " [12523.        ]\n",
      " [14469.0000001 ]\n",
      " [23980.99999996]\n",
      " [49680.99999984]\n",
      " [50220.99999992]\n",
      " [  452.99999937]\n",
      " [ 2041.00000007]\n",
      " [ 3277.00000018]\n",
      " [ 2108.00000005]\n",
      " [ 3308.00000019]\n",
      " [ 3978.00000133]\n",
      " [ 5954.08337666]]\n"
     ]
    }
   ],
   "source": [
    "## Hyperparameters\n",
    "max_iters = 20\n",
    "tol=0.1 # convergence tolerance\n",
    "reg_term = 1\n",
    "\n",
    "beta_old, beta = np.ones((X_train_newton.shape[1],1)), np.zeros((X_train_newton.shape[1],1))\n",
    "iter_count = 0\n",
    "coefs_converged = False\n",
    "\n",
    "for i in range(max_iters):\n",
    "    print('Iteration: {}'.format(iter_count))\n",
    "    print('Validation Accuracy: {}%'.format(\n",
    "        test_model(X_val, y_val.to_frame(), beta_old)))\n",
    "    beta_old = beta\n",
    "    beta = newton_step(beta, y_train_newton.to_frame(), X_train_newton, reg_term)\n",
    "    print(beta)"
   ]
  },
  {
   "cell_type": "code",
   "execution_count": null,
   "id": "365e22a7",
   "metadata": {},
   "outputs": [],
   "source": []
  },
  {
   "cell_type": "code",
   "execution_count": null,
   "id": "ce14e244",
   "metadata": {},
   "outputs": [],
   "source": []
  },
  {
   "cell_type": "code",
   "execution_count": 668,
   "id": "b8f3b0ce",
   "metadata": {},
   "outputs": [],
   "source": [
    "test_data = merged_df[test_split:]\n",
    "val_data = merged_df[val_split:test_split]\n",
    "data = merged_df[:val_split]\n",
    "\n",
    "y_train_newton, X_train_newton = merged_df['G3'], merged_df.drop('G3', axis=1)\n",
    "y_val, X_val = val_data['G3'], val_data.drop('G3', axis=1)\n",
    "y_test_newton, X_test_newton = test_data['G3'], test_data.drop('G3', axis=1)"
   ]
  },
  {
   "cell_type": "code",
   "execution_count": 669,
   "id": "329db1e1",
   "metadata": {},
   "outputs": [
    {
     "name": "stdout",
     "output_type": "stream",
     "text": [
      "(395, 18)\n",
      "(395,)\n",
      "(395, 1)\n"
     ]
    }
   ],
   "source": [
    "print(X_train_newton.shape)\n",
    "X_u0 = np.ones((X_train_newton.shape[0]))\n",
    "print(X_u0.shape)\n",
    "X_u0 = X_u0.reshape((X_train_newton.shape[0], 1))\n",
    "print(X_u0.shape)\n"
   ]
  },
  {
   "cell_type": "code",
   "execution_count": 670,
   "id": "90864c75",
   "metadata": {},
   "outputs": [],
   "source": [
    "X_train_newton = np.hstack((X_train_newton, X_u0))"
   ]
  },
  {
   "cell_type": "code",
   "execution_count": 671,
   "id": "ce78f43c",
   "metadata": {},
   "outputs": [],
   "source": [
    "def compute_cost_n(X, y, theta):\n",
    "    predictions = X.dot(theta)\n",
    "    y = y.values.reshape(X.shape[0], 1)\n",
    "    errors = np.subtract(predictions, y)\n",
    "    sqrErrors = np.square(errors)\n",
    "    J = 1 / (2 * m) * np.sum(sqrErrors)\n",
    "\n",
    "    return J"
   ]
  },
  {
   "cell_type": "code",
   "execution_count": 672,
   "id": "27cb81da",
   "metadata": {},
   "outputs": [],
   "source": [
    "def hypothesis(X,theta):\n",
    "    y_pred=X@theta\n",
    "    return y_pred\n",
    "def sigmoid(z):\n",
    "    return 1.0/(1+np.exp(-1*z))\n",
    "def gradient(X,theta,y):\n",
    "    y_pred=hypothesis(X,theta)\n",
    "    m=X.shape[0]\n",
    "    y = y.values.reshape(m, 1)\n",
    "    grad=np.dot(X.T,y_pred-y)\n",
    "    return grad/m\n",
    "def hessian(X,theta,y):\n",
    "    y_pred=hypothesis(X,theta)\n",
    "    m=X.shape[0]\n",
    "    m=np.size(X,0)\n",
    "    H=(X.T.dot(np.diag(y_pred.reshape(np.size(X,0),)))@(np.diag((1-y_pred).reshape(np.size(X,0),))).dot(X))\n",
    "    return H/m\n",
    "def Newtons(X,y,iters):\n",
    "    m,n=X.shape\n",
    "    theta=np.ones((n,1))\n",
    "    err_list=[]\n",
    "    for i in range(iters):\n",
    "        err = compute_cost_n(X,y,theta)\n",
    "        err_list.append(err)\n",
    "        grad = gradient(X,theta,y)\n",
    "        H=hessian(X,theta,y)\n",
    "        theta=theta-(np.linalg.pinv(H)@grad)\n",
    "    return theta,err_list"
   ]
  },
  {
   "cell_type": "code",
   "execution_count": 673,
   "id": "89249e6f",
   "metadata": {},
   "outputs": [
    {
     "name": "stdout",
     "output_type": "stream",
     "text": [
      "(395,)\n"
     ]
    }
   ],
   "source": [
    "print(y_train_newton.shape)\n",
    "theta,err = Newtons(X_train_newton, y_train_newton, 1000)"
   ]
  },
  {
   "cell_type": "code",
   "execution_count": 674,
   "id": "0efdedf4",
   "metadata": {},
   "outputs": [
    {
     "name": "stdout",
     "output_type": "stream",
     "text": [
      "[[0.89259735]\n",
      " [0.87284351]\n",
      " [0.87825601]\n",
      " [0.85194286]\n",
      " [0.9658504 ]]\n"
     ]
    }
   ],
   "source": [
    "print(theta[:5])"
   ]
  },
  {
   "cell_type": "code",
   "execution_count": 675,
   "id": "3d90faba",
   "metadata": {},
   "outputs": [],
   "source": [
    "y_predicted_m = X_train_newton.dot(theta)\n",
    "#rms_m = (mean_squared_error(y_predicted_m, y_test_m))"
   ]
  },
  {
   "cell_type": "code",
   "execution_count": 676,
   "id": "6d33e130",
   "metadata": {},
   "outputs": [],
   "source": [
    "rms_m = (mean_squared_error(y_predicted_m, y_train_newton.values.reshape(y_train_newton.shape[0], 1)))"
   ]
  },
  {
   "cell_type": "code",
   "execution_count": 677,
   "id": "07911b2f",
   "metadata": {},
   "outputs": [
    {
     "data": {
      "text/plain": [
       "69.81714180299639"
      ]
     },
     "execution_count": 677,
     "metadata": {},
     "output_type": "execute_result"
    }
   ],
   "source": [
    "rms_m"
   ]
  },
  {
   "cell_type": "markdown",
   "id": "f20816f7",
   "metadata": {},
   "source": [
    "                                       ##UNIVARIATE NEWTON"
   ]
  },
  {
   "cell_type": "code",
   "execution_count": 678,
   "id": "e05010c3",
   "metadata": {},
   "outputs": [],
   "source": [
    "test_data = merged_df[test_split:]\n",
    "val_data = merged_df[val_split:test_split]\n",
    "data = merged_df[:val_split]\n",
    "\n",
    "y_train_newton, X_train_newton = merged_df['G3'], merged_df['G2']\n",
    "y_val, X_val = val_data['G3'], val_data.drop('G3', axis=1)\n",
    "y_test_newton, X_test_newton = test_data['G3'], test_data['G2']"
   ]
  },
  {
   "cell_type": "code",
   "execution_count": 679,
   "id": "68c46fd9",
   "metadata": {},
   "outputs": [],
   "source": [
    "X_u0 = np.ones((X_train_newton.shape[0]))\n",
    "X_u0 = X_u0.reshape((X_train_newton.shape[0], 1))\n",
    "X_train_newton = X_train_newton.values.reshape((X_train_newton.shape[0], 1))\n",
    "\n"
   ]
  },
  {
   "cell_type": "code",
   "execution_count": 680,
   "id": "64df830e",
   "metadata": {},
   "outputs": [],
   "source": [
    "X_train_newton = np.hstack((X_train_newton, X_u0))"
   ]
  },
  {
   "cell_type": "code",
   "execution_count": 681,
   "id": "631d1080",
   "metadata": {},
   "outputs": [],
   "source": [
    "theta,err = Newtons(X_train_newton, y_train_newton, 100)"
   ]
  },
  {
   "cell_type": "code",
   "execution_count": 682,
   "id": "6cce1e1d",
   "metadata": {},
   "outputs": [
    {
     "data": {
      "text/plain": [
       "array([[0.54340517],\n",
       "       [8.04682127]])"
      ]
     },
     "execution_count": 682,
     "metadata": {},
     "output_type": "execute_result"
    }
   ],
   "source": [
    "theta"
   ]
  },
  {
   "cell_type": "code",
   "execution_count": 683,
   "id": "897d7dba",
   "metadata": {},
   "outputs": [],
   "source": [
    "y_predicted_m = X_train_newton.dot(theta)"
   ]
  },
  {
   "cell_type": "code",
   "execution_count": 684,
   "id": "fd254396",
   "metadata": {},
   "outputs": [],
   "source": [
    "rms_m = (mean_squared_error(y_predicted_m, y_train_newton.values.reshape(y_train_newton.shape[0], 1)))"
   ]
  },
  {
   "cell_type": "code",
   "execution_count": 685,
   "id": "07385368",
   "metadata": {},
   "outputs": [
    {
     "data": {
      "text/plain": [
       "4.486314625992635"
      ]
     },
     "execution_count": 685,
     "metadata": {},
     "output_type": "execute_result"
    }
   ],
   "source": [
    "rms_m"
   ]
  },
  {
   "cell_type": "code",
   "execution_count": null,
   "id": "b643d7b4",
   "metadata": {},
   "outputs": [],
   "source": []
  },
  {
   "cell_type": "code",
   "execution_count": null,
   "id": "d67f4680",
   "metadata": {},
   "outputs": [],
   "source": []
  },
  {
   "cell_type": "code",
   "execution_count": null,
   "id": "dcea2d46",
   "metadata": {},
   "outputs": [],
   "source": []
  },
  {
   "cell_type": "code",
   "execution_count": null,
   "id": "a8fd9402",
   "metadata": {},
   "outputs": [],
   "source": []
  }
 ],
 "metadata": {
  "kernelspec": {
   "display_name": "Python 3",
   "language": "python",
   "name": "python3"
  },
  "language_info": {
   "codemirror_mode": {
    "name": "ipython",
    "version": 3
   },
   "file_extension": ".py",
   "mimetype": "text/x-python",
   "name": "python",
   "nbconvert_exporter": "python",
   "pygments_lexer": "ipython3",
   "version": "3.8.8"
  }
 },
 "nbformat": 4,
 "nbformat_minor": 5
}
