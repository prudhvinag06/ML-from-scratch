{
 "cells": [
  {
   "cell_type": "code",
   "execution_count": 1,
   "id": "9ce2e404",
   "metadata": {},
   "outputs": [],
   "source": [
    "# DATA PREPROCESSING STAGE "
   ]
  },
  {
   "cell_type": "code",
   "execution_count": 251,
   "id": "7cb23eae",
   "metadata": {},
   "outputs": [],
   "source": [
    "import numpy as np\n",
    "import pandas as pd\n",
    "import matplotlib.pyplot as plt\n",
    "main_df = pd.read_csv(\"student.csv\")"
   ]
  },
  {
   "cell_type": "code",
   "execution_count": 252,
   "id": "b7e52bec",
   "metadata": {},
   "outputs": [
    {
     "data": {
      "text/plain": [
       "(395, 18)"
      ]
     },
     "execution_count": 252,
     "metadata": {},
     "output_type": "execute_result"
    }
   ],
   "source": [
    "main_df.shape\n"
   ]
  },
  {
   "cell_type": "code",
   "execution_count": 253,
   "id": "7d53fc3a",
   "metadata": {
    "scrolled": true
   },
   "outputs": [
    {
     "data": {
      "text/plain": [
       "school         0\n",
       "sex            0\n",
       "age           15\n",
       "address        0\n",
       "Medu           0\n",
       "Fedu           0\n",
       "studytime      0\n",
       "failures       0\n",
       "activities     0\n",
       "nursery        0\n",
       "higher         0\n",
       "freetime       0\n",
       "goout          0\n",
       "health         0\n",
       "absences       0\n",
       "G1             0\n",
       "G2             0\n",
       "G3             0\n",
       "dtype: int64"
      ]
     },
     "execution_count": 253,
     "metadata": {},
     "output_type": "execute_result"
    }
   ],
   "source": [
    "main_df.isna().sum()"
   ]
  },
  {
   "cell_type": "code",
   "execution_count": 254,
   "id": "f4fa95c2",
   "metadata": {},
   "outputs": [
    {
     "data": {
      "text/plain": [
       "16.0    97\n",
       "17.0    97\n",
       "15.0    79\n",
       "18.0    79\n",
       "19.0    23\n",
       "20.0     3\n",
       "21.0     1\n",
       "22.0     1\n",
       "Name: age, dtype: int64"
      ]
     },
     "execution_count": 254,
     "metadata": {},
     "output_type": "execute_result"
    }
   ],
   "source": [
    "main_df[\"age\"].value_counts() ##here according to data there are two students with outlier values. (21, 22). \n",
    "## So that can deviate the mean by some amount. So we can consider median over mean for this feature to fill the na \n",
    "## values"
   ]
  },
  {
   "cell_type": "code",
   "execution_count": 255,
   "id": "08aa52bc",
   "metadata": {},
   "outputs": [
    {
     "name": "stdout",
     "output_type": "stream",
     "text": [
      "mean :  16.705263157894738\n",
      "median :  17.0\n"
     ]
    }
   ],
   "source": [
    "age_mean = main_df['age'].mean()\n",
    "age_median = main_df['age'].median()\n",
    "\n",
    "print(\"mean : \", age_mean)\n",
    "print(\"median : \", age_median)\n",
    "\n",
    "## mean value is less here than median. So there is very little deviation of mean due to outliers. So we use mean to fill the data."
   ]
  },
  {
   "cell_type": "code",
   "execution_count": 256,
   "id": "3b64b1ee",
   "metadata": {},
   "outputs": [],
   "source": [
    "main_df[\"age\"].fillna(age_mean, inplace = True) ##now we have removed all the na values."
   ]
  },
  {
   "cell_type": "code",
   "execution_count": 257,
   "id": "bfab565c",
   "metadata": {},
   "outputs": [
    {
     "data": {
      "text/plain": [
       "school        0\n",
       "sex           0\n",
       "age           0\n",
       "address       0\n",
       "Medu          0\n",
       "Fedu          0\n",
       "studytime     0\n",
       "failures      0\n",
       "activities    0\n",
       "nursery       0\n",
       "higher        0\n",
       "freetime      0\n",
       "goout         0\n",
       "health        0\n",
       "absences      0\n",
       "G1            0\n",
       "G2            0\n",
       "G3            0\n",
       "dtype: int64"
      ]
     },
     "execution_count": 257,
     "metadata": {},
     "output_type": "execute_result"
    }
   ],
   "source": [
    "main_df.isna().sum()"
   ]
  },
  {
   "cell_type": "code",
   "execution_count": 258,
   "id": "70dff988",
   "metadata": {},
   "outputs": [
    {
     "name": "stdout",
     "output_type": "stream",
     "text": [
      "Categorial Data :  Index(['school', 'sex', 'address', 'activities', 'nursery', 'higher'], dtype='object')\n"
     ]
    }
   ],
   "source": [
    "cat_columns = main_df.select_dtypes(exclude=[\"number\",\"bool_\"])\n",
    "print(\"Categorial Data : \", cat_columns.columns)\n"
   ]
  },
  {
   "cell_type": "code",
   "execution_count": 259,
   "id": "3000bc43",
   "metadata": {},
   "outputs": [
    {
     "name": "stdout",
     "output_type": "stream",
     "text": [
      "['GP' 'MS']\n",
      "['F' 'M']\n",
      "['U' 'R']\n",
      "['no' 'yes']\n",
      "['yes' 'no']\n",
      "['yes' 'no']\n"
     ]
    }
   ],
   "source": [
    "print(main_df[\"school\"].unique())\n",
    "print(main_df[\"sex\"].unique())\n",
    "print(main_df[\"address\"].unique())\n",
    "print(main_df[\"activities\"].unique())\n",
    "print(main_df[\"nursery\"].unique())\n",
    "print(main_df[\"higher\"].unique())"
   ]
  },
  {
   "cell_type": "code",
   "execution_count": 260,
   "id": "c3c91d7d",
   "metadata": {},
   "outputs": [
    {
     "name": "stdout",
     "output_type": "stream",
     "text": [
      "GP    349\n",
      "MS     46\n",
      "Name: school, dtype: int64\n",
      "F    208\n",
      "M    187\n",
      "Name: sex, dtype: int64\n",
      "U    307\n",
      "R     88\n",
      "Name: address, dtype: int64\n",
      "yes    201\n",
      "no     194\n",
      "Name: activities, dtype: int64\n",
      "yes    314\n",
      "no      81\n",
      "Name: nursery, dtype: int64\n",
      "yes    375\n",
      "no      20\n",
      "Name: higher, dtype: int64\n"
     ]
    }
   ],
   "source": [
    "print(main_df[\"school\"].value_counts())\n",
    "print(main_df[\"sex\"].value_counts())\n",
    "print(main_df[\"address\"].value_counts())\n",
    "print(main_df[\"activities\"].value_counts())\n",
    "print(main_df[\"nursery\"].value_counts())\n",
    "print(main_df[\"higher\"].value_counts())"
   ]
  },
  {
   "cell_type": "code",
   "execution_count": 261,
   "id": "5cf4a0ac",
   "metadata": {},
   "outputs": [],
   "source": [
    "school_encode = pd.get_dummies(main_df.school)\n",
    "sex_encode = pd.get_dummies(main_df.sex)\n",
    "address_encode = pd.get_dummies(main_df.address)\n",
    "activities_encode = pd.get_dummies(main_df.activities)\n",
    "nursery_encode = pd.get_dummies(main_df.nursery)\n",
    "higher_encode = pd.get_dummies(main_df.higher)"
   ]
  },
  {
   "cell_type": "code",
   "execution_count": 262,
   "id": "10411a06",
   "metadata": {},
   "outputs": [],
   "source": [
    "merged_df = pd.concat([main_df, school_encode, sex_encode, address_encode, activities_encode, nursery_encode, higher_encode], axis = 'columns')"
   ]
  },
  {
   "cell_type": "code",
   "execution_count": 263,
   "id": "d25d79f1",
   "metadata": {},
   "outputs": [
    {
     "name": "stdout",
     "output_type": "stream",
     "text": [
      "   school sex        age address  Medu  Fedu  studytime  failures activities  \\\n",
      "0      GP   F  18.000000       U     4     4          2         0         no   \n",
      "1      GP   F  17.000000       U     1     1          2         0         no   \n",
      "2      GP   F  15.000000       U     1     1          2         3         no   \n",
      "3      GP   F  15.000000       U     4     2          3         0        yes   \n",
      "4      GP   F  16.000000       U     3     3          2         0         no   \n",
      "..    ...  ..        ...     ...   ...   ...        ...       ...        ...   \n",
      "95     GP   F  15.000000       R     1     1          4         1        yes   \n",
      "96     GP   M  16.000000       R     4     3          1         0        yes   \n",
      "97     GP   F  16.000000       U     2     1          2         0         no   \n",
      "98     GP   F  16.705263       U     4     4          1         0        yes   \n",
      "99     GP   F  16.000000       U     4     3          3         0         no   \n",
      "\n",
      "   nursery  ...  F  M  R  U  no  yes  no  yes  no  yes  \n",
      "0      yes  ...  1  0  0  1   1    0   0    1   0    1  \n",
      "1       no  ...  1  0  0  1   1    0   1    0   0    1  \n",
      "2      yes  ...  1  0  0  1   1    0   0    1   0    1  \n",
      "3      yes  ...  1  0  0  1   0    1   0    1   0    1  \n",
      "4      yes  ...  1  0  0  1   1    0   0    1   0    1  \n",
      "..     ...  ... .. .. .. ..  ..  ...  ..  ...  ..  ...  \n",
      "95     yes  ...  1  0  1  0   0    1   0    1   0    1  \n",
      "96      no  ...  0  1  1  0   0    1   1    0   0    1  \n",
      "97     yes  ...  1  0  0  1   1    0   0    1   0    1  \n",
      "98      no  ...  1  0  0  1   0    1   1    0   0    1  \n",
      "99     yes  ...  1  0  0  1   1    0   0    1   0    1  \n",
      "\n",
      "[100 rows x 30 columns]\n"
     ]
    }
   ],
   "source": [
    "print(merged_df.head(100))"
   ]
  },
  {
   "cell_type": "code",
   "execution_count": 264,
   "id": "6d365a11",
   "metadata": {},
   "outputs": [
    {
     "data": {
      "text/plain": [
       "Index(['school', 'sex', 'age', 'address', 'Medu', 'Fedu', 'studytime',\n",
       "       'failures', 'activities', 'nursery', 'higher', 'freetime', 'goout',\n",
       "       'health', 'absences', 'G1', 'G2', 'G3', 'GP', 'MS', 'F', 'M', 'R', 'U',\n",
       "       'no', 'yes', 'no', 'yes', 'no', 'yes'],\n",
       "      dtype='object')"
      ]
     },
     "execution_count": 264,
     "metadata": {},
     "output_type": "execute_result"
    }
   ],
   "source": [
    "merged_df.columns"
   ]
  },
  {
   "cell_type": "code",
   "execution_count": 265,
   "id": "c01657b9",
   "metadata": {},
   "outputs": [],
   "source": [
    "merged_df.drop(['school', 'sex', 'address', 'nursery', 'higher', 'activities', 'F', 'R', 'no', 'no', 'no', 'GP'], axis = 'columns', inplace = True)"
   ]
  },
  {
   "cell_type": "code",
   "execution_count": 266,
   "id": "1ca9858d",
   "metadata": {},
   "outputs": [
    {
     "name": "stdout",
     "output_type": "stream",
     "text": [
      "Categorial Data :  Index([], dtype='object')\n"
     ]
    }
   ],
   "source": [
    "cat_columns = merged_df.select_dtypes(exclude=[\"number\",\"bool_\"])\n",
    "print(\"Categorial Data : \", cat_columns.columns)"
   ]
  },
  {
   "cell_type": "code",
   "execution_count": 267,
   "id": "b23105bc",
   "metadata": {},
   "outputs": [
    {
     "data": {
      "text/plain": [
       "Int64Index([], dtype='int64')"
      ]
     },
     "execution_count": 267,
     "metadata": {},
     "output_type": "execute_result"
    }
   ],
   "source": [
    "merged_df.index[merged_df.duplicated()]    #no duplicate rows"
   ]
  },
  {
   "cell_type": "code",
   "execution_count": 268,
   "id": "99c18f46",
   "metadata": {},
   "outputs": [
    {
     "data": {
      "text/plain": [
       "age          395\n",
       "Medu         395\n",
       "Fedu         395\n",
       "studytime    395\n",
       "failures     395\n",
       "freetime     395\n",
       "goout        395\n",
       "health       395\n",
       "absences     395\n",
       "G1           395\n",
       "G2           395\n",
       "MS           395\n",
       "M            395\n",
       "U            395\n",
       "yes          395\n",
       "yes          395\n",
       "yes          395\n",
       "dtype: int64"
      ]
     },
     "execution_count": 268,
     "metadata": {},
     "output_type": "execute_result"
    }
   ],
   "source": [
    "main_df = merged_df\n",
    "X = main_df.drop(\"G3\", axis = \"columns\")\n",
    "y = main_df[\"G3\"]\n",
    "X.count()"
   ]
  },
  {
   "cell_type": "code",
   "execution_count": 269,
   "id": "a6ff8854",
   "metadata": {},
   "outputs": [],
   "source": [
    "                                    # using sklearn"
   ]
  },
  {
   "cell_type": "code",
   "execution_count": 270,
   "id": "069a909e",
   "metadata": {},
   "outputs": [],
   "source": [
    "# from sklearn.model_selection import train_test_split\n",
    "# X_train, X_test, y_train, y_test = train_test_split(X, y, train_size = 0.8)"
   ]
  },
  {
   "cell_type": "code",
   "execution_count": 271,
   "id": "6dab6365",
   "metadata": {},
   "outputs": [],
   "source": [
    "# from sklearn.linear_model import LinearRegression\n",
    "# clf = LinearRegression()\n",
    "# clf.fit(X_train, y_train)"
   ]
  },
  {
   "cell_type": "code",
   "execution_count": 272,
   "id": "696e435a",
   "metadata": {},
   "outputs": [],
   "source": [
    "# clf.predict(X_test)"
   ]
  },
  {
   "cell_type": "code",
   "execution_count": 273,
   "id": "07b19eb2",
   "metadata": {},
   "outputs": [],
   "source": [
    "# clf.score(X_test, y_test)"
   ]
  },
  {
   "cell_type": "code",
   "execution_count": 274,
   "id": "85aabc6f",
   "metadata": {},
   "outputs": [],
   "source": [
    "                                    #  a.univariate Regression"
   ]
  },
  {
   "cell_type": "code",
   "execution_count": 275,
   "id": "90aaa4ce",
   "metadata": {},
   "outputs": [
    {
     "data": {
      "text/html": [
       "<div>\n",
       "<style scoped>\n",
       "    .dataframe tbody tr th:only-of-type {\n",
       "        vertical-align: middle;\n",
       "    }\n",
       "\n",
       "    .dataframe tbody tr th {\n",
       "        vertical-align: top;\n",
       "    }\n",
       "\n",
       "    .dataframe thead th {\n",
       "        text-align: right;\n",
       "    }\n",
       "</style>\n",
       "<table border=\"1\" class=\"dataframe\">\n",
       "  <thead>\n",
       "    <tr style=\"text-align: right;\">\n",
       "      <th></th>\n",
       "      <th>school</th>\n",
       "      <th>sex</th>\n",
       "      <th>age</th>\n",
       "      <th>address</th>\n",
       "      <th>Medu</th>\n",
       "      <th>Fedu</th>\n",
       "      <th>studytime</th>\n",
       "      <th>failures</th>\n",
       "      <th>activities</th>\n",
       "      <th>nursery</th>\n",
       "      <th>higher</th>\n",
       "      <th>freetime</th>\n",
       "      <th>goout</th>\n",
       "      <th>health</th>\n",
       "      <th>absences</th>\n",
       "      <th>G1</th>\n",
       "      <th>G2</th>\n",
       "      <th>G3</th>\n",
       "    </tr>\n",
       "  </thead>\n",
       "  <tbody>\n",
       "    <tr>\n",
       "      <th>0</th>\n",
       "      <td>GP</td>\n",
       "      <td>F</td>\n",
       "      <td>18.0</td>\n",
       "      <td>U</td>\n",
       "      <td>4</td>\n",
       "      <td>4</td>\n",
       "      <td>2</td>\n",
       "      <td>0</td>\n",
       "      <td>no</td>\n",
       "      <td>yes</td>\n",
       "      <td>yes</td>\n",
       "      <td>3</td>\n",
       "      <td>4</td>\n",
       "      <td>3</td>\n",
       "      <td>6</td>\n",
       "      <td>5</td>\n",
       "      <td>6</td>\n",
       "      <td>6</td>\n",
       "    </tr>\n",
       "    <tr>\n",
       "      <th>1</th>\n",
       "      <td>GP</td>\n",
       "      <td>F</td>\n",
       "      <td>17.0</td>\n",
       "      <td>U</td>\n",
       "      <td>1</td>\n",
       "      <td>1</td>\n",
       "      <td>2</td>\n",
       "      <td>0</td>\n",
       "      <td>no</td>\n",
       "      <td>no</td>\n",
       "      <td>yes</td>\n",
       "      <td>3</td>\n",
       "      <td>3</td>\n",
       "      <td>3</td>\n",
       "      <td>4</td>\n",
       "      <td>5</td>\n",
       "      <td>5</td>\n",
       "      <td>6</td>\n",
       "    </tr>\n",
       "    <tr>\n",
       "      <th>2</th>\n",
       "      <td>GP</td>\n",
       "      <td>F</td>\n",
       "      <td>15.0</td>\n",
       "      <td>U</td>\n",
       "      <td>1</td>\n",
       "      <td>1</td>\n",
       "      <td>2</td>\n",
       "      <td>3</td>\n",
       "      <td>no</td>\n",
       "      <td>yes</td>\n",
       "      <td>yes</td>\n",
       "      <td>3</td>\n",
       "      <td>2</td>\n",
       "      <td>3</td>\n",
       "      <td>10</td>\n",
       "      <td>7</td>\n",
       "      <td>8</td>\n",
       "      <td>10</td>\n",
       "    </tr>\n",
       "    <tr>\n",
       "      <th>3</th>\n",
       "      <td>GP</td>\n",
       "      <td>F</td>\n",
       "      <td>15.0</td>\n",
       "      <td>U</td>\n",
       "      <td>4</td>\n",
       "      <td>2</td>\n",
       "      <td>3</td>\n",
       "      <td>0</td>\n",
       "      <td>yes</td>\n",
       "      <td>yes</td>\n",
       "      <td>yes</td>\n",
       "      <td>2</td>\n",
       "      <td>2</td>\n",
       "      <td>5</td>\n",
       "      <td>2</td>\n",
       "      <td>15</td>\n",
       "      <td>14</td>\n",
       "      <td>15</td>\n",
       "    </tr>\n",
       "    <tr>\n",
       "      <th>4</th>\n",
       "      <td>GP</td>\n",
       "      <td>F</td>\n",
       "      <td>16.0</td>\n",
       "      <td>U</td>\n",
       "      <td>3</td>\n",
       "      <td>3</td>\n",
       "      <td>2</td>\n",
       "      <td>0</td>\n",
       "      <td>no</td>\n",
       "      <td>yes</td>\n",
       "      <td>yes</td>\n",
       "      <td>3</td>\n",
       "      <td>2</td>\n",
       "      <td>5</td>\n",
       "      <td>4</td>\n",
       "      <td>6</td>\n",
       "      <td>10</td>\n",
       "      <td>10</td>\n",
       "    </tr>\n",
       "  </tbody>\n",
       "</table>\n",
       "</div>"
      ],
      "text/plain": [
       "  school sex   age address  Medu  Fedu  studytime  failures activities  \\\n",
       "0     GP   F  18.0       U     4     4          2         0         no   \n",
       "1     GP   F  17.0       U     1     1          2         0         no   \n",
       "2     GP   F  15.0       U     1     1          2         3         no   \n",
       "3     GP   F  15.0       U     4     2          3         0        yes   \n",
       "4     GP   F  16.0       U     3     3          2         0         no   \n",
       "\n",
       "  nursery higher  freetime  goout  health  absences  G1  G2  G3  \n",
       "0     yes    yes         3      4       3         6   5   6   6  \n",
       "1      no    yes         3      3       3         4   5   5   6  \n",
       "2     yes    yes         3      2       3        10   7   8  10  \n",
       "3     yes    yes         2      2       5         2  15  14  15  \n",
       "4     yes    yes         3      2       5         4   6  10  10  "
      ]
     },
     "execution_count": 275,
     "metadata": {},
     "output_type": "execute_result"
    }
   ],
   "source": [
    "import numpy as np\n",
    "import pandas as pd\n",
    "import matplotlib.pyplot as plt\n",
    "main_df = pd.read_csv('student.csv')\n",
    "main_df.head()"
   ]
  },
  {
   "cell_type": "code",
   "execution_count": 276,
   "id": "4de09fbb",
   "metadata": {
    "scrolled": false
   },
   "outputs": [
    {
     "name": "stdout",
     "output_type": "stream",
     "text": [
      "                age      Medu      Fedu  studytime  failures  freetime  \\\n",
      "age        1.000000 -0.157654 -0.170833  -0.001696  0.239690  0.027574   \n",
      "Medu      -0.157654  1.000000  0.623455   0.064944 -0.236680  0.030891   \n",
      "Fedu      -0.170833  0.623455  1.000000  -0.009175 -0.250408 -0.012846   \n",
      "studytime -0.001696  0.064944 -0.009175   1.000000 -0.173563 -0.143198   \n",
      "failures   0.239690 -0.236680 -0.250408  -0.173563  1.000000  0.091987   \n",
      "freetime   0.027574  0.030891 -0.012846  -0.143198  0.091987  1.000000   \n",
      "goout      0.117736  0.064094  0.043105  -0.063904  0.124561  0.285019   \n",
      "health    -0.085577 -0.046878  0.014742  -0.075616  0.065827  0.075733   \n",
      "absences   0.175388  0.100285  0.024473  -0.062700  0.063726 -0.058078   \n",
      "G1        -0.043231  0.205341  0.190270   0.160612 -0.354718  0.012613   \n",
      "G2        -0.125728  0.215527  0.164893   0.135880 -0.355896 -0.013777   \n",
      "G3        -0.148143  0.217147  0.152457   0.097820 -0.360415  0.011307   \n",
      "\n",
      "              goout    health  absences        G1        G2        G3  \n",
      "age        0.117736 -0.085577  0.175388 -0.043231 -0.125728 -0.148143  \n",
      "Medu       0.064094 -0.046878  0.100285  0.205341  0.215527  0.217147  \n",
      "Fedu       0.043105  0.014742  0.024473  0.190270  0.164893  0.152457  \n",
      "studytime -0.063904 -0.075616 -0.062700  0.160612  0.135880  0.097820  \n",
      "failures   0.124561  0.065827  0.063726 -0.354718 -0.355896 -0.360415  \n",
      "freetime   0.285019  0.075733 -0.058078  0.012613 -0.013777  0.011307  \n",
      "goout      1.000000 -0.009577  0.044302 -0.149104 -0.162250 -0.132791  \n",
      "health    -0.009577  1.000000 -0.029937 -0.073172 -0.097720 -0.061335  \n",
      "absences   0.044302 -0.029937  1.000000 -0.031003 -0.031777  0.034247  \n",
      "G1        -0.149104 -0.073172 -0.031003  1.000000  0.852118  0.801468  \n",
      "G2        -0.162250 -0.097720 -0.031777  0.852118  1.000000  0.904868  \n",
      "G3        -0.132791 -0.061335  0.034247  0.801468  0.904868  1.000000  \n"
     ]
    }
   ],
   "source": [
    "corr_matrix = main_df.corr()   #we are checking the correlation matrix to find the relationship between variables. Here G2 has the highest correlation among others so we will pick G2 for now as our independent variable to predict G3\n",
    "print(corr_matrix)\n"
   ]
  },
  {
   "cell_type": "code",
   "execution_count": 277,
   "id": "b1a362d5",
   "metadata": {
    "scrolled": true
   },
   "outputs": [
    {
     "data": {
      "text/plain": [
       "<AxesSubplot:title={'center':'G2 grade VS G3 grade'}, xlabel='G3'>"
      ]
     },
     "execution_count": 277,
     "metadata": {},
     "output_type": "execute_result"
    },
    {
     "data": {
      "image/png": "[encoded data removed]",
      "text/plain": [
       "<Figure size 720x432 with 1 Axes>"
      ]
     },
     "metadata": {
      "needs_background": "light"
     },
     "output_type": "display_data"
    }
   ],
   "source": [
    "main_df.plot(x='G3', y='G2', kind = 'line', title = 'G2 grade VS G3 grade')"
   ]
  },
  {
   "cell_type": "code",
   "execution_count": 278,
   "id": "f4e3cca8",
   "metadata": {
    "scrolled": true
   },
   "outputs": [
    {
     "data": {
      "text/plain": [
       "Text(0.5, 1.0, 'Scatter plot of data')"
      ]
     },
     "execution_count": 278,
     "metadata": {},
     "output_type": "execute_result"
    },
    {
     "data": {
      "image/png": "[encoded data removed]",
      "text/plain": [
       "<Figure size 720x432 with 1 Axes>"
      ]
     },
     "metadata": {
      "needs_background": "light"
     },
     "output_type": "display_data"
    }
   ],
   "source": [
    "X_u = main_df['G2'].values\n",
    "y_u = main_df['G3'].values\n",
    "m = X_u.shape[0]\n",
    "\n",
    "plt.scatter(X_u,y_u, color='red',marker= '+')\n",
    "plt.grid()\n",
    "plt.rcParams[\"figure.figsize\"] = (10,6)\n",
    "plt.xlabel('X values')\n",
    "plt.ylabel('Y values')\n",
    "plt.title('Scatter plot of data')"
   ]
  },
  {
   "cell_type": "code",
   "execution_count": 279,
   "id": "90cdc66d",
   "metadata": {},
   "outputs": [
    {
     "name": "stdout",
     "output_type": "stream",
     "text": [
      "(276, 1)\n",
      "(119, 1)\n",
      "(276,)\n",
      "(119,)\n"
     ]
    }
   ],
   "source": [
    "\n",
    "main_df = main_df.sample(frac=1)\n",
    "\n",
    "# Define a size for your train set \n",
    "train_size = int(0.7 * len(main_df))\n",
    "# Split your dataset \n",
    "X_train_u = X_u[:train_size]\n",
    "X_test_u = X_u[train_size:]\n",
    "\n",
    "y_train_u = y[:train_size]\n",
    "y_test_u = y[train_size:]\n",
    "\n",
    "#Lets create a matrix with single column of ones\n",
    "\n",
    "\n",
    "m = X_train_u.shape[0]\n",
    "n = X_test_u.shape[0]\n",
    "X_u0 = np.ones((m, 1))\n",
    "X_u0[:5]\n",
    "X_train_u = X_train_u.reshape((m, 1))\n",
    "X_test_u = X_test_u.reshape((n, 1))\n",
    "print(X_train_u.shape)\n",
    "print(X_test_u.shape)\n",
    "print(y_train_u.shape)\n",
    "print(y_test_u.shape)"
   ]
  },
  {
   "cell_type": "code",
   "execution_count": 280,
   "id": "39700e3d",
   "metadata": {
    "scrolled": true
   },
   "outputs": [],
   "source": [
    "X_train_u = np.hstack((X_train_u, X_u0))"
   ]
  },
  {
   "cell_type": "code",
   "execution_count": 281,
   "id": "c347c025",
   "metadata": {
    "scrolled": false
   },
   "outputs": [
    {
     "data": {
      "text/plain": [
       "array([[ 6.,  1.],\n",
       "       [ 5.,  1.],\n",
       "       [ 8.,  1.],\n",
       "       [14.,  1.],\n",
       "       [10.,  1.],\n",
       "       [15.,  1.],\n",
       "       [12.,  1.],\n",
       "       [ 5.,  1.],\n",
       "       [18.,  1.],\n",
       "       [15.,  1.],\n",
       "       [ 8.,  1.],\n",
       "       [12.,  1.],\n",
       "       [14.,  1.],\n",
       "       [10.,  1.],\n",
       "       [16.,  1.],\n",
       "       [14.,  1.],\n",
       "       [14.,  1.],\n",
       "       [10.,  1.],\n",
       "       [ 5.,  1.],\n",
       "       [10.,  1.],\n",
       "       [14.,  1.],\n",
       "       [15.,  1.],\n",
       "       [15.,  1.],\n",
       "       [13.,  1.],\n",
       "       [ 9.,  1.],\n",
       "       [ 9.,  1.],\n",
       "       [12.,  1.],\n",
       "       [16.,  1.],\n",
       "       [11.,  1.],\n",
       "       [12.,  1.],\n",
       "       [11.,  1.],\n",
       "       [16.,  1.],\n",
       "       [16.,  1.],\n",
       "       [10.,  1.],\n",
       "       [14.,  1.],\n",
       "       [ 7.,  1.],\n",
       "       [16.,  1.],\n",
       "       [16.,  1.],\n",
       "       [12.,  1.],\n",
       "       [13.,  1.],\n",
       "       [10.,  1.],\n",
       "       [12.,  1.],\n",
       "       [18.,  1.],\n",
       "       [ 8.,  1.],\n",
       "       [10.,  1.],\n",
       "       [ 8.,  1.],\n",
       "       [12.,  1.],\n",
       "       [19.,  1.],\n",
       "       [15.,  1.],\n",
       "       [ 7.,  1.],\n",
       "       [13.,  1.],\n",
       "       [13.,  1.],\n",
       "       [11.,  1.],\n",
       "       [10.,  1.],\n",
       "       [13.,  1.],\n",
       "       [ 9.,  1.],\n",
       "       [15.,  1.],\n",
       "       [15.,  1.],\n",
       "       [10.,  1.],\n",
       "       [16.,  1.],\n",
       "       [11.,  1.],\n",
       "       [ 8.,  1.],\n",
       "       [10.,  1.],\n",
       "       [ 9.,  1.],\n",
       "       [10.,  1.],\n",
       "       [15.,  1.],\n",
       "       [13.,  1.],\n",
       "       [ 7.,  1.],\n",
       "       [ 9.,  1.],\n",
       "       [16.,  1.],\n",
       "       [15.,  1.],\n",
       "       [10.,  1.],\n",
       "       [ 6.,  1.],\n",
       "       [12.,  1.],\n",
       "       [12.,  1.],\n",
       "       [ 9.,  1.],\n",
       "       [11.,  1.],\n",
       "       [11.,  1.],\n",
       "       [ 8.,  1.],\n",
       "       [ 5.,  1.],\n",
       "       [12.,  1.],\n",
       "       [10.,  1.],\n",
       "       [ 6.,  1.],\n",
       "       [15.,  1.],\n",
       "       [10.,  1.],\n",
       "       [ 9.,  1.],\n",
       "       [ 7.,  1.],\n",
       "       [14.,  1.],\n",
       "       [10.,  1.],\n",
       "       [ 6.,  1.],\n",
       "       [ 7.,  1.],\n",
       "       [17.,  1.],\n",
       "       [ 6.,  1.],\n",
       "       [10.,  1.],\n",
       "       [13.,  1.],\n",
       "       [10.,  1.],\n",
       "       [15.,  1.],\n",
       "       [ 9.,  1.],\n",
       "       [14.,  1.],\n",
       "       [ 9.,  1.],\n",
       "       [ 7.,  1.],\n",
       "       [17.,  1.],\n",
       "       [13.,  1.],\n",
       "       [ 6.,  1.],\n",
       "       [18.,  1.],\n",
       "       [11.,  1.],\n",
       "       [ 8.,  1.],\n",
       "       [18.,  1.],\n",
       "       [13.,  1.],\n",
       "       [15.,  1.],\n",
       "       [19.,  1.],\n",
       "       [10.,  1.],\n",
       "       [13.,  1.],\n",
       "       [19.,  1.],\n",
       "       [ 9.,  1.],\n",
       "       [15.,  1.],\n",
       "       [13.,  1.],\n",
       "       [14.,  1.],\n",
       "       [ 7.,  1.],\n",
       "       [13.,  1.],\n",
       "       [15.,  1.],\n",
       "       [14.,  1.],\n",
       "       [13.,  1.],\n",
       "       [11.,  1.],\n",
       "       [ 7.,  1.],\n",
       "       [13.,  1.],\n",
       "       [10.,  1.],\n",
       "       [ 8.,  1.],\n",
       "       [ 4.,  1.],\n",
       "       [18.,  1.],\n",
       "       [ 0.,  1.],\n",
       "       [ 0.,  1.],\n",
       "       [13.,  1.],\n",
       "       [11.,  1.],\n",
       "       [ 0.,  1.],\n",
       "       [ 0.,  1.],\n",
       "       [ 0.,  1.],\n",
       "       [ 0.,  1.],\n",
       "       [12.,  1.],\n",
       "       [16.,  1.],\n",
       "       [ 9.,  1.],\n",
       "       [ 9.,  1.],\n",
       "       [11.,  1.],\n",
       "       [14.,  1.],\n",
       "       [ 0.,  1.],\n",
       "       [11.,  1.],\n",
       "       [ 7.,  1.],\n",
       "       [11.,  1.],\n",
       "       [ 6.,  1.],\n",
       "       [ 9.,  1.],\n",
       "       [ 5.,  1.],\n",
       "       [13.,  1.],\n",
       "       [10.,  1.],\n",
       "       [ 0.,  1.],\n",
       "       [11.,  1.],\n",
       "       [ 8.,  1.],\n",
       "       [12.,  1.],\n",
       "       [ 8.,  1.],\n",
       "       [15.,  1.],\n",
       "       [12.,  1.],\n",
       "       [ 6.,  1.],\n",
       "       [ 9.,  1.],\n",
       "       [ 0.,  1.],\n",
       "       [10.,  1.],\n",
       "       [ 8.,  1.],\n",
       "       [11.,  1.],\n",
       "       [10.,  1.],\n",
       "       [15.,  1.],\n",
       "       [ 7.,  1.],\n",
       "       [14.,  1.],\n",
       "       [ 5.,  1.],\n",
       "       [15.,  1.],\n",
       "       [11.,  1.],\n",
       "       [ 7.,  1.],\n",
       "       [11.,  1.],\n",
       "       [ 9.,  1.],\n",
       "       [13.,  1.],\n",
       "       [ 5.,  1.],\n",
       "       [ 8.,  1.],\n",
       "       [10.,  1.],\n",
       "       [ 8.,  1.],\n",
       "       [13.,  1.],\n",
       "       [17.,  1.],\n",
       "       [ 9.,  1.],\n",
       "       [13.,  1.],\n",
       "       [12.,  1.],\n",
       "       [12.,  1.],\n",
       "       [15.,  1.],\n",
       "       [ 7.,  1.],\n",
       "       [ 9.,  1.],\n",
       "       [12.,  1.],\n",
       "       [ 8.,  1.],\n",
       "       [ 8.,  1.],\n",
       "       [ 9.,  1.],\n",
       "       [14.,  1.],\n",
       "       [15.,  1.],\n",
       "       [15.,  1.],\n",
       "       [ 9.,  1.],\n",
       "       [18.,  1.],\n",
       "       [ 9.,  1.],\n",
       "       [16.,  1.],\n",
       "       [10.,  1.],\n",
       "       [ 9.,  1.],\n",
       "       [ 6.,  1.],\n",
       "       [10.,  1.],\n",
       "       [ 9.,  1.],\n",
       "       [ 7.,  1.],\n",
       "       [12.,  1.],\n",
       "       [ 9.,  1.],\n",
       "       [ 7.,  1.],\n",
       "       [ 8.,  1.],\n",
       "       [12.,  1.],\n",
       "       [13.,  1.],\n",
       "       [ 7.,  1.],\n",
       "       [10.,  1.],\n",
       "       [15.,  1.],\n",
       "       [ 6.,  1.],\n",
       "       [ 6.,  1.],\n",
       "       [ 7.,  1.],\n",
       "       [10.,  1.],\n",
       "       [ 6.,  1.],\n",
       "       [ 5.,  1.],\n",
       "       [16.,  1.],\n",
       "       [13.,  1.],\n",
       "       [13.,  1.],\n",
       "       [ 8.,  1.],\n",
       "       [15.,  1.],\n",
       "       [11.,  1.],\n",
       "       [ 8.,  1.],\n",
       "       [10.,  1.],\n",
       "       [13.,  1.],\n",
       "       [11.,  1.],\n",
       "       [ 9.,  1.],\n",
       "       [13.,  1.],\n",
       "       [ 7.,  1.],\n",
       "       [ 9.,  1.],\n",
       "       [13.,  1.],\n",
       "       [12.,  1.],\n",
       "       [11.,  1.],\n",
       "       [ 7.,  1.],\n",
       "       [12.,  1.],\n",
       "       [11.,  1.],\n",
       "       [ 0.,  1.],\n",
       "       [12.,  1.],\n",
       "       [ 0.,  1.],\n",
       "       [18.,  1.],\n",
       "       [12.,  1.],\n",
       "       [ 8.,  1.],\n",
       "       [ 5.,  1.],\n",
       "       [15.,  1.],\n",
       "       [ 8.,  1.],\n",
       "       [10.,  1.],\n",
       "       [ 9.,  1.],\n",
       "       [ 9.,  1.],\n",
       "       [12.,  1.],\n",
       "       [ 9.,  1.],\n",
       "       [12.,  1.],\n",
       "       [11.,  1.],\n",
       "       [14.,  1.],\n",
       "       [ 9.,  1.],\n",
       "       [18.,  1.],\n",
       "       [ 8.,  1.],\n",
       "       [12.,  1.],\n",
       "       [ 9.,  1.],\n",
       "       [10.,  1.],\n",
       "       [17.,  1.],\n",
       "       [ 9.,  1.],\n",
       "       [10.,  1.],\n",
       "       [ 9.,  1.],\n",
       "       [ 0.,  1.],\n",
       "       [ 9.,  1.],\n",
       "       [14.,  1.],\n",
       "       [11.,  1.],\n",
       "       [14.,  1.],\n",
       "       [10.,  1.],\n",
       "       [12.,  1.]])"
      ]
     },
     "execution_count": 281,
     "metadata": {},
     "output_type": "execute_result"
    }
   ],
   "source": [
    "X_train_u"
   ]
  },
  {
   "cell_type": "code",
   "execution_count": 282,
   "id": "a63a4e35",
   "metadata": {},
   "outputs": [
    {
     "data": {
      "text/plain": [
       "(2,)"
      ]
     },
     "execution_count": 282,
     "metadata": {},
     "output_type": "execute_result"
    }
   ],
   "source": [
    "theta_u = np.zeros(2)\n",
    "theta_u.shape"
   ]
  },
  {
   "cell_type": "code",
   "execution_count": 283,
   "id": "708f9f28",
   "metadata": {
    "scrolled": true
   },
   "outputs": [],
   "source": [
    "def compute_cost(X, y, theta):\n",
    "    predictions = X.dot(theta)\n",
    "    #y = y.values.reshape(X.shape[0], 1)\n",
    "    errors = np.subtract(predictions, y)\n",
    "    sqrErrors = np.square(errors)\n",
    "    J = 1 / (2 * m) * np.sum(sqrErrors)\n",
    "\n",
    "    return J"
   ]
  },
  {
   "cell_type": "code",
   "execution_count": 284,
   "id": "f09f6c68",
   "metadata": {
    "scrolled": true
   },
   "outputs": [
    {
     "name": "stdout",
     "output_type": "stream",
     "text": [
      "The cost for given values of theta_0 and theta_1 = 64.78985507246377\n"
     ]
    }
   ],
   "source": [
    "X_train_u.shape\n",
    "cost_u = compute_cost(X_train_u, y_train_u, theta_u)\n",
    "print('The cost for given values of theta_0 and theta_1 =', cost_u)"
   ]
  },
  {
   "cell_type": "code",
   "execution_count": 285,
   "id": "c1858ad5",
   "metadata": {},
   "outputs": [],
   "source": [
    "def gradient_descent(X, y, theta, alpha, iterations):\n",
    "    cost_history = []\n",
    "    for i in range(iterations):\n",
    "        predictions = X.dot(theta)\n",
    "        errors = np.subtract(predictions, y)\n",
    "        sum_delta = (alpha / m) * X.transpose().dot(errors);\n",
    "        theta = theta - sum_delta;\n",
    "        cost_history.append(compute_cost(X, y, theta)) \n",
    "    return theta, cost_history"
   ]
  },
  {
   "cell_type": "code",
   "execution_count": 286,
   "id": "05a0ffab",
   "metadata": {},
   "outputs": [],
   "source": [
    "theta = [5., 5.]\n",
    "iterations = 1500;\n",
    "alpha = 0.01;"
   ]
  },
  {
   "cell_type": "code",
   "execution_count": 287,
   "id": "0b1c8073",
   "metadata": {},
   "outputs": [
    {
     "name": "stdout",
     "output_type": "stream",
     "text": [
      "Final value of theta = [ 1.05449825 -0.72907416]\n"
     ]
    }
   ],
   "source": [
    "theta_train_u, cost_history = gradient_descent(X_train_u, y_train_u, theta_u, alpha, iterations)\n",
    "print('Final value of theta =', theta_train_u)\n"
   ]
  },
  {
   "cell_type": "code",
   "execution_count": 288,
   "id": "56540dd0",
   "metadata": {},
   "outputs": [
    {
     "data": {
      "text/plain": [
       "Text(0.5, 1.0, 'Convergence of gradient descent Univariate')"
      ]
     },
     "execution_count": 288,
     "metadata": {},
     "output_type": "execute_result"
    },
    {
     "data": {
      "image/png": "[encoded data removed]",
      "text/plain": [
       "<Figure size 720x432 with 1 Axes>"
      ]
     },
     "metadata": {
      "needs_background": "light"
     },
     "output_type": "display_data"
    }
   ],
   "source": [
    "import matplotlib.pyplot as plt\n",
    "plt.plot(range(1, iterations +1), cost_history, color ='blue')\n",
    "plt.rcParams[\"figure.figsize\"] = (10,6)\n",
    "plt.grid()\n",
    "plt.xlabel(\"Iteration #\")\n",
    "plt.ylabel(\"Cost\")\n",
    "plt.title(\"Convergence of gradient descent Univariate\")"
   ]
  },
  {
   "cell_type": "code",
   "execution_count": 289,
   "id": "ba620a91",
   "metadata": {},
   "outputs": [],
   "source": [
    "X_u0 = np.ones((n, 1))\n",
    "X_test_u = np.hstack((X_test_u, X_u0))\n"
   ]
  },
  {
   "cell_type": "code",
   "execution_count": 290,
   "id": "159f9879",
   "metadata": {},
   "outputs": [
    {
     "name": "stdout",
     "output_type": "stream",
     "text": [
      "The cost for given values of theta_0 and theta_1 = 1.33056271583254\n"
     ]
    }
   ],
   "source": [
    "cost_test_u = compute_cost(X_test_u, y_test_u, theta_train_u)\n",
    "print('The cost for given values of theta_0 and theta_1 =', cost_test_u)\n",
    "\n",
    "\n",
    "\n"
   ]
  },
  {
   "cell_type": "code",
   "execution_count": 291,
   "id": "28fbde47",
   "metadata": {},
   "outputs": [],
   "source": [
    "def mean_squared_error(predictions, targets):\n",
    "    differences = predictions - targets                       \n",
    "    differences_squared = differences ** 2                    \n",
    "    mean_of_differences_squared = differences_squared.mean()  \n",
    "    rmse_val = np.sqrt(mean_of_differences_squared)           \n",
    "    return rmse_val "
   ]
  },
  {
   "cell_type": "code",
   "execution_count": 292,
   "id": "6a6861f3",
   "metadata": {},
   "outputs": [
    {
     "name": "stdout",
     "output_type": "stream",
     "text": [
      "2.484355451535901\n",
      "(119,)\n"
     ]
    }
   ],
   "source": [
    "from math import sqrt\n",
    "y_predicted_u = X_test_u.dot(theta_train_u)\n",
    "rms_n = (mean_squared_error(y_test_u, y_predicted_u))\n",
    "print(rms_n)\n",
    "\n",
    "import matplotlib.pyplot as plt\n",
    "print(y_predicted_u.shape)\n",
    "# plt.scatter(X_test_u , y_predicted_u)\n",
    "# plt.show()"
   ]
  },
  {
   "cell_type": "code",
   "execution_count": 293,
   "id": "f2997dae",
   "metadata": {},
   "outputs": [
    {
     "data": {
      "text/plain": [
       "0.7081053879784662"
      ]
     },
     "execution_count": 293,
     "metadata": {},
     "output_type": "execute_result"
    }
   ],
   "source": [
    "from sklearn.metrics import r2_score   \n",
    "r2_score(y_test_u, y_predicted_u)"
   ]
  },
  {
   "cell_type": "code",
   "execution_count": null,
   "id": "88141a42",
   "metadata": {},
   "outputs": [],
   "source": []
  },
  {
   "cell_type": "code",
   "execution_count": 294,
   "id": "4dabbb60",
   "metadata": {},
   "outputs": [],
   "source": [
    "                            #multi-variate with G1, G2 to predict G3"
   ]
  },
  {
   "cell_type": "code",
   "execution_count": 295,
   "id": "7d1f3ab5",
   "metadata": {},
   "outputs": [
    {
     "name": "stdout",
     "output_type": "stream",
     "text": [
      "Index(['G1', 'G2'], dtype='object')\n",
      "Index(['G3'], dtype='object')\n"
     ]
    }
   ],
   "source": [
    "import numpy as np\n",
    "import pandas as pd\n",
    "import matplotlib.pyplot as plt\n",
    "main_df = pd.read_csv(\"student.csv\")\n",
    "\n",
    "num_columns = len(main_df.columns)\n",
    "X_col = main_df[['G1','G2']]    #Taking G1, G2 because they have high correlation value with G3\n",
    "y_col = main_df[[\"G3\"]]\n",
    "print(X_col.columns)\n",
    "print(y_col.columns)\n",
    "\n"
   ]
  },
  {
   "cell_type": "code",
   "execution_count": 296,
   "id": "8d530a2b",
   "metadata": {},
   "outputs": [
    {
     "name": "stdout",
     "output_type": "stream",
     "text": [
      "(276, 2)\n",
      "(119, 2)\n",
      "(276,)\n",
      "(119,)\n"
     ]
    }
   ],
   "source": [
    "main_df = main_df.sample(frac=1)\n",
    "\n",
    "# Define a size for your train set \n",
    "train_size = int(0.7 * len(main_df))\n",
    "# Split your dataset\n",
    "X_m = X_col\n",
    "y_m = y_col\n",
    "X_train_m = X_m[:train_size]\n",
    "X_test_m = X_m[train_size:]\n",
    "\n",
    "y_train_m = y[:train_size]\n",
    "y_test_m = y[train_size:]\n",
    "\n",
    "#Lets create a matrix with single column of ones\n",
    "\n",
    "\n",
    "m = X_train_m.shape[0]\n",
    "n = X_test_m.shape[0]\n",
    "X_u0 = np.ones((m, 1))\n",
    "X_u0[:5]\n",
    "# X_train_m = X_train_m.reshape((m, 1))\n",
    "# X_test_m = X_test_m.reshape((n, 1))\n",
    "print(X_train_m.shape)\n",
    "print(X_test_m.shape)\n",
    "print(y_train_m.shape)\n",
    "print(y_test_m.shape)"
   ]
  },
  {
   "cell_type": "code",
   "execution_count": 297,
   "id": "7c199405",
   "metadata": {},
   "outputs": [
    {
     "name": "stdout",
     "output_type": "stream",
     "text": [
      "[[ 5  6]\n",
      " [ 5  5]\n",
      " [ 7  8]\n",
      " [15 14]\n",
      " [ 6 10]\n",
      " [15 15]\n",
      " [12 12]\n",
      " [ 6  5]\n",
      " [16 18]\n",
      " [14 15]\n",
      " [10  8]\n",
      " [10 12]\n",
      " [14 14]\n",
      " [10 10]\n",
      " [14 16]\n",
      " [14 14]\n",
      " [13 14]\n",
      " [ 8 10]\n",
      " [ 6  5]\n",
      " [ 8 10]\n",
      " [13 14]\n",
      " [12 15]\n",
      " [15 15]\n",
      " [13 13]\n",
      " [10  9]\n",
      " [ 6  9]\n",
      " [12 12]\n",
      " [15 16]\n",
      " [11 11]\n",
      " [10 12]\n",
      " [ 9 11]\n",
      " [17 16]\n",
      " [17 16]\n",
      " [ 8 10]\n",
      " [12 14]\n",
      " [ 8  7]\n",
      " [15 16]\n",
      " [15 16]\n",
      " [12 12]\n",
      " [14 13]\n",
      " [ 7 10]\n",
      " [12 12]\n",
      " [19 18]\n",
      " [ 8  8]\n",
      " [10 10]\n",
      " [ 8  8]\n",
      " [11 12]\n",
      " [19 19]\n",
      " [15 15]\n",
      " [ 7  7]\n",
      " [12 13]\n",
      " [11 13]\n",
      " [11 11]\n",
      " [ 8 10]\n",
      " [10 13]\n",
      " [ 8  9]\n",
      " [14 15]\n",
      " [14 15]\n",
      " [ 9 10]\n",
      " [15 16]\n",
      " [10 11]\n",
      " [10  8]\n",
      " [ 8 10]\n",
      " [10  9]\n",
      " [10 10]\n",
      " [16 15]\n",
      " [13 13]\n",
      " [ 7  7]\n",
      " [ 8  9]\n",
      " [16 16]\n",
      " [13 15]\n",
      " [10 10]\n",
      " [ 8  6]\n",
      " [12 12]\n",
      " [11 12]\n",
      " [ 9  9]\n",
      " [11 11]\n",
      " [11 11]\n",
      " [ 8  8]\n",
      " [ 5  5]\n",
      " [10 12]\n",
      " [11 10]\n",
      " [ 7  6]\n",
      " [15 15]\n",
      " [ 9 10]\n",
      " [ 7  9]\n",
      " [ 8  7]\n",
      " [13 14]\n",
      " [11 10]\n",
      " [ 8  6]\n",
      " [ 7  7]\n",
      " [16 17]\n",
      " [ 7  6]\n",
      " [11 10]\n",
      " [11 13]\n",
      " [ 7 10]\n",
      " [11 15]\n",
      " [ 8  9]\n",
      " [11 14]\n",
      " [ 7  9]\n",
      " [ 7  7]\n",
      " [16 17]\n",
      " [10 13]\n",
      " [ 7  6]\n",
      " [16 18]\n",
      " [10 11]\n",
      " [ 7  8]\n",
      " [16 18]\n",
      " [10 13]\n",
      " [14 15]\n",
      " [18 19]\n",
      " [ 7 10]\n",
      " [10 13]\n",
      " [18 19]\n",
      " [ 9  9]\n",
      " [15 15]\n",
      " [11 13]\n",
      " [13 14]\n",
      " [ 9  7]\n",
      " [14 13]\n",
      " [16 15]\n",
      " [16 14]\n",
      " [13 13]\n",
      " [14 11]\n",
      " [ 8  7]\n",
      " [13 13]\n",
      " [ 7 10]\n",
      " [ 7  8]\n",
      " [ 7  4]\n",
      " [18 18]\n",
      " [12  0]\n",
      " [ 8  0]\n",
      " [10 13]\n",
      " [12 11]\n",
      " [ 9  0]\n",
      " [11  0]\n",
      " [10  0]\n",
      " [ 4  0]\n",
      " [14 12]\n",
      " [16 16]\n",
      " [ 7  9]\n",
      " [ 9  9]\n",
      " [ 9 11]\n",
      " [14 14]\n",
      " [ 5  0]\n",
      " [ 8 11]\n",
      " [ 6  7]\n",
      " [10 11]\n",
      " [ 7  6]\n",
      " [ 8  9]\n",
      " [ 6  5]\n",
      " [12 13]\n",
      " [10 10]\n",
      " [ 5  0]\n",
      " [11 11]\n",
      " [11  8]\n",
      " [16 12]\n",
      " [ 9  8]\n",
      " [17 15]\n",
      " [10 12]\n",
      " [ 7  6]\n",
      " [ 5  9]\n",
      " [ 7  0]\n",
      " [10 10]\n",
      " [ 5  8]\n",
      " [12 11]\n",
      " [10 10]\n",
      " [14 15]\n",
      " [ 6  7]\n",
      " [14 14]\n",
      " [ 6  5]\n",
      " [13 15]\n",
      " [13 11]\n",
      " [ 8  7]\n",
      " [10 11]\n",
      " [10  9]\n",
      " [13 13]\n",
      " [ 6  5]\n",
      " [10  8]\n",
      " [10 10]\n",
      " [ 9  8]\n",
      " [12 13]\n",
      " [16 17]\n",
      " [ 9  9]\n",
      " [12 13]\n",
      " [12 12]\n",
      " [11 12]\n",
      " [15 15]\n",
      " [ 8  7]\n",
      " [ 8  9]\n",
      " [11 12]\n",
      " [ 8  8]\n",
      " [ 7  8]\n",
      " [ 8  9]\n",
      " [13 14]\n",
      " [14 15]\n",
      " [17 15]\n",
      " [ 9  9]\n",
      " [18 18]\n",
      " [ 9  9]\n",
      " [16 16]\n",
      " [ 8 10]\n",
      " [ 9  9]\n",
      " [ 7  6]\n",
      " [10 10]\n",
      " [10  9]\n",
      " [ 7  7]\n",
      " [11 12]\n",
      " [ 9  9]\n",
      " [ 7  7]\n",
      " [ 8  8]\n",
      " [12 12]\n",
      " [12 13]\n",
      " [ 6  7]\n",
      " [ 8 10]\n",
      " [14 15]\n",
      " [ 6  6]\n",
      " [ 6  6]\n",
      " [ 7  7]\n",
      " [ 9 10]\n",
      " [ 6  6]\n",
      " [ 6  5]\n",
      " [16 16]\n",
      " [12 13]\n",
      " [13 13]\n",
      " [ 9  8]\n",
      " [16 15]\n",
      " [12 11]\n",
      " [10  8]\n",
      " [12 10]\n",
      " [13 13]\n",
      " [11 11]\n",
      " [11  9]\n",
      " [14 13]\n",
      " [ 9  7]\n",
      " [11  9]\n",
      " [14 13]\n",
      " [13 12]\n",
      " [13 11]\n",
      " [ 7  7]\n",
      " [12 12]\n",
      " [10 11]\n",
      " [ 6  0]\n",
      " [13 12]\n",
      " [ 7  0]\n",
      " [18 18]\n",
      " [12 12]\n",
      " [ 6  8]\n",
      " [ 3  5]\n",
      " [13 15]\n",
      " [ 6  8]\n",
      " [ 7 10]\n",
      " [ 6  9]\n",
      " [ 8  9]\n",
      " [ 8 12]\n",
      " [ 7  9]\n",
      " [14 12]\n",
      " [11 11]\n",
      " [15 14]\n",
      " [10  9]\n",
      " [17 18]\n",
      " [ 8  8]\n",
      " [13 12]\n",
      " [10  9]\n",
      " [ 9 10]\n",
      " [17 17]\n",
      " [ 9  9]\n",
      " [12 10]\n",
      " [10  9]\n",
      " [ 6  0]\n",
      " [ 9  9]\n",
      " [15 14]\n",
      " [11 11]\n",
      " [15 14]\n",
      " [10 10]\n",
      " [12 12]]\n"
     ]
    }
   ],
   "source": [
    "print(X_train_m.values)"
   ]
  },
  {
   "cell_type": "code",
   "execution_count": 298,
   "id": "13d32d72",
   "metadata": {
    "scrolled": true
   },
   "outputs": [
    {
     "name": "stdout",
     "output_type": "stream",
     "text": [
      "[[ 5.  6.  1.]\n",
      " [ 5.  5.  1.]\n",
      " [ 7.  8.  1.]\n",
      " [15. 14.  1.]\n",
      " [ 6. 10.  1.]\n",
      " [15. 15.  1.]\n",
      " [12. 12.  1.]\n",
      " [ 6.  5.  1.]\n",
      " [16. 18.  1.]\n",
      " [14. 15.  1.]\n",
      " [10.  8.  1.]\n",
      " [10. 12.  1.]\n",
      " [14. 14.  1.]\n",
      " [10. 10.  1.]\n",
      " [14. 16.  1.]\n",
      " [14. 14.  1.]\n",
      " [13. 14.  1.]\n",
      " [ 8. 10.  1.]\n",
      " [ 6.  5.  1.]\n",
      " [ 8. 10.  1.]\n",
      " [13. 14.  1.]\n",
      " [12. 15.  1.]\n",
      " [15. 15.  1.]\n",
      " [13. 13.  1.]\n",
      " [10.  9.  1.]\n",
      " [ 6.  9.  1.]\n",
      " [12. 12.  1.]\n",
      " [15. 16.  1.]\n",
      " [11. 11.  1.]\n",
      " [10. 12.  1.]\n",
      " [ 9. 11.  1.]\n",
      " [17. 16.  1.]\n",
      " [17. 16.  1.]\n",
      " [ 8. 10.  1.]\n",
      " [12. 14.  1.]\n",
      " [ 8.  7.  1.]\n",
      " [15. 16.  1.]\n",
      " [15. 16.  1.]\n",
      " [12. 12.  1.]\n",
      " [14. 13.  1.]\n",
      " [ 7. 10.  1.]\n",
      " [12. 12.  1.]\n",
      " [19. 18.  1.]\n",
      " [ 8.  8.  1.]\n",
      " [10. 10.  1.]\n",
      " [ 8.  8.  1.]\n",
      " [11. 12.  1.]\n",
      " [19. 19.  1.]\n",
      " [15. 15.  1.]\n",
      " [ 7.  7.  1.]\n",
      " [12. 13.  1.]\n",
      " [11. 13.  1.]\n",
      " [11. 11.  1.]\n",
      " [ 8. 10.  1.]\n",
      " [10. 13.  1.]\n",
      " [ 8.  9.  1.]\n",
      " [14. 15.  1.]\n",
      " [14. 15.  1.]\n",
      " [ 9. 10.  1.]\n",
      " [15. 16.  1.]\n",
      " [10. 11.  1.]\n",
      " [10.  8.  1.]\n",
      " [ 8. 10.  1.]\n",
      " [10.  9.  1.]\n",
      " [10. 10.  1.]\n",
      " [16. 15.  1.]\n",
      " [13. 13.  1.]\n",
      " [ 7.  7.  1.]\n",
      " [ 8.  9.  1.]\n",
      " [16. 16.  1.]\n",
      " [13. 15.  1.]\n",
      " [10. 10.  1.]\n",
      " [ 8.  6.  1.]\n",
      " [12. 12.  1.]\n",
      " [11. 12.  1.]\n",
      " [ 9.  9.  1.]\n",
      " [11. 11.  1.]\n",
      " [11. 11.  1.]\n",
      " [ 8.  8.  1.]\n",
      " [ 5.  5.  1.]\n",
      " [10. 12.  1.]\n",
      " [11. 10.  1.]\n",
      " [ 7.  6.  1.]\n",
      " [15. 15.  1.]\n",
      " [ 9. 10.  1.]\n",
      " [ 7.  9.  1.]\n",
      " [ 8.  7.  1.]\n",
      " [13. 14.  1.]\n",
      " [11. 10.  1.]\n",
      " [ 8.  6.  1.]\n",
      " [ 7.  7.  1.]\n",
      " [16. 17.  1.]\n",
      " [ 7.  6.  1.]\n",
      " [11. 10.  1.]\n",
      " [11. 13.  1.]\n",
      " [ 7. 10.  1.]\n",
      " [11. 15.  1.]\n",
      " [ 8.  9.  1.]\n",
      " [11. 14.  1.]\n",
      " [ 7.  9.  1.]\n",
      " [ 7.  7.  1.]\n",
      " [16. 17.  1.]\n",
      " [10. 13.  1.]\n",
      " [ 7.  6.  1.]\n",
      " [16. 18.  1.]\n",
      " [10. 11.  1.]\n",
      " [ 7.  8.  1.]\n",
      " [16. 18.  1.]\n",
      " [10. 13.  1.]\n",
      " [14. 15.  1.]\n",
      " [18. 19.  1.]\n",
      " [ 7. 10.  1.]\n",
      " [10. 13.  1.]\n",
      " [18. 19.  1.]\n",
      " [ 9.  9.  1.]\n",
      " [15. 15.  1.]\n",
      " [11. 13.  1.]\n",
      " [13. 14.  1.]\n",
      " [ 9.  7.  1.]\n",
      " [14. 13.  1.]\n",
      " [16. 15.  1.]\n",
      " [16. 14.  1.]\n",
      " [13. 13.  1.]\n",
      " [14. 11.  1.]\n",
      " [ 8.  7.  1.]\n",
      " [13. 13.  1.]\n",
      " [ 7. 10.  1.]\n",
      " [ 7.  8.  1.]\n",
      " [ 7.  4.  1.]\n",
      " [18. 18.  1.]\n",
      " [12.  0.  1.]\n",
      " [ 8.  0.  1.]\n",
      " [10. 13.  1.]\n",
      " [12. 11.  1.]\n",
      " [ 9.  0.  1.]\n",
      " [11.  0.  1.]\n",
      " [10.  0.  1.]\n",
      " [ 4.  0.  1.]\n",
      " [14. 12.  1.]\n",
      " [16. 16.  1.]\n",
      " [ 7.  9.  1.]\n",
      " [ 9.  9.  1.]\n",
      " [ 9. 11.  1.]\n",
      " [14. 14.  1.]\n",
      " [ 5.  0.  1.]\n",
      " [ 8. 11.  1.]\n",
      " [ 6.  7.  1.]\n",
      " [10. 11.  1.]\n",
      " [ 7.  6.  1.]\n",
      " [ 8.  9.  1.]\n",
      " [ 6.  5.  1.]\n",
      " [12. 13.  1.]\n",
      " [10. 10.  1.]\n",
      " [ 5.  0.  1.]\n",
      " [11. 11.  1.]\n",
      " [11.  8.  1.]\n",
      " [16. 12.  1.]\n",
      " [ 9.  8.  1.]\n",
      " [17. 15.  1.]\n",
      " [10. 12.  1.]\n",
      " [ 7.  6.  1.]\n",
      " [ 5.  9.  1.]\n",
      " [ 7.  0.  1.]\n",
      " [10. 10.  1.]\n",
      " [ 5.  8.  1.]\n",
      " [12. 11.  1.]\n",
      " [10. 10.  1.]\n",
      " [14. 15.  1.]\n",
      " [ 6.  7.  1.]\n",
      " [14. 14.  1.]\n",
      " [ 6.  5.  1.]\n",
      " [13. 15.  1.]\n",
      " [13. 11.  1.]\n",
      " [ 8.  7.  1.]\n",
      " [10. 11.  1.]\n",
      " [10.  9.  1.]\n",
      " [13. 13.  1.]\n",
      " [ 6.  5.  1.]\n",
      " [10.  8.  1.]\n",
      " [10. 10.  1.]\n",
      " [ 9.  8.  1.]\n",
      " [12. 13.  1.]\n",
      " [16. 17.  1.]\n",
      " [ 9.  9.  1.]\n",
      " [12. 13.  1.]\n",
      " [12. 12.  1.]\n",
      " [11. 12.  1.]\n",
      " [15. 15.  1.]\n",
      " [ 8.  7.  1.]\n",
      " [ 8.  9.  1.]\n",
      " [11. 12.  1.]\n",
      " [ 8.  8.  1.]\n",
      " [ 7.  8.  1.]\n",
      " [ 8.  9.  1.]\n",
      " [13. 14.  1.]\n",
      " [14. 15.  1.]\n",
      " [17. 15.  1.]\n",
      " [ 9.  9.  1.]\n",
      " [18. 18.  1.]\n",
      " [ 9.  9.  1.]\n",
      " [16. 16.  1.]\n",
      " [ 8. 10.  1.]\n",
      " [ 9.  9.  1.]\n",
      " [ 7.  6.  1.]\n",
      " [10. 10.  1.]\n",
      " [10.  9.  1.]\n",
      " [ 7.  7.  1.]\n",
      " [11. 12.  1.]\n",
      " [ 9.  9.  1.]\n",
      " [ 7.  7.  1.]\n",
      " [ 8.  8.  1.]\n",
      " [12. 12.  1.]\n",
      " [12. 13.  1.]\n",
      " [ 6.  7.  1.]\n",
      " [ 8. 10.  1.]\n",
      " [14. 15.  1.]\n",
      " [ 6.  6.  1.]\n",
      " [ 6.  6.  1.]\n",
      " [ 7.  7.  1.]\n",
      " [ 9. 10.  1.]\n",
      " [ 6.  6.  1.]\n",
      " [ 6.  5.  1.]\n",
      " [16. 16.  1.]\n",
      " [12. 13.  1.]\n",
      " [13. 13.  1.]\n",
      " [ 9.  8.  1.]\n",
      " [16. 15.  1.]\n",
      " [12. 11.  1.]\n",
      " [10.  8.  1.]\n",
      " [12. 10.  1.]\n",
      " [13. 13.  1.]\n",
      " [11. 11.  1.]\n",
      " [11.  9.  1.]\n",
      " [14. 13.  1.]\n",
      " [ 9.  7.  1.]\n",
      " [11.  9.  1.]\n",
      " [14. 13.  1.]\n",
      " [13. 12.  1.]\n",
      " [13. 11.  1.]\n",
      " [ 7.  7.  1.]\n",
      " [12. 12.  1.]\n",
      " [10. 11.  1.]\n",
      " [ 6.  0.  1.]\n",
      " [13. 12.  1.]\n",
      " [ 7.  0.  1.]\n",
      " [18. 18.  1.]\n",
      " [12. 12.  1.]\n",
      " [ 6.  8.  1.]\n",
      " [ 3.  5.  1.]\n",
      " [13. 15.  1.]\n",
      " [ 6.  8.  1.]\n",
      " [ 7. 10.  1.]\n",
      " [ 6.  9.  1.]\n",
      " [ 8.  9.  1.]\n",
      " [ 8. 12.  1.]\n",
      " [ 7.  9.  1.]\n",
      " [14. 12.  1.]\n",
      " [11. 11.  1.]\n",
      " [15. 14.  1.]\n",
      " [10.  9.  1.]\n",
      " [17. 18.  1.]\n",
      " [ 8.  8.  1.]\n",
      " [13. 12.  1.]\n",
      " [10.  9.  1.]\n",
      " [ 9. 10.  1.]\n",
      " [17. 17.  1.]\n",
      " [ 9.  9.  1.]\n",
      " [12. 10.  1.]\n",
      " [10.  9.  1.]\n",
      " [ 6.  0.  1.]\n",
      " [ 9.  9.  1.]\n",
      " [15. 14.  1.]\n",
      " [11. 11.  1.]\n",
      " [15. 14.  1.]\n",
      " [10. 10.  1.]\n",
      " [12. 12.  1.]]\n",
      "theta:  (3,)\n",
      "X:  (276, 3)\n"
     ]
    }
   ],
   "source": [
    "X_0 = np.ones((m, 1))\n",
    "X_train_m = np.hstack((X_train_m, X_0))\n",
    "print(X_train_m)\n",
    "              \n",
    "theta_m = np.zeros(3)\n",
    "print(\"theta: \", theta_m.shape)\n",
    "print(\"X: \", X_train_m.shape)\n",
    "\n"
   ]
  },
  {
   "cell_type": "code",
   "execution_count": 299,
   "id": "03d2592a",
   "metadata": {},
   "outputs": [
    {
     "name": "stdout",
     "output_type": "stream",
     "text": [
      "(276,)\n",
      "[ 6  6 10 15 10 15 11  6 19 15  9 12 14 11 16 14 14 10  5 10 15 15 16 12\n",
      "  8  8 11 15 11 11 12 17 16 12 15  6 18 15 11 13 11 12 18 11  9  6 11 20\n",
      " 14  7 13 13 10 11 13 10 15 15  9 16 11 11  9  9 10 15 12  6  8 16 15 10\n",
      "  5 14 11 10 10 11 10  5 12 11  6 15 10  8  6 14 10  7  8 18  6 10 14 10\n",
      " 15 10 14  8  5 17 14  6 18 11  8 18 13 16 19 10 13 19  9 16 14 13  8 13\n",
      " 15 15 13 13  8 12 11  9  0 18  0  0 12 11  0  0  0  0 12 15  0  9 11 13\n",
      "  0 11  0 11  0 10  0 14 10  0 12  8 13 10 15 12  0  7  0 10  7 12 10 16\n",
      "  0 14  0 16 10  0  9  9 11  6  9 11  8 12 17  8 12 11 11 15  9 10 13  9\n",
      "  8 10 14 15 16 10 18 10 16 10 10  6 11  9  7 13 10  7  8 13 14  8 10 15\n",
      "  4  8  8 10  6  0 17 13 14  7 15 12  9 12 14 11  9 13  6 10 13 12 11  0\n",
      " 12 12  0 12  0 18 13  8  5 15  8 10  8  8 12  8 13 11 14  0 18  8 12  9\n",
      "  0 17 10 11 10  0  9 14 11 14 10 12]\n"
     ]
    }
   ],
   "source": [
    "print(y_train_m.shape)\n",
    "print(y_train_m.values)\n"
   ]
  },
  {
   "cell_type": "code",
   "execution_count": 300,
   "id": "51331216",
   "metadata": {},
   "outputs": [],
   "source": [
    "def mse(X, y, theta_m):\n",
    "    predictions = X.dot(theta_m)\n",
    "    errors = np.subtract(predictions, y)\n",
    "    sqrErrors = np.square(errors)     \n",
    "    J = 1 / (2 * m) * np.sum(sqrErrors)\n",
    "    return J"
   ]
  },
  {
   "cell_type": "code",
   "execution_count": 301,
   "id": "8dcf5450",
   "metadata": {
    "scrolled": true
   },
   "outputs": [
    {
     "name": "stdout",
     "output_type": "stream",
     "text": [
      "The cost for given values of theta_0 and theta_1 = 64.78985507246377\n"
     ]
    }
   ],
   "source": [
    "cost = mse(X_train_m, y_train_m, theta_m)\n",
    "print('The cost for given values of theta_0 and theta_1 =', cost)"
   ]
  },
  {
   "cell_type": "code",
   "execution_count": 302,
   "id": "1fd67896",
   "metadata": {},
   "outputs": [],
   "source": [
    "def gradient_descent(X, y, theta_m, alpha, iterations):\n",
    "    cost_history = []\n",
    "    for i in range(iterations):\n",
    "        predictions = X.dot(theta_m)\n",
    "        errors = np.subtract(predictions, y)\n",
    "        sum_delta = (alpha / m) * X.transpose().dot(errors);\n",
    "        theta_m = theta_m - sum_delta;\n",
    "        cost_history.append(mse(X, y, theta_m)) \n",
    "    return theta_m, cost_history"
   ]
  },
  {
   "cell_type": "code",
   "execution_count": 303,
   "id": "ec77d96b",
   "metadata": {},
   "outputs": [
    {
     "name": "stdout",
     "output_type": "stream",
     "text": [
      "Final value of theta =\n",
      "[0.31601261 0.68286553 0.0044449 ]\n",
      "cost_history = [61.67823012005337, 58.72081972828169, 55.90998028020558, 53.238447013672136, 50.69931524343447, 48.286022513990844, 45.99233163701575, 43.81231456953827, 41.740337091196366, 39.77104424096073, 37.89934647568547, 36.12040651470832, 34.42962683649625, 32.82263779501808, 31.295286325127577, 29.843625207762415, 28.46390286721217, 27.152553674083258, 25.90618872889603, 24.721587102491565, 23.595687510606485, 22.52558040109628, 21.50850043335431, 20.541819330487286, 19.623039085771747, 18.74978550583146, 17.91980207384642, 17.130944116930966, 16.38117326260498, 15.668552170029331, 14.99123952238687, 14.347485267465363, 13.735626094140262, 13.154081133064938, 12.601347870455637, 12.075998264409089, 11.576675053714265, 11.102088249617392, 10.651011801472114, 10.222280427656246, 9.814786603563679, 9.427477698886053, 9.059353256784647, 8.709462407919734, 8.376901412653215, 8.060811325071612, 7.760375772791451, 7.474818846808267, 7.203403095934932, 6.945427620645411, 6.700226261396808, 6.467165876747056, 6.245644706817385, 6.035090817869596, 5.8349606239776195, 5.6447374819722045, 5.463930356027011, 5.292072548434256, 5.128720493289329, 4.973452609966225, 4.825868213420338, 4.685586478501905, 4.552245455603141, 4.425501135094667, 4.305026558133016, 4.190510971540847, 4.081659024575395, 3.9781900055089734, 3.8798371160482716, 3.78634678171695, 3.6974779964190057, 3.6130016994888043, 3.5327001836174943, 3.456366532125499, 3.383804084126489, 3.3148259262004593, 3.249254409261923, 3.1869206893744915, 3.127664291324905, 3.071332693828453, 3.0177809352936364, 2.9668712391270358, 2.9184726576099034, 2.8724607334259598, 2.828717177965512, 2.7871295655743804, 2.747591042957348, 2.710000052984967, 2.6742600721898646, 2.640279361273987, 2.607970727981925, 2.5772513017273924, 2.548042319390312, 2.5202689217308207, 2.4938599598940208, 2.468747811505255, 2.4448682058806277, 2.4221600579009186, 2.400565310119528, 2.380028782696308, 2.360498030769405, 2.3419232088964588, 2.3242569422147303, 2.307454203987186, 2.2914721992179716, 2.27627025403648, 2.261809710564081, 2.2480538269917667, 2.2349676826104283, 2.2225180875482997, 2.210673496982253, 2.1994039296011954, 2.188680890110818, 2.1784772955793827, 2.1687674054341732, 2.159526754927668, 2.150732091901434, 2.14236131668433, 2.1343934249696352, 2.12680845352347, 2.1195874285841656, 2.112712316819219, 2.1061659787130496, 2.0999321242651003, 2.0939952708837377, 2.088340703367149, 2.0829544358677756, 2.0778231757419694, 2.072934289191446, 2.068275768607706, 2.0638362015350262, 2.0596047411718015, 2.055571078333977, 2.051725414808111, 2.0480584380251945, 2.0445612969897486, 2.041225579402003, 2.038043289914006, 2.035006829463465, 2.03210897563191, 2.0293428639763933, 2.0267019702864846, 2.024180093720699, 2.021771340778758, 2.0194701100682697, 2.0172710778264418, 2.015169184159416, 2.0131596199636363, 2.0112378144954692, 2.0093994235569266, 2.007640318266964, 2.0059565743893315, 2.0043444621893785, 2.0028004367936174, 2.001321129027101, 1.9999033367049566, 1.998544016355543, 1.9972402753538543, 1.995989364444831, 1.9947886706372469, 1.9936357104498152, 1.9925281234920453, 1.99146366636327, 1.9904402068540594, 1.9894557184350448, 1.988508275018903, 1.9875960459819613, 1.9867172914325595, 1.985870357713925, 1.9850536731299615, 1.9842657438828757, 1.9835051502121621, 1.9827705427249571, 1.9820606389082769, 1.9813742198141258, 1.980710126908912, 1.9800672590790123, 1.979444569784765, 1.978841064355516, 1.9782557974187451, 1.9776878704566077, 1.9771364294835936, 1.9766006628392876, 1.976079799090535, 1.9755731050375818, 1.9750798838190455, 1.9745994731108094, 1.9741312434141867, 1.9736745964289384, 1.9732289635069227, 1.9727938041823985, 1.972368604775169, 1.9719528770629584, 1.9715461570195985, 1.9711480036157492, 1.9707579976790714, 1.9703757408108817, 1.9700008543565164, 1.9696329784267192, 1.9692717709675396, 1.968916906876329, 1.9685680771615517, 1.9682249881442464, 1.967887360699054, 1.9675549295328771, 1.967227442499286, 1.9669046599469058, 1.9665863541001027, 1.9662723084703675, 1.9659623172968685, 1.965656185014741, 1.9653537257497218, 1.9650547628378439, 1.9647591283689239, 1.964466662752686, 1.9641772143063905, 1.9638906388628943, 1.9636067993981459, 1.9633255656771402, 1.9630468139174202, 1.9627704264692591, 1.9624962915116946, 1.9622243027636255, 1.9619543592092334, 1.9616863648370102, 1.9614202283917204, 1.9611558631386572, 1.9608931866395887, 1.9606321205398007, 1.9603725903656999, 1.960114525332449, 1.9598578581611348, 1.9596025249049978, 1.959348464784277, 1.959095620029237, 1.958843935730982, 1.9585933596996554, 1.958343842329673, 1.9580953364716391, 1.9578477973106005, 1.9576011822503476, 1.9573554508034394, 1.9571105644866873, 1.956866486721812, 1.956623182741031, 1.9563806194973226, 1.956138765579137, 1.9558975911293344, 1.9556570677681462, 1.955417168519944, 1.955177867743651, 1.9549391410665935, 1.9547009653216327, 1.954463318487417, 1.9542261796315887, 1.9539895288568117, 1.9537533472494726, 1.9535176168309214, 1.9532823205111318, 1.9530474420446609, 1.9528129659887838, 1.9525788776637139, 1.9523451631147826, 1.952111809076506, 1.9518788029384226, 1.9516461327126313, 1.951413787002934, 1.9511817549755082, 1.950950026331037, 1.950718591278214, 1.9504874405085668, 1.9502565651725279, 1.9500259568566882, 1.9497956075621792, 1.9495655096841327, 1.9493356559921458, 1.949106039611728, 1.9488766540066573, 1.9486474929622206, 1.948418550569273, 1.9481898212090967, 1.9479612995390077, 1.9477329804786732, 1.947504859197112, 1.9472769311003357, 1.9470491918196011, 1.9468216372002491, 1.946594263291097, 1.9463670663343489, 1.946140042756017, 1.9459131891568082, 1.9456865023034706, 1.9454599791205613, 1.945233616682627, 1.945007412206771, 1.9447813630455901, 1.9445554666804565, 1.9443297207151409, 1.9441041228697402, 1.9438786709749223, 1.9436533629664372, 1.9434281968799172, 1.943203170845922, 1.9429782830852398, 1.9427535319044114, 1.9425289156914844, 1.942304432911972, 1.9420800821050186, 1.9418558618797475, 1.9416317709117925, 1.941407807940008, 1.9411839717633321, 1.9409602612378107, 1.9407366752737691, 1.9405132128331224, 1.9402898729268172, 1.9400666546124063, 1.939843556991739, 1.9396205792087633, 1.9393977204474446, 1.939174979929781, 1.9389523569139206, 1.9387298506923702, 1.9385074605902932, 1.9382851859638917, 1.9380630261988718, 1.9378409807089798, 1.937619048934614, 1.937397230341504, 1.93717552441946, 1.9369539306811756, 1.9367324486610982, 1.93651107791435, 1.9362898180157047, 1.936068668558615, 1.9358476291542888, 1.9356266994308082, 1.9354058790322952, 1.9351851676181187, 1.93496456486214, 1.9347440704519923, 1.934523684088403, 1.9343034054845465, 1.9340832343654226, 1.9338631704672793, 1.9336432135370487, 1.9334233633318247, 1.933203619618358, 1.9329839821725774, 1.9327644507791373, 1.9325450252309884, 1.9323257053289637, 1.932106490881391, 1.931887381703721, 1.9316683776181802, 1.9314494784534288, 1.93123068404425, 1.931011994231241, 1.9307934088605319, 1.9305749277835096, 1.9303565508565586, 1.9301382779408138, 1.9299201089019284, 1.9297020436098484, 1.9294840819386025, 1.929266223766102, 1.9290484689739447, 1.9288308174472393, 1.9286132690744293, 1.9283958237471295, 1.928178481359969, 1.9279612418104426, 1.9277441049987745, 1.9275270708277767, 1.9273101392027274, 1.9270933100312482, 1.926876583223189, 1.926659958690519, 1.9264434363472207, 1.9262270161091954, 1.9260106978941647, 1.9257944816215846, 1.925578367212559, 1.9253623545897605, 1.9251464436773515, 1.9249306344009132, 1.9247149266873766, 1.9244993204649556, 1.924283815663086, 1.924068412212363, 1.9238531100444887, 1.9236379090922162, 1.9234228092892973, 1.9232078105704384, 1.9229929128712502, 1.922778116128205, 1.9225634202785962, 1.9223488252604972, 1.9221343310127252, 1.9219199374748055, 1.9217056445869358, 1.921491452289955, 1.9212773605253135, 1.9210633692350412, 1.9208494783617238, 1.920635687848473, 1.9204219976389028, 1.9202084076771058, 1.9199949179076305, 1.9197815282754604, 1.9195682387259914, 1.9193550492050144, 1.9191419596586967, 1.9189289700335639, 1.9187160802764822, 1.9185032903346462, 1.9182906001555593, 1.9180780096870216, 1.9178655188771174, 1.9176531276741995, 1.9174408360268789, 1.9172286438840123, 1.917016551194693, 1.9168045579082358, 1.9165926639741726, 1.916380869342237, 1.916169173962361, 1.915957577784663, 1.9157460807594389, 1.915534682837158, 1.9153233839684507, 1.9151121841041063, 1.9149010831950626, 1.9146900811924015, 1.914479178047343, 1.914268373711238, 1.9140576681355643, 1.9138470612719207, 1.9136365530720225, 1.9134261434876971, 1.9132158324708768, 1.9130056199735999, 1.9127955059480015, 1.9125854903463115, 1.9123755731208525, 1.912165754224035, 1.9119560336083525, 1.9117464112263813, 1.9115368870307774, 1.9113274609742685, 1.9111181330096612, 1.9109089030898276, 1.9106997711677098, 1.910490737196316, 1.9102818011287173, 1.9100729629180466, 1.9098642225174962, 1.9096555798803159, 1.9094470349598125, 1.9092385877093443, 1.9090302380823256, 1.9088219860322182, 1.908613831512536, 1.9084057744768395, 1.9081978148787369, 1.907989952671881, 1.9077821878099712, 1.9075745202467467, 1.9073669499359907, 1.9071594768315288, 1.9069521008872234, 1.9067448220569803, 1.9065376402947396, 1.9063305555544805, 1.9061235677902204, 1.9059166769560096, 1.9057098830059362, 1.905503185894121, 1.90529658557472, 1.9050900820019214, 1.9048836751299478, 1.9046773649130504, 1.9044711513055155, 1.9042650342616585, 1.9040590137358255, 1.9038530896823938, 1.9036472620557692, 1.9034415308103863, 1.9032358959007112, 1.9030303572812337, 1.9028249149064775, 1.9026195687309886, 1.902414318709345, 1.9022091647961474, 1.9020041069460278, 1.9017991451136413, 1.9015942792536706, 1.9013895093208237, 1.9011848352698364, 1.9009802570554672, 1.900775774632502, 1.9005713879557509, 1.9003670969800488, 1.9001629016602568, 1.899958801951257, 1.89975479780796, 1.8995508891852992, 1.89934707603823, 1.8991433583217339, 1.8989397359908156, 1.8987362090005035, 1.8985327773058494, 1.8983294408619276, 1.898126199623836, 1.8979230535466982, 1.8977200025856564, 1.8975170466958784, 1.897314185832555, 1.8971114199508983, 1.896908749006144, 1.8967061729535497, 1.8965036917483966, 1.8963013053459865, 1.8960990137016451, 1.8958968167707193, 1.8956947145085792, 1.8954927068706164, 1.8952907938122434, 1.8950889752888964, 1.8948872512560329, 1.8946856216691323, 1.8944840864836963, 1.8942826456552464, 1.8940812991393279, 1.8938800468915065, 1.8936788888673715, 1.8934778250225306, 1.8932768553126156, 1.8930759796932788, 1.892875198120194, 1.8926745105490559, 1.892473916935582, 1.8922734172355096, 1.892073011404598, 1.8918726993986283, 1.8916724811734018, 1.891472356684741, 1.8912723258884907, 1.8910723887405159, 1.8908725451967037, 1.8906727952129605, 1.8904731387452158, 1.8902735757494182, 1.8900741061815398, 1.8898747299975711, 1.8896754471535244, 1.8894762576054345, 1.889277161309355, 1.8890781582213623, 1.888879248297551, 1.8886804314940397, 1.8884817077669669, 1.8882830770724894, 1.8880845393667893, 1.887886094606065, 1.8876877427465395, 1.887489483744454, 1.8872913175560706, 1.8870932441376733, 1.886895263445567, 1.886697375436076, 1.886499580065547, 1.886301877290344, 1.8861042670668557, 1.8859067493514887, 1.8857093241006726, 1.8855119912708551, 1.8853147508185055, 1.8851176027001144, 1.8849205468721915, 1.884723583291269, 1.8845267119138975, 1.88432993269665, 1.884133245596119, 1.8839366505689175, 1.8837401475716788, 1.883543736561058, 1.8833474174937286, 1.8831511903263867, 1.8829550550157474, 1.8827590115185473, 1.8825630597915415, 1.8823671997915086, 1.8821714314752442, 1.8819757547995666, 1.8817801697213132, 1.8815846761973432, 1.8813892741845346, 1.881193963639787, 1.8809987445200194, 1.8808036167821711, 1.8806085803832027, 1.8804136352800944, 1.8802187814298463, 1.8800240187894801, 1.8798293473160363, 1.8796347669665763, 1.8794402776981813, 1.879245879467954, 1.879051572233016, 1.8788573559505095, 1.8786632305775979, 1.8784691960714628, 1.8782752523893076, 1.8780813994883543, 1.877887637325848, 1.8776939658590504, 1.877500385045246, 1.8773068948417377, 1.8771134952058501, 1.8769201860949265, 1.876726967466331, 1.8765338392774473, 1.8763408014856808, 1.8761478540484544, 1.875954996923213, 1.875762230067421, 1.8755695534385621, 1.8753769669941411, 1.8751844706916836, 1.8749920644887323, 1.8747997483428531, 1.8746075222116292, 1.874415386052666, 1.8742233398235884, 1.8740313834820386, 1.8738395169856832, 1.8736477402922054, 1.8734560533593099, 1.8732644561447205, 1.8730729486061826, 1.8728815307014577, 1.8726902023883318, 1.872498963624608, 1.87230781436811, 1.8721167545766815, 1.871925784208186, 1.8717349032205055, 1.8715441115715454, 1.8713534092192265, 1.871162796121493, 1.8709722722363071, 1.8707818375216507, 1.8705914919355255, 1.8704012354359556, 1.8702110679809805, 1.870020989528663, 1.8698310000370846, 1.8696410994643446, 1.8694512877685656, 1.8692615649078876, 1.8690719308404704, 1.8688823855244938, 1.868692928918158, 1.868503560979682, 1.868314281667305, 1.8681250909392852, 1.867935988753902, 1.8677469750694522, 1.8675580498442537, 1.8673692130366442, 1.8671804646049805, 1.866991804507639, 1.8668032327030162, 1.8666147491495275, 1.8664263538056078, 1.8662380466297126, 1.8660498275803168, 1.8658616966159134, 1.865673653695017, 1.8654856987761597, 1.865297831817895, 1.8651100527787943, 1.8649223616174504, 1.8647347582924745, 1.8645472427624958, 1.8643598149861662, 1.8641724749221542, 1.8639852225291504, 1.8637980577658613, 1.8636109805910173, 1.863423990963364, 1.8632370888416703, 1.86305027418472, 1.8628635469513215, 1.8626769071002984, 1.862490354590496, 1.8623038893807784, 1.8621175114300277, 1.8619312206971488, 1.8617450171410619, 1.861558900720709, 1.8613728713950517, 1.8611869291230694, 1.8610010738637615, 1.8608153055761465, 1.8606296242192637, 1.8604440297521692, 1.8602585221339403, 1.8600731013236724, 1.8598877672804819, 1.859702519963502, 1.8595173593318868, 1.85933228534481, 1.8591472979614625, 1.858962397141057, 1.8587775828428228, 1.8585928550260111, 1.8584082136498903, 1.8582236586737484, 1.858039190056893, 1.8578548077586512, 1.857670511738368, 1.8574863019554084, 1.8573021783691575, 1.857118140939017, 1.8569341896244096, 1.856750324384777, 1.8565665451795799, 1.8563828519682974, 1.8561992447104285, 1.856015723365492, 1.8558322878930225, 1.8556489382525776, 1.855465674403732, 1.8552824963060792, 1.8550994039192326, 1.8549163972028242, 1.8547334761165057, 1.8545506406199466, 1.8543678906728358, 1.8541852262348821, 1.8540026472658118, 1.8538201537253718, 1.8536377455733262, 1.853455422769459, 1.8532731852735742, 1.8530910330454928, 1.8529089660450557, 1.8527269842321223, 1.8525450875665717, 1.8523632760083013, 1.852181549517228, 1.8519999080532858, 1.8518183515764306, 1.8516368800466336, 1.8514554934238878, 1.8512741916682032, 1.8510929747396103, 1.8509118425981568, 1.8507307952039098, 1.8505498325169558, 1.8503689544973996, 1.8501881611053652, 1.8500074523009937, 1.849826828044448, 1.8496462882959066, 1.8494658330155684, 1.849285462163652, 1.8491051757003925, 1.8489249735860454, 1.8487448557808837, 1.8485648222452014, 1.848384872939307, 1.8482050078235326, 1.8480252268582251, 1.8478455300037533, 1.8476659172205014, 1.8474863884688746, 1.8473069437092962, 1.847127582902208, 1.8469483060080696, 1.8467691129873613, 1.8465900038005794, 1.8464109784082414, 1.8462320367708815, 1.8460531788490537, 1.845874404603329, 1.8456957139942995, 1.8455171069825733, 1.8453385835287783, 1.8451601435935607, 1.844981787137586, 1.8448035141215375, 1.8446253245061155, 1.8444472182520422, 1.8442691953200563, 1.8440912556709144, 1.8439133992653927, 1.8437356260642859, 1.843557936028407, 1.8433803291185866, 1.8432028052956744, 1.8430253645205388, 1.8428480067540678, 1.842670731957164, 1.8424935400907525, 1.8423164311157751, 1.8421394049931916, 1.8419624616839805, 1.8417856011491394, 1.841608823349684, 1.841432128246647, 1.8412555158010808, 1.841078985974057, 1.8409025387266635, 1.8407261740200076, 1.8405498918152148, 1.8403736920734295, 1.8401975747558124, 1.8400215398235455, 1.8398455872378259, 1.8396697169598726, 1.8394939289509191, 1.8393182231722196, 1.839142599585046, 1.8389670581506876, 1.838791598830453, 1.838616221585669, 1.83844092637768, 1.8382657131678493, 1.8380905819175573, 1.837915532588204, 1.8377405651412067, 1.8375656795380007, 1.8373908757400397, 1.837216153708796, 1.8370415134057596, 1.8368669547924397, 1.8366924778303608, 1.8365180824810694, 1.8363437687061266, 1.8361695364671144, 1.8359953857256306, 1.835821316443293, 1.835647328581736, 1.835473422102613, 1.8352995969675954, 1.8351258531383718, 1.83495219057665, 1.8347786092441551, 1.8346051091026307, 1.834431690113837, 1.834258352239555, 1.8340850954415817, 1.8339119196817315, 1.833738824921839, 1.8335658111237547, 1.833392878249348, 1.8332200262605065, 1.8330472551191357, 1.832874564787158, 1.832701955226515, 1.8325294263991656, 1.8323569782670874, 1.832184610792274, 1.8320123239367394, 1.8318401176625139, 1.8316679919316454, 1.8314959467062013, 1.831323981948266, 1.8311520976199411, 1.8309802936833466, 1.8308085701006205, 1.8306369268339189, 1.8304653638454147, 1.8302938810972997, 1.830122478551783, 1.8299511561710915, 1.82977991391747, 1.8296087517531814, 1.8294376696405055, 1.8292666675417408, 1.829095745419203, 1.828924903235226, 1.8287541409521608, 1.8285834585323766, 1.82841285593826, 1.8282423331322155, 1.8280718900766668, 1.827901526734052, 1.8277312430668293, 1.827561039037475, 1.8273909146084812, 1.8272208697423582, 1.8270509044016356, 1.8268810185488586, 1.8267112121465912, 1.8265414851574138, 1.8263718375439268, 1.826202269268746, 1.8260327802945044, 1.8258633705838563, 1.8256940400994683, 1.8255247888040294, 1.8253556166602432, 1.8251865236308313, 1.8250175096785346, 1.8248485747661096, 1.824679718856331, 1.8245109419119916, 1.8243422438959005, 1.8241736247708846, 1.8240050844997902, 1.8238366230454783, 1.82366824037083, 1.8234999364387412, 1.8233317112121277, 1.823163564653922, 1.8229954967270727, 1.8228275073945481, 1.8226595966193324, 1.822491764364427, 1.8223240105928524, 1.822156335267645, 1.8219887383518598, 1.8218212198085675, 1.8216537796008583, 1.8214864176918375, 1.8213191340446306, 1.8211519286223778, 1.8209848013882377, 1.8208177523053863, 1.8206507813370176, 1.8204838884463415, 1.820317073596587, 1.8201503367509984, 1.8199836778728387, 1.8198170969253884, 1.819650593871944, 1.8194841686758205, 1.8193178213003496, 1.8191515517088803, 1.8189853598647792, 1.81881924573143, 1.818653209272233, 1.818487250450607, 1.8183213692299873, 1.8181555655738257, 1.8179898394455931, 1.817824190808776, 1.8176586196268785, 1.8174931258634222, 1.8173277094819456, 1.8171623704460045, 1.8169971087191716, 1.8168319242650373, 1.816666817047209, 1.81650178702931, 1.8163368341749841, 1.8161719584478875, 1.8160071598116971, 1.815842438230106, 1.8156777936668238, 1.8155132260855773, 1.8153487354501119, 1.8151843217241874, 1.815019984871583, 1.8148557248560937, 1.814691541641532, 1.8145274351917282, 1.8143634054705275, 1.8141994524417948, 1.814035576069409, 1.8138717763172696, 1.8137080531492897, 1.8135444065294017, 1.8133808364215542, 1.813217342789713, 1.8130539255978604, 1.8128905848099952, 1.812727320390135, 1.812564132302312, 1.8124010205105787, 1.8122379849790002, 1.8120750256716622, 1.8119121425526652, 1.8117493355861272, 1.8115866047361837, 1.811423949966986, 1.8112613712427037, 1.8110988685275216, 1.8109364417856424, 1.8107740909812866, 1.8106118160786882, 1.8104496170421025, 1.8102874938357985, 1.8101254464240626, 1.809963474771199, 1.809801578841528, 1.8096397585993869, 1.809478014009129, 1.8093163450351257, 1.809154751641765, 1.8089932337934505, 1.808831791454604, 1.8086704245896628, 1.808509133163082, 1.8083479171393324, 1.8081867764829032, 1.8080257111582976, 1.8078647211300394, 1.8077038063626647, 1.8075429668207301, 1.8073822024688064, 1.8072215132714828, 1.8070608991933639, 1.806900360199071, 1.806739896253243, 1.8065795073205353, 1.8064191933656188, 1.8062589543531826, 1.806098790247932, 1.8059387010145873, 1.8057786866178878, 1.8056187470225884, 1.80545888219346, 1.805299092095291, 1.8051393766928856, 1.8049797359510666, 1.8048201698346695, 1.80466067830855, 1.8045012613375793, 1.8043419188866443, 1.804182650920649, 1.8040234574045138, 1.8038643383031765, 1.80370529358159, 1.8035463232047249, 1.8033874271375676, 1.8032286053451212, 1.8030698577924051, 1.8029111844444559, 1.802752585266325, 1.8025940602230834, 1.8024356092798148, 1.8022772324016219, 1.802118929553622, 1.8019607007009517, 1.8018025458087605, 1.8016444648422172, 1.8014864577665053, 1.8013285245468256, 1.8011706651483939, 1.8010128795364442, 1.8008551676762268, 1.8006975295330065, 1.8005399650720662, 1.8003824742587045, 1.8002250570582357, 1.8000677134359921, 1.7999104433573214, 1.7997532467875874, 1.79959612369217, 1.7994390740364667, 1.7992820977858899, 1.7991251949058686, 1.7989683653618496, 1.798811609119293, 1.798654926143678, 1.7984983164004986, 1.7983417798552654, 1.798185316473505, 1.7980289262207614, 1.7978726090625934, 1.797716364964576, 1.7975601938923018, 1.797404095811378, 1.7972480706874292, 1.7970921184860957, 1.7969362391730344, 1.7967804327139176, 1.7966246990744346, 1.79646903822029, 1.7963134501172056, 1.7961579347309184, 1.796002492027182, 1.7958471219717655, 1.7956918245304554, 1.7955365996690535, 1.7953814473533778, 1.7952263675492621, 1.7950713602225574, 1.7949164253391285, 1.7947615628648592, 1.7946067727656472, 1.7944520550074077, 1.7942974095560704, 1.7941428363775824, 1.7939883354379065, 1.7938339067030211, 1.793679550138921, 1.793525265711617, 1.7933710533871352, 1.79321691313152, 1.7930628449108286, 1.7929088486911366, 1.7927549244385337, 1.792601072119128, 1.7924472916990413, 1.792293583144412, 1.7921399464213956, 1.7919863814961623, 1.7918328883348975, 1.7916794669038052, 1.7915261171691026, 1.7913728390970247, 1.7912196326538208, 1.7910664978057578, 1.7909134345191167, 1.7907604427601964, 1.7906075224953097, 1.790454673690787, 1.7903018963129729, 1.790149190328229, 1.7899965557029323, 1.7898439924034755, 1.7896915003962681, 1.7895390796477342, 1.789386730124315, 1.7892344517924652, 1.7890822446186587, 1.7889301085693818, 1.788778043611139, 1.7886260497104496, 1.7884741268338487, 1.7883222749478866, 1.7881704940191316, 1.7880187840141646, 1.7878671448995842, 1.787715576642005, 1.7875640792080558, 1.7874126525643828, 1.7872612966776462, 1.7871100115145235, 1.7869587970417067, 1.7868076532259043, 1.7866565800338403, 1.786505577432254, 1.7863546453879011, 1.7862037838675509, 1.786052992837992, 1.7859022722660256, 1.78575162211847, 1.785601042362158, 1.7854505329639383, 1.785300093890677, 1.7851497251092538, 1.7849994265865643, 1.7848491982895198, 1.784699040185048, 1.7845489522400915, 1.784398934421608, 1.7842489866965718, 1.7840991090319722, 1.7839493013948138, 1.7837995637521173, 1.7836498960709195, 1.7835002983182708, 1.7833507704612388, 1.7832013124669053, 1.7830519243023695, 1.7829026059347441, 1.782753357331159, 1.782604178458758, 1.782455069284701, 1.7823060297761644, 1.7821570599003382, 1.7820081596244302, 1.7818593289156601, 1.7817105677412675, 1.7815618760685041, 1.7814132538646377, 1.7812647010969518, 1.7811162177327462, 1.7809678037393353, 1.780819459084049, 1.7806711837342315, 1.7805229776572435, 1.7803748408204627, 1.7802267731912786, 1.780078774737098, 1.7799308454253437, 1.779782985223453, 1.7796351940988786, 1.7794874720190879, 1.7793398189515646, 1.7791922348638083, 1.7790447197233323, 1.7788972734976654, 1.7787498961543533, 1.7786025876609548, 1.7784553479850458, 1.7783081770942164, 1.7781610749560732, 1.7780140415382364, 1.7778670768083424, 1.7777201807340428, 1.7775733532830045, 1.7774265944229082, 1.7772799041214529, 1.7771332823463502, 1.7769867290653278, 1.776840244246128, 1.77669382785651, 1.7765474798642462, 1.7764012002371248, 1.7762549889429498, 1.7761088459495395, 1.7759627712247283, 1.7758167647363656, 1.7756708264523144, 1.775524956340455, 1.7753791543686814, 1.7752334205049032, 1.7750877547170456, 1.7749421569730475, 1.774796627240865, 1.7746511654884676, 1.77450577168384, 1.7743604457949826, 1.7742151877899108, 1.7740699976366554, 1.773924875303261, 1.773779820757788, 1.7736348339683126, 1.7734899149029253, 1.7733450635297305, 1.7732002798168498, 1.7730555637324192, 1.7729109152445879, 1.7727663343215236, 1.772621820931405, 1.7724773750424283, 1.7723329966228043, 1.7721886856407587, 1.7720444420645318, 1.7719002658623793, 1.7717561570025713, 1.7716121154533933, 1.7714681411831457, 1.7713242341601438, 1.7711803943527185, 1.771036621729213, 1.7708929162579892, 1.7707492779074216, 1.7706057066458998, 1.7704622024418284, 1.7703187652636274, 1.7701753950797312, 1.7700320918585888, 1.769888855568665, 1.7697456861784382, 1.7696025836564029, 1.769459547971068, 1.7693165790909564, 1.7691736769846065, 1.769030841620573, 1.7688880729674223, 1.7687453709937377, 1.768602735668118, 1.7684601669591742, 1.7683176648355345, 1.7681752292658406, 1.768032860218749, 1.7678905576629316, 1.7677483215670753, 1.7676061518998802, 1.7674640486300628, 1.767322011726353, 1.7671800411574974, 1.7670381368922545, 1.7668962988994004, 1.7667545271477234, 1.766612821606028, 1.7664711822431334, 1.7663296090278733, 1.766188101929095, 1.7660466609156622, 1.7659052859564528, 1.765763977020358, 1.7656227340762847, 1.7654815570931557, 1.765340446039906, 1.7651994008854863, 1.7650584215988636, 1.7649175081490165, 1.76477666050494, 1.7646358786356433, 1.7644951625101508, 1.7643545120975002, 1.7642139273667448, 1.7640734082869525, 1.7639329548272058, 1.7637925669566006, 1.7636522446442484, 1.7635119878592762, 1.7633717965708233, 1.763231670748045, 1.7630916103601109, 1.7629516153762046, 1.7628116857655247, 1.7626718214972847, 1.762532022540712, 1.7623922888650487, 1.7622526204395506, 1.7621130172334898, 1.7619734792161514, 1.7618340063568352, 1.7616945986248553, 1.761555255989541, 1.7614159784202361, 1.7612767658862982, 1.7611376183570986, 1.7609985358020246, 1.7608595181904774, 1.7607205654918723, 1.760581677675639, 1.7604428547112223, 1.7603040965680794, 1.7601654032156864, 1.7600267746235279, 1.7598882107611065, 1.7597497115979392, 1.759611277103555, 1.7594729072475004, 1.7593346019993341, 1.7591963613286297, 1.7590581852049745, 1.7589200735979718, 1.7587820264772371, 1.7586440438124025, 1.758506125573112, 1.7583682717290259, 1.7582304822498178, 1.7580927571051754, 1.7579550962648016, 1.7578174996984128, 1.7576799673757402, 1.757542499266528, 1.757405095340537, 1.7572677555675391, 1.7571304799173237, 1.756993268359693, 1.756856120864462, 1.7567190374014623, 1.756582017940539, 1.7564450624515497, 1.7563081709043689, 1.756171343268883, 1.7560345795149943, 1.7558978796126186, 1.7557612435316856, 1.7556246712421388, 1.7554881627139374, 1.755351717917053, 1.7552153368214731, 1.755079019397197, 1.754942765614241, 1.7548065754426334, 1.7546704488524172, 1.7545343858136493, 1.7543983862964012, 1.754262450270758, 1.7541265777068205, 1.7539907685747, 1.7538550228445262, 1.7537193404864402, 1.7535837214705974, 1.7534481657671679, 1.7533126733463351, 1.7531772441782978, 1.7530418782332673, 1.7529065754814699, 1.7527713358931454, 1.7526361594385482, 1.7525010460879462, 1.7523659958116216, 1.7522310085798705, 1.7520960843630018, 1.7519612231313415, 1.751826424855226, 1.751691689505009, 1.7515570170510548, 1.7514224074637437, 1.7512878607134705, 1.7511533767706418, 1.7510189556056805, 1.7508845971890221, 1.7507503014911152, 1.7506160684824243, 1.750481898133427, 1.7503477904146143, 1.7502137452964914, 1.7500797627495777, 1.749945842744406, 1.7498119852515237, 1.7496781902414913, 1.7495444576848838, 1.7494107875522886, 1.7492771798143099, 1.7491436344415627, 1.7490101514046776, 1.7488767306742985, 1.748743372221083, 1.7486100760157026, 1.748476842028843, 1.7483436702312034, 1.7482105605934963, 1.748077513086449, 1.7479445276808023, 1.7478116043473098, 1.7476787430567409, 1.7475459437798764, 1.747413206487513, 1.747280531150459, 1.7471479177395384, 1.7470153662255878, 1.7468828765794584, 1.7467504487720142, 1.746618082774133, 1.7464857785567074, 1.7463535360906433, 1.7462213553468589, 1.7460892362962874, 1.745957178909876, 1.745825183158585, 1.7456932490133883, 1.7455613764452735, 1.7454295654252423, 1.745297815924309, 1.7451661279135038, 1.7450345013638675, 1.744902936246457, 1.7447714325323413, 1.7446399901926046, 1.7445086091983428, 1.7443772895206673, 1.7442460311307015, 1.7441148339995833, 1.743983698098464, 1.743852623398509, 1.743721609870896, 1.7435906574868179, 1.7434597662174793, 1.7433289360341004, 1.743198166907913, 1.7430674588101651, 1.7429368117121145, 1.7428062255850354, 1.7426757004002154, 1.742545236128954, 1.7424148327425661, 1.7422844902123782, 1.7421542085097315, 1.7420239876059813, 1.7418938274724949, 1.741763728080654, 1.7416336894018531, 1.741503711407502, 1.741373794069021, 1.741243937357846, 1.7411141412454259, 1.7409844057032242, 1.7408547307027142, 1.7407251162153865, 1.740595562212744, 1.740466068666302, 1.7403366355475904, 1.7402072628281515, 1.740077950479542, 1.7399486984733312, 1.7398195067811029, 1.7396903753744526, 1.739561304224991, 1.7394322933043405, 1.7393033425841382, 1.7391744520360335, 1.73904562163169, 1.7389168513427846, 1.738788141141007, 1.7386594909980602, 1.7385309008856615, 1.73840237077554, 1.7382739006394399, 1.7381454904491174, 1.7380171401763418, 1.737888849792897, 1.7377606192705803, 1.7376324485811994, 1.7375043376965789, 1.7373762865885547, 1.737248295228976, 1.7371203635897061, 1.7369924916426212, 1.736864679359611, 1.7367369267125765, 1.7366092336734351, 1.7364816002141161, 1.7363540263065609, 1.7362265119227247, 1.7360990570345773, 1.7359716616140992, 1.7358443256332874, 1.7357170490641485, 1.7355898318787057, 1.7354626740489916, 1.735335575547056, 1.7352085363449588, 1.7350815564147748, 1.734954635728591, 1.7348277742585072, 1.7347009719766389, 1.7345742288551114, 1.7344475448660648, 1.7343209199816527, 1.7341943541740408, 1.7340678474154083, 1.733941399677948, 1.7338150109338648, 1.7336886811553778, 1.7335624103147182, 1.7334361983841309, 1.7333100453358743, 1.7331839511422185, 1.7330579157754473, 1.7329319392078584, 1.7328060214117618, 1.73268016235948, 1.7325543620233497, 1.7324286203757198, 1.7323029373889522, 1.7321773130354228, 1.7320517472875194, 1.7319262401176432, 1.7318007914982088, 1.7316754014016429, 1.731550069800386, 1.7314247966668912, 1.7312995819736252, 1.7311744256930661, 1.7310493277977077, 1.730924288260053, 1.7307993070526213, 1.7306743841479437, 1.7305495195185636, 1.7304247131370374, 1.7302999649759363, 1.7301752750078419, 1.7300506432053495, 1.7299260695410688, 1.7298015539876206, 1.7296770965176393, 1.729552697103772, 1.7294283557186787, 1.7293040723350328, 1.7291798469255202, 1.729055679462839, 1.7289315699197014, 1.7288075182688314, 1.7286835244829664, 1.728559588534857, 1.7284357103972656, 1.7283118900429686, 1.728188127444754, 1.728064422575423, 1.7279407754077907, 1.727817185914684, 1.7276936540689425, 1.727570179843419, 1.7274467632109791, 1.7273234041445011, 1.7272001026168755, 1.727076858601006, 1.7269536720698093, 1.7268305429962156, 1.7267074713531658, 1.7265844571136155, 1.7264615002505321, 1.7263386007368953, 1.7262157585456988, 1.726092973649948, 1.7259702460226614, 1.7258475756368699, 1.7257249624656184, 1.7256024064819622, 1.7254799076589713, 1.725357465969727, 1.725235081387325, 1.7251127538848714, 1.7249904834354872, 1.7248682700123044, 1.7247461135884687, 1.7246240141371378, 1.724501971631482, 1.7243799860446856, 1.7242580573499429, 1.7241361855204633, 1.7240143705294677, 1.7238926123501905, 1.7237709109558772, 1.7236492663197867, 1.7235276784151914, 1.7234061472153746, 1.7232846726936326, 1.7231632548232763, 1.7230418935776262, 1.722920588930017, 1.7227993408537967, 1.7226781493223235, 1.72255701430897, 1.7224359357871206, 1.722314913730173, 1.722193948111537, 1.7220730389046344, 1.7219521860828997, 1.7218313896197812, 1.7217106494887378, 1.721589965663242, 1.7214693381167783, 1.7213487668228447, 1.7212282517549509, 1.721107792886618, 1.7209873901913821, 1.7208670436427902, 1.720746753214401, 1.7206265188797876, 1.7205063406125338, 1.7203862183862373, 1.720266152174507, 1.720146141950965, 1.7200261876892453, 1.719906289362995, 1.7197864469458732, 1.7196666604115516, 1.7195469297337138, 1.7194272548860559, 1.7193076358422872, 1.7191880725761282, 1.7190685650613131, 1.7189491132715875, 1.7188297171807099, 1.71871037676245, 1.7185910919905918, 1.7184718628389297, 1.7183526892812722, 1.7182335712914392, 1.7181145088432617, 1.7179955019105864, 1.7178765504672682, 1.7177576544871789, 1.7176388139441978, 1.7175200288122197, 1.7174012990651506, 1.7172826246769097, 1.717164005621427, 1.7170454418726457, 1.7169269334045216, 1.7168084801910215, 1.7166900822061262, 1.716571739423827, 1.716453451818129, 1.7163352193630481, 1.716217042032614, 1.7160989198008672, 1.7159808526418614, 1.7158628405296616, 1.7157448834383466, 1.7156269813420053, 1.7155091342147402, 1.7153913420306657, 1.7152736047639088, 1.715155922388608, 1.715038294878914, 1.7149207222089904, 1.7148032043530121, 1.7146857412851668, 1.7145683329796544, 1.7144509794106866, 1.7143336805524865, 1.7142164363792909, 1.7140992468653484, 1.7139821119849181, 1.7138650317122741, 1.7137480060216999, 1.7136310348874926, 1.7135141182839606, 1.7133972561854256, 1.7132804485662194, 1.7131636954006881, 1.7130469966631883, 1.7129303523280905, 1.7128137623697748, 1.712697226762635, 1.7125807454810766, 1.7124643184995172, 1.7123479457923858, 1.7122316273341247, 1.712115363099188, 1.7119991530620406, 1.71188299719716, 1.7117668954790373, 1.7116508478821724, 1.7115348543810813, 1.7114189149502876, 1.7113030295643308, 1.7111871981977598, 1.711071420825137, 1.7109556974210351, 1.7108400279600415, 1.710724412416752, 1.7106088507657777, 1.7104933429817397, 1.710377889039272, 1.7102624889130196, 1.7101471425776407, 1.7100318500078038, 1.7099166111781907, 1.7098014260634953, 1.7096862946384221, 1.7095712168776884, 1.7094561927560235, 1.709341222248168, 1.7092263053288752, 1.709111441972909, 1.7089966321550472, 1.7088818758500774, 1.7087671730328002, 1.7086525236780281, 1.7085379277605852, 1.7084233852553072, 1.7083088961370423, 1.7081944603806498, 1.708080077961002, 1.7079657488529816, 1.7078514730314835, 1.7077372504714157, 1.7076230811476962, 1.7075089650352562, 1.7073949021090382, 1.7072808923439957, 1.7071669357150963, 1.7070530321973167, 1.7069391817656467, 1.7068253843950874, 1.7067116400606535, 1.7065979487373684, 1.7064843104002696, 1.7063707250244053, 1.7062571925848362, 1.7061437130566333, 1.7060302864148824, 1.705916912634677, 1.7058035916911256, 1.7056903235593466, 1.705577108214471, 1.7054639456316405, 1.7053508357860097, 1.7052377786527446, 1.7051247742070224, 1.7050118224240325, 1.7048989232789757, 1.704786076747065, 1.704673282803524, 1.7045605414235891, 1.7044478525825075, 1.7043352162555387, 1.7042226324179537, 1.7041101010450352, 1.7039976221120767, 1.703885195594385, 1.7037728214672765, 1.7036604997060814, 1.7035482302861396, 1.703436013182804, 1.7033238483714384, 1.7032117358274181, 1.7030996755261305, 1.7029876674429743, 1.70287571155336, 1.7027638078327094, 1.7026519562564564, 1.702540156800045, 1.7024284094389328, 1.702316714148588, 1.70220507090449, 1.7020934796821303, 1.701981940457012, 1.701870453204649, 1.701759017900567, 1.7016476345203047, 1.70153630303941, 1.7014250234334443, 1.7013137956779787, 1.7012026197485974, 1.7010914956208951, 1.7009804232704784, 1.7008694026729656, 1.7007584338039854, 1.70064751663918, 1.700536651154201, 1.7004258373247125, 1.70031507512639, 1.7002043645349205, 1.700093705526002, 1.6999830980753443, 1.6998725421586691, 1.699762037751709, 1.6996515848302076, 1.6995411833699208, 1.6994308333466144, 1.6993205347360685, 1.699210287514072, 1.6991000916564258, 1.6989899471389425, 1.6988798539374468, 1.6987698120277732, 1.6986598213857693, 1.698549881987292, 1.6984399938082124, 1.69833015682441, 1.698220371011777, 1.6981106363462177, 1.6980009528036466, 1.6978913203599904, 1.6977817389911862, 1.6976722086731832, 1.6975627293819417, 1.6974533010934327, 1.6973439237836403, 1.6972345974285576, 1.6971253220041904, 1.697016097486556, 1.6969069238516825, 1.6967978010756088, 1.6966887291343857, 1.6965797080040759, 1.696470737660752, 1.696361818080499, 1.696252949239412, 1.6961441311135994, 1.6960353636791778, 1.6959266469122782, 1.695817980789041, 1.6957093652856179, 1.6956008003781726, 1.6954922860428796, 1.6953838222559248, 1.6952754089935045, 1.6951670462318282, 1.695058733947114, 1.6949504721155926, 1.6948422607135065, 1.6947340997171083, 1.6946259891026627, 1.6945179288464443, 1.6944099189247397, 1.6943019593138475, 1.6941940499900756, 1.6940861909297444, 1.6939783821091847, 1.6938706235047403, 1.6937629150927627, 1.6936552568496173, 1.693547648751681, 1.6934400907753389, 1.69333258289699, 1.6932251250930435, 1.6931177173399192, 1.6930103596140487, 1.692903051891874, 1.6927957941498497, 1.6926885863644394, 1.6925814285121195, 1.6924743205693764, 1.6923672625127084, 1.6922602543186243, 1.692153295963644, 1.6920463874242986, 1.6919395286771302, 1.6918327196986924, 1.691725960465549, 1.6916192509542753, 1.6915125911414584, 1.6914059810036943, 1.6912994205175929, 1.691192909659772, 1.6910864484068633, 1.6909800367355075, 1.6908736746223572, 1.6907673620440766, 1.690661098977339, 1.69055488539883, 1.6904487212852466, 1.6903426066132958, 1.6902365413596954, 1.6901305255011763, 1.6900245590144767, 1.6899186418763494, 1.689812774063556, 1.6897069555528694, 1.6896011863210738, 1.6894954663449646, 1.6893897956013477, 1.6892841740670395, 1.6891786017188681, 1.6890730785336718, 1.6889676044883009, 1.6888621795596153, 1.6887568037244873, 1.6886514769597982, 1.688546199242442, 1.6884409705493217, 1.6883357908573533, 1.6882306601434627, 1.6881255783845859, 1.6880205455576711, 1.6879155616396762, 1.687810626607571, 1.6877057404383355, 1.6876009031089607, 1.6874961145964484, 1.6873913748778107, 1.6872866839300722, 1.6871820417302663, 1.687077448255439, 1.6869729034826457, 1.6868684073889528, 1.6867639599514384, 1.6866595611471908, 1.6865552109533088, 1.6864509093469031, 1.686346656305094, 1.686242451805013, 1.6861382958238023, 1.6860341883386145, 1.6859301293266145, 1.6858261187649761, 1.685722156630885, 1.6856182429015372, 1.6855143775541392, 1.6854105605659089, 1.6853067919140745, 1.6852030715758746, 1.68509939952856, 1.6849957757493899, 1.684892200215636, 1.68478867290458, 1.6846851937935148, 1.684581762859744, 1.6844783800805807, 1.68437504543335, 1.6842717588953873, 1.6841685204440384, 1.68406533005666, 1.6839621877106197, 1.6838590933832958, 1.6837560470520758, 1.68365304869436, 1.6835500982875575, 1.6834471958090904, 1.6833443412363887, 1.6832415345468945, 1.683138775718061, 1.68303606472735, 1.6829334015522364, 1.6828307861702043, 1.682728218558748, 1.682625698695374, 1.6825232265575982, 1.6824208021229472, 1.6823184253689583, 1.6822160962731791, 1.6821138148131696, 1.6820115809664968, 1.6819093947107417, 1.681807256023494, 1.6817051648823544, 1.6816031212649345, 1.6815011251488565, 1.6813991765117517, 1.681297275331264, 1.6811954215850466, 1.6810936152507634, 1.6809918563060888, 1.680890144728708, 1.680788480496317, 1.6806868635866206, 1.680585293977337, 1.680483771646192]\n"
     ]
    }
   ],
   "source": [
    "iterations = 2000;\n",
    "alpha = 0.0001;\n",
    "theta_m = np.zeros(3)\n",
    "theta_m, cost_history = gradient_descent(X_train_m, y_train_m, theta_m, alpha, iterations)\n",
    "print('Final value of theta =')\n",
    "print(theta_m)\n",
    "print('cost_history =', cost_history)"
   ]
  },
  {
   "cell_type": "code",
   "execution_count": 304,
   "id": "ff9f9ba1",
   "metadata": {},
   "outputs": [
    {
     "data": {
      "text/plain": [
       "Text(0.5, 1.0, 'Convergence of gradient descent')"
      ]
     },
     "execution_count": 304,
     "metadata": {},
     "output_type": "execute_result"
    },
    {
     "data": {
      "image/png": "[encoded data removed]",
      "text/plain": [
       "<Figure size 720x432 with 1 Axes>"
      ]
     },
     "metadata": {
      "needs_background": "light"
     },
     "output_type": "display_data"
    }
   ],
   "source": [
    "import matplotlib.pyplot as plt\n",
    "plt.plot(range(1, iterations +1), cost_history, color ='blue')\n",
    "plt.rcParams[\"figure.figsize\"] = (10,6)\n",
    "plt.grid()\n",
    "plt.xlabel(\"Iteration #\")\n",
    "plt.ylabel(\"Cost\")\n",
    "plt.title(\"Convergence of gradient descent\")\n",
    "\n"
   ]
  },
  {
   "cell_type": "code",
   "execution_count": 305,
   "id": "1edcb1d8",
   "metadata": {},
   "outputs": [
    {
     "name": "stdout",
     "output_type": "stream",
     "text": [
      "[[10.  9.  1.]\n",
      " [ 9.  9.  1.]\n",
      " [ 9.  8.  1.]\n",
      " [10. 11.  1.]\n",
      " [ 8.  8.  1.]\n",
      " [11.  9.  1.]\n",
      " [12. 12.  1.]\n",
      " [ 8.  9.  1.]\n",
      " [10.  9.  1.]\n",
      " [12. 10.  1.]\n",
      " [18. 18.  1.]\n",
      " [13. 12.  1.]\n",
      " [15. 14.  1.]\n",
      " [15. 13.  1.]\n",
      " [12. 11.  1.]\n",
      " [15. 15.  1.]\n",
      " [12. 12.  1.]\n",
      " [18. 18.  1.]\n",
      " [14. 13.  1.]\n",
      " [14. 12.  1.]\n",
      " [10.  9.  1.]\n",
      " [10.  8.  1.]\n",
      " [14. 13.  1.]\n",
      " [16. 15.  1.]\n",
      " [12. 10.  1.]\n",
      " [11. 11.  1.]\n",
      " [15. 12.  1.]\n",
      " [17. 17.  1.]\n",
      " [15. 14.  1.]\n",
      " [14. 12.  1.]\n",
      " [17. 18.  1.]\n",
      " [ 8.  9.  1.]\n",
      " [15. 12.  1.]\n",
      " [12. 10.  1.]\n",
      " [ 9.  9.  1.]\n",
      " [14. 12.  1.]\n",
      " [13. 11.  1.]\n",
      " [13. 10.  1.]\n",
      " [15. 13.  1.]\n",
      " [13. 11.  1.]\n",
      " [ 8.  8.  1.]\n",
      " [ 9. 10.  1.]\n",
      " [11. 11.  1.]\n",
      " [11. 11.  1.]\n",
      " [13. 13.  1.]\n",
      " [11.  9.  1.]\n",
      " [11. 11.  1.]\n",
      " [12. 14.  1.]\n",
      " [16. 15.  1.]\n",
      " [ 9. 12.  1.]\n",
      " [14. 15.  1.]\n",
      " [11. 10.  1.]\n",
      " [10.  9.  1.]\n",
      " [14. 14.  1.]\n",
      " [ 9.  8.  1.]\n",
      " [12. 14.  1.]\n",
      " [ 7.  0.  1.]\n",
      " [ 8.  8.  1.]\n",
      " [10.  9.  1.]\n",
      " [16. 15.  1.]\n",
      " [14. 13.  1.]\n",
      " [ 7.  8.  1.]\n",
      " [16. 15.  1.]\n",
      " [ 9. 10.  1.]\n",
      " [11. 12.  1.]\n",
      " [10. 10.  1.]\n",
      " [16. 15.  1.]\n",
      " [ 9.  8.  1.]\n",
      " [11. 10.  1.]\n",
      " [13. 13.  1.]\n",
      " [16. 15.  1.]\n",
      " [10. 10.  1.]\n",
      " [13. 15.  1.]\n",
      " [11. 13.  1.]\n",
      " [ 8.  7.  1.]\n",
      " [13. 13.  1.]\n",
      " [ 8.  7.  1.]\n",
      " [ 8.  8.  1.]\n",
      " [13. 11.  1.]\n",
      " [10.  9.  1.]\n",
      " [12. 13.  1.]\n",
      " [12. 12.  1.]\n",
      " [10. 10.  1.]\n",
      " [18. 16.  1.]\n",
      " [13. 13.  1.]\n",
      " [13. 12.  1.]\n",
      " [11. 11.  1.]\n",
      " [16. 15.  1.]\n",
      " [12. 11.  1.]\n",
      " [10. 10.  1.]\n",
      " [13. 13.  1.]\n",
      " [ 7.  6.  1.]\n",
      " [11. 10.  1.]\n",
      " [14. 12.  1.]\n",
      " [ 7.  7.  1.]\n",
      " [14. 12.  1.]\n",
      " [13. 11.  1.]\n",
      " [ 6.  5.  1.]\n",
      " [19. 18.  1.]\n",
      " [ 8.  8.  1.]\n",
      " [15. 14.  1.]\n",
      " [ 8.  9.  1.]\n",
      " [15. 15.  1.]\n",
      " [10. 10.  1.]\n",
      " [15. 14.  1.]\n",
      " [ 7.  6.  1.]\n",
      " [11. 11.  1.]\n",
      " [ 6.  5.  1.]\n",
      " [ 6.  5.  1.]\n",
      " [10.  9.  1.]\n",
      " [ 6.  5.  1.]\n",
      " [ 7.  5.  1.]\n",
      " [ 7.  9.  1.]\n",
      " [ 6.  5.  1.]\n",
      " [ 9.  9.  1.]\n",
      " [14. 16.  1.]\n",
      " [10.  8.  1.]\n",
      " [11. 12.  1.]\n",
      " [ 8.  9.  1.]]\n"
     ]
    }
   ],
   "source": [
    "X_u0 = np.ones((n, 1))\n",
    "X_test_m = np.hstack((X_test_m, X_u0))\n",
    "print(X_test_m)"
   ]
  },
  {
   "cell_type": "code",
   "execution_count": null,
   "id": "9379c384",
   "metadata": {},
   "outputs": [],
   "source": [
    "  "
   ]
  },
  {
   "cell_type": "code",
   "execution_count": 306,
   "id": "e84a67ed",
   "metadata": {},
   "outputs": [
    {
     "name": "stdout",
     "output_type": "stream",
     "text": [
      "2.6051295674454784\n"
     ]
    }
   ],
   "source": [
    "from math import sqrt\n",
    "y_predicted_m = X_test_m.dot(theta_m)\n",
    "rms_m = (mean_squared_error(y_predicted_m, y_test_m))\n",
    "print(rms_m)\n"
   ]
  },
  {
   "cell_type": "code",
   "execution_count": 307,
   "id": "863c3e5a",
   "metadata": {},
   "outputs": [
    {
     "data": {
      "text/plain": [
       "0.679035301757763"
      ]
     },
     "execution_count": 307,
     "metadata": {},
     "output_type": "execute_result"
    }
   ],
   "source": [
    "from sklearn.metrics import r2_score   \n",
    "r2_score(y_test_m, y_predicted_m)"
   ]
  },
  {
   "cell_type": "code",
   "execution_count": 308,
   "id": "c164c9eb",
   "metadata": {},
   "outputs": [],
   "source": [
    "                                #multi - variate using all features"
   ]
  },
  {
   "cell_type": "code",
   "execution_count": 309,
   "id": "d34a5e42",
   "metadata": {},
   "outputs": [
    {
     "name": "stdout",
     "output_type": "stream",
     "text": [
      "(395, 17)\n",
      "(395,)\n"
     ]
    }
   ],
   "source": [
    "X_m_all = merged_df.drop(['G3'], axis=1)\n",
    "y_m_all = merged_df['G3']\n",
    "print(X_m_all.shape)\n",
    "print(y_m_all.shape)"
   ]
  },
  {
   "cell_type": "code",
   "execution_count": 310,
   "id": "6274bd78",
   "metadata": {},
   "outputs": [
    {
     "name": "stdout",
     "output_type": "stream",
     "text": [
      "(276, 17)\n",
      "(119, 17)\n",
      "(276,)\n",
      "(119,)\n"
     ]
    }
   ],
   "source": [
    "main_df = main_df.sample(frac=1)\n",
    "\n",
    "train_size = int(0.7 * len(main_df))\n",
    "X_m = X_m_all\n",
    "y_m = y_m_all\n",
    "X_train_m = X_m[:train_size]\n",
    "X_test_m = X_m[train_size:]\n",
    "\n",
    "y_train_m = y[:train_size]\n",
    "y_test_m = y[train_size:]\n",
    "\n",
    "\n",
    "\n",
    "m = X_train_m.shape[0]\n",
    "n = X_test_m.shape[0]\n",
    "X_u0 = np.ones((m, 1))\n",
    "X_u0[:5]\n",
    "# X_train_m = X_train_m.reshape((m, 1))\n",
    "# X_test_m = X_test_m.reshape((n, 1))\n",
    "print(X_train_m.shape)\n",
    "print(X_test_m.shape)\n",
    "print(y_train_m.shape)\n",
    "print(y_test_m.shape)"
   ]
  },
  {
   "cell_type": "code",
   "execution_count": 311,
   "id": "56eb2028",
   "metadata": {},
   "outputs": [
    {
     "name": "stdout",
     "output_type": "stream",
     "text": [
      "[[18.  4.  4. ...  1.  1.  1.]\n",
      " [17.  1.  1. ...  0.  1.  1.]\n",
      " [15.  1.  1. ...  1.  1.  1.]\n",
      " ...\n",
      " [17.  1.  2. ...  0.  1.  1.]\n",
      " [17.  2.  4. ...  1.  1.  1.]\n",
      " [17.  2.  2. ...  1.  1.  1.]]\n",
      "theta:  [1, 1, 1, 1, 1, 1, 1, 1, 1, 1, 1, 1, 1, 1, 1, 1, 1, 1]\n",
      "X:  (276, 18)\n"
     ]
    }
   ],
   "source": [
    "X_0 = np.ones((m, 1))\n",
    "X_train_m = np.hstack((X_train_m, X_0))\n",
    "print(X_train_m)\n",
    "              \n",
    "theta_m = [1] * X_train_m.shape[1]\n",
    "print(\"theta: \", theta_m)\n",
    "print(\"X: \", X_train_m.shape)"
   ]
  },
  {
   "cell_type": "code",
   "execution_count": 312,
   "id": "cd27eee4",
   "metadata": {},
   "outputs": [
    {
     "name": "stdout",
     "output_type": "stream",
     "text": [
      "(276,)\n",
      "[ 6  6 10 15 10 15 11  6 19 15  9 12 14 11 16 14 14 10  5 10 15 15 16 12\n",
      "  8  8 11 15 11 11 12 17 16 12 15  6 18 15 11 13 11 12 18 11  9  6 11 20\n",
      " 14  7 13 13 10 11 13 10 15 15  9 16 11 11  9  9 10 15 12  6  8 16 15 10\n",
      "  5 14 11 10 10 11 10  5 12 11  6 15 10  8  6 14 10  7  8 18  6 10 14 10\n",
      " 15 10 14  8  5 17 14  6 18 11  8 18 13 16 19 10 13 19  9 16 14 13  8 13\n",
      " 15 15 13 13  8 12 11  9  0 18  0  0 12 11  0  0  0  0 12 15  0  9 11 13\n",
      "  0 11  0 11  0 10  0 14 10  0 12  8 13 10 15 12  0  7  0 10  7 12 10 16\n",
      "  0 14  0 16 10  0  9  9 11  6  9 11  8 12 17  8 12 11 11 15  9 10 13  9\n",
      "  8 10 14 15 16 10 18 10 16 10 10  6 11  9  7 13 10  7  8 13 14  8 10 15\n",
      "  4  8  8 10  6  0 17 13 14  7 15 12  9 12 14 11  9 13  6 10 13 12 11  0\n",
      " 12 12  0 12  0 18 13  8  5 15  8 10  8  8 12  8 13 11 14  0 18  8 12  9\n",
      "  0 17 10 11 10  0  9 14 11 14 10 12]\n"
     ]
    }
   ],
   "source": [
    "print(y_train_m.shape)\n",
    "print(y_train_m.values)"
   ]
  },
  {
   "cell_type": "code",
   "execution_count": 313,
   "id": "d55c42ba",
   "metadata": {},
   "outputs": [
    {
     "name": "stdout",
     "output_type": "stream",
     "text": [
      "The cost for given values of theta_0 and theta_1 = 64.78985507246377\n"
     ]
    }
   ],
   "source": [
    "theta_m = np.zeros(X_train_m.shape[1])\n",
    "cost = mse(X_train_m, y_train_m, theta_m)\n",
    "print('The cost for given values of theta_0 and theta_1 =', cost)"
   ]
  },
  {
   "cell_type": "code",
   "execution_count": 314,
   "id": "d72b6e13",
   "metadata": {},
   "outputs": [
    {
     "name": "stdout",
     "output_type": "stream",
     "text": [
      "Final value of theta =\n",
      "[-0.07219471  0.0315178   0.00663942 -0.02124085 -0.07292197 -0.00973789\n",
      " -0.05716296 -0.02642668  0.02974563  0.36368238  0.73883516  0.\n",
      "  0.01001089  0.00963925  0.0009193  -0.00394751  0.01525121 -0.00126523]\n",
      "cost_history = [58.10756851569349, 52.181026216359314, 46.92454746986712, 42.26216648924663, 38.12653087060541, 34.45792495711508, 31.20340393979154, 28.31602613907299, 25.754172334872923, 23.480942275034575, 21.463619611240627, 19.67319750366638, 18.083958015393574, 16.673099197581983, 15.420404457936927, 14.307949418141462, 13.319842009531262, 12.441992038262855, 11.661906878548635, 10.968510331403262, 10.351982022257966, 9.803615008623837, 9.315689533040468, 8.881361090661597, 8.494561188398986, 8.149909356580396, 7.842635137244608, 7.56850891786312, 7.323780607541522, 7.105125266473559, 6.9095949002468044, 6.734575719992424, 6.577750248629215, 6.43706372372289, 6.310694309784908, 6.197026688074005, 6.094628640939017, 6.002230291164294, 5.918705695277572, 5.8430565239142345, 5.7743975925950455, 5.711944033106547, 5.654999919462839, 5.602948183519709, 5.555241674012717, 5.511395229370994, 5.470978649358938, 5.433610463631376, 5.398952406843374, 5.3667045202014645, 5.336600808426591, 5.308405389152947, 5.281909078927431, 5.256926366305382, 5.233292728151329, 5.210862250230186, 5.18950551758664, 5.169107744122587, 5.1495671142509485, 5.13079331257941, 5.1127062203041795, 5.095234759411182, 5.078315867925493, 5.0618935913499525, 5.045918277118809, 5.030345860385947, 5.015137230791671, 5.000257671026247, 4.985676359049482, 4.971365926748673, 4.957302068635631, 4.943463194909081, 4.9298301238520645, 4.916385809104302, 4.9031150978552605, 4.890004516451933, 4.877042080312945, 4.864217125392997, 4.851520158754177, 4.838942726077702, 4.826477294195331, 4.814117146937422, 4.801856292787773, 4.789689383006518, 4.77761163903419, 4.765618788124607, 4.75370700627358, 4.741872867616232, 4.73011329955948, 4.7184255429994275, 4.70680711704714, 4.695255787751617, 4.683769540366784, 4.672346554760671, 4.660985183610501, 4.649683933067863, 4.638441445613911, 4.627256484856236, 4.61612792204738, 4.605054724129692, 4.594035943133555, 4.5830707067755165, 4.5721582101203175, 4.561297708186164, 4.55048850938637, 4.539729969712493, 4.529021487574978, 4.518362499226709, 4.507752474703438, 4.497190914222492, 4.486677344987813, 4.476211318355258, 4.4657924073173785, 4.455420204271418, 4.445094319038467, 4.434814377105304, 4.424580018063691, 4.414390894224755, 4.404246669388618, 4.394147017751694, 4.384091622936052, 4.374080177127031, 4.364112380306841, 4.354187939573295, 4.344306568534024, 4.334467986767624, 4.324671919344198, 4.314918096398532, 4.305206252749985, 4.295536127563774, 4.285907464049045, 4.276320009189478, 4.266773513502843, 4.257267730826177, 4.247802418123728, 4.2383773353150875, 4.228992245121224, 4.219646912926417, 4.21034110665432, 4.201074596656516, 4.191847155612215, 4.182658558437797, 4.17350858220516, 4.164397006067808, 4.155323611193879, 4.14628818070533, 4.137290499622552, 4.128330354813868, 4.11940753494933, 4.110521830458374, 4.101673033490892, 4.092860937881323, 4.0840853391154885, 4.0753460342998284, 4.066642822132789, 4.057975502878145, 4.049343878340016, 4.040747751839448, 4.03218692819234, 4.023661213688621, 4.015170416072496, 4.006714344523718, 3.998292809639722, 3.9899056234185575, 3.981552599242552, 3.9732335518626103, 3.9649482973831027, 3.956696653247293, 3.9484784382232276, 3.9402934723900755, 3.932141577124876, 3.924022575089619, 3.9159362902186885, 3.9078825477065946, 3.899861173995992, 3.891871996765959, 3.8839148449205063, 3.8759895485773233, 3.868095939056719, 3.8602338488707626, 3.852403111712609, 3.844603562445978, 3.83683503709481, 3.8290973728330737, 3.8213904079747016, 3.8137139819636783, 3.8060679353642533, 3.7984521098512722, 3.790866348200638, 3.7833104942798808, 3.7757843930388337, 3.7682878905004302, 3.7608208337515827, 3.7533830709341833, 3.745974451236186, 3.73859482488279, 3.7312440431277154, 3.723921958244563, 3.716628423518271, 3.7093632932366525, 3.702126422682011, 3.6949176681228533, 3.6877368868056664, 3.6805839369467908, 3.673458677724355, 3.6663609692703054, 3.6592906726624936, 3.6522476499168497, 3.645231763979633, 3.638242878719739, 3.631280858921096, 3.6243455702751173, 3.617436879373241, 3.6105546536995186, 3.603698761623286, 3.596869072391896, 3.5900654561235212, 3.583287783800023, 3.576535927259873, 3.5698097591911617, 3.5631091531246497, 3.5564339834268943, 3.5497841252934377, 3.543159454742048, 3.536559848606033, 3.5299851845276082, 3.523435340951327, 3.5169101971175634, 3.5104096330560672, 3.5039335295795664, 3.4974817682774226, 3.4910542315093696, 3.484650802399268, 3.4782713648289545, 3.471915803432122, 3.4655840035882624, 3.4592758514166713, 3.452991233770487, 3.446730038230805, 3.4404921531008332, 3.4342774674000967, 3.428085870858705, 3.4219172539116642, 3.415771507693234, 3.4096485240313523, 3.403548195442091, 3.397470415124173, 3.3914150769535327, 3.385382075477927, 3.3793713059115977, 3.373382664129977, 3.3674160466644354, 3.3614713506970895, 3.355548474055642, 3.3496473152082844, 3.343767773258623, 3.337909747940673, 3.3320731396138745, 3.326257849258178, 3.320463778469145, 3.3146908294531214, 3.308938905022425, 3.303207908590608, 3.297497744167721, 3.2918083163556595, 3.2861395303435286, 3.280491291903049, 3.27486350738401, 3.2692560837097693, 3.2636689283727685, 3.25810194943012, 3.2525550554992075, 3.247028155753333, 3.241521159917415, 3.236033978263702, 3.230566521607539, 3.225118701303169, 3.2196904292395727, 3.214281617836334, 3.2088921800395567, 3.203522029317806, 3.198171079658099, 3.192839245561911, 3.1875264420412277, 3.1822325846146455, 3.1769575893034734, 3.171701372627903, 3.1664638516031878, 3.161244943735869, 3.156044567020031, 3.1508626399335875, 3.1456990814346018, 3.140553810957641, 3.1354267484101577, 3.130317814168909, 3.125226929076399, 3.1201540144373627, 3.1150989920152714, 3.1100617840288702, 3.1050423131487523, 3.100040502493953, 3.095056275628585, 3.090089556558488, 3.0851402697279213, 3.0802083400162847, 3.0752936927348493, 3.0703962536235423, 3.0655159488477435, 3.0606527049951135, 3.055806449072447, 3.050977108502563, 3.0461646111212084, 3.0413688851739966, 3.0365898593133718, 3.031827462595598, 3.0270816244777743, 3.0223522748148746, 3.0176393438568163, 3.012942762245554, 3.0082624610121913, 3.0035983715741272, 2.9989504257322204, 2.994318555667982, 2.9897026939407874, 2.985102773485118, 2.980518727607822, 2.975950489985399, 2.9713979946613143, 2.9668611760433303, 2.9623399689008516, 2.957834308362316, 2.9533441299125904, 2.9488693693903905, 2.944409962985723, 2.9399658472373607, 2.9355369590303244, 2.9311232355933905, 2.926724614496627, 2.9223410336489364, 2.9179724312956385, 2.913618746016059, 2.9092799167211356, 2.904955882651062, 2.900646583372938, 2.896351958778443, 2.8920719490815254, 2.887806494816119, 2.8835555368338825, 2.879319016301932, 2.875096874700629, 2.870889053821365, 2.8666954957643624, 2.862516142936506, 2.8583509380491923, 2.8541998241161823, 2.850062744451489, 2.8459396426672736, 2.8418304626717634, 2.837735148667182, 2.8336536451477037, 2.829585896897419, 2.825531848988325, 2.8214914467783165, 2.8174646359092206, 2.813451362304818, 2.8094515721688986, 2.8054652119833356, 2.801492228506162, 2.7975325687696726, 2.7935861800785453, 2.7896530100079615, 2.7857330064017676, 2.7818261173706196, 2.7779322912901834, 2.7740514767993063, 2.7701836227982346, 2.766328678446838, 2.762486593162844, 2.7586573166200914, 2.754840798746788, 2.7510369897238087, 2.747245839982977, 2.7434673002053733, 2.7397013213196653, 2.7359478545004414, 2.7322068511665636, 2.7284782629795195, 2.7247620418418212, 2.721058139895371, 2.7173665095198882, 2.7136871033313077, 2.710019874180222, 2.706364775150317, 2.702721759556832, 2.699090780945026, 2.695471793088653, 2.691864749988464, 2.688269605870708, 2.684686315185647, 2.681114832606086, 2.6775551130259188, 2.674007111558675, 2.670470783536092, 2.6669460845066824, 2.663432970234328, 2.6599313966968774, 2.6564413200847614, 2.652962696799605, 2.6494954834528692, 2.6460396368644936, 2.6425951140615416, 2.6391618722768837, 2.6357398689478586, 2.632329061714969, 2.6289294084205737, 2.6255408671075986, 2.6221633960182564, 2.6187969535927715, 2.6154414984681225, 2.6120969894767865, 2.608763385645501, 2.605440646194034, 2.602128730533961, 2.5988275982674485, 2.5955372091860593, 2.5922575232695575, 2.5889885006847217, 2.5857301017841725, 2.582482287105216, 2.579245017368674, 2.5760182534777507, 2.5728019565168863, 2.569596087750634, 2.5664006086225415, 2.563215480754034, 2.5600406659433217, 2.5568761261642963, 2.553721823565454, 2.550577720468819, 2.5474437793688685, 2.5443199629314828, 2.5412062339928885, 2.5381025555586145, 2.5350088908024637, 2.5319252030654793, 2.5288514558549315, 2.5257876128433, 2.522733637867279, 2.519689494926775, 2.5166551481839248, 2.5136305619621115, 2.5106157007449936, 2.50761052917554, 2.504615012055074, 2.5016291143423213, 2.498652801152467, 2.4956860377562244, 2.4927287895789, 2.489781022199477, 2.4868427013497003, 2.4839137929131696, 2.480994262924435, 2.4780840775681114, 2.475183203177985, 2.4722916062361358, 2.469409253372069, 2.4665361113618394, 2.463672147127198, 2.460817327734739, 2.457971620395048, 2.4551349924618657, 2.452307411431251, 2.449488844940759, 2.446679260768608, 2.4438786268328783, 2.4410869111906868, 2.438304082037399, 2.435530107705822, 2.4327649566654177, 2.4300085975215144, 2.42726099901453, 2.4245221300191973, 2.4217919595437953, 2.419070456729385, 2.4163575908490618, 2.4136533313071915, 2.410957647638678, 2.40827050950821, 2.405591886709541, 2.402921749164749, 2.4002600669235163, 2.397606810162414, 2.3949619491841894, 2.3923254544170494, 2.389697296413973, 2.387077445851997, 2.38446587353154, 2.381862550375702, 2.37926744742959, 2.3766805358596392, 2.374101786952939, 2.371531172116568, 2.3689686628769286, 2.3664142308790908, 2.363867847886143, 2.361329485778535, 2.358799116553444, 2.3562767123241306, 2.3537622453193014, 2.35125568788249, 2.348757012471419, 2.346266191657389, 2.343783198124657, 2.341308004669828, 2.3388405842012423, 2.3363809097383816, 2.3339289544112596, 2.331484691459835, 2.329048094233417, 2.326619136190083, 2.324197790896092, 2.3217840320253105, 2.3193778333586383, 2.316979168783436, 2.314588012292963, 2.3122043379858117, 2.3098281200653563, 2.307459332839191, 2.3050979507185865, 2.3027439482179375, 2.3003972999542306, 2.298057980646491, 2.295725965115268, 2.29340122828208, 2.2910837451689057, 2.288773490897655, 2.2864704406896457, 2.284174569865092, 2.2818858538425872, 2.279604268138598, 2.2773297883669557, 2.275062390238358, 2.272802049559866, 2.27054874223441, 2.2683024442602986, 2.266063131730731, 2.263830780833307, 2.2616053678495507, 2.2593868691544268, 2.2571752612158718, 2.2549705205943122, 2.2527726239422043, 2.2505815480035642, 2.248397269613506, 2.2462197656977803, 2.2440490132723214, 2.241884989442793, 2.2397276714041343, 2.237577036440116, 2.2354330619228953, 2.233295725312579, 2.2311650041567725, 2.2290408760901594, 2.2269233188340576, 2.224812310195997, 2.2227078280692885, 2.2206098504326017, 2.2185183553495427, 2.2164333209682385, 2.214354725520916, 2.2122825473234933, 2.21021676477517, 2.208157356358016, 2.206104300636572, 2.2040575762574415, 2.2020171619488944, 2.1999830365204724, 2.1979551788625873, 2.195933567946137, 2.193918182822116, 2.1919090026212196, 2.189906006553471, 2.1879091739078307, 2.1859184840518275, 2.183933916431167, 2.181955450569375, 2.179983066067408, 2.1780167426032992, 2.1760564599317758, 2.17410219788391, 2.172153936366746, 2.1702116553629414, 2.168275334930412, 2.166344955201974, 2.164420496384993, 2.1625019387610283, 2.1605892626854897, 2.158682448587285, 2.156781476968482, 2.1548863284039603, 2.1529969835410743, 2.1511134230993134, 2.149235627869967, 2.147363578715791, 2.1454972565706747, 2.1436366424393136, 2.1417817173968783, 2.1399324625886913, 2.138088859229901, 2.1362508886051654, 2.134418532068328, 2.1325917710420983, 2.1307705870177402, 2.1289549615547587, 2.127144876280587, 2.1253403128902706, 2.123541253146172, 2.121747678877651, 2.1199595719807705, 2.118176914417989, 2.116399688217861, 2.114627875474739, 2.1128614583484775, 2.1111004190641345, 2.1093447399116805, 2.1075944032457077, 2.1058493914851386, 2.1041096871129383, 2.102375272675828, 2.1006461307840008, 2.098922244110838, 2.097203595392631, 2.095490167428295, 2.0937819430790983, 2.0920789052683797, 2.090381036981282, 2.08868832126447, 2.087000741225865, 2.0853182800343713, 2.0836409209196125, 2.081968647171661, 2.0803014421407733, 2.0786392892371284, 2.0769821719305646, 2.0753300737503193, 2.07368297828477, 2.072040869181175, 2.070403730145423, 2.0687715449417734, 2.0671442973926024, 2.065521971378158, 2.063904550836303, 2.0622920197622707, 2.060684362208415, 2.0590815622839687, 2.0574836041547924, 2.0558904720431386, 2.0543021502274064, 2.0527186230419012, 2.0511398748765957, 2.049565890176894, 2.0479966534433944, 2.046432149231659, 2.0448723621519687, 2.0433172768691015, 2.0417668781021017, 2.0402211506240424, 2.0386800792618054, 2.0371436488958476, 2.0356118444599813, 2.0340846509411445, 2.032562053379183, 2.031044036866623, 2.0295305865484514, 2.0280216876219015, 2.026517325336229, 2.025017484992496, 2.023522151943356, 2.0220313115928406, 2.020544949396141, 2.0190630508594016, 2.0175856015395057, 2.0161125870438656, 2.0146439930302127, 2.0131798052063927, 2.011720009330156, 2.010264591208954, 2.0088135366997335, 2.0073668317087345, 2.0059244621912855, 2.004486414151607, 2.003052673642608, 2.001623226765684, 2.000198059670529, 1.9987771585549252, 1.9973605096645632, 1.9959480992928296, 1.9945399137806292, 1.9931359395161792, 1.9917361629348294, 1.9903405705188606, 1.9889491487973046, 1.9875618843457468, 1.986178763786145, 1.9847997737866416, 1.9834249010613743, 1.9820541323702956, 1.9806874545189863, 1.9793248543584736, 1.9779663187850518, 1.976611834740095, 1.9752613892098838, 1.9739149692254248, 1.9725725618622674, 1.9712341542403335, 1.969899733523738, 1.9685692869206124, 1.9672428016829342, 1.9659202651063465, 1.9646016645299946, 1.963286987336345, 1.9619762209510219, 1.9606693528426327, 1.9593663705225985, 1.9580672615449906, 1.956772013506357, 1.9554806140455618, 1.9541930508436116, 1.9529093116234995, 1.9516293841500345, 1.9503532562296797, 1.9490809157103939, 1.9478123504814633, 1.9465475484733454, 1.9452864976575064, 1.944029186046264, 1.9427756016926276, 1.9415257326901416, 1.9402795671727282, 1.939037093314529, 1.9377982993297524, 1.936563173472522, 1.9353317040367126, 1.93410387935581, 1.9328796878027477, 1.931659117789762, 1.9304421577682398, 1.929228796228567, 1.9280190216999797, 1.9268128227504167, 1.9256101879863707, 1.9244111060527413, 1.9232155656326877, 1.9220235554474854, 1.9208350642563776, 1.9196500808564343, 1.918468594082407, 1.9172905928065835, 1.9161160659386502, 1.914945002425548, 1.913777391251331, 1.9126132214370268, 1.9114524820404972, 1.9102951621562994, 1.9091412509155459, 1.907990737485769, 1.9068436110707843, 1.9056998609105515, 1.904559476281042, 1.9034224464941012, 1.9022887608973147, 1.9011584088738769, 1.9000313798424555, 1.8989076632570576, 1.8977872486069023, 1.8966701254162852, 1.8955562832444515, 1.894445711685459, 1.8933384003680591, 1.8922343389555594, 1.8911335171456982, 1.8900359246705178, 1.8889415512962346, 1.8878503868231187, 1.8867624210853595, 1.885677643950947, 1.884596045321543, 1.8835176151323605, 1.8824423433520385, 1.881370219982515, 1.8803012350589134, 1.879235378649411, 1.878172640855124, 1.8771130118099835, 1.8760564816806171, 1.8750030406662275, 1.8739526789984755, 1.8729053869413588, 1.8718611547910933, 1.8708199728760024, 1.8697818315563877, 1.8687467212244253, 1.8677146323040401, 1.866685555250796, 1.8656594805517797, 1.8646363987254815, 1.8636163003216906, 1.8625991759213716, 1.86158501613656, 1.8605738116102426, 1.859565553016251, 1.8585602310591476, 1.8575578364741143, 1.8565583600268445, 1.8555617925134282, 1.854568124760247, 1.8535773476238642, 1.8525894519909152, 1.8516044287779994, 1.8506222689315732, 1.8496429634278413, 1.848666503272654, 1.847692879501395, 1.8467220831788798, 1.845754105399251, 1.8447889372858701, 1.8438265699912155, 1.8428669946967764, 1.8419102026129537, 1.84095618497895, 1.8400049330626733, 1.8390564381606336, 1.8381106915978365, 1.8371676847276877, 1.8362274089318897, 1.835289855620339, 1.8343550162310316, 1.8334228822299583, 1.8324934451110084, 1.8315666963958694, 1.8306426276339276, 1.8297212304021753, 1.828802496305107, 1.8278864169746254, 1.8269729840699453, 1.8260621892774966, 1.8251540243108255, 1.8242484809105055, 1.8233455508440353, 1.8224452259057489, 1.8215474979167188, 1.8206523587246646, 1.8197598002038553, 1.818869814255021, 1.817982392805256, 1.8170975278079307, 1.8162152112425956, 1.815335435114891, 1.8144581914564577, 1.8135834723248434, 1.8127112698034136, 1.8118415760012614, 1.8109743830531182, 1.8101096831192642, 1.809247468385438, 1.808387731062751, 1.8075304633875935, 1.8066756576215535, 1.805823306051327, 1.8049734009886267, 1.8041259347701013, 1.8032808997572447, 1.8024382883363121, 1.8015980929182334, 1.8007603059385258, 1.7999249198572147, 1.7990919271587409, 1.7982613203518834, 1.7974330919696702, 1.7966072345692987, 1.7957837407320467, 1.7949626030631967, 1.794143814191947, 1.793327366771332, 1.7925132534781414, 1.7917014670128322, 1.7908920000994593, 1.7900848454855798, 1.7892799959421846, 1.7884774442636087, 1.7876771832674587, 1.7868792057945284, 1.7860835047087187, 1.7852900728969632, 1.784498903269143, 1.7837099887580146, 1.7829233223191256, 1.782138896930741, 1.7813567055937642, 1.7805767413316607, 1.7797989971903772, 1.7790234662382705, 1.7782501415660283, 1.7774790162865899, 1.7767100835350773, 1.775943336468714, 1.775178768266752, 1.7744163721303978, 1.7736561412827345, 1.7728980689686507, 1.772142148454765, 1.7713883730293518, 1.77063673600227, 1.7698872307048858, 1.7691398504900053, 1.768394588731795, 1.7676514388257176, 1.7669103941884505, 1.7661714482578228, 1.765434594492737, 1.7646998263731049, 1.7639671373997663, 1.7632365210944305, 1.7625079709995948, 1.7617814806784817, 1.7610570437149664, 1.7603346537135058, 1.759614304299073, 1.7588959891170834, 1.7581797018333278, 1.7574654361339077, 1.75675318572516, 1.7560429443335936, 1.7553347057058204, 1.7546284636084881, 1.7539242118282128, 1.7532219441715085, 1.7525216544647273, 1.7518233365539886, 1.7511269843051112, 1.75043259160355, 1.7497401523543303, 1.7490496604819807, 1.7483611099304694, 1.747674494663137, 1.7469898086626336, 1.746307045930854, 1.745626200488872, 1.744947266376878, 1.7442702376541135, 1.7435951083988106, 1.7429218727081226, 1.7422505246980686, 1.7415810585034643, 1.740913468277862, 1.7402477481934888, 1.7395838924411824, 1.7389218952303303, 1.738261750788808, 1.7376034533629172, 1.7369469972173255, 1.7362923766350042, 1.7356395859171658, 1.7349886193832087, 1.7343394713706497, 1.7336921362350706, 1.733046608350054, 1.732402882107125, 1.7317609519156907, 1.7311208122029826, 1.7304824574139952, 1.7298458820114306, 1.7292110804756353, 1.728578047304547, 1.7279467770136305, 1.7273172641358248, 1.7266895032214826, 1.7260634888383135, 1.725439215571326, 1.724816678022772, 1.7241958708120875, 1.723576788575837, 1.7229594259676577, 1.722343777658202, 1.7217298383350819, 1.7211176027028123, 1.7205070654827563, 1.719898221413069, 1.7192910652486435, 1.7186855917610522, 1.7180817957384968, 1.71747967198575, 1.716879215324102, 1.7162804205913056, 1.715683282641524, 1.7150877963452746, 1.7144939565893758, 1.7139017582768945, 1.7133111963270908, 1.7127222656753665, 1.7121349612732129, 1.7115492780881536, 1.7109652111036986, 1.710382755319284, 1.7098019057502278, 1.7092226574276705, 1.7086450053985303, 1.7080689447254442, 1.707494470486722, 1.7069215777762934, 1.706350261703655, 1.7057805173938216, 1.705212339987275, 1.704645724639912, 1.7040806665229968, 1.7035171608231066, 1.702955202742085, 1.702394787496992, 1.7018359103200513, 1.7012785664586048, 1.7007227511750584, 1.7001684597468394, 1.6996156874663397, 1.6990644296408735, 1.698514681592626, 1.6979664386586026, 1.6974196961905854, 1.6968744495550818, 1.6963306941332763, 1.6957884253209843, 1.6952476385286046, 1.6947083291810703, 1.6941704927178003, 1.693634124592658, 1.6930992202738973, 1.6925657752441192, 1.6920337850002258, 1.6915032450533727, 1.6909741509289216, 1.6904464981663962, 1.6899202823194348, 1.6893954989557438, 1.6888721436570564, 1.6883502120190794, 1.6878296996514541, 1.6873106021777098, 1.6867929152352175, 1.6862766344751439, 1.68576175556241, 1.6852482741756445, 1.6847361860071388, 1.6842254867628035, 1.6837161721621243, 1.6832082379381201, 1.682701679837293, 1.6821964936195908, 1.6816926750583616, 1.6811902199403093, 1.680689124065451, 1.6801893832470731, 1.6796909933116932, 1.6791939500990083, 1.67869824946186, 1.678203887266189, 1.6777108593909917, 1.677219161728282, 1.6767287901830428, 1.676239740673191, 1.6757520091295302, 1.6752655914957129, 1.6747804837281963, 1.674296681796203, 1.6738141816816792, 1.6733329793792504, 1.672853070896188, 1.67237445225236, 1.6718971194801966, 1.6714210686246458, 1.6709462957431354, 1.6704727969055317, 1.6700005681941006, 1.6695296057034648, 1.669059905540567, 1.6685914638246293, 1.6681242766871116, 1.667658340271677, 1.6671936507341472, 1.666730204242465, 1.6662679969766585, 1.6658070251287975, 1.6653472849029576, 1.6648887725151813, 1.6644314841934378, 1.6639754161775862, 1.6635205647193383, 1.6630669260822166, 1.6626144965415222, 1.6621632723842896, 1.6617132499092564, 1.6612644254268203, 1.660816795259004, 1.6603703557394185, 1.6599251032132227, 1.6594810340370902, 1.6590381445791709, 1.6585964312190513, 1.6581558903477227, 1.6577165183675429, 1.6572783116921956, 1.6568412667466603, 1.6564053799671734, 1.6559706478011902, 1.6555370667073515, 1.655104633155448, 1.654673343626381, 1.6542431946121314, 1.6538141826157222, 1.6533863041511807, 1.6529595557435073, 1.6525339339286387, 1.6521094352534127, 1.6516860562755316, 1.6512637935635304, 1.6508426436967416, 1.6504226032652585, 1.650003668869902, 1.6495858371221874, 1.6491691046442887, 1.6487534680690046, 1.6483389240397261, 1.6479254692103995, 1.6475131002454966, 1.647101813819976, 1.6466916066192556, 1.6462824753391743, 1.6458744166859614, 1.645467427376201, 1.6450615041368026, 1.6446566437049635, 1.6442528428281402, 1.6438500982640116, 1.6434484067804511, 1.6430477651554893, 1.642648170177285, 1.6422496186440902, 1.64185210736422, 1.6414556331560197, 1.6410601928478326, 1.640665783277968, 1.64027240129467, 1.6398800437560854, 1.639488707530232, 1.6390983894949662, 1.638709086537955, 1.6383207955566408, 1.6379335134582123, 1.6375472371595714, 1.637161963587307, 1.6367776896776565, 1.6363944123764838, 1.6360121286392417, 1.6356308354309441, 1.6352505297261364, 1.6348712085088621, 1.6344928687726363, 1.6341155075204121, 1.6337391217645545, 1.633363708526806, 1.6329892648382587, 1.6326157877393266, 1.6322432742797113, 1.6318717215183776, 1.6315011265235195, 1.6311314863725346, 1.6307627981519917, 1.6303950589576022, 1.630028265894195, 1.62966241607568, 1.6292975066250277, 1.6289335346742317, 1.6285704973642885, 1.6282083918451629, 1.6278472152757604, 1.6274869648239016, 1.627127637666292, 1.6267692309884914, 1.6264117419848911, 1.6260551678586812, 1.6256995058218235, 1.6253447530950276, 1.624990906907716, 1.6246379644980027, 1.624285923112662, 1.6239347800071038, 1.6235845324453433, 1.6232351776999738, 1.6228867130521438, 1.6225391357915244, 1.6221924432162842, 1.6218466326330636, 1.6215017013569468, 1.6211576467114344, 1.620814466028417, 1.6204721566481508, 1.6201307159192277, 1.6197901411985507, 1.6194504298513064, 1.6191115792509412, 1.618773586779132, 1.6184364498257617, 1.6181001657888932, 1.6177647320747428, 1.6174301460976541, 1.617096405280076, 1.6167635070525288, 1.6164314488535882, 1.6161002281298524, 1.6157698423359204, 1.6154402889343662, 1.6151115653957115, 1.6147836691984045, 1.6144565978287904, 1.6141303487810883, 1.6138049195573672, 1.6134803076675197, 1.6131565106292363, 1.6128335259679853, 1.6125113512169815, 1.6121899839171683, 1.6118694216171858, 1.6115496618733551, 1.6112307022496477, 1.6109125403176618, 1.610595173656601, 1.6102785998532476, 1.609962816501941, 1.6096478212045513, 1.6093336115704568, 1.609020185216521, 1.608707539767065, 1.6083956728538504, 1.6080845821160508, 1.607774265200229, 1.6074647197603151, 1.607155943457581, 1.6068479339606216, 1.606540688945326, 1.6062342060948571, 1.60592848309963, 1.6056235176572866, 1.605319307472674, 1.6050158502578213, 1.6047131437319175, 1.604411185621288, 1.604109973659372, 1.6038095055867005, 1.6035097791508752, 1.603210792106543, 1.6029125422153772, 1.6026150272460506, 1.6023182449742204, 1.602022193182498, 1.601726869660435, 1.6014322722044936, 1.6011383986180316, 1.600845246711275, 1.6005528143013015, 1.6002610992120136, 1.5999700992741201, 1.5996798123251161, 1.5993902362092574, 1.599101368777542, 1.5988132078876884, 1.5985257514041133, 1.5982389971979118, 1.5979529431468362, 1.597667587135273, 1.597382927054225, 1.5970989608012884, 1.5968156862806315, 1.5965331014029764, 1.5962512040855756, 1.5959699922521935, 1.595689463833084, 1.5954096167649712, 1.595130448991029, 1.5948519584608607, 1.5945741431304774, 1.5942970009622806, 1.5940205299250378, 1.593744727993867, 1.5934695931502139, 1.5931951233818318, 1.5929213166827634, 1.5926481710533205, 1.5923756845000614, 1.592103855035776, 1.5918326806794627, 1.5915621594563096, 1.5912922893976755, 1.5910230685410698, 1.5907544949301342, 1.590486566614621, 1.5902192816503768, 1.5899526380993214, 1.5896866340294291, 1.5894212675147095, 1.589156536635189, 1.588892439476891, 1.5886289741318167, 1.588366138697929, 1.5881039312791292, 1.5878423499852432, 1.5875813929319977, 1.5873210582410073, 1.58706134403975, 1.586802248461554, 1.5865437696455749, 1.5862859057367806, 1.586028654885932, 1.5857720152495618, 1.5855159849899632, 1.5852605622751632, 1.5850057452789128, 1.584751532180662, 1.5844979211655452, 1.5842449104243648, 1.5839924981535698, 1.58374068255524, 1.583489461837068, 1.583238834212342, 1.5829887978999275, 1.5827393511242482, 1.5824904921152732, 1.5822422191084933, 1.5819945303449094, 1.5817474240710108, 1.5815008985387604, 1.581254952005576, 1.5810095827343165, 1.5807647889932583, 1.5805205690560844, 1.5802769212018648, 1.5800338437150385, 1.5797913348853996, 1.579549393008077, 1.5793080163835218, 1.5790672033174846, 1.5788269521210057, 1.5785872611103917, 1.5783481286072056, 1.578109552938245, 1.5778715324355264, 1.577634065436273, 1.5773971502828923, 1.5771607853229643, 1.5769249689092237, 1.5766896993995416, 1.5764549751569135, 1.5762207945494404, 1.5759871559503131, 1.575754057737796, 1.5755214982952128, 1.5752894760109277, 1.5750579892783332, 1.5748270364958294, 1.5745966160668134, 1.5743667263996612, 1.574137365907711, 1.5739085330092493, 1.5736802261274943, 1.5734524436905812, 1.5732251841315468, 1.5729984458883128, 1.5727722274036717, 1.5725465271252712, 1.5723213435055978, 1.5720966750019632, 1.57187252007649, 1.5716488771960921, 1.5714257448324644, 1.571203121462066, 1.5709810055661042, 1.5707593956305221, 1.5705382901459806, 1.5703176876078453, 1.5700975865161726, 1.5698779853756928, 1.569658882695797, 1.5694402769905214, 1.5692221667785342, 1.569004550583119, 1.5687874269321618, 1.5685707943581364, 1.5683546513980886, 1.568138996593624, 1.5679238284908923, 1.5677091456405736, 1.5674949465978623, 1.5672812299224554, 1.5670679941785386, 1.5668552379347689, 1.5666429597642635, 1.5664311582445853, 1.5662198319577278, 1.5660089794901033, 1.5657985994325252, 1.5655886903801994, 1.565379250932705, 1.5651702796939855, 1.564961775272331, 1.5647537362803687, 1.5645461613350438, 1.5643390490576121, 1.5641323980736215, 1.5639262070129005, 1.563720474509547, 1.5635151992019092, 1.5633103797325776, 1.5631060147483706, 1.5629021029003178, 1.5626986428436511, 1.5624956332377893, 1.5622930727463251, 1.5620909600370128, 1.5618892937817546, 1.5616880726565865, 1.561487295341667, 1.5612869605212654, 1.5610870668837438, 1.5608876131215506, 1.560688597931203, 1.5604900200132756, 1.5602918780723891, 1.560094170817195, 1.5598968969603657, 1.5597000552185794, 1.5595036443125092, 1.5593076629668097, 1.5591121099101048, 1.5589169838749752, 1.5587222835979462, 1.5585280078194745, 1.5583341552839372, 1.5581407247396184, 1.5579477149386973, 1.5577551246372356, 1.5575629525951658, 1.5573711975762803, 1.5571798583482153, 1.5569889336824425, 1.5567984223542568, 1.5566083231427623, 1.556418634830862, 1.5562293562052445, 1.5560404860563737, 1.5558520231784756, 1.555663966369527, 1.555476314431245, 1.5552890661690724, 1.555102220392169, 1.5549157759133962, 1.5547297315493114, 1.55454408612015, 1.5543588384498168, 1.5541739873658758, 1.5539895316995358, 1.5538054702856414, 1.5536218019626595, 1.55343852557267, 1.5532556399613522, 1.553073143977976, 1.552891036475389, 1.5527093163100054, 1.5525279823417952, 1.552347033434273, 1.5521664684544878, 1.5519862862730083, 1.5518064857639167, 1.551627065804794, 1.5514480252767127, 1.551269363064221, 1.5510910780553357, 1.5509131691415305, 1.5507356352177237, 1.5505584751822694, 1.5503816879369456, 1.5502052723869426, 1.5500292274408554, 1.5498535520106687, 1.5496782450117497, 1.5495033053628373, 1.5493287319860278, 1.5491545238067703, 1.5489806797538497, 1.5488071987593826, 1.5486340797588016, 1.5484613216908485, 1.5482889234975614, 1.5481168841242656, 1.547945202519564, 1.5477738776353247, 1.5476029084266731, 1.5474322938519811, 1.547262032872854, 1.5470921244541251, 1.546922567563842, 1.5467533611732585, 1.5465845042568236, 1.546415995792172, 1.5462478347601123, 1.5460800201446203, 1.5459125509328273, 1.5457454261150088, 1.5455786446845772, 1.5454122056380704, 1.545246107975143, 1.5450803506985546, 1.5449149328141631, 1.5447498533309127, 1.5445851112608244, 1.544420705618986, 1.5442566354235465, 1.5440928996956993, 1.5439294974596784, 1.543766427742748, 1.5436036895751903, 1.5434412819902994, 1.5432792040243692, 1.5431174547166857, 1.5429560331095162, 1.5427949382481014, 1.5426341691806456, 1.5424737249583067, 1.5423136046351882, 1.542153807268328, 1.5419943319176919, 1.5418351776461618, 1.5416763435195282, 1.5415178286064806, 1.5413596319785987, 1.5412017527103423, 1.5410441898790441, 1.540886942564898, 1.5407300098509535, 1.540573390823105, 1.5404170845700806, 1.5402610901834382, 1.5401054067575524, 1.5399500333896077, 1.5397949691795891, 1.5396402132302733, 1.5394857646472206, 1.5393316225387643, 1.539177786016006, 1.5390242541928012, 1.5388710261857552, 1.538718101114214, 1.538565478100253, 1.5384131562686707, 1.53826113474698, 1.5381094126654, 1.5379579891568453, 1.5378068633569206, 1.53765603440391, 1.5375055014387686, 1.5373552636051169, 1.5372053200492286, 1.5370556699200255, 1.5369063123690674, 1.536757246550544, 1.5366084716212678, 1.5364599867406634, 1.536311791070763, 1.536163883776194, 1.5360162640241757, 1.5358689309845055, 1.535721883829557, 1.5355751217342661, 1.5354286438761267, 1.5352824494351824, 1.535136537594017, 1.534990907537746, 1.534845558454013, 1.5347004895329763, 1.5345556999673036, 1.5344111889521654, 1.5342669556852246, 1.5341229993666305, 1.5339793191990099, 1.53383591438746, 1.5336927841395394, 1.5335499276652644, 1.5334073441770952, 1.5332650328899322, 1.5331229930211083, 1.5329812237903813, 1.5328397244199232, 1.5326984941343167, 1.5325575321605454, 1.5324168377279865, 1.532276410068404, 1.532136248415941, 1.531996352007112, 1.5318567200807947, 1.5317173518782243, 1.5315782466429861, 1.5314394036210053, 1.5313008220605422, 1.5311625012121857, 1.5310244403288435, 1.5308866386657365, 1.5307490954803906, 1.5306118100326302, 1.5304747815845712, 1.5303380094006118, 1.530201492747429, 1.5300652308939684, 1.5299292231114374, 1.5297934686732992, 1.5296579668552668, 1.5295227169352916, 1.5293877181935631, 1.5292529699124942, 1.5291184713767205, 1.5289842218730898, 1.5288502206906567, 1.5287164671206759, 1.5285829604565935, 1.5284496999940425, 1.5283166850308343, 1.5281839148669518, 1.5280513888045444, 1.5279191061479194, 1.5277870662035349, 1.5276552682799962, 1.5275237116880445, 1.5273923957405544, 1.5272613197525244, 1.5271304830410712, 1.526999884925424, 1.5268695247269166, 1.5267394017689813, 1.526609515377141, 1.5264798648790068, 1.5263504496042644, 1.5262212688846761, 1.5260923220540672, 1.5259636084483241, 1.5258351274053843, 1.5257068782652325, 1.5255788603698937, 1.5254510730634272, 1.5253235156919174, 1.5251961876034714, 1.5250690881482112, 1.5249422166782658, 1.5248155725477672, 1.5246891551128419, 1.524562963731608, 1.524436997764164, 1.5243112565725894, 1.52418573952093, 1.5240604459751999, 1.523935375303371, 1.5238105268753657, 1.523685900063054, 1.5235614942402471, 1.5234373087826896, 1.5233133430680534, 1.5231895964759337, 1.5230660683878408, 1.522942758187195, 1.5228196652593216, 1.5226967889914436, 1.5225741287726757, 1.5224516839940194, 1.5223294540483563, 1.522207438330443, 1.5220856362369024, 1.5219640471662244, 1.5218426705187516, 1.5217215056966797, 1.5216005521040503, 1.521479809146743, 1.5213592762324715, 1.5212389527707786, 1.521118838173028, 1.5209989318524018, 1.5208792332238903, 1.5207597417042924, 1.5206404567122038, 1.520521377668016, 1.5204025039939075, 1.5202838351138406, 1.5201653704535536, 1.520047109440559, 1.5199290515041326, 1.5198111960753105, 1.5196935425868872, 1.5195760904734033, 1.5194588391711454, 1.5193417881181386, 1.5192249367541397, 1.5191082845206347, 1.5189918308608326, 1.5188755752196565, 1.518759517043745, 1.518643655781439, 1.5185279908827831, 1.5184125217995168, 1.5182972479850683, 1.518182168894554, 1.5180672839847666, 1.517952592714175, 1.5178380945429177, 1.5177237889327968, 1.5176096753472714, 1.5174957532514566, 1.5173820221121157, 1.5172684813976545, 1.5171551305781161, 1.5170419691251784, 1.5169289965121464, 1.516816212213947, 1.5167036157071272, 1.516591206469844, 1.5164789839818626, 1.516366947724553, 1.5162550971808804, 1.5161434318354035, 1.5160319511742673, 1.5159206546852015, 1.5158095418575126, 1.5156986121820797, 1.5155878651513497, 1.515477300259332, 1.5153669170015955, 1.5152567148752598, 1.5151466933789957, 1.515036852013015, 1.51492719027907, 1.5148177076804457, 1.5147084037219563, 1.5145992779099409, 1.514490329752256, 1.5143815587582754, 1.5142729644388813, 1.5141645463064624, 1.5140563038749064, 1.5139482366595982, 1.5138403441774124, 1.5137326259467119, 1.5136250814873404, 1.5135177103206188, 1.5134105119693406, 1.5133034859577679, 1.5131966318116254, 1.5130899490580976, 1.512983437225822, 1.5128770958448874, 1.5127709244468257, 1.5126649225646118, 1.5125590897326548, 1.5124534254867976, 1.512347929364308, 1.5122426009038772, 1.5121374396456153, 1.512032445131047, 1.5119276169031044, 1.5118229545061252, 1.5117184574858489, 1.5116141253894106, 1.511509957765337, 1.5114059541635425, 1.511302114135324, 1.5111984372333584, 1.5110949230116972, 1.5109915710257606, 1.510888380832337, 1.5107853519895742, 1.5106824840569792, 1.5105797765954112, 1.5104772291670787, 1.5103748413355358, 1.5102726126656751, 1.510170542723728, 1.510068631077255, 1.509966877295148, 1.509865280947621, 1.509763841606207, 1.5096625588437558, 1.509561432234429, 1.5094604613536942, 1.5093596457783232, 1.5092589850863873, 1.5091584788572523, 1.5090581266715748, 1.5089579281112988, 1.5088578827596524, 1.5087579902011414, 1.508658250021547, 1.5085586618079216, 1.5084592251485844, 1.5083599396331187, 1.5082608048523651, 1.5081618203984213, 1.5080629858646344, 1.5079643008456012, 1.5078657649371603, 1.5077673777363905, 1.5076691388416066, 1.5075710478523539, 1.5074731043694076, 1.5073753079947656, 1.5072776583316474, 1.5071801549844874, 1.5070827975589354, 1.5069855856618468, 1.5068885189012848, 1.5067915968865124, 1.506694819227992, 1.5065981855373773, 1.5065016954275154, 1.5064053485124371, 1.5063091444073564, 1.5062130827286675, 1.50611716309394, 1.5060213851219135, 1.5059257484324973, 1.5058302526467646, 1.505734897386949, 1.505639682276442, 1.5055446069397866, 1.5054496710026786, 1.505354874091957, 1.5052602158356063, 1.5051656958627495, 1.5050713138036431, 1.5049770692896784, 1.5048829619533726, 1.5047889914283712, 1.5046951573494376, 1.5046014593524546, 1.5045078970744215, 1.5044144701534443, 1.5043211782287402, 1.504228020940629, 1.5041349979305312, 1.5040421088409641, 1.5039493533155395, 1.5038567309989588, 1.5037642415370112, 1.503671884576568, 1.5035796597655813, 1.503487566753081, 1.5033956051891686, 1.5033037747250173, 1.5032120750128655, 1.5031205057060155, 1.5030290664588302, 1.5029377569267288, 1.5028465767661836, 1.5027555256347167, 1.5026646031908988, 1.5025738090943423, 1.5024831430057008, 1.5023926045866653, 1.502302193499959, 1.502211909409337, 1.5021217519795824, 1.5020317208765013, 1.501941815766921, 1.5018520363186865, 1.5017623822006583, 1.5016728530827066, 1.5015834486357118, 1.501494168531557, 1.5014050124431308, 1.5013159800443174, 1.5012270710099982, 1.5011382850160462, 1.5010496217393263, 1.5009610808576872, 1.5008726620499617, 1.5007843649959642, 1.500696189376484, 1.5006081348732867, 1.5005202011691077, 1.5004323879476509, 1.5003446948935857, 1.5002571216925424, 1.5001696680311116, 1.5000823335968392, 1.499995118078225, 1.4999080211647169, 1.4998210425467124, 1.4997341819155516, 1.4996474389635164, 1.499560813383827, 1.4994743048706383, 1.499387913119038, 1.4993016378250439, 1.4992154786855991, 1.4991294353985727, 1.4990435076627515, 1.4989576951778434, 1.498871997644468, 1.4987864147641607, 1.4987009462393637, 1.4986155917734265, 1.4985303510706036, 1.4984452238360482, 1.4983602097758126, 1.4982753085968445, 1.4981905200069843, 1.4981058437149612, 1.4980212794303922, 1.497936826863778, 1.4978524857265008, 1.4977682557308207, 1.4976841365898756, 1.4976001280176747, 1.497516229729098, 1.4974324414398943, 1.4973487628666753, 1.4972651937269172, 1.4971817337389555, 1.4970983826219806, 1.497015140096039, 1.4969320058820288, 1.4968489797016953, 1.4967660612776332, 1.4966832503332774, 1.4966005465929062, 1.4965179497816352, 1.4964354596254157, 1.4963530758510324, 1.4962707981861012, 1.4961886263590642, 1.4961065600991919, 1.496024599136573, 1.4959427432021213, 1.4958609920275656, 1.4957793453454493, 1.4956978028891308, 1.4956163643927758, 1.4955350295913594, 1.4954537982206615, 1.4953726700172627, 1.4952916447185463, 1.4952107220626905, 1.4951299017886708, 1.4950491836362527, 1.494968567345995, 1.4948880526592399, 1.4948076393181184, 1.4947273270655421, 1.4946471156452035, 1.494567004801573, 1.494486994279896, 1.4944070838261907, 1.4943272731872463, 1.49424756211062, 1.4941679503446341, 1.4940884376383752, 1.4940090237416899, 1.4939297084051841, 1.49385049138022, 1.4937713724189126, 1.4936923512741298, 1.493613427699487, 1.4935346014493482, 1.4934558722788203, 1.4933772399437533, 1.4932987042007366, 1.4932202648070982, 1.4931419215208992, 1.4930636741009358, 1.4929855223067332, 1.4929074658985468, 1.4928295046373554, 1.4927516382848647, 1.4926738666034995, 1.4925961893564057, 1.492518606307445, 1.4924411172211949, 1.492363721862945, 1.4922864199986947, 1.4922092113951528, 1.4921320958197342, 1.4920550730405546, 1.491978142826436, 1.491901304946896, 1.4918245591721517, 1.4917479052731122, 1.4916713430213833, 1.4915948721892598, 1.4915184925497238, 1.4914422038764454]\n"
     ]
    }
   ],
   "source": [
    "iterations = 2000;\n",
    "alpha = 0.0001;\n",
    "theta_m = np.zeros(X_train_m.shape[1])\n",
    "theta_m, cost_history = gradient_descent(X_train_m, y_train_m, theta_m, alpha, iterations)\n",
    "print('Final value of theta =')\n",
    "print(theta_m)\n",
    "print('cost_history =', cost_history)"
   ]
  },
  {
   "cell_type": "code",
   "execution_count": 315,
   "id": "8728caeb",
   "metadata": {},
   "outputs": [
    {
     "data": {
      "text/plain": [
       "Text(0.5, 1.0, 'Convergence of gradient descent (Multi-variate regression)')"
      ]
     },
     "execution_count": 315,
     "metadata": {},
     "output_type": "execute_result"
    },
    {
     "data": {
      "image/png": "[encoded data removed]",
      "text/plain": [
       "<Figure size 720x432 with 1 Axes>"
      ]
     },
     "metadata": {
      "needs_background": "light"
     },
     "output_type": "display_data"
    }
   ],
   "source": [
    "import matplotlib.pyplot as plt\n",
    "plt.plot(range(1, iterations +1), cost_history, color ='blue')\n",
    "plt.rcParams[\"figure.figsize\"] = (10,6)\n",
    "plt.grid()\n",
    "plt.xlabel(\"Iteration #\")\n",
    "plt.ylabel(\"Cost\")\n",
    "plt.title(\"Convergence of gradient descent (Multi-variate regression)\")\n"
   ]
  },
  {
   "cell_type": "code",
   "execution_count": 316,
   "id": "3f870930",
   "metadata": {},
   "outputs": [
    {
     "name": "stdout",
     "output_type": "stream",
     "text": [
      "[[18.  3.  2. ...  0.  0.  1.]\n",
      " [18.  4.  4. ...  1.  1.  1.]\n",
      " [18.  4.  4. ...  1.  1.  1.]\n",
      " ...\n",
      " [21.  1.  1. ...  0.  1.  1.]\n",
      " [18.  3.  2. ...  0.  1.  1.]\n",
      " [19.  1.  1. ...  1.  1.  1.]]\n"
     ]
    }
   ],
   "source": [
    "X_u0 = np.ones((n, 1))\n",
    "X_test_m = np.hstack((X_test_m, X_u0))\n",
    "print(X_test_m)"
   ]
  },
  {
   "cell_type": "code",
   "execution_count": 317,
   "id": "4919e5c5",
   "metadata": {},
   "outputs": [
    {
     "name": "stdout",
     "output_type": "stream",
     "text": [
      "2.429890555210457\n"
     ]
    }
   ],
   "source": [
    "from math import sqrt\n",
    "y_predicted_m = X_test_m.dot(theta_m)\n",
    "rms_m = (mean_squared_error(y_predicted_m, y_test_m))\n",
    "print(rms_m)\n"
   ]
  },
  {
   "cell_type": "code",
   "execution_count": 318,
   "id": "6bd738b1",
   "metadata": {},
   "outputs": [
    {
     "data": {
      "text/plain": [
       "0.7207635947968736"
      ]
     },
     "execution_count": 318,
     "metadata": {},
     "output_type": "execute_result"
    }
   ],
   "source": [
    "from sklearn.metrics import r2_score   \n",
    "r2_score(y_test_m, y_predicted_m)"
   ]
  },
  {
   "cell_type": "code",
   "execution_count": null,
   "id": "8267c861",
   "metadata": {},
   "outputs": [],
   "source": []
  },
  {
   "cell_type": "code",
   "execution_count": 319,
   "id": "c3c61e37",
   "metadata": {},
   "outputs": [],
   "source": [
    "                                #Newtons method(univariate)"
   ]
  },
  {
   "cell_type": "code",
   "execution_count": null,
   "id": "94c347c2",
   "metadata": {},
   "outputs": [],
   "source": []
  },
  {
   "cell_type": "code",
   "execution_count": 320,
   "id": "cd99129b",
   "metadata": {},
   "outputs": [],
   "source": [
    "def newton_step(curr, y, X, reg=None):\n",
    "    p = np.array(X.dot(curr[:,0]), ndmin=2).T  \n",
    "    W = np.diag((p*(1-p))[:,0]) \n",
    "    hessian = X.T.dot(W).dot(X) \n",
    "    grad = X.T.dot(y-p)  \n",
    "    if reg:\n",
    "        step = np.dot(np.linalg.inv(hessian + reg*np.eye(curr.shape[0])), grad)\n",
    "    else:\n",
    "        step = np.dot(np.linalg.inv(hessian), grad)  \n",
    "    beta = curr + step\n",
    "    return beta"
   ]
  },
  {
   "cell_type": "code",
   "execution_count": 321,
   "id": "75cf6eb9",
   "metadata": {},
   "outputs": [],
   "source": [
    "def check_convergence(beta_old, beta_new, tol, iters):\n",
    "    coef_change = np.abs(beta_old - beta_new)\n",
    "    return not (np.any(coef_change>tol) and iters < max_iters)\n",
    "def test_model(X, y, beta):\n",
    "    prob = np.array(X.dot(beta))\n",
    "    prob = np.greater(prob, 0.5*np.ones((prob.shape[1],1)))\n",
    "    accuracy = np.count_nonzero(np.equal(prob, y))/prob.shape[0] * 100\n",
    "    return accuracy"
   ]
  },
  {
   "cell_type": "code",
   "execution_count": 322,
   "id": "abd20a00",
   "metadata": {},
   "outputs": [],
   "source": [
    "test_split = int(merged_df.shape[0]*0.9) \n",
    "val_split = int(merged_df.shape[0]*0.8)"
   ]
  },
  {
   "cell_type": "code",
   "execution_count": 323,
   "id": "a5a6891b",
   "metadata": {},
   "outputs": [],
   "source": [
    "test_data = merged_df[test_split:]\n",
    "val_data = merged_df[val_split:test_split]\n",
    "data = merged_df[:val_split]\n",
    "\n",
    "y_train_newton, X_train_newton = merged_df['G3'], merged_df.drop('G3', axis=1)\n",
    "y_val, X_val = val_data['G3'], val_data.drop('G3', axis=1)\n",
    "y_test_newton, X_test_newton = test_data['G3'], test_data.drop('G3', axis=1)"
   ]
  },
  {
   "cell_type": "code",
   "execution_count": 324,
   "id": "610ff0a0",
   "metadata": {},
   "outputs": [
    {
     "name": "stdout",
     "output_type": "stream",
     "text": [
      "Iteration: 0\n",
      "Validation Accuracy: 0.0%\n",
      "[[68395.93684211]\n",
      " [11740.        ]\n",
      " [10673.        ]\n",
      " [ 8522.        ]\n",
      " [  891.        ]\n",
      " [13331.        ]\n",
      " [12523.        ]\n",
      " [14469.        ]\n",
      " [23981.        ]\n",
      " [49681.        ]\n",
      " [50221.        ]\n",
      " [  453.        ]\n",
      " [ 2041.        ]\n",
      " [ 3277.        ]\n",
      " [ 2108.        ]\n",
      " [ 3308.        ]\n",
      " [ 3978.        ]]\n",
      "Iteration: 0\n",
      "Validation Accuracy: 17.94871794871795%\n",
      "[[68395.93684213]\n",
      " [11740.        ]\n",
      " [10673.        ]\n",
      " [ 8522.        ]\n",
      " [  891.        ]\n",
      " [13331.        ]\n",
      " [12523.        ]\n",
      " [14469.00000001]\n",
      " [23981.        ]\n",
      " [49680.99999999]\n",
      " [50221.        ]\n",
      " [  452.99999997]\n",
      " [ 2041.        ]\n",
      " [ 3277.00000001]\n",
      " [ 2108.        ]\n",
      " [ 3308.00000001]\n",
      " [ 3978.00000006]]\n",
      "Iteration: 0\n",
      "Validation Accuracy: 0.0%\n",
      "[[68395.93684216]\n",
      " [11740.        ]\n",
      " [10673.00000001]\n",
      " [ 8522.        ]\n",
      " [  891.        ]\n",
      " [13331.00000001]\n",
      " [12523.        ]\n",
      " [14469.00000001]\n",
      " [23980.99999999]\n",
      " [49680.99999998]\n",
      " [50220.99999999]\n",
      " [  452.99999994]\n",
      " [ 2041.00000001]\n",
      " [ 3277.00000002]\n",
      " [ 2108.        ]\n",
      " [ 3308.00000002]\n",
      " [ 3978.00000013]]\n",
      "Iteration: 0\n",
      "Validation Accuracy: 0.0%\n",
      "[[68395.93684218]\n",
      " [11740.        ]\n",
      " [10673.00000001]\n",
      " [ 8522.00000001]\n",
      " [  890.99999999]\n",
      " [13331.00000001]\n",
      " [12523.        ]\n",
      " [14469.00000002]\n",
      " [23980.99999999]\n",
      " [49680.99999997]\n",
      " [50220.99999999]\n",
      " [  452.9999999 ]\n",
      " [ 2041.00000001]\n",
      " [ 3277.00000003]\n",
      " [ 2108.00000001]\n",
      " [ 3308.00000003]\n",
      " [ 3978.00000019]]\n",
      "Iteration: 0\n",
      "Validation Accuracy: 0.0%\n",
      "[[68395.93684221]\n",
      " [11740.00000001]\n",
      " [10673.00000001]\n",
      " [ 8522.00000001]\n",
      " [  890.99999999]\n",
      " [13331.00000001]\n",
      " [12523.        ]\n",
      " [14469.00000002]\n",
      " [23980.99999999]\n",
      " [49680.99999997]\n",
      " [50220.99999998]\n",
      " [  452.99999987]\n",
      " [ 2041.00000001]\n",
      " [ 3277.00000004]\n",
      " [ 2108.00000001]\n",
      " [ 3308.00000004]\n",
      " [ 3978.00000026]]\n",
      "Iteration: 0\n",
      "Validation Accuracy: 0.0%\n",
      "[[68395.93684223]\n",
      " [11740.00000001]\n",
      " [10673.00000002]\n",
      " [ 8522.00000001]\n",
      " [  890.99999999]\n",
      " [13331.00000002]\n",
      " [12522.99999999]\n",
      " [14469.00000003]\n",
      " [23980.99999998]\n",
      " [49680.99999996]\n",
      " [50220.99999998]\n",
      " [  452.99999984]\n",
      " [ 2041.00000001]\n",
      " [ 3277.00000005]\n",
      " [ 2108.00000001]\n",
      " [ 3308.00000005]\n",
      " [ 3978.00000032]]\n",
      "Iteration: 0\n",
      "Validation Accuracy: 0.0%\n",
      "[[68395.93684226]\n",
      " [11740.00000001]\n",
      " [10673.00000002]\n",
      " [ 8522.00000001]\n",
      " [  890.99999999]\n",
      " [13331.00000002]\n",
      " [12522.99999999]\n",
      " [14469.00000003]\n",
      " [23980.99999998]\n",
      " [49680.99999995]\n",
      " [50220.99999997]\n",
      " [  452.99999981]\n",
      " [ 2041.00000002]\n",
      " [ 3277.00000006]\n",
      " [ 2108.00000001]\n",
      " [ 3308.00000006]\n",
      " [ 3978.00000038]]\n",
      "Iteration: 0\n",
      "Validation Accuracy: 0.0%\n",
      "[[68395.93684228]\n",
      " [11740.00000001]\n",
      " [10673.00000002]\n",
      " [ 8522.00000002]\n",
      " [  890.99999999]\n",
      " [13331.00000003]\n",
      " [12522.99999999]\n",
      " [14469.00000004]\n",
      " [23980.99999998]\n",
      " [49680.99999994]\n",
      " [50220.99999997]\n",
      " [  452.99999978]\n",
      " [ 2041.00000002]\n",
      " [ 3277.00000007]\n",
      " [ 2108.00000001]\n",
      " [ 3308.00000007]\n",
      " [ 3978.00000045]]\n",
      "Iteration: 0\n",
      "Validation Accuracy: 0.0%\n",
      "[[68395.93684231]\n",
      " [11740.00000001]\n",
      " [10673.00000003]\n",
      " [ 8522.00000002]\n",
      " [  890.99999998]\n",
      " [13331.00000003]\n",
      " [12522.99999999]\n",
      " [14469.00000004]\n",
      " [23980.99999997]\n",
      " [49680.99999993]\n",
      " [50220.99999996]\n",
      " [  452.99999975]\n",
      " [ 2041.00000002]\n",
      " [ 3277.00000008]\n",
      " [ 2108.00000002]\n",
      " [ 3308.00000008]\n",
      " [ 3978.00000051]]\n",
      "Iteration: 0\n",
      "Validation Accuracy: 0.0%\n",
      "[[68395.93684234]\n",
      " [11740.00000001]\n",
      " [10673.00000003]\n",
      " [ 8522.00000002]\n",
      " [  890.99999998]\n",
      " [13331.00000003]\n",
      " [12522.99999999]\n",
      " [14469.00000005]\n",
      " [23980.99999997]\n",
      " [49680.99999992]\n",
      " [50220.99999996]\n",
      " [  452.99999971]\n",
      " [ 2041.00000002]\n",
      " [ 3277.00000009]\n",
      " [ 2108.00000002]\n",
      " [ 3308.00000009]\n",
      " [ 3978.00000058]]\n",
      "Iteration: 0\n",
      "Validation Accuracy: 0.0%\n",
      "[[68395.93684236]\n",
      " [11740.00000001]\n",
      " [10673.00000003]\n",
      " [ 8522.00000002]\n",
      " [  890.99999998]\n",
      " [13331.00000004]\n",
      " [12522.99999999]\n",
      " [14469.00000006]\n",
      " [23980.99999997]\n",
      " [49680.99999992]\n",
      " [50220.99999995]\n",
      " [  452.99999968]\n",
      " [ 2041.00000003]\n",
      " [ 3277.0000001 ]\n",
      " [ 2108.00000002]\n",
      " [ 3308.0000001 ]\n",
      " [ 3978.00000064]]\n",
      "Iteration: 0\n",
      "Validation Accuracy: 0.0%\n",
      "[[68395.93684239]\n",
      " [11740.00000001]\n",
      " [10673.00000004]\n",
      " [ 8522.00000002]\n",
      " [  890.99999998]\n",
      " [13331.00000004]\n",
      " [12522.99999999]\n",
      " [14469.00000006]\n",
      " [23980.99999996]\n",
      " [49680.99999991]\n",
      " [50220.99999995]\n",
      " [  452.99999965]\n",
      " [ 2041.00000003]\n",
      " [ 3277.00000012]\n",
      " [ 2108.00000002]\n",
      " [ 3308.00000011]\n",
      " [ 3978.00000071]]\n",
      "Iteration: 0\n",
      "Validation Accuracy: 0.0%\n",
      "[[68395.93684241]\n",
      " [11740.00000002]\n",
      " [10673.00000004]\n",
      " [ 8522.00000003]\n",
      " [  890.99999998]\n",
      " [13331.00000004]\n",
      " [12522.99999999]\n",
      " [14469.00000007]\n",
      " [23980.99999996]\n",
      " [49680.9999999 ]\n",
      " [50220.99999995]\n",
      " [  452.99999962]\n",
      " [ 2041.00000003]\n",
      " [ 3277.00000013]\n",
      " [ 2108.00000002]\n",
      " [ 3308.00000012]\n",
      " [ 3978.00000077]]\n",
      "Iteration: 0\n",
      "Validation Accuracy: 0.0%\n",
      "[[68395.93684244]\n",
      " [11740.00000002]\n",
      " [10673.00000004]\n",
      " [ 8522.00000003]\n",
      " [  890.99999997]\n",
      " [13331.00000005]\n",
      " [12522.99999998]\n",
      " [14469.00000007]\n",
      " [23980.99999996]\n",
      " [49680.99999989]\n",
      " [50220.99999994]\n",
      " [  452.99999959]\n",
      " [ 2041.00000004]\n",
      " [ 3277.00000014]\n",
      " [ 2108.00000003]\n",
      " [ 3308.00000013]\n",
      " [ 3978.00000083]]\n",
      "Iteration: 0\n",
      "Validation Accuracy: 0.0%\n",
      "[[68395.93684246]\n",
      " [11740.00000002]\n",
      " [10673.00000005]\n",
      " [ 8522.00000003]\n",
      " [  890.99999997]\n",
      " [13331.00000005]\n",
      " [12522.99999998]\n",
      " [14469.00000008]\n",
      " [23980.99999995]\n",
      " [49680.99999988]\n",
      " [50220.99999994]\n",
      " [  452.99999955]\n",
      " [ 2041.00000004]\n",
      " [ 3277.00000015]\n",
      " [ 2108.00000003]\n",
      " [ 3308.00000014]\n",
      " [ 3978.0000009 ]]\n",
      "Iteration: 0\n",
      "Validation Accuracy: 0.0%\n",
      "[[68395.93684249]\n",
      " [11740.00000002]\n",
      " [10673.00000005]\n",
      " [ 8522.00000003]\n",
      " [  890.99999997]\n",
      " [13331.00000005]\n",
      " [12522.99999998]\n",
      " [14469.00000008]\n",
      " [23980.99999995]\n",
      " [49680.99999987]\n",
      " [50220.99999993]\n",
      " [  452.99999952]\n",
      " [ 2041.00000004]\n",
      " [ 3277.00000016]\n",
      " [ 2108.00000003]\n",
      " [ 3308.00000015]\n",
      " [ 3978.00000096]]\n",
      "Iteration: 0\n",
      "Validation Accuracy: 0.0%\n",
      "[[68395.93684251]\n",
      " [11740.00000002]\n",
      " [10673.00000005]\n",
      " [ 8522.00000004]\n",
      " [  890.99999997]\n",
      " [13331.00000006]\n",
      " [12522.99999998]\n",
      " [14469.00000009]\n",
      " [23980.99999995]\n",
      " [49680.99999987]\n",
      " [50220.99999993]\n",
      " [  452.99999949]\n",
      " [ 2041.00000004]\n",
      " [ 3277.00000017]\n",
      " [ 2108.00000003]\n",
      " [ 3308.00000016]\n",
      " [ 3978.00000103]]\n",
      "Iteration: 0\n",
      "Validation Accuracy: 0.0%\n",
      "[[68395.93684254]\n",
      " [11740.00000002]\n",
      " [10673.00000006]\n",
      " [ 8522.00000004]\n",
      " [  890.99999996]\n",
      " [13331.00000006]\n",
      " [12522.99999998]\n",
      " [14469.0000001 ]\n",
      " [23980.99999994]\n",
      " [49680.99999986]\n",
      " [50220.99999992]\n",
      " [  452.99999946]\n",
      " [ 2041.00000005]\n",
      " [ 3277.00000018]\n",
      " [ 2108.00000003]\n",
      " [ 3308.00000017]\n",
      " [ 3978.00000109]]\n",
      "Iteration: 0\n",
      "Validation Accuracy: 0.0%\n",
      "[[68395.93684257]\n",
      " [11740.00000002]\n",
      " [10673.00000006]\n",
      " [ 8522.00000004]\n",
      " [  890.99999996]\n",
      " [13331.00000007]\n",
      " [12522.99999998]\n",
      " [14469.0000001 ]\n",
      " [23980.99999994]\n",
      " [49680.99999985]\n",
      " [50220.99999992]\n",
      " [  452.99999943]\n",
      " [ 2041.00000005]\n",
      " [ 3277.00000019]\n",
      " [ 2108.00000004]\n",
      " [ 3308.00000018]\n",
      " [ 3978.00000115]]\n",
      "Iteration: 0\n",
      "Validation Accuracy: 0.0%\n",
      "[[68395.93684259]\n",
      " [11740.00000002]\n",
      " [10673.00000006]\n",
      " [ 8522.00000004]\n",
      " [  890.99999996]\n",
      " [13331.00000007]\n",
      " [12522.99999998]\n",
      " [14469.00000011]\n",
      " [23980.99999994]\n",
      " [49680.99999984]\n",
      " [50220.99999991]\n",
      " [  452.9999994 ]\n",
      " [ 2041.00000005]\n",
      " [ 3277.0000002 ]\n",
      " [ 2108.00000004]\n",
      " [ 3308.00000018]\n",
      " [ 3978.00000122]]\n"
     ]
    }
   ],
   "source": [
    "## Hyperparameters\n",
    "max_iters = 20\n",
    "tol=0.1 # convergence tolerance\n",
    "reg_term = 1\n",
    "\n",
    "beta_old, beta = np.ones((X_train_newton.shape[1],1)), np.zeros((X_train_newton.shape[1],1))\n",
    "iter_count = 0\n",
    "coefs_converged = False\n",
    "\n",
    "for i in range(max_iters):\n",
    "    print('Iteration: {}'.format(iter_count))\n",
    "    print('Validation Accuracy: {}%'.format(\n",
    "        test_model(X_val, y_val.to_frame(), beta_old)))\n",
    "    beta_old = beta\n",
    "    beta = newton_step(beta, y_train_newton.to_frame(), X_train_newton, reg_term)\n",
    "    print(beta)"
   ]
  },
  {
   "cell_type": "code",
   "execution_count": null,
   "id": "5cf35b51",
   "metadata": {},
   "outputs": [],
   "source": []
  },
  {
   "cell_type": "code",
   "execution_count": null,
   "id": "1aba4888",
   "metadata": {},
   "outputs": [],
   "source": []
  },
  {
   "cell_type": "code",
   "execution_count": 325,
   "id": "60d22541",
   "metadata": {},
   "outputs": [],
   "source": [
    "test_data = merged_df[test_split:]\n",
    "val_data = merged_df[val_split:test_split]\n",
    "data = merged_df[:val_split]\n",
    "\n",
    "y_train_newton, X_train_newton = merged_df['G3'], merged_df[]'G3', axis=1)\n",
    "y_val, X_val = val_data['G3'], val_data.drop('G3', axis=1)\n",
    "y_test_newton, X_test_newton = test_data['G3'], test_data.drop('G3', axis=1)"
   ]
  },
  {
   "cell_type": "code",
   "execution_count": 326,
   "id": "8c4acc3b",
   "metadata": {},
   "outputs": [
    {
     "name": "stdout",
     "output_type": "stream",
     "text": [
      "(395, 17)\n",
      "(395,)\n",
      "(395, 1)\n"
     ]
    }
   ],
   "source": [
    "print(X_train_newton.shape)\n",
    "X_u0 = np.ones((X_train_newton.shape[0]))\n",
    "print(X_u0.shape)\n",
    "X_u0 = X_u0.reshape((X_train_newton.shape[0], 1))\n",
    "print(X_u0.shape)\n"
   ]
  },
  {
   "cell_type": "code",
   "execution_count": 327,
   "id": "d4bd79c7",
   "metadata": {},
   "outputs": [],
   "source": [
    "X_train_newton = np.hstack((X_train_newton, X_u0))"
   ]
  },
  {
   "cell_type": "code",
   "execution_count": 330,
   "id": "f2263690",
   "metadata": {},
   "outputs": [],
   "source": [
    "def compute_cost_n(X, y, theta):\n",
    "    predictions = X.dot(theta)\n",
    "    y = y.values.reshape(X.shape[0], 1)\n",
    "    errors = np.subtract(predictions, y)\n",
    "    sqrErrors = np.square(errors)\n",
    "    J = 1 / (2 * m) * np.sum(sqrErrors)\n",
    "\n",
    "    return J"
   ]
  },
  {
   "cell_type": "code",
   "execution_count": 348,
   "id": "efc7d134",
   "metadata": {},
   "outputs": [],
   "source": [
    "def hypothesis(X,theta):\n",
    "    y_pred=X@theta\n",
    "    return y_pred\n",
    "def sigmoid(z):\n",
    "    return 1.0/(1+np.exp(-1*z))\n",
    "def gradient(X,theta,y):\n",
    "    y_pred=hypothesis(X,theta)\n",
    "    m=X.shape[0]\n",
    "    y = y.values.reshape(m, 1)\n",
    "    grad=np.dot(X.T,y_pred-y)\n",
    "    return grad/m\n",
    "def hessian(X,theta,y):\n",
    "    y_pred=hypothesis(X,theta)\n",
    "    m=X.shape[0]\n",
    "    m=np.size(X,0)\n",
    "    H=(X.T.dot(np.diag(y_pred.reshape(np.size(X,0),)))@(np.diag((1-y_pred).reshape(np.size(X,0),))).dot(X))\n",
    "    return H/m\n",
    "def Newtons(X,y,iters):\n",
    "    m,n=X.shape\n",
    "    theta=np.ones((n,1))\n",
    "    err_list=[]\n",
    "    for i in range(iters):\n",
    "        err=compute_cost_n(X,y,theta)\n",
    "        err_list.append(err)\n",
    "        grad = gradient(X,theta,y)\n",
    "        H=hessian(X,theta,y)\n",
    "        theta=theta-(np.linalg.pinv(H)@grad)\n",
    "    return theta,err_list"
   ]
  },
  {
   "cell_type": "code",
   "execution_count": 349,
   "id": "87b5d43f",
   "metadata": {},
   "outputs": [
    {
     "name": "stdout",
     "output_type": "stream",
     "text": [
      "(395,)\n"
     ]
    }
   ],
   "source": [
    "print(y_train_newton.shape)\n",
    "theta,err = Newtons(X_train_newton, y_train_newton, 1000)"
   ]
  },
  {
   "cell_type": "code",
   "execution_count": 352,
   "id": "a10beb34",
   "metadata": {},
   "outputs": [
    {
     "name": "stdout",
     "output_type": "stream",
     "text": [
      "[[0.87022854]\n",
      " [0.85354465]\n",
      " [0.90669646]\n",
      " [0.86254982]\n",
      " [0.93381824]]\n"
     ]
    }
   ],
   "source": [
    "print(theta[:5])"
   ]
  },
  {
   "cell_type": "code",
   "execution_count": 355,
   "id": "e354b686",
   "metadata": {},
   "outputs": [],
   "source": [
    "y_predicted_m = X_train_newton.dot(theta)\n",
    "#rms_m = (mean_squared_error(y_predicted_m, y_test_m))"
   ]
  },
  {
   "cell_type": "code",
   "execution_count": 357,
   "id": "25ee6d3d",
   "metadata": {},
   "outputs": [],
   "source": [
    "rms_m = (mean_squared_error(y_predicted_m, y_train_newton.values.reshape(y_train_newton.shape[0], 1)))"
   ]
  },
  {
   "cell_type": "code",
   "execution_count": 358,
   "id": "ddd2a190",
   "metadata": {},
   "outputs": [
    {
     "data": {
      "text/plain": [
       "68.53285590864007"
      ]
     },
     "execution_count": 358,
     "metadata": {},
     "output_type": "execute_result"
    }
   ],
   "source": [
    "rms_m"
   ]
  },
  {
   "cell_type": "code",
   "execution_count": null,
   "id": "29684c48",
   "metadata": {},
   "outputs": [],
   "source": []
  }
 ],
 "metadata": {
  "kernelspec": {
   "display_name": "Python 3",
   "language": "python",
   "name": "python3"
  },
  "language_info": {
   "codemirror_mode": {
    "name": "ipython",
    "version": 3
   },
   "file_extension": ".py",
   "mimetype": "text/x-python",
   "name": "python",
   "nbconvert_exporter": "python",
   "pygments_lexer": "ipython3",
   "version": "3.8.8"
  }
 },
 "nbformat": 4,
 "nbformat_minor": 5
}
