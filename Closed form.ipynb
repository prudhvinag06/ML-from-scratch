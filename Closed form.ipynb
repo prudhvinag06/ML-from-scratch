{
 "cells": [
  {
   "cell_type": "code",
   "execution_count": 187,
   "id": "41a6f59d",
   "metadata": {},
   "outputs": [],
   "source": [
    "import numpy as np\n",
    "import pandas as pd\n",
    "import matplotlib.pyplot as plt\n",
    "main_df = pd.read_csv(\"student.csv\")"
   ]
  },
  {
   "cell_type": "code",
   "execution_count": 188,
   "id": "df7665f9",
   "metadata": {},
   "outputs": [],
   "source": [
    "                                    #univariate Closed Form "
   ]
  },
  {
   "cell_type": "code",
   "execution_count": 189,
   "id": "8550d212",
   "metadata": {},
   "outputs": [
    {
     "data": {
      "text/plain": [
       "(395, 18)"
      ]
     },
     "execution_count": 189,
     "metadata": {},
     "output_type": "execute_result"
    }
   ],
   "source": [
    "# main_df = main_df[main_df['G2'] != 0]\n",
    "# main_df = main_df[main_df['G3'] != 0]\n",
    "main_df.shape"
   ]
  },
  {
   "cell_type": "code",
   "execution_count": 190,
   "id": "7f0a6b1a",
   "metadata": {},
   "outputs": [
    {
     "name": "stdout",
     "output_type": "stream",
     "text": [
      "(395, 1)\n",
      "(395, 1)\n"
     ]
    },
    {
     "data": {
      "image/png": "[encoded data removed]",
      "text/plain": [
       "<Figure size 432x288 with 1 Axes>"
      ]
     },
     "metadata": {
      "needs_background": "light"
     },
     "output_type": "display_data"
    }
   ],
   "source": [
    "X = main_df[\"G2\"].values\n",
    "y = main_df[\"G3\"].values\n",
    "m = X.shape[0]\n",
    "X = X.reshape(m, 1)\n",
    "y = y.reshape((-1, 1))\n",
    "print(X.shape)\n",
    "print(y.shape)\n",
    "plt.figure()\n",
    "plt.scatter(X, y)\n",
    "plt.title(\"Data\")\n",
    "plt.show()"
   ]
  },
  {
   "cell_type": "code",
   "execution_count": 191,
   "id": "72f0b109",
   "metadata": {},
   "outputs": [
    {
     "data": {
      "text/plain": [
       "(395, 2)"
      ]
     },
     "execution_count": 191,
     "metadata": {},
     "output_type": "execute_result"
    }
   ],
   "source": [
    "X_0 = np.ones((m, 1))\n",
    "X_0.shape\n",
    "X_m = np.hstack((X, X_0))\n",
    "X_m.shape\n"
   ]
  },
  {
   "cell_type": "code",
   "execution_count": 192,
   "id": "70ca0b4b",
   "metadata": {},
   "outputs": [],
   "source": [
    "def predict(X_m, theta):\n",
    "    return np.dot(X_m, theta)\n",
    "    "
   ]
  },
  {
   "cell_type": "code",
   "execution_count": 193,
   "id": "ec56275b",
   "metadata": {},
   "outputs": [],
   "source": [
    "def getClosedForm(X_m, y):\n",
    "    y = np.mat(y)\n",
    "    p_1 = np.dot(X_m.T, X_m)\n",
    "    p_2 = np.dot(X_m.T, y)\n",
    "    \n",
    "    theta = np.linalg.pinv(p_1) * p_2\n",
    "    return theta"
   ]
  },
  {
   "cell_type": "code",
   "execution_count": 195,
   "id": "78b3143b",
   "metadata": {},
   "outputs": [
    {
     "name": "stdout",
     "output_type": "stream",
     "text": [
      "Theta values :  [[ 1.10211236]\n",
      " [-1.39275821]]\n"
     ]
    },
    {
     "data": {
      "text/plain": [
       "(2, 1)"
      ]
     },
     "execution_count": 195,
     "metadata": {},
     "output_type": "execute_result"
    }
   ],
   "source": [
    "theta = getClosedForm(X_m, y)\n",
    "print(\"Theta values : \", theta)\n",
    "theta.shape\n"
   ]
  },
  {
   "cell_type": "code",
   "execution_count": 196,
   "id": "8ce25500",
   "metadata": {},
   "outputs": [
    {
     "data": {
      "image/png": "[encoded data removed]",
      "text/plain": [
       "<Figure size 432x288 with 1 Axes>"
      ]
     },
     "metadata": {
      "needs_background": "light"
     },
     "output_type": "display_data"
    }
   ],
   "source": [
    "plt.figure()\n",
    "plt.scatter(X, y)\n",
    "plt.title(\"Data\")\n",
    "plt.plot(X, predict(X_m, theta), color = \"red\", label = \"Prediction\")\n",
    "plt.legend()\n",
    "plt.show()"
   ]
  },
  {
   "cell_type": "code",
   "execution_count": 197,
   "id": "39d1ac7a",
   "metadata": {},
   "outputs": [],
   "source": [
    "                                #Closed Form Multivariate"
   ]
  },
  {
   "cell_type": "code",
   "execution_count": 209,
   "id": "aaf5fcc4",
   "metadata": {},
   "outputs": [],
   "source": [
    "import numpy as np\n",
    "import pandas as pd\n",
    "import matplotlib.pyplot as plt\n",
    "main_df = pd.read_csv(\"student.csv\")\n",
    "main_df = main_df[main_df['G2'] != 0]\n"
   ]
  },
  {
   "cell_type": "code",
   "execution_count": 210,
   "id": "6e3f4a69",
   "metadata": {},
   "outputs": [],
   "source": [
    "X = main_df[[\"G1\", \"G2\"]].values\n",
    "y = main_df[[\"G3\"]].values\n",
    "\n",
    "X_col = main_df[[\"G1\", \"G2\"]].values\n",
    "y_col = main_df[[\"G3\"]].values\n",
    "m = X_col.shape[0]"
   ]
  },
  {
   "cell_type": "code",
   "execution_count": 211,
   "id": "221e57de",
   "metadata": {},
   "outputs": [],
   "source": [
    "X_col = X_col.reshape(X_col.shape[0], 2)\n",
    "y_col = y_col.reshape((-1, 1))"
   ]
  },
  {
   "cell_type": "code",
   "execution_count": 212,
   "id": "edd859b4",
   "metadata": {},
   "outputs": [
    {
     "data": {
      "text/plain": [
       "(382, 3)"
      ]
     },
     "execution_count": 212,
     "metadata": {},
     "output_type": "execute_result"
    }
   ],
   "source": [
    "X_0 = np.ones((m, 1))\n",
    "X_col = np.hstack((X_col, X_0))\n",
    "X_col.shape"
   ]
  },
  {
   "cell_type": "code",
   "execution_count": 213,
   "id": "1d71f67c",
   "metadata": {},
   "outputs": [
    {
     "name": "stdout",
     "output_type": "stream",
     "text": [
      "[[ 5.  6.  1.]\n",
      " [ 5.  5.  1.]\n",
      " [ 7.  8.  1.]\n",
      " ...\n",
      " [10.  8.  1.]\n",
      " [11. 12.  1.]\n",
      " [ 8.  9.  1.]]\n"
     ]
    }
   ],
   "source": [
    "print(X_col)"
   ]
  },
  {
   "cell_type": "code",
   "execution_count": 214,
   "id": "190342f6",
   "metadata": {},
   "outputs": [],
   "source": [
    "def predict(X_col, theta):\n",
    "    return np.dot(X_col, theta)"
   ]
  },
  {
   "cell_type": "code",
   "execution_count": 215,
   "id": "39e8d299",
   "metadata": {},
   "outputs": [],
   "source": [
    "def getClosedForm(X_col, y_col):\n",
    "    y_col = np.mat(y_col)\n",
    "    p_1 = np.dot(X_col.T, X_col)\n",
    "    p_2 = np.dot(X_col.T, y_col)\n",
    "    \n",
    "    theta = np.linalg.pinv(p_1) * p_2\n",
    "    return theta"
   ]
  },
  {
   "cell_type": "code",
   "execution_count": 216,
   "id": "f4c0a7e5",
   "metadata": {},
   "outputs": [
    {
     "name": "stdout",
     "output_type": "stream",
     "text": [
      "Theta values :  [[ 0.08703249]\n",
      " [ 1.07209547]\n",
      " [-2.06724841]]\n"
     ]
    },
    {
     "data": {
      "text/plain": [
       "(3, 1)"
      ]
     },
     "execution_count": 216,
     "metadata": {},
     "output_type": "execute_result"
    }
   ],
   "source": [
    "theta = getClosedForm(X_col, y_col)\n",
    "print(\"Theta values : \", theta)\n",
    "theta.shape"
   ]
  },
  {
   "cell_type": "code",
   "execution_count": null,
   "id": "6fe0fef2",
   "metadata": {},
   "outputs": [],
   "source": [
    "#Pending task : have to plot graph for multivariate :( and train and test data "
   ]
  }
 ],
 "metadata": {
  "kernelspec": {
   "display_name": "Python 3",
   "language": "python",
   "name": "python3"
  },
  "language_info": {
   "codemirror_mode": {
    "name": "ipython",
    "version": 3
   },
   "file_extension": ".py",
   "mimetype": "text/x-python",
   "name": "python",
   "nbconvert_exporter": "python",
   "pygments_lexer": "ipython3",
   "version": "3.8.8"
  }
 },
 "nbformat": 4,
 "nbformat_minor": 5
}
