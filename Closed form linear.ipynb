{
 "cells": [
  {
   "cell_type": "code",
   "execution_count": 321,
   "id": "41a6f59d",
   "metadata": {},
   "outputs": [],
   "source": [
    "import numpy as np\n",
    "import pandas as pd\n",
    "import matplotlib.pyplot as plt\n",
    "main_df = pd.read_csv(\"student.csv\")"
   ]
  },
  {
   "cell_type": "code",
   "execution_count": 322,
   "id": "0fd18b46",
   "metadata": {},
   "outputs": [],
   "source": [
    "def accuracy(X, Y, W):\n",
    "    y_pred = np.dot(X, W) \n",
    "    y_pred = np.array(y_pred, dtype = 'int64')\n",
    "    acc = (1 - np.sum(np.absolute(y_pred - Y))/Y.shape[0])*100\n",
    "    print(\"Accuracy of the model is : \", round(acc, 2), \"%\")"
   ]
  },
  {
   "cell_type": "code",
   "execution_count": 323,
   "id": "2724f037",
   "metadata": {},
   "outputs": [],
   "source": [
    "                                            #preprocessing stage"
   ]
  },
  {
   "cell_type": "code",
   "execution_count": 324,
   "id": "34af07e2",
   "metadata": {},
   "outputs": [
    {
     "data": {
      "text/plain": [
       "school         0\n",
       "sex            0\n",
       "age           15\n",
       "address        0\n",
       "Medu           0\n",
       "Fedu           0\n",
       "studytime      0\n",
       "failures       0\n",
       "activities     0\n",
       "nursery        0\n",
       "higher         0\n",
       "freetime       0\n",
       "goout          0\n",
       "health         0\n",
       "absences       0\n",
       "G1             0\n",
       "G2             0\n",
       "G3             0\n",
       "dtype: int64"
      ]
     },
     "execution_count": 324,
     "metadata": {},
     "output_type": "execute_result"
    }
   ],
   "source": [
    "main_df.isna().sum()  ##remove null values"
   ]
  },
  {
   "cell_type": "code",
   "execution_count": 325,
   "id": "b95b15b6",
   "metadata": {},
   "outputs": [
    {
     "data": {
      "text/plain": [
       "16.0    97\n",
       "17.0    97\n",
       "15.0    79\n",
       "18.0    79\n",
       "19.0    23\n",
       "20.0     3\n",
       "21.0     1\n",
       "22.0     1\n",
       "Name: age, dtype: int64"
      ]
     },
     "execution_count": 325,
     "metadata": {},
     "output_type": "execute_result"
    }
   ],
   "source": [
    "main_df[\"age\"].value_counts() ##here according to data there are two students with outlier values. (21, 22). \n",
    "## So that can deviate the mean by some amount. So we can consider median over mean for this feature to fill the na \n",
    "## values"
   ]
  },
  {
   "cell_type": "code",
   "execution_count": 326,
   "id": "7c1b2da5",
   "metadata": {},
   "outputs": [
    {
     "name": "stdout",
     "output_type": "stream",
     "text": [
      "mean :  16.705263157894738\n",
      "median :  17.0\n"
     ]
    }
   ],
   "source": [
    "age_mean = main_df['age'].mean()\n",
    "age_median = main_df['age'].median()\n",
    "\n",
    "print(\"mean : \", age_mean)\n",
    "print(\"median : \", age_median)\n",
    "\n",
    "## mean value is less here than median. So there is very little deviation of mean due to outliers. So we use mean to fill the data."
   ]
  },
  {
   "cell_type": "code",
   "execution_count": 327,
   "id": "1944a70f",
   "metadata": {},
   "outputs": [],
   "source": [
    "main_df[\"age\"].fillna(age_mean, inplace = True) ##now we have removed all the na values."
   ]
  },
  {
   "cell_type": "code",
   "execution_count": 328,
   "id": "d903caac",
   "metadata": {},
   "outputs": [
    {
     "data": {
      "text/plain": [
       "school        0\n",
       "sex           0\n",
       "age           0\n",
       "address       0\n",
       "Medu          0\n",
       "Fedu          0\n",
       "studytime     0\n",
       "failures      0\n",
       "activities    0\n",
       "nursery       0\n",
       "higher        0\n",
       "freetime      0\n",
       "goout         0\n",
       "health        0\n",
       "absences      0\n",
       "G1            0\n",
       "G2            0\n",
       "G3            0\n",
       "dtype: int64"
      ]
     },
     "execution_count": 328,
     "metadata": {},
     "output_type": "execute_result"
    }
   ],
   "source": [
    "main_df.isna().sum()"
   ]
  },
  {
   "cell_type": "code",
   "execution_count": 329,
   "id": "11afd0eb",
   "metadata": {},
   "outputs": [
    {
     "name": "stdout",
     "output_type": "stream",
     "text": [
      "Categorial Data :  Index(['school', 'sex', 'address', 'activities', 'nursery', 'higher'], dtype='object')\n"
     ]
    }
   ],
   "source": [
    "cat_columns = main_df.select_dtypes(exclude=[\"number\",\"bool_\"])\n",
    "print(\"Categorial Data : \", cat_columns.columns)\n"
   ]
  },
  {
   "cell_type": "code",
   "execution_count": 330,
   "id": "b97e7bfc",
   "metadata": {},
   "outputs": [
    {
     "name": "stdout",
     "output_type": "stream",
     "text": [
      "['GP' 'MS']\n",
      "['F' 'M']\n",
      "['U' 'R']\n",
      "['no' 'yes']\n",
      "['yes' 'no']\n",
      "['yes' 'no']\n"
     ]
    }
   ],
   "source": [
    "print(main_df[\"school\"].unique())\n",
    "print(main_df[\"sex\"].unique())\n",
    "print(main_df[\"address\"].unique())\n",
    "print(main_df[\"activities\"].unique())\n",
    "print(main_df[\"nursery\"].unique())\n",
    "print(main_df[\"higher\"].unique())"
   ]
  },
  {
   "cell_type": "code",
   "execution_count": 331,
   "id": "f39f73a5",
   "metadata": {},
   "outputs": [],
   "source": [
    "school_encode = pd.get_dummies(main_df.school)\n",
    "sex_encode = pd.get_dummies(main_df.sex)\n",
    "address_encode = pd.get_dummies(main_df.address)\n",
    "activities_encode = pd.get_dummies(main_df.activities)\n",
    "nursery_encode = pd.get_dummies(main_df.nursery)\n",
    "higher_encode = pd.get_dummies(main_df.higher)"
   ]
  },
  {
   "cell_type": "code",
   "execution_count": 332,
   "id": "bb80d629",
   "metadata": {},
   "outputs": [],
   "source": [
    "merged_df = pd.concat([main_df, school_encode, sex_encode, address_encode, activities_encode, nursery_encode, higher_encode], axis = 'columns')"
   ]
  },
  {
   "cell_type": "code",
   "execution_count": 333,
   "id": "92ecff41",
   "metadata": {},
   "outputs": [
    {
     "name": "stdout",
     "output_type": "stream",
     "text": [
      "   school sex        age address  Medu  Fedu  studytime  failures activities  \\\n",
      "0      GP   F  18.000000       U     4     4          2         0         no   \n",
      "1      GP   F  17.000000       U     1     1          2         0         no   \n",
      "2      GP   F  15.000000       U     1     1          2         3         no   \n",
      "3      GP   F  15.000000       U     4     2          3         0        yes   \n",
      "4      GP   F  16.000000       U     3     3          2         0         no   \n",
      "..    ...  ..        ...     ...   ...   ...        ...       ...        ...   \n",
      "95     GP   F  15.000000       R     1     1          4         1        yes   \n",
      "96     GP   M  16.000000       R     4     3          1         0        yes   \n",
      "97     GP   F  16.000000       U     2     1          2         0         no   \n",
      "98     GP   F  16.705263       U     4     4          1         0        yes   \n",
      "99     GP   F  16.000000       U     4     3          3         0         no   \n",
      "\n",
      "   nursery  ...  F  M  R  U  no  yes  no  yes  no  yes  \n",
      "0      yes  ...  1  0  0  1   1    0   0    1   0    1  \n",
      "1       no  ...  1  0  0  1   1    0   1    0   0    1  \n",
      "2      yes  ...  1  0  0  1   1    0   0    1   0    1  \n",
      "3      yes  ...  1  0  0  1   0    1   0    1   0    1  \n",
      "4      yes  ...  1  0  0  1   1    0   0    1   0    1  \n",
      "..     ...  ... .. .. .. ..  ..  ...  ..  ...  ..  ...  \n",
      "95     yes  ...  1  0  1  0   0    1   0    1   0    1  \n",
      "96      no  ...  0  1  1  0   0    1   1    0   0    1  \n",
      "97     yes  ...  1  0  0  1   1    0   0    1   0    1  \n",
      "98      no  ...  1  0  0  1   0    1   1    0   0    1  \n",
      "99     yes  ...  1  0  0  1   1    0   0    1   0    1  \n",
      "\n",
      "[100 rows x 30 columns]\n"
     ]
    }
   ],
   "source": [
    "print(merged_df.head(100))"
   ]
  },
  {
   "cell_type": "code",
   "execution_count": 334,
   "id": "66b30067",
   "metadata": {},
   "outputs": [
    {
     "data": {
      "text/plain": [
       "Index(['school', 'sex', 'age', 'address', 'Medu', 'Fedu', 'studytime',\n",
       "       'failures', 'activities', 'nursery', 'higher', 'freetime', 'goout',\n",
       "       'health', 'absences', 'G1', 'G2', 'G3', 'GP', 'MS', 'F', 'M', 'R', 'U',\n",
       "       'no', 'yes', 'no', 'yes', 'no', 'yes'],\n",
       "      dtype='object')"
      ]
     },
     "execution_count": 334,
     "metadata": {},
     "output_type": "execute_result"
    }
   ],
   "source": [
    "merged_df.columns"
   ]
  },
  {
   "cell_type": "code",
   "execution_count": 335,
   "id": "d23da9ae",
   "metadata": {},
   "outputs": [],
   "source": [
    "merged_df.drop(['school', 'sex', 'address', 'nursery', 'higher', 'activities', 'F', 'R', 'no', 'no', 'no', 'GP'], axis = 'columns', inplace = True)"
   ]
  },
  {
   "cell_type": "code",
   "execution_count": 336,
   "id": "e5b32bf2",
   "metadata": {},
   "outputs": [
    {
     "name": "stdout",
     "output_type": "stream",
     "text": [
      "Categorial Data :  Index([], dtype='object')\n"
     ]
    }
   ],
   "source": [
    "cat_columns = merged_df.select_dtypes(exclude=[\"number\",\"bool_\"])\n",
    "print(\"Categorial Data : \", cat_columns.columns)   #no categorical features left"
   ]
  },
  {
   "cell_type": "code",
   "execution_count": 337,
   "id": "975d1a3a",
   "metadata": {},
   "outputs": [
    {
     "data": {
      "text/plain": [
       "Int64Index([], dtype='int64')"
      ]
     },
     "execution_count": 337,
     "metadata": {},
     "output_type": "execute_result"
    }
   ],
   "source": [
    "merged_df.index[merged_df.duplicated()]    #no duplicate rows"
   ]
  },
  {
   "cell_type": "code",
   "execution_count": null,
   "id": "47ed4cff",
   "metadata": {},
   "outputs": [],
   "source": []
  },
  {
   "cell_type": "code",
   "execution_count": null,
   "id": "9b781390",
   "metadata": {},
   "outputs": [],
   "source": []
  },
  {
   "cell_type": "code",
   "execution_count": null,
   "id": "35c710be",
   "metadata": {},
   "outputs": [],
   "source": []
  },
  {
   "cell_type": "code",
   "execution_count": null,
   "id": "e67a169a",
   "metadata": {},
   "outputs": [],
   "source": []
  },
  {
   "cell_type": "code",
   "execution_count": 338,
   "id": "df7665f9",
   "metadata": {},
   "outputs": [],
   "source": [
    "                                    #univariate Closed Form "
   ]
  },
  {
   "cell_type": "code",
   "execution_count": 339,
   "id": "8550d212",
   "metadata": {},
   "outputs": [
    {
     "data": {
      "text/plain": [
       "<bound method IndexOpsMixin.value_counts of 0       6\n",
       "1       6\n",
       "2      10\n",
       "3      15\n",
       "4      10\n",
       "       ..\n",
       "390     9\n",
       "391    16\n",
       "392     7\n",
       "393    10\n",
       "394     9\n",
       "Name: G3, Length: 357, dtype: int64>"
      ]
     },
     "execution_count": 339,
     "metadata": {},
     "output_type": "execute_result"
    }
   ],
   "source": [
    "main_df = main_df[main_df['G2'] != 0]\n",
    "main_df = main_df[main_df['G3'] != 0]\n",
    "main_df.shape\n",
    "main_df[\"G3\"].value_counts"
   ]
  },
  {
   "cell_type": "code",
   "execution_count": 340,
   "id": "7f0a6b1a",
   "metadata": {},
   "outputs": [
    {
     "name": "stdout",
     "output_type": "stream",
     "text": [
      "(357, 1)\n",
      "(357, 1)\n"
     ]
    },
    {
     "data": {
      "image/png": "[encoded data removed]",
      "text/plain": [
       "<Figure size 432x288 with 1 Axes>"
      ]
     },
     "metadata": {
      "needs_background": "light"
     },
     "output_type": "display_data"
    }
   ],
   "source": [
    "X_u = main_df[\"G2\"].values\n",
    "y_u = main_df[\"G3\"].values\n",
    "X = main_df[\"G2\"].values\n",
    "y = main_df[\"G3\"].values\n",
    "m = X.shape[0]\n",
    "X_u = X_u.reshape(m, 1)\n",
    "y_u = y_u.reshape((-1, 1))\n",
    "print(X_u.shape)\n",
    "print(y_u.shape)\n",
    "plt.figure()\n",
    "plt.scatter(X_u, y_u)\n",
    "plt.title(\"Data\")\n",
    "plt.show()"
   ]
  },
  {
   "cell_type": "code",
   "execution_count": 341,
   "id": "a04cb946",
   "metadata": {},
   "outputs": [],
   "source": [
    "uni_df = main_df"
   ]
  },
  {
   "cell_type": "code",
   "execution_count": 342,
   "id": "b0e9a039",
   "metadata": {},
   "outputs": [
    {
     "name": "stdout",
     "output_type": "stream",
     "text": [
      "(249, 1)\n",
      "(108, 1)\n",
      "(249, 1)\n",
      "(108, 1)\n"
     ]
    }
   ],
   "source": [
    "uni_df = uni_df.sample(frac=1)\n",
    "\n",
    "# Define a size for your train set \n",
    "train_size = int(0.7 * len(uni_df))\n",
    "# Split your dataset \n",
    "X_train_u = X_u[:train_size]\n",
    "X_test_u = X_u[train_size:]\n",
    "X = X[:train_size]\n",
    "y = y[train_size:]\n",
    "y_train_u = y_u[:train_size]\n",
    "y_test_u = y_u[train_size:]\n",
    "\n",
    "#Lets create a matrix with single column of ones\n",
    "\n",
    "\n",
    "m = X_train_u.shape[0]\n",
    "n = X_test_u.shape[0]\n",
    "X_u0 = np.ones((m, 1))\n",
    "X_u0[:5]\n",
    "X_train_u = X_train_u.reshape((m, 1))\n",
    "X_test_u = X_test_u.reshape((n, 1))\n",
    "print(X_train_u.shape)\n",
    "print(X_test_u.shape)\n",
    "print(y_train_u.shape)\n",
    "print(y_test_u.shape)"
   ]
  },
  {
   "cell_type": "code",
   "execution_count": 343,
   "id": "ae4d6008",
   "metadata": {},
   "outputs": [],
   "source": [
    "m = X_train_u.shape[0]\n",
    "n = X_test_u.shape[0]"
   ]
  },
  {
   "cell_type": "code",
   "execution_count": 344,
   "id": "72f0b109",
   "metadata": {},
   "outputs": [
    {
     "data": {
      "text/plain": [
       "(249, 2)"
      ]
     },
     "execution_count": 344,
     "metadata": {},
     "output_type": "execute_result"
    }
   ],
   "source": [
    "#run only once\n",
    "\n",
    "X_0_u = np.ones((m, 1))\n",
    "X_0_u.shape\n",
    "X_train_u = np.hstack((X_train_u, X_0_u))\n",
    "X_train_u.shape\n"
   ]
  },
  {
   "cell_type": "code",
   "execution_count": 345,
   "id": "70ca0b4b",
   "metadata": {},
   "outputs": [],
   "source": [
    "def predict(X_m, theta):\n",
    "    return np.dot(X_m, theta)\n",
    "    "
   ]
  },
  {
   "cell_type": "code",
   "execution_count": 346,
   "id": "ec56275b",
   "metadata": {},
   "outputs": [],
   "source": [
    "def getClosedForm(X_m, y):\n",
    "    y = np.mat(y)\n",
    "    p_1 = np.dot(X_m.T, X_m)\n",
    "    p_2 = np.dot(X_m.T, y)\n",
    "    \n",
    "    theta = np.linalg.pinv(p_1) * p_2\n",
    "    return theta"
   ]
  },
  {
   "cell_type": "code",
   "execution_count": 347,
   "id": "27a76ba5",
   "metadata": {},
   "outputs": [],
   "source": [
    "# X_0_u = np.ones((m, 1))\n",
    "# X_train_u = np.hstack((X_train_u, X_0_u))\n",
    "\n",
    "\n"
   ]
  },
  {
   "cell_type": "code",
   "execution_count": 348,
   "id": "a825c358",
   "metadata": {},
   "outputs": [
    {
     "name": "stdout",
     "output_type": "stream",
     "text": [
      "(249, 2)\n"
     ]
    }
   ],
   "source": [
    "print(X_train_u.shape)"
   ]
  },
  {
   "cell_type": "code",
   "execution_count": 349,
   "id": "78b3143b",
   "metadata": {},
   "outputs": [
    {
     "name": "stdout",
     "output_type": "stream",
     "text": [
      "Theta values :  [[0.98627147]\n",
      " [0.31590181]]\n"
     ]
    },
    {
     "data": {
      "text/plain": [
       "(2, 1)"
      ]
     },
     "execution_count": 349,
     "metadata": {},
     "output_type": "execute_result"
    }
   ],
   "source": [
    "theta_u = getClosedForm(X_train_u, y_train_u)\n",
    "print(\"Theta values : \", theta_u)\n",
    "theta_u.shape\n"
   ]
  },
  {
   "cell_type": "code",
   "execution_count": 350,
   "id": "93dc63b7",
   "metadata": {},
   "outputs": [],
   "source": [
    "X_0_u = np.ones((m + n, 1))\n",
    "X_u_1 = np.hstack((X_u, X_0_u))\n"
   ]
  },
  {
   "cell_type": "code",
   "execution_count": 351,
   "id": "35a68d95",
   "metadata": {},
   "outputs": [],
   "source": [
    "y_pred = predict(X_u_1, theta_u)"
   ]
  },
  {
   "cell_type": "code",
   "execution_count": 352,
   "id": "020b2bd0",
   "metadata": {},
   "outputs": [
    {
     "name": "stdout",
     "output_type": "stream",
     "text": [
      "(357, 1)\n"
     ]
    }
   ],
   "source": [
    "print(y_pred.shape)"
   ]
  },
  {
   "cell_type": "code",
   "execution_count": 353,
   "id": "fc8959e6",
   "metadata": {},
   "outputs": [
    {
     "name": "stdout",
     "output_type": "stream",
     "text": [
      "[[10]\n",
      " [12]\n",
      " [ 9]\n",
      " [ 9]\n",
      " [ 8]]\n"
     ]
    }
   ],
   "source": [
    "print(X_test_u[:5])"
   ]
  },
  {
   "cell_type": "code",
   "execution_count": 354,
   "id": "1a255a11",
   "metadata": {},
   "outputs": [
    {
     "name": "stdout",
     "output_type": "stream",
     "text": [
      "0.5039882203608324\n"
     ]
    }
   ],
   "source": [
    "cost = mse(X_u_1, y_u, theta_u)\n",
    "print(cost)"
   ]
  },
  {
   "cell_type": "code",
   "execution_count": 355,
   "id": "4c590fc7",
   "metadata": {},
   "outputs": [
    {
     "data": {
      "image/png": "[encoded data removed]",
      "text/plain": [
       "<Figure size 432x288 with 1 Axes>"
      ]
     },
     "metadata": {
      "needs_background": "light"
     },
     "output_type": "display_data"
    }
   ],
   "source": [
    "plt.figure()\n",
    "plt.scatter(X_u, y_u)\n",
    "plt.plot(X_u, y_pred, color = \"red\", label = \"prediction\")\n",
    "plt.legend()\n",
    "plt.xlabel(\"X\")\n",
    "plt.ylabel(\"y\")\n",
    "plt.title(\"Prediction graph\")\n",
    "plt.show()"
   ]
  },
  {
   "cell_type": "code",
   "execution_count": 356,
   "id": "77883397",
   "metadata": {},
   "outputs": [],
   "source": [
    "X_0_u = np.ones((n, 1))\n",
    "X_test_u = np.hstack((X_test_u, X_0_u))"
   ]
  },
  {
   "cell_type": "code",
   "execution_count": 357,
   "id": "6a7b8b23",
   "metadata": {},
   "outputs": [
    {
     "name": "stdout",
     "output_type": "stream",
     "text": [
      "Accuracy of the model is :  49.07 %\n"
     ]
    }
   ],
   "source": [
    "acc = accuracy(X_test_u, y_test_u, theta_u)"
   ]
  },
  {
   "cell_type": "code",
   "execution_count": null,
   "id": "8ce25500",
   "metadata": {},
   "outputs": [],
   "source": []
  },
  {
   "cell_type": "code",
   "execution_count": 358,
   "id": "39d1ac7a",
   "metadata": {},
   "outputs": [],
   "source": [
    "                                #Closed Form Multivariate"
   ]
  },
  {
   "cell_type": "code",
   "execution_count": null,
   "id": "99b3d65d",
   "metadata": {},
   "outputs": [],
   "source": []
  },
  {
   "cell_type": "code",
   "execution_count": 359,
   "id": "6e3f4a69",
   "metadata": {},
   "outputs": [],
   "source": [
    "\n",
    "X_col = merged_df[[\"G1\", \"G2\"]].values\n",
    "y_col = merged_df[[\"G3\"]].values\n",
    "m = X_col.shape[0]\n",
    "multi_df = merged_df"
   ]
  },
  {
   "cell_type": "code",
   "execution_count": 360,
   "id": "df127183",
   "metadata": {},
   "outputs": [
    {
     "name": "stdout",
     "output_type": "stream",
     "text": [
      "(249, 2)\n",
      "(108, 2)\n",
      "(249, 1)\n",
      "(108, 1)\n"
     ]
    }
   ],
   "source": [
    "multi_df = merged_df.sample(frac=1)\n",
    "\n",
    "train_size = int(0.7 * len(multi_df))\n",
    "# Split your dataset \n",
    "X_train_m = X_col[:train_size]\n",
    "X_test_m = X_col[train_size:]\n",
    "y_train_m = y_col[:train_size]\n",
    "y_test_m = y_col[train_size:]\n",
    "\n",
    "#Lets create a matrix with single column of ones\n",
    "\n",
    "\n",
    "m = X_train_m.shape[0]\n",
    "n = X_test_m.shape[0]\n",
    "X_u0 = np.ones((m, 1))\n",
    "X_u0[:5]\n",
    "\n",
    "print(X_train_u.shape)\n",
    "print(X_test_u.shape)\n",
    "print(y_train_u.shape)\n",
    "print(y_test_u.shape)"
   ]
  },
  {
   "cell_type": "code",
   "execution_count": 361,
   "id": "221e57de",
   "metadata": {},
   "outputs": [],
   "source": [
    "# X_col = X_col.reshape(X_col.shape[0], 2)\n",
    "# y_col = y_col.reshape((-1, 1))"
   ]
  },
  {
   "cell_type": "code",
   "execution_count": 362,
   "id": "edd859b4",
   "metadata": {},
   "outputs": [
    {
     "data": {
      "text/plain": [
       "(276, 3)"
      ]
     },
     "execution_count": 362,
     "metadata": {},
     "output_type": "execute_result"
    }
   ],
   "source": [
    "X_0 = np.ones((m, 1))\n",
    "X_train_m = np.hstack((X_train_m, X_0))\n",
    "X_train_m.shape"
   ]
  },
  {
   "cell_type": "code",
   "execution_count": 363,
   "id": "1d71f67c",
   "metadata": {},
   "outputs": [
    {
     "name": "stdout",
     "output_type": "stream",
     "text": [
      "[[ 5.  6.  1.]\n",
      " [ 5.  5.  1.]\n",
      " [ 7.  8.  1.]\n",
      " [15. 14.  1.]\n",
      " [ 6. 10.  1.]]\n"
     ]
    }
   ],
   "source": [
    "print(X_train_m[:5])"
   ]
  },
  {
   "cell_type": "code",
   "execution_count": 364,
   "id": "190342f6",
   "metadata": {},
   "outputs": [],
   "source": [
    "def predict(X_col, theta):\n",
    "    return np.dot(X_col, theta)"
   ]
  },
  {
   "cell_type": "code",
   "execution_count": 365,
   "id": "39e8d299",
   "metadata": {},
   "outputs": [],
   "source": [
    "def getClosedForm(X_col, y_col):\n",
    "    print(y_col.shape)\n",
    "    y_col = np.mat(y_col)\n",
    "    print(y_col.shape)\n",
    "    p_1 = np.dot(X_col.T, X_col)\n",
    "    p_2 = np.dot(X_col.T, y_col)\n",
    "    \n",
    "    theta = np.linalg.pinv(p_1) * p_2\n",
    "    return theta"
   ]
  },
  {
   "cell_type": "code",
   "execution_count": 366,
   "id": "f4c0a7e5",
   "metadata": {},
   "outputs": [
    {
     "name": "stdout",
     "output_type": "stream",
     "text": [
      "(276, 1)\n",
      "(276, 1)\n",
      "Theta values :  [[ 0.11973921]\n",
      " [ 0.98213737]\n",
      " [-1.25343076]]\n"
     ]
    },
    {
     "data": {
      "text/plain": [
       "(3, 1)"
      ]
     },
     "execution_count": 366,
     "metadata": {},
     "output_type": "execute_result"
    }
   ],
   "source": [
    "theta_closed_m = getClosedForm(X_train_m, y_train_m)\n",
    "print(\"Theta values : \", theta_closed_m)\n",
    "theta_closed_m.shape"
   ]
  },
  {
   "cell_type": "code",
   "execution_count": 367,
   "id": "6fe0fef2",
   "metadata": {},
   "outputs": [],
   "source": [
    "#Pending task : have to plot graph for multivariate :( and train and test data "
   ]
  },
  {
   "cell_type": "code",
   "execution_count": 368,
   "id": "06c9a59c",
   "metadata": {},
   "outputs": [],
   "source": [
    "def mse(X, y, theta):\n",
    "    predictions = X.dot(theta)\n",
    "    errors = np.subtract(predictions, y)\n",
    "    sqrErrors = np.square(errors)\n",
    "    J = 1 / (2 * m) * np.sum(sqrErrors)\n",
    "\n",
    "    return J"
   ]
  },
  {
   "cell_type": "code",
   "execution_count": 369,
   "id": "6746ccfb",
   "metadata": {},
   "outputs": [],
   "source": [
    "X_0 = np.ones((n, 1))\n",
    "X_test_m = np.hstack((X_test_m, X_0))"
   ]
  },
  {
   "cell_type": "code",
   "execution_count": 370,
   "id": "6f612710",
   "metadata": {},
   "outputs": [
    {
     "name": "stdout",
     "output_type": "stream",
     "text": [
      "1.2958291788964833\n"
     ]
    }
   ],
   "source": [
    "cost = mse(X_test_m, y_test_m, theta_closed_m)\n",
    "print(cost)"
   ]
  },
  {
   "cell_type": "code",
   "execution_count": 371,
   "id": "fec72002",
   "metadata": {},
   "outputs": [
    {
     "name": "stdout",
     "output_type": "stream",
     "text": [
      "Accuracy of the model is :  -35.29 %\n"
     ]
    }
   ],
   "source": [
    "acc = accuracy(X_test_m, y_test_m, theta_closed_m)"
   ]
  },
  {
   "cell_type": "code",
   "execution_count": null,
   "id": "0f89de6d",
   "metadata": {},
   "outputs": [],
   "source": []
  },
  {
   "cell_type": "code",
   "execution_count": 372,
   "id": "f954ad9f",
   "metadata": {},
   "outputs": [],
   "source": [
    "                                #Closed Form Multivariate all features"
   ]
  },
  {
   "cell_type": "code",
   "execution_count": 373,
   "id": "3c09594b",
   "metadata": {},
   "outputs": [],
   "source": [
    "X_col_all = merged_df.drop([\"G3\"], 1).values\n",
    "y_col_all = merged_df[[\"G3\"]].values"
   ]
  },
  {
   "cell_type": "code",
   "execution_count": 374,
   "id": "fa8c075c",
   "metadata": {},
   "outputs": [
    {
     "name": "stdout",
     "output_type": "stream",
     "text": [
      "(395, 17)\n",
      "(395, 1)\n"
     ]
    }
   ],
   "source": [
    "print(X_col_all.shape)\n",
    "print(y_col_all.shape)"
   ]
  },
  {
   "cell_type": "code",
   "execution_count": 375,
   "id": "7a86aa45",
   "metadata": {},
   "outputs": [
    {
     "name": "stdout",
     "output_type": "stream",
     "text": [
      "(276, 17)\n",
      "(119, 17)\n",
      "(276, 1)\n",
      "(119, 1)\n"
     ]
    }
   ],
   "source": [
    "multi_df_all = merged_df.sample(frac=1)\n",
    "\n",
    "train_size = int(0.7 * len(multi_df_all))\n",
    "# Split your dataset \n",
    "X_train_all = X_col_all[:train_size]\n",
    "X_test_all = X_col_all[train_size:]\n",
    "y_train_all = y_col_all[:train_size]\n",
    "y_test_all = y_col_all[train_size:]\n",
    "\n",
    "#Lets create a matrix with single column of ones\n",
    "\n",
    "\n",
    "m = X_train_all.shape[0]\n",
    "n = X_test_all.shape[0]\n",
    "X_u0 = np.ones((m, 1))\n",
    "X_u0[:5]\n",
    "\n",
    "print(X_train_all.shape)\n",
    "print(X_test_all.shape)\n",
    "print(y_train_all.shape)\n",
    "print(y_test_all.shape)\n"
   ]
  },
  {
   "cell_type": "code",
   "execution_count": 376,
   "id": "cc6fbb0c",
   "metadata": {},
   "outputs": [
    {
     "data": {
      "text/plain": [
       "(276, 18)"
      ]
     },
     "execution_count": 376,
     "metadata": {},
     "output_type": "execute_result"
    }
   ],
   "source": [
    "X_0 = np.ones((m, 1))\n",
    "X_train_all = np.hstack((X_train_all, X_0))\n",
    "X_train_all.shape"
   ]
  },
  {
   "cell_type": "code",
   "execution_count": 377,
   "id": "92e8e3e5",
   "metadata": {},
   "outputs": [
    {
     "name": "stdout",
     "output_type": "stream",
     "text": [
      "[[18.  4.  4.  2.  0.  3.  4.  3.  6.  5.  6.  0.  0.  1.  0.  1.  1.  1.]\n",
      " [17.  1.  1.  2.  0.  3.  3.  3.  4.  5.  5.  0.  0.  1.  0.  0.  1.  1.]\n",
      " [15.  1.  1.  2.  3.  3.  2.  3. 10.  7.  8.  0.  0.  1.  0.  1.  1.  1.]\n",
      " [15.  4.  2.  3.  0.  2.  2.  5.  2. 15. 14.  0.  0.  1.  1.  1.  1.  1.]\n",
      " [16.  3.  3.  2.  0.  3.  2.  5.  4.  6. 10.  0.  0.  1.  0.  1.  1.  1.]]\n"
     ]
    }
   ],
   "source": [
    "print(X_train_all[:5])"
   ]
  },
  {
   "cell_type": "code",
   "execution_count": 378,
   "id": "caa40b34",
   "metadata": {},
   "outputs": [
    {
     "name": "stdout",
     "output_type": "stream",
     "text": [
      "(276, 1)\n",
      "(276, 1)\n",
      "Theta values :  [[ 3.15545762e-02]\n",
      " [ 1.31123242e-01]\n",
      " [-1.45443597e-01]\n",
      " [-2.48953185e-01]\n",
      " [-2.99572976e-01]\n",
      " [ 2.11604989e-02]\n",
      " [-4.68639836e-02]\n",
      " [ 2.89674170e-02]\n",
      " [ 2.54902364e-02]\n",
      " [ 9.97280717e-02]\n",
      " [ 9.68463782e-01]\n",
      " [-1.10762425e-16]\n",
      " [ 6.16407883e-02]\n",
      " [-9.30359547e-02]\n",
      " [-1.14443803e-01]\n",
      " [-2.74583891e-01]\n",
      " [ 9.94482142e-01]\n",
      " [-1.58020438e+00]]\n"
     ]
    },
    {
     "data": {
      "text/plain": [
       "(18, 1)"
      ]
     },
     "execution_count": 378,
     "metadata": {},
     "output_type": "execute_result"
    }
   ],
   "source": [
    "theta_closed_all = getClosedForm(X_train_all, y_train_all)\n",
    "print(\"Theta values : \", theta_closed_all)\n",
    "theta_closed_all.shape"
   ]
  },
  {
   "cell_type": "code",
   "execution_count": 379,
   "id": "315c2f52",
   "metadata": {},
   "outputs": [],
   "source": [
    "X_0 = np.ones((n, 1))\n",
    "X_test_all = np.hstack((X_test_all, X_0))"
   ]
  },
  {
   "cell_type": "code",
   "execution_count": 380,
   "id": "879e51eb",
   "metadata": {},
   "outputs": [
    {
     "name": "stdout",
     "output_type": "stream",
     "text": [
      "1.303762422850406\n"
     ]
    }
   ],
   "source": [
    "cost = mse(X_test_all, y_test_all, theta_closed_all)\n",
    "print(cost)"
   ]
  },
  {
   "cell_type": "code",
   "execution_count": 381,
   "id": "db015531",
   "metadata": {},
   "outputs": [
    {
     "name": "stdout",
     "output_type": "stream",
     "text": [
      "Accuracy of the model is :  -38.66 %\n"
     ]
    }
   ],
   "source": [
    "acc = accuracy(X_test_all, y_test_all, theta_closed_all)"
   ]
  },
  {
   "cell_type": "code",
   "execution_count": null,
   "id": "8065aa46",
   "metadata": {},
   "outputs": [],
   "source": []
  },
  {
   "cell_type": "code",
   "execution_count": null,
   "id": "76c60a38",
   "metadata": {},
   "outputs": [],
   "source": []
  }
 ],
 "metadata": {
  "kernelspec": {
   "display_name": "Python 3",
   "language": "python",
   "name": "python3"
  },
  "language_info": {
   "codemirror_mode": {
    "name": "ipython",
    "version": 3
   },
   "file_extension": ".py",
   "mimetype": "text/x-python",
   "name": "python",
   "nbconvert_exporter": "python",
   "pygments_lexer": "ipython3",
   "version": "3.8.8"
  }
 },
 "nbformat": 4,
 "nbformat_minor": 5
}
