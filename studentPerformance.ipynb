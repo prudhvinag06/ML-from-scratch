{
 "cells": [
  {
   "cell_type": "code",
   "execution_count": 1,
   "id": "9ce2e404",
   "metadata": {},
   "outputs": [],
   "source": [
    "# DATA PREPROCESSING STAGE "
   ]
  },
  {
   "cell_type": "code",
   "execution_count": 132,
   "id": "7cb23eae",
   "metadata": {},
   "outputs": [],
   "source": [
    "import numpy as np\n",
    "import pandas as pd\n",
    "import matplotlib.pyplot as plt\n",
    "main_df = pd.read_csv(\"student.csv\")"
   ]
  },
  {
   "cell_type": "code",
   "execution_count": 133,
   "id": "b7e52bec",
   "metadata": {},
   "outputs": [
    {
     "name": "stdout",
     "output_type": "stream",
     "text": [
      "18\n"
     ]
    }
   ],
   "source": [
    "main_df.head(20)\n",
    "print(len(main_df.columns))"
   ]
  },
  {
   "cell_type": "code",
   "execution_count": 134,
   "id": "7d53fc3a",
   "metadata": {},
   "outputs": [
    {
     "data": {
      "text/plain": [
       "school         0\n",
       "sex            0\n",
       "age           15\n",
       "address        0\n",
       "Medu           0\n",
       "Fedu           0\n",
       "studytime      0\n",
       "failures       0\n",
       "activities     0\n",
       "nursery        0\n",
       "higher         0\n",
       "freetime       0\n",
       "goout          0\n",
       "health         0\n",
       "absences       0\n",
       "G1             0\n",
       "G2             0\n",
       "G3             0\n",
       "dtype: int64"
      ]
     },
     "execution_count": 134,
     "metadata": {},
     "output_type": "execute_result"
    }
   ],
   "source": [
    "main_df.isna().sum()"
   ]
  },
  {
   "cell_type": "code",
   "execution_count": 135,
   "id": "f4fa95c2",
   "metadata": {},
   "outputs": [
    {
     "data": {
      "text/plain": [
       "16.0    97\n",
       "17.0    97\n",
       "15.0    79\n",
       "18.0    79\n",
       "19.0    23\n",
       "20.0     3\n",
       "21.0     1\n",
       "22.0     1\n",
       "Name: age, dtype: int64"
      ]
     },
     "execution_count": 135,
     "metadata": {},
     "output_type": "execute_result"
    }
   ],
   "source": [
    "main_df[\"age\"].value_counts() ##here according to data there are two students with outlier values. (21, 22). \n",
    "## So that can deviate the mean by some amount. So we can consider median over mean for this feature to fill the na \n",
    "## values"
   ]
  },
  {
   "cell_type": "code",
   "execution_count": 136,
   "id": "08aa52bc",
   "metadata": {},
   "outputs": [
    {
     "name": "stdout",
     "output_type": "stream",
     "text": [
      "mean :  16.705263157894738\n",
      "median :  17.0\n"
     ]
    }
   ],
   "source": [
    "age_mean = main_df['age'].mean()\n",
    "age_median = main_df['age'].median()\n",
    "\n",
    "print(\"mean : \", age_mean)\n",
    "print(\"median : \", age_median)\n",
    "\n",
    "## mean value is less here than median. So there is very little deviation of mean due to outliers. So we use mean to fill the data."
   ]
  },
  {
   "cell_type": "code",
   "execution_count": 137,
   "id": "3b64b1ee",
   "metadata": {},
   "outputs": [],
   "source": [
    "main_df[\"age\"].fillna(age_mean, inplace = True) ##now we have removed all the na values."
   ]
  },
  {
   "cell_type": "code",
   "execution_count": 138,
   "id": "bfab565c",
   "metadata": {},
   "outputs": [
    {
     "data": {
      "text/plain": [
       "school        0\n",
       "sex           0\n",
       "age           0\n",
       "address       0\n",
       "Medu          0\n",
       "Fedu          0\n",
       "studytime     0\n",
       "failures      0\n",
       "activities    0\n",
       "nursery       0\n",
       "higher        0\n",
       "freetime      0\n",
       "goout         0\n",
       "health        0\n",
       "absences      0\n",
       "G1            0\n",
       "G2            0\n",
       "G3            0\n",
       "dtype: int64"
      ]
     },
     "execution_count": 138,
     "metadata": {},
     "output_type": "execute_result"
    }
   ],
   "source": [
    "main_df.isna().sum()"
   ]
  },
  {
   "cell_type": "code",
   "execution_count": 139,
   "id": "70dff988",
   "metadata": {},
   "outputs": [
    {
     "name": "stdout",
     "output_type": "stream",
     "text": [
      "Categorial Data :  Index(['school', 'sex', 'address', 'activities', 'nursery', 'higher'], dtype='object')\n"
     ]
    }
   ],
   "source": [
    "cat_columns = main_df.select_dtypes(exclude=[\"number\",\"bool_\"])\n",
    "print(\"Categorial Data : \", cat_columns.columns)\n"
   ]
  },
  {
   "cell_type": "code",
   "execution_count": 140,
   "id": "3000bc43",
   "metadata": {},
   "outputs": [
    {
     "name": "stdout",
     "output_type": "stream",
     "text": [
      "['GP' 'MS']\n",
      "['F' 'M']\n",
      "['U' 'R']\n",
      "['no' 'yes']\n",
      "['yes' 'no']\n",
      "['yes' 'no']\n"
     ]
    }
   ],
   "source": [
    "print(main_df[\"school\"].unique())\n",
    "print(main_df[\"sex\"].unique())\n",
    "print(main_df[\"address\"].unique())\n",
    "print(main_df[\"activities\"].unique())\n",
    "print(main_df[\"nursery\"].unique())\n",
    "print(main_df[\"higher\"].unique())"
   ]
  },
  {
   "cell_type": "code",
   "execution_count": 141,
   "id": "c3c91d7d",
   "metadata": {},
   "outputs": [
    {
     "name": "stdout",
     "output_type": "stream",
     "text": [
      "GP    349\n",
      "MS     46\n",
      "Name: school, dtype: int64\n",
      "F    208\n",
      "M    187\n",
      "Name: sex, dtype: int64\n",
      "U    307\n",
      "R     88\n",
      "Name: address, dtype: int64\n",
      "yes    201\n",
      "no     194\n",
      "Name: activities, dtype: int64\n",
      "yes    314\n",
      "no      81\n",
      "Name: nursery, dtype: int64\n",
      "yes    375\n",
      "no      20\n",
      "Name: higher, dtype: int64\n"
     ]
    }
   ],
   "source": [
    "print(main_df[\"school\"].value_counts())\n",
    "print(main_df[\"sex\"].value_counts())\n",
    "print(main_df[\"address\"].value_counts())\n",
    "print(main_df[\"activities\"].value_counts())\n",
    "print(main_df[\"nursery\"].value_counts())\n",
    "print(main_df[\"higher\"].value_counts())"
   ]
  },
  {
   "cell_type": "code",
   "execution_count": 142,
   "id": "5cf4a0ac",
   "metadata": {},
   "outputs": [],
   "source": [
    "school_encode = pd.get_dummies(main_df.school)\n",
    "sex_encode = pd.get_dummies(main_df.sex)\n",
    "address_encode = pd.get_dummies(main_df.address)\n",
    "activities_encode = pd.get_dummies(main_df.activities)\n",
    "nursery_encode = pd.get_dummies(main_df.nursery)\n",
    "higher_encode = pd.get_dummies(main_df.higher)"
   ]
  },
  {
   "cell_type": "code",
   "execution_count": 143,
   "id": "10411a06",
   "metadata": {},
   "outputs": [],
   "source": [
    "merged_df = pd.concat([main_df, school_encode, sex_encode, address_encode, activities_encode, nursery_encode, higher_encode], axis = 'columns')"
   ]
  },
  {
   "cell_type": "code",
   "execution_count": 144,
   "id": "6d365a11",
   "metadata": {},
   "outputs": [
    {
     "data": {
      "text/plain": [
       "Index(['school', 'sex', 'age', 'address', 'Medu', 'Fedu', 'studytime',\n",
       "       'failures', 'activities', 'nursery', 'higher', 'freetime', 'goout',\n",
       "       'health', 'absences', 'G1', 'G2', 'G3', 'GP', 'MS', 'F', 'M', 'R', 'U',\n",
       "       'no', 'yes', 'no', 'yes', 'no', 'yes'],\n",
       "      dtype='object')"
      ]
     },
     "execution_count": 144,
     "metadata": {},
     "output_type": "execute_result"
    }
   ],
   "source": [
    "merged_df.columns"
   ]
  },
  {
   "cell_type": "code",
   "execution_count": 145,
   "id": "c01657b9",
   "metadata": {},
   "outputs": [],
   "source": [
    "merged_df.drop(['school', 'sex', 'address', 'nursery', 'higher', 'activities', 'F', 'R', 'no', 'no', 'no', 'GP'], axis = 'columns', inplace = True)"
   ]
  },
  {
   "cell_type": "code",
   "execution_count": 146,
   "id": "1ca9858d",
   "metadata": {},
   "outputs": [
    {
     "name": "stdout",
     "output_type": "stream",
     "text": [
      "Categorial Data :  Index([], dtype='object')\n"
     ]
    }
   ],
   "source": [
    "cat_columns = merged_df.select_dtypes(exclude=[\"number\",\"bool_\"])\n",
    "print(\"Categorial Data : \", cat_columns.columns)"
   ]
  },
  {
   "cell_type": "code",
   "execution_count": 147,
   "id": "b23105bc",
   "metadata": {},
   "outputs": [
    {
     "data": {
      "text/plain": [
       "Int64Index([], dtype='int64')"
      ]
     },
     "execution_count": 147,
     "metadata": {},
     "output_type": "execute_result"
    }
   ],
   "source": [
    "merged_df.index[merged_df.duplicated()]    #no duplicate rows"
   ]
  },
  {
   "cell_type": "code",
   "execution_count": 148,
   "id": "99c18f46",
   "metadata": {},
   "outputs": [
    {
     "data": {
      "text/plain": [
       "age          395\n",
       "Medu         395\n",
       "Fedu         395\n",
       "studytime    395\n",
       "failures     395\n",
       "freetime     395\n",
       "goout        395\n",
       "health       395\n",
       "absences     395\n",
       "G1           395\n",
       "G2           395\n",
       "MS           395\n",
       "M            395\n",
       "U            395\n",
       "yes          395\n",
       "yes          395\n",
       "yes          395\n",
       "dtype: int64"
      ]
     },
     "execution_count": 148,
     "metadata": {},
     "output_type": "execute_result"
    }
   ],
   "source": [
    "main_df = merged_df\n",
    "X = main_df.drop(\"G3\", axis = \"columns\")\n",
    "y = main_df[\"G3\"]\n",
    "X.count()"
   ]
  },
  {
   "cell_type": "code",
   "execution_count": 149,
   "id": "a6ff8854",
   "metadata": {},
   "outputs": [],
   "source": [
    "                                    # using sklearn"
   ]
  },
  {
   "cell_type": "code",
   "execution_count": 150,
   "id": "069a909e",
   "metadata": {},
   "outputs": [],
   "source": [
    "# from sklearn.model_selection import train_test_split\n",
    "# X_train, X_test, y_train, y_test = train_test_split(X, y, train_size = 0.8)"
   ]
  },
  {
   "cell_type": "code",
   "execution_count": 151,
   "id": "6dab6365",
   "metadata": {},
   "outputs": [],
   "source": [
    "# from sklearn.linear_model import LinearRegression\n",
    "# clf = LinearRegression()\n",
    "# clf.fit(X_train, y_train)"
   ]
  },
  {
   "cell_type": "code",
   "execution_count": 152,
   "id": "696e435a",
   "metadata": {},
   "outputs": [],
   "source": [
    "# clf.predict(X_test)"
   ]
  },
  {
   "cell_type": "code",
   "execution_count": 153,
   "id": "07b19eb2",
   "metadata": {},
   "outputs": [],
   "source": [
    "# clf.score(X_test, y_test)"
   ]
  },
  {
   "cell_type": "code",
   "execution_count": 154,
   "id": "85aabc6f",
   "metadata": {},
   "outputs": [],
   "source": [
    "                                    #  a.univariate Regression"
   ]
  },
  {
   "cell_type": "code",
   "execution_count": 155,
   "id": "90aaa4ce",
   "metadata": {},
   "outputs": [
    {
     "data": {
      "text/html": [
       "<div>\n",
       "<style scoped>\n",
       "    .dataframe tbody tr th:only-of-type {\n",
       "        vertical-align: middle;\n",
       "    }\n",
       "\n",
       "    .dataframe tbody tr th {\n",
       "        vertical-align: top;\n",
       "    }\n",
       "\n",
       "    .dataframe thead th {\n",
       "        text-align: right;\n",
       "    }\n",
       "</style>\n",
       "<table border=\"1\" class=\"dataframe\">\n",
       "  <thead>\n",
       "    <tr style=\"text-align: right;\">\n",
       "      <th></th>\n",
       "      <th>age</th>\n",
       "      <th>Medu</th>\n",
       "      <th>Fedu</th>\n",
       "      <th>studytime</th>\n",
       "      <th>failures</th>\n",
       "      <th>freetime</th>\n",
       "      <th>goout</th>\n",
       "      <th>health</th>\n",
       "      <th>absences</th>\n",
       "      <th>G1</th>\n",
       "      <th>G2</th>\n",
       "      <th>G3</th>\n",
       "      <th>MS</th>\n",
       "      <th>M</th>\n",
       "      <th>U</th>\n",
       "      <th>yes</th>\n",
       "      <th>yes</th>\n",
       "      <th>yes</th>\n",
       "    </tr>\n",
       "  </thead>\n",
       "  <tbody>\n",
       "    <tr>\n",
       "      <th>0</th>\n",
       "      <td>18.0</td>\n",
       "      <td>4</td>\n",
       "      <td>4</td>\n",
       "      <td>2</td>\n",
       "      <td>0</td>\n",
       "      <td>3</td>\n",
       "      <td>4</td>\n",
       "      <td>3</td>\n",
       "      <td>6</td>\n",
       "      <td>5</td>\n",
       "      <td>6</td>\n",
       "      <td>6</td>\n",
       "      <td>0</td>\n",
       "      <td>0</td>\n",
       "      <td>1</td>\n",
       "      <td>0</td>\n",
       "      <td>1</td>\n",
       "      <td>1</td>\n",
       "    </tr>\n",
       "    <tr>\n",
       "      <th>1</th>\n",
       "      <td>17.0</td>\n",
       "      <td>1</td>\n",
       "      <td>1</td>\n",
       "      <td>2</td>\n",
       "      <td>0</td>\n",
       "      <td>3</td>\n",
       "      <td>3</td>\n",
       "      <td>3</td>\n",
       "      <td>4</td>\n",
       "      <td>5</td>\n",
       "      <td>5</td>\n",
       "      <td>6</td>\n",
       "      <td>0</td>\n",
       "      <td>0</td>\n",
       "      <td>1</td>\n",
       "      <td>0</td>\n",
       "      <td>0</td>\n",
       "      <td>1</td>\n",
       "    </tr>\n",
       "    <tr>\n",
       "      <th>2</th>\n",
       "      <td>15.0</td>\n",
       "      <td>1</td>\n",
       "      <td>1</td>\n",
       "      <td>2</td>\n",
       "      <td>3</td>\n",
       "      <td>3</td>\n",
       "      <td>2</td>\n",
       "      <td>3</td>\n",
       "      <td>10</td>\n",
       "      <td>7</td>\n",
       "      <td>8</td>\n",
       "      <td>10</td>\n",
       "      <td>0</td>\n",
       "      <td>0</td>\n",
       "      <td>1</td>\n",
       "      <td>0</td>\n",
       "      <td>1</td>\n",
       "      <td>1</td>\n",
       "    </tr>\n",
       "    <tr>\n",
       "      <th>3</th>\n",
       "      <td>15.0</td>\n",
       "      <td>4</td>\n",
       "      <td>2</td>\n",
       "      <td>3</td>\n",
       "      <td>0</td>\n",
       "      <td>2</td>\n",
       "      <td>2</td>\n",
       "      <td>5</td>\n",
       "      <td>2</td>\n",
       "      <td>15</td>\n",
       "      <td>14</td>\n",
       "      <td>15</td>\n",
       "      <td>0</td>\n",
       "      <td>0</td>\n",
       "      <td>1</td>\n",
       "      <td>1</td>\n",
       "      <td>1</td>\n",
       "      <td>1</td>\n",
       "    </tr>\n",
       "    <tr>\n",
       "      <th>4</th>\n",
       "      <td>16.0</td>\n",
       "      <td>3</td>\n",
       "      <td>3</td>\n",
       "      <td>2</td>\n",
       "      <td>0</td>\n",
       "      <td>3</td>\n",
       "      <td>2</td>\n",
       "      <td>5</td>\n",
       "      <td>4</td>\n",
       "      <td>6</td>\n",
       "      <td>10</td>\n",
       "      <td>10</td>\n",
       "      <td>0</td>\n",
       "      <td>0</td>\n",
       "      <td>1</td>\n",
       "      <td>0</td>\n",
       "      <td>1</td>\n",
       "      <td>1</td>\n",
       "    </tr>\n",
       "  </tbody>\n",
       "</table>\n",
       "</div>"
      ],
      "text/plain": [
       "    age  Medu  Fedu  studytime  failures  freetime  goout  health  absences  \\\n",
       "0  18.0     4     4          2         0         3      4       3         6   \n",
       "1  17.0     1     1          2         0         3      3       3         4   \n",
       "2  15.0     1     1          2         3         3      2       3        10   \n",
       "3  15.0     4     2          3         0         2      2       5         2   \n",
       "4  16.0     3     3          2         0         3      2       5         4   \n",
       "\n",
       "   G1  G2  G3  MS  M  U  yes  yes  yes  \n",
       "0   5   6   6   0  0  1    0    1    1  \n",
       "1   5   5   6   0  0  1    0    0    1  \n",
       "2   7   8  10   0  0  1    0    1    1  \n",
       "3  15  14  15   0  0  1    1    1    1  \n",
       "4   6  10  10   0  0  1    0    1    1  "
      ]
     },
     "execution_count": 155,
     "metadata": {},
     "output_type": "execute_result"
    }
   ],
   "source": [
    "temp_df = main_df\n",
    "uni_df = main_df\n",
    "uni_df.head()"
   ]
  },
  {
   "cell_type": "code",
   "execution_count": 156,
   "id": "4de09fbb",
   "metadata": {},
   "outputs": [
    {
     "name": "stdout",
     "output_type": "stream",
     "text": [
      "                age      Medu      Fedu  studytime  failures  freetime  \\\n",
      "age        1.000000 -0.152649 -0.166807  -0.001676  0.238560  0.027058   \n",
      "Medu      -0.152649  1.000000  0.623455   0.064944 -0.236680  0.030891   \n",
      "Fedu      -0.166807  0.623455  1.000000  -0.009175 -0.250408 -0.012846   \n",
      "studytime -0.001676  0.064944 -0.009175   1.000000 -0.173563 -0.143198   \n",
      "failures   0.238560 -0.236680 -0.250408  -0.173563  1.000000  0.091987   \n",
      "freetime   0.027058  0.030891 -0.012846  -0.143198  0.091987  1.000000   \n",
      "goout      0.116352  0.064094  0.043105  -0.063904  0.124561  0.285019   \n",
      "health    -0.083509 -0.046878  0.014742  -0.075616  0.065827  0.075733   \n",
      "absences   0.174466  0.100285  0.024473  -0.062700  0.063726 -0.058078   \n",
      "G1        -0.042011  0.205341  0.190270   0.160612 -0.354718  0.012613   \n",
      "G2        -0.122977  0.215527  0.164893   0.135880 -0.355896 -0.013777   \n",
      "G3        -0.145641  0.217147  0.152457   0.097820 -0.360415  0.011307   \n",
      "MS         0.351007 -0.133333 -0.079807  -0.090681  0.059804  0.032988   \n",
      "M         -0.030997  0.078228  0.034878  -0.306268  0.044436  0.238744   \n",
      "U         -0.139767  0.138804  0.072178  -0.020912 -0.078578  0.034878   \n",
      "yes       -0.089467  0.108277  0.112643   0.089877 -0.069341  0.089728   \n",
      "yes       -0.093642  0.193263  0.157177   0.081325 -0.100734 -0.024696   \n",
      "yes       -0.211184  0.168845  0.174566   0.175081 -0.300316 -0.061244   \n",
      "\n",
      "              goout    health  absences        G1        G2        G3  \\\n",
      "age        0.116352 -0.083509  0.174466 -0.042011 -0.122977 -0.145641   \n",
      "Medu       0.064094 -0.046878  0.100285  0.205341  0.215527  0.217147   \n",
      "Fedu       0.043105  0.014742  0.024473  0.190270  0.164893  0.152457   \n",
      "studytime -0.063904 -0.075616 -0.062700  0.160612  0.135880  0.097820   \n",
      "failures   0.124561  0.065827  0.063726 -0.354718 -0.355896 -0.360415   \n",
      "freetime   0.285019  0.075733 -0.058078  0.012613 -0.013777  0.011307   \n",
      "goout      1.000000 -0.009577  0.044302 -0.149104 -0.162250 -0.132791   \n",
      "health    -0.009577  1.000000 -0.029937 -0.073172 -0.097720 -0.061335   \n",
      "absences   0.044302 -0.029937  1.000000 -0.031003 -0.031777  0.034247   \n",
      "G1        -0.149104 -0.073172 -0.031003  1.000000  0.852118  0.801468   \n",
      "G2        -0.162250 -0.097720 -0.031777  0.852118  1.000000  0.904868   \n",
      "G3        -0.132791 -0.061335  0.034247  0.801468  0.904868  1.000000   \n",
      "MS        -0.007152 -0.042651 -0.088480 -0.025731 -0.050086 -0.045017   \n",
      "M          0.075897  0.143588 -0.066962  0.091839  0.091099  0.103456   \n",
      "U          0.068835 -0.040355 -0.027874  0.069704  0.126037  0.105756   \n",
      "yes        0.046088  0.023923 -0.013610  0.057010  0.050552  0.016100   \n",
      "yes        0.004612 -0.018475  0.019155  0.069263  0.068146  0.051568   \n",
      "yes       -0.039700 -0.015895 -0.056085  0.178264  0.179129  0.182465   \n",
      "\n",
      "                 MS         M         U       yes       yes       yes  \n",
      "age        0.351007 -0.030997 -0.139767 -0.089467 -0.093642 -0.211184  \n",
      "Medu      -0.133333  0.078228  0.138804  0.108277  0.193263  0.168845  \n",
      "Fedu      -0.079807  0.034878  0.072178  0.112643  0.157177  0.174566  \n",
      "studytime -0.090681 -0.306268 -0.020912  0.089877  0.081325  0.175081  \n",
      "failures   0.059804  0.044436 -0.078578 -0.069341 -0.100734 -0.300316  \n",
      "freetime   0.032988  0.238744  0.034878  0.089728 -0.024696 -0.061244  \n",
      "goout     -0.007152  0.075897  0.068835  0.046088  0.004612 -0.039700  \n",
      "health    -0.042651  0.143588 -0.040355  0.023923 -0.018475 -0.015895  \n",
      "absences  -0.088480 -0.066962 -0.027874 -0.013610  0.019155 -0.056085  \n",
      "G1        -0.025731  0.091839  0.069704  0.057010  0.069263  0.178264  \n",
      "G2        -0.050086  0.091099  0.126037  0.050552  0.068146  0.179129  \n",
      "G3        -0.045017  0.103456  0.105756  0.016100  0.051568  0.182465  \n",
      "MS         1.000000 -0.012286 -0.279797 -0.116946 -0.089277 -0.024150  \n",
      "M         -0.012286  1.000000 -0.028504  0.099833 -0.008203 -0.151056  \n",
      "U         -0.279797 -0.028504  1.000000 -0.051360  0.059589  0.042854  \n",
      "yes       -0.116946  0.099833 -0.051360  1.000000  0.002731  0.096484  \n",
      "yes       -0.089277 -0.008203  0.059589  0.002731  1.000000  0.054303  \n",
      "yes       -0.024150 -0.151056  0.042854  0.096484  0.054303  1.000000  \n"
     ]
    },
    {
     "data": {
      "text/plain": [
       "(382, 18)"
      ]
     },
     "execution_count": 156,
     "metadata": {},
     "output_type": "execute_result"
    }
   ],
   "source": [
    "corr_matrix = main_df.corr()   #we are checking the correlation matrix to find the relationship between variables. Here G2 has the highest correlation among others so we will pick G2 for now as our independent variable to predict G3\n",
    "print(corr_matrix)\n",
    "main_df = main_df[main_df['G2'] != 0]\n",
    "main_df.shape"
   ]
  },
  {
   "cell_type": "code",
   "execution_count": 157,
   "id": "b1a362d5",
   "metadata": {
    "scrolled": true
   },
   "outputs": [
    {
     "data": {
      "text/plain": [
       "<AxesSubplot:title={'center':'G2 grade VS G3 grade'}, xlabel='G3'>"
      ]
     },
     "execution_count": 157,
     "metadata": {},
     "output_type": "execute_result"
    },
    {
     "data": {
      "image/png": "[encoded data removed]",
      "text/plain": [
       "<Figure size 720x432 with 1 Axes>"
      ]
     },
     "metadata": {
      "needs_background": "light"
     },
     "output_type": "display_data"
    }
   ],
   "source": [
    "main_df.plot(x='G3', y='G2', kind = 'line', title = 'G2 grade VS G3 grade')"
   ]
  },
  {
   "cell_type": "code",
   "execution_count": 158,
   "id": "f4e3cca8",
   "metadata": {
    "scrolled": true
   },
   "outputs": [],
   "source": [
    "X = main_df['G2'].values\n",
    "y = main_df['G3'].values\n"
   ]
  },
  {
   "cell_type": "code",
   "execution_count": 159,
   "id": "90cdc66d",
   "metadata": {},
   "outputs": [
    {
     "name": "stdout",
     "output_type": "stream",
     "text": [
      "(267,)\n",
      "(115,)\n",
      "(267,)\n",
      "(115,)\n"
     ]
    }
   ],
   "source": [
    "\n",
    "main_df = main_df.sample(frac=1)\n",
    "\n",
    "# Define a size for your train set \n",
    "train_size = int(0.7 * len(main_df))\n",
    "\n",
    "# Split your dataset \n",
    "X_train = X[:train_size]\n",
    "X_test = X[train_size:]\n",
    "\n",
    "y_train = y[:train_size]\n",
    "y_test = y[train_size:]\n",
    "print(X_train.shape)\n",
    "print(X_test.shape)\n",
    "\n",
    "print(y_train.shape)\n",
    "print(y_test.shape)"
   ]
  },
  {
   "cell_type": "code",
   "execution_count": 160,
   "id": "39700e3d",
   "metadata": {
    "scrolled": true
   },
   "outputs": [
    {
     "name": "stdout",
     "output_type": "stream",
     "text": [
      "Training examples :  382\n"
     ]
    }
   ],
   "source": [
    "m = len(X)\n",
    "print(\"Training examples : \", m)\n",
    "\n",
    "X = X.reshape(m, 1)\n",
    "y = y.reshape(m, 1)"
   ]
  },
  {
   "cell_type": "code",
   "execution_count": 161,
   "id": "a63a4e35",
   "metadata": {},
   "outputs": [
    {
     "name": "stdout",
     "output_type": "stream",
     "text": [
      "Intercept value :  [[0.98635007]] [[0.98635007]]\n",
      "[893.0399247150707, 493.6818640508112, 275.9842294783222, 156.7710774933165, 91.09660242395015, 54.633936746977824, 34.18735845007694, 22.57804258867485, 15.885231975539558, 11.95649792710857, 9.60218716254881, 8.159021137990011, 7.253088849982867, 6.670698692117751, 6.287691224544226, 6.030523138047575, 5.854679236581908, 5.732579865652351, 5.646724038686884, 5.585742776453763, 5.542086731282784, 5.51064340677354, 5.48789145194488, 5.471371015867106, 5.459344036149195, 5.450571305807924, 5.4441630724812535, 5.4394770508488515, 5.436047703375946, 5.433536568263273, 5.431697009567411, 5.430348999254206, 5.429360963411158, 5.428636651605906, 5.428105605416689, 5.4277162210004475, 5.427430689617945, 5.427221302279762, 5.427067747761461, 5.42695513535493, 5.426872547101465, 5.426811977252864, 5.426767555139591, 5.426734975576328, 5.426711081308167, 5.4266935568744845, 5.426680704139296, 5.426671277691072, 5.4266643641377454, 5.426659293587812, 5.426655574733292, 5.4266528472406215, 5.426650846834391, 5.4266493796896675, 5.4266483036511435, 5.426647514458975, 5.426646935646645, 5.426646511131862, 5.426646199782559, 5.426645971431515, 5.426645803953377, 5.426645681120888, 5.426645591032587, 5.42664552495966, 5.426645476500183, 5.426645440958841, 5.426645414891964, 5.426645395773886, 5.42664538175223, 5.426645371468407, 5.4266453639260055, 5.42664535839423, 5.4266453543370865, 5.42664535136148, 5.426645349179101, 5.426645347578491, 5.426645346404566, 5.426645345543582, 5.4266453449121155, 5.42664534444898, 5.426645344109309, 5.4266453438601845, 5.426645343677469, 5.426645343543463, 5.426645343445178, 5.426645343373098, 5.426645343320228, 5.426645343281454, 5.426645343253015, 5.426645343232159, 5.426645343216862, 5.4266453432056405, 5.426645343197413, 5.426645343191377, 5.426645343186951, 5.426645343183704, 5.426645343181322, 5.42664534317958, 5.426645343178294, 5.426645343177358, 5.42664534317667, 5.426645343176163, 5.426645343175793, 5.426645343175522, 5.426645343175321, 5.426645343175174, 5.426645343175068, 5.426645343174988, 5.426645343174931, 5.42664534317489, 5.426645343174861, 5.426645343174838, 5.42664534317482, 5.4266453431748065, 5.4266453431747985, 5.4266453431747905, 5.426645343174784, 5.426645343174782, 5.426645343174781, 5.426645343174778, 5.426645343174778, 5.426645343174778, 5.426645343174778, 5.426645343174778, 5.426645343174778, 5.426645343174778, 5.426645343174778, 5.426645343174778, 5.426645343174778, 5.426645343174778, 5.426645343174778, 5.426645343174778, 5.426645343174778, 5.426645343174778, 5.426645343174778, 5.426645343174778, 5.426645343174778, 5.426645343174778, 5.426645343174778, 5.426645343174778, 5.426645343174778, 5.426645343174778, 5.426645343174778, 5.426645343174778, 5.426645343174778, 5.426645343174778, 5.426645343174778, 5.426645343174778, 5.426645343174778, 5.426645343174778, 5.426645343174778, 5.426645343174778, 5.426645343174778, 5.426645343174778, 5.426645343174778, 5.426645343174778, 5.426645343174778, 5.426645343174778, 5.426645343174778, 5.426645343174778, 5.426645343174778, 5.426645343174778, 5.426645343174778, 5.426645343174778, 5.426645343174778, 5.426645343174778, 5.426645343174778, 5.426645343174778, 5.426645343174778, 5.426645343174778, 5.426645343174778, 5.426645343174778, 5.426645343174778, 5.426645343174778, 5.426645343174778, 5.426645343174778, 5.426645343174778, 5.426645343174778, 5.426645343174778, 5.426645343174778, 5.426645343174778, 5.426645343174778, 5.426645343174778, 5.426645343174778, 5.426645343174778, 5.426645343174778, 5.426645343174778, 5.426645343174778, 5.426645343174778, 5.426645343174778, 5.426645343174778, 5.426645343174778, 5.426645343174778, 5.426645343174778, 5.426645343174778, 5.426645343174778, 5.426645343174778, 5.426645343174778, 5.426645343174778, 5.426645343174778, 5.426645343174778, 5.426645343174778, 5.426645343174778, 5.426645343174778, 5.426645343174778, 5.426645343174778, 5.426645343174778, 5.426645343174778, 5.426645343174778, 5.426645343174778, 5.426645343174778, 5.426645343174778, 5.426645343174778, 5.426645343174778, 5.426645343174778, 5.426645343174778, 5.426645343174778, 5.426645343174778, 5.426645343174778, 5.426645343174778, 5.426645343174778, 5.426645343174778, 5.426645343174778, 5.426645343174778, 5.426645343174778, 5.426645343174778, 5.426645343174778, 5.426645343174778, 5.426645343174778, 5.426645343174778, 5.426645343174778, 5.426645343174778, 5.426645343174778, 5.426645343174778, 5.426645343174778, 5.426645343174778, 5.426645343174778, 5.426645343174778, 5.426645343174778, 5.426645343174778, 5.426645343174778, 5.426645343174778, 5.426645343174778, 5.426645343174778, 5.426645343174778, 5.426645343174778, 5.426645343174778, 5.426645343174778, 5.426645343174778, 5.426645343174778, 5.426645343174778, 5.426645343174778, 5.426645343174778, 5.426645343174778, 5.426645343174778, 5.426645343174778, 5.426645343174778, 5.426645343174778, 5.426645343174778, 5.426645343174778, 5.426645343174778, 5.426645343174778, 5.426645343174778, 5.426645343174778, 5.426645343174778, 5.426645343174778, 5.426645343174778, 5.426645343174778, 5.426645343174778, 5.426645343174778, 5.426645343174778, 5.426645343174778, 5.426645343174778, 5.426645343174778, 5.426645343174778, 5.426645343174778, 5.426645343174778, 5.426645343174778, 5.426645343174778, 5.426645343174778, 5.426645343174778, 5.426645343174778, 5.426645343174778, 5.426645343174778, 5.426645343174778, 5.426645343174778, 5.426645343174778, 5.426645343174778, 5.426645343174778, 5.426645343174778, 5.426645343174778, 5.426645343174778, 5.426645343174778, 5.426645343174778, 5.426645343174778, 5.426645343174778, 5.426645343174778, 5.426645343174778, 5.426645343174778, 5.426645343174778, 5.426645343174778, 5.426645343174778, 5.426645343174778, 5.426645343174778, 5.426645343174778, 5.426645343174778, 5.426645343174778, 5.426645343174778, 5.426645343174778, 5.426645343174778, 5.426645343174778, 5.426645343174778, 5.426645343174778, 5.426645343174778, 5.426645343174778, 5.426645343174778, 5.426645343174778, 5.426645343174778, 5.426645343174778, 5.426645343174778, 5.426645343174778, 5.426645343174778, 5.426645343174778, 5.426645343174778, 5.426645343174778, 5.426645343174778, 5.426645343174778, 5.426645343174778, 5.426645343174778, 5.426645343174778, 5.426645343174778, 5.426645343174778, 5.426645343174778, 5.426645343174778, 5.426645343174778, 5.426645343174778, 5.426645343174778, 5.426645343174778, 5.426645343174778, 5.426645343174778, 5.426645343174778, 5.426645343174778, 5.426645343174778, 5.426645343174778, 5.426645343174778, 5.426645343174778, 5.426645343174778, 5.426645343174778, 5.426645343174778, 5.426645343174778, 5.426645343174778, 5.426645343174778, 5.426645343174778, 5.426645343174778, 5.426645343174778, 5.426645343174778, 5.426645343174778, 5.426645343174778, 5.426645343174778, 5.426645343174778, 5.426645343174778, 5.426645343174778, 5.426645343174778, 5.426645343174778, 5.426645343174778, 5.426645343174778, 5.426645343174778, 5.426645343174778, 5.426645343174778, 5.426645343174778, 5.426645343174778, 5.426645343174778, 5.426645343174778, 5.426645343174778, 5.426645343174778, 5.426645343174778, 5.426645343174778, 5.426645343174778, 5.426645343174778, 5.426645343174778, 5.426645343174778, 5.426645343174778, 5.426645343174778, 5.426645343174778, 5.426645343174778, 5.426645343174778, 5.426645343174778, 5.426645343174778, 5.426645343174778, 5.426645343174778, 5.426645343174778, 5.426645343174778, 5.426645343174778, 5.426645343174778, 5.426645343174778, 5.426645343174778, 5.426645343174778, 5.426645343174778, 5.426645343174778, 5.426645343174778, 5.426645343174778, 5.426645343174778, 5.426645343174778, 5.426645343174778, 5.426645343174778, 5.426645343174778, 5.426645343174778, 5.426645343174778, 5.426645343174778, 5.426645343174778, 5.426645343174778, 5.426645343174778, 5.426645343174778, 5.426645343174778, 5.426645343174778, 5.426645343174778, 5.426645343174778, 5.426645343174778, 5.426645343174778, 5.426645343174778, 5.426645343174778, 5.426645343174778, 5.426645343174778, 5.426645343174778, 5.426645343174778, 5.426645343174778, 5.426645343174778, 5.426645343174778, 5.426645343174778, 5.426645343174778, 5.426645343174778, 5.426645343174778, 5.426645343174778, 5.426645343174778, 5.426645343174778, 5.426645343174778, 5.426645343174778, 5.426645343174778, 5.426645343174778, 5.426645343174778, 5.426645343174778, 5.426645343174778, 5.426645343174778, 5.426645343174778, 5.426645343174778, 5.426645343174778, 5.426645343174778, 5.426645343174778, 5.426645343174778, 5.426645343174778, 5.426645343174778, 5.426645343174778, 5.426645343174778, 5.426645343174778, 5.426645343174778, 5.426645343174778, 5.426645343174778, 5.426645343174778, 5.426645343174778, 5.426645343174778, 5.426645343174778, 5.426645343174778, 5.426645343174778, 5.426645343174778, 5.426645343174778, 5.426645343174778, 5.426645343174778, 5.426645343174778, 5.426645343174778, 5.426645343174778, 5.426645343174778, 5.426645343174778, 5.426645343174778, 5.426645343174778, 5.426645343174778, 5.426645343174778, 5.426645343174778, 5.426645343174778, 5.426645343174778, 5.426645343174778, 5.426645343174778, 5.426645343174778, 5.426645343174778, 5.426645343174778, 5.426645343174778, 5.426645343174778, 5.426645343174778, 5.426645343174778, 5.426645343174778, 5.426645343174778, 5.426645343174778, 5.426645343174778, 5.426645343174778, 5.426645343174778, 5.426645343174778, 5.426645343174778, 5.426645343174778, 5.426645343174778, 5.426645343174778, 5.426645343174778, 5.426645343174778, 5.426645343174778, 5.426645343174778, 5.426645343174778, 5.426645343174778, 5.426645343174778, 5.426645343174778, 5.426645343174778, 5.426645343174778, 5.426645343174778, 5.426645343174778, 5.426645343174778, 5.426645343174778, 5.426645343174778, 5.426645343174778, 5.426645343174778, 5.426645343174778, 5.426645343174778, 5.426645343174778, 5.426645343174778, 5.426645343174778, 5.426645343174778, 5.426645343174778, 5.426645343174778, 5.426645343174778, 5.426645343174778, 5.426645343174778, 5.426645343174778, 5.426645343174778, 5.426645343174778, 5.426645343174778, 5.426645343174778, 5.426645343174778, 5.426645343174778, 5.426645343174778, 5.426645343174778, 5.426645343174778, 5.426645343174778, 5.426645343174778, 5.426645343174778, 5.426645343174778, 5.426645343174778, 5.426645343174778, 5.426645343174778, 5.426645343174778, 5.426645343174778, 5.426645343174778, 5.426645343174778, 5.426645343174778, 5.426645343174778, 5.426645343174778, 5.426645343174778, 5.426645343174778, 5.426645343174778, 5.426645343174778, 5.426645343174778, 5.426645343174778, 5.426645343174778, 5.426645343174778, 5.426645343174778, 5.426645343174778, 5.426645343174778, 5.426645343174778, 5.426645343174778, 5.426645343174778, 5.426645343174778, 5.426645343174778, 5.426645343174778, 5.426645343174778, 5.426645343174778, 5.426645343174778, 5.426645343174778, 5.426645343174778, 5.426645343174778, 5.426645343174778, 5.426645343174778, 5.426645343174778, 5.426645343174778, 5.426645343174778, 5.426645343174778, 5.426645343174778, 5.426645343174778, 5.426645343174778, 5.426645343174778, 5.426645343174778, 5.426645343174778, 5.426645343174778, 5.426645343174778, 5.426645343174778, 5.426645343174778, 5.426645343174778, 5.426645343174778, 5.426645343174778, 5.426645343174778, 5.426645343174778, 5.426645343174778, 5.426645343174778, 5.426645343174778, 5.426645343174778, 5.426645343174778]\n"
     ]
    }
   ],
   "source": [
    "learning_rate = 0.001\n",
    "m_value = np.random.uniform(2, 5)\n",
    "c_value = np.random.uniform(2, 5)\n",
    "iterations = 600\n",
    "n = len(X)\n",
    "costs = []\n",
    "for iteration in range(iterations):\n",
    "    y_pred = m_value * X + c_value\n",
    "    \n",
    "    cost = np.mean((y - y_pred) ** 2)\n",
    "    costs.append(cost)\n",
    "  \n",
    "    gradient_m = 2/n * X.T.dot(X.dot(m_value) - y)\n",
    "    gradient_c = 2/n * X.T.dot(X.dot(c_value) - y)\n",
    "    m_value = m_value - learning_rate * gradient_m\n",
    "    c_value = c_value - learning_rate * gradient_c\n",
    "    \n",
    "    \n",
    "print(\"Intercept value : \", m_value, c_value)\n",
    "print(costs)"
   ]
  },
  {
   "cell_type": "code",
   "execution_count": 162,
   "id": "708f9f28",
   "metadata": {
    "scrolled": true
   },
   "outputs": [
    {
     "data": {
      "text/plain": [
       "[<matplotlib.lines.Line2D at 0x7f5b0c7a9f40>]"
      ]
     },
     "execution_count": 162,
     "metadata": {},
     "output_type": "execute_result"
    },
    {
     "data": {
      "image/png": "[encoded data removed]",
      "text/plain": [
       "<Figure size 720x432 with 1 Axes>"
      ]
     },
     "metadata": {
      "needs_background": "light"
     },
     "output_type": "display_data"
    }
   ],
   "source": [
    "plt.plot(costs)"
   ]
  },
  {
   "cell_type": "code",
   "execution_count": 163,
   "id": "f09f6c68",
   "metadata": {},
   "outputs": [
    {
     "data": {
      "image/png": "[encoded data removed]",
      "text/plain": [
       "<Figure size 720x432 with 1 Axes>"
      ]
     },
     "metadata": {
      "needs_background": "light"
     },
     "output_type": "display_data"
    }
   ],
   "source": [
    "y_pred = m_value * X + c_value\n",
    "plt.scatter(X, y)\n",
    "plt.plot(X, y_pred, color = \"red\")\n",
    "plt.show()"
   ]
  },
  {
   "cell_type": "code",
   "execution_count": 164,
   "id": "4dabbb60",
   "metadata": {},
   "outputs": [],
   "source": [
    "                                            #multi-variate"
   ]
  },
  {
   "cell_type": "code",
   "execution_count": 165,
   "id": "7d1f3ab5",
   "metadata": {},
   "outputs": [
    {
     "name": "stdout",
     "output_type": "stream",
     "text": [
      "Index(['G1', 'G2'], dtype='object')\n",
      "Index(['G3'], dtype='object')\n"
     ]
    }
   ],
   "source": [
    "num_columns = len(main_df.columns)\n",
    "X_col = main_df[['G1','G2']]    #Taking G1, G2 because they have high correlation value with G3\n",
    "y_col = main_df[[\"G3\"]]\n",
    "print(X_col.columns)\n",
    "print(y_col.columns)\n",
    "\n"
   ]
  },
  {
   "cell_type": "code",
   "execution_count": 166,
   "id": "239b7d5c",
   "metadata": {},
   "outputs": [
    {
     "data": {
      "text/plain": [
       "Index(['G1', 'G2'], dtype='object')"
      ]
     },
     "execution_count": 166,
     "metadata": {},
     "output_type": "execute_result"
    }
   ],
   "source": [
    "X_col.columns\n"
   ]
  },
  {
   "cell_type": "code",
   "execution_count": 167,
   "id": "13d32d72",
   "metadata": {
    "scrolled": true
   },
   "outputs": [
    {
     "name": "stdout",
     "output_type": "stream",
     "text": [
      "[[12. 10.  1.]\n",
      " [ 7.  7.  1.]\n",
      " [16. 18.  1.]\n",
      " ...\n",
      " [12. 12.  1.]\n",
      " [12. 12.  1.]\n",
      " [14. 13.  1.]]\n",
      "theta:  (3, 1)\n",
      "X:  (382, 3)\n",
      "y:  (382, 1)\n"
     ]
    }
   ],
   "source": [
    "m = len(X_col)\n",
    "n = len(X_col.columns)\n",
    "X_0 = np.ones((m, 1))\n",
    "X = np.hstack((X_col, X_0))\n",
    "print(X)\n",
    "              \n",
    "theta = np.zeros(3)\n",
    "theta = theta.reshape((3, 1))\n",
    "print(\"theta: \", theta.shape)\n",
    "print(\"X: \", X.shape)\n",
    "print(\"y: \", y.shape)\n",
    "\n"
   ]
  },
  {
   "cell_type": "code",
   "execution_count": 168,
   "id": "51331216",
   "metadata": {},
   "outputs": [],
   "source": [
    "def mse(X, y, theta):\n",
    "    predictions = X.dot(theta)\n",
    "    errors = np.subtract(predictions, y)\n",
    "    sqrErrors = np.square(errors)\n",
    "    J = 1 / (2 * m) * np.sum(sqrErrors)\n",
    "\n",
    "    return J"
   ]
  },
  {
   "cell_type": "code",
   "execution_count": 169,
   "id": "8dcf5450",
   "metadata": {},
   "outputs": [
    {
     "name": "stdout",
     "output_type": "stream",
     "text": [
      "The cost for given values of theta_0 and theta_1 = 66.90837696335079\n"
     ]
    }
   ],
   "source": [
    "cost = mse(X, y, theta)\n",
    "print('The cost for given values of theta_0 and theta_1 =', cost)"
   ]
  },
  {
   "cell_type": "code",
   "execution_count": 170,
   "id": "1fd67896",
   "metadata": {},
   "outputs": [],
   "source": [
    "def gradient_descent(X, y, theta, alpha, iterations):\n",
    "    cost_history = []\n",
    "    for i in range(iterations):\n",
    "        predictions = X.dot(theta)\n",
    "        errors = np.subtract(predictions, y)\n",
    "        sum_delta = (alpha / m) * X.transpose().dot(errors);\n",
    "        theta = theta - sum_delta;\n",
    "        cost_history.append(mse(X, y, theta)) \n",
    "    return theta, cost_history"
   ]
  },
  {
   "cell_type": "code",
   "execution_count": 171,
   "id": "ec77d96b",
   "metadata": {},
   "outputs": [
    {
     "name": "stdout",
     "output_type": "stream",
     "text": [
      "Final value of theta = [[0.41158601]\n",
      " [0.47746828]\n",
      " [0.18935905]]\n",
      "cost_history = [41.94963758438992, 28.48665391437615, 21.224453715870673, 17.306941519454387, 15.193546201248386, 14.053287349951857, 13.437936102028347, 13.105718871215023, 12.926223558258394, 12.829106185934705, 12.77642337960812, 12.747708572849803, 12.731922148136498, 12.723109361831446, 12.71805823921508, 12.715036248618281, 12.713108866445477, 12.711772012763914, 12.710753787932145, 12.709907529807497, 12.709154129057415, 12.70845091417515, 12.707774868131034, 12.707113575473931, 12.706460339219273, 12.705811546910018, 12.705165249876174, 12.70452039689076, 12.703876420805665, 12.70323301558398, 12.70259001603178, 12.701947332925748, 12.701304918021139, 12.70066274517718, 12.700020800176151, 12.699379075231807, 12.698737566027255, 12.698096270117176, 12.69745518606599, 12.696814312982998, 12.696173650271609, 12.695533197494097, 12.694892954298648, 12.694252920380006, 12.693613095458234, 12.692973479267275, 12.692334071548773, 12.691694872048739, 12.691055880515751, 12.690417096699994, 12.689778520352725, 12.689140151225994, 12.688501989072488, 12.68786403364546, 12.687226284698674, 12.686588741986371, 12.685951405263271, 12.685314274284572, 12.684677348805916, 12.684040628583407, 12.683404113373614, 12.682767802933553, 12.682131697020694, 12.681495795392966, 12.68086009780874, 12.680224604026842, 12.679589313806556, 12.678954226907601, 12.678319343090148, 12.677684662114817, 12.677050183742683, 12.676415907735246, 12.675781833854472, 12.67514796186275, 12.674514291522934, 12.673880822598301, 12.673247554852576, 12.672614488049927, 12.671981621954956, 12.671348956332709, 12.67071649094866, 12.670084225568731, 12.669452159959276, 12.668820293887078, 12.668188627119367, 12.667557159423788, 12.666925890568436, 12.666294820321824, 12.66566394845291, 12.665033274731066, 12.664402798926105, 12.66377252080826, 12.6631424401482, 12.662512556717015, 12.66188287028622, 12.661253380627755, 12.66062408751399, 12.65999499071771, 12.659366090012126, 12.658737385170872, 12.658108875968002, 12.657480562177986, 12.656852443575719, 12.656224519936512, 12.65559679103609, 12.654969256650594, 12.654341916556596, 12.65371477053106, 12.653087818351382, 12.652461059795362, 12.651834494641218, 12.651208122667573, 12.650581943653465, 12.649955957378348, 12.649330163622071, 12.648704562164909, 12.64807915278753, 12.647453935271017, 12.646828909396852, 12.646204074946935, 12.645579431703558, 12.644954979449423, 12.64433071796763, 12.643706647041688, 12.643082766455509, 12.64245907599339, 12.641835575440043, 12.641212264580577, 12.640589143200492, 12.639966211085696, 12.639343468022483, 12.638720913797547, 12.638098548197984, 12.637476371011276, 12.636854382025302, 12.636232581028327, 12.635610967809018, 12.634989542156429, 12.634368303860006, 12.633747252709583, 12.633126388495377, 12.63250571100801, 12.631885220038475, 12.63126491537816, 12.630644796818839, 12.630024864152665, 12.62940511717218, 12.62878555567031, 12.628166179440365, 12.627546988276036, 12.626927981971392, 12.626309160320885, 12.625690523119351, 12.625072070162002, 12.624453801244425, 12.623835716162596, 12.623217814712845, 12.622600096691908, 12.621982561896875, 12.62136521012522, 12.620748041174787, 12.620131054843798, 12.619514250930841, 12.618897629234882, 12.618281189555256, 12.617664931691667, 12.617048855444189, 12.616432960613269, 12.615817246999718, 12.615201714404712, 12.614586362629801, 12.613971191476898, 12.61335620074828, 12.612741390246587, 12.612126759774831, 12.611512309136378, 12.61089803813496, 12.610283946574674, 12.60967003425997, 12.609056300995672, 12.608442746586947, 12.607829370839331, 12.607216173558724, 12.606603154551367, 12.605990313623868, 12.605377650583199, 12.60476516523667, 12.604152857391957, 12.60354072685709, 12.602928773440446, 12.602316996950766, 12.601705397197128, 12.601093973988977, 12.600482727136091, 12.599871656448617, 12.599260761737037, 12.59865004281219, 12.598039499485253, 12.59742913156777, 12.596818938871607]\n"
     ]
    }
   ],
   "source": [
    "iterations = 200;\n",
    "alpha = 0.001;\n",
    "theta = np.zeros(3)\n",
    "theta = theta.reshape(3, 1)\n",
    "theta, cost_history = gradient_descent(X, y, theta, alpha, iterations)\n",
    "print('Final value of theta =', theta)\n",
    "print('cost_history =', cost_history)"
   ]
  },
  {
   "cell_type": "code",
   "execution_count": 172,
   "id": "ff9f9ba1",
   "metadata": {},
   "outputs": [
    {
     "data": {
      "text/plain": [
       "Text(0.5, 1.0, 'Convergence of gradient descent')"
      ]
     },
     "execution_count": 172,
     "metadata": {},
     "output_type": "execute_result"
    },
    {
     "data": {
      "image/png": "[encoded data removed]",
      "text/plain": [
       "<Figure size 720x432 with 1 Axes>"
      ]
     },
     "metadata": {
      "needs_background": "light"
     },
     "output_type": "display_data"
    }
   ],
   "source": [
    "import matplotlib.pyplot as plt\n",
    "plt.plot(range(1, iterations +1), cost_history, color ='blue')\n",
    "plt.rcParams[\"figure.figsize\"] = (10,6)\n",
    "plt.grid()\n",
    "plt.xlabel(\"Iteration #\")\n",
    "plt.ylabel(\"Cost\")\n",
    "plt.title(\"Convergence of gradient descent\")\n",
    "\n"
   ]
  },
  {
   "cell_type": "code",
   "execution_count": null,
   "id": "e84a67ed",
   "metadata": {},
   "outputs": [],
   "source": [
    "                                "
   ]
  },
  {
   "cell_type": "code",
   "execution_count": null,
   "id": "863c3e5a",
   "metadata": {},
   "outputs": [],
   "source": []
  }
 ],
 "metadata": {
  "kernelspec": {
   "display_name": "Python 3",
   "language": "python",
   "name": "python3"
  },
  "language_info": {
   "codemirror_mode": {
    "name": "ipython",
    "version": 3
   },
   "file_extension": ".py",
   "mimetype": "text/x-python",
   "name": "python",
   "nbconvert_exporter": "python",
   "pygments_lexer": "ipython3",
   "version": "3.8.8"
  }
 },
 "nbformat": 4,
 "nbformat_minor": 5
}
