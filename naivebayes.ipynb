{
 "cells": [
  {
   "cell_type": "markdown",
   "id": "099aba68",
   "metadata": {},
   "source": [
    "#                                    NAIVE BAYES"
   ]
  },
  {
   "cell_type": "code",
   "execution_count": 238,
   "id": "75086738",
   "metadata": {},
   "outputs": [],
   "source": [
    "import pandas as pd\n",
    "import numpy as np\n",
    "import matplotlib.pyplot as plt\n",
    "import seaborn as sns\n"
   ]
  },
  {
   "cell_type": "code",
   "execution_count": 239,
   "id": "a04b123f",
   "metadata": {},
   "outputs": [
    {
     "name": "stdout",
     "output_type": "stream",
     "text": [
      "   age         workclass     education  education-num      marital-status  \\\n",
      "0   52  Self-emp-not-inc       HS-grad              9  Married-civ-spouse   \n",
      "1   31           Private       Masters             14       Never-married   \n",
      "2   42           Private     Bachelors             13  Married-civ-spouse   \n",
      "3   37           Private  Some-college             10  Married-civ-spouse   \n",
      "4   30         State-gov     Bachelors             13  Married-civ-spouse   \n",
      "\n",
      "        occupation   relationship                race     sex  capital-gain  \\\n",
      "0  Exec-managerial        Husband               White    Male             0   \n",
      "1   Prof-specialty  Not-in-family               White  Female         14084   \n",
      "2  Exec-managerial        Husband               White    Male          5178   \n",
      "3  Exec-managerial        Husband               Black    Male             0   \n",
      "4   Prof-specialty        Husband  Asian-Pac-Islander    Male             0   \n",
      "\n",
      "   capital-loss  hours-per-week native-country income  \n",
      "0             0              45  United-States   >50K  \n",
      "1             0              50  United-States   >50K  \n",
      "2             0              40  United-States   >50K  \n",
      "3             0              80  United-States   >50K  \n",
      "4             0              40          India   >50K  \n"
     ]
    }
   ],
   "source": [
    "df = pd.read_csv(\"census_income.csv\")\n",
    "print(df.head())"
   ]
  },
  {
   "cell_type": "code",
   "execution_count": null,
   "id": "d7ca9ae6",
   "metadata": {},
   "outputs": [],
   "source": []
  },
  {
   "cell_type": "code",
   "execution_count": 240,
   "id": "8804b56f",
   "metadata": {},
   "outputs": [
    {
     "name": "stdout",
     "output_type": "stream",
     "text": [
      "(17841, 6)\n",
      "(17841, 8)\n"
     ]
    }
   ],
   "source": [
    "print(num_col.shape)\n",
    "print(cat_col.shape)"
   ]
  },
  {
   "cell_type": "code",
   "execution_count": 241,
   "id": "ad86e8b1",
   "metadata": {},
   "outputs": [
    {
     "data": {
      "text/plain": [
       "age               0\n",
       "workclass         0\n",
       "education         0\n",
       "education-num     0\n",
       "marital-status    0\n",
       "occupation        0\n",
       "relationship      0\n",
       "race              0\n",
       "sex               0\n",
       "capital-gain      0\n",
       "capital-loss      0\n",
       "hours-per-week    0\n",
       "native-country    0\n",
       "income            0\n",
       "dtype: int64"
      ]
     },
     "execution_count": 241,
     "metadata": {},
     "output_type": "execute_result"
    }
   ],
   "source": [
    "df.isnull().sum()  #check for null values"
   ]
  },
  {
   "cell_type": "code",
   "execution_count": 242,
   "id": "9a2e28d5",
   "metadata": {},
   "outputs": [],
   "source": [
    "# income  ##here categorical feature is converted to numerical data\n",
    "df.income = df.income.replace('<=50K', 0)\n",
    "df.income = df.income.replace('>50K', 1)"
   ]
  },
  {
   "cell_type": "code",
   "execution_count": 243,
   "id": "260ba390",
   "metadata": {},
   "outputs": [
    {
     "name": "stdout",
     "output_type": "stream",
     "text": [
      "Categorial Data :  Index(['workclass', 'education', 'marital-status', 'occupation',\n",
      "       'relationship', 'race', 'sex', 'native-country'],\n",
      "      dtype='object')\n",
      "Numeric Data :  Index(['age', 'education-num', 'capital-gain', 'capital-loss',\n",
      "       'hours-per-week', 'income'],\n",
      "      dtype='object')\n"
     ]
    }
   ],
   "source": [
    "#income converted to numeric data\n",
    "num_col = df.select_dtypes(exclude=[\"object_\"])\n",
    "cat_col = df.select_dtypes(exclude=[\"number\"])\n",
    "print(\"Categorial Data : \", cat_col.columns)\n",
    "print(\"Numeric Data : \", num_col.columns)"
   ]
  },
  {
   "cell_type": "code",
   "execution_count": 244,
   "id": "a462b1ea",
   "metadata": {},
   "outputs": [
    {
     "data": {
      "text/plain": [
       "Private             12161\n",
       "Self-emp-not-inc     1455\n",
       "Local-gov            1243\n",
       "?                     820\n",
       "Self-emp-inc          817\n",
       "State-gov             741\n",
       "Federal-gov           597\n",
       "Without-pay             4\n",
       "Never-worked            3\n",
       "Name: workclass, dtype: int64"
      ]
     },
     "execution_count": 244,
     "metadata": {},
     "output_type": "execute_result"
    }
   ],
   "source": [
    "df['workclass'].value_counts()   #we have ? as data"
   ]
  },
  {
   "cell_type": "code",
   "execution_count": 245,
   "id": "a1514eae",
   "metadata": {},
   "outputs": [
    {
     "data": {
      "text/plain": [
       "Exec-managerial      2834\n",
       "Prof-specialty       2750\n",
       "Craft-repair         2222\n",
       "Sales                2069\n",
       "Adm-clerical         1795\n",
       "Other-service        1480\n",
       "Machine-op-inspct     950\n",
       "Transport-moving      865\n",
       "?                     823\n",
       "Handlers-cleaners     604\n",
       "Tech-support          534\n",
       "Farming-fishing       453\n",
       "Protective-serv       395\n",
       "Priv-house-serv        65\n",
       "Armed-Forces            2\n",
       "Name: occupation, dtype: int64"
      ]
     },
     "execution_count": 245,
     "metadata": {},
     "output_type": "execute_result"
    }
   ],
   "source": [
    "df['occupation'].value_counts()  "
   ]
  },
  {
   "cell_type": "code",
   "execution_count": 246,
   "id": "bf491d9c",
   "metadata": {},
   "outputs": [
    {
     "data": {
      "text/plain": [
       "United-States         16085\n",
       "?                       318\n",
       "Mexico                  260\n",
       "Philippines             115\n",
       "Germany                  89\n",
       "Canada                   66\n",
       "India                    59\n",
       "Puerto-Rico              56\n",
       "Cuba                     53\n",
       "England                  51\n",
       "Italy                    46\n",
       "El-Salvador              46\n",
       "China                    46\n",
       "South                    39\n",
       "Japan                    38\n",
       "Jamaica                  38\n",
       "Poland                   37\n",
       "Vietnam                  37\n",
       "Dominican-Republic       36\n",
       "Columbia                 31\n",
       "Taiwan                   29\n",
       "Guatemala                29\n",
       "Haiti                    27\n",
       "Iran                     27\n",
       "France                   22\n",
       "Portugal                 15\n",
       "Ecuador                  14\n",
       "Peru                     14\n",
       "Greece                   13\n",
       "Cambodia                 13\n",
       "Hong                     12\n",
       "Nicaragua                12\n",
       "Yugoslavia               11\n",
       "Ireland                  11\n",
       "Trinadad&Tobago          10\n",
       "Laos                      9\n",
       "Hungary                   9\n",
       "Thailand                  7\n",
       "Honduras                  6\n",
       "Scotland                  5\n",
       "Name: native-country, dtype: int64"
      ]
     },
     "execution_count": 246,
     "metadata": {},
     "output_type": "execute_result"
    }
   ],
   "source": [
    "df['native-country'].value_counts()  "
   ]
  },
  {
   "cell_type": "markdown",
   "id": "57f16679",
   "metadata": {},
   "source": [
    "                                #Filling missing data"
   ]
  },
  {
   "cell_type": "code",
   "execution_count": 247,
   "id": "2c31da46",
   "metadata": {},
   "outputs": [],
   "source": [
    "df['workclass'] = df['workclass'].replace('?', 'Private') #replacing with mode\n",
    "df['occupation'] = df['occupation'].replace('?', 'Exec-managerial')\n",
    "df['native-country'] = df['native-country'].replace('?', 'United-States')"
   ]
  },
  {
   "cell_type": "markdown",
   "id": "324bf592",
   "metadata": {},
   "source": [
    "#Running NB on numerical data only with variables which has less dependency"
   ]
  },
  {
   "cell_type": "code",
   "execution_count": 248,
   "id": "aaf4516c",
   "metadata": {},
   "outputs": [
    {
     "name": "stdout",
     "output_type": "stream",
     "text": [
      "                     age  education-num  capital-gain  capital-loss  \\\n",
      "age             1.000000       0.075006      0.088224      0.063668   \n",
      "education-num   0.075006       1.000000      0.138364      0.095234   \n",
      "capital-gain    0.088224       0.138364      1.000000     -0.046787   \n",
      "capital-loss    0.063668       0.095234     -0.046787      1.000000   \n",
      "hours-per-week  0.078374       0.178297      0.088020      0.070141   \n",
      "income          0.287609       0.384054      0.194228      0.149148   \n",
      "\n",
      "                hours-per-week    income  \n",
      "age                   0.078374  0.287609  \n",
      "education-num         0.178297  0.384054  \n",
      "capital-gain          0.088020  0.194228  \n",
      "capital-loss          0.070141  0.149148  \n",
      "hours-per-week        1.000000  0.266722  \n",
      "income                0.266722  1.000000  \n"
     ]
    }
   ],
   "source": [
    "print(df.corr())"
   ]
  },
  {
   "cell_type": "code",
   "execution_count": 249,
   "id": "373db82e",
   "metadata": {},
   "outputs": [
    {
     "name": "stderr",
     "output_type": "stream",
     "text": [
      "/home/prudhvi/anaconda3/lib/python3.8/site-packages/seaborn/matrix.py:298: MatplotlibDeprecationWarning: Case-insensitive properties were deprecated in 3.3 and support will be removed two minor releases later\n",
      "  mesh = ax.pcolormesh(self.plot_data, cmap=self.cmap, **kws)\n"
     ]
    },
    {
     "data": {
      "text/plain": [
       "<AxesSubplot:>"
      ]
     },
     "execution_count": 249,
     "metadata": {},
     "output_type": "execute_result"
    },
    {
     "data": {
      "image/png": "[encoded data removed]",
      "text/plain": [
       "<Figure size 432x288 with 2 Axes>"
      ]
     },
     "metadata": {},
     "output_type": "display_data"
    }
   ],
   "source": [
    "corr = df.iloc[:,:-1].corr(method = \"pearson\")\n",
    "cmap = sns.diverging_palette(250, 354, 80, 60, center = \"dark\", as_cmap = True)\n",
    "sns.heatmap(corr, vmax = 1, vmin = 0.5, cmap = cmap, square = True, Linewidths = .2)"
   ]
  },
  {
   "cell_type": "markdown",
   "id": "e4a34568",
   "metadata": {},
   "source": [
    "#based on heat map all the numerical features are likely independent. So we will consider all numerical features"
   ]
  },
  {
   "cell_type": "code",
   "execution_count": 250,
   "id": "96eab01f",
   "metadata": {},
   "outputs": [
    {
     "data": {
      "text/html": [
       "<div>\n",
       "<style scoped>\n",
       "    .dataframe tbody tr th:only-of-type {\n",
       "        vertical-align: middle;\n",
       "    }\n",
       "\n",
       "    .dataframe tbody tr th {\n",
       "        vertical-align: top;\n",
       "    }\n",
       "\n",
       "    .dataframe thead th {\n",
       "        text-align: right;\n",
       "    }\n",
       "</style>\n",
       "<table border=\"1\" class=\"dataframe\">\n",
       "  <thead>\n",
       "    <tr style=\"text-align: right;\">\n",
       "      <th></th>\n",
       "      <th>age</th>\n",
       "      <th>education-num</th>\n",
       "      <th>capital-gain</th>\n",
       "      <th>capital-loss</th>\n",
       "      <th>hours-per-week</th>\n",
       "      <th>income</th>\n",
       "    </tr>\n",
       "  </thead>\n",
       "  <tbody>\n",
       "    <tr>\n",
       "      <th>0</th>\n",
       "      <td>52</td>\n",
       "      <td>9</td>\n",
       "      <td>0</td>\n",
       "      <td>0</td>\n",
       "      <td>45</td>\n",
       "      <td>1</td>\n",
       "    </tr>\n",
       "    <tr>\n",
       "      <th>1</th>\n",
       "      <td>31</td>\n",
       "      <td>14</td>\n",
       "      <td>14084</td>\n",
       "      <td>0</td>\n",
       "      <td>50</td>\n",
       "      <td>1</td>\n",
       "    </tr>\n",
       "    <tr>\n",
       "      <th>2</th>\n",
       "      <td>42</td>\n",
       "      <td>13</td>\n",
       "      <td>5178</td>\n",
       "      <td>0</td>\n",
       "      <td>40</td>\n",
       "      <td>1</td>\n",
       "    </tr>\n",
       "    <tr>\n",
       "      <th>3</th>\n",
       "      <td>37</td>\n",
       "      <td>10</td>\n",
       "      <td>0</td>\n",
       "      <td>0</td>\n",
       "      <td>80</td>\n",
       "      <td>1</td>\n",
       "    </tr>\n",
       "    <tr>\n",
       "      <th>4</th>\n",
       "      <td>30</td>\n",
       "      <td>13</td>\n",
       "      <td>0</td>\n",
       "      <td>0</td>\n",
       "      <td>40</td>\n",
       "      <td>1</td>\n",
       "    </tr>\n",
       "    <tr>\n",
       "      <th>5</th>\n",
       "      <td>40</td>\n",
       "      <td>11</td>\n",
       "      <td>0</td>\n",
       "      <td>0</td>\n",
       "      <td>40</td>\n",
       "      <td>1</td>\n",
       "    </tr>\n",
       "    <tr>\n",
       "      <th>6</th>\n",
       "      <td>43</td>\n",
       "      <td>14</td>\n",
       "      <td>0</td>\n",
       "      <td>0</td>\n",
       "      <td>45</td>\n",
       "      <td>1</td>\n",
       "    </tr>\n",
       "    <tr>\n",
       "      <th>7</th>\n",
       "      <td>40</td>\n",
       "      <td>16</td>\n",
       "      <td>0</td>\n",
       "      <td>0</td>\n",
       "      <td>60</td>\n",
       "      <td>1</td>\n",
       "    </tr>\n",
       "    <tr>\n",
       "      <th>8</th>\n",
       "      <td>56</td>\n",
       "      <td>13</td>\n",
       "      <td>0</td>\n",
       "      <td>0</td>\n",
       "      <td>40</td>\n",
       "      <td>1</td>\n",
       "    </tr>\n",
       "    <tr>\n",
       "      <th>9</th>\n",
       "      <td>54</td>\n",
       "      <td>10</td>\n",
       "      <td>0</td>\n",
       "      <td>0</td>\n",
       "      <td>60</td>\n",
       "      <td>1</td>\n",
       "    </tr>\n",
       "  </tbody>\n",
       "</table>\n",
       "</div>"
      ],
      "text/plain": [
       "   age  education-num  capital-gain  capital-loss  hours-per-week  income\n",
       "0   52              9             0             0              45       1\n",
       "1   31             14         14084             0              50       1\n",
       "2   42             13          5178             0              40       1\n",
       "3   37             10             0             0              80       1\n",
       "4   30             13             0             0              40       1\n",
       "5   40             11             0             0              40       1\n",
       "6   43             14             0             0              45       1\n",
       "7   40             16             0             0              60       1\n",
       "8   56             13             0             0              40       1\n",
       "9   54             10             0             0              60       1"
      ]
     },
     "execution_count": 250,
     "metadata": {},
     "output_type": "execute_result"
    }
   ],
   "source": [
    "main_df = df[[\"age\", \"education-num\", \"capital-gain\", \"capital-loss\", \"hours-per-week\", \"income\"]]\n",
    "main_df.head(10)"
   ]
  },
  {
   "cell_type": "code",
   "execution_count": 251,
   "id": "134dea6a",
   "metadata": {},
   "outputs": [
    {
     "data": {
      "text/plain": [
       "<AxesSubplot:xlabel='hours-per-week', ylabel='Count'>"
      ]
     },
     "execution_count": 251,
     "metadata": {},
     "output_type": "execute_result"
    },
    {
     "data": {
      "image/png": "[encoded data removed]",
      "text/plain": [
       "<Figure size 1296x432 with 3 Axes>"
      ]
     },
     "metadata": {},
     "output_type": "display_data"
    }
   ],
   "source": [
    "#checking distribution of data\n",
    "fig, axes = plt.subplots(1, 3, figsize=(18, 6), sharey=True)\n",
    "sns.histplot(main_df, ax=axes[0], x=\"age\", kde=True, color='r')\n",
    "sns.histplot(main_df, ax=axes[1], x=\"education-num\", kde=True, color='b')\n",
    "\n",
    "sns.histplot(main_df, ax=axes[2], x=\"hours-per-week\", kde=True)"
   ]
  },
  {
   "cell_type": "code",
   "execution_count": 252,
   "id": "dff1e9f4",
   "metadata": {},
   "outputs": [
    {
     "data": {
      "text/plain": [
       "<AxesSubplot:xlabel='capital-loss', ylabel='Count'>"
      ]
     },
     "execution_count": 252,
     "metadata": {},
     "output_type": "execute_result"
    },
    {
     "data": {
      "image/png": "[encoded data removed]",
      "text/plain": [
       "<Figure size 1296x432 with 2 Axes>"
      ]
     },
     "metadata": {},
     "output_type": "display_data"
    }
   ],
   "source": [
    "fig, axes = plt.subplots(1, 2, figsize=(18, 6), sharey=True)\n",
    "sns.histplot(main_df, ax=axes[0], x=\"capital-gain\", kde=True)\n",
    "sns.histplot(main_df, ax=axes[1], x=\"capital-loss\", kde=True)"
   ]
  },
  {
   "cell_type": "code",
   "execution_count": 253,
   "id": "13e61a3f",
   "metadata": {},
   "outputs": [],
   "source": [
    "def calculate_prior(df, Y):\n",
    "    classes = sorted(list(df[Y].unique()))\n",
    "    prior = []\n",
    "    for i in classes:\n",
    "        prior.append(len(df[df[Y] == i])/len(df))\n",
    "    return prior"
   ]
  },
  {
   "cell_type": "code",
   "execution_count": 254,
   "id": "7bc99ef1",
   "metadata": {},
   "outputs": [],
   "source": [
    "def calculate_likelihood_gaussian(df, feat_name, feat_val, Y, label):\n",
    "    feat = list(df.columns)\n",
    "    df = df[df[Y]==label]\n",
    "    mean, std = df[feat_name].mean(), df[feat_name].std()\n",
    "    #gaussian distribution formula\n",
    "    p_x_given_y = (1 / (np.sqrt(2 * np.pi) * std)) *  np.exp(-((feat_val-mean)**2 / (2 * std**2 )))\n",
    "    return p_x_given_y"
   ]
  },
  {
   "cell_type": "code",
   "execution_count": 255,
   "id": "bc9858af",
   "metadata": {},
   "outputs": [],
   "source": [
    "def naive_bayes_gaussian(df, X, Y):\n",
    "    features = list(df.columns)[:-1]\n",
    "    prior = calculate_prior(df, Y)\n",
    "    \n",
    "    Y_pred = []\n",
    "    for x in X:\n",
    "        labels = sorted(list(df[Y].unique()))\n",
    "        likelihood = [1]*len(labels)\n",
    "        for j in range(len(labels)):\n",
    "            for i in range(len(features)):\n",
    "                likelihood[j] *= calculate_likelihood_gaussian(df, features[i], x[i], Y, labels[j])\n",
    "\n",
    "        post_prob = [1]*len(labels)\n",
    "        for j in range(len(labels)):\n",
    "            post_prob[j] = likelihood[j] * prior[j]\n",
    "\n",
    "        Y_pred.append(np.argmax(post_prob))\n",
    "    \n",
    "    return np.array(Y_pred)"
   ]
  },
  {
   "cell_type": "code",
   "execution_count": 256,
   "id": "168b5659",
   "metadata": {},
   "outputs": [
    {
     "name": "stdout",
     "output_type": "stream",
     "text": [
      "Accuracy for all the numerical features :  0.4337240757439135\n"
     ]
    }
   ],
   "source": [
    "msk = np.random.rand(len(main_df)) < 0.8\n",
    "train = main_df[msk]\n",
    "test = main_df[~msk]\n",
    "X_test = test.iloc[:,:-1].values\n",
    "Y_test = test.iloc[:,-1].values\n",
    "Y_pred = naive_bayes_gaussian(train, X=X_test, Y=\"income\")\n",
    "\n",
    "from sklearn.metrics import confusion_matrix, f1_score\n",
    "print(\"Accuracy for all the numerical features : \", f1_score(Y_test, Y_pred))"
   ]
  },
  {
   "cell_type": "markdown",
   "id": "b105551a",
   "metadata": {},
   "source": [
    "#Removing the right skewed features :  capital-gain,capital-loss             "
   ]
  },
  {
   "cell_type": "code",
   "execution_count": 260,
   "id": "e2054bc4",
   "metadata": {},
   "outputs": [],
   "source": [
    "main_df = main_df[[\"age\", \"education-num\", \"hours-per-week\", \"income\"]]"
   ]
  },
  {
   "cell_type": "code",
   "execution_count": 261,
   "id": "a4791440",
   "metadata": {},
   "outputs": [
    {
     "data": {
      "text/html": [
       "<div>\n",
       "<style scoped>\n",
       "    .dataframe tbody tr th:only-of-type {\n",
       "        vertical-align: middle;\n",
       "    }\n",
       "\n",
       "    .dataframe tbody tr th {\n",
       "        vertical-align: top;\n",
       "    }\n",
       "\n",
       "    .dataframe thead th {\n",
       "        text-align: right;\n",
       "    }\n",
       "</style>\n",
       "<table border=\"1\" class=\"dataframe\">\n",
       "  <thead>\n",
       "    <tr style=\"text-align: right;\">\n",
       "      <th></th>\n",
       "      <th>age</th>\n",
       "      <th>education-num</th>\n",
       "      <th>hours-per-week</th>\n",
       "      <th>income</th>\n",
       "    </tr>\n",
       "  </thead>\n",
       "  <tbody>\n",
       "    <tr>\n",
       "      <th>0</th>\n",
       "      <td>52</td>\n",
       "      <td>9</td>\n",
       "      <td>45</td>\n",
       "      <td>1</td>\n",
       "    </tr>\n",
       "    <tr>\n",
       "      <th>1</th>\n",
       "      <td>31</td>\n",
       "      <td>14</td>\n",
       "      <td>50</td>\n",
       "      <td>1</td>\n",
       "    </tr>\n",
       "    <tr>\n",
       "      <th>2</th>\n",
       "      <td>42</td>\n",
       "      <td>13</td>\n",
       "      <td>40</td>\n",
       "      <td>1</td>\n",
       "    </tr>\n",
       "    <tr>\n",
       "      <th>3</th>\n",
       "      <td>37</td>\n",
       "      <td>10</td>\n",
       "      <td>80</td>\n",
       "      <td>1</td>\n",
       "    </tr>\n",
       "    <tr>\n",
       "      <th>4</th>\n",
       "      <td>30</td>\n",
       "      <td>13</td>\n",
       "      <td>40</td>\n",
       "      <td>1</td>\n",
       "    </tr>\n",
       "    <tr>\n",
       "      <th>5</th>\n",
       "      <td>40</td>\n",
       "      <td>11</td>\n",
       "      <td>40</td>\n",
       "      <td>1</td>\n",
       "    </tr>\n",
       "    <tr>\n",
       "      <th>6</th>\n",
       "      <td>43</td>\n",
       "      <td>14</td>\n",
       "      <td>45</td>\n",
       "      <td>1</td>\n",
       "    </tr>\n",
       "    <tr>\n",
       "      <th>7</th>\n",
       "      <td>40</td>\n",
       "      <td>16</td>\n",
       "      <td>60</td>\n",
       "      <td>1</td>\n",
       "    </tr>\n",
       "    <tr>\n",
       "      <th>8</th>\n",
       "      <td>56</td>\n",
       "      <td>13</td>\n",
       "      <td>40</td>\n",
       "      <td>1</td>\n",
       "    </tr>\n",
       "    <tr>\n",
       "      <th>9</th>\n",
       "      <td>54</td>\n",
       "      <td>10</td>\n",
       "      <td>60</td>\n",
       "      <td>1</td>\n",
       "    </tr>\n",
       "  </tbody>\n",
       "</table>\n",
       "</div>"
      ],
      "text/plain": [
       "   age  education-num  hours-per-week  income\n",
       "0   52              9              45       1\n",
       "1   31             14              50       1\n",
       "2   42             13              40       1\n",
       "3   37             10              80       1\n",
       "4   30             13              40       1\n",
       "5   40             11              40       1\n",
       "6   43             14              45       1\n",
       "7   40             16              60       1\n",
       "8   56             13              40       1\n",
       "9   54             10              60       1"
      ]
     },
     "execution_count": 261,
     "metadata": {},
     "output_type": "execute_result"
    }
   ],
   "source": [
    "main_df.head(10)"
   ]
  },
  {
   "cell_type": "code",
   "execution_count": 262,
   "id": "4a899844",
   "metadata": {},
   "outputs": [
    {
     "name": "stdout",
     "output_type": "stream",
     "text": [
      "Accuracy for limited the numerical features :  0.7016661427224142\n"
     ]
    }
   ],
   "source": [
    "#age, education-num, hours-per-week to predict income\n",
    "\n",
    "#splitting data\n",
    "msk = np.random.rand(len(main_df)) < 0.8\n",
    "train = main_df[msk]\n",
    "test = main_df[~msk]\n",
    "X_test = test.iloc[:,:-1].values\n",
    "Y_test = test.iloc[:,-1].values\n",
    "Y_pred = naive_bayes_gaussian(train, X=X_test, Y=\"income\")\n",
    "\n",
    "from sklearn.metrics import confusion_matrix, f1_score\n",
    "print(\"Accuracy for limited the numerical features : \", f1_score(Y_test, Y_pred))"
   ]
  },
  {
   "cell_type": "markdown",
   "id": "0e247adb",
   "metadata": {},
   "source": [
    "                                        #Handling categorical data"
   ]
  },
  {
   "cell_type": "markdown",
   "id": "c508c3f6",
   "metadata": {},
   "source": [
    "#since there are many categorical features try to reduce the number of categorical features\n",
    "#education can be replaced made into 3 categories as school, high school, higher, undergrad, grad, doc"
   ]
  },
  {
   "cell_type": "code",
   "execution_count": null,
   "id": "9274a4ec",
   "metadata": {},
   "outputs": [],
   "source": []
  },
  {
   "cell_type": "code",
   "execution_count": 268,
   "id": "2e3d1c8a",
   "metadata": {},
   "outputs": [],
   "source": [
    "df.education= df.education.replace(['Preschool', '1st-4th', '5th-6th', '7th-8th', '9th','10th', '11th', '12th'], 'school')\n",
    "df.education = df.education.replace('HS-grad', 'high school')\n",
    "df.education = df.education.replace(['Assoc-voc', 'Assoc-acdm', 'Prof-school', 'Some-college'], 'higher')\n",
    "df.education = df.education.replace('Bachelors', 'undergrad')\n",
    "df.education = df.education.replace('Masters', 'grad')\n",
    "df.education = df.education.replace('Doctorate', 'doc')"
   ]
  },
  {
   "cell_type": "code",
   "execution_count": 269,
   "id": "ca9aa5c7",
   "metadata": {},
   "outputs": [],
   "source": [
    "#martial status\n",
    "df['marital-status']= df['marital-status'].replace(['Married-civ-spouse', 'Married-AF-spouse'], 'married')\n",
    "df['marital-status']= df['marital-status'].replace(['Never-married'], 'not-married')\n",
    "df['marital-status']= df['marital-status'].replace(['Divorced', 'Separated','Widowed',\n",
    "                                                   'Married-spouse-absent'], 'other')"
   ]
  },
  {
   "cell_type": "code",
   "execution_count": 270,
   "id": "947f0523",
   "metadata": {},
   "outputs": [
    {
     "data": {
      "text/plain": [
       "<AxesSubplot:>"
      ]
     },
     "execution_count": 270,
     "metadata": {},
     "output_type": "execute_result"
    },
    {
     "data": {
      "image/png": "[encoded data removed]",
      "text/plain": [
       "<Figure size 432x288 with 1 Axes>"
      ]
     },
     "metadata": {},
     "output_type": "display_data"
    }
   ],
   "source": [
    "df['income'].hist() #graph for income"
   ]
  },
  {
   "cell_type": "code",
   "execution_count": 271,
   "id": "00092383",
   "metadata": {},
   "outputs": [
    {
     "data": {
      "text/plain": [
       "array([[<AxesSubplot:title={'center':'age'}>,\n",
       "        <AxesSubplot:title={'center':'education-num'}>,\n",
       "        <AxesSubplot:title={'center':'capital-gain'}>],\n",
       "       [<AxesSubplot:title={'center':'capital-loss'}>,\n",
       "        <AxesSubplot:title={'center':'hours-per-week'}>,\n",
       "        <AxesSubplot:title={'center':'income'}>],\n",
       "       [<AxesSubplot:>, <AxesSubplot:>, <AxesSubplot:>]], dtype=object)"
      ]
     },
     "execution_count": 271,
     "metadata": {},
     "output_type": "execute_result"
    },
    {
     "data": {
      "image/png": "[encoded data removed]",
      "text/plain": [
       "<Figure size 864x864 with 9 Axes>"
      ]
     },
     "metadata": {},
     "output_type": "display_data"
    }
   ],
   "source": [
    "df.hist(figsize = (12, 12), layout = (3, 3), sharex = False)"
   ]
  },
  {
   "cell_type": "code",
   "execution_count": 272,
   "id": "7d862984",
   "metadata": {},
   "outputs": [
    {
     "data": {
      "image/png": "[encoded data removed]",
      "text/plain": [
       "<Figure size 864x864 with 9 Axes>"
      ]
     },
     "metadata": {},
     "output_type": "display_data"
    }
   ],
   "source": [
    "df.plot(kind='box', figsize=(12,12), layout=(3,3), sharex=False, subplots=True);\n",
    "##checking outliers"
   ]
  },
  {
   "cell_type": "markdown",
   "id": "671d0bf7",
   "metadata": {},
   "source": [
    "                                        #univariate"
   ]
  },
  {
   "cell_type": "code",
   "execution_count": 273,
   "id": "137f3807",
   "metadata": {},
   "outputs": [
    {
     "data": {
      "text/html": [
       "<div>\n",
       "<style scoped>\n",
       "    .dataframe tbody tr th:only-of-type {\n",
       "        vertical-align: middle;\n",
       "    }\n",
       "\n",
       "    .dataframe tbody tr th {\n",
       "        vertical-align: top;\n",
       "    }\n",
       "\n",
       "    .dataframe thead th {\n",
       "        text-align: right;\n",
       "    }\n",
       "</style>\n",
       "<table border=\"1\" class=\"dataframe\">\n",
       "  <thead>\n",
       "    <tr style=\"text-align: right;\">\n",
       "      <th></th>\n",
       "      <th>age</th>\n",
       "      <th>education-num</th>\n",
       "      <th>capital-gain</th>\n",
       "      <th>capital-loss</th>\n",
       "      <th>hours-per-week</th>\n",
       "      <th>income</th>\n",
       "    </tr>\n",
       "  </thead>\n",
       "  <tbody>\n",
       "    <tr>\n",
       "      <th>age</th>\n",
       "      <td>1.000000</td>\n",
       "      <td>0.075006</td>\n",
       "      <td>0.088224</td>\n",
       "      <td>0.063668</td>\n",
       "      <td>0.078374</td>\n",
       "      <td>0.287609</td>\n",
       "    </tr>\n",
       "    <tr>\n",
       "      <th>education-num</th>\n",
       "      <td>0.075006</td>\n",
       "      <td>1.000000</td>\n",
       "      <td>0.138364</td>\n",
       "      <td>0.095234</td>\n",
       "      <td>0.178297</td>\n",
       "      <td>0.384054</td>\n",
       "    </tr>\n",
       "    <tr>\n",
       "      <th>capital-gain</th>\n",
       "      <td>0.088224</td>\n",
       "      <td>0.138364</td>\n",
       "      <td>1.000000</td>\n",
       "      <td>-0.046787</td>\n",
       "      <td>0.088020</td>\n",
       "      <td>0.194228</td>\n",
       "    </tr>\n",
       "    <tr>\n",
       "      <th>capital-loss</th>\n",
       "      <td>0.063668</td>\n",
       "      <td>0.095234</td>\n",
       "      <td>-0.046787</td>\n",
       "      <td>1.000000</td>\n",
       "      <td>0.070141</td>\n",
       "      <td>0.149148</td>\n",
       "    </tr>\n",
       "    <tr>\n",
       "      <th>hours-per-week</th>\n",
       "      <td>0.078374</td>\n",
       "      <td>0.178297</td>\n",
       "      <td>0.088020</td>\n",
       "      <td>0.070141</td>\n",
       "      <td>1.000000</td>\n",
       "      <td>0.266722</td>\n",
       "    </tr>\n",
       "    <tr>\n",
       "      <th>income</th>\n",
       "      <td>0.287609</td>\n",
       "      <td>0.384054</td>\n",
       "      <td>0.194228</td>\n",
       "      <td>0.149148</td>\n",
       "      <td>0.266722</td>\n",
       "      <td>1.000000</td>\n",
       "    </tr>\n",
       "  </tbody>\n",
       "</table>\n",
       "</div>"
      ],
      "text/plain": [
       "                     age  education-num  capital-gain  capital-loss  \\\n",
       "age             1.000000       0.075006      0.088224      0.063668   \n",
       "education-num   0.075006       1.000000      0.138364      0.095234   \n",
       "capital-gain    0.088224       0.138364      1.000000     -0.046787   \n",
       "capital-loss    0.063668       0.095234     -0.046787      1.000000   \n",
       "hours-per-week  0.078374       0.178297      0.088020      0.070141   \n",
       "income          0.287609       0.384054      0.194228      0.149148   \n",
       "\n",
       "                hours-per-week    income  \n",
       "age                   0.078374  0.287609  \n",
       "education-num         0.178297  0.384054  \n",
       "capital-gain          0.088020  0.194228  \n",
       "capital-loss          0.070141  0.149148  \n",
       "hours-per-week        1.000000  0.266722  \n",
       "income                0.266722  1.000000  "
      ]
     },
     "execution_count": 273,
     "metadata": {},
     "output_type": "execute_result"
    }
   ],
   "source": [
    "df.corr() #picking education-num since it has more correlation with income"
   ]
  },
  {
   "cell_type": "code",
   "execution_count": 274,
   "id": "459fb1f0",
   "metadata": {},
   "outputs": [
    {
     "data": {
      "text/html": [
       "<div>\n",
       "<style scoped>\n",
       "    .dataframe tbody tr th:only-of-type {\n",
       "        vertical-align: middle;\n",
       "    }\n",
       "\n",
       "    .dataframe tbody tr th {\n",
       "        vertical-align: top;\n",
       "    }\n",
       "\n",
       "    .dataframe thead th {\n",
       "        text-align: right;\n",
       "    }\n",
       "</style>\n",
       "<table border=\"1\" class=\"dataframe\">\n",
       "  <thead>\n",
       "    <tr style=\"text-align: right;\">\n",
       "      <th></th>\n",
       "      <th>age</th>\n",
       "      <th>income</th>\n",
       "    </tr>\n",
       "  </thead>\n",
       "  <tbody>\n",
       "    <tr>\n",
       "      <th>0</th>\n",
       "      <td>52</td>\n",
       "      <td>1</td>\n",
       "    </tr>\n",
       "    <tr>\n",
       "      <th>1</th>\n",
       "      <td>31</td>\n",
       "      <td>1</td>\n",
       "    </tr>\n",
       "    <tr>\n",
       "      <th>2</th>\n",
       "      <td>42</td>\n",
       "      <td>1</td>\n",
       "    </tr>\n",
       "    <tr>\n",
       "      <th>3</th>\n",
       "      <td>37</td>\n",
       "      <td>1</td>\n",
       "    </tr>\n",
       "    <tr>\n",
       "      <th>4</th>\n",
       "      <td>30</td>\n",
       "      <td>1</td>\n",
       "    </tr>\n",
       "    <tr>\n",
       "      <th>5</th>\n",
       "      <td>40</td>\n",
       "      <td>1</td>\n",
       "    </tr>\n",
       "    <tr>\n",
       "      <th>6</th>\n",
       "      <td>43</td>\n",
       "      <td>1</td>\n",
       "    </tr>\n",
       "    <tr>\n",
       "      <th>7</th>\n",
       "      <td>40</td>\n",
       "      <td>1</td>\n",
       "    </tr>\n",
       "    <tr>\n",
       "      <th>8</th>\n",
       "      <td>56</td>\n",
       "      <td>1</td>\n",
       "    </tr>\n",
       "    <tr>\n",
       "      <th>9</th>\n",
       "      <td>54</td>\n",
       "      <td>1</td>\n",
       "    </tr>\n",
       "  </tbody>\n",
       "</table>\n",
       "</div>"
      ],
      "text/plain": [
       "   age  income\n",
       "0   52       1\n",
       "1   31       1\n",
       "2   42       1\n",
       "3   37       1\n",
       "4   30       1\n",
       "5   40       1\n",
       "6   43       1\n",
       "7   40       1\n",
       "8   56       1\n",
       "9   54       1"
      ]
     },
     "execution_count": 274,
     "metadata": {},
     "output_type": "execute_result"
    }
   ],
   "source": [
    "main_df = df[[\"age\", \"income\"]]\n",
    "main_df.head(10)\n"
   ]
  },
  {
   "cell_type": "code",
   "execution_count": 275,
   "id": "e40df4f3",
   "metadata": {},
   "outputs": [],
   "source": [
    "##age as independent feature\n",
    "msk = np.random.rand(len(main_df)) < 0.8\n",
    "train = main_df[msk]\n",
    "test = main_df[~msk]\n",
    "X_test = test.iloc[:,:-1].values\n",
    "Y_test = test.iloc[:,-1].values\n",
    "Y_pred = naive_bayes_gaussian(train, X=X_test, Y=\"income\")"
   ]
  },
  {
   "cell_type": "code",
   "execution_count": 276,
   "id": "26180fbd",
   "metadata": {},
   "outputs": [
    {
     "name": "stdout",
     "output_type": "stream",
     "text": [
      "Accuracy for limited the numerical features :  0.5877109200891436\n"
     ]
    }
   ],
   "source": [
    "from sklearn.metrics import confusion_matrix, f1_score\n",
    "print(\"Accuracy for limited the numerical features : \", f1_score(Y_test, Y_pred))"
   ]
  },
  {
   "cell_type": "code",
   "execution_count": 277,
   "id": "01395a2b",
   "metadata": {},
   "outputs": [
    {
     "name": "stdout",
     "output_type": "stream",
     "text": [
      "Accuracy for limited the numerical features :  0.584733893557423\n"
     ]
    }
   ],
   "source": [
    "#education-num as feature\n",
    "main_df = df[[\"education-num\", \"income\"]]\n",
    "main_df.head(10)\n",
    "msk = np.random.rand(len(main_df)) < 0.8\n",
    "train = main_df[msk]\n",
    "test = main_df[~msk]\n",
    "X_test = test.iloc[:,:-1].values\n",
    "Y_test = test.iloc[:,-1].values\n",
    "Y_pred = naive_bayes_gaussian(train, X=X_test, Y=\"income\")\n",
    "from sklearn.metrics import confusion_matrix, f1_score\n",
    "print(\"Accuracy for limited the numerical features : \", f1_score(Y_test, Y_pred))"
   ]
  },
  {
   "cell_type": "markdown",
   "id": "76cf61e1",
   "metadata": {},
   "source": [
    "                        #convert categorical data into integers"
   ]
  },
  {
   "cell_type": "code",
   "execution_count": 278,
   "id": "e6f26b8d",
   "metadata": {},
   "outputs": [
    {
     "data": {
      "text/html": [
       "<div>\n",
       "<style scoped>\n",
       "    .dataframe tbody tr th:only-of-type {\n",
       "        vertical-align: middle;\n",
       "    }\n",
       "\n",
       "    .dataframe tbody tr th {\n",
       "        vertical-align: top;\n",
       "    }\n",
       "\n",
       "    .dataframe thead th {\n",
       "        text-align: right;\n",
       "    }\n",
       "</style>\n",
       "<table border=\"1\" class=\"dataframe\">\n",
       "  <thead>\n",
       "    <tr style=\"text-align: right;\">\n",
       "      <th></th>\n",
       "      <th>workclass</th>\n",
       "      <th>education</th>\n",
       "      <th>marital-status</th>\n",
       "      <th>occupation</th>\n",
       "      <th>relationship</th>\n",
       "      <th>race</th>\n",
       "      <th>sex</th>\n",
       "      <th>native-country</th>\n",
       "    </tr>\n",
       "  </thead>\n",
       "  <tbody>\n",
       "    <tr>\n",
       "      <th>0</th>\n",
       "      <td>Self-emp-not-inc</td>\n",
       "      <td>high school</td>\n",
       "      <td>married</td>\n",
       "      <td>Exec-managerial</td>\n",
       "      <td>Husband</td>\n",
       "      <td>White</td>\n",
       "      <td>Male</td>\n",
       "      <td>United-States</td>\n",
       "    </tr>\n",
       "    <tr>\n",
       "      <th>1</th>\n",
       "      <td>Private</td>\n",
       "      <td>grad</td>\n",
       "      <td>not-married</td>\n",
       "      <td>Prof-specialty</td>\n",
       "      <td>Not-in-family</td>\n",
       "      <td>White</td>\n",
       "      <td>Female</td>\n",
       "      <td>United-States</td>\n",
       "    </tr>\n",
       "    <tr>\n",
       "      <th>2</th>\n",
       "      <td>Private</td>\n",
       "      <td>undergrad</td>\n",
       "      <td>married</td>\n",
       "      <td>Exec-managerial</td>\n",
       "      <td>Husband</td>\n",
       "      <td>White</td>\n",
       "      <td>Male</td>\n",
       "      <td>United-States</td>\n",
       "    </tr>\n",
       "    <tr>\n",
       "      <th>3</th>\n",
       "      <td>Private</td>\n",
       "      <td>higher</td>\n",
       "      <td>married</td>\n",
       "      <td>Exec-managerial</td>\n",
       "      <td>Husband</td>\n",
       "      <td>Black</td>\n",
       "      <td>Male</td>\n",
       "      <td>United-States</td>\n",
       "    </tr>\n",
       "    <tr>\n",
       "      <th>4</th>\n",
       "      <td>State-gov</td>\n",
       "      <td>undergrad</td>\n",
       "      <td>married</td>\n",
       "      <td>Prof-specialty</td>\n",
       "      <td>Husband</td>\n",
       "      <td>Asian-Pac-Islander</td>\n",
       "      <td>Male</td>\n",
       "      <td>India</td>\n",
       "    </tr>\n",
       "    <tr>\n",
       "      <th>...</th>\n",
       "      <td>...</td>\n",
       "      <td>...</td>\n",
       "      <td>...</td>\n",
       "      <td>...</td>\n",
       "      <td>...</td>\n",
       "      <td>...</td>\n",
       "      <td>...</td>\n",
       "      <td>...</td>\n",
       "    </tr>\n",
       "    <tr>\n",
       "      <th>17836</th>\n",
       "      <td>Private</td>\n",
       "      <td>school</td>\n",
       "      <td>not-married</td>\n",
       "      <td>Exec-managerial</td>\n",
       "      <td>Own-child</td>\n",
       "      <td>Black</td>\n",
       "      <td>Male</td>\n",
       "      <td>United-States</td>\n",
       "    </tr>\n",
       "    <tr>\n",
       "      <th>17837</th>\n",
       "      <td>Private</td>\n",
       "      <td>high school</td>\n",
       "      <td>not-married</td>\n",
       "      <td>Handlers-cleaners</td>\n",
       "      <td>Own-child</td>\n",
       "      <td>White</td>\n",
       "      <td>Male</td>\n",
       "      <td>United-States</td>\n",
       "    </tr>\n",
       "    <tr>\n",
       "      <th>17838</th>\n",
       "      <td>Private</td>\n",
       "      <td>high school</td>\n",
       "      <td>not-married</td>\n",
       "      <td>Other-service</td>\n",
       "      <td>Other-relative</td>\n",
       "      <td>White</td>\n",
       "      <td>Male</td>\n",
       "      <td>United-States</td>\n",
       "    </tr>\n",
       "    <tr>\n",
       "      <th>17839</th>\n",
       "      <td>Private</td>\n",
       "      <td>school</td>\n",
       "      <td>not-married</td>\n",
       "      <td>Priv-house-serv</td>\n",
       "      <td>Not-in-family</td>\n",
       "      <td>Asian-Pac-Islander</td>\n",
       "      <td>Female</td>\n",
       "      <td>Philippines</td>\n",
       "    </tr>\n",
       "    <tr>\n",
       "      <th>17840</th>\n",
       "      <td>Private</td>\n",
       "      <td>higher</td>\n",
       "      <td>not-married</td>\n",
       "      <td>Other-service</td>\n",
       "      <td>Not-in-family</td>\n",
       "      <td>White</td>\n",
       "      <td>Female</td>\n",
       "      <td>United-States</td>\n",
       "    </tr>\n",
       "  </tbody>\n",
       "</table>\n",
       "<p>17841 rows × 8 columns</p>\n",
       "</div>"
      ],
      "text/plain": [
       "              workclass    education marital-status         occupation  \\\n",
       "0      Self-emp-not-inc  high school        married    Exec-managerial   \n",
       "1               Private         grad    not-married     Prof-specialty   \n",
       "2               Private    undergrad        married    Exec-managerial   \n",
       "3               Private       higher        married    Exec-managerial   \n",
       "4             State-gov    undergrad        married     Prof-specialty   \n",
       "...                 ...          ...            ...                ...   \n",
       "17836           Private       school    not-married    Exec-managerial   \n",
       "17837           Private  high school    not-married  Handlers-cleaners   \n",
       "17838           Private  high school    not-married      Other-service   \n",
       "17839           Private       school    not-married    Priv-house-serv   \n",
       "17840           Private       higher    not-married      Other-service   \n",
       "\n",
       "         relationship                race     sex native-country  \n",
       "0             Husband               White    Male  United-States  \n",
       "1       Not-in-family               White  Female  United-States  \n",
       "2             Husband               White    Male  United-States  \n",
       "3             Husband               Black    Male  United-States  \n",
       "4             Husband  Asian-Pac-Islander    Male          India  \n",
       "...               ...                 ...     ...            ...  \n",
       "17836       Own-child               Black    Male  United-States  \n",
       "17837       Own-child               White    Male  United-States  \n",
       "17838  Other-relative               White    Male  United-States  \n",
       "17839   Not-in-family  Asian-Pac-Islander  Female    Philippines  \n",
       "17840   Not-in-family               White  Female  United-States  \n",
       "\n",
       "[17841 rows x 8 columns]"
      ]
     },
     "execution_count": 278,
     "metadata": {},
     "output_type": "execute_result"
    }
   ],
   "source": [
    "df.select_dtypes(exclude=[\"number\",\"bool_\"])"
   ]
  },
  {
   "cell_type": "code",
   "execution_count": 279,
   "id": "c87063ab",
   "metadata": {},
   "outputs": [],
   "source": [
    "df[\"native-country\"].value_counts()\n",
    "dummies_country = pd.get_dummies(df[\"native-country\"])\n",
    "new_df = pd.concat([df, dummies_country], axis = 'columns')\n",
    "df = new_df"
   ]
  },
  {
   "cell_type": "code",
   "execution_count": 280,
   "id": "08599e97",
   "metadata": {},
   "outputs": [
    {
     "name": "stdout",
     "output_type": "stream",
     "text": [
      "(17841, 51)\n"
     ]
    }
   ],
   "source": [
    "df.drop(['native-country', 'Yugoslavia'], axis=1, inplace=True)\n",
    "print(df.shape)"
   ]
  },
  {
   "cell_type": "code",
   "execution_count": 281,
   "id": "d5a403dd",
   "metadata": {},
   "outputs": [],
   "source": [
    "df.education = df['education'].replace('school', 1)\n",
    "df['education'] = df['education'].replace('higher', 2)\n",
    "df['education'] = df['education'].replace('high school', 3)\n",
    "df['education'] = df['education'].replace('undergrad', 4)\n",
    "df['education'] = df['education'].replace('grad', 5)\n",
    "df['education'] = df['education'].replace('doc', 6)"
   ]
  },
  {
   "cell_type": "code",
   "execution_count": 282,
   "id": "f95eb0f0",
   "metadata": {},
   "outputs": [],
   "source": [
    "dummies_workclass = pd.get_dummies(df[\"workclass\"])\n",
    "new_df = pd.concat([df, dummies_workclass], axis = 'columns')\n",
    "df = new_df"
   ]
  },
  {
   "cell_type": "code",
   "execution_count": 283,
   "id": "d7f0e5bf",
   "metadata": {},
   "outputs": [
    {
     "name": "stdout",
     "output_type": "stream",
     "text": [
      "(17841, 57)\n"
     ]
    }
   ],
   "source": [
    "df.drop(['workclass', 'Private'], axis=1, inplace=True)  #dropping dummy variables\n",
    "print(df.shape)"
   ]
  },
  {
   "cell_type": "code",
   "execution_count": 284,
   "id": "ee65cc61",
   "metadata": {},
   "outputs": [],
   "source": [
    "dummies_occupation = pd.get_dummies(df[\"occupation\"])\n",
    "new_df = pd.concat([df, dummies_occupation], axis = 'columns')\n",
    "df = new_df\n",
    "df.drop(['occupation', 'State-gov'], axis=1, inplace=True)"
   ]
  },
  {
   "cell_type": "code",
   "execution_count": 285,
   "id": "cdc9c263",
   "metadata": {},
   "outputs": [
    {
     "name": "stdout",
     "output_type": "stream",
     "text": [
      "['Male' 'Female']\n"
     ]
    }
   ],
   "source": [
    "#Replacing male with 1 female with 2\n",
    "print(df[\"sex\"].unique())\n",
    "df['sex'] = df['sex'].replace('Male', 1)\n",
    "df['sex'] = df['sex'].replace('Female', 2)"
   ]
  },
  {
   "cell_type": "code",
   "execution_count": 286,
   "id": "7a3ce1ee",
   "metadata": {},
   "outputs": [],
   "source": [
    "dummies_race = pd.get_dummies(df[\"race\"])\n",
    "new_df = pd.concat([df, dummies_race], axis = 'columns')\n",
    "df = new_df\n",
    "df.drop(['race', 'White'], axis=1, inplace=True)"
   ]
  },
  {
   "cell_type": "code",
   "execution_count": 287,
   "id": "ca515299",
   "metadata": {},
   "outputs": [],
   "source": [
    "dummies_martial = pd.get_dummies(df[\"marital-status\"])\n",
    "new_df = pd.concat([df, dummies_martial], axis = 'columns')\n",
    "df = new_df"
   ]
  },
  {
   "cell_type": "code",
   "execution_count": 288,
   "id": "3ae32c5e",
   "metadata": {},
   "outputs": [],
   "source": [
    "df.drop(['marital-status', 'married'], axis=1, inplace=True)"
   ]
  },
  {
   "cell_type": "code",
   "execution_count": 289,
   "id": "e0435c12",
   "metadata": {},
   "outputs": [],
   "source": [
    "df.drop(['relationship'], axis=1, inplace=True)"
   ]
  },
  {
   "cell_type": "code",
   "execution_count": 290,
   "id": "293236cf",
   "metadata": {},
   "outputs": [
    {
     "data": {
      "text/html": [
       "<div>\n",
       "<style scoped>\n",
       "    .dataframe tbody tr th:only-of-type {\n",
       "        vertical-align: middle;\n",
       "    }\n",
       "\n",
       "    .dataframe tbody tr th {\n",
       "        vertical-align: top;\n",
       "    }\n",
       "\n",
       "    .dataframe thead th {\n",
       "        text-align: right;\n",
       "    }\n",
       "</style>\n",
       "<table border=\"1\" class=\"dataframe\">\n",
       "  <thead>\n",
       "    <tr style=\"text-align: right;\">\n",
       "      <th></th>\n",
       "      <th>age</th>\n",
       "      <th>education</th>\n",
       "      <th>education-num</th>\n",
       "      <th>sex</th>\n",
       "      <th>capital-gain</th>\n",
       "      <th>capital-loss</th>\n",
       "      <th>hours-per-week</th>\n",
       "      <th>income</th>\n",
       "      <th>Cambodia</th>\n",
       "      <th>Canada</th>\n",
       "      <th>...</th>\n",
       "      <th>Protective-serv</th>\n",
       "      <th>Sales</th>\n",
       "      <th>Tech-support</th>\n",
       "      <th>Transport-moving</th>\n",
       "      <th>Amer-Indian-Eskimo</th>\n",
       "      <th>Asian-Pac-Islander</th>\n",
       "      <th>Black</th>\n",
       "      <th>Other</th>\n",
       "      <th>not-married</th>\n",
       "      <th>other</th>\n",
       "    </tr>\n",
       "  </thead>\n",
       "  <tbody>\n",
       "    <tr>\n",
       "      <th>age</th>\n",
       "      <td>1.000000</td>\n",
       "      <td>0.119346</td>\n",
       "      <td>0.075006</td>\n",
       "      <td>-0.122290</td>\n",
       "      <td>0.088224</td>\n",
       "      <td>0.063668</td>\n",
       "      <td>0.078374</td>\n",
       "      <td>0.287609</td>\n",
       "      <td>-0.002266</td>\n",
       "      <td>0.009485</td>\n",
       "      <td>...</td>\n",
       "      <td>0.006032</td>\n",
       "      <td>-0.018720</td>\n",
       "      <td>-0.012896</td>\n",
       "      <td>0.016569</td>\n",
       "      <td>-0.021994</td>\n",
       "      <td>-0.007820</td>\n",
       "      <td>-0.036329</td>\n",
       "      <td>-0.036633</td>\n",
       "      <td>-0.511451</td>\n",
       "      <td>0.171829</td>\n",
       "    </tr>\n",
       "    <tr>\n",
       "      <th>education</th>\n",
       "      <td>0.119346</td>\n",
       "      <td>1.000000</td>\n",
       "      <td>0.732212</td>\n",
       "      <td>-0.053289</td>\n",
       "      <td>0.069667</td>\n",
       "      <td>0.077340</td>\n",
       "      <td>0.161644</td>\n",
       "      <td>0.299074</td>\n",
       "      <td>-0.009607</td>\n",
       "      <td>0.011927</td>\n",
       "      <td>...</td>\n",
       "      <td>-0.021687</td>\n",
       "      <td>0.000428</td>\n",
       "      <td>-0.007735</td>\n",
       "      <td>-0.087724</td>\n",
       "      <td>-0.025830</td>\n",
       "      <td>0.045704</td>\n",
       "      <td>-0.067119</td>\n",
       "      <td>-0.039282</td>\n",
       "      <td>-0.102184</td>\n",
       "      <td>-0.057700</td>\n",
       "    </tr>\n",
       "    <tr>\n",
       "      <th>education-num</th>\n",
       "      <td>0.075006</td>\n",
       "      <td>0.732212</td>\n",
       "      <td>1.000000</td>\n",
       "      <td>-0.053460</td>\n",
       "      <td>0.138364</td>\n",
       "      <td>0.095234</td>\n",
       "      <td>0.178297</td>\n",
       "      <td>0.384054</td>\n",
       "      <td>-0.017012</td>\n",
       "      <td>0.012803</td>\n",
       "      <td>...</td>\n",
       "      <td>-0.007063</td>\n",
       "      <td>0.011951</td>\n",
       "      <td>0.039540</td>\n",
       "      <td>-0.137283</td>\n",
       "      <td>-0.032762</td>\n",
       "      <td>0.058991</td>\n",
       "      <td>-0.081218</td>\n",
       "      <td>-0.054144</td>\n",
       "      <td>-0.090308</td>\n",
       "      <td>-0.084250</td>\n",
       "    </tr>\n",
       "    <tr>\n",
       "      <th>sex</th>\n",
       "      <td>-0.122290</td>\n",
       "      <td>-0.053289</td>\n",
       "      <td>-0.053460</td>\n",
       "      <td>1.000000</td>\n",
       "      <td>-0.048916</td>\n",
       "      <td>-0.052879</td>\n",
       "      <td>-0.246749</td>\n",
       "      <td>-0.260733</td>\n",
       "      <td>-0.012354</td>\n",
       "      <td>0.010908</td>\n",
       "      <td>...</td>\n",
       "      <td>-0.063243</td>\n",
       "      <td>-0.002925</td>\n",
       "      <td>-0.003010</td>\n",
       "      <td>-0.116325</td>\n",
       "      <td>0.029679</td>\n",
       "      <td>-0.012317</td>\n",
       "      <td>0.115287</td>\n",
       "      <td>0.018841</td>\n",
       "      <td>0.202776</td>\n",
       "      <td>0.332846</td>\n",
       "    </tr>\n",
       "    <tr>\n",
       "      <th>capital-gain</th>\n",
       "      <td>0.088224</td>\n",
       "      <td>0.069667</td>\n",
       "      <td>0.138364</td>\n",
       "      <td>-0.048916</td>\n",
       "      <td>1.000000</td>\n",
       "      <td>-0.046787</td>\n",
       "      <td>0.088020</td>\n",
       "      <td>0.194228</td>\n",
       "      <td>-0.002188</td>\n",
       "      <td>0.004806</td>\n",
       "      <td>...</td>\n",
       "      <td>-0.013622</td>\n",
       "      <td>0.014427</td>\n",
       "      <td>-0.014543</td>\n",
       "      <td>-0.023824</td>\n",
       "      <td>-0.008123</td>\n",
       "      <td>0.012677</td>\n",
       "      <td>-0.020492</td>\n",
       "      <td>0.000237</td>\n",
       "      <td>-0.065928</td>\n",
       "      <td>-0.025858</td>\n",
       "    </tr>\n",
       "    <tr>\n",
       "      <th>...</th>\n",
       "      <td>...</td>\n",
       "      <td>...</td>\n",
       "      <td>...</td>\n",
       "      <td>...</td>\n",
       "      <td>...</td>\n",
       "      <td>...</td>\n",
       "      <td>...</td>\n",
       "      <td>...</td>\n",
       "      <td>...</td>\n",
       "      <td>...</td>\n",
       "      <td>...</td>\n",
       "      <td>...</td>\n",
       "      <td>...</td>\n",
       "      <td>...</td>\n",
       "      <td>...</td>\n",
       "      <td>...</td>\n",
       "      <td>...</td>\n",
       "      <td>...</td>\n",
       "      <td>...</td>\n",
       "      <td>...</td>\n",
       "      <td>...</td>\n",
       "    </tr>\n",
       "    <tr>\n",
       "      <th>Asian-Pac-Islander</th>\n",
       "      <td>-0.007820</td>\n",
       "      <td>0.045704</td>\n",
       "      <td>0.058991</td>\n",
       "      <td>-0.012317</td>\n",
       "      <td>0.012677</td>\n",
       "      <td>0.000356</td>\n",
       "      <td>-0.003757</td>\n",
       "      <td>0.010832</td>\n",
       "      <td>0.146144</td>\n",
       "      <td>-0.006092</td>\n",
       "      <td>...</td>\n",
       "      <td>-0.012879</td>\n",
       "      <td>-0.011077</td>\n",
       "      <td>0.017252</td>\n",
       "      <td>-0.022722</td>\n",
       "      <td>-0.017298</td>\n",
       "      <td>1.000000</td>\n",
       "      <td>-0.055777</td>\n",
       "      <td>-0.015891</td>\n",
       "      <td>0.002513</td>\n",
       "      <td>-0.026002</td>\n",
       "    </tr>\n",
       "    <tr>\n",
       "      <th>Black</th>\n",
       "      <td>-0.036329</td>\n",
       "      <td>-0.067119</td>\n",
       "      <td>-0.081218</td>\n",
       "      <td>0.115287</td>\n",
       "      <td>-0.020492</td>\n",
       "      <td>-0.021275</td>\n",
       "      <td>-0.060231</td>\n",
       "      <td>-0.109333</td>\n",
       "      <td>-0.008152</td>\n",
       "      <td>-0.018395</td>\n",
       "      <td>...</td>\n",
       "      <td>0.030308</td>\n",
       "      <td>-0.029609</td>\n",
       "      <td>-0.007844</td>\n",
       "      <td>0.004489</td>\n",
       "      <td>-0.028260</td>\n",
       "      <td>-0.055777</td>\n",
       "      <td>1.000000</td>\n",
       "      <td>-0.025963</td>\n",
       "      <td>0.081053</td>\n",
       "      <td>0.078525</td>\n",
       "    </tr>\n",
       "    <tr>\n",
       "      <th>Other</th>\n",
       "      <td>-0.036633</td>\n",
       "      <td>-0.039282</td>\n",
       "      <td>-0.054144</td>\n",
       "      <td>0.018841</td>\n",
       "      <td>0.000237</td>\n",
       "      <td>-0.006030</td>\n",
       "      <td>-0.013319</td>\n",
       "      <td>-0.043088</td>\n",
       "      <td>-0.002322</td>\n",
       "      <td>-0.005241</td>\n",
       "      <td>...</td>\n",
       "      <td>0.004907</td>\n",
       "      <td>-0.008595</td>\n",
       "      <td>-0.003548</td>\n",
       "      <td>-0.001074</td>\n",
       "      <td>-0.008052</td>\n",
       "      <td>-0.015891</td>\n",
       "      <td>-0.025963</td>\n",
       "      <td>1.000000</td>\n",
       "      <td>0.019611</td>\n",
       "      <td>0.011535</td>\n",
       "    </tr>\n",
       "    <tr>\n",
       "      <th>not-married</th>\n",
       "      <td>-0.511451</td>\n",
       "      <td>-0.102184</td>\n",
       "      <td>-0.090308</td>\n",
       "      <td>0.202776</td>\n",
       "      <td>-0.065928</td>\n",
       "      <td>-0.064591</td>\n",
       "      <td>-0.203652</td>\n",
       "      <td>-0.396785</td>\n",
       "      <td>-0.001734</td>\n",
       "      <td>-0.006507</td>\n",
       "      <td>...</td>\n",
       "      <td>-0.032408</td>\n",
       "      <td>0.012924</td>\n",
       "      <td>0.001313</td>\n",
       "      <td>-0.042267</td>\n",
       "      <td>0.014989</td>\n",
       "      <td>0.002513</td>\n",
       "      <td>0.081053</td>\n",
       "      <td>0.019611</td>\n",
       "      <td>1.000000</td>\n",
       "      <td>-0.274795</td>\n",
       "    </tr>\n",
       "    <tr>\n",
       "      <th>other</th>\n",
       "      <td>0.171829</td>\n",
       "      <td>-0.057700</td>\n",
       "      <td>-0.084250</td>\n",
       "      <td>0.332846</td>\n",
       "      <td>-0.025858</td>\n",
       "      <td>-0.040183</td>\n",
       "      <td>-0.045619</td>\n",
       "      <td>-0.220265</td>\n",
       "      <td>-0.007121</td>\n",
       "      <td>-0.004180</td>\n",
       "      <td>...</td>\n",
       "      <td>-0.010170</td>\n",
       "      <td>-0.020486</td>\n",
       "      <td>-0.005947</td>\n",
       "      <td>-0.023716</td>\n",
       "      <td>0.018091</td>\n",
       "      <td>-0.026002</td>\n",
       "      <td>0.078525</td>\n",
       "      <td>0.011535</td>\n",
       "      <td>-0.274795</td>\n",
       "      <td>1.000000</td>\n",
       "    </tr>\n",
       "  </tbody>\n",
       "</table>\n",
       "<p>72 rows × 72 columns</p>\n",
       "</div>"
      ],
      "text/plain": [
       "                         age  education  education-num       sex  \\\n",
       "age                 1.000000   0.119346       0.075006 -0.122290   \n",
       "education           0.119346   1.000000       0.732212 -0.053289   \n",
       "education-num       0.075006   0.732212       1.000000 -0.053460   \n",
       "sex                -0.122290  -0.053289      -0.053460  1.000000   \n",
       "capital-gain        0.088224   0.069667       0.138364 -0.048916   \n",
       "...                      ...        ...            ...       ...   \n",
       "Asian-Pac-Islander -0.007820   0.045704       0.058991 -0.012317   \n",
       "Black              -0.036329  -0.067119      -0.081218  0.115287   \n",
       "Other              -0.036633  -0.039282      -0.054144  0.018841   \n",
       "not-married        -0.511451  -0.102184      -0.090308  0.202776   \n",
       "other               0.171829  -0.057700      -0.084250  0.332846   \n",
       "\n",
       "                    capital-gain  capital-loss  hours-per-week    income  \\\n",
       "age                     0.088224      0.063668        0.078374  0.287609   \n",
       "education               0.069667      0.077340        0.161644  0.299074   \n",
       "education-num           0.138364      0.095234        0.178297  0.384054   \n",
       "sex                    -0.048916     -0.052879       -0.246749 -0.260733   \n",
       "capital-gain            1.000000     -0.046787        0.088020  0.194228   \n",
       "...                          ...           ...             ...       ...   \n",
       "Asian-Pac-Islander      0.012677      0.000356       -0.003757  0.010832   \n",
       "Black                  -0.020492     -0.021275       -0.060231 -0.109333   \n",
       "Other                   0.000237     -0.006030       -0.013319 -0.043088   \n",
       "not-married            -0.065928     -0.064591       -0.203652 -0.396785   \n",
       "other                  -0.025858     -0.040183       -0.045619 -0.220265   \n",
       "\n",
       "                    Cambodia    Canada  ...  Protective-serv     Sales  \\\n",
       "age                -0.002266  0.009485  ...         0.006032 -0.018720   \n",
       "education          -0.009607  0.011927  ...        -0.021687  0.000428   \n",
       "education-num      -0.017012  0.012803  ...        -0.007063  0.011951   \n",
       "sex                -0.012354  0.010908  ...        -0.063243 -0.002925   \n",
       "capital-gain       -0.002188  0.004806  ...        -0.013622  0.014427   \n",
       "...                      ...       ...  ...              ...       ...   \n",
       "Asian-Pac-Islander  0.146144 -0.006092  ...        -0.012879 -0.011077   \n",
       "Black              -0.008152 -0.018395  ...         0.030308 -0.029609   \n",
       "Other              -0.002322 -0.005241  ...         0.004907 -0.008595   \n",
       "not-married        -0.001734 -0.006507  ...        -0.032408  0.012924   \n",
       "other              -0.007121 -0.004180  ...        -0.010170 -0.020486   \n",
       "\n",
       "                    Tech-support  Transport-moving  Amer-Indian-Eskimo  \\\n",
       "age                    -0.012896          0.016569           -0.021994   \n",
       "education              -0.007735         -0.087724           -0.025830   \n",
       "education-num           0.039540         -0.137283           -0.032762   \n",
       "sex                    -0.003010         -0.116325            0.029679   \n",
       "capital-gain           -0.014543         -0.023824           -0.008123   \n",
       "...                          ...               ...                 ...   \n",
       "Asian-Pac-Islander      0.017252         -0.022722           -0.017298   \n",
       "Black                  -0.007844          0.004489           -0.028260   \n",
       "Other                  -0.003548         -0.001074           -0.008052   \n",
       "not-married             0.001313         -0.042267            0.014989   \n",
       "other                  -0.005947         -0.023716            0.018091   \n",
       "\n",
       "                    Asian-Pac-Islander     Black     Other  not-married  \\\n",
       "age                          -0.007820 -0.036329 -0.036633    -0.511451   \n",
       "education                     0.045704 -0.067119 -0.039282    -0.102184   \n",
       "education-num                 0.058991 -0.081218 -0.054144    -0.090308   \n",
       "sex                          -0.012317  0.115287  0.018841     0.202776   \n",
       "capital-gain                  0.012677 -0.020492  0.000237    -0.065928   \n",
       "...                                ...       ...       ...          ...   \n",
       "Asian-Pac-Islander            1.000000 -0.055777 -0.015891     0.002513   \n",
       "Black                        -0.055777  1.000000 -0.025963     0.081053   \n",
       "Other                        -0.015891 -0.025963  1.000000     0.019611   \n",
       "not-married                   0.002513  0.081053  0.019611     1.000000   \n",
       "other                        -0.026002  0.078525  0.011535    -0.274795   \n",
       "\n",
       "                       other  \n",
       "age                 0.171829  \n",
       "education          -0.057700  \n",
       "education-num      -0.084250  \n",
       "sex                 0.332846  \n",
       "capital-gain       -0.025858  \n",
       "...                      ...  \n",
       "Asian-Pac-Islander -0.026002  \n",
       "Black               0.078525  \n",
       "Other               0.011535  \n",
       "not-married        -0.274795  \n",
       "other               1.000000  \n",
       "\n",
       "[72 rows x 72 columns]"
      ]
     },
     "execution_count": 290,
     "metadata": {},
     "output_type": "execute_result"
    }
   ],
   "source": [
    "df.corr()[:]"
   ]
  },
  {
   "cell_type": "code",
   "execution_count": 291,
   "id": "7b6f9aa0",
   "metadata": {},
   "outputs": [
    {
     "name": "stderr",
     "output_type": "stream",
     "text": [
      "/home/prudhvi/anaconda3/lib/python3.8/site-packages/seaborn/matrix.py:298: MatplotlibDeprecationWarning: Case-insensitive properties were deprecated in 3.3 and support will be removed two minor releases later\n",
      "  mesh = ax.pcolormesh(self.plot_data, cmap=self.cmap, **kws)\n"
     ]
    },
    {
     "data": {
      "text/plain": [
       "<AxesSubplot:>"
      ]
     },
     "execution_count": 291,
     "metadata": {},
     "output_type": "execute_result"
    },
    {
     "data": {
      "image/png": "[encoded data removed]",
      "text/plain": [
       "<Figure size 432x288 with 2 Axes>"
      ]
     },
     "metadata": {},
     "output_type": "display_data"
    }
   ],
   "source": [
    "corr = df.iloc[:,:-1].corr(method = \"pearson\")\n",
    "cmap = sns.diverging_palette(250, 354, 80, 60, center = \"dark\", as_cmap = True)\n",
    "sns.heatmap(corr, vmax = 1, vmin = 0.5, cmap = cmap, square = True, Linewidths = .2)\n",
    "\n",
    "#based on the heat map none of the features are dependent on each other"
   ]
  },
  {
   "cell_type": "code",
   "execution_count": 292,
   "id": "6d4e49d7",
   "metadata": {},
   "outputs": [],
   "source": [
    "                        #combination of features(multi variate)"
   ]
  },
  {
   "cell_type": "code",
   "execution_count": 297,
   "id": "23675cd2",
   "metadata": {},
   "outputs": [
    {
     "data": {
      "text/html": [
       "<div>\n",
       "<style scoped>\n",
       "    .dataframe tbody tr th:only-of-type {\n",
       "        vertical-align: middle;\n",
       "    }\n",
       "\n",
       "    .dataframe tbody tr th {\n",
       "        vertical-align: top;\n",
       "    }\n",
       "\n",
       "    .dataframe thead th {\n",
       "        text-align: right;\n",
       "    }\n",
       "</style>\n",
       "<table border=\"1\" class=\"dataframe\">\n",
       "  <thead>\n",
       "    <tr style=\"text-align: right;\">\n",
       "      <th></th>\n",
       "      <th>age</th>\n",
       "      <th>income</th>\n",
       "    </tr>\n",
       "  </thead>\n",
       "  <tbody>\n",
       "    <tr>\n",
       "      <th>0</th>\n",
       "      <td>52</td>\n",
       "      <td>1</td>\n",
       "    </tr>\n",
       "    <tr>\n",
       "      <th>1</th>\n",
       "      <td>31</td>\n",
       "      <td>1</td>\n",
       "    </tr>\n",
       "    <tr>\n",
       "      <th>2</th>\n",
       "      <td>42</td>\n",
       "      <td>1</td>\n",
       "    </tr>\n",
       "    <tr>\n",
       "      <th>3</th>\n",
       "      <td>37</td>\n",
       "      <td>1</td>\n",
       "    </tr>\n",
       "    <tr>\n",
       "      <th>4</th>\n",
       "      <td>30</td>\n",
       "      <td>1</td>\n",
       "    </tr>\n",
       "    <tr>\n",
       "      <th>5</th>\n",
       "      <td>40</td>\n",
       "      <td>1</td>\n",
       "    </tr>\n",
       "    <tr>\n",
       "      <th>6</th>\n",
       "      <td>43</td>\n",
       "      <td>1</td>\n",
       "    </tr>\n",
       "    <tr>\n",
       "      <th>7</th>\n",
       "      <td>40</td>\n",
       "      <td>1</td>\n",
       "    </tr>\n",
       "    <tr>\n",
       "      <th>8</th>\n",
       "      <td>56</td>\n",
       "      <td>1</td>\n",
       "    </tr>\n",
       "    <tr>\n",
       "      <th>9</th>\n",
       "      <td>54</td>\n",
       "      <td>1</td>\n",
       "    </tr>\n",
       "  </tbody>\n",
       "</table>\n",
       "</div>"
      ],
      "text/plain": [
       "   age  income\n",
       "0   52       1\n",
       "1   31       1\n",
       "2   42       1\n",
       "3   37       1\n",
       "4   30       1\n",
       "5   40       1\n",
       "6   43       1\n",
       "7   40       1\n",
       "8   56       1\n",
       "9   54       1"
      ]
     },
     "execution_count": 297,
     "metadata": {},
     "output_type": "execute_result"
    }
   ],
   "source": [
    "main_df = df[[\"age\", \"income\"]]\n",
    "main_df.head(10)#here education and education-num has high correlation. so drop one of them"
   ]
  },
  {
   "cell_type": "code",
   "execution_count": 295,
   "id": "35640bd9",
   "metadata": {},
   "outputs": [],
   "source": [
    "msk = np.random.rand(len(main_df)) < 0.8\n",
    "train = main_df[msk]\n",
    "test = main_df[~msk]\n",
    "X_test = test.iloc[:,:-1].values\n",
    "Y_test = test.iloc[:,-1].values\n",
    "Y_pred = naive_bayes_gaussian(train, X=X_test, Y=\"income\")"
   ]
  },
  {
   "cell_type": "code",
   "execution_count": 296,
   "id": "7b07a105",
   "metadata": {},
   "outputs": [
    {
     "name": "stdout",
     "output_type": "stream",
     "text": [
      "Accuracy for limited the numerical features :  0.599367088607595\n"
     ]
    }
   ],
   "source": [
    "from sklearn.metrics import confusion_matrix, f1_score\n",
    "print(\"Accuracy for limited the numerical features : \", f1_score(Y_test, Y_pred))"
   ]
  },
  {
   "cell_type": "code",
   "execution_count": null,
   "id": "16ca11ae",
   "metadata": {},
   "outputs": [],
   "source": []
  }
 ],
 "metadata": {
  "kernelspec": {
   "display_name": "Python 3",
   "language": "python",
   "name": "python3"
  },
  "language_info": {
   "codemirror_mode": {
    "name": "ipython",
    "version": 3
   },
   "file_extension": ".py",
   "mimetype": "text/x-python",
   "name": "python",
   "nbconvert_exporter": "python",
   "pygments_lexer": "ipython3",
   "version": "3.8.8"
  }
 },
 "nbformat": 4,
 "nbformat_minor": 5
}
